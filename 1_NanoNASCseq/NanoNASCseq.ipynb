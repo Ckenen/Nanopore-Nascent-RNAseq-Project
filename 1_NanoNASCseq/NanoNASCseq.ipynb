{
 "cells": [
  {
   "cell_type": "code",
   "execution_count": 2,
   "id": "4baffc1f",
   "metadata": {
    "ExecuteTime": {
     "end_time": "2024-03-10T06:54:42.725017Z",
     "start_time": "2024-03-10T06:54:36.809932Z"
    },
    "execution": {
     "iopub.execute_input": "2024-04-06T08:09:50.237371Z",
     "iopub.status.busy": "2024-04-06T08:09:50.236879Z",
     "iopub.status.idle": "2024-04-06T08:10:16.664666Z",
     "shell.execute_reply": "2024-04-06T08:10:16.664183Z",
     "shell.execute_reply.started": "2024-04-06T08:09:50.237353Z"
    }
   },
   "outputs": [],
   "source": [
    "import os\n",
    "import sys\n",
    "import glob\n",
    "import gzip\n",
    "import psutil\n",
    "import shutil\n",
    "from collections import OrderedDict, defaultdict, Counter\n",
    "import multiprocessing as mp\n",
    "import numpy as np\n",
    "import pandas as pd\n",
    "import matplotlib.pyplot as plt\n",
    "import seaborn as sns\n",
    "import pysam\n",
    "from pyBioInfo.Range import GRange\n",
    "from pyBioInfo.IO.File import BamFile, FastaFile, GtfFile, GtfTranscriptBuilder, BedFile\n",
    "from pyBioInfo.Utils import BlockTools, ShiftLoader, SegmentTools"
   ]
  },
  {
   "cell_type": "code",
   "execution_count": 48,
   "id": "a76bfe67-7fed-4a53-bc32-1d62a2be7709",
   "metadata": {
    "execution": {
     "iopub.execute_input": "2024-03-26T05:30:10.351122Z",
     "iopub.status.busy": "2024-03-26T05:30:10.319635Z",
     "iopub.status.idle": "2024-03-26T05:30:16.899047Z",
     "shell.execute_reply": "2024-03-26T05:30:16.898544Z",
     "shell.execute_reply.started": "2024-03-26T05:30:10.351096Z"
    }
   },
   "outputs": [
    {
     "name": "stdout",
     "output_type": "stream",
     "text": [
      "4555\n"
     ]
    }
   ],
   "source": [
    "infile = \"data/NanoNASCseq_All.xlsx\"\n",
    "outfile = \"data/NanoNASCseq.xlsx\"\n",
    "\n",
    "d = pd.read_excel(infile)\n",
    "d = d[d[\"Run\"] != \"20220130_Cell8\"] # R9.4\n",
    "d = d[d[\"Run\"] != \"20220316_Cell40\"]\n",
    "d = d[d[\"Run\"] != \"20220413_Cell26\"]\n",
    "d = d[d[\"Run\"] != \"20220506_Cell25\"]\n",
    "d = d[d[\"Run\"] != \"20220520_Cell16\"]\n",
    "d = d[d[\"Run\"] != \"20220525_Run1\"]\n",
    "d = d[d[\"Run\"] != \"20220525_Run2\"]\n",
    "d = d[d[\"Run\"] != \"20220601_Cell22\"]\n",
    "d = d[d[\"Run\"] != \"20220607_Cell40\"]\n",
    "d = d[d[\"Run\"] != \"20220615_Cell68\"]\n",
    "d = d[d[\"Run\"] != \"20220621_R10Test\"] # Library structure\n",
    "\n",
    "d = d[d[\"Run\"] != \"20220719_Embryo\"] # Without blastocyst cells\n",
    "d = d[d[\"Run\"] != \"20220729_Embryo\"] # R9.4\n",
    "d = d[d[\"Run\"] != \"20221019_Blastocyst\"] # Bad chip\n",
    "d = d[d[\"Run\"] != \"20220912_HumanBlastR1\"]\n",
    "d = d[d[\"Run\"] != \"20220912_HumanBlastR2\"]\n",
    "\n",
    "d = d[d[\"Run\"] != \"20220818_mESCR3\"] # R10.4.1\n",
    "d = d[d[\"Run\"] != \"20220818_mESCR3M\"] # Merged\n",
    "d = d[d[\"Run\"] != \"20220902_Blastocyst\"]\n",
    "d = d[d[\"Run\"] != \"20220902_BlastocystM\"]\n",
    "d = d[d[\"Run\"] != \"20220903_Blastocyst\"]\n",
    "d = d[d[\"Run\"] != \"20220903_BlastocystM\"]\n",
    "\n",
    "d.to_excel(outfile, index=False)\n",
    "print(len(d))"
   ]
  },
  {
   "cell_type": "markdown",
   "id": "55845144",
   "metadata": {
    "heading_collapsed": true
   },
   "source": [
    "# 1. Report summary of datasets"
   ]
  },
  {
   "cell_type": "code",
   "execution_count": 52,
   "id": "f3de2194-5222-41b1-ba05-70b42bc422c2",
   "metadata": {
    "execution": {
     "iopub.execute_input": "2024-03-26T05:56:50.261462Z",
     "iopub.status.busy": "2024-03-26T05:56:50.261051Z",
     "iopub.status.idle": "2024-03-26T05:56:50.264747Z",
     "shell.execute_reply": "2024-03-26T05:56:50.264310Z",
     "shell.execute_reply.started": "2024-03-26T05:56:50.261440Z"
    }
   },
   "outputs": [],
   "source": [
    "discarded_runs = [\n",
    "    # R9.4 and test library structure\n",
    "    \"20220130_Cell8\",\n",
    "    \"20220316_Cell40\",\n",
    "    \"20220413_Cell26\",\n",
    "    \"20220506_Cell25\",\n",
    "    \"20220520_Cell16\",\n",
    "    \"20220525_Run1\",\n",
    "    \"20220525_Run2\",\n",
    "    \"20220601_Cell22\",\n",
    "    \"20220607_Cell40\",\n",
    "    \"20220615_Cell68\",\n",
    "\n",
    "    # test library structure\n",
    "    \"20220621_R10Test\",\n",
    "\n",
    "    # without blastocyst cell\n",
    "    \"20220719_Embryo\",\n",
    "\n",
    "    # R9.4\n",
    "    \"20220729_Embryo\",\n",
    "\n",
    "    # bad chip\n",
    "    \"20221019_Blastocyst\",\n",
    "\n",
    "    # human blastocyst\n",
    "    \"20220912_HumanBlastR1\",\n",
    "    \"20220912_HumanBlastR2\",\n",
    "\n",
    "    # others\n",
    "    \"20220818_mESCR3\",\n",
    "    \"20220818_mESCR3M\",\n",
    "    \"20220902_Blastocyst\",\n",
    "    \"20220902_BlastocystM\",\n",
    "    \"20220903_Blastocyst\",\n",
    "    \"20220903_BlastocystM\"\n",
    "]"
   ]
  },
  {
   "cell_type": "markdown",
   "id": "6eaa6aff-a299-4cfa-8082-4e96aa04d625",
   "metadata": {},
   "source": [
    "## 1. make data/NanoNASCseq.xlsx"
   ]
  },
  {
   "cell_type": "code",
   "execution_count": 55,
   "id": "8cb7f735-5ca7-46e4-9e4d-1b4ae48e8a1f",
   "metadata": {
    "execution": {
     "iopub.execute_input": "2024-03-26T06:02:53.818136Z",
     "iopub.status.busy": "2024-03-26T06:02:53.800396Z",
     "iopub.status.idle": "2024-03-26T06:02:59.614089Z",
     "shell.execute_reply": "2024-03-26T06:02:59.613500Z",
     "shell.execute_reply.started": "2024-03-26T06:02:53.818109Z"
    }
   },
   "outputs": [
    {
     "name": "stdout",
     "output_type": "stream",
     "text": [
      "Input cells: 5569\n",
      "Output cells: 4555\n"
     ]
    }
   ],
   "source": [
    "d = pd.read_excel(\"data/NanoNASCseq_All.xlsx\")\n",
    "print(\"Input cells:\", len(d))\n",
    "for run in discarded_runs:\n",
    "    d = d[d[\"Run\"] != run]\n",
    "d.to_excel(\"data/NanoNASCseq.xlsx\", index=False)\n",
    "print(\"Output cells:\", len(d))"
   ]
  },
  {
   "cell_type": "markdown",
   "id": "537eb0f9-de00-45fb-a37f-83013f28c515",
   "metadata": {},
   "source": [
    "## 2. make data/NanoNASCseq_All_Summary.xlsx"
   ]
  },
  {
   "cell_type": "code",
   "execution_count": 56,
   "id": "018bbdd4",
   "metadata": {
    "ExecuteTime": {
     "end_time": "2024-03-10T06:54:42.733014Z",
     "start_time": "2024-03-10T06:54:42.728905Z"
    },
    "execution": {
     "iopub.execute_input": "2024-03-26T06:02:59.615356Z",
     "iopub.status.busy": "2024-03-26T06:02:59.615042Z",
     "iopub.status.idle": "2024-03-26T06:03:00.344268Z",
     "shell.execute_reply": "2024-03-26T06:03:00.343767Z",
     "shell.execute_reply.started": "2024-03-26T06:02:59.615338Z"
    },
    "hidden": true
   },
   "outputs": [],
   "source": [
    "def divide(a, b):\n",
    "    return None if (b is None or b == 0) else a / b\n",
    "dat = pd.read_excel(\"data/NanoNASCseq_All.xlsx\")"
   ]
  },
  {
   "cell_type": "code",
   "execution_count": 57,
   "id": "39f17246",
   "metadata": {
    "ExecuteTime": {
     "end_time": "2024-03-09T12:17:12.501245Z",
     "start_time": "2024-03-09T12:16:54.772432Z"
    },
    "execution": {
     "iopub.execute_input": "2024-03-26T06:03:00.345182Z",
     "iopub.status.busy": "2024-03-26T06:03:00.344984Z",
     "iopub.status.idle": "2024-03-26T06:05:01.221113Z",
     "shell.execute_reply": "2024-03-26T06:05:01.202488Z",
     "shell.execute_reply.started": "2024-03-26T06:03:00.345165Z"
    },
    "hidden": true
   },
   "outputs": [],
   "source": [
    "# Cell reads and trimmed reads\n",
    "cell_reads_list = []\n",
    "trim_reads_list = []\n",
    "for run, cell in dat[[\"Run\", \"Cell\"]].values:\n",
    "    cell_reads = np.nan\n",
    "    trim_reads = np.nan\n",
    "    path = \"results/demux/trimmed/%s/%s/stats.tsv\" % (run, cell)\n",
    "    if os.path.exists(path):\n",
    "        df = pd.read_csv(path, sep=\"\\t\")\n",
    "        cell_reads = df[\"Total\"].values[0]\n",
    "        trim_reads = df[\"Pass\"].values[0]\n",
    "    cell_reads_list.append(cell_reads)\n",
    "    trim_reads_list.append(trim_reads)\n",
    "dat[\"Cell.Reads\"] = cell_reads_list\n",
    "dat[\"Trimmed.Reads\"] = trim_reads_list\n",
    "dat[\"Trimmed.Ratio\"] = dat[\"Trimmed.Reads\"] / dat[\"Cell.Reads\"]"
   ]
  },
  {
   "cell_type": "code",
   "execution_count": 58,
   "id": "df29a1a7",
   "metadata": {
    "ExecuteTime": {
     "end_time": "2024-03-09T12:19:06.340183Z",
     "start_time": "2024-03-09T12:18:45.132718Z"
    },
    "execution": {
     "iopub.execute_input": "2024-03-26T06:05:01.517901Z",
     "iopub.status.busy": "2024-03-26T06:05:01.425872Z",
     "iopub.status.idle": "2024-03-26T06:06:55.392385Z",
     "shell.execute_reply": "2024-03-26T06:06:55.384337Z",
     "shell.execute_reply.started": "2024-03-26T06:05:01.517869Z"
    },
    "hidden": true
   },
   "outputs": [],
   "source": [
    "# Mapped reads\n",
    "mapped_reads_list = []\n",
    "for run, cell in dat[[\"Run\", \"Cell\"]].values:\n",
    "    mapped_reads = np.nan\n",
    "    path = \"results/mapping/minimap2/%s/%s.flagstat\" % (run, cell)\n",
    "    if os.path.exists(path):\n",
    "        mapped_reads = int(open(path).readlines()[7].split()[0])\n",
    "    mapped_reads_list.append(mapped_reads)\n",
    "dat[\"Mapped.Reads\"] = mapped_reads_list\n",
    "dat[\"Mapped.Ratio\"] = dat[\"Mapped.Reads\"] / dat[\"Trimmed.Reads\"]"
   ]
  },
  {
   "cell_type": "code",
   "execution_count": 59,
   "id": "080bcfb3",
   "metadata": {
    "ExecuteTime": {
     "end_time": "2024-03-09T12:19:52.266133Z",
     "start_time": "2024-03-09T12:19:19.506895Z"
    },
    "execution": {
     "iopub.execute_input": "2024-03-26T06:06:55.481673Z",
     "iopub.status.busy": "2024-03-26T06:06:55.481037Z",
     "iopub.status.idle": "2024-03-26T06:08:17.446100Z",
     "shell.execute_reply": "2024-03-26T06:08:17.436776Z",
     "shell.execute_reply.started": "2024-03-26T06:06:55.481654Z"
    },
    "hidden": true
   },
   "outputs": [],
   "source": [
    "# Mitochondrion reads ratio\n",
    "mito_ratio_list = []\n",
    "for run, cell in dat[[\"Run\", \"Cell\"]].values:\n",
    "    mito_ratio = np.nan\n",
    "    path = \"results/mapping/chrom_reads/%s/%s.tsv\" % (run, cell)\n",
    "    if os.path.exists(path):\n",
    "        try:\n",
    "            v1, v2 = 0, 0\n",
    "            for line in open(path):\n",
    "                chrom, count = line.strip(\"\\n\").split(\"\\t\")\n",
    "                count = int(count)\n",
    "                v1 += count\n",
    "                if chrom == \"chrM\":\n",
    "                    v2 = count\n",
    "            mito_ratio = divide(v2, v1)\n",
    "        except ValueError:\n",
    "            print(path)\n",
    "    mito_ratio_list.append(mito_ratio)\n",
    "dat[\"Mito.Ratio\"] = mito_ratio_list"
   ]
  },
  {
   "cell_type": "code",
   "execution_count": 60,
   "id": "f5cf6545",
   "metadata": {
    "ExecuteTime": {
     "end_time": "2024-03-09T12:21:09.105871Z",
     "start_time": "2024-03-09T12:20:36.007612Z"
    },
    "execution": {
     "iopub.execute_input": "2024-03-26T06:08:17.490668Z",
     "iopub.status.busy": "2024-03-26T06:08:17.489910Z",
     "iopub.status.idle": "2024-03-26T06:10:07.438647Z",
     "shell.execute_reply": "2024-03-26T06:10:07.140865Z",
     "shell.execute_reply.started": "2024-03-26T06:08:17.490640Z"
    },
    "hidden": true
   },
   "outputs": [],
   "source": [
    "# Filtered reads\n",
    "filtered_reads_list = []\n",
    "filtered_clip_reads_list = []\n",
    "for run, cell in dat[[\"Run\", \"Cell\"]].values:\n",
    "    filtered_reads = np.nan\n",
    "    filtered_clip_reads = np.nan\n",
    "    path = \"results/mapping/stat_clip/%s/%s.log\" % (run, cell)\n",
    "    if os.path.exists(path):\n",
    "        lines = open(path).readlines()\n",
    "        for i, line in enumerate(lines):\n",
    "            if line.startswith(\"Input\"):\n",
    "                v1, v2 = lines[i + 1].split(\"\\t\")[:2]\n",
    "                filtered_reads = int(v1)\n",
    "                filtered_clip_reads = int(v2)\n",
    "                break\n",
    "    filtered_reads_list.append(filtered_reads)\n",
    "    filtered_clip_reads_list.append(filtered_clip_reads)\n",
    "dat[\"Filtered.Reads\"] = filtered_reads_list\n",
    "dat[\"Filtered.Ratio\"] = dat[\"Filtered.Reads\"] / dat[\"Mapped.Reads\"]\n",
    "dat[\"FilteredClip.Reads\"] = filtered_clip_reads_list\n",
    "dat[\"FilteredClip.Ratio\"] = dat[\"FilteredClip.Reads\"] / dat[\"Filtered.Reads\"]"
   ]
  },
  {
   "cell_type": "code",
   "execution_count": 61,
   "id": "4a251a99",
   "metadata": {
    "ExecuteTime": {
     "end_time": "2024-03-09T12:27:48.390840Z",
     "start_time": "2024-03-09T12:21:32.097553Z"
    },
    "execution": {
     "iopub.execute_input": "2024-03-26T06:10:07.517725Z",
     "iopub.status.busy": "2024-03-26T06:10:07.516756Z",
     "iopub.status.idle": "2024-03-26T06:16:21.328748Z",
     "shell.execute_reply": "2024-03-26T06:16:21.327877Z",
     "shell.execute_reply.started": "2024-03-26T06:10:07.517681Z"
    },
    "hidden": true
   },
   "outputs": [],
   "source": [
    "# Duplicate reads\n",
    "umis1_list = []\n",
    "umis2_list = []\n",
    "for run, cell in dat[[\"Run\", \"Cell\"]].values:\n",
    "    path = \"results/mapping/mark_duplicate/%s/%s.tsv\" % (run, cell)\n",
    "    umis1 = np.nan\n",
    "    umis2 = np.nan\n",
    "    if os.path.exists(path):\n",
    "        d1 = pd.read_csv(path, sep=\"\\t\", header=0)\n",
    "        umis1 = len(d1)\n",
    "        umis2 = len(d1[d1[\"AllSize\"] >= 2])\n",
    "    umis1_list.append(umis1)\n",
    "    umis2_list.append(umis2)\n",
    "dat[\"UMIs\"] = umis1_list\n",
    "dat[\"UMIs.2Reads\"] = umis2_list\n",
    "dat[\"Duplicate.Reads\"] = dat[\"FilteredClip.Reads\"] - dat[\"UMIs\"]\n",
    "dat[\"Duplicate.Ratio\"] = dat[\"Duplicate.Reads\"] / dat[\"FilteredClip.Reads\"]\n",
    "dat[\"Unique.Reads\"] = dat[\"UMIs\"]"
   ]
  },
  {
   "cell_type": "code",
   "execution_count": 62,
   "id": "40fd4fd8",
   "metadata": {
    "ExecuteTime": {
     "end_time": "2023-12-20T16:24:27.459333Z",
     "start_time": "2023-12-20T16:23:42.992719Z"
    },
    "execution": {
     "iopub.execute_input": "2024-03-26T06:16:21.369881Z",
     "iopub.status.busy": "2024-03-26T06:16:21.369513Z",
     "iopub.status.idle": "2024-03-26T06:18:43.946464Z",
     "shell.execute_reply": "2024-03-26T06:18:43.929243Z",
     "shell.execute_reply.started": "2024-03-26T06:16:21.369861Z"
    },
    "hidden": true
   },
   "outputs": [],
   "source": [
    "# Detected genes\n",
    "genes_list = []\n",
    "for run, cell in dat[[\"Run\", \"Cell\"]].values:\n",
    "    genes = np.nan\n",
    "    path = \"results/expression/quant_genes/min_read_1_min_tc_1/%s/%s.tsv\" % (run, cell)\n",
    "    if os.path.exists(path):\n",
    "        d = pd.read_csv(path, sep=\"\\t\", header=0, index_col=0)\n",
    "        d = d[d[\"Total\"] > 0]\n",
    "        genes = len(set(filter(lambda x: \"_\" not in x, d.index)))\n",
    "    genes_list.append(genes)\n",
    "dat[\"Genes\"] = genes_list"
   ]
  },
  {
   "cell_type": "code",
   "execution_count": 63,
   "id": "99ca014b",
   "metadata": {
    "ExecuteTime": {
     "end_time": "2024-03-10T06:57:48.552646Z",
     "start_time": "2024-03-10T06:57:47.924366Z"
    },
    "execution": {
     "iopub.execute_input": "2024-03-26T06:18:44.070703Z",
     "iopub.status.busy": "2024-03-26T06:18:44.070444Z",
     "iopub.status.idle": "2024-03-26T06:20:12.117102Z",
     "shell.execute_reply": "2024-03-26T06:20:12.116039Z",
     "shell.execute_reply.started": "2024-03-26T06:18:44.070684Z"
    },
    "hidden": true,
    "scrolled": true
   },
   "outputs": [],
   "source": [
    "# Detected isoforms\n",
    "sc_list = set(['full-splice_match', 'incomplete-splice_match', 'novel_in_catalog', 'novel_not_in_catalog'])\n",
    "isoforms1_list = []\n",
    "isoforms2_list = []\n",
    "for run, cell in dat[[\"Run\", \"Cell\"]].values:\n",
    "    isoforms1 = np.nan # number of assemblied isoforms\n",
    "    isoforms2 = np.nan # number of known isoforms\n",
    "    path = \"results/assembly/sqanti3/%s/%s/%s_classification.txt\" % (run, cell, cell)\n",
    "    if os.path.exists(path):\n",
    "        d = pd.read_csv(path, sep=\"\\t\", header=0, index_col=0)\n",
    "        isoforms1 = len(d)\n",
    "        d = d[[sc in sc_list for sc in d[\"structural_category\"]]]\n",
    "        isoforms2 = len(d)\n",
    "    isoforms1_list.append(isoforms1)\n",
    "    isoforms2_list.append(isoforms2)\n",
    "dat[\"Isoforms.Assembled\"] = isoforms1_list\n",
    "dat[\"Isoforms.Known\"] = isoforms2_list"
   ]
  },
  {
   "cell_type": "code",
   "execution_count": 64,
   "id": "a9d6d694",
   "metadata": {
    "ExecuteTime": {
     "end_time": "2023-12-20T16:24:57.935032Z",
     "start_time": "2023-12-20T16:24:27.462320Z"
    },
    "execution": {
     "iopub.execute_input": "2024-03-26T06:20:12.119871Z",
     "iopub.status.busy": "2024-03-26T06:20:12.119508Z",
     "iopub.status.idle": "2024-03-26T06:21:54.003890Z",
     "shell.execute_reply": "2024-03-26T06:21:53.980139Z",
     "shell.execute_reply.started": "2024-03-26T06:20:12.119852Z"
    },
    "hidden": true
   },
   "outputs": [],
   "source": [
    "# Mismatch ratios\n",
    "mtypes = []\n",
    "for base1 in \"ACGT\":\n",
    "    for base2 in \"ACGT\":\n",
    "        if base1 != base2:\n",
    "            mtypes.append(\"%s%s\" % (base1, base2))\n",
    "ratios = dict()\n",
    "for mtype in mtypes:\n",
    "    ratios[mtype] = list()\n",
    "for run, cell in dat[[\"Run\", \"Cell\"]].values:\n",
    "    path = \"results/mismatch/ratio_consensus/%s/%s.tsv\" % (run, cell)\n",
    "    if os.path.exists(path):\n",
    "        df = pd.read_csv(path, sep=\"\\t\", index_col=0)\n",
    "        for mtype in mtypes:\n",
    "            ratios[mtype].append(df.loc[mtype][\"Ratio\"])\n",
    "    else:\n",
    "        for mtype in mtypes:\n",
    "            ratios[mtype].append(np.nan)\n",
    "for mtype in mtypes:\n",
    "    dat[\"%s.Ratio\" % mtype] = ratios[mtype]"
   ]
  },
  {
   "cell_type": "code",
   "execution_count": 65,
   "id": "b572d68f",
   "metadata": {
    "ExecuteTime": {
     "end_time": "2023-12-20T16:25:00.916317Z",
     "start_time": "2023-12-20T16:24:57.937370Z"
    },
    "execution": {
     "iopub.execute_input": "2024-03-26T06:21:54.281093Z",
     "iopub.status.busy": "2024-03-26T06:21:54.280378Z",
     "iopub.status.idle": "2024-03-26T06:22:16.498742Z",
     "shell.execute_reply": "2024-03-26T06:22:16.498197Z",
     "shell.execute_reply.started": "2024-03-26T06:21:54.281057Z"
    },
    "hidden": true
   },
   "outputs": [],
   "source": [
    "# Pe and Pc\n",
    "pe_list = []\n",
    "pc_list = []\n",
    "for run, cell in dat[[\"Run\", \"Cell\"]].values:\n",
    "    pe = np.nan\n",
    "    pc = np.nan\n",
    "    path = \"results/signal2noise/pc/%s/%s.tsv\" % (run, cell)\n",
    "    if os.path.exists(path):\n",
    "        d = pd.read_csv(path, sep=\"\\t\")\n",
    "        pe, pc, pc_pe = d.iloc[0]\n",
    "    pe_list.append(pe)    \n",
    "    pc_list.append(pc)\n",
    "dat[\"Pe\"] = pe_list\n",
    "dat[\"Pc\"] = pc_list\n",
    "dat[\"PcPe.Ratio\"] = dat[\"Pc\"] / dat[\"Pe\"]"
   ]
  },
  {
   "cell_type": "code",
   "execution_count": 66,
   "id": "2f49659c",
   "metadata": {
    "ExecuteTime": {
     "end_time": "2023-12-20T16:26:58.666065Z",
     "start_time": "2023-12-20T16:25:00.918343Z"
    },
    "execution": {
     "iopub.execute_input": "2024-03-26T06:22:16.499855Z",
     "iopub.status.busy": "2024-03-26T06:22:16.499533Z",
     "iopub.status.idle": "2024-03-26T06:27:00.396527Z",
     "shell.execute_reply": "2024-03-26T06:27:00.395156Z",
     "shell.execute_reply.started": "2024-03-26T06:22:16.499836Z"
    },
    "hidden": true
   },
   "outputs": [],
   "source": [
    "# Nascent UMIs\n",
    "nascent_umis_list = []\n",
    "for run, cell in dat[[\"Run\", \"Cell\"]].values:\n",
    "    nascent_umis = np.nan\n",
    "    path = \"results/mismatch/ratio_consensus/%s/%s.events.tsv\" % (run, cell)\n",
    "    if os.path.exists(path):\n",
    "        d = pd.read_csv(path, sep=\"\\t\", index_col=0)\n",
    "        d = d[(d[\"Size\"] >= 2) & (d[\"T-C\"] >= 2)]\n",
    "        nascent_umis = len(d)\n",
    "    nascent_umis_list.append(nascent_umis)\n",
    "dat[\"UMIs.2Reads.Nascent.2TCs\"] = nascent_umis_list\n",
    "dat[\"UMIs.2Reads.Nascent.2TCs.Ratio\"] = dat[\"UMIs.2Reads.Nascent.2TCs\"] / dat[\"UMIs.2Reads\"]"
   ]
  },
  {
   "cell_type": "code",
   "execution_count": 67,
   "id": "09b2df41",
   "metadata": {
    "ExecuteTime": {
     "end_time": "2023-12-20T16:28:51.210676Z",
     "start_time": "2023-12-20T16:26:58.668824Z"
    },
    "execution": {
     "iopub.execute_input": "2024-03-26T06:27:00.475385Z",
     "iopub.status.busy": "2024-03-26T06:27:00.474721Z",
     "iopub.status.idle": "2024-03-26T06:29:22.167909Z",
     "shell.execute_reply": "2024-03-26T06:29:22.124175Z",
     "shell.execute_reply.started": "2024-03-26T06:27:00.475365Z"
    },
    "hidden": true
   },
   "outputs": [],
   "source": [
    "# Nascent gene number\n",
    "genes_list = []\n",
    "nascent_genes_list = []\n",
    "for run, cell in dat[[\"Run\", \"Cell\"]].values:\n",
    "    genes = np.nan\n",
    "    nascent_genes = np.nan\n",
    "    path = \"results/expression/quant_genes/min_read_2_min_tc_2/%s/%s.tsv\" % (run, cell)\n",
    "    if os.path.exists(path):\n",
    "        d = pd.read_csv(path, sep=\"\\t\", header=0, index_col=0)\n",
    "        d = d[d[\"Total\"] > 0]\n",
    "        genes = len(set(filter(lambda x: \"_\" not in x, d.index)))\n",
    "        d = d[d[\"Nascent\"] > 0]\n",
    "        nascent_genes = len(set(filter(lambda x: \"_\" not in x, d.index)))\n",
    "    genes_list.append(genes)\n",
    "    nascent_genes_list.append(nascent_genes)\n",
    "dat[\"Genes.2Reads\"] = genes_list\n",
    "dat[\"Genes.2Reads.Nascent.2TCs\"] = nascent_genes_list"
   ]
  },
  {
   "cell_type": "code",
   "execution_count": 68,
   "id": "5a45a85c",
   "metadata": {
    "ExecuteTime": {
     "end_time": "2023-12-20T16:28:57.938728Z",
     "start_time": "2023-12-20T16:28:51.215446Z"
    },
    "execution": {
     "iopub.execute_input": "2024-03-26T06:29:22.280011Z",
     "iopub.status.busy": "2024-03-26T06:29:22.276567Z",
     "iopub.status.idle": "2024-03-26T06:29:28.905787Z",
     "shell.execute_reply": "2024-03-26T06:29:28.905314Z",
     "shell.execute_reply.started": "2024-03-26T06:29:22.279991Z"
    },
    "hidden": true,
    "scrolled": true
   },
   "outputs": [],
   "source": [
    "dat.to_excel(\"data/NanoNASCseq_All_Summary.xlsx\", index=False)"
   ]
  },
  {
   "cell_type": "markdown",
   "id": "0bdc88c4-1ebf-4c5b-a432-b6071cc08285",
   "metadata": {},
   "source": [
    "## 3. Make data/NanoNASCseq_Summary.xlsx"
   ]
  },
  {
   "cell_type": "code",
   "execution_count": 69,
   "id": "43509638-8456-429f-85a3-7e4a01fbf625",
   "metadata": {
    "execution": {
     "iopub.execute_input": "2024-03-26T06:29:28.906664Z",
     "iopub.status.busy": "2024-03-26T06:29:28.906429Z",
     "iopub.status.idle": "2024-03-26T06:29:36.275585Z",
     "shell.execute_reply": "2024-03-26T06:29:36.275130Z",
     "shell.execute_reply.started": "2024-03-26T06:29:28.906646Z"
    }
   },
   "outputs": [
    {
     "name": "stdout",
     "output_type": "stream",
     "text": [
      "Input cells: 5569\n",
      "Output cells: 4555\n"
     ]
    }
   ],
   "source": [
    "d = pd.read_excel(\"data/NanoNASCseq_All_Summary.xlsx\")\n",
    "print(\"Input cells:\", len(d))\n",
    "for run in discarded_runs:\n",
    "    d = d[d[\"Run\"] != run]\n",
    "d.to_excel(\"data/NanoNASCseq_Summary.xlsx\", index=False)\n",
    "print(\"Output cells:\", len(d))"
   ]
  },
  {
   "cell_type": "code",
   "execution_count": 1,
   "id": "e6fc61e8-7126-4081-b7f8-4c4ee30c3c98",
   "metadata": {
    "execution": {
     "iopub.execute_input": "2024-04-06T08:09:41.013543Z",
     "iopub.status.busy": "2024-04-06T08:09:41.013242Z",
     "iopub.status.idle": "2024-04-06T08:09:41.294981Z",
     "shell.execute_reply": "2024-04-06T08:09:41.294444Z",
     "shell.execute_reply.started": "2024-04-06T08:09:41.013518Z"
    }
   },
   "outputs": [
    {
     "ename": "NameError",
     "evalue": "name 'pd' is not defined",
     "output_type": "error",
     "traceback": [
      "\u001b[0;31m---------------------------------------------------------------------------\u001b[0m",
      "\u001b[0;31mNameError\u001b[0m                                 Traceback (most recent call last)",
      "Cell \u001b[0;32mIn[1], line 1\u001b[0m\n\u001b[0;32m----> 1\u001b[0m d \u001b[38;5;241m=\u001b[39m \u001b[43mpd\u001b[49m\u001b[38;5;241m.\u001b[39mread_excel(\u001b[38;5;124m\"\u001b[39m\u001b[38;5;124mNanoNASCseq_Summary.xlsx\u001b[39m\u001b[38;5;124m\"\u001b[39m)\n\u001b[1;32m      2\u001b[0m \u001b[38;5;66;03m# d = d[np.isnan(d[\"ActD\"])]\u001b[39;00m\n\u001b[1;32m      4\u001b[0m df1 \u001b[38;5;241m=\u001b[39m d[d[\u001b[38;5;124m\"\u001b[39m\u001b[38;5;124mStrain\u001b[39m\u001b[38;5;124m\"\u001b[39m] \u001b[38;5;241m==\u001b[39m \u001b[38;5;124m\"\u001b[39m\u001b[38;5;124mK562\u001b[39m\u001b[38;5;124m\"\u001b[39m]\n",
      "\u001b[0;31mNameError\u001b[0m: name 'pd' is not defined"
     ]
    }
   ],
   "source": [
    "d = pd.read_excel(\"NanoNASCseq_Summary.xlsx\")\n",
    "# d = d[np.isnan(d[\"ActD\"])]\n",
    "\n",
    "df1 = d[d[\"Strain\"] == \"K562\"]\n",
    "df2 = d[d[\"Strain\"] == \"mESC\"]\n",
    "strains = ['Blastocyst', \n",
    "           'Early-blastocyst', 'Early-blastocystX', \n",
    "           'Late-blastocyst', 'Late-blastocystX', \n",
    "           'Mid-blastocyst', 'Mid-blastocystX']\n",
    "df3 = d[[x in strains for x in d[\"Strain\"]]]\n",
    "print(\"K562:\", len(df1))\n",
    "print(\"mESC:\", len(df2))\n",
    "print(\"Blastocyst:\", len(df3))\n",
    "\n",
    "for df in [df1, df2, df3]:\n",
    "    print()\n",
    "    print(\"-\" * 40)\n",
    "    print(\"4sU\\tTime\\tCells\\tActD(-)\\tActD(+)\")\n",
    "    print(\"-\" * 40)\n",
    "    for s4u, d1 in df.groupby(by=\"s4U\"):\n",
    "        for t, d2 in d1.groupby(by=\"Time\"):\n",
    "            n1 = sum(np.isnan(d2[\"ActD\"]))\n",
    "            n2 = sum(~np.isnan(d2[\"ActD\"]))\n",
    "            print(s4u, t, len(d2), n1, n2, sep=\"\\t\")"
   ]
  },
  {
   "cell_type": "code",
   "execution_count": 19,
   "id": "86d2d7a5",
   "metadata": {
    "ExecuteTime": {
     "end_time": "2023-08-05T11:19:13.392375Z",
     "start_time": "2023-08-05T11:19:12.796794Z"
    },
    "hidden": true
   },
   "outputs": [
    {
     "name": "stdout",
     "output_type": "stream",
     "text": [
      "K562: 684\n",
      "mESC: 216\n",
      "Blastocyst: 1922\n",
      "\n",
      "----------------------------------------\n",
      "4sU\tTime\tCells\tActD(-)\tActD(+)\n",
      "----------------------------------------\n",
      "0\t3.0\t293\t168\t125\n",
      "50\t0.25\t28\t28\t0\n",
      "50\t0.5\t47\t47\t0\n",
      "50\t1.0\t34\t34\t0\n",
      "50\t2.0\t29\t29\t0\n",
      "50\t3.0\t229\t116\t113\n",
      "100\t3.0\t12\t12\t0\n",
      "200\t3.0\t2\t2\t0\n",
      "400\t3.0\t1\t1\t0\n",
      "500\t3.0\t9\t9\t0\n",
      "\n",
      "----------------------------------------\n",
      "4sU\tTime\tCells\tActD(-)\tActD(+)\n",
      "----------------------------------------\n",
      "0\t3.0\t61\t61\t0\n",
      "50\t3.0\t65\t65\t0\n",
      "400\t3.0\t90\t90\t0\n",
      "\n",
      "----------------------------------------\n",
      "4sU\tTime\tCells\tActD(-)\tActD(+)\n",
      "----------------------------------------\n",
      "0\t3.0\t124\t114\t10\n",
      "100\t3.0\t8\t8\t0\n",
      "200\t3.0\t33\t33\t0\n",
      "300\t3.0\t26\t26\t0\n",
      "400\t3.0\t1671\t1609\t62\n",
      "500\t3.0\t33\t33\t0\n",
      "600\t3.0\t27\t27\t0\n"
     ]
    }
   ],
   "source": [
    "d = pd.read_excel(\"NanoNASCseq_summary_selected_qc.xls\")\n",
    "# d = d[np.isnan(d[\"ActD\"])]\n",
    "\n",
    "df1 = d[d[\"Strain\"] == \"K562\"]\n",
    "df2 = d[d[\"Strain\"] == \"mESC\"]\n",
    "strains = ['Blastocyst', \n",
    "           'Early-blastocyst', 'Early-blastocystX', \n",
    "           'Late-blastocyst', 'Late-blastocystX', \n",
    "           'Mid-blastocyst', 'Mid-blastocystX']\n",
    "df3 = d[[x in strains for x in d[\"Strain\"]]]\n",
    "print(\"K562:\", len(df1))\n",
    "print(\"mESC:\", len(df2))\n",
    "print(\"Blastocyst:\", len(df3))\n",
    "\n",
    "for df in [df1, df2, df3]:\n",
    "    print()\n",
    "    print(\"-\" * 40)\n",
    "    print(\"4sU\\tTime\\tCells\\tActD(-)\\tActD(+)\")\n",
    "    print(\"-\" * 40)\n",
    "    for s4u, d1 in df.groupby(by=\"s4U\"):\n",
    "        for t, d2 in d1.groupby(by=\"Time\"):\n",
    "            n1 = sum(np.isnan(d2[\"ActD\"]))\n",
    "            n2 = sum(~np.isnan(d2[\"ActD\"]))\n",
    "            print(s4u, t, len(d2), n1, n2, sep=\"\\t\")"
   ]
  },
  {
   "cell_type": "markdown",
   "id": "6e69b37d",
   "metadata": {
    "heading_collapsed": true
   },
   "source": [
    "# Calculate half-life (deprecated)\n",
    "\n",
    "    K562, mESC"
   ]
  },
  {
   "cell_type": "code",
   "execution_count": null,
   "id": "aaf0b7a3-4904-47f4-84d1-56ad00700b81",
   "metadata": {
    "execution": {
     "iopub.execute_input": "2024-03-26T04:48:11.927405Z",
     "iopub.status.busy": "2024-03-26T04:48:11.925056Z",
     "iopub.status.idle": "2024-03-26T04:48:17.217050Z",
     "shell.execute_reply": "2024-03-26T04:48:17.216328Z",
     "shell.execute_reply.started": "2024-03-26T04:48:11.927375Z"
    }
   },
   "outputs": [],
   "source": [
    "info = pd.read_excel(\"data/NanoNASCseq_Summary.xlsx\")"
   ]
  },
  {
   "cell_type": "code",
   "execution_count": 47,
   "id": "3312cc07-b76d-48c2-b2b7-a7cdad8a3f85",
   "metadata": {
    "execution": {
     "iopub.execute_input": "2024-03-26T04:51:39.975809Z",
     "iopub.status.busy": "2024-03-26T04:51:39.952703Z",
     "iopub.status.idle": "2024-03-26T04:51:41.530284Z",
     "shell.execute_reply": "2024-03-26T04:51:41.529698Z",
     "shell.execute_reply.started": "2024-03-26T04:51:39.975781Z"
    }
   },
   "outputs": [
    {
     "name": "stdout",
     "output_type": "stream",
     "text": [
      "--------------------------------------------------------------------------------\n",
      "Cell line: K562\n",
      "Gene annotation: /home/chenzonggui/species/homo_sapiens/GRCh38.p13/gencode.v39.genes.tsv\n",
      "Min TC count: 1\n",
      "Cells: 151\n",
      "--------------------------------------------------------------------------------\n",
      "Cell line: K562\n",
      "Gene annotation: /home/chenzonggui/species/homo_sapiens/GRCh38.p13/gencode.v39.genes.tsv\n",
      "Min TC count: 2\n",
      "Cells: 151\n",
      "--------------------------------------------------------------------------------\n",
      "Cell line: mESC\n",
      "Gene annotation: /home/chenzonggui/species/mus_musculus/GRCm38.p6/gencode.vM25.genes.tsv\n",
      "Min TC count: 1\n",
      "Cells: 110\n",
      "--------------------------------------------------------------------------------\n",
      "Cell line: mESC\n",
      "Gene annotation: /home/chenzonggui/species/mus_musculus/GRCm38.p6/gencode.vM25.genes.tsv\n",
      "Min TC count: 2\n",
      "Cells: 110\n"
     ]
    }
   ],
   "source": [
    "params = [\n",
    "    [\"K562\", 50, 0.005, \"/home/chenzonggui/species/homo_sapiens/GRCh38.p13/gencode.v39.genes.tsv\"],\n",
    "    [\"mESC\", 400, 0.008, \"/home/chenzonggui/species/mus_musculus/GRCm38.p6/gencode.vM25.genes.tsv\"]\n",
    "]\n",
    "\n",
    "for cell_line, s4u, min_tc_ratio, gene_anno_path in params:\n",
    "    d = info\n",
    "    d = d[d[\"UMIs\"] >= 5000]\n",
    "    # d = d[d[\"Genes\"] >= 2000]\n",
    "    d = d[d[\"CellLine\"] == cell_line]\n",
    "    d = d[d[\"TC.Ratio\"] >= min_tc_ratio]\n",
    "    d = d[d[\"Time\"] == 3]\n",
    "    d = d[d[\"s4U\"] == s4u]\n",
    "    d = d[d[\"ActD\"].isna()]\n",
    "    \n",
    "    for tc in [1, 2]:\n",
    "        print(\"-\" * 80)\n",
    "        print(\"Cell line:\", cell_line)\n",
    "        print(\"Gene annotation:\", gene_anno_path)\n",
    "        print(\"Min TC count:\", tc)\n",
    "        print(\"Cells:\", len(d))\n",
    "        "
   ]
  },
  {
   "cell_type": "code",
   "execution_count": null,
   "id": "00934737-2b97-4f9d-b1c6-6e77e5c85f06",
   "metadata": {},
   "outputs": [],
   "source": []
  },
  {
   "cell_type": "code",
   "execution_count": null,
   "id": "4b2f8bf4-b7d9-408f-974e-525d9c9faefd",
   "metadata": {},
   "outputs": [],
   "source": []
  },
  {
   "cell_type": "code",
   "execution_count": 20,
   "id": "0ded36ef",
   "metadata": {
    "ExecuteTime": {
     "end_time": "2023-08-05T11:20:09.854190Z",
     "start_time": "2023-08-05T11:19:49.440014Z"
    },
    "hidden": true
   },
   "outputs": [
    {
     "name": "stdout",
     "output_type": "stream",
     "text": [
      "--------------------------------------------------------------------------------\n",
      "Strain: K562\n",
      "Annotation: /home/chenzonggui/species/homo_sapiens/GRCh38.p13/gencode.v39.genes.tsv\n",
      "Min TC count: 1\n",
      "Selected cells: 116\n"
     ]
    },
    {
     "name": "stderr",
     "output_type": "stream",
     "text": [
      "/home/chenzonggui/miniconda3/envs/py36/lib/python3.6/site-packages/pandas/core/series.py:726: RuntimeWarning: divide by zero encountered in log2\n",
      "  result = getattr(ufunc, method)(*inputs, **kwargs)\n"
     ]
    },
    {
     "name": "stdout",
     "output_type": "stream",
     "text": [
      "--------------------------------------------------------------------------------\n",
      "Strain: K562\n",
      "Annotation: /home/chenzonggui/species/homo_sapiens/GRCh38.p13/gencode.v39.genes.tsv\n",
      "Min TC count: 2\n",
      "Selected cells: 116\n"
     ]
    },
    {
     "name": "stderr",
     "output_type": "stream",
     "text": [
      "/home/chenzonggui/miniconda3/envs/py36/lib/python3.6/site-packages/pandas/core/series.py:726: RuntimeWarning: divide by zero encountered in log2\n",
      "  result = getattr(ufunc, method)(*inputs, **kwargs)\n"
     ]
    },
    {
     "name": "stdout",
     "output_type": "stream",
     "text": [
      "--------------------------------------------------------------------------------\n",
      "Strain: mESC\n",
      "Annotation: /home/chenzonggui/species/mus_musculus/GRCm38.p6/gencode.vM25.genes.tsv\n",
      "Min TC count: 1\n",
      "Selected cells: 90\n"
     ]
    },
    {
     "name": "stderr",
     "output_type": "stream",
     "text": [
      "/home/chenzonggui/miniconda3/envs/py36/lib/python3.6/site-packages/pandas/core/series.py:726: RuntimeWarning: divide by zero encountered in log2\n",
      "  result = getattr(ufunc, method)(*inputs, **kwargs)\n"
     ]
    },
    {
     "name": "stdout",
     "output_type": "stream",
     "text": [
      "--------------------------------------------------------------------------------\n",
      "Strain: mESC\n",
      "Annotation: /home/chenzonggui/species/mus_musculus/GRCm38.p6/gencode.vM25.genes.tsv\n",
      "Min TC count: 2\n",
      "Selected cells: 90\n"
     ]
    },
    {
     "name": "stderr",
     "output_type": "stream",
     "text": [
      "/home/chenzonggui/miniconda3/envs/py36/lib/python3.6/site-packages/pandas/core/series.py:726: RuntimeWarning: divide by zero encountered in log2\n",
      "  result = getattr(ufunc, method)(*inputs, **kwargs)\n"
     ]
    }
   ],
   "source": [
    "strains = [\"K562\", \"mESC\"]\n",
    "\n",
    "for strain in strains:\n",
    "    \n",
    "    # parameters\n",
    "    \n",
    "    if strain == \"K562\":\n",
    "        s4u = 50\n",
    "        gene_anno_path = \"/home/chenzonggui/species/homo_sapiens/GRCh38.p13/gencode.v39.genes.tsv\"\n",
    "    elif strain == \"mESC\":\n",
    "        s4u = 400\n",
    "        gene_anno_path = \"/home/chenzonggui/species/mus_musculus/GRCm38.p6/gencode.vM25.genes.tsv\"\n",
    "    else:\n",
    "        assert False\n",
    "    \n",
    "    # half-life\n",
    "    \n",
    "    for min_tc in [1, 2]:\n",
    "        dat = pd.read_excel(\"NanoNASCseq_summary_selected_qc.xls\")\n",
    "        d = dat[(dat[\"Strain\"] == strain) & (dat[\"Time\"] == 3) & (dat[\"s4U\"] == s4u) & (np.isnan(dat[\"ActD\"]))]\n",
    "        \n",
    "        print(\"-\" * 80)\n",
    "        print(\"Strain:\", strain)\n",
    "        print(\"Annotation:\", gene_anno_path)\n",
    "        print(\"Min TC count:\", min_tc)\n",
    "        print(\"Selected cells:\", len(d))\n",
    "\n",
    "        anno = pd.read_csv(gene_anno_path, sep=\"\\t\", index_col=2)\n",
    "        array1 = []\n",
    "        array2 = []\n",
    "        for run, cell in d[[\"Run\", \"Cell\"]].values:\n",
    "            path = \"results/expression/quantify/%dTC/%s/%s/quant_gene.tsv.gz\" % (min_tc, run, cell)\n",
    "            df = pd.read_csv(gzip.open(path), sep=\"\\t\", index_col=0)\n",
    "            s1 = df[\"Total\"]\n",
    "            s2 = df[\"Nascent\"]\n",
    "            s1.name = cell\n",
    "            s2.name = cell\n",
    "            array1.append(s1)\n",
    "            array2.append(s2)\n",
    "        df1 = pd.concat(array1, axis=1, sort=False).fillna(0)\n",
    "        df2 = pd.concat(array2, axis=1, sort=False).fillna(0)\n",
    "        s1 = df1.sum(axis=1)\n",
    "        s2 = df2.sum(axis=1)\n",
    "        s1.name = \"Total\"\n",
    "        s2.name = \"Nascent\"\n",
    "        \n",
    "        df = pd.concat([s1, s2], axis=1, sort=False).fillna(0)\n",
    "        df.index.name = \"GeneID\"\n",
    "        df[\"TPM\"] = df[\"Total\"] * 1e6 / sum(df[\"Total\"])\n",
    "        df[\"A0\"] = df[\"TPM\"]\n",
    "        df[\"NTR\"] = df[\"Nascent\"] / df[\"Total\"]\n",
    "        df[\"T\"] = -3 / np.log2(1 - df[\"NTR\"])\n",
    "        df[\"K\"] = df[\"A0\"] * np.log(2) / df[\"T\"]\n",
    "        # print(set(df.index) - set(anno.index))\n",
    "        df = df.merge(anno, left_index=True, right_index=True, how=\"right\")\n",
    "        df.to_csv(\"results/halflife/NanoNASCseq_%s_%duM_3h_%dcells.%dTC.tsv\" % (strain, s4u, len(d), min_tc), sep=\"\\t\")"
   ]
  }
 ],
 "metadata": {
  "kernelspec": {
   "display_name": "Python 3 (ipykernel)",
   "language": "python",
   "name": "python3"
  },
  "language_info": {
   "codemirror_mode": {
    "name": "ipython",
    "version": 3
   },
   "file_extension": ".py",
   "mimetype": "text/x-python",
   "name": "python",
   "nbconvert_exporter": "python",
   "pygments_lexer": "ipython3",
   "version": "3.10.13"
  }
 },
 "nbformat": 4,
 "nbformat_minor": 5
}
