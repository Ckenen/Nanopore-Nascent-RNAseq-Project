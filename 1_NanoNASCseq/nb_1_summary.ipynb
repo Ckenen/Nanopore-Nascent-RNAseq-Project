{
 "cells": [
  {
   "cell_type": "code",
   "execution_count": 20,
   "id": "4baffc1f",
   "metadata": {
    "ExecuteTime": {
     "end_time": "2024-03-10T06:54:42.725017Z",
     "start_time": "2024-03-10T06:54:36.809932Z"
    },
    "execution": {
     "iopub.execute_input": "2024-04-06T08:24:00.305794Z",
     "iopub.status.busy": "2024-04-06T08:24:00.305297Z",
     "iopub.status.idle": "2024-04-06T08:24:00.308134Z",
     "shell.execute_reply": "2024-04-06T08:24:00.307675Z",
     "shell.execute_reply.started": "2024-04-06T08:24:00.305772Z"
    }
   },
   "outputs": [],
   "source": [
    "import os\n",
    "import numpy as np\n",
    "import pandas as pd"
   ]
  },
  {
   "cell_type": "code",
   "execution_count": 16,
   "id": "f3de2194-5222-41b1-ba05-70b42bc422c2",
   "metadata": {
    "execution": {
     "iopub.execute_input": "2024-04-06T08:23:51.131291Z",
     "iopub.status.busy": "2024-04-06T08:23:51.130965Z",
     "iopub.status.idle": "2024-04-06T08:23:51.134123Z",
     "shell.execute_reply": "2024-04-06T08:23:51.133741Z",
     "shell.execute_reply.started": "2024-04-06T08:23:51.131273Z"
    }
   },
   "outputs": [],
   "source": [
    "discarded_runs = [\n",
    "    # R9.4 and test library structure\n",
    "    \"20220130_Cell8\",\n",
    "    \"20220316_Cell40\",\n",
    "    \"20220413_Cell26\",\n",
    "    \"20220506_Cell25\",\n",
    "    \"20220520_Cell16\",\n",
    "    \"20220525_Run1\",\n",
    "    \"20220525_Run2\",\n",
    "    \"20220601_Cell22\",\n",
    "    \"20220607_Cell40\",\n",
    "    \"20220615_Cell68\",\n",
    "\n",
    "    # test library structure\n",
    "    \"20220621_R10Test\",\n",
    "\n",
    "    # without blastocyst cell\n",
    "    \"20220719_Embryo\",\n",
    "\n",
    "    # R9.4\n",
    "    \"20220729_Embryo\",\n",
    "\n",
    "    # bad chip\n",
    "    \"20221019_Blastocyst\",\n",
    "\n",
    "    # human blastocyst\n",
    "    \"20220912_HumanBlastR1\",\n",
    "    \"20220912_HumanBlastR2\",\n",
    "\n",
    "    # others\n",
    "    \"20220818_mESCR3\",\n",
    "    \"20220818_mESCR3M\",\n",
    "    \"20220902_Blastocyst\",\n",
    "    \"20220902_BlastocystM\",\n",
    "    \"20220903_Blastocyst\",\n",
    "    \"20220903_BlastocystM\"\n",
    "]"
   ]
  },
  {
   "cell_type": "markdown",
   "id": "6eaa6aff-a299-4cfa-8082-4e96aa04d625",
   "metadata": {},
   "source": [
    "# Make data/NanoNASCseq.xlsx"
   ]
  },
  {
   "cell_type": "code",
   "execution_count": 17,
   "id": "8cb7f735-5ca7-46e4-9e4d-1b4ae48e8a1f",
   "metadata": {
    "execution": {
     "iopub.execute_input": "2024-04-06T08:23:51.508228Z",
     "iopub.status.busy": "2024-04-06T08:23:51.507844Z",
     "iopub.status.idle": "2024-04-06T08:23:53.694816Z",
     "shell.execute_reply": "2024-04-06T08:23:53.694351Z",
     "shell.execute_reply.started": "2024-04-06T08:23:51.508209Z"
    }
   },
   "outputs": [
    {
     "name": "stdout",
     "output_type": "stream",
     "text": [
      "Input cells: 5569\n",
      "Output cells: 4555\n"
     ]
    }
   ],
   "source": [
    "d = pd.read_excel(\"data/NanoNASCseq_All.xlsx\")\n",
    "print(\"Input cells:\", len(d))\n",
    "for run in discarded_runs:\n",
    "    d = d[d[\"Run\"] != run]\n",
    "d.to_excel(\"data/NanoNASCseq.xlsx\", index=False)\n",
    "print(\"Output cells:\", len(d))"
   ]
  },
  {
   "cell_type": "markdown",
   "id": "537eb0f9-de00-45fb-a37f-83013f28c515",
   "metadata": {},
   "source": [
    "# Make data/NanoNASCseq_All_Summary.xlsx"
   ]
  },
  {
   "cell_type": "code",
   "execution_count": 18,
   "id": "018bbdd4",
   "metadata": {
    "ExecuteTime": {
     "end_time": "2024-03-10T06:54:42.733014Z",
     "start_time": "2024-03-10T06:54:42.728905Z"
    },
    "execution": {
     "iopub.execute_input": "2024-04-06T08:23:53.695847Z",
     "iopub.status.busy": "2024-04-06T08:23:53.695627Z",
     "iopub.status.idle": "2024-04-06T08:23:54.434736Z",
     "shell.execute_reply": "2024-04-06T08:23:54.434052Z",
     "shell.execute_reply.started": "2024-04-06T08:23:53.695829Z"
    },
    "hidden": true
   },
   "outputs": [],
   "source": [
    "def divide(a, b):\n",
    "    return None if (b is None or b == 0) else a / b\n",
    "dat = pd.read_excel(\"data/NanoNASCseq_All.xlsx\")"
   ]
  },
  {
   "cell_type": "code",
   "execution_count": 21,
   "id": "39f17246",
   "metadata": {
    "ExecuteTime": {
     "end_time": "2024-03-09T12:17:12.501245Z",
     "start_time": "2024-03-09T12:16:54.772432Z"
    },
    "execution": {
     "iopub.execute_input": "2024-04-06T08:24:02.143057Z",
     "iopub.status.busy": "2024-04-06T08:24:02.142580Z",
     "iopub.status.idle": "2024-04-06T08:26:08.282825Z",
     "shell.execute_reply": "2024-04-06T08:26:08.282373Z",
     "shell.execute_reply.started": "2024-04-06T08:24:02.143036Z"
    },
    "hidden": true
   },
   "outputs": [],
   "source": [
    "# Cell reads and trimmed reads\n",
    "cell_reads_list = []\n",
    "trim_reads_list = []\n",
    "for run, cell in dat[[\"Run\", \"Cell\"]].values:\n",
    "    cell_reads = np.nan\n",
    "    trim_reads = np.nan\n",
    "    path = \"results/demux/trimmed/%s/%s/stats.tsv\" % (run, cell)\n",
    "    if os.path.exists(path):\n",
    "        df = pd.read_csv(path, sep=\"\\t\")\n",
    "        cell_reads = df[\"Total\"].values[0]\n",
    "        trim_reads = df[\"Pass\"].values[0]\n",
    "    cell_reads_list.append(cell_reads)\n",
    "    trim_reads_list.append(trim_reads)\n",
    "dat[\"Cell.Reads\"] = cell_reads_list\n",
    "dat[\"Trimmed.Reads\"] = trim_reads_list\n",
    "dat[\"Trimmed.Ratio\"] = dat[\"Trimmed.Reads\"] / dat[\"Cell.Reads\"]"
   ]
  },
  {
   "cell_type": "code",
   "execution_count": 22,
   "id": "df29a1a7",
   "metadata": {
    "ExecuteTime": {
     "end_time": "2024-03-09T12:19:06.340183Z",
     "start_time": "2024-03-09T12:18:45.132718Z"
    },
    "execution": {
     "iopub.execute_input": "2024-04-06T08:26:54.874877Z",
     "iopub.status.busy": "2024-04-06T08:26:54.874368Z",
     "iopub.status.idle": "2024-04-06T08:28:56.836268Z",
     "shell.execute_reply": "2024-04-06T08:28:56.835577Z",
     "shell.execute_reply.started": "2024-04-06T08:26:54.874854Z"
    },
    "hidden": true
   },
   "outputs": [],
   "source": [
    "# Mapped reads\n",
    "mapped_reads_list = []\n",
    "for run, cell in dat[[\"Run\", \"Cell\"]].values:\n",
    "    mapped_reads = np.nan\n",
    "    path = \"results/mapping/minimap2/%s/%s.flagstat\" % (run, cell)\n",
    "    if os.path.exists(path):\n",
    "        mapped_reads = int(open(path).readlines()[7].split()[0])\n",
    "    mapped_reads_list.append(mapped_reads)\n",
    "dat[\"Mapped.Reads\"] = mapped_reads_list\n",
    "dat[\"Mapped.Ratio\"] = dat[\"Mapped.Reads\"] / dat[\"Trimmed.Reads\"]"
   ]
  },
  {
   "cell_type": "code",
   "execution_count": 23,
   "id": "080bcfb3",
   "metadata": {
    "ExecuteTime": {
     "end_time": "2024-03-09T12:19:52.266133Z",
     "start_time": "2024-03-09T12:19:19.506895Z"
    },
    "execution": {
     "iopub.execute_input": "2024-04-06T08:30:18.899016Z",
     "iopub.status.busy": "2024-04-06T08:30:18.898696Z",
     "iopub.status.idle": "2024-04-06T08:31:17.946784Z",
     "shell.execute_reply": "2024-04-06T08:31:17.946087Z",
     "shell.execute_reply.started": "2024-04-06T08:30:18.898992Z"
    },
    "hidden": true
   },
   "outputs": [],
   "source": [
    "# Mitochondrion reads ratio\n",
    "mito_ratio_list = []\n",
    "for run, cell in dat[[\"Run\", \"Cell\"]].values:\n",
    "    mito_ratio = np.nan\n",
    "    path = \"results/mapping/chrom_reads/%s/%s.tsv\" % (run, cell)\n",
    "    if os.path.exists(path):\n",
    "        try:\n",
    "            v1, v2 = 0, 0\n",
    "            for line in open(path):\n",
    "                chrom, count = line.strip(\"\\n\").split(\"\\t\")\n",
    "                count = int(count)\n",
    "                v1 += count\n",
    "                if chrom == \"chrM\":\n",
    "                    v2 = count\n",
    "            mito_ratio = divide(v2, v1)\n",
    "        except ValueError:\n",
    "            print(path)\n",
    "    mito_ratio_list.append(mito_ratio)\n",
    "dat[\"Mito.Ratio\"] = mito_ratio_list"
   ]
  },
  {
   "cell_type": "code",
   "execution_count": 24,
   "id": "f5cf6545",
   "metadata": {
    "ExecuteTime": {
     "end_time": "2024-03-09T12:21:09.105871Z",
     "start_time": "2024-03-09T12:20:36.007612Z"
    },
    "execution": {
     "iopub.execute_input": "2024-04-06T08:31:17.948235Z",
     "iopub.status.busy": "2024-04-06T08:31:17.947978Z",
     "iopub.status.idle": "2024-04-06T08:33:08.140185Z",
     "shell.execute_reply": "2024-04-06T08:33:08.139531Z",
     "shell.execute_reply.started": "2024-04-06T08:31:17.948213Z"
    },
    "hidden": true
   },
   "outputs": [],
   "source": [
    "# Filtered reads\n",
    "filtered_reads_list = []\n",
    "filtered_clip_reads_list = []\n",
    "for run, cell in dat[[\"Run\", \"Cell\"]].values:\n",
    "    filtered_reads = np.nan\n",
    "    filtered_clip_reads = np.nan\n",
    "    path = \"results/mapping/stat_clip/%s/%s.log\" % (run, cell)\n",
    "    if os.path.exists(path):\n",
    "        lines = open(path).readlines()\n",
    "        for i, line in enumerate(lines):\n",
    "            if line.startswith(\"Input\"):\n",
    "                v1, v2 = lines[i + 1].split(\"\\t\")[:2]\n",
    "                filtered_reads = int(v1)\n",
    "                filtered_clip_reads = int(v2)\n",
    "                break\n",
    "    filtered_reads_list.append(filtered_reads)\n",
    "    filtered_clip_reads_list.append(filtered_clip_reads)\n",
    "dat[\"Filtered.Reads\"] = filtered_reads_list\n",
    "dat[\"Filtered.Ratio\"] = dat[\"Filtered.Reads\"] / dat[\"Mapped.Reads\"]\n",
    "dat[\"FilteredClip.Reads\"] = filtered_clip_reads_list\n",
    "dat[\"FilteredClip.Ratio\"] = dat[\"FilteredClip.Reads\"] / dat[\"Filtered.Reads\"]"
   ]
  },
  {
   "cell_type": "code",
   "execution_count": 25,
   "id": "4a251a99",
   "metadata": {
    "ExecuteTime": {
     "end_time": "2024-03-09T12:27:48.390840Z",
     "start_time": "2024-03-09T12:21:32.097553Z"
    },
    "execution": {
     "iopub.execute_input": "2024-04-06T08:37:04.990870Z",
     "iopub.status.busy": "2024-04-06T08:37:04.990391Z",
     "iopub.status.idle": "2024-04-06T08:42:21.341914Z",
     "shell.execute_reply": "2024-04-06T08:42:21.341244Z",
     "shell.execute_reply.started": "2024-04-06T08:37:04.990847Z"
    },
    "hidden": true
   },
   "outputs": [],
   "source": [
    "# Duplicate reads\n",
    "umis1_list = []\n",
    "umis2_list = []\n",
    "for run, cell in dat[[\"Run\", \"Cell\"]].values:\n",
    "    path = \"results/mapping/mark_duplicate/%s/%s.tsv\" % (run, cell)\n",
    "    umis1 = np.nan\n",
    "    umis2 = np.nan\n",
    "    if os.path.exists(path):\n",
    "        d1 = pd.read_csv(path, sep=\"\\t\", header=0)\n",
    "        umis1 = len(d1)\n",
    "        umis2 = len(d1[d1[\"AllSize\"] >= 2])\n",
    "    umis1_list.append(umis1)\n",
    "    umis2_list.append(umis2)\n",
    "dat[\"UMIs\"] = umis1_list\n",
    "dat[\"UMIs.2Reads\"] = umis2_list\n",
    "dat[\"Duplicate.Reads\"] = dat[\"FilteredClip.Reads\"] - dat[\"UMIs\"]\n",
    "dat[\"Duplicate.Ratio\"] = dat[\"Duplicate.Reads\"] / dat[\"FilteredClip.Reads\"]\n",
    "dat[\"Unique.Reads\"] = dat[\"UMIs\"]"
   ]
  },
  {
   "cell_type": "code",
   "execution_count": 26,
   "id": "40fd4fd8",
   "metadata": {
    "ExecuteTime": {
     "end_time": "2023-12-20T16:24:27.459333Z",
     "start_time": "2023-12-20T16:23:42.992719Z"
    },
    "execution": {
     "iopub.execute_input": "2024-04-06T08:42:21.343336Z",
     "iopub.status.busy": "2024-04-06T08:42:21.343083Z",
     "iopub.status.idle": "2024-04-06T08:44:15.499351Z",
     "shell.execute_reply": "2024-04-06T08:44:15.498706Z",
     "shell.execute_reply.started": "2024-04-06T08:42:21.343316Z"
    },
    "hidden": true
   },
   "outputs": [],
   "source": [
    "# Detected genes\n",
    "genes_list = []\n",
    "for run, cell in dat[[\"Run\", \"Cell\"]].values:\n",
    "    genes = np.nan\n",
    "    path = \"results/expression/quant_genes/min_read_1_min_tc_1/%s/%s.tsv\" % (run, cell)\n",
    "    if os.path.exists(path):\n",
    "        d = pd.read_csv(path, sep=\"\\t\", header=0, index_col=0)\n",
    "        d = d[d[\"Total\"] > 0]\n",
    "        genes = len(set(filter(lambda x: \"_\" not in x, d.index)))\n",
    "    genes_list.append(genes)\n",
    "dat[\"Genes\"] = genes_list"
   ]
  },
  {
   "cell_type": "code",
   "execution_count": 27,
   "id": "99ca014b",
   "metadata": {
    "ExecuteTime": {
     "end_time": "2024-03-10T06:57:48.552646Z",
     "start_time": "2024-03-10T06:57:47.924366Z"
    },
    "execution": {
     "iopub.execute_input": "2024-04-06T08:44:15.500476Z",
     "iopub.status.busy": "2024-04-06T08:44:15.500220Z",
     "iopub.status.idle": "2024-04-06T08:45:34.179990Z",
     "shell.execute_reply": "2024-04-06T08:45:34.179329Z",
     "shell.execute_reply.started": "2024-04-06T08:44:15.500455Z"
    },
    "hidden": true,
    "scrolled": true
   },
   "outputs": [],
   "source": [
    "# Detected isoforms\n",
    "sc_list = set(['full-splice_match', 'incomplete-splice_match', 'novel_in_catalog', 'novel_not_in_catalog'])\n",
    "isoforms1_list = []\n",
    "isoforms2_list = []\n",
    "for run, cell in dat[[\"Run\", \"Cell\"]].values:\n",
    "    isoforms1 = np.nan # number of assemblied isoforms\n",
    "    isoforms2 = np.nan # number of known isoforms\n",
    "    path = \"results/assembly/sqanti3/%s/%s/%s_classification.txt\" % (run, cell, cell)\n",
    "    if os.path.exists(path):\n",
    "        d = pd.read_csv(path, sep=\"\\t\", header=0, index_col=0)\n",
    "        isoforms1 = len(d)\n",
    "        d = d[[sc in sc_list for sc in d[\"structural_category\"]]]\n",
    "        isoforms2 = len(d)\n",
    "    isoforms1_list.append(isoforms1)\n",
    "    isoforms2_list.append(isoforms2)\n",
    "dat[\"Isoforms.Assembled\"] = isoforms1_list\n",
    "dat[\"Isoforms.Known\"] = isoforms2_list"
   ]
  },
  {
   "cell_type": "code",
   "execution_count": 28,
   "id": "a9d6d694",
   "metadata": {
    "ExecuteTime": {
     "end_time": "2023-12-20T16:24:57.935032Z",
     "start_time": "2023-12-20T16:24:27.462320Z"
    },
    "execution": {
     "iopub.execute_input": "2024-04-06T08:45:34.181674Z",
     "iopub.status.busy": "2024-04-06T08:45:34.181473Z",
     "iopub.status.idle": "2024-04-06T08:47:04.979816Z",
     "shell.execute_reply": "2024-04-06T08:47:04.979349Z",
     "shell.execute_reply.started": "2024-04-06T08:45:34.181654Z"
    },
    "hidden": true
   },
   "outputs": [],
   "source": [
    "# Mismatch ratios\n",
    "mtypes = []\n",
    "for base1 in \"ACGT\":\n",
    "    for base2 in \"ACGT\":\n",
    "        if base1 != base2:\n",
    "            mtypes.append(\"%s%s\" % (base1, base2))\n",
    "ratios = dict()\n",
    "for mtype in mtypes:\n",
    "    ratios[mtype] = list()\n",
    "for run, cell in dat[[\"Run\", \"Cell\"]].values:\n",
    "    path = \"results/mismatch/ratio_consensus/%s/%s.tsv\" % (run, cell)\n",
    "    if os.path.exists(path):\n",
    "        df = pd.read_csv(path, sep=\"\\t\", index_col=0)\n",
    "        for mtype in mtypes:\n",
    "            ratios[mtype].append(df.loc[mtype][\"Ratio\"])\n",
    "    else:\n",
    "        for mtype in mtypes:\n",
    "            ratios[mtype].append(np.nan)\n",
    "for mtype in mtypes:\n",
    "    dat[\"%s.Ratio\" % mtype] = ratios[mtype]"
   ]
  },
  {
   "cell_type": "code",
   "execution_count": 29,
   "id": "b572d68f",
   "metadata": {
    "ExecuteTime": {
     "end_time": "2023-12-20T16:25:00.916317Z",
     "start_time": "2023-12-20T16:24:57.937370Z"
    },
    "execution": {
     "iopub.execute_input": "2024-04-06T08:47:04.980940Z",
     "iopub.status.busy": "2024-04-06T08:47:04.980474Z",
     "iopub.status.idle": "2024-04-06T08:47:22.824614Z",
     "shell.execute_reply": "2024-04-06T08:47:22.824155Z",
     "shell.execute_reply.started": "2024-04-06T08:47:04.980922Z"
    },
    "hidden": true
   },
   "outputs": [],
   "source": [
    "# Pe and Pc\n",
    "pe_list = []\n",
    "pc_list = []\n",
    "for run, cell in dat[[\"Run\", \"Cell\"]].values:\n",
    "    pe = np.nan\n",
    "    pc = np.nan\n",
    "    path = \"results/signal2noise/pc/%s/%s.tsv\" % (run, cell)\n",
    "    if os.path.exists(path):\n",
    "        d = pd.read_csv(path, sep=\"\\t\")\n",
    "        pe, pc, pc_pe = d.iloc[0]\n",
    "    pe_list.append(pe)    \n",
    "    pc_list.append(pc)\n",
    "dat[\"Pe\"] = pe_list\n",
    "dat[\"Pc\"] = pc_list\n",
    "dat[\"PcPe.Ratio\"] = dat[\"Pc\"] / dat[\"Pe\"]"
   ]
  },
  {
   "cell_type": "code",
   "execution_count": 30,
   "id": "2f49659c",
   "metadata": {
    "ExecuteTime": {
     "end_time": "2023-12-20T16:26:58.666065Z",
     "start_time": "2023-12-20T16:25:00.918343Z"
    },
    "execution": {
     "iopub.execute_input": "2024-04-06T08:47:22.825693Z",
     "iopub.status.busy": "2024-04-06T08:47:22.825332Z",
     "iopub.status.idle": "2024-04-06T08:51:08.021469Z",
     "shell.execute_reply": "2024-04-06T08:51:08.020818Z",
     "shell.execute_reply.started": "2024-04-06T08:47:22.825673Z"
    },
    "hidden": true
   },
   "outputs": [],
   "source": [
    "# Nascent UMIs\n",
    "nascent_umis_list = []\n",
    "for run, cell in dat[[\"Run\", \"Cell\"]].values:\n",
    "    nascent_umis = np.nan\n",
    "    path = \"results/mismatch/ratio_consensus/%s/%s.events.tsv\" % (run, cell)\n",
    "    if os.path.exists(path):\n",
    "        d = pd.read_csv(path, sep=\"\\t\", index_col=0)\n",
    "        d = d[(d[\"Size\"] >= 2) & (d[\"T-C\"] >= 2)]\n",
    "        nascent_umis = len(d)\n",
    "    nascent_umis_list.append(nascent_umis)\n",
    "dat[\"UMIs.2Reads.Nascent.2TCs\"] = nascent_umis_list\n",
    "dat[\"UMIs.2Reads.Nascent.2TCs.Ratio\"] = dat[\"UMIs.2Reads.Nascent.2TCs\"] / dat[\"UMIs.2Reads\"]"
   ]
  },
  {
   "cell_type": "code",
   "execution_count": 32,
   "id": "09b2df41",
   "metadata": {
    "ExecuteTime": {
     "end_time": "2023-12-20T16:28:51.210676Z",
     "start_time": "2023-12-20T16:26:58.668824Z"
    },
    "execution": {
     "iopub.execute_input": "2024-04-06T08:52:03.385686Z",
     "iopub.status.busy": "2024-04-06T08:52:03.385350Z",
     "iopub.status.idle": "2024-04-06T08:52:26.903707Z",
     "shell.execute_reply": "2024-04-06T08:52:26.903243Z",
     "shell.execute_reply.started": "2024-04-06T08:52:03.385664Z"
    },
    "hidden": true
   },
   "outputs": [],
   "source": [
    "# Nascent gene number\n",
    "genes_list = []\n",
    "nascent_genes_list = []\n",
    "for run, cell in dat[[\"Run\", \"Cell\"]].values:\n",
    "    genes = np.nan\n",
    "    nascent_genes = np.nan\n",
    "    path = \"results/expression/quant_genes/min_read_2_min_tc_2/%s/%s.tsv\" % (run, cell)\n",
    "    if os.path.exists(path):\n",
    "        d = pd.read_csv(path, sep=\"\\t\", header=0, index_col=0)\n",
    "        d = d[d[\"Total\"] > 0]\n",
    "        genes = len(set(filter(lambda x: \"_\" not in x, d.index)))\n",
    "        d = d[d[\"Nascent\"] > 0]\n",
    "        nascent_genes = len(set(filter(lambda x: \"_\" not in x, d.index)))\n",
    "    genes_list.append(genes)\n",
    "    nascent_genes_list.append(nascent_genes)\n",
    "dat[\"Genes.2Reads\"] = genes_list\n",
    "dat[\"Genes.2Reads.Nascent.2TCs\"] = nascent_genes_list"
   ]
  },
  {
   "cell_type": "code",
   "execution_count": 33,
   "id": "5a45a85c",
   "metadata": {
    "ExecuteTime": {
     "end_time": "2023-12-20T16:28:57.938728Z",
     "start_time": "2023-12-20T16:28:51.215446Z"
    },
    "execution": {
     "iopub.execute_input": "2024-04-06T08:52:26.904546Z",
     "iopub.status.busy": "2024-04-06T08:52:26.904365Z",
     "iopub.status.idle": "2024-04-06T08:52:32.183568Z",
     "shell.execute_reply": "2024-04-06T08:52:32.183113Z",
     "shell.execute_reply.started": "2024-04-06T08:52:26.904528Z"
    },
    "hidden": true,
    "scrolled": true
   },
   "outputs": [],
   "source": [
    "dat.to_excel(\"data/NanoNASCseq_All_Summary.xlsx\", index=False)"
   ]
  },
  {
   "cell_type": "markdown",
   "id": "0bdc88c4-1ebf-4c5b-a432-b6071cc08285",
   "metadata": {},
   "source": [
    "# Make data/NanoNASCseq_Summary.xlsx"
   ]
  },
  {
   "cell_type": "code",
   "execution_count": 34,
   "id": "43509638-8456-429f-85a3-7e4a01fbf625",
   "metadata": {
    "execution": {
     "iopub.execute_input": "2024-04-06T08:52:32.185169Z",
     "iopub.status.busy": "2024-04-06T08:52:32.184871Z",
     "iopub.status.idle": "2024-04-06T08:52:38.938252Z",
     "shell.execute_reply": "2024-04-06T08:52:38.937818Z",
     "shell.execute_reply.started": "2024-04-06T08:52:32.185151Z"
    }
   },
   "outputs": [
    {
     "name": "stdout",
     "output_type": "stream",
     "text": [
      "Input cells: 5569\n",
      "Output cells: 4555\n"
     ]
    }
   ],
   "source": [
    "d = pd.read_excel(\"data/NanoNASCseq_All_Summary.xlsx\")\n",
    "print(\"Input cells:\", len(d))\n",
    "for run in discarded_runs:\n",
    "    d = d[d[\"Run\"] != run]\n",
    "d.to_excel(\"data/NanoNASCseq_Summary.xlsx\", index=False)\n",
    "print(\"Output cells:\", len(d))"
   ]
  }
 ],
 "metadata": {
  "kernelspec": {
   "display_name": "Python 3 (ipykernel)",
   "language": "python",
   "name": "python3"
  },
  "language_info": {
   "codemirror_mode": {
    "name": "ipython",
    "version": 3
   },
   "file_extension": ".py",
   "mimetype": "text/x-python",
   "name": "python",
   "nbconvert_exporter": "python",
   "pygments_lexer": "ipython3",
   "version": "3.10.13"
  }
 },
 "nbformat": 4,
 "nbformat_minor": 5
}
