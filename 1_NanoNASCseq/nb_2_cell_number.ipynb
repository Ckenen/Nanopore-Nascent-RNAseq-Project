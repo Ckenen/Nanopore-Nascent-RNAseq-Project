{
 "cells": [
  {
   "cell_type": "code",
   "execution_count": 2,
   "id": "cd33116a-908f-48c0-9fc9-61562731dfaf",
   "metadata": {
    "execution": {
     "iopub.execute_input": "2024-04-06T08:23:29.008145Z",
     "iopub.status.busy": "2024-04-06T08:23:29.007649Z",
     "iopub.status.idle": "2024-04-06T08:23:29.446569Z",
     "shell.execute_reply": "2024-04-06T08:23:29.446079Z",
     "shell.execute_reply.started": "2024-04-06T08:23:29.008125Z"
    }
   },
   "outputs": [],
   "source": [
    "import numpy as np\n",
    "import pandas as pd"
   ]
  },
  {
   "cell_type": "code",
   "execution_count": 3,
   "id": "cdc58248-65a9-4c0e-82a9-41ee0085ff3e",
   "metadata": {
    "execution": {
     "iopub.execute_input": "2024-04-06T08:23:29.856500Z",
     "iopub.status.busy": "2024-04-06T08:23:29.856137Z",
     "iopub.status.idle": "2024-04-06T08:23:32.342141Z",
     "shell.execute_reply": "2024-04-06T08:23:32.341604Z",
     "shell.execute_reply.started": "2024-04-06T08:23:29.856480Z"
    }
   },
   "outputs": [
    {
     "name": "stdout",
     "output_type": "stream",
     "text": [
      "K562: 878\n",
      "mESC: 255\n",
      "Blastocyst: 2661\n",
      "\n",
      "----------------------------------------\n",
      "4sU\tTime\tCells\tActD(-)\tActD(+)\n",
      "----------------------------------------\n",
      "0\t3.0\t339\t190\t149\n",
      "50\t0.25\t32\t32\t0\n",
      "50\t0.5\t51\t51\t0\n",
      "50\t1.0\t41\t41\t0\n",
      "50\t2.0\t44\t44\t0\n",
      "50\t3.0\t301\t179\t122\n",
      "100\t3.0\t19\t19\t0\n",
      "200\t3.0\t11\t11\t0\n",
      "400\t3.0\t17\t17\t0\n",
      "500\t3.0\t23\t23\t0\n",
      "\n",
      "----------------------------------------\n",
      "4sU\tTime\tCells\tActD(-)\tActD(+)\n",
      "----------------------------------------\n",
      "0\t3.0\t64\t64\t0\n",
      "50\t3.0\t79\t79\t0\n",
      "400\t3.0\t112\t112\t0\n",
      "\n",
      "----------------------------------------\n",
      "4sU\tTime\tCells\tActD(-)\tActD(+)\n",
      "----------------------------------------\n",
      "0\t3.0\t158\t143\t15\n",
      "100\t3.0\t10\t10\t0\n",
      "200\t3.0\t42\t42\t0\n",
      "300\t3.0\t34\t34\t0\n",
      "400\t3.0\t2343\t2245\t98\n",
      "500\t3.0\t41\t41\t0\n",
      "600\t3.0\t33\t33\t0\n"
     ]
    }
   ],
   "source": [
    "d = pd.read_excel(\"data/NanoNASCseq_Summary.xlsx\")\n",
    "# d = d[np.isnan(d[\"ActD\"])]\n",
    "d = d[d[\"UMIs\"] >= 5000]\n",
    "df1 = d[d[\"Group\"] == \"K562\"]\n",
    "df2 = d[d[\"Group\"] == \"mESC\"]\n",
    "df3 = d[d[\"Group\"] == \"MouseBlastocyst\"]\n",
    "print(\"K562:\", len(df1))\n",
    "print(\"mESC:\", len(df2))\n",
    "print(\"Blastocyst:\", len(df3))\n",
    "\n",
    "for df in [df1, df2, df3]:\n",
    "    print()\n",
    "    print(\"-\" * 40)\n",
    "    print(\"4sU\\tTime\\tCells\\tActD(-)\\tActD(+)\")\n",
    "    print(\"-\" * 40)\n",
    "    for s4u, d1 in df.groupby(by=\"s4U\"):\n",
    "        for t, d2 in d1.groupby(by=\"Time\"):\n",
    "            n1 = sum(np.isnan(d2[\"ActD\"]))\n",
    "            n2 = sum(~np.isnan(d2[\"ActD\"]))\n",
    "            print(s4u, t, len(d2), n1, n2, sep=\"\\t\")"
   ]
  },
  {
   "cell_type": "code",
   "execution_count": null,
   "id": "b66f8343-97f3-41b9-a2ec-ad2b117e7896",
   "metadata": {},
   "outputs": [],
   "source": []
  }
 ],
 "metadata": {
  "kernelspec": {
   "display_name": "Python 3 (ipykernel)",
   "language": "python",
   "name": "python3"
  },
  "language_info": {
   "codemirror_mode": {
    "name": "ipython",
    "version": 3
   },
   "file_extension": ".py",
   "mimetype": "text/x-python",
   "name": "python",
   "nbconvert_exporter": "python",
   "pygments_lexer": "ipython3",
   "version": "3.10.13"
  }
 },
 "nbformat": 4,
 "nbformat_minor": 5
}
