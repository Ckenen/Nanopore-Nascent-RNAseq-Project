{
 "cells": [
  {
   "cell_type": "code",
   "execution_count": 1,
   "id": "af2cc2e2-b1b7-47b8-afb5-7ccf6a15f2a5",
   "metadata": {
    "execution": {
     "iopub.execute_input": "2024-04-06T08:39:42.090694Z",
     "iopub.status.busy": "2024-04-06T08:39:42.090380Z",
     "iopub.status.idle": "2024-04-06T08:39:42.498066Z",
     "shell.execute_reply": "2024-04-06T08:39:42.497567Z",
     "shell.execute_reply.started": "2024-04-06T08:39:42.090673Z"
    }
   },
   "outputs": [],
   "source": [
    "import numpy as np\n",
    "import pandas as pd"
   ]
  },
  {
   "cell_type": "code",
   "execution_count": 13,
   "id": "7f00eeba-863c-4d52-acfe-2b29967d3180",
   "metadata": {
    "execution": {
     "iopub.execute_input": "2024-04-06T12:26:44.657946Z",
     "iopub.status.busy": "2024-04-06T12:26:44.657651Z",
     "iopub.status.idle": "2024-04-06T12:26:46.856841Z",
     "shell.execute_reply": "2024-04-06T12:26:46.856269Z",
     "shell.execute_reply.started": "2024-04-06T12:26:44.657926Z"
    }
   },
   "outputs": [
    {
     "name": "stdout",
     "output_type": "stream",
     "text": [
      "Run\n",
      "Cell\n",
      "Barcode\n",
      "Species\n",
      "s4U\n",
      "Time\n",
      "ActD\n",
      "Group\n",
      "CellLine\n",
      "Stage\n",
      "Platform\n",
      "Label\n",
      "UMI\n",
      "Cells\n",
      "LibStruct\n",
      "Remark\n",
      "Cell.Reads\n",
      "Trimmed.Reads\n",
      "Trimmed.Ratio\n",
      "Mapped.Reads\n",
      "Mapped.Ratio\n",
      "Mito.Ratio\n",
      "Filtered.Reads\n",
      "Filtered.Ratio\n",
      "FilteredClip.Reads\n",
      "FilteredClip.Ratio\n",
      "UMIs\n",
      "UMIs.2Reads\n",
      "Duplicate.Reads\n",
      "Duplicate.Ratio\n",
      "Unique.Reads\n",
      "Genes\n",
      "Isoforms.Assembled\n",
      "Isoforms.Known\n",
      "AC.Ratio\n",
      "AG.Ratio\n",
      "AT.Ratio\n",
      "CA.Ratio\n",
      "CG.Ratio\n",
      "CT.Ratio\n",
      "GA.Ratio\n",
      "GC.Ratio\n",
      "GT.Ratio\n",
      "TA.Ratio\n",
      "TC.Ratio\n",
      "TG.Ratio\n",
      "Pe\n",
      "Pc\n",
      "PcPe.Ratio\n",
      "UMIs.2Reads.Nascent.2TCs\n",
      "UMIs.2Reads.Nascent.2TCs.Ratio\n",
      "Genes.2Reads\n",
      "Genes.2Reads.Nascent.2TCs\n"
     ]
    }
   ],
   "source": [
    "d = pd.read_excel(\"data/NanoNASCseq_Summary.xlsx\")\n",
    "d = d[(d[\"CellLine\"] == \"K562\") & (d[\"UMIs\"] >= 5000) & (d[\"Time\"] == 3) & (d[\"s4U\"] == 50) & (d[\"ActD\"].isna())]\n",
    "for x in d.columns:\n",
    "    print(x)"
   ]
  },
  {
   "cell_type": "code",
   "execution_count": 8,
   "id": "32d7457c-df5e-40b9-9e9e-a7cc5f5f796a",
   "metadata": {
    "execution": {
     "iopub.execute_input": "2024-04-06T12:25:44.586288Z",
     "iopub.status.busy": "2024-04-06T12:25:44.586017Z",
     "iopub.status.idle": "2024-04-06T12:25:44.688116Z",
     "shell.execute_reply": "2024-04-06T12:25:44.687714Z",
     "shell.execute_reply.started": "2024-04-06T12:25:44.586270Z"
    }
   },
   "outputs": [
    {
     "data": {
      "text/html": [
       "<div>\n",
       "<style scoped>\n",
       "    .dataframe tbody tr th:only-of-type {\n",
       "        vertical-align: middle;\n",
       "    }\n",
       "\n",
       "    .dataframe tbody tr th {\n",
       "        vertical-align: top;\n",
       "    }\n",
       "\n",
       "    .dataframe thead th {\n",
       "        text-align: right;\n",
       "    }\n",
       "</style>\n",
       "<table border=\"1\" class=\"dataframe\">\n",
       "  <thead>\n",
       "    <tr style=\"text-align: right;\">\n",
       "      <th></th>\n",
       "      <th>Median</th>\n",
       "      <th>Mean</th>\n",
       "      <th>Std</th>\n",
       "    </tr>\n",
       "  </thead>\n",
       "  <tbody>\n",
       "    <tr>\n",
       "      <th>Genes</th>\n",
       "      <td>2702.0</td>\n",
       "      <td>2822.15</td>\n",
       "      <td>745.91</td>\n",
       "    </tr>\n",
       "    <tr>\n",
       "      <th>UMIs.2Reads</th>\n",
       "      <td>7339.0</td>\n",
       "      <td>7874.93</td>\n",
       "      <td>3406.47</td>\n",
       "    </tr>\n",
       "    <tr>\n",
       "      <th>Genes.2Reads</th>\n",
       "      <td>2287.0</td>\n",
       "      <td>2377.85</td>\n",
       "      <td>646.44</td>\n",
       "    </tr>\n",
       "    <tr>\n",
       "      <th>Genes.2Reads.Nascent.2TCs</th>\n",
       "      <td>567.0</td>\n",
       "      <td>621.63</td>\n",
       "      <td>351.26</td>\n",
       "    </tr>\n",
       "  </tbody>\n",
       "</table>\n",
       "</div>"
      ],
      "text/plain": [
       "                           Median     Mean      Std\n",
       "Genes                      2702.0  2822.15   745.91\n",
       "UMIs.2Reads                7339.0  7874.93  3406.47\n",
       "Genes.2Reads               2287.0  2377.85   646.44\n",
       "Genes.2Reads.Nascent.2TCs   567.0   621.63   351.26"
      ]
     },
     "execution_count": 8,
     "metadata": {},
     "output_type": "execute_result"
    }
   ],
   "source": [
    "cs = [\"Genes\", \"UMIs.2Reads\", \"Genes.2Reads\", \"Genes.2Reads.Nascent.2TCs\"]\n",
    "rows = []\n",
    "for k in cs:\n",
    "    vs = d[k]\n",
    "    row = [np.median(vs), round(np.mean(vs), 2), round(np.std(vs), 2)]\n",
    "    rows.append(row)\n",
    "pd.DataFrame(rows, index=pd.Index(cs), columns=[\"Median\", \"Mean\", \"Std\"])"
   ]
  },
  {
   "cell_type": "code",
   "execution_count": null,
   "id": "9944ce20-038e-4f92-bb1b-d94af72b539b",
   "metadata": {},
   "outputs": [],
   "source": []
  }
 ],
 "metadata": {
  "kernelspec": {
   "display_name": "Python 3 (ipykernel)",
   "language": "python",
   "name": "python3"
  },
  "language_info": {
   "codemirror_mode": {
    "name": "ipython",
    "version": 3
   },
   "file_extension": ".py",
   "mimetype": "text/x-python",
   "name": "python",
   "nbconvert_exporter": "python",
   "pygments_lexer": "ipython3",
   "version": "3.10.13"
  }
 },
 "nbformat": 4,
 "nbformat_minor": 5
}
