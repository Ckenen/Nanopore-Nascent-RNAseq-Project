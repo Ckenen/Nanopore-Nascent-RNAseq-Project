{
 "cells": [
  {
   "cell_type": "code",
   "execution_count": 21,
   "id": "c0c682e7",
   "metadata": {
    "ExecuteTime": {
     "end_time": "2023-08-08T05:12:36.596064Z",
     "start_time": "2023-08-08T05:12:36.586264Z"
    }
   },
   "outputs": [],
   "source": [
    "import gzip\n",
    "import pysam"
   ]
  },
  {
   "cell_type": "code",
   "execution_count": null,
   "id": "645b6bed",
   "metadata": {
    "ExecuteTime": {
     "end_time": "2023-08-08T02:21:04.862929Z",
     "start_time": "2023-08-08T02:21:04.821733Z"
    }
   },
   "outputs": [],
   "source": [
    "regions = [\n",
    "    [\"chr22\", 23176000, 23320000, \"+\"],\n",
    "    [\"chr9\", 130710000, 130890000, \"+\"]\n",
    "]"
   ]
  },
  {
   "cell_type": "code",
   "execution_count": 19,
   "id": "1637700b",
   "metadata": {
    "ExecuteTime": {
     "end_time": "2023-08-08T05:07:22.914537Z",
     "start_time": "2023-08-08T05:07:22.841260Z"
    }
   },
   "outputs": [],
   "source": [
    "# make fasta\n",
    "\n",
    "fasta = \"/home/chenzonggui/species/homo_sapiens/GRCh38.p13/GRCh38.canonical.genome.fa\"\n",
    "\n",
    "seq = \"\"\n",
    "with pysam.FastaFile(fasta) as f:\n",
    "    for chrom, start, end, strand in regions:\n",
    "        seq += f.fetch(chrom, start, end)\n",
    "        \n",
    "with open(\"results/bcr_abl_fusion/reference.fasta\", \"w+\") as fw:\n",
    "    fw.write(\">BCR_ABL\\n\")\n",
    "    for i in range(0, len(seq), 60):\n",
    "        s = seq[i * 60:min((i + 1) * 60, len(seq))]\n",
    "        fw.write(\"%s\\n\" % s)"
   ]
  },
  {
   "cell_type": "code",
   "execution_count": 16,
   "id": "0ec33df3",
   "metadata": {
    "ExecuteTime": {
     "end_time": "2023-08-08T02:29:37.356654Z",
     "start_time": "2023-08-08T02:29:37.091023Z"
    }
   },
   "outputs": [
    {
     "name": "stdout",
     "output_type": "stream",
     "text": [
      "[M::mm_idx_gen::0.021*2.40] collected minimizers\n",
      "[M::mm_idx_gen::0.042*2.99] sorted minimizers\n",
      "[M::main::0.051*2.65] loaded/built the index for 1 target sequence(s)\n",
      "[M::mm_idx_stat] kmer size: 15; skip: 5; is_hpc: 0; #seq: 1\n",
      "[M::mm_idx_stat::0.053*2.59] distinct minimizers: 99693 (97.15% are singletons); average occurrences: 1.119; average spacing: 2.905; total length: 324000\n",
      "[M::main] Version: 2.26-r1175\n",
      "[M::main] CMD: minimap2 -t 4 -x splice -d results/bcr_abl_fusion/bcr_abl_fusion.mm2.splice.mmi results/bcr_abl_fusion/reference.fasta\n",
      "[M::main] Real time: 0.073 sec; CPU: 0.141 sec; Peak RSS: 0.057 GB\n"
     ]
    }
   ],
   "source": [
    "# build minimap2 index\n",
    "! cat /home/chenzonggui/species/homo_sapiens/GRCh38.p13/GRCh38.canonical.genome.fa results/bcr_abl_fusion/reference.fasta > results/bcr_abl_fusion/grch38_bcr_abl.fasta\n",
    "! minimap2 -t 4 -x splice -d results/bcr_abl_fusion/bcr_abl_fusion.mm2.splice.mmi results/bcr_abl_fusion/reference.fasta\n",
    "! minimap2 -t 20 -x splice -d results/bcr_abl_fusion/grch38_bcr_abl_fusion.mm2.splice.mmi results/bcr_abl_fusion/grch38_bcr_abl.fasta"
   ]
  },
  {
   "cell_type": "code",
   "execution_count": 22,
   "id": "a8d1bb0a",
   "metadata": {
    "ExecuteTime": {
     "end_time": "2023-08-08T05:12:40.488442Z",
     "start_time": "2023-08-08T05:12:39.662825Z"
    }
   },
   "outputs": [],
   "source": [
    "# make bed\n",
    "\n",
    "bed = \"/home/chenzonggui/species/homo_sapiens/GRCh38.p13/gencode.v39.annotation.transcripts.bed.gz\"\n",
    "\n",
    "rows = []\n",
    "offset = 0\n",
    "with pysam.TabixFile(bed) as f:\n",
    "    for chrom, start, end, strand in regions:\n",
    "        length = end - start\n",
    "        for line in f.fetch(chrom, start, end):\n",
    "            row = line.split(\"\\t\")\n",
    "            row[0] = \"BCR_ABL\"\n",
    "            for idx in [1, 2, 6, 7]:\n",
    "                row[idx] = int(row[idx]) - start\n",
    "                assert row[idx] >= 0 and row[idx] < length\n",
    "                row[idx] += offset\n",
    "            rows.append(row)\n",
    "        offset += length\n",
    "\n",
    "with open(\"results/bcr_abl_fusion/transcripts.bed\", \"w+\") as fw:\n",
    "    with gzip.open(bed, \"rt\") as f:\n",
    "        for line in f:\n",
    "            fw.write(line)\n",
    "    for row in rows:\n",
    "        line = \"\\t\".join(map(str, row))\n",
    "        fw.write(line + \"\\n\")"
   ]
  },
  {
   "cell_type": "code",
   "execution_count": 15,
   "id": "c81fbcab",
   "metadata": {
    "ExecuteTime": {
     "end_time": "2023-08-08T02:27:43.608491Z",
     "start_time": "2023-08-08T02:27:43.548961Z"
    }
   },
   "outputs": [],
   "source": [
    "# make gtf\n",
    "\n",
    "gtf = \"/home/chenzonggui/species/homo_sapiens/GRCh38.p13/gencode.v39.annotation.sorted.gtf.gz\"\n",
    "\n",
    "rows = []\n",
    "offset = 0\n",
    "with pysam.TabixFile(gtf) as f:\n",
    "    for chrom, start, end, strand in regions:\n",
    "        length = end - start\n",
    "        for line in f.fetch(chrom, start, end):\n",
    "            row = line.split(\"\\t\")\n",
    "            row[0] = \"BCR_ABL\"\n",
    "            for idx in [3, 4]:\n",
    "                row[idx] = int(row[idx]) - start\n",
    "                assert row[idx] >= 0 and row[idx] < length\n",
    "                row[idx] += offset\n",
    "            rows.append(row)\n",
    "        offset += length\n",
    "        \n",
    "with open(\"results/bcr_abl_fusion/transcripts.gtf\", \"w+\") as fw:\n",
    "    for row in rows:\n",
    "        line = \"\\t\".join(map(str, row))\n",
    "        fw.write(line + \"\\n\")"
   ]
  }
 ],
 "metadata": {
  "kernelspec": {
   "display_name": "Python 3 (ipykernel)",
   "language": "python",
   "name": "python3"
  },
  "language_info": {
   "codemirror_mode": {
    "name": "ipython",
    "version": 3
   },
   "file_extension": ".py",
   "mimetype": "text/x-python",
   "name": "python",
   "nbconvert_exporter": "python",
   "pygments_lexer": "ipython3",
   "version": "3.10.13"
  }
 },
 "nbformat": 4,
 "nbformat_minor": 5
}
