{
 "cells": [
  {
   "cell_type": "code",
   "execution_count": 15,
   "id": "b2452000-f529-4115-9dee-9677e1d7a346",
   "metadata": {
    "execution": {
     "iopub.execute_input": "2024-06-10T06:30:10.814417Z",
     "iopub.status.busy": "2024-06-10T06:30:10.813658Z",
     "iopub.status.idle": "2024-06-10T06:30:10.824488Z",
     "shell.execute_reply": "2024-06-10T06:30:10.822268Z",
     "shell.execute_reply.started": "2024-06-10T06:30:10.814354Z"
    }
   },
   "outputs": [],
   "source": [
    "import subprocess\n",
    "import pandas as pd\n",
    "import pysam"
   ]
  },
  {
   "cell_type": "code",
   "execution_count": 11,
   "id": "de096060-d8b1-42ca-9dd6-0f923522adb3",
   "metadata": {
    "execution": {
     "iopub.execute_input": "2024-06-10T06:25:45.111539Z",
     "iopub.status.busy": "2024-06-10T06:25:45.110751Z",
     "iopub.status.idle": "2024-06-10T06:25:45.209490Z",
     "shell.execute_reply": "2024-06-10T06:25:45.208367Z",
     "shell.execute_reply.started": "2024-06-10T06:25:45.111433Z"
    }
   },
   "outputs": [
    {
     "name": "stdout",
     "output_type": "stream",
     "text": [
      "105\n"
     ]
    }
   ],
   "source": [
    "df = pd.read_csv(\"reports/NanoNASCseq_Summary.tsv\", sep=\"\\t\")\n",
    "df = df[(df[\"CellLine\"] == \"K562\") & (df[\"s4U\"] == 50) & (df[\"Time\"] == 3) & (df[\"UMIs\"] >= 5000) & (df[\"TC.Ratio\"] >= 0.008) & (df[\"ActD\"].isna())]\n",
    "print(len(df))"
   ]
  },
  {
   "cell_type": "code",
   "execution_count": 14,
   "id": "5c6a246d-3b95-4e7a-9fab-521a51e96572",
   "metadata": {
    "execution": {
     "iopub.execute_input": "2024-06-10T06:28:53.111035Z",
     "iopub.status.busy": "2024-06-10T06:28:53.110266Z",
     "iopub.status.idle": "2024-06-10T06:29:53.656538Z",
     "shell.execute_reply": "2024-06-10T06:29:53.654833Z",
     "shell.execute_reply.started": "2024-06-10T06:28:53.110968Z"
    },
    "scrolled": true
   },
   "outputs": [
    {
     "name": "stdout",
     "output_type": "stream",
     "text": [
      "0\tresults/mapping/remove_duplicate/20220719_K562R4/20220719_K562R4.C02.bam\n"
     ]
    },
    {
     "name": "stderr",
     "output_type": "stream",
     "text": [
      "[W::hts_idx_load3] The index file is older than the data file: results/mapping/remove_duplicate/20220719_K562R4/20220719_K562R4.C02.bam.bai\n"
     ]
    },
    {
     "name": "stdout",
     "output_type": "stream",
     "text": [
      "1\tresults/mapping/remove_duplicate/20220719_K562R4/20220719_K562R4.C03.bam\n"
     ]
    },
    {
     "name": "stderr",
     "output_type": "stream",
     "text": [
      "[W::hts_idx_load3] The index file is older than the data file: results/mapping/remove_duplicate/20220719_K562R4/20220719_K562R4.C03.bam.bai\n"
     ]
    },
    {
     "name": "stdout",
     "output_type": "stream",
     "text": [
      "2\tresults/mapping/remove_duplicate/20220719_K562R4/20220719_K562R4.C09.bam\n"
     ]
    },
    {
     "name": "stderr",
     "output_type": "stream",
     "text": [
      "[W::hts_idx_load3] The index file is older than the data file: results/mapping/remove_duplicate/20220719_K562R4/20220719_K562R4.C09.bam.bai\n"
     ]
    },
    {
     "name": "stdout",
     "output_type": "stream",
     "text": [
      "3\tresults/mapping/remove_duplicate/20220719_K562R4/20220719_K562R4.C12.bam\n"
     ]
    },
    {
     "name": "stderr",
     "output_type": "stream",
     "text": [
      "[W::hts_idx_load3] The index file is older than the data file: results/mapping/remove_duplicate/20220719_K562R4/20220719_K562R4.C12.bam.bai\n"
     ]
    },
    {
     "name": "stdout",
     "output_type": "stream",
     "text": [
      "4\tresults/mapping/remove_duplicate/20220719_K562R4/20220719_K562R4.C13.bam\n"
     ]
    },
    {
     "name": "stderr",
     "output_type": "stream",
     "text": [
      "[W::hts_idx_load3] The index file is older than the data file: results/mapping/remove_duplicate/20220719_K562R4/20220719_K562R4.C13.bam.bai\n"
     ]
    },
    {
     "name": "stdout",
     "output_type": "stream",
     "text": [
      "5\tresults/mapping/remove_duplicate/20220719_K562R4/20220719_K562R4.C15.bam\n"
     ]
    },
    {
     "name": "stderr",
     "output_type": "stream",
     "text": [
      "[W::hts_idx_load3] The index file is older than the data file: results/mapping/remove_duplicate/20220719_K562R4/20220719_K562R4.C15.bam.bai\n"
     ]
    },
    {
     "name": "stdout",
     "output_type": "stream",
     "text": [
      "6\tresults/mapping/remove_duplicate/20220719_K562R4/20220719_K562R4.C17.bam\n"
     ]
    },
    {
     "name": "stderr",
     "output_type": "stream",
     "text": [
      "[W::hts_idx_load3] The index file is older than the data file: results/mapping/remove_duplicate/20220719_K562R4/20220719_K562R4.C17.bam.bai\n"
     ]
    },
    {
     "name": "stdout",
     "output_type": "stream",
     "text": [
      "7\tresults/mapping/remove_duplicate/20220719_K562R4/20220719_K562R4.C20.bam\n"
     ]
    },
    {
     "name": "stderr",
     "output_type": "stream",
     "text": [
      "[W::hts_idx_load3] The index file is older than the data file: results/mapping/remove_duplicate/20220719_K562R4/20220719_K562R4.C20.bam.bai\n"
     ]
    },
    {
     "name": "stdout",
     "output_type": "stream",
     "text": [
      "8\tresults/mapping/remove_duplicate/20220719_K562R4/20220719_K562R4.C21.bam\n"
     ]
    },
    {
     "name": "stderr",
     "output_type": "stream",
     "text": [
      "[W::hts_idx_load3] The index file is older than the data file: results/mapping/remove_duplicate/20220719_K562R4/20220719_K562R4.C21.bam.bai\n"
     ]
    },
    {
     "name": "stdout",
     "output_type": "stream",
     "text": [
      "9\tresults/mapping/remove_duplicate/20220719_K562R4/20220719_K562R4.C24.bam\n"
     ]
    },
    {
     "name": "stderr",
     "output_type": "stream",
     "text": [
      "[W::hts_idx_load3] The index file is older than the data file: results/mapping/remove_duplicate/20220719_K562R4/20220719_K562R4.C24.bam.bai\n"
     ]
    },
    {
     "name": "stdout",
     "output_type": "stream",
     "text": [
      "10\tresults/mapping/remove_duplicate/20220719_K562R4/20220719_K562R4.C25.bam\n"
     ]
    },
    {
     "name": "stderr",
     "output_type": "stream",
     "text": [
      "[W::hts_idx_load3] The index file is older than the data file: results/mapping/remove_duplicate/20220719_K562R4/20220719_K562R4.C25.bam.bai\n"
     ]
    },
    {
     "name": "stdout",
     "output_type": "stream",
     "text": [
      "11\tresults/mapping/remove_duplicate/20220719_K562R4/20220719_K562R4.C29.bam\n"
     ]
    },
    {
     "name": "stderr",
     "output_type": "stream",
     "text": [
      "[W::hts_idx_load3] The index file is older than the data file: results/mapping/remove_duplicate/20220719_K562R4/20220719_K562R4.C29.bam.bai\n"
     ]
    },
    {
     "name": "stdout",
     "output_type": "stream",
     "text": [
      "12\tresults/mapping/remove_duplicate/20220719_K562R4/20220719_K562R4.C33.bam\n"
     ]
    },
    {
     "name": "stderr",
     "output_type": "stream",
     "text": [
      "[W::hts_idx_load3] The index file is older than the data file: results/mapping/remove_duplicate/20220719_K562R4/20220719_K562R4.C33.bam.bai\n"
     ]
    },
    {
     "name": "stdout",
     "output_type": "stream",
     "text": [
      "13\tresults/mapping/remove_duplicate/20220719_K562R4/20220719_K562R4.C36.bam\n"
     ]
    },
    {
     "name": "stderr",
     "output_type": "stream",
     "text": [
      "[W::hts_idx_load3] The index file is older than the data file: results/mapping/remove_duplicate/20220719_K562R4/20220719_K562R4.C36.bam.bai\n"
     ]
    },
    {
     "name": "stdout",
     "output_type": "stream",
     "text": [
      "14\tresults/mapping/remove_duplicate/20220719_K562R4/20220719_K562R4.C38.bam\n"
     ]
    },
    {
     "name": "stderr",
     "output_type": "stream",
     "text": [
      "[W::hts_idx_load3] The index file is older than the data file: results/mapping/remove_duplicate/20220719_K562R4/20220719_K562R4.C38.bam.bai\n"
     ]
    },
    {
     "name": "stdout",
     "output_type": "stream",
     "text": [
      "15\tresults/mapping/remove_duplicate/20220719_K562R4/20220719_K562R4.C40.bam\n"
     ]
    },
    {
     "name": "stderr",
     "output_type": "stream",
     "text": [
      "[W::hts_idx_load3] The index file is older than the data file: results/mapping/remove_duplicate/20220719_K562R4/20220719_K562R4.C40.bam.bai\n"
     ]
    },
    {
     "name": "stdout",
     "output_type": "stream",
     "text": [
      "16\tresults/mapping/remove_duplicate/20220719_K562R4/20220719_K562R4.C44.bam\n"
     ]
    },
    {
     "name": "stderr",
     "output_type": "stream",
     "text": [
      "[W::hts_idx_load3] The index file is older than the data file: results/mapping/remove_duplicate/20220719_K562R4/20220719_K562R4.C44.bam.bai\n"
     ]
    },
    {
     "name": "stdout",
     "output_type": "stream",
     "text": [
      "17\tresults/mapping/remove_duplicate/20220729_K562R1/20220729_K562R1.C44.bam\n"
     ]
    },
    {
     "name": "stderr",
     "output_type": "stream",
     "text": [
      "[W::hts_idx_load3] The index file is older than the data file: results/mapping/remove_duplicate/20220729_K562R1/20220729_K562R1.C44.bam.bai\n"
     ]
    },
    {
     "name": "stdout",
     "output_type": "stream",
     "text": [
      "18\tresults/mapping/remove_duplicate/20220729_K562R1/20220729_K562R1.C45.bam\n"
     ]
    },
    {
     "name": "stderr",
     "output_type": "stream",
     "text": [
      "[W::hts_idx_load3] The index file is older than the data file: results/mapping/remove_duplicate/20220729_K562R1/20220729_K562R1.C45.bam.bai\n"
     ]
    },
    {
     "name": "stdout",
     "output_type": "stream",
     "text": [
      "19\tresults/mapping/remove_duplicate/20220729_K562R1/20220729_K562R1.C46.bam\n"
     ]
    },
    {
     "name": "stderr",
     "output_type": "stream",
     "text": [
      "[W::hts_idx_load3] The index file is older than the data file: results/mapping/remove_duplicate/20220729_K562R1/20220729_K562R1.C46.bam.bai\n"
     ]
    },
    {
     "name": "stdout",
     "output_type": "stream",
     "text": [
      "20\tresults/mapping/remove_duplicate/20220729_K562R1/20220729_K562R1.C47.bam\n"
     ]
    },
    {
     "name": "stderr",
     "output_type": "stream",
     "text": [
      "[W::hts_idx_load3] The index file is older than the data file: results/mapping/remove_duplicate/20220729_K562R1/20220729_K562R1.C47.bam.bai\n"
     ]
    },
    {
     "name": "stdout",
     "output_type": "stream",
     "text": [
      "21\tresults/mapping/remove_duplicate/20220729_K562R1/20220729_K562R1.C48.bam\n"
     ]
    },
    {
     "name": "stderr",
     "output_type": "stream",
     "text": [
      "[W::hts_idx_load3] The index file is older than the data file: results/mapping/remove_duplicate/20220729_K562R1/20220729_K562R1.C48.bam.bai\n"
     ]
    },
    {
     "name": "stdout",
     "output_type": "stream",
     "text": [
      "22\tresults/mapping/remove_duplicate/20220729_K562R1/20220729_K562R1.C49.bam\n"
     ]
    },
    {
     "name": "stderr",
     "output_type": "stream",
     "text": [
      "[W::hts_idx_load3] The index file is older than the data file: results/mapping/remove_duplicate/20220729_K562R1/20220729_K562R1.C49.bam.bai\n"
     ]
    },
    {
     "name": "stdout",
     "output_type": "stream",
     "text": [
      "23\tresults/mapping/remove_duplicate/20220729_K562R1/20220729_K562R1.C50.bam\n"
     ]
    },
    {
     "name": "stderr",
     "output_type": "stream",
     "text": [
      "[W::hts_idx_load3] The index file is older than the data file: results/mapping/remove_duplicate/20220729_K562R1/20220729_K562R1.C50.bam.bai\n"
     ]
    },
    {
     "name": "stdout",
     "output_type": "stream",
     "text": [
      "24\tresults/mapping/remove_duplicate/20220729_K562R1/20220729_K562R1.C52.bam\n"
     ]
    },
    {
     "name": "stderr",
     "output_type": "stream",
     "text": [
      "[W::hts_idx_load3] The index file is older than the data file: results/mapping/remove_duplicate/20220729_K562R1/20220729_K562R1.C52.bam.bai\n"
     ]
    },
    {
     "name": "stdout",
     "output_type": "stream",
     "text": [
      "25\tresults/mapping/remove_duplicate/20220729_K562R1/20220729_K562R1.C53.bam\n"
     ]
    },
    {
     "name": "stderr",
     "output_type": "stream",
     "text": [
      "[W::hts_idx_load3] The index file is older than the data file: results/mapping/remove_duplicate/20220729_K562R1/20220729_K562R1.C53.bam.bai\n"
     ]
    },
    {
     "name": "stdout",
     "output_type": "stream",
     "text": [
      "26\tresults/mapping/remove_duplicate/20220729_K562R1/20220729_K562R1.C54.bam\n"
     ]
    },
    {
     "name": "stderr",
     "output_type": "stream",
     "text": [
      "[W::hts_idx_load3] The index file is older than the data file: results/mapping/remove_duplicate/20220729_K562R1/20220729_K562R1.C54.bam.bai\n"
     ]
    },
    {
     "name": "stdout",
     "output_type": "stream",
     "text": [
      "27\tresults/mapping/remove_duplicate/20220729_K562R1/20220729_K562R1.C56.bam\n"
     ]
    },
    {
     "name": "stderr",
     "output_type": "stream",
     "text": [
      "[W::hts_idx_load3] The index file is older than the data file: results/mapping/remove_duplicate/20220729_K562R1/20220729_K562R1.C56.bam.bai\n"
     ]
    },
    {
     "name": "stdout",
     "output_type": "stream",
     "text": [
      "28\tresults/mapping/remove_duplicate/20220729_K562R1/20220729_K562R1.C57.bam\n"
     ]
    },
    {
     "name": "stderr",
     "output_type": "stream",
     "text": [
      "[W::hts_idx_load3] The index file is older than the data file: results/mapping/remove_duplicate/20220729_K562R1/20220729_K562R1.C57.bam.bai\n"
     ]
    },
    {
     "name": "stdout",
     "output_type": "stream",
     "text": [
      "29\tresults/mapping/remove_duplicate/20220729_K562R1/20220729_K562R1.C58.bam\n"
     ]
    },
    {
     "name": "stderr",
     "output_type": "stream",
     "text": [
      "[W::hts_idx_load3] The index file is older than the data file: results/mapping/remove_duplicate/20220729_K562R1/20220729_K562R1.C58.bam.bai\n"
     ]
    },
    {
     "name": "stdout",
     "output_type": "stream",
     "text": [
      "30\tresults/mapping/remove_duplicate/20220729_K562R1/20220729_K562R1.C60.bam\n"
     ]
    },
    {
     "name": "stderr",
     "output_type": "stream",
     "text": [
      "[W::hts_idx_load3] The index file is older than the data file: results/mapping/remove_duplicate/20220729_K562R1/20220729_K562R1.C60.bam.bai\n"
     ]
    },
    {
     "name": "stdout",
     "output_type": "stream",
     "text": [
      "31\tresults/mapping/remove_duplicate/20220729_K562R1/20220729_K562R1.C61.bam\n"
     ]
    },
    {
     "name": "stderr",
     "output_type": "stream",
     "text": [
      "[W::hts_idx_load3] The index file is older than the data file: results/mapping/remove_duplicate/20220729_K562R1/20220729_K562R1.C61.bam.bai\n"
     ]
    },
    {
     "name": "stdout",
     "output_type": "stream",
     "text": [
      "32\tresults/mapping/remove_duplicate/20220729_K562R1/20220729_K562R1.C62.bam\n"
     ]
    },
    {
     "name": "stderr",
     "output_type": "stream",
     "text": [
      "[W::hts_idx_load3] The index file is older than the data file: results/mapping/remove_duplicate/20220729_K562R1/20220729_K562R1.C62.bam.bai\n"
     ]
    },
    {
     "name": "stdout",
     "output_type": "stream",
     "text": [
      "33\tresults/mapping/remove_duplicate/20220729_K562R1/20220729_K562R1.C63.bam\n"
     ]
    },
    {
     "name": "stderr",
     "output_type": "stream",
     "text": [
      "[W::hts_idx_load3] The index file is older than the data file: results/mapping/remove_duplicate/20220729_K562R1/20220729_K562R1.C63.bam.bai\n"
     ]
    },
    {
     "name": "stdout",
     "output_type": "stream",
     "text": [
      "34\tresults/mapping/remove_duplicate/20220729_K562R1/20220729_K562R1.C64.bam\n"
     ]
    },
    {
     "name": "stderr",
     "output_type": "stream",
     "text": [
      "[W::hts_idx_load3] The index file is older than the data file: results/mapping/remove_duplicate/20220729_K562R1/20220729_K562R1.C64.bam.bai\n"
     ]
    },
    {
     "name": "stdout",
     "output_type": "stream",
     "text": [
      "35\tresults/mapping/remove_duplicate/20220729_K562R1/20220729_K562R1.C65.bam\n"
     ]
    },
    {
     "name": "stderr",
     "output_type": "stream",
     "text": [
      "[W::hts_idx_load3] The index file is older than the data file: results/mapping/remove_duplicate/20220729_K562R1/20220729_K562R1.C65.bam.bai\n"
     ]
    },
    {
     "name": "stdout",
     "output_type": "stream",
     "text": [
      "36\tresults/mapping/remove_duplicate/20220729_K562R1/20220729_K562R1.C66.bam\n"
     ]
    },
    {
     "name": "stderr",
     "output_type": "stream",
     "text": [
      "[W::hts_idx_load3] The index file is older than the data file: results/mapping/remove_duplicate/20220729_K562R1/20220729_K562R1.C66.bam.bai\n"
     ]
    },
    {
     "name": "stdout",
     "output_type": "stream",
     "text": [
      "37\tresults/mapping/remove_duplicate/20220729_K562R1/20220729_K562R1.C67.bam\n",
      "38\tresults/mapping/remove_duplicate/20220729_K562R1/20220729_K562R1.C68.bam\n"
     ]
    },
    {
     "name": "stderr",
     "output_type": "stream",
     "text": [
      "[W::hts_idx_load3] The index file is older than the data file: results/mapping/remove_duplicate/20220729_K562R1/20220729_K562R1.C67.bam.bai\n",
      "[W::hts_idx_load3] The index file is older than the data file: results/mapping/remove_duplicate/20220729_K562R1/20220729_K562R1.C68.bam.bai\n"
     ]
    },
    {
     "name": "stdout",
     "output_type": "stream",
     "text": [
      "39\tresults/mapping/remove_duplicate/20220729_K562R1/20220729_K562R1.C69.bam\n"
     ]
    },
    {
     "name": "stderr",
     "output_type": "stream",
     "text": [
      "[W::hts_idx_load3] The index file is older than the data file: results/mapping/remove_duplicate/20220729_K562R1/20220729_K562R1.C69.bam.bai\n"
     ]
    },
    {
     "name": "stdout",
     "output_type": "stream",
     "text": [
      "40\tresults/mapping/remove_duplicate/20220729_K562R1/20220729_K562R1.C71.bam\n"
     ]
    },
    {
     "name": "stderr",
     "output_type": "stream",
     "text": [
      "[W::hts_idx_load3] The index file is older than the data file: results/mapping/remove_duplicate/20220729_K562R1/20220729_K562R1.C71.bam.bai\n"
     ]
    },
    {
     "name": "stdout",
     "output_type": "stream",
     "text": [
      "41\tresults/mapping/remove_duplicate/20220729_K562R1/20220729_K562R1.C74.bam\n"
     ]
    },
    {
     "name": "stderr",
     "output_type": "stream",
     "text": [
      "[W::hts_idx_load3] The index file is older than the data file: results/mapping/remove_duplicate/20220729_K562R1/20220729_K562R1.C74.bam.bai\n"
     ]
    },
    {
     "name": "stdout",
     "output_type": "stream",
     "text": [
      "42\tresults/mapping/remove_duplicate/20220729_K562R1/20220729_K562R1.C75.bam\n"
     ]
    },
    {
     "name": "stderr",
     "output_type": "stream",
     "text": [
      "[W::hts_idx_load3] The index file is older than the data file: results/mapping/remove_duplicate/20220729_K562R1/20220729_K562R1.C75.bam.bai\n"
     ]
    },
    {
     "name": "stdout",
     "output_type": "stream",
     "text": [
      "43\tresults/mapping/remove_duplicate/20220729_K562R1/20220729_K562R1.C77.bam\n"
     ]
    },
    {
     "name": "stderr",
     "output_type": "stream",
     "text": [
      "[W::hts_idx_load3] The index file is older than the data file: results/mapping/remove_duplicate/20220729_K562R1/20220729_K562R1.C77.bam.bai\n"
     ]
    },
    {
     "name": "stdout",
     "output_type": "stream",
     "text": [
      "44\tresults/mapping/remove_duplicate/20220729_K562R1/20220729_K562R1.C79.bam\n"
     ]
    },
    {
     "name": "stderr",
     "output_type": "stream",
     "text": [
      "[W::hts_idx_load3] The index file is older than the data file: results/mapping/remove_duplicate/20220729_K562R1/20220729_K562R1.C79.bam.bai\n"
     ]
    },
    {
     "name": "stdout",
     "output_type": "stream",
     "text": [
      "45\tresults/mapping/remove_duplicate/20220729_K562R1/20220729_K562R1.C80.bam\n"
     ]
    },
    {
     "name": "stderr",
     "output_type": "stream",
     "text": [
      "[W::hts_idx_load3] The index file is older than the data file: results/mapping/remove_duplicate/20220729_K562R1/20220729_K562R1.C80.bam.bai\n"
     ]
    },
    {
     "name": "stdout",
     "output_type": "stream",
     "text": [
      "46\tresults/mapping/remove_duplicate/20220729_K562R1/20220729_K562R1.C82.bam\n"
     ]
    },
    {
     "name": "stderr",
     "output_type": "stream",
     "text": [
      "[W::hts_idx_load3] The index file is older than the data file: results/mapping/remove_duplicate/20220729_K562R1/20220729_K562R1.C82.bam.bai\n"
     ]
    },
    {
     "name": "stdout",
     "output_type": "stream",
     "text": [
      "47\tresults/mapping/remove_duplicate/20220729_K562R1/20220729_K562R1.C84.bam\n"
     ]
    },
    {
     "name": "stderr",
     "output_type": "stream",
     "text": [
      "[W::hts_idx_load3] The index file is older than the data file: results/mapping/remove_duplicate/20220729_K562R1/20220729_K562R1.C84.bam.bai\n"
     ]
    },
    {
     "name": "stdout",
     "output_type": "stream",
     "text": [
      "48\tresults/mapping/remove_duplicate/20220729_K562R1/20220729_K562R1.C85.bam\n"
     ]
    },
    {
     "name": "stderr",
     "output_type": "stream",
     "text": [
      "[W::hts_idx_load3] The index file is older than the data file: results/mapping/remove_duplicate/20220729_K562R1/20220729_K562R1.C85.bam.bai\n"
     ]
    },
    {
     "name": "stdout",
     "output_type": "stream",
     "text": [
      "49\tresults/mapping/remove_duplicate/20220729_K562R2/20220729_K562R2.C02.bam\n"
     ]
    },
    {
     "name": "stderr",
     "output_type": "stream",
     "text": [
      "[W::hts_idx_load3] The index file is older than the data file: results/mapping/remove_duplicate/20220729_K562R2/20220729_K562R2.C02.bam.bai\n"
     ]
    },
    {
     "name": "stdout",
     "output_type": "stream",
     "text": [
      "50\tresults/mapping/remove_duplicate/20220729_K562R2/20220729_K562R2.C05.bam\n"
     ]
    },
    {
     "name": "stderr",
     "output_type": "stream",
     "text": [
      "[W::hts_idx_load3] The index file is older than the data file: results/mapping/remove_duplicate/20220729_K562R2/20220729_K562R2.C05.bam.bai\n"
     ]
    },
    {
     "name": "stdout",
     "output_type": "stream",
     "text": [
      "51\tresults/mapping/remove_duplicate/20220729_K562R2/20220729_K562R2.C06.bam\n"
     ]
    },
    {
     "name": "stderr",
     "output_type": "stream",
     "text": [
      "[W::hts_idx_load3] The index file is older than the data file: results/mapping/remove_duplicate/20220729_K562R2/20220729_K562R2.C06.bam.bai\n"
     ]
    },
    {
     "name": "stdout",
     "output_type": "stream",
     "text": [
      "52\tresults/mapping/remove_duplicate/20220729_K562R2/20220729_K562R2.C08.bam\n"
     ]
    },
    {
     "name": "stderr",
     "output_type": "stream",
     "text": [
      "[W::hts_idx_load3] The index file is older than the data file: results/mapping/remove_duplicate/20220729_K562R2/20220729_K562R2.C08.bam.bai\n"
     ]
    },
    {
     "name": "stdout",
     "output_type": "stream",
     "text": [
      "53\tresults/mapping/remove_duplicate/20220729_K562R2/20220729_K562R2.C10.bam\n"
     ]
    },
    {
     "name": "stderr",
     "output_type": "stream",
     "text": [
      "[W::hts_idx_load3] The index file is older than the data file: results/mapping/remove_duplicate/20220729_K562R2/20220729_K562R2.C10.bam.bai\n"
     ]
    },
    {
     "name": "stdout",
     "output_type": "stream",
     "text": [
      "54\tresults/mapping/remove_duplicate/20220729_K562R2/20220729_K562R2.C11.bam\n"
     ]
    },
    {
     "name": "stderr",
     "output_type": "stream",
     "text": [
      "[W::hts_idx_load3] The index file is older than the data file: results/mapping/remove_duplicate/20220729_K562R2/20220729_K562R2.C11.bam.bai\n"
     ]
    },
    {
     "name": "stdout",
     "output_type": "stream",
     "text": [
      "55\tresults/mapping/remove_duplicate/20220729_K562R2/20220729_K562R2.C12.bam\n"
     ]
    },
    {
     "name": "stderr",
     "output_type": "stream",
     "text": [
      "[W::hts_idx_load3] The index file is older than the data file: results/mapping/remove_duplicate/20220729_K562R2/20220729_K562R2.C12.bam.bai\n"
     ]
    },
    {
     "name": "stdout",
     "output_type": "stream",
     "text": [
      "56\tresults/mapping/remove_duplicate/20220729_K562R2/20220729_K562R2.C13.bam\n"
     ]
    },
    {
     "name": "stderr",
     "output_type": "stream",
     "text": [
      "[W::hts_idx_load3] The index file is older than the data file: results/mapping/remove_duplicate/20220729_K562R2/20220729_K562R2.C13.bam.bai\n"
     ]
    },
    {
     "name": "stdout",
     "output_type": "stream",
     "text": [
      "57\tresults/mapping/remove_duplicate/20220729_K562R2/20220729_K562R2.C16.bam\n"
     ]
    },
    {
     "name": "stderr",
     "output_type": "stream",
     "text": [
      "[W::hts_idx_load3] The index file is older than the data file: results/mapping/remove_duplicate/20220729_K562R2/20220729_K562R2.C16.bam.bai\n"
     ]
    },
    {
     "name": "stdout",
     "output_type": "stream",
     "text": [
      "58\tresults/mapping/remove_duplicate/20220729_K562R2/20220729_K562R2.C18.bam\n"
     ]
    },
    {
     "name": "stderr",
     "output_type": "stream",
     "text": [
      "[W::hts_idx_load3] The index file is older than the data file: results/mapping/remove_duplicate/20220729_K562R2/20220729_K562R2.C18.bam.bai\n"
     ]
    },
    {
     "name": "stdout",
     "output_type": "stream",
     "text": [
      "59\tresults/mapping/remove_duplicate/20220729_K562R2/20220729_K562R2.C20.bam\n"
     ]
    },
    {
     "name": "stderr",
     "output_type": "stream",
     "text": [
      "[W::hts_idx_load3] The index file is older than the data file: results/mapping/remove_duplicate/20220729_K562R2/20220729_K562R2.C20.bam.bai\n"
     ]
    },
    {
     "name": "stdout",
     "output_type": "stream",
     "text": [
      "60\tresults/mapping/remove_duplicate/20220729_K562R2/20220729_K562R2.C21.bam\n"
     ]
    },
    {
     "name": "stderr",
     "output_type": "stream",
     "text": [
      "[W::hts_idx_load3] The index file is older than the data file: results/mapping/remove_duplicate/20220729_K562R2/20220729_K562R2.C21.bam.bai\n"
     ]
    },
    {
     "name": "stdout",
     "output_type": "stream",
     "text": [
      "61\tresults/mapping/remove_duplicate/20220729_K562R2/20220729_K562R2.C23.bam\n"
     ]
    },
    {
     "name": "stderr",
     "output_type": "stream",
     "text": [
      "[W::hts_idx_load3] The index file is older than the data file: results/mapping/remove_duplicate/20220729_K562R2/20220729_K562R2.C23.bam.bai\n"
     ]
    },
    {
     "name": "stdout",
     "output_type": "stream",
     "text": [
      "62\tresults/mapping/remove_duplicate/20220729_K562R2/20220729_K562R2.C27.bam\n"
     ]
    },
    {
     "name": "stderr",
     "output_type": "stream",
     "text": [
      "[W::hts_idx_load3] The index file is older than the data file: results/mapping/remove_duplicate/20220729_K562R2/20220729_K562R2.C27.bam.bai\n"
     ]
    },
    {
     "name": "stdout",
     "output_type": "stream",
     "text": [
      "63\tresults/mapping/remove_duplicate/20220729_K562R2/20220729_K562R2.C30.bam\n"
     ]
    },
    {
     "name": "stderr",
     "output_type": "stream",
     "text": [
      "[W::hts_idx_load3] The index file is older than the data file: results/mapping/remove_duplicate/20220729_K562R2/20220729_K562R2.C30.bam.bai\n"
     ]
    },
    {
     "name": "stdout",
     "output_type": "stream",
     "text": [
      "64\tresults/mapping/remove_duplicate/20220729_K562R2/20220729_K562R2.C35.bam\n"
     ]
    },
    {
     "name": "stderr",
     "output_type": "stream",
     "text": [
      "[W::hts_idx_load3] The index file is older than the data file: results/mapping/remove_duplicate/20220729_K562R2/20220729_K562R2.C35.bam.bai\n"
     ]
    },
    {
     "name": "stdout",
     "output_type": "stream",
     "text": [
      "65\tresults/mapping/remove_duplicate/20220729_K562R2/20220729_K562R2.C37.bam\n"
     ]
    },
    {
     "name": "stderr",
     "output_type": "stream",
     "text": [
      "[W::hts_idx_load3] The index file is older than the data file: results/mapping/remove_duplicate/20220729_K562R2/20220729_K562R2.C37.bam.bai\n"
     ]
    },
    {
     "name": "stdout",
     "output_type": "stream",
     "text": [
      "66\tresults/mapping/remove_duplicate/20220729_K562R2/20220729_K562R2.C39.bam\n"
     ]
    },
    {
     "name": "stderr",
     "output_type": "stream",
     "text": [
      "[W::hts_idx_load3] The index file is older than the data file: results/mapping/remove_duplicate/20220729_K562R2/20220729_K562R2.C39.bam.bai\n"
     ]
    },
    {
     "name": "stdout",
     "output_type": "stream",
     "text": [
      "67\tresults/mapping/remove_duplicate/20220729_K562R2/20220729_K562R2.C40.bam\n"
     ]
    },
    {
     "name": "stderr",
     "output_type": "stream",
     "text": [
      "[W::hts_idx_load3] The index file is older than the data file: results/mapping/remove_duplicate/20220729_K562R2/20220729_K562R2.C40.bam.bai\n"
     ]
    },
    {
     "name": "stdout",
     "output_type": "stream",
     "text": [
      "68\tresults/mapping/remove_duplicate/20220729_K562R2/20220729_K562R2.C43.bam\n"
     ]
    },
    {
     "name": "stderr",
     "output_type": "stream",
     "text": [
      "[W::hts_idx_load3] The index file is older than the data file: results/mapping/remove_duplicate/20220729_K562R2/20220729_K562R2.C43.bam.bai\n"
     ]
    },
    {
     "name": "stdout",
     "output_type": "stream",
     "text": [
      "69\tresults/mapping/remove_duplicate/20220729_K562R2/20220729_K562R2.C44.bam\n"
     ]
    },
    {
     "name": "stderr",
     "output_type": "stream",
     "text": [
      "[W::hts_idx_load3] The index file is older than the data file: results/mapping/remove_duplicate/20220729_K562R2/20220729_K562R2.C44.bam.bai\n"
     ]
    },
    {
     "name": "stdout",
     "output_type": "stream",
     "text": [
      "70\tresults/mapping/remove_duplicate/20220729_K562R2/20220729_K562R2.C46.bam\n"
     ]
    },
    {
     "name": "stderr",
     "output_type": "stream",
     "text": [
      "[W::hts_idx_load3] The index file is older than the data file: results/mapping/remove_duplicate/20220729_K562R2/20220729_K562R2.C46.bam.bai\n"
     ]
    },
    {
     "name": "stdout",
     "output_type": "stream",
     "text": [
      "71\tresults/mapping/remove_duplicate/20220729_K562R2/20220729_K562R2.C47.bam\n"
     ]
    },
    {
     "name": "stderr",
     "output_type": "stream",
     "text": [
      "[W::hts_idx_load3] The index file is older than the data file: results/mapping/remove_duplicate/20220729_K562R2/20220729_K562R2.C47.bam.bai\n"
     ]
    },
    {
     "name": "stdout",
     "output_type": "stream",
     "text": [
      "72\tresults/mapping/remove_duplicate/20220729_K562R2/20220729_K562R2.C48.bam\n"
     ]
    },
    {
     "name": "stderr",
     "output_type": "stream",
     "text": [
      "[W::hts_idx_load3] The index file is older than the data file: results/mapping/remove_duplicate/20220729_K562R2/20220729_K562R2.C48.bam.bai\n"
     ]
    },
    {
     "name": "stdout",
     "output_type": "stream",
     "text": [
      "73\tresults/mapping/remove_duplicate/20220729_K562R2/20220729_K562R2.C50.bam\n"
     ]
    },
    {
     "name": "stderr",
     "output_type": "stream",
     "text": [
      "[W::hts_idx_load3] The index file is older than the data file: results/mapping/remove_duplicate/20220729_K562R2/20220729_K562R2.C50.bam.bai\n"
     ]
    },
    {
     "name": "stdout",
     "output_type": "stream",
     "text": [
      "74\tresults/mapping/remove_duplicate/20220729_K562R2/20220729_K562R2.C54.bam\n"
     ]
    },
    {
     "name": "stderr",
     "output_type": "stream",
     "text": [
      "[W::hts_idx_load3] The index file is older than the data file: results/mapping/remove_duplicate/20220729_K562R2/20220729_K562R2.C54.bam.bai\n"
     ]
    },
    {
     "name": "stdout",
     "output_type": "stream",
     "text": [
      "75\tresults/mapping/remove_duplicate/20220729_K562R2/20220729_K562R2.C55.bam\n"
     ]
    },
    {
     "name": "stderr",
     "output_type": "stream",
     "text": [
      "[W::hts_idx_load3] The index file is older than the data file: results/mapping/remove_duplicate/20220729_K562R2/20220729_K562R2.C55.bam.bai\n"
     ]
    },
    {
     "name": "stdout",
     "output_type": "stream",
     "text": [
      "76\tresults/mapping/remove_duplicate/20220729_K562R2/20220729_K562R2.C56.bam\n"
     ]
    },
    {
     "name": "stderr",
     "output_type": "stream",
     "text": [
      "[W::hts_idx_load3] The index file is older than the data file: results/mapping/remove_duplicate/20220729_K562R2/20220729_K562R2.C56.bam.bai\n"
     ]
    },
    {
     "name": "stdout",
     "output_type": "stream",
     "text": [
      "77\tresults/mapping/remove_duplicate/20220729_K562R2/20220729_K562R2.C58.bam\n"
     ]
    },
    {
     "name": "stderr",
     "output_type": "stream",
     "text": [
      "[W::hts_idx_load3] The index file is older than the data file: results/mapping/remove_duplicate/20220729_K562R2/20220729_K562R2.C58.bam.bai\n"
     ]
    },
    {
     "name": "stdout",
     "output_type": "stream",
     "text": [
      "78\tresults/mapping/remove_duplicate/20220729_K562R2/20220729_K562R2.C59.bam\n"
     ]
    },
    {
     "name": "stderr",
     "output_type": "stream",
     "text": [
      "[W::hts_idx_load3] The index file is older than the data file: results/mapping/remove_duplicate/20220729_K562R2/20220729_K562R2.C59.bam.bai\n"
     ]
    },
    {
     "name": "stdout",
     "output_type": "stream",
     "text": [
      "79\tresults/mapping/remove_duplicate/20220729_K562R2/20220729_K562R2.C61.bam\n"
     ]
    },
    {
     "name": "stderr",
     "output_type": "stream",
     "text": [
      "[W::hts_idx_load3] The index file is older than the data file: results/mapping/remove_duplicate/20220729_K562R2/20220729_K562R2.C61.bam.bai\n"
     ]
    },
    {
     "name": "stdout",
     "output_type": "stream",
     "text": [
      "80\tresults/mapping/remove_duplicate/20220729_K562R2/20220729_K562R2.C62.bam\n"
     ]
    },
    {
     "name": "stderr",
     "output_type": "stream",
     "text": [
      "[W::hts_idx_load3] The index file is older than the data file: results/mapping/remove_duplicate/20220729_K562R2/20220729_K562R2.C62.bam.bai\n"
     ]
    },
    {
     "name": "stdout",
     "output_type": "stream",
     "text": [
      "81\tresults/mapping/remove_duplicate/20220729_K562R2/20220729_K562R2.C63.bam\n"
     ]
    },
    {
     "name": "stderr",
     "output_type": "stream",
     "text": [
      "[W::hts_idx_load3] The index file is older than the data file: results/mapping/remove_duplicate/20220729_K562R2/20220729_K562R2.C63.bam.bai\n"
     ]
    },
    {
     "name": "stdout",
     "output_type": "stream",
     "text": [
      "82\tresults/mapping/remove_duplicate/20220729_K562R2/20220729_K562R2.C64.bam\n"
     ]
    },
    {
     "name": "stderr",
     "output_type": "stream",
     "text": [
      "[W::hts_idx_load3] The index file is older than the data file: results/mapping/remove_duplicate/20220729_K562R2/20220729_K562R2.C64.bam.bai\n"
     ]
    },
    {
     "name": "stdout",
     "output_type": "stream",
     "text": [
      "83\tresults/mapping/remove_duplicate/20220729_K562R2/20220729_K562R2.C70.bam\n"
     ]
    },
    {
     "name": "stderr",
     "output_type": "stream",
     "text": [
      "[W::hts_idx_load3] The index file is older than the data file: results/mapping/remove_duplicate/20220729_K562R2/20220729_K562R2.C70.bam.bai\n"
     ]
    },
    {
     "name": "stdout",
     "output_type": "stream",
     "text": [
      "84\tresults/mapping/remove_duplicate/20220729_K562R2/20220729_K562R2.C72.bam\n"
     ]
    },
    {
     "name": "stderr",
     "output_type": "stream",
     "text": [
      "[W::hts_idx_load3] The index file is older than the data file: results/mapping/remove_duplicate/20220729_K562R2/20220729_K562R2.C72.bam.bai\n"
     ]
    },
    {
     "name": "stdout",
     "output_type": "stream",
     "text": [
      "85\tresults/mapping/remove_duplicate/20220729_K562R2/20220729_K562R2.C74.bam\n"
     ]
    },
    {
     "name": "stderr",
     "output_type": "stream",
     "text": [
      "[W::hts_idx_load3] The index file is older than the data file: results/mapping/remove_duplicate/20220729_K562R2/20220729_K562R2.C74.bam.bai\n"
     ]
    },
    {
     "name": "stdout",
     "output_type": "stream",
     "text": [
      "86\tresults/mapping/remove_duplicate/20220729_K562R2/20220729_K562R2.C76.bam\n"
     ]
    },
    {
     "name": "stderr",
     "output_type": "stream",
     "text": [
      "[W::hts_idx_load3] The index file is older than the data file: results/mapping/remove_duplicate/20220729_K562R2/20220729_K562R2.C76.bam.bai\n"
     ]
    },
    {
     "name": "stdout",
     "output_type": "stream",
     "text": [
      "87\tresults/mapping/remove_duplicate/20220729_K562R2/20220729_K562R2.C78.bam\n"
     ]
    },
    {
     "name": "stderr",
     "output_type": "stream",
     "text": [
      "[W::hts_idx_load3] The index file is older than the data file: results/mapping/remove_duplicate/20220729_K562R2/20220729_K562R2.C78.bam.bai\n"
     ]
    },
    {
     "name": "stdout",
     "output_type": "stream",
     "text": [
      "88\tresults/mapping/remove_duplicate/20220729_K562R2/20220729_K562R2.C79.bam\n"
     ]
    },
    {
     "name": "stderr",
     "output_type": "stream",
     "text": [
      "[W::hts_idx_load3] The index file is older than the data file: results/mapping/remove_duplicate/20220729_K562R2/20220729_K562R2.C79.bam.bai\n"
     ]
    },
    {
     "name": "stdout",
     "output_type": "stream",
     "text": [
      "89\tresults/mapping/remove_duplicate/20221014_K562R1/20221014_K562R1.C26.bam\n"
     ]
    },
    {
     "name": "stderr",
     "output_type": "stream",
     "text": [
      "[W::hts_idx_load3] The index file is older than the data file: results/mapping/remove_duplicate/20221014_K562R1/20221014_K562R1.C26.bam.bai\n"
     ]
    },
    {
     "name": "stdout",
     "output_type": "stream",
     "text": [
      "90\tresults/mapping/remove_duplicate/20221014_K562R1/20221014_K562R1.C27.bam\n"
     ]
    },
    {
     "name": "stderr",
     "output_type": "stream",
     "text": [
      "[W::hts_idx_load3] The index file is older than the data file: results/mapping/remove_duplicate/20221014_K562R1/20221014_K562R1.C27.bam.bai\n"
     ]
    },
    {
     "name": "stdout",
     "output_type": "stream",
     "text": [
      "91\tresults/mapping/remove_duplicate/20221014_K562R1/20221014_K562R1.C28.bam\n"
     ]
    },
    {
     "name": "stderr",
     "output_type": "stream",
     "text": [
      "[W::hts_idx_load3] The index file is older than the data file: results/mapping/remove_duplicate/20221014_K562R1/20221014_K562R1.C28.bam.bai\n"
     ]
    },
    {
     "name": "stdout",
     "output_type": "stream",
     "text": [
      "92\tresults/mapping/remove_duplicate/20221014_K562R1/20221014_K562R1.C29.bam\n"
     ]
    },
    {
     "name": "stderr",
     "output_type": "stream",
     "text": [
      "[W::hts_idx_load3] The index file is older than the data file: results/mapping/remove_duplicate/20221014_K562R1/20221014_K562R1.C29.bam.bai\n"
     ]
    },
    {
     "name": "stdout",
     "output_type": "stream",
     "text": [
      "93\tresults/mapping/remove_duplicate/20221014_K562R1/20221014_K562R1.C30.bam\n"
     ]
    },
    {
     "name": "stderr",
     "output_type": "stream",
     "text": [
      "[W::hts_idx_load3] The index file is older than the data file: results/mapping/remove_duplicate/20221014_K562R1/20221014_K562R1.C30.bam.bai\n"
     ]
    },
    {
     "name": "stdout",
     "output_type": "stream",
     "text": [
      "94\tresults/mapping/remove_duplicate/20221014_K562R1/20221014_K562R1.C32.bam\n"
     ]
    },
    {
     "name": "stderr",
     "output_type": "stream",
     "text": [
      "[W::hts_idx_load3] The index file is older than the data file: results/mapping/remove_duplicate/20221014_K562R1/20221014_K562R1.C32.bam.bai\n"
     ]
    },
    {
     "name": "stdout",
     "output_type": "stream",
     "text": [
      "95\tresults/mapping/remove_duplicate/20221014_K562R1/20221014_K562R1.C33.bam\n"
     ]
    },
    {
     "name": "stderr",
     "output_type": "stream",
     "text": [
      "[W::hts_idx_load3] The index file is older than the data file: results/mapping/remove_duplicate/20221014_K562R1/20221014_K562R1.C33.bam.bai\n"
     ]
    },
    {
     "name": "stdout",
     "output_type": "stream",
     "text": [
      "96\tresults/mapping/remove_duplicate/20221014_K562R1/20221014_K562R1.C34.bam\n"
     ]
    },
    {
     "name": "stderr",
     "output_type": "stream",
     "text": [
      "[W::hts_idx_load3] The index file is older than the data file: results/mapping/remove_duplicate/20221014_K562R1/20221014_K562R1.C34.bam.bai\n"
     ]
    },
    {
     "name": "stdout",
     "output_type": "stream",
     "text": [
      "97\tresults/mapping/remove_duplicate/20221014_K562R1/20221014_K562R1.C35.bam\n"
     ]
    },
    {
     "name": "stderr",
     "output_type": "stream",
     "text": [
      "[W::hts_idx_load3] The index file is older than the data file: results/mapping/remove_duplicate/20221014_K562R1/20221014_K562R1.C35.bam.bai\n"
     ]
    },
    {
     "name": "stdout",
     "output_type": "stream",
     "text": [
      "98\tresults/mapping/remove_duplicate/20221014_K562R1/20221014_K562R1.C36.bam\n"
     ]
    },
    {
     "name": "stderr",
     "output_type": "stream",
     "text": [
      "[W::hts_idx_load3] The index file is older than the data file: results/mapping/remove_duplicate/20221014_K562R1/20221014_K562R1.C36.bam.bai\n"
     ]
    },
    {
     "name": "stdout",
     "output_type": "stream",
     "text": [
      "99\tresults/mapping/remove_duplicate/20221014_K562R1/20221014_K562R1.C37.bam\n"
     ]
    },
    {
     "name": "stderr",
     "output_type": "stream",
     "text": [
      "[W::hts_idx_load3] The index file is older than the data file: results/mapping/remove_duplicate/20221014_K562R1/20221014_K562R1.C37.bam.bai\n"
     ]
    },
    {
     "name": "stdout",
     "output_type": "stream",
     "text": [
      "100\tresults/mapping/remove_duplicate/20221014_K562R1/20221014_K562R1.C38.bam\n"
     ]
    },
    {
     "name": "stderr",
     "output_type": "stream",
     "text": [
      "[W::hts_idx_load3] The index file is older than the data file: results/mapping/remove_duplicate/20221014_K562R1/20221014_K562R1.C38.bam.bai\n"
     ]
    },
    {
     "name": "stdout",
     "output_type": "stream",
     "text": [
      "101\tresults/mapping/remove_duplicate/20221014_K562R1/20221014_K562R1.C39.bam\n"
     ]
    },
    {
     "name": "stderr",
     "output_type": "stream",
     "text": [
      "[W::hts_idx_load3] The index file is older than the data file: results/mapping/remove_duplicate/20221014_K562R1/20221014_K562R1.C39.bam.bai\n"
     ]
    },
    {
     "name": "stdout",
     "output_type": "stream",
     "text": [
      "102\tresults/mapping/remove_duplicate/20221014_K562R1/20221014_K562R1.C40.bam\n"
     ]
    },
    {
     "name": "stderr",
     "output_type": "stream",
     "text": [
      "[W::hts_idx_load3] The index file is older than the data file: results/mapping/remove_duplicate/20221014_K562R1/20221014_K562R1.C40.bam.bai\n"
     ]
    },
    {
     "name": "stdout",
     "output_type": "stream",
     "text": [
      "103\tresults/mapping/remove_duplicate/20221014_K562R1/20221014_K562R1.C42.bam\n"
     ]
    },
    {
     "name": "stderr",
     "output_type": "stream",
     "text": [
      "[W::hts_idx_load3] The index file is older than the data file: results/mapping/remove_duplicate/20221014_K562R1/20221014_K562R1.C42.bam.bai\n"
     ]
    },
    {
     "name": "stdout",
     "output_type": "stream",
     "text": [
      "104\tresults/mapping/remove_duplicate/20221014_K562R1/20221014_K562R1.C43.bam\n"
     ]
    },
    {
     "name": "stderr",
     "output_type": "stream",
     "text": [
      "[W::hts_idx_load3] The index file is older than the data file: results/mapping/remove_duplicate/20221014_K562R1/20221014_K562R1.C43.bam.bai\n"
     ]
    }
   ],
   "source": [
    "fw = None\n",
    "bamfile = \"results/FLAIRseq.K562.50uM3h.min_read_2.rmdup.bam\"\n",
    "for i, (run, cell) in enumerate(df[[\"Run\", \"Cell\"]].values):\n",
    "    path = \"results/mapping/remove_duplicate/%s/%s.bam\" % (run, cell)\n",
    "    print(i, path, sep=\"\\t\")\n",
    "    with pysam.AlignmentFile(path) as f:\n",
    "        if fw is None:\n",
    "            fw = pysam.AlignmentFile(bamfile, \"wb\", f)\n",
    "        for s in f:\n",
    "            if s.get_tag(\"CS\") >= 2:\n",
    "                fw.write(s)\n",
    "fw.close()"
   ]
  },
  {
   "cell_type": "code",
   "execution_count": 18,
   "id": "be2e69e4-b2e6-4fb9-ae09-3939de5c297d",
   "metadata": {
    "execution": {
     "iopub.execute_input": "2024-06-10T06:30:45.479861Z",
     "iopub.status.busy": "2024-06-10T06:30:45.479029Z",
     "iopub.status.idle": "2024-06-10T06:30:52.396368Z",
     "shell.execute_reply": "2024-06-10T06:30:52.394515Z",
     "shell.execute_reply.started": "2024-06-10T06:30:45.479794Z"
    }
   },
   "outputs": [
    {
     "name": "stderr",
     "output_type": "stream",
     "text": [
      "[bam_sort_core] merging from 0 files and 8 in-memory blocks...\n"
     ]
    },
    {
     "data": {
      "text/plain": [
       "0"
      ]
     },
     "execution_count": 18,
     "metadata": {},
     "output_type": "execute_result"
    }
   ],
   "source": [
    "bamfile2 = \"results/FLAIRseq.K562.50uM3h.min_read_2.rmdup.sorted.bam\"\n",
    "cmd = \"samtools sort -@ 8 -o %s %s\" % (bamfile2, bamfile)\n",
    "subprocess.check_call(cmd, shell=True)"
   ]
  },
  {
   "cell_type": "code",
   "execution_count": 19,
   "id": "3e610132-ebb1-4759-8462-62e2ac14f095",
   "metadata": {
    "execution": {
     "iopub.execute_input": "2024-06-10T06:31:10.214329Z",
     "iopub.status.busy": "2024-06-10T06:31:10.213561Z",
     "iopub.status.idle": "2024-06-10T06:31:11.517234Z",
     "shell.execute_reply": "2024-06-10T06:31:11.515427Z",
     "shell.execute_reply.started": "2024-06-10T06:31:10.214261Z"
    }
   },
   "outputs": [
    {
     "data": {
      "text/plain": [
       "0"
      ]
     },
     "execution_count": 19,
     "metadata": {},
     "output_type": "execute_result"
    }
   ],
   "source": [
    "cmd = \"samtools index -@ 4 %s\" % bamfile2\n",
    "subprocess.check_call(cmd, shell=True)"
   ]
  },
  {
   "cell_type": "code",
   "execution_count": 21,
   "id": "6746eb98-3a8f-408e-b266-52599889b036",
   "metadata": {
    "execution": {
     "iopub.execute_input": "2024-06-10T06:57:07.788069Z",
     "iopub.status.busy": "2024-06-10T06:57:07.787210Z",
     "iopub.status.idle": "2024-06-10T06:57:08.091743Z",
     "shell.execute_reply": "2024-06-10T06:57:08.089837Z",
     "shell.execute_reply.started": "2024-06-10T06:57:07.787999Z"
    }
   },
   "outputs": [
    {
     "data": {
      "text/html": [
       "<div>\n",
       "<style scoped>\n",
       "    .dataframe tbody tr th:only-of-type {\n",
       "        vertical-align: middle;\n",
       "    }\n",
       "\n",
       "    .dataframe tbody tr th {\n",
       "        vertical-align: top;\n",
       "    }\n",
       "\n",
       "    .dataframe thead th {\n",
       "        text-align: right;\n",
       "    }\n",
       "</style>\n",
       "<table border=\"1\" class=\"dataframe\">\n",
       "  <thead>\n",
       "    <tr style=\"text-align: right;\">\n",
       "      <th></th>\n",
       "      <th>GeneID</th>\n",
       "      <th>Total</th>\n",
       "      <th>Nascent</th>\n",
       "      <th>TPM</th>\n",
       "      <th>A0</th>\n",
       "      <th>NTR</th>\n",
       "      <th>T</th>\n",
       "      <th>K</th>\n",
       "      <th>TranscriptID</th>\n",
       "      <th>TranscriptType</th>\n",
       "      <th>GeneType</th>\n",
       "      <th>GeneName</th>\n",
       "      <th>Chrom</th>\n",
       "      <th>Start</th>\n",
       "      <th>End</th>\n",
       "      <th>Strand</th>\n",
       "      <th>Canonical</th>\n",
       "      <th>Length</th>\n",
       "    </tr>\n",
       "  </thead>\n",
       "  <tbody>\n",
       "    <tr>\n",
       "      <th>5350</th>\n",
       "      <td>ENSG00000123154.12</td>\n",
       "      <td>14.0</td>\n",
       "      <td>5.0</td>\n",
       "      <td>10.166299</td>\n",
       "      <td>10.166299</td>\n",
       "      <td>0.357143</td>\n",
       "      <td>4.7064</td>\n",
       "      <td>1.497268</td>\n",
       "      <td>ENST00000418543.8</td>\n",
       "      <td>protein_coding</td>\n",
       "      <td>protein_coding</td>\n",
       "      <td>WDR83</td>\n",
       "      <td>chr19</td>\n",
       "      <td>12666806</td>\n",
       "      <td>12675832</td>\n",
       "      <td>+</td>\n",
       "      <td>True</td>\n",
       "      <td>9026</td>\n",
       "    </tr>\n",
       "  </tbody>\n",
       "</table>\n",
       "</div>"
      ],
      "text/plain": [
       "                  GeneID  Total  Nascent        TPM         A0       NTR  \\\n",
       "5350  ENSG00000123154.12   14.0      5.0  10.166299  10.166299  0.357143   \n",
       "\n",
       "           T         K       TranscriptID  TranscriptType        GeneType  \\\n",
       "5350  4.7064  1.497268  ENST00000418543.8  protein_coding  protein_coding   \n",
       "\n",
       "     GeneName  Chrom     Start       End Strand  Canonical  Length  \n",
       "5350    WDR83  chr19  12666806  12675832      +       True    9026  "
      ]
     },
     "execution_count": 21,
     "metadata": {},
     "output_type": "execute_result"
    }
   ],
   "source": [
    "df = pd.read_csv(\"reports/halflife_of_K562_50uM_3h_189cells.2TC.tsv\", sep=\"\\t\")\n",
    "df[df[\"GeneName\"] == \"WDR83\"]"
   ]
  },
  {
   "cell_type": "code",
   "execution_count": 22,
   "id": "0a067fa7-0257-4933-a1f6-eb6809372651",
   "metadata": {
    "execution": {
     "iopub.execute_input": "2024-06-10T06:57:47.434579Z",
     "iopub.status.busy": "2024-06-10T06:57:47.433695Z",
     "iopub.status.idle": "2024-06-10T06:57:47.485219Z",
     "shell.execute_reply": "2024-06-10T06:57:47.483161Z",
     "shell.execute_reply.started": "2024-06-10T06:57:47.434509Z"
    }
   },
   "outputs": [
    {
     "data": {
      "text/html": [
       "<div>\n",
       "<style scoped>\n",
       "    .dataframe tbody tr th:only-of-type {\n",
       "        vertical-align: middle;\n",
       "    }\n",
       "\n",
       "    .dataframe tbody tr th {\n",
       "        vertical-align: top;\n",
       "    }\n",
       "\n",
       "    .dataframe thead th {\n",
       "        text-align: right;\n",
       "    }\n",
       "</style>\n",
       "<table border=\"1\" class=\"dataframe\">\n",
       "  <thead>\n",
       "    <tr style=\"text-align: right;\">\n",
       "      <th></th>\n",
       "      <th>GeneID</th>\n",
       "      <th>Total</th>\n",
       "      <th>Nascent</th>\n",
       "      <th>TPM</th>\n",
       "      <th>A0</th>\n",
       "      <th>NTR</th>\n",
       "      <th>T</th>\n",
       "      <th>K</th>\n",
       "      <th>TranscriptID</th>\n",
       "      <th>TranscriptType</th>\n",
       "      <th>GeneType</th>\n",
       "      <th>GeneName</th>\n",
       "      <th>Chrom</th>\n",
       "      <th>Start</th>\n",
       "      <th>End</th>\n",
       "      <th>Strand</th>\n",
       "      <th>Canonical</th>\n",
       "      <th>Length</th>\n",
       "    </tr>\n",
       "  </thead>\n",
       "  <tbody>\n",
       "    <tr>\n",
       "      <th>2015</th>\n",
       "      <td>ENSG00000095059.17</td>\n",
       "      <td>101.0</td>\n",
       "      <td>5.0</td>\n",
       "      <td>73.342585</td>\n",
       "      <td>73.342585</td>\n",
       "      <td>0.049505</td>\n",
       "      <td>40.956201</td>\n",
       "      <td>1.241258</td>\n",
       "      <td>ENST00000210060.12</td>\n",
       "      <td>protein_coding</td>\n",
       "      <td>protein_coding</td>\n",
       "      <td>DHPS</td>\n",
       "      <td>chr19</td>\n",
       "      <td>12675716</td>\n",
       "      <td>12681880</td>\n",
       "      <td>-</td>\n",
       "      <td>True</td>\n",
       "      <td>6164</td>\n",
       "    </tr>\n",
       "  </tbody>\n",
       "</table>\n",
       "</div>"
      ],
      "text/plain": [
       "                  GeneID  Total  Nascent        TPM         A0       NTR  \\\n",
       "2015  ENSG00000095059.17  101.0      5.0  73.342585  73.342585  0.049505   \n",
       "\n",
       "              T         K        TranscriptID  TranscriptType        GeneType  \\\n",
       "2015  40.956201  1.241258  ENST00000210060.12  protein_coding  protein_coding   \n",
       "\n",
       "     GeneName  Chrom     Start       End Strand  Canonical  Length  \n",
       "2015     DHPS  chr19  12675716  12681880      -       True    6164  "
      ]
     },
     "execution_count": 22,
     "metadata": {},
     "output_type": "execute_result"
    }
   ],
   "source": [
    "df[df[\"GeneName\"] == \"DHPS\"]"
   ]
  },
  {
   "cell_type": "code",
   "execution_count": null,
   "id": "9770f917-408b-4cd2-b3d0-92a01b5c89f6",
   "metadata": {},
   "outputs": [],
   "source": []
  }
 ],
 "metadata": {
  "kernelspec": {
   "display_name": "Python 3 (ipykernel)",
   "language": "python",
   "name": "python3"
  },
  "language_info": {
   "codemirror_mode": {
    "name": "ipython",
    "version": 3
   },
   "file_extension": ".py",
   "mimetype": "text/x-python",
   "name": "python",
   "nbconvert_exporter": "python",
   "pygments_lexer": "ipython3",
   "version": "3.10.13"
  }
 },
 "nbformat": 4,
 "nbformat_minor": 5
}
