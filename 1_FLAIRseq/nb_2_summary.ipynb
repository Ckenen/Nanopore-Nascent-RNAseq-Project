{
 "cells": [
  {
   "cell_type": "code",
   "execution_count": 1,
   "id": "4baffc1f",
   "metadata": {
    "ExecuteTime": {
     "end_time": "2024-03-10T06:54:42.725017Z",
     "start_time": "2024-03-10T06:54:36.809932Z"
    },
    "execution": {
     "iopub.execute_input": "2024-06-26T08:39:18.480798Z",
     "iopub.status.busy": "2024-06-26T08:39:18.480024Z",
     "iopub.status.idle": "2024-06-26T08:39:18.876145Z",
     "shell.execute_reply": "2024-06-26T08:39:18.874574Z",
     "shell.execute_reply.started": "2024-06-26T08:39:18.480724Z"
    }
   },
   "outputs": [],
   "source": [
    "import os\n",
    "import numpy as np\n",
    "import pandas as pd"
   ]
  },
  {
   "cell_type": "markdown",
   "id": "537eb0f9-de00-45fb-a37f-83013f28c515",
   "metadata": {
    "jp-MarkdownHeadingCollapsed": true
   },
   "source": [
    "# Report summary of cells"
   ]
  },
  {
   "cell_type": "code",
   "execution_count": 10,
   "id": "018bbdd4",
   "metadata": {
    "ExecuteTime": {
     "end_time": "2024-03-10T06:54:42.733014Z",
     "start_time": "2024-03-10T06:54:42.728905Z"
    },
    "execution": {
     "iopub.execute_input": "2024-05-29T01:39:38.359034Z",
     "iopub.status.busy": "2024-05-29T01:39:38.358251Z",
     "iopub.status.idle": "2024-05-29T01:39:40.064420Z",
     "shell.execute_reply": "2024-05-29T01:39:40.063416Z",
     "shell.execute_reply.started": "2024-05-29T01:39:38.358964Z"
    },
    "hidden": true
   },
   "outputs": [],
   "source": [
    "def divide(a, b):\n",
    "    return None if (b is None or b == 0) else a / b\n",
    "    \n",
    "dat = pd.read_excel(\"data/FLAIRseq.xlsx\")"
   ]
  },
  {
   "cell_type": "code",
   "execution_count": 11,
   "id": "39f17246",
   "metadata": {
    "ExecuteTime": {
     "end_time": "2024-03-09T12:17:12.501245Z",
     "start_time": "2024-03-09T12:16:54.772432Z"
    },
    "execution": {
     "iopub.execute_input": "2024-05-29T01:39:40.066252Z",
     "iopub.status.busy": "2024-05-29T01:39:40.065977Z",
     "iopub.status.idle": "2024-05-29T01:40:59.566202Z",
     "shell.execute_reply": "2024-05-29T01:40:59.564467Z",
     "shell.execute_reply.started": "2024-05-29T01:39:40.066222Z"
    },
    "hidden": true
   },
   "outputs": [],
   "source": [
    "# Cell reads and trimmed reads\n",
    "\n",
    "cell_reads_list = []\n",
    "trim_reads_list = []\n",
    "for run, cell in dat[[\"Run\", \"Cell\"]].values:\n",
    "    cell_reads = np.nan\n",
    "    trim_reads = np.nan\n",
    "    path = \"results/demux/trimmed/%s/%s/stats.tsv\" % (run, cell)\n",
    "    if os.path.exists(path):\n",
    "        df = pd.read_csv(path, sep=\"\\t\")\n",
    "        cell_reads = df[\"Total\"].values[0]\n",
    "        trim_reads = df[\"Pass\"].values[0]\n",
    "    cell_reads_list.append(cell_reads)\n",
    "    trim_reads_list.append(trim_reads)\n",
    "dat[\"Cell.Reads\"] = cell_reads_list\n",
    "dat[\"Trimmed.Reads\"] = trim_reads_list\n",
    "dat[\"Trimmed.Ratio\"] = dat[\"Trimmed.Reads\"] / dat[\"Cell.Reads\"]"
   ]
  },
  {
   "cell_type": "code",
   "execution_count": 12,
   "id": "df29a1a7",
   "metadata": {
    "ExecuteTime": {
     "end_time": "2024-03-09T12:19:06.340183Z",
     "start_time": "2024-03-09T12:18:45.132718Z"
    },
    "execution": {
     "iopub.execute_input": "2024-05-29T01:40:59.568430Z",
     "iopub.status.busy": "2024-05-29T01:40:59.568105Z",
     "iopub.status.idle": "2024-05-29T01:41:23.428570Z",
     "shell.execute_reply": "2024-05-29T01:41:23.426686Z",
     "shell.execute_reply.started": "2024-05-29T01:40:59.568395Z"
    },
    "hidden": true
   },
   "outputs": [],
   "source": [
    "# Mapped reads\n",
    "\n",
    "mapped_reads_list = []\n",
    "for run, cell in dat[[\"Run\", \"Cell\"]].values:\n",
    "    mapped_reads = np.nan\n",
    "    path = \"results/mapping/minimap2/%s/%s.flagstat\" % (run, cell)\n",
    "    if os.path.exists(path):\n",
    "        mapped_reads = int(open(path).readlines()[7].split()[0])\n",
    "    mapped_reads_list.append(mapped_reads)\n",
    "dat[\"Mapped.Reads\"] = mapped_reads_list\n",
    "dat[\"Mapped.Ratio\"] = dat[\"Mapped.Reads\"] / dat[\"Trimmed.Reads\"]"
   ]
  },
  {
   "cell_type": "code",
   "execution_count": 13,
   "id": "080bcfb3",
   "metadata": {
    "ExecuteTime": {
     "end_time": "2024-03-09T12:19:52.266133Z",
     "start_time": "2024-03-09T12:19:19.506895Z"
    },
    "execution": {
     "iopub.execute_input": "2024-05-29T01:41:23.431248Z",
     "iopub.status.busy": "2024-05-29T01:41:23.430429Z",
     "iopub.status.idle": "2024-05-29T01:41:43.987049Z",
     "shell.execute_reply": "2024-05-29T01:41:43.984981Z",
     "shell.execute_reply.started": "2024-05-29T01:41:23.431195Z"
    },
    "hidden": true
   },
   "outputs": [],
   "source": [
    "# Mitochondrion reads ratio\n",
    "\n",
    "mito_ratio_list = []\n",
    "for run, cell in dat[[\"Run\", \"Cell\"]].values:\n",
    "    mito_ratio = np.nan\n",
    "    path = \"results/mapping/chrom_reads/%s/%s.tsv\" % (run, cell)\n",
    "    if os.path.exists(path):\n",
    "        try:\n",
    "            v1, v2 = 0, 0\n",
    "            for line in open(path):\n",
    "                chrom, count = line.strip(\"\\n\").split(\"\\t\")\n",
    "                count = int(count)\n",
    "                v1 += count\n",
    "                if chrom == \"chrM\":\n",
    "                    v2 = count\n",
    "            mito_ratio = divide(v2, v1)\n",
    "        except ValueError:\n",
    "            print(path)\n",
    "    mito_ratio_list.append(mito_ratio)\n",
    "dat[\"Mito.Ratio\"] = mito_ratio_list"
   ]
  },
  {
   "cell_type": "code",
   "execution_count": 14,
   "id": "f5cf6545",
   "metadata": {
    "ExecuteTime": {
     "end_time": "2024-03-09T12:21:09.105871Z",
     "start_time": "2024-03-09T12:20:36.007612Z"
    },
    "execution": {
     "iopub.execute_input": "2024-05-29T01:41:43.991664Z",
     "iopub.status.busy": "2024-05-29T01:41:43.991117Z",
     "iopub.status.idle": "2024-05-29T01:42:15.575125Z",
     "shell.execute_reply": "2024-05-29T01:42:15.572726Z",
     "shell.execute_reply.started": "2024-05-29T01:41:43.991609Z"
    },
    "hidden": true
   },
   "outputs": [],
   "source": [
    "# Filtered reads\n",
    "\n",
    "filtered_reads_list = []\n",
    "filtered_clip_reads_list = []\n",
    "for run, cell in dat[[\"Run\", \"Cell\"]].values:\n",
    "    filtered_reads = np.nan\n",
    "    filtered_clip_reads = np.nan\n",
    "    path = \"results/mapping/stat_clip/%s/%s.log\" % (run, cell)\n",
    "    if os.path.exists(path):\n",
    "        lines = open(path).readlines()\n",
    "        for i, line in enumerate(lines):\n",
    "            if line.startswith(\"Input\"):\n",
    "                v1, v2 = lines[i + 1].split(\"\\t\")[:2]\n",
    "                filtered_reads = int(v1)\n",
    "                filtered_clip_reads = int(v2)\n",
    "                break\n",
    "    filtered_reads_list.append(filtered_reads)\n",
    "    filtered_clip_reads_list.append(filtered_clip_reads)\n",
    "dat[\"Filtered.Reads\"] = filtered_reads_list\n",
    "dat[\"Filtered.Ratio\"] = dat[\"Filtered.Reads\"] / dat[\"Mapped.Reads\"]\n",
    "dat[\"FilteredClip.Reads\"] = filtered_clip_reads_list\n",
    "dat[\"FilteredClip.Ratio\"] = dat[\"FilteredClip.Reads\"] / dat[\"Filtered.Reads\"]"
   ]
  },
  {
   "cell_type": "code",
   "execution_count": 15,
   "id": "4a251a99",
   "metadata": {
    "ExecuteTime": {
     "end_time": "2024-03-09T12:27:48.390840Z",
     "start_time": "2024-03-09T12:21:32.097553Z"
    },
    "execution": {
     "iopub.execute_input": "2024-05-29T01:42:15.577887Z",
     "iopub.status.busy": "2024-05-29T01:42:15.577303Z",
     "iopub.status.idle": "2024-05-29T01:45:23.726240Z",
     "shell.execute_reply": "2024-05-29T01:45:23.725199Z",
     "shell.execute_reply.started": "2024-05-29T01:42:15.577830Z"
    },
    "hidden": true
   },
   "outputs": [],
   "source": [
    "# Duplicate reads\n",
    "\n",
    "umis1_list = []\n",
    "umis2_list = []\n",
    "for run, cell in dat[[\"Run\", \"Cell\"]].values:\n",
    "    path = \"results/mapping/mark_duplicate/%s/%s.tsv\" % (run, cell)\n",
    "    umis1 = np.nan\n",
    "    umis2 = np.nan\n",
    "    if os.path.exists(path):\n",
    "        d1 = pd.read_csv(path, sep=\"\\t\", header=0)\n",
    "        umis1 = len(d1)\n",
    "        umis2 = len(d1[d1[\"AllSize\"] >= 2])\n",
    "    umis1_list.append(umis1)\n",
    "    umis2_list.append(umis2)\n",
    "dat[\"UMIs\"] = umis1_list\n",
    "dat[\"UMIs.2Reads\"] = umis2_list\n",
    "dat[\"Duplicate.Reads\"] = dat[\"FilteredClip.Reads\"] - dat[\"UMIs\"]\n",
    "dat[\"Duplicate.Ratio\"] = dat[\"Duplicate.Reads\"] / dat[\"FilteredClip.Reads\"]\n",
    "dat[\"Unique.Reads\"] = dat[\"UMIs\"]"
   ]
  },
  {
   "cell_type": "code",
   "execution_count": 16,
   "id": "40fd4fd8",
   "metadata": {
    "ExecuteTime": {
     "end_time": "2023-12-20T16:24:27.459333Z",
     "start_time": "2023-12-20T16:23:42.992719Z"
    },
    "execution": {
     "iopub.execute_input": "2024-05-29T01:45:23.727827Z",
     "iopub.status.busy": "2024-05-29T01:45:23.727523Z",
     "iopub.status.idle": "2024-05-29T01:46:47.259036Z",
     "shell.execute_reply": "2024-05-29T01:46:47.257464Z",
     "shell.execute_reply.started": "2024-05-29T01:45:23.727795Z"
    },
    "hidden": true
   },
   "outputs": [],
   "source": [
    "# Detected genes\n",
    "\n",
    "genes_list = []\n",
    "for run, cell in dat[[\"Run\", \"Cell\"]].values:\n",
    "    genes = np.nan\n",
    "    path = \"results/expression/quant_genes/min_read_1_min_tc_1/%s/%s.tsv\" % (run, cell)\n",
    "    if os.path.exists(path):\n",
    "        d = pd.read_csv(path, sep=\"\\t\", header=0, index_col=0)\n",
    "        d = d[d[\"Total\"] > 0]\n",
    "        genes = len(set(filter(lambda x: \"_\" not in x, d.index)))\n",
    "    genes_list.append(genes)\n",
    "dat[\"Genes\"] = genes_list"
   ]
  },
  {
   "cell_type": "code",
   "execution_count": 17,
   "id": "99ca014b",
   "metadata": {
    "ExecuteTime": {
     "end_time": "2024-03-10T06:57:48.552646Z",
     "start_time": "2024-03-10T06:57:47.924366Z"
    },
    "execution": {
     "iopub.execute_input": "2024-05-29T01:46:47.261339Z",
     "iopub.status.busy": "2024-05-29T01:46:47.260994Z",
     "iopub.status.idle": "2024-05-29T01:48:55.806823Z",
     "shell.execute_reply": "2024-05-29T01:48:55.804605Z",
     "shell.execute_reply.started": "2024-05-29T01:46:47.261303Z"
    },
    "hidden": true,
    "scrolled": true
   },
   "outputs": [],
   "source": [
    "# Detected isoforms\n",
    "\n",
    "sc_list = set(['full-splice_match', 'incomplete-splice_match', 'novel_in_catalog', 'novel_not_in_catalog'])\n",
    "isoforms1_list = []\n",
    "isoforms2_list = []\n",
    "for run, cell in dat[[\"Run\", \"Cell\"]].values:\n",
    "    isoforms1 = np.nan # number of assemblied isoforms\n",
    "    isoforms2 = np.nan # number of known isoforms\n",
    "    path = \"results/assembly/sqanti3/%s/%s/%s_classification.txt\" % (run, cell, cell)\n",
    "    if os.path.exists(path):\n",
    "        d = pd.read_csv(path, sep=\"\\t\", header=0, index_col=0)\n",
    "        isoforms1 = len(d)\n",
    "        d = d[[sc in sc_list for sc in d[\"structural_category\"]]]\n",
    "        isoforms2 = len(d)\n",
    "    isoforms1_list.append(isoforms1)\n",
    "    isoforms2_list.append(isoforms2)\n",
    "dat[\"Isoforms.Assembled\"] = isoforms1_list\n",
    "dat[\"Isoforms.Known\"] = isoforms2_list"
   ]
  },
  {
   "cell_type": "code",
   "execution_count": 18,
   "id": "a9d6d694",
   "metadata": {
    "ExecuteTime": {
     "end_time": "2023-12-20T16:24:57.935032Z",
     "start_time": "2023-12-20T16:24:27.462320Z"
    },
    "execution": {
     "iopub.execute_input": "2024-05-29T01:48:55.809773Z",
     "iopub.status.busy": "2024-05-29T01:48:55.809292Z",
     "iopub.status.idle": "2024-05-29T01:49:46.660792Z",
     "shell.execute_reply": "2024-05-29T01:49:46.658806Z",
     "shell.execute_reply.started": "2024-05-29T01:48:55.809724Z"
    },
    "hidden": true
   },
   "outputs": [],
   "source": [
    "# Mismatch ratios\n",
    "\n",
    "mtypes = []\n",
    "for base1 in \"ACGT\":\n",
    "    for base2 in \"ACGT\":\n",
    "        if base1 != base2:\n",
    "            mtypes.append(\"%s%s\" % (base1, base2))\n",
    "ratios = dict()\n",
    "for mtype in mtypes:\n",
    "    ratios[mtype] = list()\n",
    "for run, cell in dat[[\"Run\", \"Cell\"]].values:\n",
    "    path = \"results/mismatch/ratio_consensus/%s/%s.tsv\" % (run, cell)\n",
    "    if os.path.exists(path):\n",
    "        df = pd.read_csv(path, sep=\"\\t\", index_col=0)\n",
    "        for mtype in mtypes:\n",
    "            ratios[mtype].append(df.loc[mtype][\"Ratio\"])\n",
    "    else:\n",
    "        for mtype in mtypes:\n",
    "            ratios[mtype].append(np.nan)\n",
    "for mtype in mtypes:\n",
    "    dat[\"%s.Ratio\" % mtype] = ratios[mtype]"
   ]
  },
  {
   "cell_type": "code",
   "execution_count": 19,
   "id": "b572d68f",
   "metadata": {
    "ExecuteTime": {
     "end_time": "2023-12-20T16:25:00.916317Z",
     "start_time": "2023-12-20T16:24:57.937370Z"
    },
    "execution": {
     "iopub.execute_input": "2024-05-29T01:49:46.664749Z",
     "iopub.status.busy": "2024-05-29T01:49:46.664410Z",
     "iopub.status.idle": "2024-05-29T01:49:53.057567Z",
     "shell.execute_reply": "2024-05-29T01:49:53.055556Z",
     "shell.execute_reply.started": "2024-05-29T01:49:46.664718Z"
    },
    "hidden": true
   },
   "outputs": [],
   "source": [
    "# Pe and Pc\n",
    "\n",
    "pe_list = []\n",
    "pc_list = []\n",
    "for run, cell in dat[[\"Run\", \"Cell\"]].values:\n",
    "    pe = np.nan\n",
    "    pc = np.nan\n",
    "    path = \"results/signal2noise/pc/%s/%s.tsv\" % (run, cell)\n",
    "    if os.path.exists(path):\n",
    "        d = pd.read_csv(path, sep=\"\\t\")\n",
    "        pe, pc, pc_pe = d.iloc[0]\n",
    "    pe_list.append(pe)    \n",
    "    pc_list.append(pc)\n",
    "dat[\"Pe\"] = pe_list\n",
    "dat[\"Pc\"] = pc_list\n",
    "dat[\"Pc_Pe\"] = dat[\"Pc\"] / dat[\"Pe\"]"
   ]
  },
  {
   "cell_type": "code",
   "execution_count": 20,
   "id": "2f49659c",
   "metadata": {
    "ExecuteTime": {
     "end_time": "2023-12-20T16:26:58.666065Z",
     "start_time": "2023-12-20T16:25:00.918343Z"
    },
    "execution": {
     "iopub.execute_input": "2024-05-29T01:49:53.059686Z",
     "iopub.status.busy": "2024-05-29T01:49:53.059267Z",
     "iopub.status.idle": "2024-05-29T01:53:28.814501Z",
     "shell.execute_reply": "2024-05-29T01:53:28.811592Z",
     "shell.execute_reply.started": "2024-05-29T01:49:53.059643Z"
    },
    "hidden": true
   },
   "outputs": [],
   "source": [
    "# Nascent UMIs\n",
    "\n",
    "nascent_umis_list = []\n",
    "for run, cell in dat[[\"Run\", \"Cell\"]].values:\n",
    "    nascent_umis = np.nan\n",
    "    path = \"results/mismatch/ratio_consensus/%s/%s.events.tsv\" % (run, cell)\n",
    "    if os.path.exists(path):\n",
    "        d = pd.read_csv(path, sep=\"\\t\", index_col=0)\n",
    "        d = d[(d[\"Size\"] >= 2) & (d[\"T-C\"] >= 2)]\n",
    "        nascent_umis = len(d)\n",
    "    nascent_umis_list.append(nascent_umis)\n",
    "dat[\"UMIs.2Reads.Nascent.2TCs\"] = nascent_umis_list\n",
    "dat[\"UMIs.2Reads.Nascent.2TCs.Ratio\"] = dat[\"UMIs.2Reads.Nascent.2TCs\"] / dat[\"UMIs.2Reads\"]"
   ]
  },
  {
   "cell_type": "code",
   "execution_count": 21,
   "id": "09b2df41",
   "metadata": {
    "ExecuteTime": {
     "end_time": "2023-12-20T16:28:51.210676Z",
     "start_time": "2023-12-20T16:26:58.668824Z"
    },
    "execution": {
     "iopub.execute_input": "2024-05-29T01:53:28.817727Z",
     "iopub.status.busy": "2024-05-29T01:53:28.817181Z",
     "iopub.status.idle": "2024-05-29T01:54:42.321363Z",
     "shell.execute_reply": "2024-05-29T01:54:42.318948Z",
     "shell.execute_reply.started": "2024-05-29T01:53:28.817670Z"
    },
    "hidden": true
   },
   "outputs": [],
   "source": [
    "# Nascent gene number\n",
    "\n",
    "genes_list = []\n",
    "nascent_genes_list = []\n",
    "for run, cell in dat[[\"Run\", \"Cell\"]].values:\n",
    "    genes = np.nan\n",
    "    nascent_genes = np.nan\n",
    "    path = \"results/expression/quant_genes/min_read_2_min_tc_2/%s/%s.tsv\" % (run, cell)\n",
    "    if os.path.exists(path):\n",
    "        d = pd.read_csv(path, sep=\"\\t\", header=0, index_col=0)\n",
    "        d = d[d[\"Total\"] > 0]\n",
    "        genes = len(set(filter(lambda x: \"_\" not in x, d.index)))\n",
    "        d = d[d[\"Nascent\"] > 0]\n",
    "        nascent_genes = len(set(filter(lambda x: \"_\" not in x, d.index)))\n",
    "    genes_list.append(genes)\n",
    "    nascent_genes_list.append(nascent_genes)\n",
    "dat[\"Genes.2Reads\"] = genes_list\n",
    "dat[\"Genes.2Reads.Nascent.2TCs\"] = nascent_genes_list"
   ]
  },
  {
   "cell_type": "code",
   "execution_count": 22,
   "id": "1a436b69-1d2a-436a-8e84-864ad61b01d0",
   "metadata": {
    "execution": {
     "iopub.execute_input": "2024-05-29T02:00:11.140330Z",
     "iopub.status.busy": "2024-05-29T02:00:11.139536Z",
     "iopub.status.idle": "2024-05-29T02:00:11.520344Z",
     "shell.execute_reply": "2024-05-29T02:00:11.518762Z",
     "shell.execute_reply.started": "2024-05-29T02:00:11.140254Z"
    }
   },
   "outputs": [],
   "source": [
    "dat.to_csv(\"reports/FLAIRseq_Summary.tsv\", index=False, sep=\"\\t\")"
   ]
  },
  {
   "cell_type": "markdown",
   "id": "02b3fc17-5d95-4110-af74-8b3655ff1013",
   "metadata": {},
   "source": [
    "# Number of cells"
   ]
  },
  {
   "cell_type": "code",
   "execution_count": 2,
   "id": "991f1403-83a1-4c51-9054-80e700e41311",
   "metadata": {
    "execution": {
     "iopub.execute_input": "2024-06-26T08:39:22.607459Z",
     "iopub.status.busy": "2024-06-26T08:39:22.606283Z",
     "iopub.status.idle": "2024-06-26T08:39:22.814977Z",
     "shell.execute_reply": "2024-06-26T08:39:22.813086Z",
     "shell.execute_reply.started": "2024-06-26T08:39:22.607365Z"
    }
   },
   "outputs": [
    {
     "name": "stdout",
     "output_type": "stream",
     "text": [
      "K562: 878\n",
      "mESC: 255\n",
      "Blastocyst: 2661\n",
      "\n",
      "----------------------------------------\n",
      "4sU\tTime\tCells\tActD(-)\tActD(+)\n",
      "----------------------------------------\n",
      "0\t3.0\t339\t190\t149\n",
      "50\t0.25\t32\t32\t0\n",
      "50\t0.5\t51\t51\t0\n",
      "50\t1.0\t41\t41\t0\n",
      "50\t2.0\t44\t44\t0\n",
      "50\t3.0\t301\t179\t122\n",
      "100\t3.0\t19\t19\t0\n",
      "200\t3.0\t11\t11\t0\n",
      "400\t3.0\t17\t17\t0\n",
      "500\t3.0\t23\t23\t0\n",
      "\n",
      "----------------------------------------\n",
      "4sU\tTime\tCells\tActD(-)\tActD(+)\n",
      "----------------------------------------\n",
      "0\t3.0\t64\t64\t0\n",
      "50\t3.0\t79\t79\t0\n",
      "400\t3.0\t112\t112\t0\n",
      "\n",
      "----------------------------------------\n",
      "4sU\tTime\tCells\tActD(-)\tActD(+)\n",
      "----------------------------------------\n",
      "0\t3.0\t153\t143\t10\n",
      "100\t3.0\t10\t10\t0\n",
      "200\t3.0\t42\t42\t0\n",
      "300\t3.0\t34\t34\t0\n",
      "400\t3.0\t2348\t2245\t103\n",
      "500\t3.0\t41\t41\t0\n",
      "600\t3.0\t33\t33\t0\n"
     ]
    }
   ],
   "source": [
    "d = pd.read_csv(\"reports/FLAIRseq_Summary.tsv\", sep=\"\\t\")\n",
    "# d = d[np.isnan(d[\"ActD\"])]\n",
    "d = d[d[\"UMIs\"] >= 5000]\n",
    "df1 = d[d[\"Group\"] == \"K562\"]\n",
    "df2 = d[d[\"Group\"] == \"mESC\"]\n",
    "df3 = d[d[\"Group\"] == \"MouseBlastocyst\"]\n",
    "print(\"K562:\", len(df1))\n",
    "print(\"mESC:\", len(df2))\n",
    "print(\"Blastocyst:\", len(df3))\n",
    "\n",
    "for df in [df1, df2, df3]:\n",
    "    print()\n",
    "    print(\"-\" * 40)\n",
    "    print(\"4sU\\tTime\\tCells\\tActD(-)\\tActD(+)\")\n",
    "    print(\"-\" * 40)\n",
    "    for s4u, d1 in df.groupby(by=\"s4U\"):\n",
    "        for t, d2 in d1.groupby(by=\"Time\"):\n",
    "            n1 = sum(np.isnan(d2[\"ActD\"]))\n",
    "            n2 = sum(~np.isnan(d2[\"ActD\"]))\n",
    "            print(s4u, t, len(d2), n1, n2, sep=\"\\t\")"
   ]
  },
  {
   "cell_type": "code",
   "execution_count": null,
   "id": "e01e5493-3a36-4fbb-9879-ef86c98a2352",
   "metadata": {},
   "outputs": [],
   "source": []
  }
 ],
 "metadata": {
  "kernelspec": {
   "display_name": "Python 3 (ipykernel)",
   "language": "python",
   "name": "python3"
  },
  "language_info": {
   "codemirror_mode": {
    "name": "ipython",
    "version": 3
   },
   "file_extension": ".py",
   "mimetype": "text/x-python",
   "name": "python",
   "nbconvert_exporter": "python",
   "pygments_lexer": "ipython3",
   "version": "3.10.13"
  }
 },
 "nbformat": 4,
 "nbformat_minor": 5
}
