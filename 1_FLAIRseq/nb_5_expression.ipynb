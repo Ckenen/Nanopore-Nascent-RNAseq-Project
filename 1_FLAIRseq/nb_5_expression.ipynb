{
 "cells": [
  {
   "cell_type": "code",
   "execution_count": 1,
   "id": "86bf140f",
   "metadata": {
    "ExecuteTime": {
     "end_time": "2023-12-26T04:23:44.437155Z",
     "start_time": "2023-12-26T04:23:43.100438Z"
    }
   },
   "outputs": [],
   "source": [
    "import os\n",
    "import subprocess\n",
    "import numpy as np\n",
    "import pandas as pd\n",
    "info = pd.read_excel(\"data/NanoNASCseq_summary_selected.xls\")\n",
    "strains = [\"K562\", \"mESC\"]"
   ]
  },
  {
   "cell_type": "markdown",
   "id": "a02fd0b1",
   "metadata": {},
   "source": [
    "# Gene expression"
   ]
  },
  {
   "cell_type": "code",
   "execution_count": 2,
   "id": "673fade9",
   "metadata": {
    "ExecuteTime": {
     "end_time": "2023-12-25T07:34:45.777045Z",
     "start_time": "2023-12-25T07:33:50.498267Z"
    }
   },
   "outputs": [
    {
     "name": "stdout",
     "output_type": "stream",
     "text": [
      "K562\tall_cells\t369\n"
     ]
    },
    {
     "name": "stderr",
     "output_type": "stream",
     "text": [
      "/home/chenzonggui/miniconda3/envs/py36/lib/python3.6/site-packages/pandas/core/series.py:726: RuntimeWarning: divide by zero encountered in log2\n",
      "  result = getattr(ufunc, method)(*inputs, **kwargs)\n"
     ]
    },
    {
     "name": "stdout",
     "output_type": "stream",
     "text": [
      "K562\tcontrol_cells\t190\n"
     ]
    },
    {
     "name": "stderr",
     "output_type": "stream",
     "text": [
      "/home/chenzonggui/miniconda3/envs/py36/lib/python3.6/site-packages/pandas/core/series.py:726: RuntimeWarning: divide by zero encountered in log2\n",
      "  result = getattr(ufunc, method)(*inputs, **kwargs)\n"
     ]
    },
    {
     "name": "stdout",
     "output_type": "stream",
     "text": [
      "K562\ttreatment_cells\t105\n"
     ]
    },
    {
     "name": "stderr",
     "output_type": "stream",
     "text": [
      "/home/chenzonggui/miniconda3/envs/py36/lib/python3.6/site-packages/pandas/core/series.py:726: RuntimeWarning: divide by zero encountered in log2\n",
      "  result = getattr(ufunc, method)(*inputs, **kwargs)\n"
     ]
    },
    {
     "name": "stdout",
     "output_type": "stream",
     "text": [
      "mESC\tall_cells\t176\n"
     ]
    },
    {
     "name": "stderr",
     "output_type": "stream",
     "text": [
      "/home/chenzonggui/miniconda3/envs/py36/lib/python3.6/site-packages/pandas/core/series.py:726: RuntimeWarning: divide by zero encountered in log2\n",
      "  result = getattr(ufunc, method)(*inputs, **kwargs)\n"
     ]
    },
    {
     "name": "stdout",
     "output_type": "stream",
     "text": [
      "mESC\tcontrol_cells\t64\n"
     ]
    },
    {
     "name": "stderr",
     "output_type": "stream",
     "text": [
      "/home/chenzonggui/miniconda3/envs/py36/lib/python3.6/site-packages/pandas/core/series.py:726: RuntimeWarning: divide by zero encountered in log2\n",
      "  result = getattr(ufunc, method)(*inputs, **kwargs)\n"
     ]
    },
    {
     "name": "stdout",
     "output_type": "stream",
     "text": [
      "mESC\ttreatment_cells\t110\n"
     ]
    },
    {
     "name": "stderr",
     "output_type": "stream",
     "text": [
      "/home/chenzonggui/miniconda3/envs/py36/lib/python3.6/site-packages/pandas/core/series.py:726: RuntimeWarning: divide by zero encountered in log2\n",
      "  result = getattr(ufunc, method)(*inputs, **kwargs)\n"
     ]
    }
   ],
   "source": [
    "for strain in strains:\n",
    "    for group in [\"all_cells\", \"control_cells\", \"treatment_cells\"]:\n",
    "        d = info\n",
    "        d = d[(d[\"Strain\"] == strain) & (d[\"Time\"] == 3) & (d[\"ActD\"].isna()) & (d[\"UMIs\"] >= 5000)]\n",
    "        \n",
    "        if strain == \"K562\":\n",
    "            if group == \"all_cells\":\n",
    "                d = d[(d[\"s4U\"] == 0) | (d[\"s4U\"] == 50)]\n",
    "            elif group == \"control_cells\":\n",
    "                d = d[(d[\"s4U\"] == 0)]\n",
    "            elif group == \"treatment_cells\":\n",
    "                d = d[(d[\"TCRatio\"] >= 0.008) & (d[\"s4U\"] == 50)]\n",
    "            else:\n",
    "                assert False\n",
    "            anno_path = \"/home/chenzonggui/species/homo_sapiens/GRCh38.p13/gencode.v39.genes.tsv\"\n",
    "        elif strain == \"mESC\":\n",
    "            if group == \"all_cells\":\n",
    "                d = d[(d[\"s4U\"] == 0) | (d[\"s4U\"] == 400)]\n",
    "            elif group == \"control_cells\":\n",
    "                d = d[(d[\"s4U\"] == 0)]\n",
    "            elif group == \"treatment_cells\":\n",
    "                d = d[(d[\"TCRatio\"] >= 0.01) & (d[\"s4U\"] == 400)]\n",
    "            else:\n",
    "                assert False\n",
    "            anno_path = \"/home/chenzonggui/species/mus_musculus/GRCm38.p6/gencode.vM25.genes.tsv\"\n",
    "        else:\n",
    "            assert False\n",
    "            \n",
    "        anno = pd.read_csv(anno_path, sep=\"\\t\", index_col=2)\n",
    "        \n",
    "        print(strain, group, len(d), sep=\"\\t\")\n",
    "\n",
    "        for tc in [1, 2]:\n",
    "            outfile1 = \"results/expression/report/gene_based/%s.%s.min_read_2_min_tc_%d.filelist.txt\" % (strain, group, tc)\n",
    "            outfile2 = \"results/expression/report/gene_based/%s.%s.min_read_2_min_tc_%d.tsv\" % (strain, group, tc)\n",
    "            outfile3 = \"results/expression/report/gene_based/%s.%s.min_read_2_min_tc_%d.annotated.tsv\" % (strain, group, tc)\n",
    "\n",
    "            with open(outfile1, \"w+\") as fw:\n",
    "                for run, cell in d[[\"Run\", \"Cell\"]].values:\n",
    "                    path = \"results/expression/quant_genes/min_read_2_min_tc_%d/%s/%s.tsv\" % (tc, run, cell)\n",
    "                    fw.write(path + \"\\n\")\n",
    "            cmd = \"./scripts/merge_counts.py %s %s\" % (outfile1, outfile2)\n",
    "            subprocess.check_call(cmd, shell=True)\n",
    "            dat = pd.read_csv(outfile2, sep=\"\\t\", header=0, index_col=0)\n",
    "            dat[\"NTR\"] = dat[\"Nascent\"] / dat[\"Total\"]\n",
    "            dat[\"TPM\"] = dat[\"Total\"] * 1e6 / sum(dat[\"Total\"])\n",
    "            dat[\"T\"] = -3/np.log2(1-dat[\"NTR\"])\n",
    "            dat = dat.merge(anno, left_index=True, right_index=True, how=\"left\")\n",
    "            dat.to_csv(outfile3, sep=\"\\t\")\n",
    "            os.remove(outfile1)\n",
    "            os.remove(outfile2)"
   ]
  },
  {
   "cell_type": "markdown",
   "id": "2801ec50",
   "metadata": {},
   "source": [
    "# Isoform expression"
   ]
  },
  {
   "cell_type": "code",
   "execution_count": 3,
   "id": "ce114187",
   "metadata": {
    "ExecuteTime": {
     "end_time": "2023-12-25T10:23:25.882741Z",
     "start_time": "2023-12-25T10:22:39.187507Z"
    }
   },
   "outputs": [
    {
     "name": "stdout",
     "output_type": "stream",
     "text": [
      "K562\tall_cells\t369\n"
     ]
    },
    {
     "name": "stderr",
     "output_type": "stream",
     "text": [
      "/home/chenzonggui/miniconda3/envs/py36/lib/python3.6/site-packages/pandas/core/series.py:726: RuntimeWarning: divide by zero encountered in log2\n",
      "  result = getattr(ufunc, method)(*inputs, **kwargs)\n"
     ]
    },
    {
     "name": "stdout",
     "output_type": "stream",
     "text": [
      "K562\tcontrol_cells\t190\n"
     ]
    },
    {
     "name": "stderr",
     "output_type": "stream",
     "text": [
      "/home/chenzonggui/miniconda3/envs/py36/lib/python3.6/site-packages/pandas/core/series.py:726: RuntimeWarning: divide by zero encountered in log2\n",
      "  result = getattr(ufunc, method)(*inputs, **kwargs)\n"
     ]
    },
    {
     "name": "stdout",
     "output_type": "stream",
     "text": [
      "K562\ttreatment_cells\t105\n"
     ]
    },
    {
     "name": "stderr",
     "output_type": "stream",
     "text": [
      "/home/chenzonggui/miniconda3/envs/py36/lib/python3.6/site-packages/pandas/core/series.py:726: RuntimeWarning: divide by zero encountered in log2\n",
      "  result = getattr(ufunc, method)(*inputs, **kwargs)\n"
     ]
    },
    {
     "name": "stdout",
     "output_type": "stream",
     "text": [
      "mESC\tall_cells\t176\n"
     ]
    },
    {
     "name": "stderr",
     "output_type": "stream",
     "text": [
      "/home/chenzonggui/miniconda3/envs/py36/lib/python3.6/site-packages/pandas/core/series.py:726: RuntimeWarning: divide by zero encountered in log2\n",
      "  result = getattr(ufunc, method)(*inputs, **kwargs)\n"
     ]
    },
    {
     "name": "stdout",
     "output_type": "stream",
     "text": [
      "mESC\tcontrol_cells\t64\n"
     ]
    },
    {
     "name": "stderr",
     "output_type": "stream",
     "text": [
      "/home/chenzonggui/miniconda3/envs/py36/lib/python3.6/site-packages/pandas/core/series.py:726: RuntimeWarning: divide by zero encountered in log2\n",
      "  result = getattr(ufunc, method)(*inputs, **kwargs)\n"
     ]
    },
    {
     "name": "stdout",
     "output_type": "stream",
     "text": [
      "mESC\ttreatment_cells\t110\n"
     ]
    },
    {
     "name": "stderr",
     "output_type": "stream",
     "text": [
      "/home/chenzonggui/miniconda3/envs/py36/lib/python3.6/site-packages/pandas/core/series.py:726: RuntimeWarning: divide by zero encountered in log2\n",
      "  result = getattr(ufunc, method)(*inputs, **kwargs)\n"
     ]
    }
   ],
   "source": [
    "for strain in strains:\n",
    "    for group in [\"all_cells\", \"control_cells\", \"treatment_cells\"]:\n",
    "        d = info\n",
    "        d = d[(d[\"Strain\"] == strain) & (d[\"Time\"] == 3) & (d[\"ActD\"].isna()) & (d[\"UMIs\"] >= 5000)]\n",
    "        \n",
    "        if strain == \"K562\":\n",
    "            if group == \"all_cells\":\n",
    "                d = d[(d[\"s4U\"] == 0) | (d[\"s4U\"] == 50)]\n",
    "            elif group == \"control_cells\":\n",
    "                d = d[(d[\"s4U\"] == 0)]\n",
    "            elif group == \"treatment_cells\":\n",
    "                d = d[(d[\"TCRatio\"] >= 0.008) & (d[\"s4U\"] == 50)]\n",
    "            else:\n",
    "                assert False\n",
    "            anno_path = \"/home/chenzonggui/species/homo_sapiens/GRCh38.p13/gencode.v39.annotation.tsv\"\n",
    "        elif strain == \"mESC\":\n",
    "            if group == \"all_cells\":\n",
    "                d = d[(d[\"s4U\"] == 0) | (d[\"s4U\"] == 400)]\n",
    "            elif group == \"control_cells\":\n",
    "                d = d[(d[\"s4U\"] == 0)]\n",
    "            elif group == \"treatment_cells\":\n",
    "                d = d[(d[\"TCRatio\"] >= 0.01) & (d[\"s4U\"] == 400)]\n",
    "            else:\n",
    "                assert False\n",
    "            anno_path = \"/home/chenzonggui/species/mus_musculus/GRCm38.p6/gencode.vM25.annotation.tsv\"\n",
    "        else:\n",
    "            assert False\n",
    "            \n",
    "        anno = pd.read_csv(anno_path, sep=\"\\t\", index_col=0)\n",
    "        \n",
    "        print(strain, group, len(d), sep=\"\\t\")\n",
    "\n",
    "        for tc in [1, 2]:\n",
    "            outfile1 = \"results/expression/report/isoform_based/%s.%s.min_read_2_min_tc_%d.filelist.txt\" % (strain, group, tc)\n",
    "            outfile2 = \"results/expression/report/isoform_based/%s.%s.min_read_2_min_tc_%d.tsv\" % (strain, group, tc)\n",
    "            outfile3 = \"results/expression/report/isoform_based/%s.%s.min_read_2_min_tc_%d.annotated.tsv\" % (strain, group, tc)\n",
    "\n",
    "            with open(outfile1, \"w+\") as fw:\n",
    "                for run, cell in d[[\"Run\", \"Cell\"]].values:\n",
    "                    path = \"results/expression/quant_isoforms/min_read_2_min_tc_%d/%s/%s.tsv\" % (tc, run, cell)\n",
    "                    fw.write(path + \"\\n\")\n",
    "            cmd = \"./scripts/merge_counts.py %s %s\" % (outfile1, outfile2)\n",
    "            subprocess.check_call(cmd, shell=True)\n",
    "            dat = pd.read_csv(outfile2, sep=\"\\t\", header=0, index_col=0)\n",
    "            dat[\"NTR\"] = dat[\"Nascent\"] / dat[\"Total\"]\n",
    "            dat[\"TPM\"] = dat[\"Total\"] * 1e6 / sum(dat[\"Total\"])\n",
    "            dat[\"T\"] = -3/np.log2(1-dat[\"NTR\"])\n",
    "            dat = dat.merge(anno, left_index=True, right_index=True, how=\"left\")\n",
    "            dat.to_csv(outfile3, sep=\"\\t\")\n",
    "            os.remove(outfile1)\n",
    "            os.remove(outfile2)"
   ]
  },
  {
   "cell_type": "markdown",
   "id": "0e9028f4",
   "metadata": {},
   "source": [
    "# Gene expression (matrix)"
   ]
  },
  {
   "cell_type": "code",
   "execution_count": 6,
   "id": "847eed71",
   "metadata": {
    "ExecuteTime": {
     "end_time": "2023-12-26T04:44:40.528161Z",
     "start_time": "2023-12-26T04:43:04.306869Z"
    }
   },
   "outputs": [
    {
     "name": "stdout",
     "output_type": "stream",
     "text": [
      "K562\tall_cells\t369\n",
      "K562\tcontrol_cells\t190\n",
      "K562\ttreatment_cells\t105\n",
      "mESC\tall_cells\t176\n",
      "mESC\tcontrol_cells\t64\n",
      "mESC\ttreatment_cells\t110\n"
     ]
    }
   ],
   "source": [
    "for strain in strains:\n",
    "    for group in [\"all_cells\", \"control_cells\", \"treatment_cells\"]:\n",
    "        d = info\n",
    "        d = d[(d[\"Strain\"] == strain) & (d[\"Time\"] == 3) & (d[\"ActD\"].isna()) & (d[\"UMIs\"] >= 5000)]\n",
    "        \n",
    "        if strain == \"K562\":\n",
    "            if group == \"all_cells\":\n",
    "                d = d[(d[\"s4U\"] == 0) | (d[\"s4U\"] == 50)]\n",
    "            elif group == \"control_cells\":\n",
    "                d = d[(d[\"s4U\"] == 0)]\n",
    "            elif group == \"treatment_cells\":\n",
    "                d = d[(d[\"TCRatio\"] >= 0.008) & (d[\"s4U\"] == 50)]\n",
    "            else:\n",
    "                assert False\n",
    "        elif strain == \"mESC\":\n",
    "            if group == \"all_cells\":\n",
    "                d = d[(d[\"s4U\"] == 0) | (d[\"s4U\"] == 400)]\n",
    "            elif group == \"control_cells\":\n",
    "                d = d[(d[\"s4U\"] == 0)]\n",
    "            elif group == \"treatment_cells\":\n",
    "                d = d[(d[\"TCRatio\"] >= 0.01) & (d[\"s4U\"] == 400)]\n",
    "            else:\n",
    "                assert False\n",
    "        else:\n",
    "            assert False\n",
    "                    \n",
    "        print(strain, group, len(d), sep=\"\\t\")\n",
    "\n",
    "        for tc in [1, 2]:\n",
    "            outfile1 = \"results/expression/report/gene_based_matrix/%s.%s.min_read_2_min_tc_%d.filelist.txt\" % (strain, group, tc)\n",
    "            outfile2 = \"results/expression/report/gene_based_matrix/%s.%s.min_read_2_min_tc_%d.total.tsv\" % (strain, group, tc)\n",
    "            outfile3 = \"results/expression/report/gene_based_matrix/%s.%s.min_read_2_min_tc_%d.nascent.tsv\" % (strain, group, tc)\n",
    "            with open(outfile1, \"w+\") as fw:\n",
    "                for run, cell in d[[\"Run\", \"Cell\"]].values:\n",
    "                    path = \"results/expression/quant_genes/min_read_2_min_tc_%d/%s/%s.tsv\" % (tc, run, cell)\n",
    "                    fw.write(path + \"\\n\")\n",
    "            cmd = \"./scripts/make_count_matrix.py %s %s %s\" % (outfile1, outfile2, outfile3)\n",
    "            # print(cmd)\n",
    "            subprocess.check_call(cmd, shell=True)\n",
    "            os.remove(outfile1)"
   ]
  },
  {
   "cell_type": "markdown",
   "id": "2d5aa472",
   "metadata": {},
   "source": [
    "# Isoform expression (matrix)"
   ]
  },
  {
   "cell_type": "code",
   "execution_count": 7,
   "id": "335f8a47",
   "metadata": {
    "ExecuteTime": {
     "end_time": "2023-12-26T04:47:07.324739Z",
     "start_time": "2023-12-26T04:44:54.000511Z"
    }
   },
   "outputs": [
    {
     "name": "stdout",
     "output_type": "stream",
     "text": [
      "K562\tall_cells\t369\n",
      "K562\tcontrol_cells\t190\n",
      "K562\ttreatment_cells\t105\n",
      "mESC\tall_cells\t176\n",
      "mESC\tcontrol_cells\t64\n",
      "mESC\ttreatment_cells\t110\n"
     ]
    }
   ],
   "source": [
    "for strain in strains:\n",
    "    for group in [\"all_cells\", \"control_cells\", \"treatment_cells\"]:\n",
    "        d = info\n",
    "        d = d[(d[\"Strain\"] == strain) & (d[\"Time\"] == 3) & (d[\"ActD\"].isna()) & (d[\"UMIs\"] >= 5000)]\n",
    "        \n",
    "        if strain == \"K562\":\n",
    "            if group == \"all_cells\":\n",
    "                d = d[(d[\"s4U\"] == 0) | (d[\"s4U\"] == 50)]\n",
    "            elif group == \"control_cells\":\n",
    "                d = d[(d[\"s4U\"] == 0)]\n",
    "            elif group == \"treatment_cells\":\n",
    "                d = d[(d[\"TCRatio\"] >= 0.008) & (d[\"s4U\"] == 50)]\n",
    "            else:\n",
    "                assert False\n",
    "        elif strain == \"mESC\":\n",
    "            if group == \"all_cells\":\n",
    "                d = d[(d[\"s4U\"] == 0) | (d[\"s4U\"] == 400)]\n",
    "            elif group == \"control_cells\":\n",
    "                d = d[(d[\"s4U\"] == 0)]\n",
    "            elif group == \"treatment_cells\":\n",
    "                d = d[(d[\"TCRatio\"] >= 0.01) & (d[\"s4U\"] == 400)]\n",
    "            else:\n",
    "                assert False\n",
    "        else:\n",
    "            assert False\n",
    "                    \n",
    "        print(strain, group, len(d), sep=\"\\t\")\n",
    "\n",
    "        for tc in [1, 2]:\n",
    "            outfile1 = \"results/expression/report/isoform_based_matrix/%s.%s.min_read_2_min_tc_%d.filelist.txt\" % (strain, group, tc)\n",
    "            outfile2 = \"results/expression/report/isoform_based_matrix/%s.%s.min_read_2_min_tc_%d.total.tsv\" % (strain, group, tc)\n",
    "            outfile3 = \"results/expression/report/isoform_based_matrix/%s.%s.min_read_2_min_tc_%d.nascent.tsv\" % (strain, group, tc)\n",
    "            with open(outfile1, \"w+\") as fw:\n",
    "                for run, cell in d[[\"Run\", \"Cell\"]].values:\n",
    "                    path = \"results/expression/quant_isoforms/min_read_2_min_tc_%d/%s/%s.tsv\" % (tc, run, cell)\n",
    "                    fw.write(path + \"\\n\")\n",
    "            cmd = \"./scripts/make_count_matrix.py %s %s %s\" % (outfile1, outfile2, outfile3)\n",
    "            # print(cmd)\n",
    "            subprocess.check_call(cmd, shell=True)\n",
    "            os.remove(outfile1)"
   ]
  },
  {
   "cell_type": "code",
   "execution_count": null,
   "id": "b9c58b8d",
   "metadata": {},
   "outputs": [],
   "source": []
  }
 ],
 "metadata": {
  "kernelspec": {
   "display_name": "Python 3 (ipykernel)",
   "language": "python",
   "name": "python3"
  },
  "language_info": {
   "codemirror_mode": {
    "name": "ipython",
    "version": 3
   },
   "file_extension": ".py",
   "mimetype": "text/x-python",
   "name": "python",
   "nbconvert_exporter": "python",
   "pygments_lexer": "ipython3",
   "version": "3.10.13"
  }
 },
 "nbformat": 4,
 "nbformat_minor": 5
}
