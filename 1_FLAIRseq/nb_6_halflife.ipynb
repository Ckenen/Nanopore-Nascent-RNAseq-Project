{
 "cells": [
  {
   "cell_type": "code",
   "execution_count": 11,
   "id": "4baffc1f",
   "metadata": {
    "ExecuteTime": {
     "end_time": "2024-03-10T06:54:42.725017Z",
     "start_time": "2024-03-10T06:54:36.809932Z"
    },
    "execution": {
     "iopub.execute_input": "2024-06-18T11:06:47.969956Z",
     "iopub.status.busy": "2024-06-18T11:06:47.969235Z",
     "iopub.status.idle": "2024-06-18T11:06:47.978117Z",
     "shell.execute_reply": "2024-06-18T11:06:47.976567Z",
     "shell.execute_reply.started": "2024-06-18T11:06:47.969892Z"
    }
   },
   "outputs": [],
   "source": [
    "import gzip\n",
    "import os\n",
    "import subprocess\n",
    "import numpy as np\n",
    "import pandas as pd"
   ]
  },
  {
   "cell_type": "markdown",
   "id": "6e69b37d",
   "metadata": {
    "heading_collapsed": true
   },
   "source": [
    "# Calculate half-life\n",
    "\n",
    "    K562, mESC"
   ]
  },
  {
   "cell_type": "code",
   "execution_count": 13,
   "id": "e7e39654-8228-4a64-ba18-6ff4c5f331f9",
   "metadata": {
    "execution": {
     "iopub.execute_input": "2024-06-18T11:47:01.458155Z",
     "iopub.status.busy": "2024-06-18T11:47:01.457353Z",
     "iopub.status.idle": "2024-06-18T11:47:01.543941Z",
     "shell.execute_reply": "2024-06-18T11:47:01.542097Z",
     "shell.execute_reply.started": "2024-06-18T11:47:01.458085Z"
    }
   },
   "outputs": [],
   "source": [
    "info = pd.read_csv(\"reports/FLAIRseq_Summary.tsv\", sep=\"\\t\")\n",
    "\n",
    "def get_half_life(total, nascent):\n",
    "    if total == 0:\n",
    "        return np.nan\n",
    "    else:\n",
    "        if nascent == 0:\n",
    "            return np.inf\n",
    "        elif nascent == total:\n",
    "            return 0\n",
    "        else:\n",
    "            return -3/np.log2(1-nascent/total)"
   ]
  },
  {
   "cell_type": "code",
   "execution_count": 14,
   "id": "aaf0b7a3-4904-47f4-84d1-56ad00700b81",
   "metadata": {
    "execution": {
     "iopub.execute_input": "2024-06-18T11:47:01.722260Z",
     "iopub.status.busy": "2024-06-18T11:47:01.721583Z",
     "iopub.status.idle": "2024-06-18T11:47:09.720962Z",
     "shell.execute_reply": "2024-06-18T11:47:09.719993Z",
     "shell.execute_reply.started": "2024-06-18T11:47:01.722192Z"
    }
   },
   "outputs": [
    {
     "name": "stdout",
     "output_type": "stream",
     "text": [
      "--------------------------------------------------------------------------------\n",
      "Cell line: K562\n",
      "Gene annotation: /home/chenzonggui/species/homo_sapiens/GRCh38.p13/gencode.v39.genes.tsv\n",
      "Min TC count: 1\n",
      "Cells: 97\n",
      "--------------------------------------------------------------------------------\n",
      "Cell line: K562\n",
      "Gene annotation: /home/chenzonggui/species/homo_sapiens/GRCh38.p13/gencode.v39.genes.tsv\n",
      "Min TC count: 2\n",
      "Cells: 97\n",
      "--------------------------------------------------------------------------------\n",
      "Cell line: mESC\n",
      "Gene annotation: /home/chenzonggui/species/mus_musculus/GRCm38.p6/gencode.vM25.genes.tsv\n",
      "Min TC count: 1\n",
      "Cells: 102\n",
      "--------------------------------------------------------------------------------\n",
      "Cell line: mESC\n",
      "Gene annotation: /home/chenzonggui/species/mus_musculus/GRCm38.p6/gencode.vM25.genes.tsv\n",
      "Min TC count: 2\n",
      "Cells: 102\n"
     ]
    }
   ],
   "source": [
    "params = [\n",
    "    [\"K562\", 50, 0.008, \"/home/chenzonggui/species/homo_sapiens/GRCh38.p13/gencode.v39.genes.tsv\"],\n",
    "    [\"mESC\", 400, 0.01, \"/home/chenzonggui/species/mus_musculus/GRCm38.p6/gencode.vM25.genes.tsv\"]\n",
    "]\n",
    "\n",
    "for cell_line, s4u, min_tc_ratio, gene_anno_path in params:\n",
    "    d = info\n",
    "    d = d[d[\"UMIs\"] >= 5000]\n",
    "    d = d[d[\"Genes\"] >= 2000]\n",
    "    d = d[d[\"CellLine\"] == cell_line]\n",
    "    d = d[d[\"TC.Ratio\"] >= min_tc_ratio]\n",
    "    d = d[d[\"Time\"] == 3]\n",
    "    d = d[d[\"s4U\"] == s4u]\n",
    "    d = d[d[\"ActD\"].isna()]\n",
    "    \n",
    "    for min_tc in [1, 2]:\n",
    "        print(\"-\" * 80)\n",
    "        print(\"Cell line:\", cell_line)\n",
    "        print(\"Gene annotation:\", gene_anno_path)\n",
    "        print(\"Min TC count:\", min_tc)\n",
    "        print(\"Cells:\", len(d))\n",
    "\n",
    "        anno = pd.read_csv(gene_anno_path, sep=\"\\t\", index_col=2)\n",
    "        array1 = []\n",
    "        array2 = []\n",
    "        for run, cell in d[[\"Run\", \"Cell\"]].values:\n",
    "            path = \"results/expression/quant_genes/min_read_2_min_tc_%s/%s/%s.tsv\" % (min_tc, run, cell)\n",
    "            df = pd.read_csv(path, sep=\"\\t\", index_col=0)\n",
    "            s1 = df[\"Total\"]\n",
    "            s2 = df[\"Nascent\"]\n",
    "            s1.name = cell\n",
    "            s2.name = cell\n",
    "            array1.append(s1)\n",
    "            array2.append(s2)\n",
    "        df1 = pd.concat(array1, axis=1, sort=False).fillna(0)\n",
    "        df2 = pd.concat(array2, axis=1, sort=False).fillna(0)\n",
    "        s1 = df1.sum(axis=1)\n",
    "        s2 = df2.sum(axis=1)\n",
    "        s1.name = \"Total\"\n",
    "        s2.name = \"Nascent\"\n",
    "\n",
    "        df = pd.concat([s1, s2], axis=1, sort=False).fillna(0)\n",
    "        df.index.name = \"GeneID\"\n",
    "        df[\"TPM\"] = df[\"Total\"] * 1e6 / sum(df[\"Total\"])\n",
    "        df[\"NTR\"] = df[\"Nascent\"] / df[\"Total\"]\n",
    "        df[\"Halflife\"] = [get_half_life(v1, v2) for v1, v2 in df[[\"Total\", \"Nascent\"]].values]\n",
    "        df[\"T\"] = df[\"Halflife\"]\n",
    "        df[\"DecayRate\"] = np.log(2)/df[\"Halflife\"]\n",
    "        df[\"SynthesisRate\"] = df[\"TPM\"] * df[\"DecayRate\"] / 100\n",
    "        df = df.merge(anno, left_index=True, right_index=True, how=\"right\")\n",
    "        df.to_csv(\"reports/halflife_of_%s_%duM_3h.%dTC.tsv\" % (cell_line, s4u, min_tc), sep=\"\\t\")  "
   ]
  },
  {
   "cell_type": "code",
   "execution_count": 18,
   "id": "9df8a0a1-cbce-4974-8ada-4967ffba9017",
   "metadata": {
    "execution": {
     "iopub.execute_input": "2024-06-18T08:48:49.744020Z",
     "iopub.status.busy": "2024-06-18T08:48:49.743248Z",
     "iopub.status.idle": "2024-06-18T08:49:02.517474Z",
     "shell.execute_reply": "2024-06-18T08:49:02.516298Z",
     "shell.execute_reply.started": "2024-06-18T08:48:49.743950Z"
    }
   },
   "outputs": [
    {
     "name": "stdout",
     "output_type": "stream",
     "text": [
      "--------------------------------------------------------------------------------\n",
      "Cell line: K562\n",
      "Gene annotation: /home/chenzonggui/species/homo_sapiens/GRCh38.p13/gencode.v39.annotation.tsv\n",
      "Min TC count: 1\n",
      "Cells: 97\n",
      "--------------------------------------------------------------------------------\n",
      "Cell line: K562\n",
      "Gene annotation: /home/chenzonggui/species/homo_sapiens/GRCh38.p13/gencode.v39.annotation.tsv\n",
      "Min TC count: 2\n",
      "Cells: 97\n",
      "--------------------------------------------------------------------------------\n",
      "Cell line: mESC\n",
      "Gene annotation: /home/chenzonggui/species/mus_musculus/GRCm38.p6/gencode.vM25.annotation.tsv\n",
      "Min TC count: 1\n",
      "Cells: 102\n",
      "--------------------------------------------------------------------------------\n",
      "Cell line: mESC\n",
      "Gene annotation: /home/chenzonggui/species/mus_musculus/GRCm38.p6/gencode.vM25.annotation.tsv\n",
      "Min TC count: 2\n",
      "Cells: 102\n"
     ]
    }
   ],
   "source": [
    "params = [\n",
    "    [\"K562\", 50, 0.008, \"/home/chenzonggui/species/homo_sapiens/GRCh38.p13/gencode.v39.annotation.tsv\"],\n",
    "    [\"mESC\", 400, 0.01, \"/home/chenzonggui/species/mus_musculus/GRCm38.p6/gencode.vM25.annotation.tsv\"]\n",
    "]\n",
    "\n",
    "for cell_line, s4u, min_tc_ratio, gene_anno_path in params:\n",
    "    d = info\n",
    "    d = d[d[\"UMIs\"] >= 5000]\n",
    "    d = d[d[\"Genes\"] >= 2000]\n",
    "    d = d[d[\"CellLine\"] == cell_line]\n",
    "    d = d[d[\"TC.Ratio\"] >= min_tc_ratio]\n",
    "    d = d[d[\"Time\"] == 3]\n",
    "    d = d[d[\"s4U\"] == s4u]\n",
    "    d = d[d[\"ActD\"].isna()]\n",
    "    \n",
    "    for min_tc in [1, 2]:\n",
    "        print(\"-\" * 80)\n",
    "        print(\"Cell line:\", cell_line)\n",
    "        print(\"Gene annotation:\", gene_anno_path)\n",
    "        print(\"Min TC count:\", min_tc)\n",
    "        print(\"Cells:\", len(d))\n",
    "\n",
    "        anno = pd.read_csv(gene_anno_path, sep=\"\\t\", index_col=0)\n",
    "        array1 = []\n",
    "        array2 = []\n",
    "        for run, cell in d[[\"Run\", \"Cell\"]].values:\n",
    "            path = \"results/expression/quant_isoforms/min_read_2_min_tc_%s/%s/%s.tsv\" % (min_tc, run, cell)\n",
    "            df = pd.read_csv(path, sep=\"\\t\", index_col=0)\n",
    "            s1 = df[\"Total\"]\n",
    "            s2 = df[\"Nascent\"]\n",
    "            s1.name = cell\n",
    "            s2.name = cell\n",
    "            array1.append(s1)\n",
    "            array2.append(s2)\n",
    "        df1 = pd.concat(array1, axis=1, sort=False).fillna(0)\n",
    "        df2 = pd.concat(array2, axis=1, sort=False).fillna(0)\n",
    "        s1 = df1.sum(axis=1)\n",
    "        s2 = df2.sum(axis=1)\n",
    "        s1.name = \"Total\"\n",
    "        s2.name = \"Nascent\"\n",
    "\n",
    "        df = pd.concat([s1, s2], axis=1, sort=False).fillna(0)\n",
    "        df.index.name = \"TranscriptID\"\n",
    "        df[\"TPM\"] = df[\"Total\"] * 1e6 / sum(df[\"Total\"])\n",
    "        df[\"NTR\"] = df[\"Nascent\"] / df[\"Total\"]\n",
    "        df[\"T\"] = [get_half_life(v1, v2) for v1, v2 in df[[\"Total\", \"Nascent\"]].values]\n",
    "        df = df.merge(anno, left_index=True, right_index=True, how=\"right\")\n",
    "        df.to_csv(\"reports/transcript_based.halflife_of_%s_%duM_3h.%dTC.tsv\" % (cell_line, s4u, min_tc), sep=\"\\t\")  "
   ]
  },
  {
   "cell_type": "markdown",
   "id": "96cb05e3-63e3-47b6-8f45-1bb265a89631",
   "metadata": {},
   "source": [
    "# all cells"
   ]
  },
  {
   "cell_type": "code",
   "execution_count": 17,
   "id": "137d470a-9587-4a19-a933-3185ee9ec257",
   "metadata": {
    "execution": {
     "iopub.execute_input": "2024-06-18T12:27:23.168672Z",
     "iopub.status.busy": "2024-06-18T12:27:23.167940Z",
     "iopub.status.idle": "2024-06-18T12:28:18.358121Z",
     "shell.execute_reply": "2024-06-18T12:28:18.356929Z",
     "shell.execute_reply.started": "2024-06-18T12:27:23.168608Z"
    }
   },
   "outputs": [
    {
     "name": "stdout",
     "output_type": "stream",
     "text": [
      "K562\tall_cells\t369\n",
      "K562\tcontrol_cells\t190\n",
      "K562\ttreatment_cells\t105\n",
      "mESC\tall_cells\t176\n",
      "mESC\tcontrol_cells\t64\n",
      "mESC\ttreatment_cells\t110\n"
     ]
    }
   ],
   "source": [
    "cell_lines = [\"K562\", \"mESC\"]\n",
    "\n",
    "for cell_line in cell_lines:\n",
    "    for group in [\"all_cells\", \"control_cells\", \"treatment_cells\"]:\n",
    "        d = info\n",
    "        d = d[(d[\"CellLine\"] == cell_line) & (d[\"Time\"] == 3) & (d[\"ActD\"].isna()) & (d[\"UMIs\"] >= 5000)]\n",
    "        if cell_line == \"K562\":\n",
    "            if group == \"all_cells\":\n",
    "                d = d[(d[\"s4U\"] == 0) | (d[\"s4U\"] == 50)]\n",
    "            elif group == \"control_cells\":\n",
    "                d = d[(d[\"s4U\"] == 0)]\n",
    "            elif group == \"treatment_cells\":\n",
    "                d = d[(d[\"TC.Ratio\"] >= 0.008) & (d[\"s4U\"] == 50)]\n",
    "            else:\n",
    "                assert False\n",
    "            anno_path = \"/home/chenzonggui/species/homo_sapiens/GRCh38.p13/gencode.v39.genes.tsv\"\n",
    "        elif cell_line == \"mESC\":\n",
    "            if group == \"all_cells\":\n",
    "                d = d[(d[\"s4U\"] == 0) | (d[\"s4U\"] == 400)]\n",
    "            elif group == \"control_cells\":\n",
    "                d = d[(d[\"s4U\"] == 0)]\n",
    "            elif group == \"treatment_cells\":\n",
    "                d = d[(d[\"TC.Ratio\"] >= 0.01) & (d[\"s4U\"] == 400)]\n",
    "            else:\n",
    "                assert False\n",
    "            anno_path = \"/home/chenzonggui/species/mus_musculus/GRCm38.p6/gencode.vM25.genes.tsv\"\n",
    "        else:\n",
    "            assert False\n",
    "        anno = pd.read_csv(anno_path, sep=\"\\t\", index_col=2)\n",
    "        print(cell_line, group, len(d), sep=\"\\t\")\n",
    "        for tc in [1, 2]:\n",
    "            outfile1 = \"reports/gene_based/%s.%s.min_read_2_min_tc_%d.filelist.txt\" % (cell_line, group, tc)\n",
    "            outfile2 = \"reports/gene_based/%s.%s.min_read_2_min_tc_%d.tsv\" % (cell_line, group, tc)\n",
    "            outfile3 = \"reports/gene_based/%s.%s.min_read_2_min_tc_%d.annotated.tsv\" % (cell_line, group, tc)\n",
    "            with open(outfile1, \"w+\") as fw:\n",
    "                for run, cell in d[[\"Run\", \"Cell\"]].values:\n",
    "                    path = \"results/expression/quant_genes/min_read_2_min_tc_%d/%s/%s.tsv\" % (tc, run, cell)\n",
    "                    fw.write(path + \"\\n\")\n",
    "            cmd = \"./scripts/merge_counts.py %s %s\" % (outfile1, outfile2)\n",
    "            subprocess.check_call(cmd, shell=True)\n",
    "            dat = pd.read_csv(outfile2, sep=\"\\t\", header=0, index_col=0)\n",
    "            dat[\"NTR\"] = dat[\"Nascent\"] / dat[\"Total\"]\n",
    "            dat[\"TPM\"] = dat[\"Total\"] * 1e6 / sum(dat[\"Total\"])\n",
    "            dat[\"T\"] = [get_half_life(total, nascent) for total, nascent in dat[[\"Total\", \"Nascent\"]].values]\n",
    "            dat = dat.merge(anno, left_index=True, right_index=True, how=\"left\")\n",
    "            dat.to_csv(outfile3, sep=\"\\t\")\n",
    "            os.remove(outfile1)\n",
    "            os.remove(outfile2)"
   ]
  },
  {
   "cell_type": "code",
   "execution_count": 12,
   "id": "cb9b26c0-a379-4c50-9952-2580ecb8b3bd",
   "metadata": {
    "execution": {
     "iopub.execute_input": "2024-06-18T11:06:51.604509Z",
     "iopub.status.busy": "2024-06-18T11:06:51.603797Z",
     "iopub.status.idle": "2024-06-18T11:07:37.844388Z",
     "shell.execute_reply": "2024-06-18T11:07:37.842997Z",
     "shell.execute_reply.started": "2024-06-18T11:06:51.604429Z"
    }
   },
   "outputs": [
    {
     "name": "stdout",
     "output_type": "stream",
     "text": [
      "K562\tall_cells\t369\n",
      "K562\tcontrol_cells\t190\n",
      "K562\ttreatment_cells\t105\n",
      "mESC\tall_cells\t176\n",
      "mESC\tcontrol_cells\t64\n",
      "mESC\ttreatment_cells\t110\n"
     ]
    }
   ],
   "source": [
    "cell_lines = [\"K562\", \"mESC\"]\n",
    "\n",
    "for cell_line in cell_lines:\n",
    "    for group in [\"all_cells\", \"control_cells\", \"treatment_cells\"]:\n",
    "        d = info\n",
    "        d = d[(d[\"CellLine\"] == cell_line) & (d[\"Time\"] == 3) & (d[\"ActD\"].isna()) & (d[\"UMIs\"] >= 5000)]\n",
    "        \n",
    "        if cell_line == \"K562\":\n",
    "            if group == \"all_cells\":\n",
    "                d = d[(d[\"s4U\"] == 0) | (d[\"s4U\"] == 50)]\n",
    "            elif group == \"control_cells\":\n",
    "                d = d[(d[\"s4U\"] == 0)]\n",
    "            elif group == \"treatment_cells\":\n",
    "                d = d[(d[\"s4U\"] == 50) & (d[\"TC.Ratio\"] >= 0.008)]\n",
    "            else:\n",
    "                assert False\n",
    "            anno_path = \"/home/chenzonggui/species/homo_sapiens/GRCh38.p13/gencode.v39.annotation.tsv\"\n",
    "        elif cell_line == \"mESC\":\n",
    "            if group == \"all_cells\":\n",
    "                d = d[(d[\"s4U\"] == 0) | (d[\"s4U\"] == 400)]\n",
    "            elif group == \"control_cells\":\n",
    "                d = d[(d[\"s4U\"] == 0)]\n",
    "            elif group == \"treatment_cells\":\n",
    "                d = d[(d[\"s4U\"] == 400) & (d[\"TC.Ratio\"] >= 0.01)]\n",
    "            else:\n",
    "                assert False\n",
    "            anno_path = \"/home/chenzonggui/species/mus_musculus/GRCm38.p6/gencode.vM25.annotation.tsv\"\n",
    "        else:\n",
    "            assert False\n",
    "            \n",
    "        anno = pd.read_csv(anno_path, sep=\"\\t\", index_col=0)\n",
    "        \n",
    "        print(cell_line, group, len(d), sep=\"\\t\")\n",
    "\n",
    "        for tc in [1, 2]:\n",
    "            outfile1 = \"reports/transcript_based/%s.%s.min_read_2_min_tc_%d.filelist.txt\" % (cell_line, group, tc)\n",
    "            outfile2 = \"reports/transcript_based/%s.%s.min_read_2_min_tc_%d.tsv\" % (cell_line, group, tc)\n",
    "            outfile3 = \"reports/transcript_based/%s.%s.min_read_2_min_tc_%d.annotated.tsv\" % (cell_line, group, tc)\n",
    "\n",
    "            with open(outfile1, \"w+\") as fw:\n",
    "                for run, cell in d[[\"Run\", \"Cell\"]].values:\n",
    "                    path = \"results/expression/quant_isoforms/min_read_2_min_tc_%d/%s/%s.tsv\" % (tc, run, cell)\n",
    "                    fw.write(path + \"\\n\")\n",
    "            cmd = \"./scripts/merge_counts.py %s %s\" % (outfile1, outfile2)\n",
    "            subprocess.check_call(cmd, shell=True)\n",
    "            dat = pd.read_csv(outfile2, sep=\"\\t\", header=0, index_col=0)\n",
    "            dat[\"NTR\"] = dat[\"Nascent\"] / dat[\"Total\"]\n",
    "            dat[\"TPM\"] = dat[\"Total\"] * 1e6 / sum(dat[\"Total\"])\n",
    "            dat[\"T\"] = [get_half_life(total, nascent) for total, nascent in dat[[\"Total\", \"Nascent\"]].values]\n",
    "            dat = dat.merge(anno, left_index=True, right_index=True, how=\"left\")\n",
    "            dat.to_csv(outfile3, sep=\"\\t\")\n",
    "            os.remove(outfile1)\n",
    "            os.remove(outfile2)"
   ]
  },
  {
   "cell_type": "code",
   "execution_count": null,
   "id": "986ea379-f0ad-4f6c-8baf-35dfa11908b5",
   "metadata": {},
   "outputs": [],
   "source": []
  }
 ],
 "metadata": {
  "kernelspec": {
   "display_name": "Python 3 (ipykernel)",
   "language": "python",
   "name": "python3"
  },
  "language_info": {
   "codemirror_mode": {
    "name": "ipython",
    "version": 3
   },
   "file_extension": ".py",
   "mimetype": "text/x-python",
   "name": "python",
   "nbconvert_exporter": "python",
   "pygments_lexer": "ipython3",
   "version": "3.10.13"
  }
 },
 "nbformat": 4,
 "nbformat_minor": 5
}
