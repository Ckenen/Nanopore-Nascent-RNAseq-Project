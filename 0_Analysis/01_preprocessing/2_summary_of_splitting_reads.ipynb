{
 "cells": [
  {
   "cell_type": "code",
   "execution_count": 1,
   "id": "33499c0b",
   "metadata": {
    "ExecuteTime": {
     "end_time": "2024-03-12T08:40:36.702732Z",
     "start_time": "2024-03-12T08:40:35.135988Z"
    }
   },
   "outputs": [],
   "source": [
    "from collections import defaultdict\n",
    "import gzip\n",
    "import numpy as np\n",
    "import pandas as pd\n",
    "import matplotlib.pyplot as plt\n",
    "import seaborn as sns\n",
    "\n",
    "infos = pd.read_excel(\"../../1_NanoNASCseq/data/NanoNASCseq.xls\")\n",
    "runs = [\"20220719_K562R1\", \"20220719_K562R2\", \"20220719_K562R3\", \"20220719_K562R4\", \"20220729_K562R1\", \"20220729_K562R2\"]"
   ]
  },
  {
   "cell_type": "markdown",
   "id": "cc8c7bfa",
   "metadata": {},
   "source": [
    "# Distribution of edit distance"
   ]
  },
  {
   "cell_type": "code",
   "execution_count": 2,
   "id": "c6f6b24f",
   "metadata": {
    "ExecuteTime": {
     "end_time": "2024-03-12T08:40:52.340311Z",
     "start_time": "2024-03-12T08:40:36.706357Z"
    }
   },
   "outputs": [],
   "source": [
    "data = dict()\n",
    "for run in runs:\n",
    "    path = \"../../1_NanoNASCseq/results/demux/fbilr/%s.stats.tsv.gz\" % run\n",
    "    d = pd.read_csv(gzip.open(path), sep=\"\\t\", header=None)\n",
    "    d.columns = [\"Barcode1\", \"Direction1\", \"Location1\", \"ED1\", \"Barcode2\", \"Direction2\", \"Location2\", \"ED2\", \"Count\"]\n",
    "    counter = defaultdict(int)\n",
    "    for ed1, ed2, count in d[[\"ED1\", \"ED2\", \"Count\"]].values:\n",
    "        if ed1 != -1:\n",
    "            counter[ed1] += count\n",
    "            counter[ed2] += count\n",
    "    data[run] = counter"
   ]
  },
  {
   "cell_type": "code",
   "execution_count": 3,
   "id": "d94005d6",
   "metadata": {
    "ExecuteTime": {
     "end_time": "2024-03-12T08:40:53.222204Z",
     "start_time": "2024-03-12T08:40:52.344325Z"
    }
   },
   "outputs": [
    {
     "name": "stdout",
     "output_type": "stream",
     "text": [
      "ED\tMean\tStd\n",
      "0\t66.75829314680554\t3.090874977069541\n",
      "1\t7.850915001988454\t0.8323546922086369\n",
      "2\t5.029946969061022\t0.5181100042423425\n",
      "3\t3.589470843204348\t0.39879306301686823\n",
      "4\t2.5890907825519744\t0.26593649176924633\n",
      "5\t2.1300222408751317\t0.1614376410742752\n",
      "6\t4.355916541086157\t0.784277964811518\n",
      "≥7\t7.696344474427366\t0.9274916400272356\n"
     ]
    },
    {
     "data": {
      "image/png": "[encoded data removed]",
      "text/plain": [
       "<Figure size 180x216 with 1 Axes>"
      ]
     },
     "metadata": {
      "needs_background": "light"
     },
     "output_type": "display_data"
    }
   ],
   "source": [
    "max_ed = 7\n",
    "rows = []\n",
    "for run in runs:\n",
    "    counter = data[run]\n",
    "    row = [counter[x] for x in range(0, max_ed)]\n",
    "    row.append(sum(counter.values()) - sum(row))\n",
    "    rows.append(row)\n",
    "d = pd.DataFrame(rows)\n",
    "d.index = runs\n",
    "d = d.divide(d.sum(axis=1), axis=0) * 100\n",
    "\n",
    "ys = d.mean(axis=0)\n",
    "yerr = d.std(axis=0)\n",
    "xs = np.arange(len(ys))\n",
    "ticks = [str(x) for x in xs]\n",
    "ticks[-1] = \"≥%s\" % ticks[-1]\n",
    "print(\"ED\\tMean\\tStd\")\n",
    "for s, y, ye in zip(ticks, ys, yerr):\n",
    "    print(s, y, ye, sep=\"\\t\")\n",
    "\n",
    "plt.figure(figsize=(2.5, 3))\n",
    "plt.bar(xs, ys, yerr=yerr, lw=1, capsize=4, width=0.8, color=\"C0\", edgecolor=\"black\", error_kw={\"lw\": 1})\n",
    "plt.text(0, 90, \"Flow cells: %d\" % len(runs))\n",
    "plt.xlim(min(xs) - 0.5, max(xs) + 0.5)\n",
    "plt.ylim(0, 100)\n",
    "plt.xticks(xs, ticks)\n",
    "plt.xlabel(\"Edit distance of barcode\")\n",
    "plt.ylabel(\"Percentage (%)\")\n",
    "plt.gca().spines[\"top\"].set_visible(False)\n",
    "plt.gca().spines[\"right\"].set_visible(False)\n",
    "plt.tight_layout()\n",
    "plt.savefig(\"figures/barcode_ed_distribution.pdf\", dpi=300)"
   ]
  },
  {
   "cell_type": "markdown",
   "id": "b026d57a",
   "metadata": {},
   "source": [
    "# Pattern of barcode direction and location"
   ]
  },
  {
   "cell_type": "code",
   "execution_count": 7,
   "id": "d607c05b",
   "metadata": {
    "ExecuteTime": {
     "end_time": "2024-03-08T06:16:04.209541Z",
     "start_time": "2024-03-08T06:15:52.261677Z"
    }
   },
   "outputs": [],
   "source": [
    "data = dict()\n",
    "for run in runs:\n",
    "    path = \"../../1_NanoNASCseq/results/demux/fbilr/%s.stats.tsv.gz\" % run\n",
    "    d = pd.read_csv(gzip.open(path), sep=\"\\t\", header=None)\n",
    "    d.columns = [\"Barcode1\", \"Direction1\", \"Location1\", \"ED1\", \"Barcode2\", \"Direction2\", \"Location2\", \"ED2\", \"Count\"]\n",
    "    d = d[[\"Direction1\", \"Location1\", \"ED1\", \"Direction2\", \"Location2\", \"ED2\", \"Count\"]]\n",
    "    counter = defaultdict(int)\n",
    "    for direct1, loc1, ed1, direct2, loc2, ed2, count in d.values:\n",
    "        if ed1 != -1:\n",
    "            counter[(ed1, direct1, loc1)] += count\n",
    "            counter[(ed2, direct2, loc2)] += count\n",
    "    data[run] = counter"
   ]
  },
  {
   "cell_type": "code",
   "execution_count": 8,
   "id": "2919669f",
   "metadata": {
    "ExecuteTime": {
     "end_time": "2024-03-08T06:16:06.867737Z",
     "start_time": "2024-03-08T06:16:04.212252Z"
    }
   },
   "outputs": [
    {
     "data": {
      "image/png": "[encoded data removed]",
      "text/plain": [
       "<Figure size 396x216 with 8 Axes>"
      ]
     },
     "metadata": {
      "needs_background": "light"
     },
     "output_type": "display_data"
    }
   ],
   "source": [
    "nrow = 2\n",
    "ncol = 4\n",
    "fig, axs = plt.subplots(nrow, ncol, figsize=(5.5, 3))\n",
    "for ed in np.arange(ncol * nrow):\n",
    "    rows = []\n",
    "    for run in runs:\n",
    "        row = []\n",
    "        for location in \"HT\":\n",
    "            for direction in \"FR\":\n",
    "                row.append(data[run].get((ed, direction, location), 0))\n",
    "        total = sum(row)\n",
    "        row = np.array(row) * 100 / total\n",
    "        rows.append(row)\n",
    "    m = np.array(rows)\n",
    "    ys = np.mean(m, axis=0)\n",
    "    yerr = np.std(m, axis=0)\n",
    "    xs = np.arange(4)\n",
    "    colors = [\"C0\", \"C7\", \"C7\", \"C3\"]\n",
    "    \n",
    "    i1 = int(ed / ncol)\n",
    "    i2 = ed % ncol\n",
    "    ax = axs[i1][i2]\n",
    "    plt.sca(ax)\n",
    "    plt.bar(xs, ys, yerr=yerr, error_kw={\"lw\": 1, \"capsize\": 4}, color=colors, edgecolor=\"black\", width=0.6)\n",
    "    plt.ylim(0, 100)\n",
    "    if i1 == 0:\n",
    "        plt.xticks([])\n",
    "    else:\n",
    "        plt.xticks(xs, [\"FH\", \"RH\", \"FT\", \"RT\"])\n",
    "    if i2 == 0:\n",
    "        plt.ylabel(\"Percentage (%)\")\n",
    "    else:\n",
    "        plt.yticks([])\n",
    "    noise = 100 - (ys[0] + ys[3])\n",
    "    x = 0.6\n",
    "    if ed < nrow * ncol - 1:\n",
    "        plt.text(x, 80, \"ED=%d\" % ed)\n",
    "    else:\n",
    "        plt.text(x, 80, \"ED≥%d\" % ed)\n",
    "    plt.text(x, 65, \"$\\mu$=%.2f%%\" % noise)\n",
    "    plt.tight_layout(w_pad=0.5)\n",
    "plt.savefig(\"figures/barcode_ed_direct_loc.pdf\", dpi=300)"
   ]
  },
  {
   "cell_type": "markdown",
   "id": "bfcb9356",
   "metadata": {},
   "source": [
    "# Profiling of dual-barcode"
   ]
  },
  {
   "cell_type": "code",
   "execution_count": 9,
   "id": "dd3fa82b",
   "metadata": {
    "ExecuteTime": {
     "end_time": "2024-03-08T06:17:41.073445Z",
     "start_time": "2024-03-08T06:17:17.937543Z"
    }
   },
   "outputs": [],
   "source": [
    "array = []\n",
    "for run in runs:\n",
    "    tmp = infos[infos[\"Run\"] == run]\n",
    "    m = np.zeros((6, 6), dtype=np.int)\n",
    "    path = \"../../1_NanoNASCseq/results/demux/fbilr/%s.stats.tsv.gz\" % run\n",
    "    d = pd.read_csv(gzip.open(path), sep=\"\\t\", header=None)\n",
    "    for ed1, ed2, count in d[[3, 7, 8]].values:\n",
    "        if ed1 == -1:\n",
    "            continue\n",
    "        ed1 = int(ed1)\n",
    "        ed2 = int(ed2)\n",
    "        ed1 = min(ed1, 11)\n",
    "        ed2 = min(ed2, 11)\n",
    "        m[int(ed1/2)][int(ed2/2)] += int(count)\n",
    "    m = pd.DataFrame(m)\n",
    "    m = m * 100 / m.sum().sum()\n",
    "    m.columns = [\"0-1\", \"2-3\", \"4-5\", \"6-7\", \"8-9\", \"≥10\"]\n",
    "    m.index = [\"0-1\", \"2-3\", \"4-5\", \"6-7\", \"8-9\", \"≥10\"]\n",
    "    array.append(m)\n",
    "m = sum(array) / len(array)\n",
    "m = m[::-1]"
   ]
  },
  {
   "cell_type": "code",
   "execution_count": 10,
   "id": "71100c3a",
   "metadata": {
    "ExecuteTime": {
     "end_time": "2024-03-08T06:17:42.034014Z",
     "start_time": "2024-03-08T06:17:41.077394Z"
    }
   },
   "outputs": [
    {
     "data": {
      "image/png": "[encoded data removed]",
      "text/plain": [
       "<Figure size 259.2x216 with 2 Axes>"
      ]
     },
     "metadata": {
      "needs_background": "light"
     },
     "output_type": "display_data"
    }
   ],
   "source": [
    "plt.figure(figsize=(3.6, 3))\n",
    "sns.heatmap(m, annot=True, fmt=\".1f\", cmap=\"Blues\", lw=0.5, vmin=0, vmax=60,\n",
    "            square=True, cbar_kws={\"label\": \"Percentage (%)\"})\n",
    "if True:\n",
    "    plt.plot([0, 3], [3, 3], color=\"C3\", lw=1, clip_on=False)\n",
    "    plt.plot([0, 3], [6, 6], color=\"C3\", lw=1, clip_on=False)\n",
    "    plt.plot([0, 0], [3, 6], color=\"C3\", lw=1, clip_on=False)\n",
    "    plt.plot([3, 3], [3, 6], color=\"C3\", lw=1, clip_on=False)\n",
    "    \n",
    "plt.xlabel(\"Edit distance of head barcode\")\n",
    "plt.ylabel(\"Edit distance of tail barcode\")\n",
    "plt.xticks(rotation=45)\n",
    "plt.yticks(rotation=45)\n",
    "plt.tight_layout()\n",
    "plt.savefig(\"figures/dual_barcode_ed_distribution.pdf\", dpi=300)"
   ]
  },
  {
   "cell_type": "markdown",
   "id": "c84d7cf6",
   "metadata": {},
   "source": [
    "# Assigned cell reads proportion"
   ]
  },
  {
   "cell_type": "code",
   "execution_count": 4,
   "id": "96d0b93e",
   "metadata": {
    "ExecuteTime": {
     "end_time": "2024-03-12T08:41:08.624202Z",
     "start_time": "2024-03-12T08:41:07.368512Z"
    }
   },
   "outputs": [
    {
     "data": {
      "image/png": "[encoded data removed]",
      "text/plain": [
       "<Figure size 288x216 with 1 Axes>"
      ]
     },
     "metadata": {},
     "output_type": "display_data"
    }
   ],
   "source": [
    "array = []\n",
    "for run in runs:\n",
    "    path = \"../../1_NanoNASCseq/results/demux/splitted/%s/stats.tsv\" % run\n",
    "    array.append(pd.read_csv(path, sep=\"\\t\", index_col=0))\n",
    "d = pd.concat(array)\n",
    "columns = [\"TooShort\", \"Unknown\", \"Conflict\", \"Assigned\"]\n",
    "d = pd.concat([d[c] * 100 / d[\"Total\"] for c in columns], axis=1)\n",
    "d.columns = columns\n",
    "ys = d.mean(axis=0)\n",
    "stds = d.std(axis=0)\n",
    "\n",
    "labels = [\n",
    "    \"Too short reads\\n(%.1f ± %.1f%%)\" % (ys[0], stds[0]),\n",
    "    \"Unknown cell reads\\n(%.1f ± %.1f%%)\" % (ys[1], stds[1]),\n",
    "    \"Conflict cell reads\\n(%.1f ± %.1f%%)\" % (ys[2], stds[2]),\n",
    "    \"Assigned reads\\n(%.1f ± %.1f%%)\" % (ys[3], stds[3])]\n",
    "\n",
    "plt.figure(figsize=(4, 3))\n",
    "plt.pie(ys, radius=1, wedgeprops=dict(width=0.5, edgecolor='w'), \n",
    "        # autopct='%1.1f%%', \n",
    "        # pctdistance=0.72,\n",
    "        # startangle=0, \n",
    "        colors=[\"C7\", \"C8\", \"C9\", \"C0\"], \n",
    "        labels=labels)\n",
    "plt.tight_layout()\n",
    "plt.savefig(\"figures/cell_reads_proportion.pdf\", dpi=300)"
   ]
  },
  {
   "cell_type": "code",
   "execution_count": null,
   "id": "dc1c1fcf",
   "metadata": {},
   "outputs": [],
   "source": []
  }
 ],
 "metadata": {
  "kernelspec": {
   "display_name": "Python 3",
   "language": "python",
   "name": "python3"
  },
  "language_info": {
   "codemirror_mode": {
    "name": "ipython",
    "version": 3
   },
   "file_extension": ".py",
   "mimetype": "text/x-python",
   "name": "python",
   "nbconvert_exporter": "python",
   "pygments_lexer": "ipython3",
   "version": "3.6.15"
  }
 },
 "nbformat": 4,
 "nbformat_minor": 5
}
