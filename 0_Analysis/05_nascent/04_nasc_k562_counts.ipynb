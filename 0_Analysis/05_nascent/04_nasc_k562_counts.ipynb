{
 "cells": [
  {
   "cell_type": "code",
   "execution_count": 1,
   "id": "353aaf70",
   "metadata": {
    "ExecuteTime": {
     "end_time": "2023-08-05T11:43:08.937388Z",
     "start_time": "2023-08-05T11:43:07.625872Z"
    }
   },
   "outputs": [],
   "source": [
    "import gzip\n",
    "import numpy as np\n",
    "import pandas as pd\n",
    "import matplotlib.pyplot as plt\n",
    "infos = pd.read_excel(\"../../1_NanoNASCseq/NanoNASCseq_summary_selected_qc.xls\")"
   ]
  },
  {
   "cell_type": "markdown",
   "id": "52575672",
   "metadata": {},
   "source": [
    "# Make counts for Seurat"
   ]
  },
  {
   "cell_type": "code",
   "execution_count": 2,
   "id": "494e659f",
   "metadata": {
    "ExecuteTime": {
     "end_time": "2023-08-05T11:43:22.025386Z",
     "start_time": "2023-08-05T11:43:11.943946Z"
    }
   },
   "outputs": [
    {
     "name": "stdout",
     "output_type": "stream",
     "text": [
      "Cells: 446\n"
     ]
    }
   ],
   "source": [
    "dat = infos[(infos[\"Strain\"] == \"K562\") & (np.isnan(infos[\"ActD\"]))]\n",
    "print(\"Cells:\", len(dat))\n",
    "\n",
    "array = []\n",
    "for run, cell in dat[[\"Run\", \"Cell\"]].values:\n",
    "    path = \"../../1_NanoNASCseq/results/expression/quantify/2TC/%s/%s/quant_gene.tsv.gz\" % (run, cell)\n",
    "    d = pd.read_csv(gzip.open(path), sep=\"\\t\", index_col=0)\n",
    "    s = d[\"Total\"]\n",
    "    s.name = cell\n",
    "    array.append(s)"
   ]
  },
  {
   "cell_type": "code",
   "execution_count": 3,
   "id": "f4f3fa36",
   "metadata": {
    "ExecuteTime": {
     "end_time": "2023-08-05T11:43:31.804083Z",
     "start_time": "2023-08-05T11:43:22.027967Z"
    }
   },
   "outputs": [],
   "source": [
    "m = pd.concat(array, axis=1).fillna(0)\n",
    "\n",
    "anno_g = pd.read_csv(\"/home/chenzonggui/species/homo_sapiens/GRCh38.p13/gencode.v39.genes.tsv\", sep=\"\\t\")\n",
    "anno_g.index = anno_g[\"GeneID\"]\n",
    "\n",
    "gid2gname = {gid: gname for gid, gname in anno_g[[\"GeneID\", \"GeneName\"]].values}\n",
    "gids = set(anno_g[\"GeneID\"])\n",
    "\n",
    "m = m[[gid in gids for gid in m.index]]\n",
    "m.index = [gid2gname[gid] for gid in m.index]\n",
    "m = m[~m.index.duplicated()]\n",
    "m.index.name = \"GeneName\"\n",
    "\n",
    "m.to_csv(\"data/K562_counts.tsv\", sep=\"\\t\")\n",
    "dat.to_csv(\"data/K562_meta.tsv\", sep=\"\\t\", index=False)"
   ]
  }
 ],
 "metadata": {
  "kernelspec": {
   "display_name": "Python 3",
   "language": "python",
   "name": "python3"
  },
  "language_info": {
   "codemirror_mode": {
    "name": "ipython",
    "version": 3
   },
   "file_extension": ".py",
   "mimetype": "text/x-python",
   "name": "python",
   "nbconvert_exporter": "python",
   "pygments_lexer": "ipython3",
   "version": "3.6.15"
  }
 },
 "nbformat": 4,
 "nbformat_minor": 5
}
