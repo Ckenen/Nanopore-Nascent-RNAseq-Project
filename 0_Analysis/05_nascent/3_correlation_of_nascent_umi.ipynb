{
 "cells": [
  {
   "cell_type": "code",
   "execution_count": 9,
   "id": "7ed77a38",
   "metadata": {
    "ExecuteTime": {
     "end_time": "2023-12-26T11:30:59.243456Z",
     "start_time": "2023-12-26T11:30:59.237568Z"
    }
   },
   "outputs": [],
   "source": [
    "from collections import Counter\n",
    "import numpy as np\n",
    "import pandas as pd\n",
    "import matplotlib.pyplot as plt"
   ]
  },
  {
   "cell_type": "code",
   "execution_count": 2,
   "id": "08861374",
   "metadata": {
    "ExecuteTime": {
     "end_time": "2023-12-26T11:28:18.588979Z",
     "start_time": "2023-12-26T11:28:17.632136Z"
    }
   },
   "outputs": [
    {
     "data": {
      "text/plain": [
       "(13154, 10698)"
      ]
     },
     "execution_count": 2,
     "metadata": {},
     "output_type": "execute_result"
    }
   ],
   "source": [
    "path1 = \"../../1_NanoNASCseq/results/expression/report/gene_based_matrix/K562.treatment_cells.min_read_2_min_tc_2.total.tsv\"\n",
    "path2 = \"../../1_NanoNASCseq/results/expression/report/gene_based_matrix/K562.treatment_cells.min_read_2_min_tc_2.nascent.tsv\"\n",
    "dat1 = pd.read_csv(path1, sep=\"\\t\", index_col=0)\n",
    "dat1 = dat1[dat1.max(axis=1) >= 1]\n",
    "dat2 = pd.read_csv(path2, sep=\"\\t\", index_col=0)\n",
    "dat2 = dat2[dat2.max(axis=1) >= 1]\n",
    "len(dat1), len(dat2)"
   ]
  },
  {
   "cell_type": "code",
   "execution_count": 6,
   "id": "7eb98094",
   "metadata": {
    "ExecuteTime": {
     "end_time": "2023-12-26T11:30:24.196525Z",
     "start_time": "2023-12-26T11:30:22.352710Z"
    }
   },
   "outputs": [
    {
     "data": {
      "image/png": "[encoded data removed]",
      "text/plain": [
       "<Figure size 288x216 with 1 Axes>"
      ]
     },
     "metadata": {
      "needs_background": "light"
     },
     "output_type": "display_data"
    },
    {
     "data": {
      "image/png": "[encoded data removed]",
      "text/plain": [
       "<Figure size 288x216 with 1 Axes>"
      ]
     },
     "metadata": {
      "needs_background": "light"
     },
     "output_type": "display_data"
    }
   ],
   "source": [
    "for dat in [dat1, dat2]:\n",
    "    corr = dat.corr()\n",
    "    vs = []\n",
    "    for i in range(len(corr.values)):\n",
    "        for j in range(len(corr.values)):\n",
    "            if j >= i:\n",
    "                break\n",
    "            else:\n",
    "                vs.append(corr.values[i][j])\n",
    "    # vs = dat.corr().values.flatten()\n",
    "    plt.figure(figsize=(4, 3))\n",
    "    plt.hist(vs, range=(0, 1), bins=100)\n",
    "    plt.grid()\n",
    "    plt.xlabel(\"Quantify correlation\")\n",
    "    plt.ylabel(\"Number\")\n",
    "    plt.tight_layout()\n",
    "    plt.show()\n",
    "    plt.close()"
   ]
  },
  {
   "cell_type": "code",
   "execution_count": 10,
   "id": "0cbe9582",
   "metadata": {
    "ExecuteTime": {
     "end_time": "2023-12-26T11:31:02.151498Z",
     "start_time": "2023-12-26T11:31:02.137378Z"
    }
   },
   "outputs": [
    {
     "data": {
      "text/plain": [
       "Counter({'20220719_K562R4': 17,\n",
       "         '20220729_K562R1': 32,\n",
       "         '20220729_K562R2': 40,\n",
       "         '20221014_K562R1': 16})"
      ]
     },
     "execution_count": 10,
     "metadata": {},
     "output_type": "execute_result"
    }
   ],
   "source": [
    "Counter([x.split(\".\")[0] for x in dat2.columns])"
   ]
  },
  {
   "cell_type": "code",
   "execution_count": 27,
   "id": "717031df",
   "metadata": {
    "ExecuteTime": {
     "end_time": "2023-12-26T11:37:44.656982Z",
     "start_time": "2023-12-26T11:37:44.636672Z"
    }
   },
   "outputs": [
    {
     "name": "stdout",
     "output_type": "stream",
     "text": [
      "40 32\n"
     ]
    }
   ],
   "source": [
    "m1 = dat2[list(filter(lambda c: c.startswith(\"20220729_K562R2\"), dat2.columns))]\n",
    "m2 = dat2[list(filter(lambda c: c.startswith(\"20220729_K562R1\"), dat2.columns))]\n",
    "print(len(m1.columns), len(m2.columns))"
   ]
  },
  {
   "cell_type": "code",
   "execution_count": 31,
   "id": "9f407fdd",
   "metadata": {
    "ExecuteTime": {
     "end_time": "2023-12-26T11:45:26.421564Z",
     "start_time": "2023-12-26T11:45:25.386651Z"
    }
   },
   "outputs": [
    {
     "name": "stdout",
     "output_type": "stream",
     "text": [
      "0.9488859206971949\n",
      "0.9482193913891032\n",
      "0.2574107972356549\n"
     ]
    },
    {
     "data": {
      "image/png": "[encoded data removed]",
      "text/plain": [
       "<Figure size 216x216 with 1 Axes>"
      ]
     },
     "metadata": {
      "needs_background": "light"
     },
     "output_type": "display_data"
    }
   ],
   "source": [
    "s1 = m1.sum(axis=1) # counts\n",
    "s2 = m2.sum(axis=1)\n",
    "\n",
    "xs = s1 * 1e6 / sum(s1) # TPM\n",
    "ys = s2 * 1e6 / sum(s2)\n",
    "r1 = np.corrcoef(xs, ys)[0][1]\n",
    "print(r1)\n",
    "\n",
    "# flags = (xs >= 0) & (ys >= 0)\n",
    "flags = xs + ys > 0\n",
    "xs = xs[flags]\n",
    "ys = ys[flags]\n",
    "r2 = np.corrcoef(xs, ys)[0][1]\n",
    "print(r2)\n",
    "\n",
    "xs = np.log2(xs + 1) # log2\n",
    "ys = np.log2(ys + 1)\n",
    "r3 = np.corrcoef(xs, ys)[0][1]\n",
    "print(r3)\n",
    "\n",
    "plt.figure(figsize=(3, 3))\n",
    "plt.scatter(xs, ys, marker=\".\", s=10, color=\"black\")\n",
    "# sns.kdeplot(x=xs, y=ys, fill=True, cmap='Blues', cbar=False, alpha=1, zorder=2)\n",
    "plt.text(1, 13, \"r = %.2f\" % r2)\n",
    "plt.text(6, 2.6, \"Cells of rep-1: %d\" % len(m1.columns))\n",
    "plt.text(6, 1.5, \"Cells of rep-2: %d\" % len(m2.columns))\n",
    "plt.xlim(0, 15)\n",
    "plt.ylim(0, 15)\n",
    "plt.xticks([0, 3, 6, 9, 12, 15])\n",
    "plt.yticks([0, 3, 6, 9, 12, 15])\n",
    "plt.xlabel(\"Expression of rep-1 log$_2$(TPM + 1)\")\n",
    "plt.ylabel(\"Expression of rep-2 log$_2$(TPM + 1)\")\n",
    "plt.gca().spines[\"top\"].set_visible(False)\n",
    "plt.gca().spines[\"right\"].set_visible(False)\n",
    "plt.tight_layout()\n",
    "plt.savefig(\"figures/correlation.K562.run1_vs_run2.nascent.pdf\", dpi=300)"
   ]
  },
  {
   "cell_type": "code",
   "execution_count": null,
   "id": "ae79a9f4",
   "metadata": {},
   "outputs": [],
   "source": []
  }
 ],
 "metadata": {
  "kernelspec": {
   "display_name": "Python 3",
   "language": "python",
   "name": "python3"
  },
  "language_info": {
   "codemirror_mode": {
    "name": "ipython",
    "version": 3
   },
   "file_extension": ".py",
   "mimetype": "text/x-python",
   "name": "python",
   "nbconvert_exporter": "python",
   "pygments_lexer": "ipython3",
   "version": "3.6.15"
  }
 },
 "nbformat": 4,
 "nbformat_minor": 5
}
