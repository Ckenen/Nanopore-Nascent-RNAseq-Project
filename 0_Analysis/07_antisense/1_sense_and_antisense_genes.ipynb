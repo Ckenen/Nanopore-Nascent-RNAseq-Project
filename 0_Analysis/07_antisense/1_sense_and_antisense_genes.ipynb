{
 "cells": [
  {
   "cell_type": "code",
   "execution_count": 15,
   "id": "74f57643",
   "metadata": {
    "ExecuteTime": {
     "end_time": "2023-12-26T07:18:49.402033Z",
     "start_time": "2023-12-26T07:18:49.393225Z"
    }
   },
   "outputs": [],
   "source": [
    "import glob\n",
    "import gzip\n",
    "from collections import Counter, defaultdict\n",
    "import numpy as np\n",
    "import pandas as pd\n",
    "import matplotlib.pyplot as plt\n",
    "import pysam\n",
    "from pyBioInfo.Range import GRange\n",
    "from pyBioInfo.IO.File import BamFile, GtfFile, GtfGeneBuilder\n",
    "from pyBioInfo.Utils import ShiftLoader, BlockTools"
   ]
  },
  {
   "cell_type": "markdown",
   "id": "8d1ef0b3",
   "metadata": {
    "heading_collapsed": true
   },
   "source": [
    "# Fusion genes on ENCODE annotation"
   ]
  },
  {
   "cell_type": "code",
   "execution_count": 3,
   "id": "bd71e5b1",
   "metadata": {
    "ExecuteTime": {
     "end_time": "2023-12-26T07:02:26.111015Z",
     "start_time": "2023-12-26T06:59:02.709117Z"
    },
    "hidden": true
   },
   "outputs": [
    {
     "name": "stdout",
     "output_type": "stream",
     "text": [
      "All genes: 61533\n"
     ]
    }
   ],
   "source": [
    "gtf = \"/home/chenzonggui/species/homo_sapiens/GRCh38.p13/gencode.v39.annotation.sorted.gtf.gz\"\n",
    "with GtfFile(gtf) as f:\n",
    "    all_genes = list(GtfGeneBuilder(f))\n",
    "print(\"All genes:\", len(all_genes))"
   ]
  },
  {
   "cell_type": "code",
   "execution_count": 4,
   "id": "d9fa5d20",
   "metadata": {
    "ExecuteTime": {
     "end_time": "2023-12-26T07:02:26.536321Z",
     "start_time": "2023-12-26T07:02:26.113607Z"
    },
    "hidden": true
   },
   "outputs": [
    {
     "name": "stdout",
     "output_type": "stream",
     "text": [
      "Protein coding genes: 19969\n"
     ]
    }
   ],
   "source": [
    "genes = []\n",
    "for g in all_genes:\n",
    "    if g.chrom == \"chrM\":\n",
    "        continue\n",
    "    gtype = g.records[\"gene\"][0].attributes[\"gene_type\"]\n",
    "    if gtype != \"protein_coding\": # and gtype != \"lncRNA\":\n",
    "        continue\n",
    "    genes.append(g)\n",
    "genes.sort()\n",
    "print(\"Protein coding genes:\", len(genes))"
   ]
  },
  {
   "cell_type": "code",
   "execution_count": 5,
   "id": "8fa0f6c4",
   "metadata": {
    "ExecuteTime": {
     "end_time": "2023-12-26T07:02:31.378580Z",
     "start_time": "2023-12-26T07:02:31.276252Z"
    },
    "hidden": true,
    "scrolled": true
   },
   "outputs": [
    {
     "name": "stdout",
     "output_type": "stream",
     "text": [
      "Genes: 594\n"
     ]
    }
   ],
   "source": [
    "genes1 = []\n",
    "for g in genes:\n",
    "    gname = g.records[\"gene\"][0].attributes[\"gene_name\"]\n",
    "    if gname.startswith(\"ENSG\"):\n",
    "        genes1.append(g)\n",
    "print(\"Genes:\", len(genes1))"
   ]
  },
  {
   "cell_type": "markdown",
   "id": "aa41dd21",
   "metadata": {},
   "source": [
    "# Summary of overlap genes"
   ]
  },
  {
   "cell_type": "code",
   "execution_count": 2,
   "id": "3c67ce4e",
   "metadata": {
    "ExecuteTime": {
     "end_time": "2023-09-18T06:24:13.638317Z",
     "start_time": "2023-09-18T06:20:51.624151Z"
    }
   },
   "outputs": [
    {
     "name": "stdout",
     "output_type": "stream",
     "text": [
      "All genes: 61533\n"
     ]
    }
   ],
   "source": [
    "gtf = \"/home/chenzonggui/species/homo_sapiens/GRCh38.p13/gencode.v39.annotation.sorted.gtf.gz\"\n",
    "with GtfFile(gtf) as f:\n",
    "    all_genes = list(GtfGeneBuilder(f))\n",
    "print(\"All genes:\", len(all_genes))"
   ]
  },
  {
   "cell_type": "code",
   "execution_count": 7,
   "id": "02288738",
   "metadata": {
    "ExecuteTime": {
     "end_time": "2023-12-26T07:14:50.761530Z",
     "start_time": "2023-12-26T07:14:50.476097Z"
    }
   },
   "outputs": [
    {
     "name": "stdout",
     "output_type": "stream",
     "text": [
      "Protein coding genes: 19969\n"
     ]
    }
   ],
   "source": [
    "# filter genes\n",
    "\n",
    "genes = []\n",
    "for g in all_genes:\n",
    "    if g.chrom == \"chrM\":\n",
    "        continue\n",
    "    gtype = g.records[\"gene\"][0].attributes[\"gene_type\"]\n",
    "    if gtype != \"protein_coding\": # and gtype != \"lncRNA\":\n",
    "        continue\n",
    "    genes.append(g)\n",
    "genes.sort()\n",
    "print(\"Protein coding genes:\", len(genes))"
   ]
  },
  {
   "cell_type": "code",
   "execution_count": 8,
   "id": "308feee5",
   "metadata": {
    "ExecuteTime": {
     "end_time": "2023-12-26T07:15:05.808140Z",
     "start_time": "2023-12-26T07:15:05.714327Z"
    }
   },
   "outputs": [
    {
     "name": "stdout",
     "output_type": "stream",
     "text": [
      "Genes: 19375\n"
     ]
    }
   ],
   "source": [
    "tmp = []\n",
    "for g in genes:\n",
    "    gname = g.records[\"gene\"][0].attributes[\"gene_name\"]\n",
    "    g.gname = gname\n",
    "    if not gname.startswith(\"ENSG\"):\n",
    "        tmp.append(g)\n",
    "genes = tmp\n",
    "print(\"Genes:\", len(genes))"
   ]
  },
  {
   "cell_type": "code",
   "execution_count": 9,
   "id": "62f0c320",
   "metadata": {
    "ExecuteTime": {
     "end_time": "2023-12-26T07:15:36.199956Z",
     "start_time": "2023-12-26T07:15:35.989427Z"
    }
   },
   "outputs": [],
   "source": [
    "loader = ShiftLoader(genes)\n",
    "for g1 in genes:\n",
    "    overlap_genes = []\n",
    "    for g2 in loader.fetch(obj=g1):\n",
    "        if g2 is g1:\n",
    "            continue\n",
    "        overlap_genes.append(g2)\n",
    "    g1.overlap_genes = overlap_genes"
   ]
  },
  {
   "cell_type": "code",
   "execution_count": 10,
   "id": "59510771",
   "metadata": {
    "ExecuteTime": {
     "end_time": "2023-12-26T07:15:46.882366Z",
     "start_time": "2023-12-26T07:15:46.836979Z"
    }
   },
   "outputs": [
    {
     "name": "stdout",
     "output_type": "stream",
     "text": [
      "0\t13919\n",
      "1\t4434\n",
      "2\t814\n",
      "3\t133\n",
      "4\t13\n",
      "5\t5\n",
      "6\t3\n",
      "8\t9\n",
      "9\t2\n",
      "10\t3\n",
      "11\t1\n",
      "13\t1\n",
      "14\t15\n",
      "16\t1\n",
      "21\t22\n"
     ]
    }
   ],
   "source": [
    "counter = Counter([len(g.overlap_genes) for g in genes])\n",
    "for k, v in sorted(counter.items()):\n",
    "    print(k, v, sep=\"\\t\")"
   ]
  },
  {
   "cell_type": "code",
   "execution_count": 11,
   "id": "d5eeca82",
   "metadata": {
    "ExecuteTime": {
     "end_time": "2023-12-26T07:15:48.569582Z",
     "start_time": "2023-12-26T07:15:48.103733Z"
    }
   },
   "outputs": [
    {
     "name": "stdout",
     "output_type": "stream",
     "text": [
      "[13919  4434   814   133    13     5     3     0     9]\n"
     ]
    },
    {
     "data": {
      "image/png": "[encoded data removed]",
      "text/plain": [
       "<Figure size 288x216 with 1 Axes>"
      ]
     },
     "metadata": {
      "needs_background": "light"
     },
     "output_type": "display_data"
    }
   ],
   "source": [
    "xs = np.arange(9)\n",
    "ys = np.array([counter[x] for x in xs])\n",
    "print(ys)\n",
    "\n",
    "ys[-1] = sum(counter.values()) - sum(ys[:-1])\n",
    "ys = ys / 1000\n",
    "ticks = [str(x) for x in xs]\n",
    "ticks[-1] = \"≥%s\" % ticks[-1]\n",
    "\n",
    "plt.figure(figsize=(4, 3))\n",
    "plt.bar(xs, ys, edgecolor=\"black\", width=0.75)\n",
    "plt.xlim(min(xs) - 0.5, max(xs) + 0.5)\n",
    "plt.ylim(0, 15)\n",
    "plt.xlabel(\"No. of overlapping gene\")\n",
    "plt.ylabel(\"No. of gene (k)\")\n",
    "plt.xticks(xs, ticks)\n",
    "plt.yticks([0, 3, 6, 9, 12, 15])\n",
    "plt.tight_layout()\n",
    "plt.savefig(\"figures/summary_of_overlap_genes.pdf\", dpi=300)"
   ]
  },
  {
   "cell_type": "code",
   "execution_count": 12,
   "id": "5a3e07cb",
   "metadata": {
    "ExecuteTime": {
     "end_time": "2023-12-26T07:16:20.546584Z",
     "start_time": "2023-12-26T07:16:20.243276Z"
    }
   },
   "outputs": [
    {
     "name": "stdout",
     "output_type": "stream",
     "text": [
      "806\t3628\n"
     ]
    },
    {
     "data": {
      "image/png": "[encoded data removed]",
      "text/plain": [
       "<Figure size 288x216 with 1 Axes>"
      ]
     },
     "metadata": {},
     "output_type": "display_data"
    }
   ],
   "source": [
    "n1 = 0\n",
    "n2 = 0\n",
    "for g in genes:\n",
    "    if len(g.overlap_genes) == 1:\n",
    "        g1 = g.overlap_genes[0]\n",
    "        if g.strand == g1.strand:\n",
    "            n1 += 1\n",
    "        else:\n",
    "            n2 += 1\n",
    "print(n1, n2, sep=\"\\t\")\n",
    "\n",
    "plt.figure(figsize=(4, 3))\n",
    "plt.pie([n1, n2], labels=[\"Same strand (++ or --)\", \"Diff strand (+-)\"], autopct='%1.1f%%')\n",
    "plt.tight_layout()\n",
    "plt.savefig(\"figures/gene_pair_strands.pdf\", dpi=300)"
   ]
  },
  {
   "cell_type": "code",
   "execution_count": 74,
   "id": "406c9fa9",
   "metadata": {
    "ExecuteTime": {
     "end_time": "2023-12-26T07:49:22.430344Z",
     "start_time": "2023-12-26T07:49:22.193516Z"
    }
   },
   "outputs": [],
   "source": [
    "path = \"../../1_NanoNASCseq/results/expression/report/gene_based/K562.all_cells.min_read_2_min_tc_2.annotated.tsv\"\n",
    "gene_expr = pd.read_csv(path, sep=\"\\t\", index_col=0)\n",
    "gene_tpms = {gid: tpm for gid, tpm in zip(gene_expr.index, gene_expr[\"TPM\"])}"
   ]
  },
  {
   "cell_type": "code",
   "execution_count": 75,
   "id": "880fd36d",
   "metadata": {
    "ExecuteTime": {
     "end_time": "2023-12-26T07:49:22.587920Z",
     "start_time": "2023-12-26T07:49:22.433235Z"
    }
   },
   "outputs": [],
   "source": [
    "path = \"../../1_NanoNASCseq/results/expression/report/isoform_based/K562.treatment_cells.min_read_2_min_tc_2.annotated.tsv\"\n",
    "isoform_expr = pd.read_csv(path, sep=\"\\t\", index_col=0)\n",
    "isoform_tpms = {tid: tpm for tid, tpm in zip(isoform_expr.index, isoform_expr[\"TPM\"])}\n",
    "isoform_ntrs = {tid: v for tid, v in zip(isoform_expr.index, isoform_expr[\"NTR\"])}"
   ]
  },
  {
   "cell_type": "code",
   "execution_count": 125,
   "id": "67e3472f",
   "metadata": {
    "ExecuteTime": {
     "end_time": "2023-12-26T08:19:48.188274Z",
     "start_time": "2023-12-26T08:19:47.739936Z"
    },
    "code_folding": []
   },
   "outputs": [
    {
     "name": "stdout",
     "output_type": "stream",
     "text": [
      "6012\t166\t1327\t42\n"
     ]
    },
    {
     "data": {
      "image/png": "[encoded data removed]",
      "text/plain": [
       "<Figure size 396x216 with 1 Axes>"
      ]
     },
     "metadata": {},
     "output_type": "display_data"
    }
   ],
   "source": [
    "min_tpm = 10\n",
    "genes1 = [] # without overlap\n",
    "genes2 = [] # sense\n",
    "genes3 = [] # antisense\n",
    "genes4 = [] # sense + antisense\n",
    "for g in genes:\n",
    "    if gene_tpms.get(g.name, 0) < min_tpm:\n",
    "        continue\n",
    "    n1, n2 = 0, 0\n",
    "    for g1 in g.overlap_genes:\n",
    "        if gene_tpms.get(g1.name, 0) < min_tpm:\n",
    "            continue\n",
    "        if g1.strand == g.strand:\n",
    "            n1 += 1\n",
    "        else:\n",
    "            n2 += 1\n",
    "    if n1 == 0:\n",
    "        if n2 == 0:\n",
    "            genes1.append(g)\n",
    "        else:\n",
    "            genes3.append(g)\n",
    "    else:\n",
    "        if n2 == 0:\n",
    "            genes2.append(g)\n",
    "        else:\n",
    "            genes4.append(g)\n",
    "print(len(genes1), len(genes2), len(genes3), len(genes4), sep=\"\\t\")\n",
    "vs = [len(genes1), len(genes2), len(genes3), len(genes4)]\n",
    "labels = [\n",
    "    \"Without overlap gene\\n(%s, %.2f%%)\" % (format(vs[0], \",\"), vs[0]*100/sum(vs)),\n",
    "    \"Overlap with sense gene\\n(%s, %.2f%%)\" % (format(vs[1], \",\"), vs[1]*100/sum(vs)),\n",
    "    \"Overlap with antisense gene\\n(%s, %.2f%%)\" % (format(vs[2], \",\"), vs[2]*100/sum(vs)),\n",
    "    \"Overlap with both sense genes\\n(%s, %.2f%%)\" % (format(vs[3], \",\"), vs[3]*100/sum(vs))]\n",
    "plt.figure(figsize=(5.5, 3))\n",
    "plt.pie(vs, colors=[\"C0\", \"C1\", \"C2\", \"C3\"], radius=1, startangle=45,\n",
    "        # autopct='%1.1f%%', pctdistance=0.8,\n",
    "        wedgeprops=dict(width=0.5, edgecolor='w'), labels=labels)\n",
    "plt.tight_layout()\n",
    "plt.savefig(\"figures/summary_of_overlap_genes.pie.pdf\", dpi=300)"
   ]
  },
  {
   "cell_type": "code",
   "execution_count": 129,
   "id": "899b3888",
   "metadata": {
    "ExecuteTime": {
     "end_time": "2023-12-26T10:05:54.223430Z",
     "start_time": "2023-12-26T10:05:54.150546Z"
    },
    "scrolled": false
   },
   "outputs": [
    {
     "name": "stdout",
     "output_type": "stream",
     "text": [
      "--------------------------------------------------------------------------------\n",
      "chr1\t37802944\t37808208\tENST00000373044.3\t.\t-\t37803927\t37808180\t255,0,0\t5\t1053,143,120,115,417,\t0,1357,3912,4156,4847,\n",
      "chr1\t37807746\t37809449\tENST00000468084.1\t.\t+\t37808684\t37809070\t0,0,255\t3\t560,202,472,\t0,784,1231,\n",
      "TPM1: 89.133535079481\n",
      "TPM2: 71.74162579567985\n",
      "NTR1: 0.8048780487804879\n",
      "NTR2: 0.21212121212121213\n",
      "NTR1 - NTR2: 0.5927568366592757\n",
      "--------------------------------------------------------------------------------\n",
      "chr11\t62789970\t62792006\tENST00000307366.8\t.\t-\t62790625\t62791994\t255,0,0\t2\t945,328,\t0,1708,\n",
      "chr11\t62787401\t62790400\tENST00000333449.9\t.\t+\t62787431\t62790044\t0,0,255\t5\t126,188,135,79,515,\t0,1621,1890,2199,2484,\n",
      "TPM1: 60.87168249330411\n",
      "TPM2: 156.52718355421058\n",
      "NTR1: 0.6071428571428571\n",
      "NTR2: 0.06944444444444445\n",
      "NTR1 - NTR2: 0.5376984126984127\n",
      "--------------------------------------------------------------------------------\n",
      "chr12\t120446443\t120463749\tENST00000551765.6\t.\t+\t120446480\t120459956\t0,0,255\t4\t118,173,104,3843,\t0,213,10632,13463,\n",
      "chr12\t120461671\t120469748\tENST00000229390.8\t.\t-\t120462021\t120469609\t255,0,0\t4\t491,173,161,327,\t0,2278,3955,7750,\n",
      "TPM1: 54.34971651187868\n",
      "TPM2: 471.75553932310686\n",
      "NTR1: 0.36\n",
      "NTR2: 0.027649769585253458\n",
      "NTR1 - NTR2: 0.33235023041474654\n",
      "--------------------------------------------------------------------------------\n",
      "chr2\t37201611\t37231596\tENST00000234170.10\t.\t-\t37201766\t37231567\t255,0,0\t16\t292,82,59,84,197,58,98,67,69,103,54,89,184,232,1493,185,\t0,1172,1338,9387,10231,10723,12252,13274,14528,14704,15372,18773,20768,21558,25932,29800,\n",
      "chr2\t37196495\t37204743\tENST00000402297.6\t.\t+\t37199704\t37201721\t0,0,255\t5\t25,116,45,85,2881,\t0,3208,4552,5146,5367,\n",
      "TPM1: 82.61156909805558\n",
      "TPM2: 73.915614456155\n",
      "NTR1: 0.4473684210526316\n",
      "NTR2: 0.0\n",
      "NTR1 - NTR2: 0.4473684210526316\n"
     ]
    }
   ],
   "source": [
    "min_tpm = 50\n",
    "for g1 in genes3:\n",
    "    # print(\"=\" * 80)\n",
    "    # print(g1.name)\n",
    "    for g2 in g1.overlap_genes:\n",
    "        for t1 in g1.transcripts:\n",
    "            tpm1 = isoform_tpms.get(t1.name, 0)\n",
    "            if tpm1 < min_tpm:\n",
    "                continue\n",
    "            ntr1 = isoform_ntrs[t1.name]\n",
    "            for t2 in g2.transcripts:\n",
    "                if min(t1.end, t2.end) < max(t1.start, t2.start):\n",
    "                    continue\n",
    "                tpm2 = isoform_tpms.get(t2.name, 0)\n",
    "                if tpm2 < min_tpm:\n",
    "                    continue\n",
    "                ntr2 = isoform_ntrs[t2.name]\n",
    "                if ntr1 - ntr2 < 0.3:\n",
    "                    continue\n",
    "                print(\"-\" * 80)\n",
    "                print(t1.format())\n",
    "                print(t2.format())\n",
    "                print(\"TPM1:\", tpm1)\n",
    "                print(\"TPM2:\", tpm2)\n",
    "                print(\"NTR1:\", ntr1)\n",
    "                print(\"NTR2:\", ntr2)\n",
    "                print(\"NTR1 - NTR2:\", ntr1 - ntr2)\n",
    "                # print(isoform_expr.loc[[t1.name, t2.name]])"
   ]
  },
  {
   "cell_type": "code",
   "execution_count": 131,
   "id": "533f59fc",
   "metadata": {
    "ExecuteTime": {
     "end_time": "2023-12-26T11:05:37.224503Z",
     "start_time": "2023-12-26T11:05:37.205301Z"
    }
   },
   "outputs": [],
   "source": [
    "tmp = isoform_expr.loc[[\"ENST00000373044.3\", \"ENST00000468084.1\", \"ENST00000234170.10\", \"ENST00000402297.6\"]]\n",
    "tmp.to_csv(\"results/case_isoforms.tsv\", sep=\"\\t\")"
   ]
  }
 ],
 "metadata": {
  "kernelspec": {
   "display_name": "Python 3",
   "language": "python",
   "name": "python3"
  },
  "language_info": {
   "codemirror_mode": {
    "name": "ipython",
    "version": 3
   },
   "file_extension": ".py",
   "mimetype": "text/x-python",
   "name": "python",
   "nbconvert_exporter": "python",
   "pygments_lexer": "ipython3",
   "version": "3.6.15"
  }
 },
 "nbformat": 4,
 "nbformat_minor": 5
}
