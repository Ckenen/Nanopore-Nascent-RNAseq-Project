{
 "cells": [
  {
   "cell_type": "markdown",
   "id": "ebf42074",
   "metadata": {},
   "source": [
    "# m6A targets (mESC)\n",
    "\n",
    "Download from: m6A RNA Modification Controls Cell Fate Transition in Mammalian Embryonic Stem Cells, Cell Stem Cell"
   ]
  },
  {
   "cell_type": "code",
   "execution_count": 1,
   "id": "3e627f80",
   "metadata": {
    "ExecuteTime": {
     "end_time": "2024-03-12T10:53:45.052885Z",
     "start_time": "2024-03-12T10:53:43.931446Z"
    },
    "execution": {
     "iopub.execute_input": "2024-07-15T05:40:19.575168Z",
     "iopub.status.busy": "2024-07-15T05:40:19.574519Z",
     "iopub.status.idle": "2024-07-15T05:40:20.906348Z",
     "shell.execute_reply": "2024-07-15T05:40:20.905053Z",
     "shell.execute_reply.started": "2024-07-15T05:40:19.575105Z"
    }
   },
   "outputs": [],
   "source": [
    "from collections import defaultdict\n",
    "import numpy as np\n",
    "import pandas as pd\n",
    "import matplotlib.pyplot as plt\n",
    "from scipy.stats import ks_2samp"
   ]
  },
  {
   "cell_type": "code",
   "execution_count": 9,
   "id": "a33a9804-ddb6-4815-93e6-b0d481aca2a2",
   "metadata": {
    "execution": {
     "iopub.execute_input": "2024-07-15T05:40:45.644740Z",
     "iopub.status.busy": "2024-07-15T05:40:45.643995Z",
     "iopub.status.idle": "2024-07-15T05:40:45.914619Z",
     "shell.execute_reply": "2024-07-15T05:40:45.912601Z",
     "shell.execute_reply.started": "2024-07-15T05:40:45.644675Z"
    }
   },
   "outputs": [
    {
     "name": "stdout",
     "output_type": "stream",
     "text": [
      "NanoNASC-seq genes: 6143\n"
     ]
    }
   ],
   "source": [
    "dat1 = pd.read_csv(\"../../1_FLAIRseq/reports/halflife_of_mESC_400uM_3h.2TC.tsv\", sep=\"\\t\", index_col=0)\n",
    "dat1 = dat1[dat1[\"GeneType\"] == \"protein_coding\"]\n",
    "dat1 = dat1[dat1[\"Total\"] >= 10]\n",
    "dat1 = dat1[(dat1[\"T\"] > 0.5) & (dat1[\"T\"] < 32)]\n",
    "print(\"NanoNASC-seq genes: %d\" % len(dat1))"
   ]
  },
  {
   "cell_type": "code",
   "execution_count": 10,
   "id": "c345d442",
   "metadata": {
    "ExecuteTime": {
     "end_time": "2024-03-12T11:01:30.412213Z",
     "start_time": "2024-03-12T11:01:28.451469Z"
    },
    "execution": {
     "iopub.execute_input": "2024-07-15T05:40:45.916822Z",
     "iopub.status.busy": "2024-07-15T05:40:45.916524Z",
     "iopub.status.idle": "2024-07-15T05:40:47.247893Z",
     "shell.execute_reply": "2024-07-15T05:40:47.245915Z",
     "shell.execute_reply.started": "2024-07-15T05:40:45.916790Z"
    }
   },
   "outputs": [
    {
     "name": "stdout",
     "output_type": "stream",
     "text": [
      "m6A targets: 2789\n",
      "No m6A targets: 3354\n"
     ]
    },
    {
     "name": "stderr",
     "output_type": "stream",
     "text": [
      "/home/chenzonggui/miniconda3/envs/py3/lib/python3.10/site-packages/openpyxl/worksheet/_read_only.py:81: UserWarning: Unknown extension is not supported and will be removed\n",
      "  for idx, row in parser.parse():\n"
     ]
    }
   ],
   "source": [
    "dat2 = pd.read_excel(\"data/m6A_targets_in_mESC_mm9.xlsx\")\n",
    "targets = set(dat2[\"Gene Symbol\"])\n",
    "len(targets)\n",
    "\n",
    "d1 = dat1[[gname in targets for gname in dat1[\"GeneName\"]]]\n",
    "d2 = dat1[[gname not in targets for gname in dat1[\"GeneName\"]]]\n",
    "print(\"m6A targets:\", len(d1))\n",
    "print(\"No m6A targets:\", len(d2))"
   ]
  },
  {
   "cell_type": "code",
   "execution_count": 11,
   "id": "ecc8ddf2",
   "metadata": {
    "ExecuteTime": {
     "end_time": "2024-03-12T11:01:43.063475Z",
     "start_time": "2024-03-12T11:01:42.283360Z"
    },
    "execution": {
     "iopub.execute_input": "2024-07-15T05:40:55.338802Z",
     "iopub.status.busy": "2024-07-15T05:40:55.338081Z",
     "iopub.status.idle": "2024-07-15T05:40:56.499984Z",
     "shell.execute_reply": "2024-07-15T05:40:56.498361Z",
     "shell.execute_reply.started": "2024-07-15T05:40:55.338741Z"
    }
   },
   "outputs": [
    {
     "name": "stdout",
     "output_type": "stream",
     "text": [
      "2789 1.4490028322621673\n",
      "3354 3.0\n",
      "7.863385765991862e-143\n"
     ]
    },
    {
     "data": {
      "image/png": "[encoded data removed]",
      "text/plain": [
       "<Figure size 300x300 with 1 Axes>"
      ]
     },
     "metadata": {},
     "output_type": "display_data"
    }
   ],
   "source": [
    "def get_xy(vs):\n",
    "    vs = list(sorted(vs))\n",
    "    xs = vs\n",
    "    ys = np.arange(len(xs)) / len(xs)\n",
    "    return xs, ys\n",
    "print(len(d1[\"T\"]), np.median(d1[\"T\"]))\n",
    "print(len(d2[\"T\"]), np.median(d2[\"T\"]))\n",
    "\n",
    "xs1, ys1 = get_xy(np.log2(d1[\"T\"]))\n",
    "xs2, ys2 = get_xy(np.log2(d2[\"T\"]))\n",
    "p = ks_2samp(xs1, xs2)[1]\n",
    "print(p)\n",
    "\n",
    "vmin, vmax = -1, 5\n",
    "plt.figure(figsize=(3, 3))\n",
    "plt.plot(xs1, ys1, color=\"red\", lw=2, label=\"m$^6$A targets\")\n",
    "plt.plot(xs2, ys2, color=\"black\", lw=2, label=\"Non-m$^6$A targets\")\n",
    "plt.text(vmin + (vmax - vmin) * 0.05, 0.9, \"$P$ = %.2e\" % p, color=\"red\")\n",
    "plt.xlabel(\"Half-life (h)\")\n",
    "plt.ylabel(\"Cumulative fraction\")\n",
    "xs = np.arange(vmin, vmax + 1)\n",
    "plt.xticks(xs, [str(2**int(x)) for x in xs])\n",
    "plt.xlim(vmin, vmax)\n",
    "plt.gca().spines[\"top\"].set_visible(False)\n",
    "plt.gca().spines[\"right\"].set_visible(False)\n",
    "plt.legend(frameon=False, handlelength=1)\n",
    "plt.tight_layout()\n",
    "plt.savefig(\"figures/benchmark_halflife_mESC_m6a_target.pdf\")"
   ]
  },
  {
   "cell_type": "code",
   "execution_count": 5,
   "id": "e0d14736-cef1-4099-868e-bbc6f7c749d6",
   "metadata": {
    "execution": {
     "iopub.execute_input": "2024-07-15T05:40:24.821526Z",
     "iopub.status.busy": "2024-07-15T05:40:24.821222Z",
     "iopub.status.idle": "2024-07-15T05:40:26.343952Z",
     "shell.execute_reply": "2024-07-15T05:40:26.342276Z",
     "shell.execute_reply.started": "2024-07-15T05:40:24.821495Z"
    },
    "scrolled": true
   },
   "outputs": [
    {
     "name": "stdout",
     "output_type": "stream",
     "text": [
      "5578 46 591 761\n",
      "Name: 5UTR, Genes: 30, Median half-life: 1.457705\n",
      "Name: CDS, Genes: 249, Median half-life: 1.261293\n",
      "Name: 3UTR, Genes: 439, Median half-life: 1.988054\n",
      "Name: NoTarget, Genes: 3354, Median half-life: 3.000000\n"
     ]
    },
    {
     "name": "stderr",
     "output_type": "stream",
     "text": [
      "/home/chenzonggui/miniconda3/envs/py3/lib/python3.10/site-packages/openpyxl/worksheet/_read_only.py:81: UserWarning: Unknown extension is not supported and will be removed\n",
      "  for idx, row in parser.parse():\n"
     ]
    }
   ],
   "source": [
    "dat2 = pd.read_excel(\"data/m6A_targets_in_mESC_mm9.xlsx\")\n",
    "targets = set(dat2[\"Gene Symbol\"])\n",
    "m6a_positions = defaultdict(list)\n",
    "for gene, pos in dat2[[\"Gene Symbol\", \"Position\"]].values:\n",
    "    m6a_positions[gene].append(pos)\n",
    "targets1 = set()\n",
    "for k, v in m6a_positions.items():\n",
    "    if len(v) == 1 and v[0] == \"5UTR\":\n",
    "        targets1.add(k)\n",
    "targets2 = set()\n",
    "for k, v in m6a_positions.items():\n",
    "    if len(v) == 1 and v[0] == \"CDS\":\n",
    "        targets2.add(k)\n",
    "targets3 = set()\n",
    "for k, v in m6a_positions.items():\n",
    "    if len(v) == 1 and v[0] == \"3UTR\":\n",
    "        targets3.add(k)\n",
    "print(len(targets), len(targets1), len(targets2), len(targets3))\n",
    "\n",
    "d1 = dat1[dat1[\"GeneName\"].isin(targets1)]\n",
    "d2 = dat1[dat1[\"GeneName\"].isin(targets2)]\n",
    "d3 = dat1[dat1[\"GeneName\"].isin(targets3)]\n",
    "d4 = dat1[~dat1[\"GeneName\"].isin(targets)]\n",
    "\n",
    "params = [\n",
    "    [\"5UTR\", d1],\n",
    "    [\"CDS\", d2],\n",
    "    [\"3UTR\", d3],\n",
    "    [\"NoTarget\", d4]\n",
    "]\n",
    "\n",
    "for name, d in params:\n",
    "    print(\"Name: %s, Genes: %s, Median half-life: %f\" %(name, len(d), np.median(d[\"T\"])))"
   ]
  },
  {
   "cell_type": "code",
   "execution_count": 6,
   "id": "d623f1ee-8cc7-4c22-9492-7f26855a8583",
   "metadata": {
    "execution": {
     "iopub.execute_input": "2024-07-15T05:40:28.558253Z",
     "iopub.status.busy": "2024-07-15T05:40:28.557431Z",
     "iopub.status.idle": "2024-07-15T05:40:28.614612Z",
     "shell.execute_reply": "2024-07-15T05:40:28.612851Z",
     "shell.execute_reply.started": "2024-07-15T05:40:28.558182Z"
    }
   },
   "outputs": [
    {
     "name": "stdout",
     "output_type": "stream",
     "text": [
      "5UTR vs. CDS: 6.33e-01\n",
      "5UTR vs. 3UTR: 2.29e-01\n",
      "5UTR vs. NoTarget: 6.68e-04\n",
      "CDS vs. 3UTR: 2.40e-07\n",
      "CDS vs. NoTarget: 4.45e-27\n",
      "3UTR vs. NoTarget: 7.74e-20\n"
     ]
    }
   ],
   "source": [
    "for i in range(len(params) - 1):\n",
    "    for j in range(i + 1, len(params)):\n",
    "        print(\"%s vs. %s: %.2e\" % (params[i][0], params[j][0], ks_2samp(np.log2(params[i][1][\"T\"]), np.log2(params[j][1][\"T\"]))[1]))"
   ]
  },
  {
   "cell_type": "code",
   "execution_count": 7,
   "id": "a94c2855-8f58-41e2-8c2b-81712b47d167",
   "metadata": {
    "execution": {
     "iopub.execute_input": "2024-07-15T05:40:34.384038Z",
     "iopub.status.busy": "2024-07-15T05:40:34.383219Z",
     "iopub.status.idle": "2024-07-15T05:40:35.302857Z",
     "shell.execute_reply": "2024-07-15T05:40:35.301050Z",
     "shell.execute_reply.started": "2024-07-15T05:40:34.383968Z"
    }
   },
   "outputs": [
    {
     "name": "stdout",
     "output_type": "stream",
     "text": [
      "0.0006675100854625995 4.446353196025334e-27 7.736286271782826e-20\n"
     ]
    },
    {
     "data": {
      "image/png": "[encoded data removed]",
      "text/plain": [
       "<Figure size 300x300 with 1 Axes>"
      ]
     },
     "metadata": {},
     "output_type": "display_data"
    }
   ],
   "source": [
    "xs1, ys1 = get_xy(np.log2(d1[\"T\"]))\n",
    "xs2, ys2 = get_xy(np.log2(d2[\"T\"]))\n",
    "xs3, ys3 = get_xy(np.log2(d3[\"T\"]))\n",
    "xs4, ys4 = get_xy(np.log2(d4[\"T\"]))\n",
    "\n",
    "p1 = ks_2samp(xs1, xs4)[1]\n",
    "p2 = ks_2samp(xs2, xs4)[1]\n",
    "p3 = ks_2samp(xs3, xs4)[1]\n",
    "print(p1, p2, p3)\n",
    "\n",
    "vmin, vmax = -1, 5\n",
    "plt.figure(figsize=(3, 3))\n",
    "#plt.plot(xs1, ys1, color=\"grey\", lw=2, label=\"5'UTR\")\n",
    "plt.plot(xs2, ys2, color=\"salmon\", lw=2, label=\"CDS\")\n",
    "plt.plot(xs3, ys3, color=\"red\", lw=2, label=\"3'UTR\")\n",
    "plt.plot(xs4, ys4, color=\"black\", lw=2, label=\"Non-targets\")\n",
    "#plt.text(vmin + (vmax - vmin) * 0.6, 0.65, \"p = %.2e\" % p1, color=\"grey\")\n",
    "plt.text(vmin + (vmax - vmin) * 0.6, 0.55, \"$P$ = %.2e\" % p2, color=\"salmon\")\n",
    "plt.text(vmin + (vmax - vmin) * 0.6, 0.45, \"$P$ = %.2e\" % p3, color=\"red\")\n",
    "\n",
    "plt.xlabel(\"Half-life (h)\")\n",
    "plt.ylabel(\"Cumulative fraction\")\n",
    "xs = np.arange(vmin, vmax + 1)\n",
    "plt.xticks(xs, [str(2**int(x)) for x in xs])\n",
    "plt.xlim(vmin, vmax)\n",
    "plt.gca().spines[\"top\"].set_visible(False)\n",
    "plt.gca().spines[\"right\"].set_visible(False)\n",
    "plt.legend(frameon=False, handlelength=1)\n",
    "plt.tight_layout()\n",
    "plt.savefig(\"figures/benchmark_halflife_mESC_m6a_target_detail.pdf\")"
   ]
  },
  {
   "cell_type": "code",
   "execution_count": null,
   "id": "4103a44b-4739-415b-9a0e-f4a3e9e69d85",
   "metadata": {},
   "outputs": [],
   "source": []
  }
 ],
 "metadata": {
  "kernelspec": {
   "display_name": "Python 3 (ipykernel)",
   "language": "python",
   "name": "python3"
  },
  "language_info": {
   "codemirror_mode": {
    "name": "ipython",
    "version": 3
   },
   "file_extension": ".py",
   "mimetype": "text/x-python",
   "name": "python",
   "nbconvert_exporter": "python",
   "pygments_lexer": "ipython3",
   "version": "3.10.13"
  }
 },
 "nbformat": 4,
 "nbformat_minor": 5
}
