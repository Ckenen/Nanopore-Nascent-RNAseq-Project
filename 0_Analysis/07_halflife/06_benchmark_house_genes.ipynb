{
 "cells": [
  {
   "cell_type": "markdown",
   "id": "1a32bf06",
   "metadata": {},
   "source": [
    "# House keeping genes\n",
    "\n",
    "Download from https://www.nature.com/articles/s41598-020-78863-5"
   ]
  },
  {
   "cell_type": "code",
   "execution_count": 1,
   "id": "3e627f80",
   "metadata": {
    "ExecuteTime": {
     "end_time": "2024-03-12T10:53:45.052885Z",
     "start_time": "2024-03-12T10:53:43.931446Z"
    },
    "execution": {
     "iopub.execute_input": "2024-07-13T04:13:51.822654Z",
     "iopub.status.busy": "2024-07-13T04:13:51.821118Z",
     "iopub.status.idle": "2024-07-13T04:13:53.098820Z",
     "shell.execute_reply": "2024-07-13T04:13:53.096793Z",
     "shell.execute_reply.started": "2024-07-13T04:13:51.822577Z"
    }
   },
   "outputs": [],
   "source": [
    "import numpy as np\n",
    "import pandas as pd\n",
    "import matplotlib.pyplot as plt\n",
    "from scipy.stats import ks_2samp"
   ]
  },
  {
   "cell_type": "code",
   "execution_count": 2,
   "id": "4dfc4aac-7903-4afc-95be-f1a53aba6df5",
   "metadata": {
    "execution": {
     "iopub.execute_input": "2024-07-13T04:13:53.102383Z",
     "iopub.status.busy": "2024-07-13T04:13:53.101119Z",
     "iopub.status.idle": "2024-07-13T04:13:53.394341Z",
     "shell.execute_reply": "2024-07-13T04:13:53.392681Z",
     "shell.execute_reply.started": "2024-07-13T04:13:53.102352Z"
    }
   },
   "outputs": [
    {
     "name": "stdout",
     "output_type": "stream",
     "text": [
      "NanoNASC-seq genes: 6143\n"
     ]
    }
   ],
   "source": [
    "dat1 = pd.read_csv(\"../../1_FLAIRseq/reports/halflife_of_mESC_400uM_3h.2TC.tsv\", sep=\"\\t\", index_col=0)\n",
    "dat1 = dat1[dat1[\"GeneType\"] == \"protein_coding\"]\n",
    "dat1 = dat1[dat1[\"Total\"] >= 10]\n",
    "dat1 = dat1[(dat1[\"T\"] > 0.5) & (dat1[\"T\"] < 32)]\n",
    "print(\"NanoNASC-seq genes: %d\" % len(dat1))"
   ]
  },
  {
   "cell_type": "code",
   "execution_count": 4,
   "id": "03a599af",
   "metadata": {
    "ExecuteTime": {
     "end_time": "2023-12-26T09:03:00.235898Z",
     "start_time": "2023-12-26T09:02:59.647554Z"
    },
    "execution": {
     "iopub.execute_input": "2024-07-13T04:14:05.299324Z",
     "iopub.status.busy": "2024-07-13T04:14:05.298490Z",
     "iopub.status.idle": "2024-07-13T04:14:06.417681Z",
     "shell.execute_reply": "2024-07-13T04:14:06.416658Z",
     "shell.execute_reply.started": "2024-07-13T04:14:05.299254Z"
    }
   },
   "outputs": [
    {
     "name": "stdout",
     "output_type": "stream",
     "text": [
      "70\n",
      "House keeping: 53\n",
      "Other: 6090\n",
      "5.3027553036510884e-06\n"
     ]
    },
    {
     "data": {
      "image/png": "[encoded data removed]",
      "text/plain": [
       "<Figure size 300x300 with 1 Axes>"
      ]
     },
     "metadata": {},
     "output_type": "display_data"
    }
   ],
   "source": [
    "dat2 = pd.read_excel(\"data/mouse_house_keeping_genes_70.xlsx\")\n",
    "targets = set(dat2[\"Symbol\"])\n",
    "print(len(targets))\n",
    "\n",
    "d1 = dat1[[gname in targets for gname in dat1[\"GeneName\"]]]\n",
    "d2 = dat1[[gname not in targets for gname in dat1[\"GeneName\"]]]\n",
    "print(\"House keeping:\", len(d1))\n",
    "print(\"Other:\", len(d2))\n",
    "\n",
    "def get_xy(vs):\n",
    "    vs = list(sorted(vs))\n",
    "    xs = vs\n",
    "    ys = np.arange(len(xs)) / len(xs)\n",
    "    return xs, ys\n",
    "\n",
    "xs1, ys1 = get_xy(np.log2(d1[\"T\"]))\n",
    "xs2, ys2 = get_xy(np.log2(d2[\"T\"]))\n",
    "p = ks_2samp(xs1, xs2)[1]\n",
    "print(p)\n",
    "\n",
    "vmin, vmax = -1, 5\n",
    "plt.figure(figsize=(3, 3))\n",
    "plt.plot(xs1, ys1, color=\"red\", lw=2, label=\"House keeping\")\n",
    "plt.plot(xs2, ys2, color=\"black\", lw=2, label=\"Other\")\n",
    "plt.text(vmin + (vmax - vmin) * 0.05, 0.9, r\"$P$ = %.2e\" % p)\n",
    "plt.xlabel(\"Half-life (h)\")\n",
    "plt.ylabel(\"Cumulative fraction\")\n",
    "xs = np.arange(vmin, vmax + 1)\n",
    "plt.xticks(xs, [str(2**int(x)) for x in xs])\n",
    "plt.xlim(vmin, vmax)\n",
    "plt.gca().spines[\"top\"].set_visible(False)\n",
    "plt.gca().spines[\"right\"].set_visible(False)\n",
    "plt.legend(frameon=False, handlelength=1)\n",
    "plt.tight_layout()\n",
    "plt.savefig(\"figures/benchmark_halflife_mESC_house_keeping_genes.pdf\")"
   ]
  },
  {
   "cell_type": "code",
   "execution_count": null,
   "id": "c075021d-a9fc-4eca-94fd-40f8db18f5f0",
   "metadata": {},
   "outputs": [],
   "source": []
  }
 ],
 "metadata": {
  "kernelspec": {
   "display_name": "Python 3 (ipykernel)",
   "language": "python",
   "name": "python3"
  },
  "language_info": {
   "codemirror_mode": {
    "name": "ipython",
    "version": 3
   },
   "file_extension": ".py",
   "mimetype": "text/x-python",
   "name": "python",
   "nbconvert_exporter": "python",
   "pygments_lexer": "ipython3",
   "version": "3.10.13"
  }
 },
 "nbformat": 4,
 "nbformat_minor": 5
}
