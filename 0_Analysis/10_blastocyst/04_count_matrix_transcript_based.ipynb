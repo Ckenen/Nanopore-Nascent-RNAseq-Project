{
 "cells": [
  {
   "cell_type": "code",
   "execution_count": 1,
   "id": "cc6ec72f",
   "metadata": {
    "ExecuteTime": {
     "end_time": "2024-03-13T05:40:08.673098Z",
     "start_time": "2024-03-13T05:40:07.931646Z"
    },
    "execution": {
     "iopub.execute_input": "2024-05-22T10:48:39.801775Z",
     "iopub.status.busy": "2024-05-22T10:48:39.801287Z",
     "iopub.status.idle": "2024-05-22T10:48:45.370131Z",
     "shell.execute_reply": "2024-05-22T10:48:45.367796Z",
     "shell.execute_reply.started": "2024-05-22T10:48:39.801723Z"
    }
   },
   "outputs": [],
   "source": [
    "import os\n",
    "import pandas as pd\n",
    "import anndata as ad"
   ]
  },
  {
   "cell_type": "code",
   "execution_count": 2,
   "id": "0b411c35-82c6-4caa-a495-a42787045178",
   "metadata": {
    "editable": true,
    "execution": {
     "iopub.execute_input": "2024-05-22T10:48:45.375630Z",
     "iopub.status.busy": "2024-05-22T10:48:45.374855Z",
     "iopub.status.idle": "2024-05-22T10:48:45.528773Z",
     "shell.execute_reply": "2024-05-22T10:48:45.526741Z",
     "shell.execute_reply.started": "2024-05-22T10:48:45.375585Z"
    },
    "slideshow": {
     "slide_type": ""
    },
    "tags": []
   },
   "outputs": [
    {
     "name": "stdout",
     "output_type": "stream",
     "text": [
      "Cells: 2661\n"
     ]
    }
   ],
   "source": [
    "meta = pd.read_csv(\"../../1_NanoNASCseq/reports/NanoNASCseq_Summary.csv\", index_col=1)\n",
    "meta = meta[meta[\"Group\"] == \"MouseBlastocyst\"]\n",
    "meta = meta[meta[\"UMIs\"] >= 5000]\n",
    "print(\"Cells:\", len(meta))"
   ]
  },
  {
   "cell_type": "code",
   "execution_count": 3,
   "id": "8e023f92-db99-461b-9bb7-cb541c5f298e",
   "metadata": {
    "execution": {
     "iopub.execute_input": "2024-05-22T10:48:45.530600Z",
     "iopub.status.busy": "2024-05-22T10:48:45.530288Z",
     "iopub.status.idle": "2024-05-22T10:48:45.550976Z",
     "shell.execute_reply": "2024-05-22T10:48:45.549432Z",
     "shell.execute_reply.started": "2024-05-22T10:48:45.530566Z"
    }
   },
   "outputs": [],
   "source": [
    "path1 = \"results/blastocyst_counts.transcript_based.filelist.txt\"\n",
    "with open(path1, \"w+\") as fw:\n",
    "    for run, cell in zip(meta[\"Run\"], meta.index):\n",
    "        fw.write(\"../../1_NanoNASCseq/results/expression_novel/quant_isoforms/min_read_2_min_tc_2/%s/%s.tsv\" % (run, cell) + \"\\n\")"
   ]
  },
  {
   "cell_type": "code",
   "execution_count": 4,
   "id": "a2290c2b-5397-4a79-a86b-a6639cadac71",
   "metadata": {
    "editable": true,
    "execution": {
     "iopub.execute_input": "2024-05-22T10:48:45.552585Z",
     "iopub.status.busy": "2024-05-22T10:48:45.552274Z",
     "iopub.status.idle": "2024-05-22T10:48:45.559595Z",
     "shell.execute_reply": "2024-05-22T10:48:45.558118Z",
     "shell.execute_reply.started": "2024-05-22T10:48:45.552555Z"
    },
    "slideshow": {
     "slide_type": ""
    },
    "tags": []
   },
   "outputs": [],
   "source": [
    "path2 = \"results/blastocyst_counts.transcript_based.transcript_id.h5ad\"\n",
    "if not os.path.exists(path2):\n",
    "    ! ../../1_NanoNASCseq/scripts/make_matrix.py {path1} {path2}"
   ]
  },
  {
   "cell_type": "code",
   "execution_count": 5,
   "id": "107aabe5-2cd6-4d88-b58e-acdbb9886ccc",
   "metadata": {
    "editable": true,
    "execution": {
     "iopub.execute_input": "2024-05-22T10:48:45.560700Z",
     "iopub.status.busy": "2024-05-22T10:48:45.560419Z",
     "iopub.status.idle": "2024-05-22T10:49:32.998683Z",
     "shell.execute_reply": "2024-05-22T10:49:32.997563Z",
     "shell.execute_reply.started": "2024-05-22T10:48:45.560671Z"
    },
    "slideshow": {
     "slide_type": ""
    },
    "tags": []
   },
   "outputs": [
    {
     "data": {
      "text/plain": [
       "AnnData object with n_obs × n_vars = 2661 × 73649\n",
       "    obs: 'Run', 'Barcode', 'Species', 's4U', 'Time', 'ActD', 'Group', 'CellLine', 'Stage', 'Platform', 'Label', 'UMI', 'Cells', 'LibStruct', 'Remark', 'Cell.Reads', 'Trimmed.Reads', 'Trimmed.Ratio', 'Mapped.Reads', 'Mapped.Ratio', 'Mito.Ratio', 'Filtered.Reads', 'Filtered.Ratio', 'FilteredClip.Reads', 'FilteredClip.Ratio', 'UMIs', 'UMIs.2Reads', 'Duplicate.Reads', 'Duplicate.Ratio', 'Unique.Reads', 'Genes', 'Isoforms.Assembled', 'Isoforms.Known', 'AC.Ratio', 'AG.Ratio', 'AT.Ratio', 'CA.Ratio', 'CG.Ratio', 'CT.Ratio', 'GA.Ratio', 'GC.Ratio', 'GT.Ratio', 'TA.Ratio', 'TC.Ratio', 'TG.Ratio', 'Pe', 'Pc', 'PcPe.Ratio', 'UMIs.2Reads.Nascent.2TCs', 'UMIs.2Reads.Nascent.2TCs.Ratio', 'Genes.2Reads', 'Genes.2Reads.Nascent.2TCs'\n",
       "    var: 'TranscriptName', 'TranscriptType', 'GeneID', 'GeneName', 'GeneType', 'Chrom', 'Start', 'End', 'Strand'\n",
       "    layers: 'nascent', 'total'"
      ]
     },
     "execution_count": 5,
     "metadata": {},
     "output_type": "execute_result"
    }
   ],
   "source": [
    "path3 = \"results/blastocyst_counts.transcript_based.transcript_id.annotated.h5ad\"\n",
    "anno = pd.read_csv(\"../../1_NanoNASCseq/results/assembly_custom/gtf_full/MouseBlastocyst.gtf.transcript_info.tsv\", sep=\"\\t\", index_col=0)\n",
    "adata = ad.read_h5ad(path2)\n",
    "adata.obs = adata.obs.merge(meta, left_index=True, right_index=True)\n",
    "adata.obs[\"CellLine\"] = \"\"\n",
    "adata.var = adata.var.merge(anno, left_index=True, right_index=True)\n",
    "adata.write(path3, compression=\"gzip\")\n",
    "adata"
   ]
  },
  {
   "cell_type": "code",
   "execution_count": 6,
   "id": "ba1f9998-78a4-4b35-9663-30e7ba85c565",
   "metadata": {
    "execution": {
     "iopub.execute_input": "2024-05-22T10:49:33.000418Z",
     "iopub.status.busy": "2024-05-22T10:49:33.000087Z",
     "iopub.status.idle": "2024-05-22T10:50:04.294564Z",
     "shell.execute_reply": "2024-05-22T10:50:04.293337Z",
     "shell.execute_reply.started": "2024-05-22T10:49:33.000381Z"
    }
   },
   "outputs": [
    {
     "data": {
      "text/plain": [
       "AnnData object with n_obs × n_vars = 2661 × 73649\n",
       "    obs: 'Run', 'Barcode', 'Species', 's4U', 'Time', 'ActD', 'Group', 'CellLine', 'Stage', 'Platform', 'Label', 'UMI', 'Cells', 'LibStruct', 'Remark', 'Cell.Reads', 'Trimmed.Reads', 'Trimmed.Ratio', 'Mapped.Reads', 'Mapped.Ratio', 'Mito.Ratio', 'Filtered.Reads', 'Filtered.Ratio', 'FilteredClip.Reads', 'FilteredClip.Ratio', 'UMIs', 'UMIs.2Reads', 'Duplicate.Reads', 'Duplicate.Ratio', 'Unique.Reads', 'Genes', 'Isoforms.Assembled', 'Isoforms.Known', 'AC.Ratio', 'AG.Ratio', 'AT.Ratio', 'CA.Ratio', 'CG.Ratio', 'CT.Ratio', 'GA.Ratio', 'GC.Ratio', 'GT.Ratio', 'TA.Ratio', 'TC.Ratio', 'TG.Ratio', 'Pe', 'Pc', 'PcPe.Ratio', 'UMIs.2Reads.Nascent.2TCs', 'UMIs.2Reads.Nascent.2TCs.Ratio', 'Genes.2Reads', 'Genes.2Reads.Nascent.2TCs'\n",
       "    var: 'TranscriptID', 'TranscriptType', 'GeneID', 'GeneName', 'GeneType', 'Chrom', 'Start', 'End', 'Strand'\n",
       "    layers: 'nascent', 'total'"
      ]
     },
     "execution_count": 6,
     "metadata": {},
     "output_type": "execute_result"
    }
   ],
   "source": [
    "path4 = \"results/blastocyst_counts.transcript_based.transcript_name.annotated.h5ad\"\n",
    "adata.var.insert(0, \"TranscriptID\", adata.var.index)\n",
    "adata.var.index = adata.var[\"TranscriptName\"]\n",
    "del adata.var[\"TranscriptName\"]\n",
    "adata.write(path4, compression=\"gzip\")\n",
    "adata"
   ]
  }
 ],
 "metadata": {
  "kernelspec": {
   "display_name": "Python 3 (ipykernel)",
   "language": "python",
   "name": "python3"
  },
  "language_info": {
   "codemirror_mode": {
    "name": "ipython",
    "version": 3
   },
   "file_extension": ".py",
   "mimetype": "text/x-python",
   "name": "python",
   "nbconvert_exporter": "python",
   "pygments_lexer": "ipython3",
   "version": "3.10.13"
  }
 },
 "nbformat": 4,
 "nbformat_minor": 5
}
