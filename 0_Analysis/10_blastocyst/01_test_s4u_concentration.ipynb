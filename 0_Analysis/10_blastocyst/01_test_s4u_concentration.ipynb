{
 "cells": [
  {
   "cell_type": "code",
   "execution_count": 1,
   "id": "6c1c2e92",
   "metadata": {
    "ExecuteTime": {
     "start_time": "2024-03-10T06:25:00.701Z"
    },
    "execution": {
     "iopub.execute_input": "2024-05-22T10:17:53.613269Z",
     "iopub.status.busy": "2024-05-22T10:17:53.612387Z",
     "iopub.status.idle": "2024-05-22T10:17:59.465455Z",
     "shell.execute_reply": "2024-05-22T10:17:59.463691Z",
     "shell.execute_reply.started": "2024-05-22T10:17:53.613197Z"
    }
   },
   "outputs": [],
   "source": [
    "from collections import Counter\n",
    "import numpy as np\n",
    "import pandas as pd\n",
    "import matplotlib\n",
    "import matplotlib.pyplot as plt"
   ]
  },
  {
   "cell_type": "markdown",
   "id": "939dfeb1",
   "metadata": {},
   "source": [
    "# Test the best s4U concentration for blastocyst\n",
    "\n",
    "Late-blastocyst (E 4.5)"
   ]
  },
  {
   "cell_type": "code",
   "execution_count": 2,
   "id": "bb4d6d31-0143-4d05-ad3c-608841954a60",
   "metadata": {
    "execution": {
     "iopub.execute_input": "2024-05-22T10:17:59.467907Z",
     "iopub.status.busy": "2024-05-22T10:17:59.467521Z",
     "iopub.status.idle": "2024-05-22T10:17:59.639670Z",
     "shell.execute_reply": "2024-05-22T10:17:59.638140Z",
     "shell.execute_reply.started": "2024-05-22T10:17:59.467875Z"
    }
   },
   "outputs": [
    {
     "name": "stdout",
     "output_type": "stream",
     "text": [
      "Total cells: 188\n",
      "s4U\tTime\tCells\n",
      "0.0\t3.0\t37\n",
      "100.0\t3.0\t3\n",
      "300.0\t3.0\t34\n",
      "400.0\t3.0\t46\n",
      "500.0\t3.0\t35\n",
      "600.0\t3.0\t33\n"
     ]
    }
   ],
   "source": [
    "runs = [\"20220729_EmbryoR10\", \"20230220_BlastocystC85\", \"20230220_BlastocystC86\", \"20230220_BlastocystC87\"]\n",
    "d = pd.read_csv(\"../../1_NanoNASCseq/reports/NanoNASCseq_Summary.csv\")\n",
    "d = d[[\"Late\" in x for x in d[\"Label\"]]]\n",
    "d = d[d[\"Run\"].isin(runs)]\n",
    "d = d[d[\"UMIs\"] >= 5000]\n",
    "d = d[d[\"ActD\"].isna()]\n",
    "d = d[d[\"s4U\"] != 200]\n",
    "print(\"Total cells:\", len(d))\n",
    "print(\"s4U\\tTime\\tCells\")\n",
    "counter = Counter([(s4u, time) for s4u, time in d[[\"s4U\", \"Time\"]].values])\n",
    "for k, v in sorted(counter.items()):\n",
    "    print(*k, v, sep=\"\\t\")"
   ]
  },
  {
   "cell_type": "code",
   "execution_count": 3,
   "id": "b65b8783-5df8-4131-aca8-ff1572e10970",
   "metadata": {
    "execution": {
     "iopub.execute_input": "2024-05-22T10:17:59.641592Z",
     "iopub.status.busy": "2024-05-22T10:17:59.641256Z",
     "iopub.status.idle": "2024-05-22T10:18:01.859184Z",
     "shell.execute_reply": "2024-05-22T10:18:01.857964Z",
     "shell.execute_reply.started": "2024-05-22T10:17:59.641559Z"
    }
   },
   "outputs": [
    {
     "name": "stdout",
     "output_type": "stream",
     "text": [
      "s4U concentration: [0, 100, 300, 400, 500, 600]\n"
     ]
    },
    {
     "data": {
      "image/png": "[encoded data removed]",
      "text/plain": [
       "<Figure size 400x300 with 1 Axes>"
      ]
     },
     "metadata": {},
     "output_type": "display_data"
    }
   ],
   "source": [
    "s4u_list = [int(k[0]) for k in sorted(counter.keys())]\n",
    "print(\"s4U concentration:\", s4u_list)\n",
    "ratios_list = []\n",
    "for s4u in s4u_list:\n",
    "    tmp = d[(d[\"s4U\"] == s4u) & (d[\"Time\"] == 3)]\n",
    "    ratios = tmp[\"TC.Ratio\"].values * 100\n",
    "    ratios_list.append(ratios)\n",
    "    \n",
    "cmap = matplotlib.colormaps[\"Reds\"]\n",
    "plt.figure(figsize=(4, 3))\n",
    "for i, ratios in enumerate(ratios_list):\n",
    "    ret = plt.boxplot([ratios], positions=[i], \n",
    "                      widths=0.5, showcaps=False, showfliers=True, showmeans=False, \n",
    "                      medianprops={\"color\": \"black\"}, \n",
    "                      patch_artist=True, boxprops={\"facecolor\": cmap(i * 40)})\n",
    "xs = np.arange(len(s4u_list))\n",
    "plt.xlim(min(xs) - 0.5, max(xs) + 0.5)\n",
    "ylim = 10\n",
    "plt.text(0, ylim * 0.9, \"s$^4$U treatment time: 3 h\")\n",
    "plt.ylim(0, ylim)\n",
    "plt.xticks(xs, list(map(str, s4u_list)))\n",
    "plt.xlabel(\"s$^4$U concentration (μM)\")\n",
    "plt.ylabel(\"Mismatch ratio of T-C (%)\")\n",
    "plt.gca().spines[\"top\"].set_visible(False)\n",
    "plt.gca().spines[\"right\"].set_visible(False)\n",
    "plt.tight_layout()\n",
    "plt.savefig(\"figures/best_s4u_condition.pdf\", dpi=300)"
   ]
  },
  {
   "cell_type": "code",
   "execution_count": null,
   "id": "d441c9bb-2a42-47d7-9be3-6f43b2dc5e29",
   "metadata": {},
   "outputs": [],
   "source": []
  }
 ],
 "metadata": {
  "kernelspec": {
   "display_name": "Python 3 (ipykernel)",
   "language": "python",
   "name": "python3"
  },
  "language_info": {
   "codemirror_mode": {
    "name": "ipython",
    "version": 3
   },
   "file_extension": ".py",
   "mimetype": "text/x-python",
   "name": "python",
   "nbconvert_exporter": "python",
   "pygments_lexer": "ipython3",
   "version": "3.10.13"
  }
 },
 "nbformat": 4,
 "nbformat_minor": 5
}
