{
 "cells": [
  {
   "cell_type": "code",
   "execution_count": 1,
   "id": "cc6ec72f",
   "metadata": {
    "ExecuteTime": {
     "end_time": "2024-03-13T05:40:08.673098Z",
     "start_time": "2024-03-13T05:40:07.931646Z"
    },
    "execution": {
     "iopub.execute_input": "2024-05-22T10:18:20.773292Z",
     "iopub.status.busy": "2024-05-22T10:18:20.772402Z",
     "iopub.status.idle": "2024-05-22T10:18:24.344996Z",
     "shell.execute_reply": "2024-05-22T10:18:24.342777Z",
     "shell.execute_reply.started": "2024-05-22T10:18:20.773221Z"
    }
   },
   "outputs": [],
   "source": [
    "import os\n",
    "import pandas as pd\n",
    "import anndata as ad"
   ]
  },
  {
   "cell_type": "code",
   "execution_count": 2,
   "id": "59cc3742",
   "metadata": {
    "ExecuteTime": {
     "end_time": "2024-03-13T05:40:13.782373Z",
     "start_time": "2024-03-13T05:40:12.834854Z"
    },
    "editable": true,
    "execution": {
     "iopub.execute_input": "2024-05-22T10:18:24.349901Z",
     "iopub.status.busy": "2024-05-22T10:18:24.348997Z",
     "iopub.status.idle": "2024-05-22T10:18:24.444811Z",
     "shell.execute_reply": "2024-05-22T10:18:24.443856Z",
     "shell.execute_reply.started": "2024-05-22T10:18:24.349841Z"
    },
    "hidden": true,
    "slideshow": {
     "slide_type": ""
    },
    "tags": []
   },
   "outputs": [
    {
     "name": "stdout",
     "output_type": "stream",
     "text": [
      "Cells: 2661\n"
     ]
    }
   ],
   "source": [
    "meta = pd.read_csv(\"../../1_NanoNASCseq/reports/NanoNASCseq_Summary.csv\", index_col=1)\n",
    "meta = meta[meta[\"Group\"] == \"MouseBlastocyst\"]\n",
    "meta = meta[meta[\"UMIs\"] >= 5000]\n",
    "print(\"Cells:\", len(meta))"
   ]
  },
  {
   "cell_type": "code",
   "execution_count": 3,
   "id": "20d609d4-7c4d-4855-962f-05c21d03e568",
   "metadata": {
    "editable": true,
    "execution": {
     "iopub.execute_input": "2024-05-22T10:18:24.446427Z",
     "iopub.status.busy": "2024-05-22T10:18:24.446120Z",
     "iopub.status.idle": "2024-05-22T10:18:24.479650Z",
     "shell.execute_reply": "2024-05-22T10:18:24.478137Z",
     "shell.execute_reply.started": "2024-05-22T10:18:24.446394Z"
    },
    "slideshow": {
     "slide_type": ""
    },
    "tags": []
   },
   "outputs": [],
   "source": [
    "path1 = \"results/blastocyst_counts.gene_based.filelist.txt\"\n",
    "with open(path1, \"w+\") as fw:\n",
    "    for cell in meta.index:\n",
    "        fw.write(\"../../1_NanoNASCseq/results/expression/quant_genes/min_read_2_min_tc_2/%s/%s.tsv\" % (cell.split(\".\")[0], cell) + \"\\n\")"
   ]
  },
  {
   "cell_type": "code",
   "execution_count": 4,
   "id": "6c8fb3d3-cfe8-4d53-8dc9-1d1fc149f6f8",
   "metadata": {
    "editable": true,
    "execution": {
     "iopub.execute_input": "2024-05-22T10:18:24.483856Z",
     "iopub.status.busy": "2024-05-22T10:18:24.483276Z",
     "iopub.status.idle": "2024-05-22T10:18:24.492603Z",
     "shell.execute_reply": "2024-05-22T10:18:24.491129Z",
     "shell.execute_reply.started": "2024-05-22T10:18:24.483797Z"
    },
    "slideshow": {
     "slide_type": ""
    },
    "tags": []
   },
   "outputs": [],
   "source": [
    "path2 = \"results/blastocyst_counts.gene_based.gene_id.h5ad\"\n",
    "if not os.path.exists(path2):\n",
    "    ! ../../1_NanoNASCseq/scripts/make_matrix.py {path1} {path2}"
   ]
  },
  {
   "cell_type": "code",
   "execution_count": 5,
   "id": "aee41623-d714-4e31-af96-f95fa38b7929",
   "metadata": {
    "editable": true,
    "execution": {
     "iopub.execute_input": "2024-05-22T10:18:24.494958Z",
     "iopub.status.busy": "2024-05-22T10:18:24.494428Z",
     "iopub.status.idle": "2024-05-22T10:18:45.732452Z",
     "shell.execute_reply": "2024-05-22T10:18:45.731177Z",
     "shell.execute_reply.started": "2024-05-22T10:18:24.494907Z"
    },
    "slideshow": {
     "slide_type": ""
    },
    "tags": []
   },
   "outputs": [
    {
     "data": {
      "text/plain": [
       "AnnData object with n_obs × n_vars = 2661 × 29073\n",
       "    obs: 'Run', 'Barcode', 'Species', 's4U', 'Time', 'ActD', 'Group', 'CellLine', 'Stage', 'Platform', 'Label', 'UMI', 'Cells', 'LibStruct', 'Remark', 'Cell.Reads', 'Trimmed.Reads', 'Trimmed.Ratio', 'Mapped.Reads', 'Mapped.Ratio', 'Mito.Ratio', 'Filtered.Reads', 'Filtered.Ratio', 'FilteredClip.Reads', 'FilteredClip.Ratio', 'UMIs', 'UMIs.2Reads', 'Duplicate.Reads', 'Duplicate.Ratio', 'Unique.Reads', 'Genes', 'Isoforms.Assembled', 'Isoforms.Known', 'AC.Ratio', 'AG.Ratio', 'AT.Ratio', 'CA.Ratio', 'CG.Ratio', 'CT.Ratio', 'GA.Ratio', 'GC.Ratio', 'GT.Ratio', 'TA.Ratio', 'TC.Ratio', 'TG.Ratio', 'Pe', 'Pc', 'PcPe.Ratio', 'UMIs.2Reads.Nascent.2TCs', 'UMIs.2Reads.Nascent.2TCs.Ratio', 'Genes.2Reads', 'Genes.2Reads.Nascent.2TCs'\n",
       "    var: 'GeneName', 'GeneType', 'Chrom', 'Start', 'End', 'Strand'\n",
       "    layers: 'nascent', 'total'"
      ]
     },
     "execution_count": 5,
     "metadata": {},
     "output_type": "execute_result"
    }
   ],
   "source": [
    "path3 = \"results/blastocyst_counts.gene_based.gene_id.annotated.h5ad\"\n",
    "anno = pd.read_csv(\"../../1_NanoNASCseq/results/assembly_custom/gtf_full/MouseBlastocyst.gtf.gene_info.tsv\", sep=\"\\t\", index_col=0)\n",
    "adata = ad.read_h5ad(path2)\n",
    "adata.obs = adata.obs.merge(meta, left_index=True, right_index=True, how=\"left\")\n",
    "adata.obs[\"CellLine\"] = \"\"\n",
    "adata.var = adata.var.merge(anno, left_index=True, right_index=True, how=\"left\")\n",
    "adata.write(path3, compression=\"gzip\")\n",
    "adata"
   ]
  },
  {
   "cell_type": "code",
   "execution_count": 6,
   "id": "21e96fe9-9cd4-4d51-ad84-a25536ec3de2",
   "metadata": {
    "execution": {
     "iopub.execute_input": "2024-05-22T10:18:45.734712Z",
     "iopub.status.busy": "2024-05-22T10:18:45.734265Z",
     "iopub.status.idle": "2024-05-22T10:19:10.708898Z",
     "shell.execute_reply": "2024-05-22T10:19:10.707328Z",
     "shell.execute_reply.started": "2024-05-22T10:18:45.734676Z"
    }
   },
   "outputs": [
    {
     "data": {
      "text/plain": [
       "View of AnnData object with n_obs × n_vars = 2661 × 28794\n",
       "    obs: 'Run', 'Barcode', 'Species', 's4U', 'Time', 'ActD', 'Group', 'CellLine', 'Stage', 'Platform', 'Label', 'UMI', 'Cells', 'LibStruct', 'Remark', 'Cell.Reads', 'Trimmed.Reads', 'Trimmed.Ratio', 'Mapped.Reads', 'Mapped.Ratio', 'Mito.Ratio', 'Filtered.Reads', 'Filtered.Ratio', 'FilteredClip.Reads', 'FilteredClip.Ratio', 'UMIs', 'UMIs.2Reads', 'Duplicate.Reads', 'Duplicate.Ratio', 'Unique.Reads', 'Genes', 'Isoforms.Assembled', 'Isoforms.Known', 'AC.Ratio', 'AG.Ratio', 'AT.Ratio', 'CA.Ratio', 'CG.Ratio', 'CT.Ratio', 'GA.Ratio', 'GC.Ratio', 'GT.Ratio', 'TA.Ratio', 'TC.Ratio', 'TG.Ratio', 'Pe', 'Pc', 'PcPe.Ratio', 'UMIs.2Reads.Nascent.2TCs', 'UMIs.2Reads.Nascent.2TCs.Ratio', 'Genes.2Reads', 'Genes.2Reads.Nascent.2TCs'\n",
       "    var: 'GeneID', 'GeneType', 'Chrom', 'Start', 'End', 'Strand'\n",
       "    layers: 'nascent', 'total'"
      ]
     },
     "execution_count": 6,
     "metadata": {},
     "output_type": "execute_result"
    }
   ],
   "source": [
    "path4 = \"results/blastocyst_counts.gene_based.gene_name.annotated.h5ad\"\n",
    "adata = adata[:,~adata.var[\"GeneName\"].isna()] \n",
    "adata = adata[:,~adata.var[\"GeneName\"].duplicated()]\n",
    "adata.var.insert(0, \"GeneID\", adata.var.index)\n",
    "adata.var.index = adata.var[\"GeneName\"]\n",
    "del adata.var[\"GeneName\"]\n",
    "adata.write(path4, compression=\"gzip\")\n",
    "adata"
   ]
  }
 ],
 "metadata": {
  "kernelspec": {
   "display_name": "Python 3 (ipykernel)",
   "language": "python",
   "name": "python3"
  },
  "language_info": {
   "codemirror_mode": {
    "name": "ipython",
    "version": 3
   },
   "file_extension": ".py",
   "mimetype": "text/x-python",
   "name": "python",
   "nbconvert_exporter": "python",
   "pygments_lexer": "ipython3",
   "version": "3.10.13"
  }
 },
 "nbformat": 4,
 "nbformat_minor": 5
}
