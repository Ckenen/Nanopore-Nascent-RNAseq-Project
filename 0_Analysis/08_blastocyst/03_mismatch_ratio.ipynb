{
 "cells": [
  {
   "cell_type": "code",
   "execution_count": 1,
   "id": "81395495",
   "metadata": {
    "ExecuteTime": {
     "end_time": "2024-03-13T06:26:38.390800Z",
     "start_time": "2024-03-13T06:26:37.054790Z"
    }
   },
   "outputs": [],
   "source": [
    "from collections import defaultdict, Counter\n",
    "import numpy as np\n",
    "import pandas as pd\n",
    "import matplotlib.pyplot as plt"
   ]
  },
  {
   "cell_type": "markdown",
   "id": "5c5f55ad",
   "metadata": {},
   "source": [
    "# Report mismatch ratio and nascent RNA for celltypes"
   ]
  },
  {
   "cell_type": "code",
   "execution_count": 2,
   "id": "1deb2572",
   "metadata": {
    "ExecuteTime": {
     "end_time": "2024-03-13T06:26:38.474980Z",
     "start_time": "2024-03-13T06:26:38.393845Z"
    }
   },
   "outputs": [],
   "source": [
    "tmp = pd.read_csv(\"results/seurat_transcripts/metadata_and_celltype.consistent_celltype.tsv\", sep=\"\\t\")\n",
    "cell2type = dict()\n",
    "for cell, ct in tmp[[\"Cell\", \"CellType\"]].values:\n",
    "    cell2type[cell] = ct"
   ]
  },
  {
   "cell_type": "code",
   "execution_count": 3,
   "id": "3b561aea",
   "metadata": {
    "ExecuteTime": {
     "end_time": "2024-03-13T06:26:39.459675Z",
     "start_time": "2024-03-13T06:26:38.477367Z"
    },
    "scrolled": true
   },
   "outputs": [
    {
     "name": "stdout",
     "output_type": "stream",
     "text": [
      "2778\n"
     ]
    }
   ],
   "source": [
    "d = pd.read_excel(\"../../1_NanoNASCseq/data/NanoNASCseq_summary_selected.xls\")\n",
    "d = d[d[\"UMIs\"] >= 5000]\n",
    "d[\"CellType\"] = [cell2type.get(cell) for cell in d[\"Cell\"]]\n",
    "d = d[(d[\"Species\"] == \"Mouse\") & (d[\"Strain\"] != \"mESC\")]\n",
    "print(len(d))"
   ]
  },
  {
   "cell_type": "code",
   "execution_count": 4,
   "id": "16ee9eee",
   "metadata": {
    "ExecuteTime": {
     "end_time": "2024-03-13T06:26:40.983690Z",
     "start_time": "2024-03-13T06:26:40.966296Z"
    }
   },
   "outputs": [
    {
     "data": {
      "text/plain": [
       "Counter({None: 1063,\n",
       "         'Conflict': 243,\n",
       "         'TE-1': 74,\n",
       "         'ICM-1': 125,\n",
       "         'TE-2': 155,\n",
       "         'ICM-2': 356,\n",
       "         'EPI': 289,\n",
       "         'polarTE': 116,\n",
       "         'PE': 186,\n",
       "         'muralTE': 171})"
      ]
     },
     "execution_count": 4,
     "metadata": {},
     "output_type": "execute_result"
    }
   ],
   "source": [
    "Counter(d[\"CellType\"])"
   ]
  },
  {
   "cell_type": "code",
   "execution_count": 5,
   "id": "25ed769f",
   "metadata": {
    "ExecuteTime": {
     "end_time": "2024-03-13T06:26:50.464963Z",
     "start_time": "2024-03-13T06:26:49.515412Z"
    }
   },
   "outputs": [
    {
     "data": {
      "image/png": "[encoded data removed]",
      "text/plain": [
       "<Figure size 360x216 with 1 Axes>"
      ]
     },
     "metadata": {
      "needs_background": "light"
     },
     "output_type": "display_data"
    }
   ],
   "source": [
    "cts = ['TE-1', 'TE-2', 'muralTE', 'polarTE', 'ICM-1', \"ICM-2\", \"EPI\", \"PE\"]\n",
    "\n",
    "plt.figure(figsize=(5, 3))\n",
    "array = []\n",
    "for ct in cts:\n",
    "    vs = d[(d[\"Time\"] == 3) & (d[\"s4U\"] == 0) & (d[\"ActD\"].isna()) & (d[\"CellType\"] == ct)][\"TCRatio\"] * 100\n",
    "    array.append(vs)\n",
    "for ct in cts:\n",
    "    vs = d[(d[\"Time\"] == 3) & (d[\"s4U\"] == 400) & (d[\"ActD\"].isna()) & (d[\"CellType\"] == ct)][\"TCRatio\"] * 100\n",
    "    array.append(vs)\n",
    "for actd in [0, 3, 6]:\n",
    "    vs = d[(d[\"Time\"] == 3) & (d[\"s4U\"] == 400) & (d[\"ActD\"] == actd)][\"TCRatio\"] * 100\n",
    "    array.append(vs)\n",
    "\n",
    "ylim = 6\n",
    "w = 0.5\n",
    "xs = np.arange(len(cts) * 2 + 3)\n",
    "xticks = cts * 2 + [\"0 h\", \"3 h\", \"6 h\"]\n",
    "plt.boxplot(array[:len(cts)], positions=xs[:len(cts)], widths=w, showfliers=False, showcaps=False, \n",
    "            patch_artist=True, boxprops={\"facecolor\": \"C7\"}, \n",
    "            medianprops={\"color\": \"black\"})\n",
    "plt.boxplot(array[len(cts):-3], positions=xs[len(cts):-3], widths=w, showfliers=False, showcaps=False, \n",
    "            patch_artist=True, boxprops={\"facecolor\": \"C3\"}, \n",
    "            medianprops={\"color\": \"black\"})\n",
    "plt.boxplot(array[-3:], positions=xs[-3:], widths=w, showfliers=False, showcaps=False, \n",
    "            patch_artist=True, boxprops={\"facecolor\": \"C7\"}, \n",
    "            medianprops={\"color\": \"black\"})\n",
    "plt.xticks(xs, xticks, rotation=45)\n",
    "plt.axvline(7.5, lw=1, ls=\"--\", color=\"grey\")\n",
    "plt.axvline(15.5, lw=1, ls=\"--\", color=\"grey\")\n",
    "plt.text(3.5, ylim * 0.95, \"0 μM, 3 h\", ha=\"center\", va=\"top\")\n",
    "plt.text(11.5, ylim * 0.95, \"400 μM, 3 h\", ha=\"center\", va=\"top\")\n",
    "plt.text(17, ylim * 0.95, \"400 μM\\n3 h\\n(ActD)\", ha=\"center\", va=\"top\")\n",
    "plt.xlabel(\"Consistent cell type or ActD treatment time (h)\")\n",
    "plt.ylim(0, ylim)\n",
    "plt.ylabel(\"Mismatch ratio of T-to-C (%)\")\n",
    "plt.gca().spines[\"top\"].set_visible(False)\n",
    "plt.gca().spines[\"right\"].set_visible(False)\n",
    "plt.tight_layout()\n",
    "plt.savefig(\"figures/mismatch_ratio_for_celltype.pdf\", dpi=300)"
   ]
  },
  {
   "cell_type": "code",
   "execution_count": 6,
   "id": "2e31c57d",
   "metadata": {
    "ExecuteTime": {
     "end_time": "2024-03-13T06:26:51.953494Z",
     "start_time": "2024-03-13T06:26:51.942644Z"
    }
   },
   "outputs": [
    {
     "data": {
      "text/plain": [
       "[3, 7, 21, 14, 5, 21, 16, 12, 70, 145, 105, 84, 105, 332, 211, 139, 34, 36, 28]"
      ]
     },
     "execution_count": 6,
     "metadata": {},
     "output_type": "execute_result"
    }
   ],
   "source": [
    "[len(vs) for vs in array]"
   ]
  },
  {
   "cell_type": "code",
   "execution_count": 7,
   "id": "5fa3f302",
   "metadata": {
    "ExecuteTime": {
     "end_time": "2024-03-13T06:26:57.745337Z",
     "start_time": "2024-03-13T06:26:56.953936Z"
    }
   },
   "outputs": [
    {
     "data": {
      "image/png": "[encoded data removed]",
      "text/plain": [
       "<Figure size 360x216 with 1 Axes>"
      ]
     },
     "metadata": {
      "needs_background": "light"
     },
     "output_type": "display_data"
    }
   ],
   "source": [
    "cts = ['TE-1', 'TE-2', 'muralTE', 'polarTE', 'ICM-1', \"ICM-2\", \"EPI\", \"PE\"]\n",
    "\n",
    "plt.figure(figsize=(5, 3))\n",
    "array = []\n",
    "for ct in cts:\n",
    "    vs = d[(d[\"Time\"] == 3) & (d[\"s4U\"] == 0) & (d[\"CellType\"] == ct)][\"NascentRatio2\"] * 100\n",
    "    array.append(vs)\n",
    "for ct in cts:\n",
    "    vs = d[(d[\"Time\"] == 3) & (d[\"s4U\"] == 400) & (d[\"CellType\"] == ct)][\"NascentRatio2\"] * 100\n",
    "    array.append(vs)\n",
    "for actd in [0, 3, 6]:\n",
    "    vs = d[d[\"ActD\"] == actd][\"NascentRatio2\"] * 100\n",
    "    array.append(vs)\n",
    "\n",
    "ylim = 100\n",
    "w = 0.5\n",
    "xs = np.arange(len(cts) * 2 + 3)\n",
    "xticks = cts * 2 + [\"0 h\", \"3 h\", \"6 h\"]\n",
    "plt.boxplot(array[:len(cts)], positions=xs[:len(cts)], widths=w, showfliers=False, showcaps=False, \n",
    "            patch_artist=True, boxprops={\"facecolor\": \"C7\"}, \n",
    "            medianprops={\"color\": \"black\"})\n",
    "plt.boxplot(array[len(cts):-3], positions=xs[len(cts):-3], widths=w, showfliers=False, showcaps=False, \n",
    "            patch_artist=True, boxprops={\"facecolor\": \"C2\"}, \n",
    "            medianprops={\"color\": \"black\"})\n",
    "plt.boxplot(array[-3:], positions=xs[-3:], widths=0.6, showfliers=False, showcaps=False,\n",
    "            patch_artist=True, boxprops={\"facecolor\": \"C7\"}, \n",
    "            medianprops={\"color\": \"black\"})\n",
    "plt.xticks(xs, xticks, rotation=45)\n",
    "plt.axvline(7.5, lw=1, ls=\"--\", color=\"grey\")\n",
    "plt.axvline(15.5, lw=1, ls=\"--\", color=\"grey\")\n",
    "plt.text(3.5, ylim * 0.95, \"0 μM, 3 h\", ha=\"center\", va=\"top\")\n",
    "plt.text(11.5, ylim * 0.95, \"400 μM, 3 h\", ha=\"center\", va=\"top\")\n",
    "plt.text(17, ylim * 0.95, \"400 μM\\n3 h\\n(ActD)\", ha=\"center\", va=\"top\")\n",
    "plt.xlabel(\"Consistent cell type or ActD treatment time (h)\")\n",
    "plt.ylim(0, ylim)\n",
    "plt.ylabel(\"% of nascent RNA\")\n",
    "plt.gca().spines[\"top\"].set_visible(False)\n",
    "plt.gca().spines[\"right\"].set_visible(False)\n",
    "plt.tight_layout()    \n",
    "plt.savefig(\"figures/nascent_umi_ratio_for_celltype.pdf\", dpi=300)"
   ]
  },
  {
   "cell_type": "code",
   "execution_count": 8,
   "id": "db9e3374",
   "metadata": {
    "ExecuteTime": {
     "end_time": "2024-03-13T06:26:59.078354Z",
     "start_time": "2024-03-13T06:26:59.070208Z"
    }
   },
   "outputs": [
    {
     "data": {
      "text/plain": [
       "[3, 9, 21, 14, 5, 23, 16, 12, 70, 146, 113, 91, 107, 333, 238, 152, 46, 38, 29]"
      ]
     },
     "execution_count": 8,
     "metadata": {},
     "output_type": "execute_result"
    }
   ],
   "source": [
    "[len(vs) for vs in array]"
   ]
  }
 ],
 "metadata": {
  "kernelspec": {
   "display_name": "Python 3",
   "language": "python",
   "name": "python3"
  },
  "language_info": {
   "codemirror_mode": {
    "name": "ipython",
    "version": 3
   },
   "file_extension": ".py",
   "mimetype": "text/x-python",
   "name": "python",
   "nbconvert_exporter": "python",
   "pygments_lexer": "ipython3",
   "version": "3.6.15"
  }
 },
 "nbformat": 4,
 "nbformat_minor": 5
}
