{
 "cells": [
  {
   "cell_type": "code",
   "execution_count": 2,
   "id": "7d662335",
   "metadata": {
    "ExecuteTime": {
     "end_time": "2024-03-13T05:39:47.757829Z",
     "start_time": "2024-03-13T05:39:46.984122Z"
    }
   },
   "outputs": [],
   "source": [
    "import os\n",
    "import glob\n",
    "import gzip\n",
    "from collections import Counter, defaultdict\n",
    "import numpy as np\n",
    "import pandas as pd\n",
    "import matplotlib\n",
    "import matplotlib.pyplot as plt\n",
    "import seaborn as sns\n",
    "infos = pd.read_excel(\"../../1_NanoNASCseq/data/NanoNASCseq_summary_selected_qc.xls\")"
   ]
  },
  {
   "cell_type": "markdown",
   "id": "2ffbdc82",
   "metadata": {
    "heading_collapsed": true
   },
   "source": [
    "# Combine metadata and celltype column"
   ]
  },
  {
   "cell_type": "code",
   "execution_count": 2,
   "id": "785c28e6",
   "metadata": {
    "ExecuteTime": {
     "end_time": "2023-06-25T08:15:16.429328Z",
     "start_time": "2023-06-25T08:15:16.301436Z"
    },
    "hidden": true
   },
   "outputs": [
    {
     "name": "stdout",
     "output_type": "stream",
     "text": [
      "Counter({'ICM': 469, 'EPI': 278, 'TE-2': 242, 'TE-1': 218, 'TE-3': 203, 'PE-2': 154, 'PE-1': 98, 'Unknown': 38, 'Morula': 25})\n"
     ]
    }
   ],
   "source": [
    "dat1 = pd.read_csv(\"seurat_outputs/seurat_metadata.tsv\", sep=\"\\t\", index_col=0)\n",
    "dat2 = pd.read_csv(\"seurat_outputs/seurat_active_ident.tsv\", sep=\"\\t\", index_col=0)\n",
    "dat2.columns = [\"CellType\"]\n",
    "dat = dat1.merge(dat2, left_index=True, right_index=True)\n",
    "dat.to_csv(\"seurat_outputs/seurat_metadata_active_ident.tsv\", sep=\"\\t\", index=False)\n",
    "print(Counter(dat[\"CellType\"]))"
   ]
  },
  {
   "cell_type": "markdown",
   "id": "1ed3d831",
   "metadata": {
    "heading_collapsed": true
   },
   "source": [
    "# Make celltype bam"
   ]
  },
  {
   "cell_type": "code",
   "execution_count": 5,
   "id": "ad5fd64e",
   "metadata": {
    "ExecuteTime": {
     "end_time": "2023-06-25T08:23:54.753918Z",
     "start_time": "2023-06-25T08:17:24.721279Z"
    },
    "hidden": true
   },
   "outputs": [
    {
     "name": "stdout",
     "output_type": "stream",
     "text": [
      "EPI\t278\n",
      "ICM\t469\n",
      "Morula\t25\n",
      "PE-1\t98\n",
      "PE-2\t154\n",
      "TE-1\t218\n",
      "TE-2\t242\n",
      "TE-3\t203\n",
      "Unknown\t38\n"
     ]
    }
   ],
   "source": [
    "dat = pd.read_csv(\"seurat_outputs/seurat_metadata_active_ident.tsv\", sep=\"\\t\")\n",
    "dat.index = dat[\"Cell\"]\n",
    "for ct in sorted(set(dat[\"CellType\"])):\n",
    "    tmp = dat[dat[\"CellType\"] == ct]\n",
    "    print(ct, len(tmp), sep=\"\\t\")\n",
    "    ps = []\n",
    "    for run, cell in tmp[[\"Run\", \"Cell\"]].values:\n",
    "        p = \"../../1_NanoNASCseq/results/nascent/rmdup/%s/%s.bam\" % (run, cell)\n",
    "        ps.append(p)\n",
    "    outbam = \"bams/%s.bam\" % ct\n",
    "    cmd = \"samtools merge -@ 8 -o %s %s\" % (outbam, \" \".join(ps))\n",
    "    assert os.system(cmd) == 0\n",
    "    cmd = \"samtools index -@ 8 %s\" % outbam\n",
    "    assert os.system(cmd) == 0\n",
    "    # break"
   ]
  },
  {
   "cell_type": "markdown",
   "id": "16007d49",
   "metadata": {
    "heading_collapsed": true
   },
   "source": [
    "# Make expression matrix for celltypes"
   ]
  },
  {
   "cell_type": "code",
   "execution_count": 11,
   "id": "4f37ea98",
   "metadata": {
    "ExecuteTime": {
     "end_time": "2023-09-02T11:28:50.289029Z",
     "start_time": "2023-09-02T11:28:50.119259Z"
    },
    "hidden": true
   },
   "outputs": [
    {
     "name": "stdout",
     "output_type": "stream",
     "text": [
      "['EPI', 'ICM', 'Morula', 'PE-1', 'PE-2', 'TE-1', 'TE-2', 'TE-3', 'Unknown']\n"
     ]
    }
   ],
   "source": [
    "dat = pd.read_csv(\"seurat_outputs/seurat_metadata_active_ident.tsv\", sep=\"\\t\")\n",
    "dat.index = dat[\"Cell\"]\n",
    "dat = dat[(dat[\"s4U\"] == 400) & (dat[\"Time\"] == 3) & (np.isnan(dat[\"ActD\"]))]\n",
    "cts = list(sorted(set(dat[\"CellType\"])))\n",
    "print(cts)"
   ]
  },
  {
   "cell_type": "code",
   "execution_count": 12,
   "id": "b9d2c80c",
   "metadata": {
    "ExecuteTime": {
     "end_time": "2023-09-02T11:28:51.110165Z",
     "start_time": "2023-09-02T11:28:50.293251Z"
    },
    "hidden": true
   },
   "outputs": [],
   "source": [
    "anno_g = pd.read_csv(\"/home/chenzonggui/species/mus_musculus/GRCm38.p6/gencode.vM25.genes.tsv\", sep=\"\\t\", index_col=2)\n",
    "anno_t = pd.read_csv(\"/home/chenzonggui/species/mus_musculus/GRCm38.p6/gencode.vM25.annotation.tsv\", sep=\"\\t\", index_col=0)"
   ]
  },
  {
   "cell_type": "markdown",
   "id": "ba36f44f",
   "metadata": {
    "heading_collapsed": true,
    "hidden": true
   },
   "source": [
    "## 1. Expression of merged cells"
   ]
  },
  {
   "cell_type": "code",
   "execution_count": 64,
   "id": "b2c8b54e",
   "metadata": {
    "ExecuteTime": {
     "end_time": "2023-06-25T12:12:24.737127Z",
     "start_time": "2023-06-25T12:11:40.313799Z"
    },
    "code_folding": [],
    "hidden": true
   },
   "outputs": [
    {
     "name": "stdout",
     "output_type": "stream",
     "text": [
      "EPI\t200\n",
      "ICM\t434\n",
      "Morula\t21\n",
      "PE-1\t87\n",
      "PE-2\t112\n",
      "TE-1\t204\n",
      "TE-2\t211\n",
      "TE-3\t124\n",
      "Unknown\t31\n"
     ]
    }
   ],
   "source": [
    "for ct in cts:\n",
    "    d = dat[dat[\"CellType\"] == ct]\n",
    "    print(ct, len(d), sep=\"\\t\")\n",
    "    \n",
    "    # gene\n",
    "    if True:\n",
    "        array = []\n",
    "        for run, cell in d[[\"Run\", \"Cell\"]].values:\n",
    "            path = \"../../1_NanoNASCseq/results/expression/quantify.v2/2TC/%s/%s/quant_gene.tsv.gz\" % (run, cell)\n",
    "            matrix = pd.read_csv(gzip.open(path, \"rt\"), sep=\"\\t\", index_col=0)\n",
    "            matrix.columns = [\"%s_%s\" % (c, cell) for c in matrix.columns]\n",
    "            array.append(matrix)\n",
    "\n",
    "        matrix = pd.concat(array, axis=1).fillna(0)\n",
    "        ss = []\n",
    "        for c in [\"Total\", \"Total.P\", \"Total.M\", \"Nascent\", \"Nascent.P\", \"Nascent.M\"]:\n",
    "            matrix1 = matrix[list(filter(lambda item: item.startswith(\"%s_\" % c), matrix.columns))]\n",
    "            s = matrix1.sum(axis=1)\n",
    "            s.name = c\n",
    "            ss.append(s)\n",
    "\n",
    "        matrix = pd.concat(ss, axis=1)\n",
    "        matrix.index.name = \"GeneID\"\n",
    "        matrix.to_csv(\"expression/cell_types/quant_gene.%s.tsv\" % ct, sep=\"\\t\")\n",
    "        matrix = matrix.merge(anno_g, left_index=True, right_index=True)\n",
    "        matrix.to_csv(\"expression/cell_types/quant_gene.%s.annotated.tsv\" % ct, sep=\"\\t\")\n",
    "\n",
    "    # transcripts\n",
    "    if True:\n",
    "        array = []\n",
    "        for run, cell in d[[\"Run\", \"Cell\"]].values:\n",
    "            path = \"../../1_NanoNASCseq/results/expression/quantify.v2/2TC/%s/%s/quant_transcript.tsv.gz\" % (run, cell)\n",
    "            matrix = pd.read_csv(gzip.open(path, \"rt\"), sep=\"\\t\", index_col=0)\n",
    "            matrix.columns = [\"%s_%s\" % (c, cell) for c in matrix.columns]\n",
    "            array.append(matrix)\n",
    "\n",
    "        matrix = pd.concat(array, axis=1).fillna(0)\n",
    "        ss = []\n",
    "        for c in [\"Total\", \"Total.P\", \"Total.M\", \"Nascent\", \"Nascent.P\", \"Nascent.M\"]:\n",
    "            matrix1 = matrix[list(filter(lambda item: item.startswith(\"%s_\" % c), matrix.columns))]\n",
    "            s = matrix1.sum(axis=1)\n",
    "            s.name = c\n",
    "            ss.append(s)\n",
    "\n",
    "        matrix = pd.concat(ss, axis=1)\n",
    "        matrix.index.name = \"TranscriptID\"\n",
    "        matrix.to_csv(\"expression/cell_types/quant_transcript.%s.tsv\" % ct, sep=\"\\t\")\n",
    "\n",
    "    # break"
   ]
  },
  {
   "cell_type": "markdown",
   "id": "bcf5a561",
   "metadata": {
    "heading_collapsed": true,
    "hidden": true
   },
   "source": [
    "## 2. Expression matrix of single-cell"
   ]
  },
  {
   "cell_type": "code",
   "execution_count": 5,
   "id": "64f25a9e",
   "metadata": {
    "ExecuteTime": {
     "end_time": "2023-07-11T05:35:58.419190Z",
     "start_time": "2023-07-11T05:30:51.070383Z"
    },
    "hidden": true
   },
   "outputs": [
    {
     "name": "stdout",
     "output_type": "stream",
     "text": [
      "1372\n"
     ]
    }
   ],
   "source": [
    "tmp = dat.copy()\n",
    "tmp = tmp[tmp[\"CellType\"] != \"Unknown\"]\n",
    "tmp = tmp[tmp[\"CellType\"] != \"Morula\"]\n",
    "print(len(tmp))\n",
    "\n",
    "array = []\n",
    "for run, cell in tmp[[\"Run\", \"Cell\"]].values:\n",
    "    path = \"../../1_NanoNASCseq/results/expression/quantify/2TC/%s/%s/quant_gene.tsv.gz\" % (run, cell)\n",
    "    d = pd.read_csv(gzip.open(path), sep=\"\\t\", index_col=0)\n",
    "    d = d.merge(anno_g, left_index=True, right_index=True)\n",
    "    d = d[~d[\"GeneName\"].duplicated()]\n",
    "    s = d[\"Total\"]\n",
    "    s.name = cell\n",
    "    s.index = d[\"GeneName\"]\n",
    "    array.append(s)   \n",
    "mtx = pd.concat(array, axis=1).fillna(0)\n",
    "mtx.index.name = \"Gene\"\n",
    "mtx.to_csv(\"expression/mouse_blastocyst_total_counts.tsv\", sep=\"\\t\")\n",
    "mtx_meta = dat[[\"CellType\"]]\n",
    "mtx_meta.to_csv(\"expression/mouse_blastocyst_total_meta.tsv\", sep=\"\\t\")\n",
    "\n",
    "array = []\n",
    "for run, cell in tmp[[\"Run\", \"Cell\"]].values:\n",
    "    path = \"../../1_NanoNASCseq/results/expression/quantify/2TC/%s/%s/quant_gene.tsv.gz\" % (run, cell)\n",
    "    d = pd.read_csv(gzip.open(path), sep=\"\\t\", index_col=0)\n",
    "    d = d.merge(anno_g, left_index=True, right_index=True)\n",
    "    d = d[~d[\"GeneName\"].duplicated()]\n",
    "    s = d[\"Total\"] - d[\"Nascent\"]\n",
    "    s.name = cell\n",
    "    s.index = d[\"GeneName\"]\n",
    "    array.append(s)   \n",
    "mtx = pd.concat(array, axis=1).fillna(0)\n",
    "mtx.index.name = \"Gene\"\n",
    "mtx.to_csv(\"expression/mouse_blastocyst_exists_counts.tsv\", sep=\"\\t\")\n",
    "mtx_meta = dat[[\"CellType\"]]\n",
    "mtx_meta.to_csv(\"expression/mouse_blastocyst_exists_meta.tsv\", sep=\"\\t\")\n",
    "\n",
    "array = []\n",
    "for run, cell in tmp[[\"Run\", \"Cell\"]].values:\n",
    "    path = \"../../1_NanoNASCseq/results/expression/quantify/2TC/%s/%s/quant_gene.tsv.gz\" % (run, cell)\n",
    "    d = pd.read_csv(gzip.open(path), sep=\"\\t\", index_col=0)\n",
    "    d = d.merge(anno_g, left_index=True, right_index=True)\n",
    "    d = d[~d[\"GeneName\"].duplicated()]\n",
    "    s = d[\"Nascent\"]\n",
    "    s.name = cell\n",
    "    s.index = d[\"GeneName\"]\n",
    "    array.append(s)   \n",
    "mtx = pd.concat(array, axis=1).fillna(0)\n",
    "mtx.index.name = \"Gene\"\n",
    "mtx.to_csv(\"expression/mouse_blastocyst_nascent_counts.tsv\", sep=\"\\t\")\n",
    "mtx_meta = dat[[\"CellType\"]]\n",
    "mtx_meta.to_csv(\"expression/mouse_blastocyst_nascent_meta.tsv\", sep=\"\\t\")"
   ]
  },
  {
   "cell_type": "code",
   "execution_count": 6,
   "id": "f49b6624",
   "metadata": {
    "ExecuteTime": {
     "end_time": "2023-07-11T05:42:57.660913Z",
     "start_time": "2023-07-11T05:42:57.648171Z"
    },
    "hidden": true
   },
   "outputs": [
    {
     "data": {
      "text/plain": [
       "Counter({'TE-1': 204,\n",
       "         'ICM': 434,\n",
       "         'TE-2': 211,\n",
       "         'EPI': 200,\n",
       "         'PE-2': 112,\n",
       "         'TE-3': 124,\n",
       "         'PE-1': 87})"
      ]
     },
     "execution_count": 6,
     "metadata": {},
     "output_type": "execute_result"
    }
   ],
   "source": [
    "Counter(tmp[\"CellType\"])"
   ]
  },
  {
   "cell_type": "markdown",
   "id": "feb540b5",
   "metadata": {
    "hidden": true
   },
   "source": [
    "## 3. Expression correlation"
   ]
  },
  {
   "cell_type": "code",
   "execution_count": 67,
   "id": "09542b4d",
   "metadata": {
    "ExecuteTime": {
     "end_time": "2023-06-25T12:16:16.116042Z",
     "start_time": "2023-06-25T12:16:15.285158Z"
    },
    "hidden": true
   },
   "outputs": [
    {
     "name": "stdout",
     "output_type": "stream",
     "text": [
      "3040\n"
     ]
    }
   ],
   "source": [
    "cts = ['TE-1', 'TE-2', 'TE-3', \"ICM\", \"EPI\", \"PE-1\", \"PE-2\"]\n",
    "array = []\n",
    "for ct in cts:\n",
    "    path = \"expression/cell_types/quant_gene.%s.tsv\" % ct\n",
    "    m = pd.read_csv(path, sep=\"\\t\", index_col=0)\n",
    "    m = m.merge(anno_g, left_index=True, right_index=True)\n",
    "    m = m[~m[\"GeneName\"].duplicated()]\n",
    "    m.index = m[\"GeneName\"]\n",
    "    s = m[\"Total\"] * 1e6 / sum(m[\"Total\"])\n",
    "    s.name = ct\n",
    "    array.append(s)\n",
    "m = pd.concat(array, axis=1).fillna(0)\n",
    "m = m[m.max(axis=1) > 100]\n",
    "print(len(m))"
   ]
  },
  {
   "cell_type": "code",
   "execution_count": 35,
   "id": "c0fe0744",
   "metadata": {
    "ExecuteTime": {
     "end_time": "2023-06-25T09:06:39.416027Z",
     "start_time": "2023-06-25T09:06:38.033765Z"
    },
    "hidden": true,
    "scrolled": false
   },
   "outputs": [
    {
     "data": {
      "text/plain": [
       "<seaborn.matrix.ClusterGrid at 0x7fd377b67860>"
      ]
     },
     "execution_count": 35,
     "metadata": {},
     "output_type": "execute_result"
    },
    {
     "data": {
      "image/png": "[encoded data removed]",
      "text/plain": [
       "<Figure size 432x432 with 4 Axes>"
      ]
     },
     "metadata": {
      "needs_background": "light"
     },
     "output_type": "display_data"
    }
   ],
   "source": [
    "sns.clustermap(m, z_score=0, cmap=\"bwr\", figsize=(6, 6))"
   ]
  },
  {
   "cell_type": "code",
   "execution_count": 6,
   "id": "ee3cadba",
   "metadata": {
    "ExecuteTime": {
     "end_time": "2023-05-31T09:11:26.879732Z",
     "start_time": "2023-05-31T09:11:26.864776Z"
    },
    "hidden": true
   },
   "outputs": [],
   "source": [
    "def load_quant_gene(path):\n",
    "    d1 = pd.read_csv(path, sep=\"\\t\", index_col=0)\n",
    "    d1[\"TPM\"] = d1[\"Total\"] * 1e6 / sum(d1[\"Total\"])\n",
    "    d2 = d1.merge(anno_g, left_index=True, right_index=True)\n",
    "    d2 = d2[~d2[\"GeneName\"].duplicated()]\n",
    "    d2.index = d2[\"GeneName\"]\n",
    "    return d2\n",
    "\n",
    "def load_quant_transcript(path):\n",
    "    d1 = pd.read_csv(path, sep=\"\\t\", index_col=0)\n",
    "    d1[\"TPM\"] = d1[\"Total\"] * 1e6 / sum(d1[\"Total\"])\n",
    "    d2 = d1.merge(anno_t, left_index=True, right_index=True)\n",
    "    return d2"
   ]
  },
  {
   "cell_type": "code",
   "execution_count": 135,
   "id": "4d0cce0f",
   "metadata": {
    "ExecuteTime": {
     "end_time": "2023-05-29T03:41:29.107329Z",
     "start_time": "2023-05-29T03:41:28.630208Z"
    },
    "hidden": true
   },
   "outputs": [
    {
     "name": "stderr",
     "output_type": "stream",
     "text": [
      "/home/chenzonggui/miniconda3/envs/py36/lib/python3.6/site-packages/pandas/core/series.py:726: RuntimeWarning: divide by zero encountered in log2\n",
      "  result = getattr(ufunc, method)(*inputs, **kwargs)\n"
     ]
    },
    {
     "data": {
      "image/png": "[encoded data removed]",
      "text/plain": [
       "<Figure size 432x432 with 1 Axes>"
      ]
     },
     "metadata": {
      "needs_background": "light"
     },
     "output_type": "display_data"
    }
   ],
   "source": [
    "ct1 = \"EPI-2\"\n",
    "ct2 = \"TE-3\"\n",
    "\n",
    "m1 = load_quant_gene(\"expression/quant_gene.%s.tsv\" % ct1)\n",
    "s1 = m1[\"TPM\"]\n",
    "s1.name = ct1\n",
    "\n",
    "m2 = load_quant_gene(\"expression/quant_gene.%s.tsv\" % ct2)\n",
    "s2 = m2[\"TPM\"]\n",
    "s2.name = ct2\n",
    "\n",
    "m = pd.concat([s1, s2], axis=1).fillna(0)\n",
    "m[\"Mean\"] = m.mean(axis=1)\n",
    "m[\"Log2FC\"] = np.log2(m[ct2] / m[ct1])\n",
    "m = m[np.isfinite(m[\"Log2FC\"])]\n",
    "\n",
    "xs = m[\"Mean\"]\n",
    "xs = np.log2(xs)\n",
    "ys = m[\"Log2FC\"]\n",
    "\n",
    "plt.figure(figsize=(6, 6))\n",
    "plt.scatter(xs, ys, marker=\".\")\n",
    "plt.tight_layout()\n",
    "plt.show()"
   ]
  },
  {
   "cell_type": "code",
   "execution_count": 136,
   "id": "ae1fe528",
   "metadata": {
    "ExecuteTime": {
     "end_time": "2023-05-29T03:41:29.871796Z",
     "start_time": "2023-05-29T03:41:29.835889Z"
    },
    "hidden": true,
    "scrolled": true
   },
   "outputs": [
    {
     "data": {
      "text/html": [
       "<div>\n",
       "<style scoped>\n",
       "    .dataframe tbody tr th:only-of-type {\n",
       "        vertical-align: middle;\n",
       "    }\n",
       "\n",
       "    .dataframe tbody tr th {\n",
       "        vertical-align: top;\n",
       "    }\n",
       "\n",
       "    .dataframe thead th {\n",
       "        text-align: right;\n",
       "    }\n",
       "</style>\n",
       "<table border=\"1\" class=\"dataframe\">\n",
       "  <thead>\n",
       "    <tr style=\"text-align: right;\">\n",
       "      <th></th>\n",
       "      <th>EPI-2</th>\n",
       "      <th>TE-3</th>\n",
       "      <th>Mean</th>\n",
       "      <th>Log2FC</th>\n",
       "    </tr>\n",
       "  </thead>\n",
       "  <tbody>\n",
       "    <tr>\n",
       "      <th>Id2</th>\n",
       "      <td>29.795203</td>\n",
       "      <td>983.144771</td>\n",
       "      <td>506.469987</td>\n",
       "      <td>5.044252</td>\n",
       "    </tr>\n",
       "    <tr>\n",
       "      <th>Plet1</th>\n",
       "      <td>12.662961</td>\n",
       "      <td>541.966400</td>\n",
       "      <td>277.314681</td>\n",
       "      <td>5.419517</td>\n",
       "    </tr>\n",
       "    <tr>\n",
       "      <th>Gm2a</th>\n",
       "      <td>43.203044</td>\n",
       "      <td>1864.024765</td>\n",
       "      <td>953.613904</td>\n",
       "      <td>5.431144</td>\n",
       "    </tr>\n",
       "    <tr>\n",
       "      <th>Gata3</th>\n",
       "      <td>14.152721</td>\n",
       "      <td>558.948999</td>\n",
       "      <td>286.550860</td>\n",
       "      <td>5.303565</td>\n",
       "    </tr>\n",
       "    <tr>\n",
       "      <th>Tspan1</th>\n",
       "      <td>2.979520</td>\n",
       "      <td>203.791180</td>\n",
       "      <td>103.385350</td>\n",
       "      <td>6.095868</td>\n",
       "    </tr>\n",
       "    <tr>\n",
       "      <th>BC053393</th>\n",
       "      <td>26.815682</td>\n",
       "      <td>2098.458460</td>\n",
       "      <td>1062.637071</td>\n",
       "      <td>6.290109</td>\n",
       "    </tr>\n",
       "    <tr>\n",
       "      <th>AA467197</th>\n",
       "      <td>17.877122</td>\n",
       "      <td>1546.154826</td>\n",
       "      <td>782.015974</td>\n",
       "      <td>6.434427</td>\n",
       "    </tr>\n",
       "    <tr>\n",
       "      <th>Krt8</th>\n",
       "      <td>52.141605</td>\n",
       "      <td>2790.314750</td>\n",
       "      <td>1421.228177</td>\n",
       "      <td>5.741849</td>\n",
       "    </tr>\n",
       "    <tr>\n",
       "      <th>Tacstd2</th>\n",
       "      <td>1.489760</td>\n",
       "      <td>272.459948</td>\n",
       "      <td>136.974854</td>\n",
       "      <td>7.514820</td>\n",
       "    </tr>\n",
       "    <tr>\n",
       "      <th>Lgals1</th>\n",
       "      <td>26.070802</td>\n",
       "      <td>3560.069481</td>\n",
       "      <td>1793.070142</td>\n",
       "      <td>7.093327</td>\n",
       "    </tr>\n",
       "    <tr>\n",
       "      <th>Krt18</th>\n",
       "      <td>55.866005</td>\n",
       "      <td>3641.659791</td>\n",
       "      <td>1848.762898</td>\n",
       "      <td>6.026482</td>\n",
       "    </tr>\n",
       "    <tr>\n",
       "      <th>Tspan8</th>\n",
       "      <td>19.366882</td>\n",
       "      <td>1837.812494</td>\n",
       "      <td>928.589688</td>\n",
       "      <td>6.568254</td>\n",
       "    </tr>\n",
       "    <tr>\n",
       "      <th>Cldn3</th>\n",
       "      <td>5.214160</td>\n",
       "      <td>202.683620</td>\n",
       "      <td>103.948890</td>\n",
       "      <td>5.280651</td>\n",
       "    </tr>\n",
       "    <tr>\n",
       "      <th>Dppa1</th>\n",
       "      <td>6.703921</td>\n",
       "      <td>1959.274991</td>\n",
       "      <td>982.989456</td>\n",
       "      <td>8.191099</td>\n",
       "    </tr>\n",
       "    <tr>\n",
       "      <th>Crip1</th>\n",
       "      <td>5.959041</td>\n",
       "      <td>366.602613</td>\n",
       "      <td>186.280827</td>\n",
       "      <td>5.942993</td>\n",
       "    </tr>\n",
       "    <tr>\n",
       "      <th>Slc39a2</th>\n",
       "      <td>2.979520</td>\n",
       "      <td>246.247676</td>\n",
       "      <td>124.613598</td>\n",
       "      <td>6.368886</td>\n",
       "    </tr>\n",
       "    <tr>\n",
       "      <th>Elf5</th>\n",
       "      <td>2.979520</td>\n",
       "      <td>417.550408</td>\n",
       "      <td>210.264964</td>\n",
       "      <td>7.130727</td>\n",
       "    </tr>\n",
       "    <tr>\n",
       "      <th>Gm3776</th>\n",
       "      <td>2.979520</td>\n",
       "      <td>250.677919</td>\n",
       "      <td>126.828720</td>\n",
       "      <td>6.394611</td>\n",
       "    </tr>\n",
       "    <tr>\n",
       "      <th>Tmsb4x</th>\n",
       "      <td>102.048569</td>\n",
       "      <td>4420.644194</td>\n",
       "      <td>2261.346382</td>\n",
       "      <td>5.436929</td>\n",
       "    </tr>\n",
       "    <tr>\n",
       "      <th>H19</th>\n",
       "      <td>26.815682</td>\n",
       "      <td>1270.372196</td>\n",
       "      <td>648.593939</td>\n",
       "      <td>5.566030</td>\n",
       "    </tr>\n",
       "    <tr>\n",
       "      <th>Dmkn</th>\n",
       "      <td>8.193681</td>\n",
       "      <td>335.221724</td>\n",
       "      <td>171.707703</td>\n",
       "      <td>5.354460</td>\n",
       "    </tr>\n",
       "    <tr>\n",
       "      <th>Cldn4</th>\n",
       "      <td>13.407841</td>\n",
       "      <td>1094.270034</td>\n",
       "      <td>553.838938</td>\n",
       "      <td>6.350748</td>\n",
       "    </tr>\n",
       "    <tr>\n",
       "      <th>Adh1</th>\n",
       "      <td>7.448801</td>\n",
       "      <td>1005.295986</td>\n",
       "      <td>506.372394</td>\n",
       "      <td>7.076396</td>\n",
       "    </tr>\n",
       "    <tr>\n",
       "      <th>Tfap2a</th>\n",
       "      <td>5.214160</td>\n",
       "      <td>261.015153</td>\n",
       "      <td>133.114657</td>\n",
       "      <td>5.645555</td>\n",
       "    </tr>\n",
       "    <tr>\n",
       "      <th>Entpd1</th>\n",
       "      <td>1.489760</td>\n",
       "      <td>222.250527</td>\n",
       "      <td>111.870143</td>\n",
       "      <td>7.220963</td>\n",
       "    </tr>\n",
       "    <tr>\n",
       "      <th>Slc15a2</th>\n",
       "      <td>0.744880</td>\n",
       "      <td>467.021455</td>\n",
       "      <td>233.883168</td>\n",
       "      <td>9.292265</td>\n",
       "    </tr>\n",
       "    <tr>\n",
       "      <th>BC051665</th>\n",
       "      <td>0.744880</td>\n",
       "      <td>745.757581</td>\n",
       "      <td>373.251230</td>\n",
       "      <td>9.967483</td>\n",
       "    </tr>\n",
       "  </tbody>\n",
       "</table>\n",
       "</div>"
      ],
      "text/plain": [
       "               EPI-2         TE-3         Mean    Log2FC\n",
       "Id2        29.795203   983.144771   506.469987  5.044252\n",
       "Plet1      12.662961   541.966400   277.314681  5.419517\n",
       "Gm2a       43.203044  1864.024765   953.613904  5.431144\n",
       "Gata3      14.152721   558.948999   286.550860  5.303565\n",
       "Tspan1      2.979520   203.791180   103.385350  6.095868\n",
       "BC053393   26.815682  2098.458460  1062.637071  6.290109\n",
       "AA467197   17.877122  1546.154826   782.015974  6.434427\n",
       "Krt8       52.141605  2790.314750  1421.228177  5.741849\n",
       "Tacstd2     1.489760   272.459948   136.974854  7.514820\n",
       "Lgals1     26.070802  3560.069481  1793.070142  7.093327\n",
       "Krt18      55.866005  3641.659791  1848.762898  6.026482\n",
       "Tspan8     19.366882  1837.812494   928.589688  6.568254\n",
       "Cldn3       5.214160   202.683620   103.948890  5.280651\n",
       "Dppa1       6.703921  1959.274991   982.989456  8.191099\n",
       "Crip1       5.959041   366.602613   186.280827  5.942993\n",
       "Slc39a2     2.979520   246.247676   124.613598  6.368886\n",
       "Elf5        2.979520   417.550408   210.264964  7.130727\n",
       "Gm3776      2.979520   250.677919   126.828720  6.394611\n",
       "Tmsb4x    102.048569  4420.644194  2261.346382  5.436929\n",
       "H19        26.815682  1270.372196   648.593939  5.566030\n",
       "Dmkn        8.193681   335.221724   171.707703  5.354460\n",
       "Cldn4      13.407841  1094.270034   553.838938  6.350748\n",
       "Adh1        7.448801  1005.295986   506.372394  7.076396\n",
       "Tfap2a      5.214160   261.015153   133.114657  5.645555\n",
       "Entpd1      1.489760   222.250527   111.870143  7.220963\n",
       "Slc15a2     0.744880   467.021455   233.883168  9.292265\n",
       "BC051665    0.744880   745.757581   373.251230  9.967483"
      ]
     },
     "execution_count": 136,
     "metadata": {},
     "output_type": "execute_result"
    }
   ],
   "source": [
    "m[(m[\"Mean\"] > 100) & (m[\"Log2FC\"] > 5)]"
   ]
  },
  {
   "cell_type": "code",
   "execution_count": 129,
   "id": "e964c032",
   "metadata": {
    "ExecuteTime": {
     "end_time": "2023-05-29T03:38:55.583757Z",
     "start_time": "2023-05-29T03:38:55.519775Z"
    },
    "hidden": true
   },
   "outputs": [
    {
     "name": "stdout",
     "output_type": "stream",
     "text": [
      "Hdlbp\n"
     ]
    }
   ],
   "source": [
    "m1 = m[(m[\"Mean\"] > 300) & (m[\"Log2FC\"].abs() < 2)]\n",
    "\n",
    "for gname in m1.index:\n",
    "    # print(gname)\n",
    "    \n",
    "    tmp1 = mt1[mt1[\"GeneName\"] == gname].sort_values(by=\"TPM\", ascending=False)\n",
    "    if len(tmp1) == 0:\n",
    "        continue\n",
    "    tid1 = tmp1.index.values[0]\n",
    "    r1 = tmp1[\"Total\"].values[0] / sum(tmp1[\"Total\"])\n",
    "    \n",
    "    tmp2 = mt2[mt2[\"GeneName\"] == gname].sort_values(by=\"TPM\", ascending=False)\n",
    "    if len(tmp2) == 0:\n",
    "        continue\n",
    "    tid2 = tmp2.index.values[0]\n",
    "    r2 = tmp2[\"Total\"].values[0] / sum(tmp2[\"Total\"])\n",
    "    \n",
    "    if r1 > 0.5 and r2 > 0.5 and tid1 != tid2:\n",
    "        print(gname)\n",
    "        break\n",
    "    \n",
    "    # break"
   ]
  },
  {
   "cell_type": "code",
   "execution_count": 32,
   "id": "a398d30c",
   "metadata": {
    "ExecuteTime": {
     "end_time": "2023-05-31T09:40:41.400586Z",
     "start_time": "2023-05-31T09:40:27.089526Z"
    },
    "hidden": true
   },
   "outputs": [
    {
     "name": "stdout",
     "output_type": "stream",
     "text": [
      "Lrr1\n",
      "Tpm1\n",
      "Tsen34\n"
     ]
    }
   ],
   "source": [
    "ct1, ct2 = \"TE-3\", \"PE\"\n",
    "\n",
    "mt1 = load_quant_transcript(\"expression/quant_transcript.%s.tsv\" % ct1)\n",
    "mt2 = load_quant_transcript(\"expression/quant_transcript.%s.tsv\" % ct2)\n",
    "tmp1 = mt1[['Total', 'Total.P', 'Total.M', 'Nascent', 'Nascent.P', 'Nascent.M', 'TPM']]\n",
    "mt = tmp1.merge(mt2, left_index=True, right_index=True, suffixes=[\"_1\", \"_2\"])\n",
    "\n",
    "for gname, tmp in mt.groupby(by=\"GeneName\"):\n",
    "    \n",
    "    tmp1 = tmp.sort_values(by=\"Total_1\", ascending=False)\n",
    "    tid1 = tmp1.index.values[0]\n",
    "    count1 = tmp1[\"Total_1\"].values[0]\n",
    "    ratio1 = count1 / sum(tmp1[\"Total_1\"])\n",
    "    \n",
    "    tmp2 = tmp.sort_values(by=\"Total_2\", ascending=False)\n",
    "    tid2 = tmp2.index.values[0]\n",
    "    count2 = tmp2[\"Total_2\"].values[0]\n",
    "    ratio2 = count2 / sum(tmp2[\"Total_2\"])\n",
    "    \n",
    "    if count1 > 30 and count2 > 30 and ratio1 > 0.6 and ratio2 > 0.6 and tid1 != tid2:\n",
    "        print(gname)\n",
    "        # break"
   ]
  },
  {
   "cell_type": "code",
   "execution_count": 34,
   "id": "bc2082a5",
   "metadata": {
    "ExecuteTime": {
     "end_time": "2023-05-31T09:42:13.447353Z",
     "start_time": "2023-05-31T09:42:13.385897Z"
    },
    "hidden": true
   },
   "outputs": [
    {
     "data": {
      "text/html": [
       "<div>\n",
       "<style scoped>\n",
       "    .dataframe tbody tr th:only-of-type {\n",
       "        vertical-align: middle;\n",
       "    }\n",
       "\n",
       "    .dataframe tbody tr th {\n",
       "        vertical-align: top;\n",
       "    }\n",
       "\n",
       "    .dataframe thead th {\n",
       "        text-align: right;\n",
       "    }\n",
       "</style>\n",
       "<table border=\"1\" class=\"dataframe\">\n",
       "  <thead>\n",
       "    <tr style=\"text-align: right;\">\n",
       "      <th></th>\n",
       "      <th>Total_1</th>\n",
       "      <th>Total.P_1</th>\n",
       "      <th>Total.M_1</th>\n",
       "      <th>Nascent_1</th>\n",
       "      <th>Nascent.P_1</th>\n",
       "      <th>Nascent.M_1</th>\n",
       "      <th>TPM_1</th>\n",
       "      <th>Total_2</th>\n",
       "      <th>Total.P_2</th>\n",
       "      <th>Total.M_2</th>\n",
       "      <th>...</th>\n",
       "      <th>TPM_2</th>\n",
       "      <th>TranscriptType</th>\n",
       "      <th>GeneID</th>\n",
       "      <th>GeneType</th>\n",
       "      <th>GeneName</th>\n",
       "      <th>Chrom</th>\n",
       "      <th>Start</th>\n",
       "      <th>End</th>\n",
       "      <th>Strand</th>\n",
       "      <th>Canonical</th>\n",
       "    </tr>\n",
       "    <tr>\n",
       "      <th>TranscriptID</th>\n",
       "      <th></th>\n",
       "      <th></th>\n",
       "      <th></th>\n",
       "      <th></th>\n",
       "      <th></th>\n",
       "      <th></th>\n",
       "      <th></th>\n",
       "      <th></th>\n",
       "      <th></th>\n",
       "      <th></th>\n",
       "      <th></th>\n",
       "      <th></th>\n",
       "      <th></th>\n",
       "      <th></th>\n",
       "      <th></th>\n",
       "      <th></th>\n",
       "      <th></th>\n",
       "      <th></th>\n",
       "      <th></th>\n",
       "      <th></th>\n",
       "      <th></th>\n",
       "    </tr>\n",
       "  </thead>\n",
       "  <tbody>\n",
       "    <tr>\n",
       "      <th>ENSMUST00000113695.7</th>\n",
       "      <td>86.0</td>\n",
       "      <td>44.0</td>\n",
       "      <td>38.0</td>\n",
       "      <td>27.0</td>\n",
       "      <td>13.0</td>\n",
       "      <td>12.0</td>\n",
       "      <td>65.392079</td>\n",
       "      <td>3.0</td>\n",
       "      <td>2.0</td>\n",
       "      <td>1.0</td>\n",
       "      <td>...</td>\n",
       "      <td>2.954248</td>\n",
       "      <td>protein_coding</td>\n",
       "      <td>ENSMUSG00000032366.15</td>\n",
       "      <td>protein_coding</td>\n",
       "      <td>Tpm1</td>\n",
       "      <td>chr9</td>\n",
       "      <td>67022591</td>\n",
       "      <td>67043802</td>\n",
       "      <td>-</td>\n",
       "      <td>False</td>\n",
       "    </tr>\n",
       "    <tr>\n",
       "      <th>ENSMUST00000113696.7</th>\n",
       "      <td>469.0</td>\n",
       "      <td>230.0</td>\n",
       "      <td>210.0</td>\n",
       "      <td>152.0</td>\n",
       "      <td>86.0</td>\n",
       "      <td>56.0</td>\n",
       "      <td>356.614941</td>\n",
       "      <td>12.0</td>\n",
       "      <td>5.0</td>\n",
       "      <td>6.0</td>\n",
       "      <td>...</td>\n",
       "      <td>11.816990</td>\n",
       "      <td>protein_coding</td>\n",
       "      <td>ENSMUSG00000032366.15</td>\n",
       "      <td>protein_coding</td>\n",
       "      <td>Tpm1</td>\n",
       "      <td>chr9</td>\n",
       "      <td>67022589</td>\n",
       "      <td>67043907</td>\n",
       "      <td>-</td>\n",
       "      <td>False</td>\n",
       "    </tr>\n",
       "    <tr>\n",
       "      <th>ENSMUST00000113697.7</th>\n",
       "      <td>62.0</td>\n",
       "      <td>39.0</td>\n",
       "      <td>17.0</td>\n",
       "      <td>21.0</td>\n",
       "      <td>12.0</td>\n",
       "      <td>6.0</td>\n",
       "      <td>47.143127</td>\n",
       "      <td>1.0</td>\n",
       "      <td>0.0</td>\n",
       "      <td>1.0</td>\n",
       "      <td>...</td>\n",
       "      <td>0.984749</td>\n",
       "      <td>protein_coding</td>\n",
       "      <td>ENSMUSG00000032366.15</td>\n",
       "      <td>protein_coding</td>\n",
       "      <td>Tpm1</td>\n",
       "      <td>chr9</td>\n",
       "      <td>67022614</td>\n",
       "      <td>67049275</td>\n",
       "      <td>-</td>\n",
       "      <td>False</td>\n",
       "    </tr>\n",
       "    <tr>\n",
       "      <th>ENSMUST00000113684.7</th>\n",
       "      <td>49.0</td>\n",
       "      <td>0.0</td>\n",
       "      <td>0.0</td>\n",
       "      <td>10.0</td>\n",
       "      <td>0.0</td>\n",
       "      <td>0.0</td>\n",
       "      <td>37.258277</td>\n",
       "      <td>37.0</td>\n",
       "      <td>0.0</td>\n",
       "      <td>0.0</td>\n",
       "      <td>...</td>\n",
       "      <td>36.435720</td>\n",
       "      <td>protein_coding</td>\n",
       "      <td>ENSMUSG00000032366.15</td>\n",
       "      <td>protein_coding</td>\n",
       "      <td>Tpm1</td>\n",
       "      <td>chr9</td>\n",
       "      <td>67028047</td>\n",
       "      <td>67043733</td>\n",
       "      <td>-</td>\n",
       "      <td>False</td>\n",
       "    </tr>\n",
       "  </tbody>\n",
       "</table>\n",
       "<p>4 rows × 23 columns</p>\n",
       "</div>"
      ],
      "text/plain": [
       "                      Total_1  Total.P_1  Total.M_1  Nascent_1  Nascent.P_1  \\\n",
       "TranscriptID                                                                  \n",
       "ENSMUST00000113695.7     86.0       44.0       38.0       27.0         13.0   \n",
       "ENSMUST00000113696.7    469.0      230.0      210.0      152.0         86.0   \n",
       "ENSMUST00000113697.7     62.0       39.0       17.0       21.0         12.0   \n",
       "ENSMUST00000113684.7     49.0        0.0        0.0       10.0          0.0   \n",
       "\n",
       "                      Nascent.M_1       TPM_1  Total_2  Total.P_2  Total.M_2  \\\n",
       "TranscriptID                                                                   \n",
       "ENSMUST00000113695.7         12.0   65.392079      3.0        2.0        1.0   \n",
       "ENSMUST00000113696.7         56.0  356.614941     12.0        5.0        6.0   \n",
       "ENSMUST00000113697.7          6.0   47.143127      1.0        0.0        1.0   \n",
       "ENSMUST00000113684.7          0.0   37.258277     37.0        0.0        0.0   \n",
       "\n",
       "                      ...      TPM_2  TranscriptType                 GeneID  \\\n",
       "TranscriptID          ...                                                     \n",
       "ENSMUST00000113695.7  ...   2.954248  protein_coding  ENSMUSG00000032366.15   \n",
       "ENSMUST00000113696.7  ...  11.816990  protein_coding  ENSMUSG00000032366.15   \n",
       "ENSMUST00000113697.7  ...   0.984749  protein_coding  ENSMUSG00000032366.15   \n",
       "ENSMUST00000113684.7  ...  36.435720  protein_coding  ENSMUSG00000032366.15   \n",
       "\n",
       "                            GeneType GeneName Chrom     Start       End  \\\n",
       "TranscriptID                                                              \n",
       "ENSMUST00000113695.7  protein_coding     Tpm1  chr9  67022591  67043802   \n",
       "ENSMUST00000113696.7  protein_coding     Tpm1  chr9  67022589  67043907   \n",
       "ENSMUST00000113697.7  protein_coding     Tpm1  chr9  67022614  67049275   \n",
       "ENSMUST00000113684.7  protein_coding     Tpm1  chr9  67028047  67043733   \n",
       "\n",
       "                     Strand  Canonical  \n",
       "TranscriptID                            \n",
       "ENSMUST00000113695.7      -      False  \n",
       "ENSMUST00000113696.7      -      False  \n",
       "ENSMUST00000113697.7      -      False  \n",
       "ENSMUST00000113684.7      -      False  \n",
       "\n",
       "[4 rows x 23 columns]"
      ]
     },
     "execution_count": 34,
     "metadata": {},
     "output_type": "execute_result"
    }
   ],
   "source": [
    "tmp = mt[mt[\"GeneName\"] == \"Tpm1\"]\n",
    "tmp"
   ]
  },
  {
   "cell_type": "code",
   "execution_count": 31,
   "id": "b50bdacd",
   "metadata": {
    "ExecuteTime": {
     "end_time": "2023-05-31T09:39:31.906721Z",
     "start_time": "2023-05-31T09:39:31.879893Z"
    },
    "hidden": true
   },
   "outputs": [
    {
     "data": {
      "text/html": [
       "<div>\n",
       "<style scoped>\n",
       "    .dataframe tbody tr th:only-of-type {\n",
       "        vertical-align: middle;\n",
       "    }\n",
       "\n",
       "    .dataframe tbody tr th {\n",
       "        vertical-align: top;\n",
       "    }\n",
       "\n",
       "    .dataframe thead th {\n",
       "        text-align: right;\n",
       "    }\n",
       "</style>\n",
       "<table border=\"1\" class=\"dataframe\">\n",
       "  <thead>\n",
       "    <tr style=\"text-align: right;\">\n",
       "      <th></th>\n",
       "      <th>Total_1</th>\n",
       "      <th>Nascent_1</th>\n",
       "      <th>Total_2</th>\n",
       "      <th>Nascent_2</th>\n",
       "    </tr>\n",
       "    <tr>\n",
       "      <th>TranscriptID</th>\n",
       "      <th></th>\n",
       "      <th></th>\n",
       "      <th></th>\n",
       "      <th></th>\n",
       "    </tr>\n",
       "  </thead>\n",
       "  <tbody>\n",
       "    <tr>\n",
       "      <th>ENSMUST00000113696.7</th>\n",
       "      <td>110.0</td>\n",
       "      <td>13.0</td>\n",
       "      <td>12.0</td>\n",
       "      <td>3.0</td>\n",
       "    </tr>\n",
       "    <tr>\n",
       "      <th>ENSMUST00000113684.7</th>\n",
       "      <td>45.0</td>\n",
       "      <td>9.0</td>\n",
       "      <td>37.0</td>\n",
       "      <td>15.0</td>\n",
       "    </tr>\n",
       "    <tr>\n",
       "      <th>ENSMUST00000113695.7</th>\n",
       "      <td>10.0</td>\n",
       "      <td>1.0</td>\n",
       "      <td>3.0</td>\n",
       "      <td>2.0</td>\n",
       "    </tr>\n",
       "  </tbody>\n",
       "</table>\n",
       "</div>"
      ],
      "text/plain": [
       "                      Total_1  Nascent_1  Total_2  Nascent_2\n",
       "TranscriptID                                                \n",
       "ENSMUST00000113696.7    110.0       13.0     12.0        3.0\n",
       "ENSMUST00000113684.7     45.0        9.0     37.0       15.0\n",
       "ENSMUST00000113695.7     10.0        1.0      3.0        2.0"
      ]
     },
     "execution_count": 31,
     "metadata": {},
     "output_type": "execute_result"
    }
   ],
   "source": [
    "tmp[[\"Total_1\", \"Nascent_1\", \"Total_2\", \"Nascent_2\"]]"
   ]
  },
  {
   "cell_type": "markdown",
   "id": "4ce12cc7",
   "metadata": {},
   "source": [
    "# Halflife of cell types"
   ]
  },
  {
   "cell_type": "code",
   "execution_count": 2,
   "id": "8bd73569",
   "metadata": {
    "ExecuteTime": {
     "end_time": "2023-08-06T02:37:15.405495Z",
     "start_time": "2023-08-06T02:37:15.158489Z"
    }
   },
   "outputs": [],
   "source": [
    "anno_g = pd.read_csv(\"/home/chenzonggui/species/mus_musculus/GRCm38.p6/gencode.vM25.genes.tsv\", sep=\"\\t\", index_col=2)"
   ]
  },
  {
   "cell_type": "code",
   "execution_count": 3,
   "id": "3ad2bc65",
   "metadata": {
    "ExecuteTime": {
     "end_time": "2023-08-06T02:37:16.032330Z",
     "start_time": "2023-08-06T02:37:15.872121Z"
    }
   },
   "outputs": [],
   "source": [
    "dat = pd.read_csv(\"seurat_outputs/seurat_metadata_active_ident.tsv\", sep=\"\\t\")\n",
    "dat = dat[np.isnan(dat[\"ActD\"])]\n",
    "dat.index = dat[\"Cell\"]\n",
    "cts = ['TE-1', 'TE-2', 'TE-3', 'ICM', \"EPI\", \"PE-1\", \"PE-2\"]"
   ]
  },
  {
   "cell_type": "code",
   "execution_count": 11,
   "id": "644eac90",
   "metadata": {
    "ExecuteTime": {
     "end_time": "2023-08-06T02:40:19.752410Z",
     "start_time": "2023-08-06T02:39:33.743857Z"
    }
   },
   "outputs": [
    {
     "name": "stderr",
     "output_type": "stream",
     "text": [
      "/home/chenzonggui/miniconda3/envs/py36/lib/python3.6/site-packages/pandas/core/series.py:726: RuntimeWarning: divide by zero encountered in log2\n",
      "  result = getattr(ufunc, method)(*inputs, **kwargs)\n",
      "/home/chenzonggui/miniconda3/envs/py36/lib/python3.6/site-packages/pandas/core/series.py:726: RuntimeWarning: divide by zero encountered in log2\n",
      "  result = getattr(ufunc, method)(*inputs, **kwargs)\n",
      "/home/chenzonggui/miniconda3/envs/py36/lib/python3.6/site-packages/pandas/core/series.py:726: RuntimeWarning: divide by zero encountered in log2\n",
      "  result = getattr(ufunc, method)(*inputs, **kwargs)\n",
      "/home/chenzonggui/miniconda3/envs/py36/lib/python3.6/site-packages/pandas/core/series.py:726: RuntimeWarning: divide by zero encountered in log2\n",
      "  result = getattr(ufunc, method)(*inputs, **kwargs)\n",
      "/home/chenzonggui/miniconda3/envs/py36/lib/python3.6/site-packages/pandas/core/series.py:726: RuntimeWarning: divide by zero encountered in log2\n",
      "  result = getattr(ufunc, method)(*inputs, **kwargs)\n",
      "/home/chenzonggui/miniconda3/envs/py36/lib/python3.6/site-packages/pandas/core/series.py:726: RuntimeWarning: divide by zero encountered in log2\n",
      "  result = getattr(ufunc, method)(*inputs, **kwargs)\n",
      "/home/chenzonggui/miniconda3/envs/py36/lib/python3.6/site-packages/pandas/core/series.py:726: RuntimeWarning: divide by zero encountered in log2\n",
      "  result = getattr(ufunc, method)(*inputs, **kwargs)\n"
     ]
    }
   ],
   "source": [
    "for ct in cts:\n",
    "    d = dat[(dat[\"Time\"] == 3) & (dat[\"s4U\"] == 400) & (dat[\"CellType\"] == ct)]\n",
    "    array_total = []\n",
    "    array_nascent = []\n",
    "    for run, cell in d[[\"Run\", \"Cell\"]].values:\n",
    "        path = \"../../1_NanoNASCseq/results/expression/quantify/2TC/%s/%s/quant_gene.tsv.gz\" % (run, cell)\n",
    "        expr = pd.read_csv(gzip.open(path, \"rt\"), sep=\"\\t\", index_col=0)\n",
    "        s = expr[\"Total\"]\n",
    "        s.name = cell\n",
    "        array_total.append(s)\n",
    "        s = expr[\"Nascent\"]\n",
    "        s.name = cell\n",
    "        array_nascent.append(s)\n",
    "    d_total = pd.concat(array_total, axis=1).fillna(0)\n",
    "    s_total = d_total.sum(axis=1)\n",
    "    s_total.name = \"Total\"\n",
    "    d_nascent = pd.concat(array_nascent, axis=1).fillna(0)\n",
    "    s_nascent = d_nascent.sum(axis=1)\n",
    "    s_nascent.name = \"Nascent\"\n",
    "    d_merged = pd.concat([s_total, s_nascent], axis=1).fillna(0)\n",
    "    d_merged.index.name = \"GeneID\"\n",
    "    d_merged[\"TPM\"] = d_merged[\"Total\"] * 1e6 / d_merged[\"Total\"].sum()\n",
    "    d_merged[\"NTR\"] = d_merged[\"Nascent\"] / d_merged[\"Total\"]\n",
    "    d_merged[\"T\"] = -3 / np.log2(1 - d_merged[\"NTR\"])\n",
    "    d_merged[\"K\"] = d_merged[\"TPM\"] * np.log(2) / d_merged[\"T\"]\n",
    "    d_merged = d_merged.merge(anno_g, left_index=True, right_index=True, how=\"inner\")\n",
    "    d_merged.to_csv(\"halflife/%s.tsv\" % ct, sep=\"\\t\")\n",
    "    #break"
   ]
  },
  {
   "cell_type": "code",
   "execution_count": 12,
   "id": "7747e543",
   "metadata": {
    "ExecuteTime": {
     "end_time": "2023-08-06T03:28:23.047410Z",
     "start_time": "2023-08-06T03:28:22.169055Z"
    },
    "scrolled": false
   },
   "outputs": [
    {
     "data": {
      "image/png": "[encoded data removed]",
      "text/plain": [
       "<Figure size 288x216 with 1 Axes>"
      ]
     },
     "metadata": {
      "needs_background": "light"
     },
     "output_type": "display_data"
    }
   ],
   "source": [
    "def get_xy(vs):\n",
    "    w = 0.05\n",
    "    xmax = 1\n",
    "    xs = np.arange(0, xmax, w)\n",
    "    ys = np.zeros(int(xmax / w))\n",
    "    for v in vs:\n",
    "        i = int(v / w)\n",
    "        if i < len(ys):\n",
    "            ys[i] += 1\n",
    "    ys = ys * 100 / len(vs)\n",
    "    return xs, ys\n",
    "\n",
    "\n",
    "plt.figure(figsize=(4, 3))\n",
    "for ct in cts:\n",
    "    d = pd.read_csv(\"halflife/%s.tsv\" % ct, sep=\"\\t\", index_col=0)\n",
    "    d = d[(d[\"GeneType\"] == \"protein_coding\") & (d[\"Total\"] >= 50) & (d[\"Nascent\"] > 0) & (d[\"Nascent\"] < d[\"Total\"])]\n",
    "    # xs, ys = get_xy(np.log2(d[\"T\"]))\n",
    "    xs, ys = get_xy(d[\"NTR\"])\n",
    "    plt.plot(xs, ys, label=ct, clip_on=False)\n",
    "plt.gca().spines[\"top\"].set_visible(False)\n",
    "plt.gca().spines[\"right\"].set_visible(False)\n",
    "plt.xlabel(\"NTR\")\n",
    "plt.ylabel(\"Cumulative fraction\")\n",
    "plt.xlim(0, 1)\n",
    "plt.ylim(0, 15)\n",
    "plt.legend(ncol=1, loc=\"upper left\", bbox_to_anchor=(1, 1))\n",
    "plt.tight_layout()\n",
    "plt.show()\n",
    "# plt.savefig(\"figures/ntr_cumulative_fraction.pdf\", dpi=300)"
   ]
  },
  {
   "cell_type": "code",
   "execution_count": 13,
   "id": "ae87a959",
   "metadata": {
    "ExecuteTime": {
     "end_time": "2023-08-06T03:28:47.849808Z",
     "start_time": "2023-08-06T03:28:46.799783Z"
    }
   },
   "outputs": [
    {
     "data": {
      "image/png": "[encoded data removed]",
      "text/plain": [
       "<Figure size 288x216 with 1 Axes>"
      ]
     },
     "metadata": {
      "needs_background": "light"
     },
     "output_type": "display_data"
    }
   ],
   "source": [
    "def get_xy(vs):\n",
    "    xs = np.array(list(sorted(vs)))\n",
    "    ys = np.arange(0, len(xs)) / len(xs)\n",
    "    return xs, ys\n",
    "\n",
    "plt.figure(figsize=(4, 3))\n",
    "for ct in cts:\n",
    "    d = pd.read_csv(\"halflife/%s.tsv\" % ct, sep=\"\\t\", index_col=0)\n",
    "    d = d[(d[\"GeneType\"] == \"protein_coding\") & (d[\"Total\"] >= 50)]\n",
    "    xs, ys = get_xy(d[\"NTR\"])\n",
    "    plt.plot(xs, ys, label=ct, clip_on=False)\n",
    "plt.gca().spines[\"top\"].set_visible(False)\n",
    "plt.gca().spines[\"right\"].set_visible(False)\n",
    "plt.xlabel(\"NTR\")\n",
    "plt.ylabel(\"Cumulative fraction\")\n",
    "plt.xlim(0, 1)\n",
    "plt.ylim(0, 1)\n",
    "plt.legend(ncol=1, loc=\"upper left\", bbox_to_anchor=(1, 1))\n",
    "plt.tight_layout()\n",
    "plt.savefig(\"figures/ntr_cumulative_fraction.pdf\", dpi=300)"
   ]
  },
  {
   "cell_type": "code",
   "execution_count": 14,
   "id": "22ae8f7e",
   "metadata": {
    "ExecuteTime": {
     "end_time": "2023-08-06T03:28:59.070198Z",
     "start_time": "2023-08-06T03:28:55.853193Z"
    }
   },
   "outputs": [],
   "source": [
    "m = np.zeros((len(cts), len(cts)))\n",
    "for i in range(len(cts)):\n",
    "    for j in range(len(cts)):\n",
    "        if i < j:\n",
    "            r = 0\n",
    "            \n",
    "            ct = cts[i]\n",
    "            d = pd.read_csv(\"halflife/%s.tsv\" % ct, sep=\"\\t\", index_col=0)\n",
    "            d = d[(d[\"GeneType\"] == \"protein_coding\") & (d[\"Total\"] >= 50)]\n",
    "            s1 = d[\"NTR\"]\n",
    "            \n",
    "            ct = cts[j]\n",
    "            d = pd.read_csv(\"halflife/%s.tsv\" % ct, sep=\"\\t\", index_col=0)\n",
    "            d = d[(d[\"GeneType\"] == \"protein_coding\") & (d[\"Total\"] >= 50)]\n",
    "            s2 = d[\"NTR\"]\n",
    "            \n",
    "            d = pd.concat([s1, s2], axis=1, join=\"inner\")\n",
    "            r = d.corr().values[0][1]\n",
    "            \n",
    "            m[i][j] = r\n",
    "            m[j][i] = r\n",
    "        elif i == j:\n",
    "            m[i][j] = 1\n",
    "            \n",
    "m = pd.DataFrame(m, index=cts, columns=cts)"
   ]
  },
  {
   "cell_type": "code",
   "execution_count": 15,
   "id": "ddb7c4cc",
   "metadata": {
    "ExecuteTime": {
     "end_time": "2023-08-06T03:28:59.593350Z",
     "start_time": "2023-08-06T03:28:59.072797Z"
    }
   },
   "outputs": [
    {
     "data": {
      "image/png": "[encoded data removed]",
      "text/plain": [
       "<Figure size 252x216 with 2 Axes>"
      ]
     },
     "metadata": {
      "needs_background": "light"
     },
     "output_type": "display_data"
    }
   ],
   "source": [
    "plt.figure(figsize=(3.5, 3))\n",
    "plt.title(\"Correlation of NTR\")\n",
    "sns.heatmap(m, cmap=\"bwr\", vmin=0.8, vmax=1)\n",
    "plt.xticks(rotation=45)\n",
    "plt.yticks(rotation=45)\n",
    "plt.tight_layout()\n",
    "plt.savefig(\"figures/ntr_correlation_heatmap.pdf\", dpi=300)"
   ]
  },
  {
   "cell_type": "code",
   "execution_count": 16,
   "id": "38e1ca31",
   "metadata": {
    "ExecuteTime": {
     "end_time": "2023-08-06T03:29:04.713096Z",
     "start_time": "2023-08-06T03:29:04.067744Z"
    }
   },
   "outputs": [
    {
     "data": {
      "image/png": "[encoded data removed]",
      "text/plain": [
       "<Figure size 216x216 with 4 Axes>"
      ]
     },
     "metadata": {
      "needs_background": "light"
     },
     "output_type": "display_data"
    }
   ],
   "source": [
    "ret = sns.clustermap(m, figsize=(3, 3), cmap=\"bwr\", vmin=0.8, vmax=1)\n",
    "ret.fig.savefig(\"figures/ntr_correlation_clustermap.pdf\", dpi=300)"
   ]
  },
  {
   "cell_type": "code",
   "execution_count": 207,
   "id": "17a1b2f3",
   "metadata": {
    "ExecuteTime": {
     "end_time": "2023-05-26T12:06:06.299774Z",
     "start_time": "2023-05-26T12:06:05.753438Z"
    }
   },
   "outputs": [
    {
     "name": "stdout",
     "output_type": "stream",
     "text": [
      "2570\n"
     ]
    }
   ],
   "source": [
    "array = []\n",
    "for ct in cts:\n",
    "    d = pd.read_csv(\"halflife/%s.tsv\" % ct, sep=\"\\t\", index_col=0)\n",
    "    d = d[(d[\"GeneType\"] == \"protein_coding\") & (d[\"Total\"] >= 50)]\n",
    "    s = d[\"NTR\"]\n",
    "    s.name = ct\n",
    "    array.append(s)\n",
    "d = pd.concat(array, axis=1, join=\"inner\")\n",
    "d.index = anno_g.loc[d.index][\"GeneName\"]\n",
    "print(len(d))"
   ]
  },
  {
   "cell_type": "code",
   "execution_count": 219,
   "id": "04abc541",
   "metadata": {
    "ExecuteTime": {
     "end_time": "2023-05-26T12:12:00.658059Z",
     "start_time": "2023-05-26T12:11:59.553098Z"
    },
    "scrolled": false
   },
   "outputs": [
    {
     "data": {
      "text/plain": [
       "<seaborn.matrix.ClusterGrid at 0x7f5ba880f048>"
      ]
     },
     "execution_count": 219,
     "metadata": {},
     "output_type": "execute_result"
    },
    {
     "data": {
      "image/png": "[encoded data removed]",
      "text/plain": [
       "<Figure size 360x432 with 4 Axes>"
      ]
     },
     "metadata": {
      "needs_background": "light"
     },
     "output_type": "display_data"
    }
   ],
   "source": [
    "sns.clustermap(d, z_score=0, cmap=\"bwr\", vmin=-2, vmax=2, figsize=(5, 6), cbar_kws={\"label\": \"z-score\"})"
   ]
  },
  {
   "cell_type": "markdown",
   "id": "49fc40c2",
   "metadata": {
    "heading_collapsed": true
   },
   "source": [
    "# Comparison of change of K and A0"
   ]
  },
  {
   "cell_type": "code",
   "execution_count": 4,
   "id": "c6c75c89",
   "metadata": {
    "ExecuteTime": {
     "end_time": "2023-06-25T10:55:37.088437Z",
     "start_time": "2023-06-25T10:55:36.844286Z"
    },
    "hidden": true,
    "scrolled": true
   },
   "outputs": [],
   "source": [
    "anno_g = pd.read_csv(\"/home/chenzonggui/species/mus_musculus/GRCm38.p6/gencode.vM25.genes.tsv\", sep=\"\\t\", index_col=2)\n",
    "dat = pd.read_csv(\"seurat_outputs/seurat_metadata_active_ident.tsv\", sep=\"\\t\")\n",
    "dat = dat[np.isnan(dat[\"ActD\"])]\n",
    "dat.index = dat[\"Cell\"]\n",
    "cts = ['TE-1', 'TE-2', 'TE-3', 'ICM', \"EPI\", \"PE-1\", \"PE-2\"]"
   ]
  },
  {
   "cell_type": "code",
   "execution_count": 9,
   "id": "98511e22",
   "metadata": {
    "ExecuteTime": {
     "end_time": "2023-06-25T10:57:41.226185Z",
     "start_time": "2023-06-25T10:56:53.821732Z"
    },
    "hidden": true
   },
   "outputs": [
    {
     "name": "stdout",
     "output_type": "stream",
     "text": [
      "TE-1\t204\n",
      "TE-2\t211\n",
      "TE-3\t124\n",
      "ICM\t434\n",
      "EPI\t200\n",
      "PE-1\t87\n",
      "PE-2\t112\n"
     ]
    }
   ],
   "source": [
    "data = dict()\n",
    "for ct in cts:\n",
    "    d = dat[(dat[\"CellType\"] == ct) & (dat[\"s4U\"] == 400) & (dat[\"Time\"] == 3)]\n",
    "    print(ct, len(d), sep=\"\\t\")\n",
    "\n",
    "    array1 = []\n",
    "    array2 = []\n",
    "    for run, cell in d[[\"Run\", \"Cell\"]].values:\n",
    "        path = \"../../1_NanoNASCseq/results/expression/quantify.v2/2TC/%s/%s/quant_gene.tsv.gz\" % (run, cell)\n",
    "        df = pd.read_csv(gzip.open(path, \"rt\"), sep=\"\\t\", index_col=0)\n",
    "        df = df.merge(anno_g, left_index=True, right_index=True)\n",
    "        # df = df[df[\"Canonical\"]]\n",
    "        df = df[~df[\"GeneName\"].duplicated()]\n",
    "        df.index = df[\"GeneName\"]\n",
    "        s1 = df[\"Total\"]\n",
    "        s1.name = cell\n",
    "        s2 = df[\"Nascent\"]\n",
    "        s2.name = cell\n",
    "        array1.append(s1)\n",
    "        array2.append(s2)\n",
    "    s1 = pd.concat(array1, axis=1, sort=False).fillna(0).sum(axis=1)\n",
    "    s1.name = \"Total\"\n",
    "    s2 = pd.concat(array2, axis=1, sort=False).fillna(0).sum(axis=1)\n",
    "    s2.name = \"Nascent\"\n",
    "    df = pd.concat([s1, s2], axis=1)\n",
    "    df[\"NTR\"] = df[\"Nascent\"] / df[\"Total\"]\n",
    "    df = df[(df[\"Total\"] >= 20) & (df[\"Nascent\"] > 0) & (df[\"Nascent\"] < df[\"Total\"])]\n",
    "    data[ct] = df"
   ]
  },
  {
   "cell_type": "code",
   "execution_count": 11,
   "id": "92a51c24",
   "metadata": {
    "ExecuteTime": {
     "end_time": "2023-06-25T10:59:03.545603Z",
     "start_time": "2023-06-25T10:59:03.499505Z"
    },
    "hidden": true
   },
   "outputs": [],
   "source": [
    "for ct, df in data.items():\n",
    "    df[\"TPM\"] = df[\"Total\"] * 1e6 / df[\"Total\"].sum()\n",
    "    df[\"T\"] = -3 / np.log2(1 - (df[\"Nascent\"] / df[\"Total\"]))\n",
    "    df[\"K\"] = df[\"TPM\"] * np.log(2) / df[\"T\"]"
   ]
  },
  {
   "cell_type": "code",
   "execution_count": 41,
   "id": "35e12f94",
   "metadata": {
    "ExecuteTime": {
     "end_time": "2023-06-25T11:31:14.995865Z",
     "start_time": "2023-06-25T11:31:01.327543Z"
    },
    "hidden": true,
    "scrolled": false
   },
   "outputs": [
    {
     "data": {
      "image/png": "[encoded data removed]",
      "text/plain": [
       "<Figure size 792x792 with 36 Axes>"
      ]
     },
     "metadata": {
      "needs_background": "light"
     },
     "output_type": "display_data"
    }
   ],
   "source": [
    "fig, axs = plt.subplots(len(cts) - 1, len(cts) - 1, figsize=(11, 11), \n",
    "                        sharex=True, sharey=True, \n",
    "                        #gridspec_kw={\"hspace\": 0.1, \"wspace\": 0.1}\n",
    "                       )\n",
    "\n",
    "genes = [\"Sox2\", \"Cdx2\", \"Eomes\", \"Gata3\", \"Gata4\", \"Gata6\", \"Gapdh\", \"Sox17\", \"Pdlim5\"]\n",
    "colors = [\"C0\", \"C1\", \"C2\", \"C3\", \"C4\", \"C5\", \"C6\", \"C8\", \"C9\"]\n",
    "    \n",
    "for i in range(len(cts) - 1):\n",
    "    for j in range(len(cts) - 1):\n",
    "        ax = axs[j][i]\n",
    "        if i > j:\n",
    "            ax.set_visible(False)\n",
    "            continue\n",
    "        \n",
    "        plt.sca(ax)\n",
    "        \n",
    "        ct1 = cts[i]\n",
    "        ct2 = cts[j + 1]\n",
    "        df1 = data[ct1]\n",
    "        df2 = data[ct2]\n",
    "        df = df1.merge(df2, left_index=True, right_index=True, suffixes=[\"_1\", \"_2\"])\n",
    "        df[\"Mean_TPM\"] = df[[\"TPM_1\", \"TPM_2\"]].mean(axis=1)\n",
    "        df[\"Log2FC_TPM\"] = np.log2(df[\"TPM_2\"] / df[\"TPM_1\"])\n",
    "        df[\"Log2FC_K\"] = np.log2(df[\"K_2\"] / df[\"K_1\"])\n",
    "        df = df[np.isfinite(df[\"Log2FC_TPM\"])]\n",
    "        df = df[np.isfinite(df[\"Log2FC_K\"])]\n",
    "        df = df[df[\"Mean_TPM\"] > 50]\n",
    "\n",
    "        xs = df[\"Log2FC_TPM\"].values\n",
    "        ys = df[\"Log2FC_K\"].values\n",
    "        a, b = 0, 0\n",
    "        try:\n",
    "            a, b = np.polyfit(xs, ys, 1)\n",
    "        except Exception:\n",
    "            pass\n",
    "\n",
    "        plt.scatter(xs, ys, alpha=1, s=10, color=\"lightgrey\")\n",
    "        \n",
    "        for m, gname in enumerate(genes):\n",
    "            try:\n",
    "                row = df.loc[gname]\n",
    "                x, y = row[\"Log2FC_TPM\"], row[\"Log2FC_K\"]\n",
    "                plt.scatter([x], [y], color=colors[m], label=gname)\n",
    "            except:\n",
    "                pass\n",
    "\n",
    "        xs1 = [-10, 10]\n",
    "        ys1 = [a * x + b for x in xs1]\n",
    "        plt.plot(xs1, ys1, lw=1, color=\"black\", ls=\"--\")\n",
    "        plt.axvline(0, lw=1, ls=\"--\", color=\"lightgrey\")\n",
    "        plt.axhline(0, lw=1, ls=\"--\", color=\"lightgrey\")\n",
    "        plt.plot([-10, 10], [-10, 10], ls=\"-\", lw=1, color=\"black\")\n",
    "\n",
    "        if i == 0:\n",
    "            plt.ylabel(ct2)\n",
    "            \n",
    "        #if j != len(cts) - 1:\n",
    "        #    plt.xticks([])\n",
    "        #if i != 0:\n",
    "        #    plt.yticks([])\n",
    "        \n",
    "        if j == len(cts) - 2:\n",
    "            plt.xlabel(ct1)\n",
    "            \n",
    "\n",
    "        \n",
    "plt.tight_layout()\n",
    "# plt.show()\n",
    "plt.savefig(\"figures/blastocyst_dynamic_tmp_vs_synthesis.pdf\", dpi=300)"
   ]
  },
  {
   "cell_type": "code",
   "execution_count": 28,
   "id": "54f111d2",
   "metadata": {
    "ExecuteTime": {
     "end_time": "2023-06-25T11:06:42.380605Z",
     "start_time": "2023-06-25T11:06:41.591125Z"
    },
    "hidden": true
   },
   "outputs": [
    {
     "data": {
      "image/png": "[encoded data removed]",
      "text/plain": [
       "<Figure size 216x216 with 1 Axes>"
      ]
     },
     "metadata": {},
     "output_type": "display_data"
    }
   ],
   "source": [
    "plt.figure(figsize=(3, 3))\n",
    "for g, c in zip(genes, colors):\n",
    "    plt.scatter(0, 0, color=c, label=g)\n",
    "plt.xlim(1, 2)\n",
    "plt.legend(ncol=2)\n",
    "plt.xticks([])\n",
    "plt.yticks([])\n",
    "plt.gca().spines[\"top\"].set_visible(False)\n",
    "plt.gca().spines[\"bottom\"].set_visible(False)\n",
    "plt.gca().spines[\"left\"].set_visible(False)\n",
    "plt.gca().spines[\"right\"].set_visible(False)\n",
    "\n",
    "plt.tight_layout()\n",
    "plt.savefig(\"figures/blastocyst_dynamic_tmp_vs_synthesis.legend.pdf\", dpi=300)"
   ]
  },
  {
   "cell_type": "markdown",
   "id": "fd78da9a",
   "metadata": {
    "ExecuteTime": {
     "end_time": "2023-03-23T07:34:32.553181Z",
     "start_time": "2023-03-23T07:34:32.547759Z"
    },
    "heading_collapsed": true
   },
   "source": [
    "# Labeling efficient"
   ]
  },
  {
   "cell_type": "code",
   "execution_count": 2,
   "id": "ea092312",
   "metadata": {
    "ExecuteTime": {
     "end_time": "2023-03-27T02:56:17.635703Z",
     "start_time": "2023-03-27T02:56:17.526739Z"
    },
    "hidden": true
   },
   "outputs": [
    {
     "name": "stdout",
     "output_type": "stream",
     "text": [
      "1904\n",
      "Counter({'ICM-2': 373, 'PE': 283, 'TE-3': 257, 'TE-1': 196, 'EPI-2': 164, 'EPI-1': 162, 'ICM-1': 147, 'TE-2': 140, 'TE-4': 92, 'Unknown': 57, 'Molura': 33})\n"
     ]
    }
   ],
   "source": [
    "dat = pd.read_csv(\"results/blastocyst/seurat_metadata.cell_type.tsv\", sep=\"\\t\")\n",
    "dat = dat[(dat[\"s4U\"] == 400) & (dat[\"Time\"] == 3)]\n",
    "print(len(dat))\n",
    "print(Counter(dat[\"CellType\"]))"
   ]
  },
  {
   "cell_type": "code",
   "execution_count": 3,
   "id": "348a6fa5",
   "metadata": {
    "ExecuteTime": {
     "end_time": "2023-03-27T02:56:19.818995Z",
     "start_time": "2023-03-27T02:56:19.810663Z"
    },
    "hidden": true
   },
   "outputs": [],
   "source": [
    "cts = list(sorted(set(dat[\"CellType\"])))\n",
    "cts = ['Molura', 'ICM-1', 'ICM-2', 'EPI-1', 'EPI-2', 'PE', 'TE-1', 'TE-2', 'TE-3', 'TE-4']"
   ]
  },
  {
   "cell_type": "code",
   "execution_count": 5,
   "id": "c174da5e",
   "metadata": {
    "ExecuteTime": {
     "end_time": "2023-03-27T02:59:33.319934Z",
     "start_time": "2023-03-27T02:58:49.507435Z"
    },
    "hidden": true
   },
   "outputs": [],
   "source": [
    "mismatch_ratios = dict()\n",
    "for run, cell in dat[[\"Run\", \"Cell\"]].values:\n",
    "    path = \"results/nascent/ratio/%s/%s/ratio.ce.tsv\" % (run, cell)\n",
    "    df = pd.read_csv(path, sep=\"\\t\", index_col=0)\n",
    "    mismatch_ratios[cell] = df[\"Ratio\"][\"TC\"]"
   ]
  },
  {
   "cell_type": "code",
   "execution_count": 42,
   "id": "00a3da57",
   "metadata": {
    "ExecuteTime": {
     "end_time": "2023-03-27T05:06:54.656747Z",
     "start_time": "2023-03-27T05:04:43.902897Z"
    },
    "hidden": true,
    "scrolled": true
   },
   "outputs": [],
   "source": [
    "label_efficiencies = dict()\n",
    "for run, cell in dat[[\"Run\", \"Cell\"]].values:\n",
    "    path = \"results/nascent/marked_nascent/%s/%s_metrics.txt\" % (run, cell)\n",
    "    df = pd.read_csv(path, sep=\"\\t\", header=None)\n",
    "    df = df[(df[4] >= 2) & (df[8] >= 1)]\n",
    "    label_efficiencies[cell] = df[8] / df[7]"
   ]
  },
  {
   "cell_type": "code",
   "execution_count": 31,
   "id": "03fef129",
   "metadata": {
    "ExecuteTime": {
     "end_time": "2023-03-27T03:14:40.322893Z",
     "start_time": "2023-03-27T03:14:39.686120Z"
    },
    "hidden": true
   },
   "outputs": [
    {
     "name": "stdout",
     "output_type": "stream",
     "text": [
      "0\tMolura\t15\t18\n",
      "1\tICM-1\t33\t114\n",
      "2\tICM-2\t77\t296\n",
      "3\tEPI-1\t34\t128\n",
      "4\tEPI-2\t18\t146\n",
      "5\tPE\t48\t235\n",
      "6\tTE-1\t29\t167\n",
      "7\tTE-2\t16\t124\n",
      "8\tTE-3\t25\t232\n",
      "9\tTE-4\t7\t85\n"
     ]
    },
    {
     "data": {
      "image/png": "[encoded data removed]",
      "text/plain": [
       "<Figure size 432x288 with 1 Axes>"
      ]
     },
     "metadata": {
      "needs_background": "light"
     },
     "output_type": "display_data"
    }
   ],
   "source": [
    "xs = np.arange(len(cts))\n",
    "array = []\n",
    "plt.figure(figsize=(6, 4))\n",
    "for i, ct in enumerate(cts):\n",
    "    d = dat[dat[\"CellType\"] == ct]\n",
    "    d1 = d[[not s.endswith(\"X\") for s in d[\"Strain\"]]]\n",
    "    d2 = d[[s.endswith(\"X\") for s in d[\"Strain\"]]]\n",
    "    vs1 = [mismatch_ratios[cell] for cell in d1[\"Cell\"]]\n",
    "    vs2 = [mismatch_ratios[cell] for cell in d2[\"Cell\"]]\n",
    "    print(i, ct, len(d1), len(d2), sep=\"\\t\")\n",
    "    plt.boxplot([vs1, vs2], positions=[i - 0.1, i + 0.1], widths=0.1, showfliers=False, showmeans=True)\n",
    "plt.xticks(xs, cts, rotation=45)\n",
    "plt.ylim(0, 0.06)\n",
    "plt.ylabel(\"Mismatch ratio\")\n",
    "plt.tight_layout()\n",
    "plt.show()"
   ]
  },
  {
   "cell_type": "code",
   "execution_count": 43,
   "id": "5873d064",
   "metadata": {
    "ExecuteTime": {
     "end_time": "2023-03-27T05:06:57.632786Z",
     "start_time": "2023-03-27T05:06:54.660133Z"
    },
    "hidden": true
   },
   "outputs": [
    {
     "name": "stdout",
     "output_type": "stream",
     "text": [
      "0\tMolura\t15\t18\n",
      "1\tICM-1\t33\t114\n",
      "2\tICM-2\t77\t296\n",
      "3\tEPI-1\t34\t128\n",
      "4\tEPI-2\t18\t146\n",
      "5\tPE\t48\t235\n",
      "6\tTE-1\t29\t167\n",
      "7\tTE-2\t16\t124\n",
      "8\tTE-3\t25\t232\n",
      "9\tTE-4\t7\t85\n"
     ]
    },
    {
     "data": {
      "image/png": "[encoded data removed]",
      "text/plain": [
       "<Figure size 432x288 with 1 Axes>"
      ]
     },
     "metadata": {
      "needs_background": "light"
     },
     "output_type": "display_data"
    }
   ],
   "source": [
    "def flatten(array):\n",
    "    vs = []\n",
    "    for vs1 in array:\n",
    "        vs.extend(vs1)\n",
    "    return vs\n",
    "    \n",
    "xs = np.arange(len(cts))\n",
    "array = []\n",
    "plt.figure(figsize=(6, 4))\n",
    "for i, ct in enumerate(cts):\n",
    "    d = dat[dat[\"CellType\"] == ct]\n",
    "    d1 = d[[not s.endswith(\"X\") for s in d[\"Strain\"]]]\n",
    "    d2 = d[[s.endswith(\"X\") for s in d[\"Strain\"]]]\n",
    "    print(i, ct, len(d1), len(d2), sep=\"\\t\")\n",
    "    vs0 = flatten([label_efficiencies[cell] for cell in d[\"Cell\"]])\n",
    "    vs1 = flatten([label_efficiencies[cell] for cell in d1[\"Cell\"]])\n",
    "    vs2 = flatten([label_efficiencies[cell] for cell in d2[\"Cell\"]])\n",
    "    plt.boxplot([vs0, vs1, vs2], positions=[i - 0.3, i - 0.1, i + 0.1],  widths=0.1, showfliers=False, showmeans=True)\n",
    "plt.xticks(xs, cts, rotation=45)\n",
    "# plt.ylim(0, 0.06)\n",
    "plt.ylabel(\"Labeling efficiency\")\n",
    "plt.tight_layout()\n",
    "plt.show()"
   ]
  },
  {
   "cell_type": "code",
   "execution_count": 2,
   "id": "d2d39adc",
   "metadata": {
    "ExecuteTime": {
     "end_time": "2023-04-03T12:37:19.154551Z",
     "start_time": "2023-04-03T12:37:19.149133Z"
    },
    "hidden": true
   },
   "outputs": [],
   "source": [
    "# "
   ]
  },
  {
   "cell_type": "code",
   "execution_count": 13,
   "id": "6ea6fce4",
   "metadata": {
    "ExecuteTime": {
     "end_time": "2023-04-03T12:43:44.643294Z",
     "start_time": "2023-04-03T12:43:44.533565Z"
    },
    "hidden": true
   },
   "outputs": [],
   "source": [
    "dat = pd.read_csv(\"results/blastocyst/seurat_metadata.cell_type.tsv\", sep=\"\\t\")\n",
    "counter = dict()\n",
    "for s4u, time, strain, celltype in dat[[\"s4U\", \"Time\", \"Strain\", \"CellType\"]].values:\n",
    "    celltype = celltype.split(\"-\")[0]\n",
    "    if strain.endswith(\"X\"):\n",
    "        s = 1\n",
    "    else:\n",
    "        s = 0\n",
    "    k = (s4u, time, celltype)\n",
    "    if k not in counter:\n",
    "        counter[k] = [0, 0]\n",
    "    counter[(s4u, time, celltype)][s] += 1\n",
    "rows = []\n",
    "for (s4u, time, ct), (count1, count2) in counter.items():\n",
    "    rows.append([s4u, time, ct, count1, count2])\n",
    "d = pd.DataFrame(rows)\n",
    "d.columns = [\"s4U\", \"Time\", \"CellType\", \"Count\", \"CountX\"]\n",
    "d.to_excel(\"results/cell_type.count.xlsx\", index=False)"
   ]
  },
  {
   "cell_type": "markdown",
   "id": "6704a9bb",
   "metadata": {
    "heading_collapsed": true
   },
   "source": [
    "# Quantitative"
   ]
  },
  {
   "cell_type": "code",
   "execution_count": 2,
   "id": "e91b1f41",
   "metadata": {
    "ExecuteTime": {
     "end_time": "2023-06-25T13:10:52.348672Z",
     "start_time": "2023-06-25T13:10:51.792481Z"
    },
    "hidden": true
   },
   "outputs": [],
   "source": [
    "anno_t = pd.read_csv(\"/home/chenzonggui/species/mus_musculus/GRCm38.p6/gencode.vM25.annotation.tsv\", sep=\"\\t\", index_col=0)\n",
    "anno_g = pd.read_csv(\"/home/chenzonggui/species/mus_musculus/GRCm38.p6/gencode.vM25.genes.tsv\", sep=\"\\t\", index_col=2)"
   ]
  },
  {
   "cell_type": "code",
   "execution_count": 3,
   "id": "2c4226e5",
   "metadata": {
    "ExecuteTime": {
     "end_time": "2023-06-25T13:10:52.379154Z",
     "start_time": "2023-06-25T13:10:52.351314Z"
    },
    "hidden": true
   },
   "outputs": [
    {
     "data": {
      "text/plain": [
       "1424"
      ]
     },
     "execution_count": 3,
     "metadata": {},
     "output_type": "execute_result"
    }
   ],
   "source": [
    "dat = pd.read_csv(\"seurat_outputs/seurat_metadata_active_ident.tsv\", sep=\"\\t\")\n",
    "dat = dat[(dat[\"s4U\"] == 400) & (dat[\"Time\"] == 3) & (np.isnan(dat[\"ActD\"]))]\n",
    "len(dat)"
   ]
  },
  {
   "cell_type": "code",
   "execution_count": 29,
   "id": "848b5f9d",
   "metadata": {
    "ExecuteTime": {
     "end_time": "2023-06-25T13:19:11.140140Z",
     "start_time": "2023-06-25T13:19:11.061847Z"
    },
    "hidden": true,
    "scrolled": true
   },
   "outputs": [
    {
     "name": "stdout",
     "output_type": "stream",
     "text": [
      "76\n"
     ]
    }
   ],
   "source": [
    "tmp = pd.read_excel(\"data/nature23262-s1/Table S7. List of putative H3K27me3-dependent imprinted genes.xlsx\")\n",
    "gnames = list(tmp[\"gene_name\"])\n",
    "print(len(gnames))"
   ]
  },
  {
   "cell_type": "code",
   "execution_count": 31,
   "id": "7363fc7d",
   "metadata": {
    "ExecuteTime": {
     "end_time": "2023-06-25T13:19:21.113974Z",
     "start_time": "2023-06-25T13:19:19.985641Z"
    },
    "hidden": true,
    "scrolled": true
   },
   "outputs": [
    {
     "name": "stdout",
     "output_type": "stream",
     "text": [
      "688\n"
     ]
    }
   ],
   "source": [
    "tmp = pd.read_excel(\"data/nature23262-s1/Table S1. Ps-DHSs, Ms-DHSs, and bi-allelic DHSs in zygotes.xlsx\")\n",
    "gnames = list(tmp[\"Nearst gene\"])\n",
    "print(len(gnames))"
   ]
  },
  {
   "cell_type": "code",
   "execution_count": 32,
   "id": "47b60f85",
   "metadata": {
    "ExecuteTime": {
     "end_time": "2023-06-25T13:19:23.369219Z",
     "start_time": "2023-06-25T13:19:21.864140Z"
    },
    "hidden": true
   },
   "outputs": [
    {
     "data": {
      "image/png": "[encoded data removed]",
      "text/plain": [
       "<Figure size 216x216 with 1 Axes>"
      ]
     },
     "metadata": {
      "needs_background": "light"
     },
     "output_type": "display_data"
    },
    {
     "data": {
      "image/png": "[encoded data removed]",
      "text/plain": [
       "<Figure size 216x216 with 1 Axes>"
      ]
     },
     "metadata": {
      "needs_background": "light"
     },
     "output_type": "display_data"
    },
    {
     "data": {
      "image/png": "[encoded data removed]",
      "text/plain": [
       "<Figure size 216x216 with 1 Axes>"
      ]
     },
     "metadata": {
      "needs_background": "light"
     },
     "output_type": "display_data"
    }
   ],
   "source": [
    "for ct in [\"EPI\", \"TE-3\", \"PE-2\"]:\n",
    "    d = dat[(dat[\"CellType\"] == ct) & (dat[\"s4U\"] == 400) & (dat[\"Time\"] == 3) & (np.isnan(dat[\"ActD\"]))]\n",
    "    len(d)\n",
    "    \n",
    "    m = pd.read_csv(\"expression/cell_types/quant_transcript.%s.tsv\" % ct, sep=\"\\t\", index_col=0)\n",
    "    m.columns = ['Total', 'Total.M', 'Total.P', 'Nascent', 'Nascent.M', 'Nascent.P']\n",
    "    m = m.merge(anno_t, left_index=True, right_index=True)\n",
    "    m[\"NTR.P\"] = m[\"Nascent.P\"] / m[\"Total.P\"]\n",
    "    m[\"NTR.M\"] = m[\"Nascent.M\"] / m[\"Total.M\"]\n",
    "\n",
    "    xs = m[\"Total.P\"] # paternal\n",
    "    ys = m[\"Total.M\"] # maternal\n",
    "    xs = np.log2(xs + 1)\n",
    "    ys = np.log2(ys + 1)\n",
    "    \n",
    "    m1 = m[[gname in gnames for gname in m[\"GeneName\"]]]\n",
    "    xs1 = m1[\"Total.P\"] # paternal\n",
    "    ys1 = m1[\"Total.M\"] # maternal\n",
    "    xs1 = np.log2(xs1 + 1)\n",
    "    ys1 = np.log2(ys1 + 1)\n",
    "    \n",
    "    plt.figure(figsize=(3, 3))\n",
    "    plt.scatter(xs, ys, marker=\"o\", s=5, color=\"C0\")\n",
    "    plt.scatter(xs1, ys1, marker=\"o\", s=10, color=\"red\")\n",
    "    plt.xlim(-1, 16)\n",
    "    plt.ylim(-1, 16)\n",
    "    plt.xlabel(\"Paternal expression level (log2)\")\n",
    "    plt.ylabel(\"Maternal expression level (log2)\")\n",
    "    plt.xticks([0, 5, 10, 15])\n",
    "    plt.yticks([0, 5, 10, 15])\n",
    "    plt.tight_layout()\n",
    "    plt.show()\n",
    "    \n",
    "    # break"
   ]
  },
  {
   "cell_type": "code",
   "execution_count": null,
   "id": "80d6e110",
   "metadata": {
    "hidden": true
   },
   "outputs": [],
   "source": []
  },
  {
   "cell_type": "markdown",
   "id": "4e1620be",
   "metadata": {
    "heading_collapsed": true,
    "hidden": true
   },
   "source": [
    "## Old"
   ]
  },
  {
   "cell_type": "code",
   "execution_count": 37,
   "id": "6e5128a0",
   "metadata": {
    "ExecuteTime": {
     "end_time": "2023-04-09T12:05:53.066355Z",
     "start_time": "2023-04-09T12:05:42.702960Z"
    },
    "hidden": true
   },
   "outputs": [],
   "source": [
    "dat = pd.read_csv(\"seurat_outputs/seurat_metadata_active_ident.tsv\", sep=\"\\t\")\n",
    "data = dict()\n",
    "for run, cell in dat[[\"Run\", \"Cell\"]].values:\n",
    "    path = \"results/nascent/quant_transcript.patmat/%s/%s.tsv\" % (run, cell)\n",
    "    data[cell] = pd.read_csv(path, sep=\"\\t\", index_col=0)"
   ]
  },
  {
   "cell_type": "code",
   "execution_count": 38,
   "id": "0fe776bb",
   "metadata": {
    "ExecuteTime": {
     "end_time": "2023-04-09T12:05:53.083806Z",
     "start_time": "2023-04-09T12:05:53.069862Z"
    },
    "hidden": true
   },
   "outputs": [
    {
     "data": {
      "text/plain": [
       "139"
      ]
     },
     "execution_count": 38,
     "metadata": {},
     "output_type": "execute_result"
    }
   ],
   "source": [
    "d = dat[(dat[\"s4U\"] == 400) & (dat[\"Time\"] == 3) & (np.isnan(dat[\"ActD\"])) & (dat[\"TC\"] > 0.015)]\n",
    "d = d[[x.startswith(\"EPI\") for x in d[\"CellType\"]]]\n",
    "len(d)"
   ]
  },
  {
   "cell_type": "code",
   "execution_count": 39,
   "id": "1c232eb0",
   "metadata": {
    "ExecuteTime": {
     "end_time": "2023-04-09T12:05:53.963081Z",
     "start_time": "2023-04-09T12:05:53.087023Z"
    },
    "hidden": true
   },
   "outputs": [
    {
     "name": "stderr",
     "output_type": "stream",
     "text": [
      "/home/chenzonggui/miniconda3/lib/python3.6/site-packages/ipykernel_launcher.py:21: RuntimeWarning: divide by zero encountered in log2\n"
     ]
    }
   ],
   "source": [
    "def make_matrix(cells, data, anno):\n",
    "    counter = dict()\n",
    "    for cell in cells:\n",
    "        d = data[cell]\n",
    "        for tid, vs in zip(d.index, d.values):\n",
    "            if tid not in counter:\n",
    "                counter[tid] = np.zeros(6)\n",
    "            counter[tid] += vs\n",
    "    tids = []\n",
    "    rows = []\n",
    "    for k, v in counter.items():\n",
    "        tids.append(k)\n",
    "        rows.append(v)\n",
    "    m = pd.DataFrame(rows, \n",
    "                     index=pd.Index(tids, name=\"TranscriptID\"), \n",
    "                     columns=[\"Total\", \"Total.M\", \"Total.P\", \"Nascent\", \"Nascent.M\", \"Nascent.P\"]) # C57 is maternal, DBA is paternal\n",
    "    m[\"NTR\"] = m[\"Nascent\"] / m[\"Total\"]\n",
    "    m[\"NTR.P\"] = m[\"Nascent.P\"] / m[\"Total.P\"]\n",
    "    m[\"NTR.M\"] = m[\"Nascent.M\"] / m[\"Total.M\"]\n",
    "    m[\"Total.PM\"] = m[\"Total.P\"] + m[\"Total.M\"]\n",
    "    m[\"Log2FC_PM\"] = np.log2(m[\"Total.P\"] / m[\"Total.M\"])\n",
    "    return m\n",
    "m = make_matrix(d[\"Cell\"], data, anno)\n",
    "m = m.merge(anno1, left_index=True, right_index=True)"
   ]
  },
  {
   "cell_type": "code",
   "execution_count": 46,
   "id": "b3d5866a",
   "metadata": {
    "ExecuteTime": {
     "end_time": "2023-04-09T12:11:44.272702Z",
     "start_time": "2023-04-09T12:11:31.262695Z"
    },
    "hidden": true
   },
   "outputs": [],
   "source": [
    "gids = []\n",
    "rows = []\n",
    "for gid, m1 in m.groupby(by=\"GeneID\"):\n",
    "    m1 = m1[m1[\"Total\"] >= 20]\n",
    "    if len(m1) < 2:\n",
    "        continue\n",
    "    m1 = m1.sort_values(by=\"Total\", ascending=False)\n",
    "    gids.append(gid)\n",
    "    total1, total2 = m1[\"Total\"].values[:2]\n",
    "    nascent1, nascent2 = m1[\"Nascent\"].values[:2]\n",
    "    ntr1, ntr2 = m1[\"NTR\"].values[:2]\n",
    "    tt1, tt2 = m1[\"TranscriptType\"].values[:2]\n",
    "    rows.append([total1, total2, nascent1, nascent2, ntr1, ntr2, tt1, tt2])"
   ]
  },
  {
   "cell_type": "code",
   "execution_count": 51,
   "id": "86800db7",
   "metadata": {
    "ExecuteTime": {
     "end_time": "2023-04-09T12:17:19.763519Z",
     "start_time": "2023-04-09T12:17:19.703946Z"
    },
    "hidden": true,
    "scrolled": true
   },
   "outputs": [],
   "source": [
    "d1 = pd.DataFrame(rows, \n",
    "                  index=pd.Index(gids, name=\"GeneID\"), \n",
    "                  columns=[\"Total1\", \"Total2\", \"Nascent1\", \"Nascent2\", \"NTR1\", \"NTR2\", \"TranscriptType1\", \"TranscriptType2\"])\n",
    "d1[\"Diff\"] = d1[\"NTR1\"] - d1[\"NTR2\"]\n",
    "d1[\"Diff.abs\"] = abs(d1[\"Diff\"])\n",
    "d1 = d1.sort_values(by=\"Diff.abs\", ascending=False)\n",
    "d1 = d1.merge(anno2, left_index=True, right_index=True)\n",
    "d1.to_csv(\"results/blastocyst/isoform_decay_deversity.EPI.tsv\", sep=\"\\t\")"
   ]
  },
  {
   "cell_type": "code",
   "execution_count": 53,
   "id": "82d3216b",
   "metadata": {
    "ExecuteTime": {
     "end_time": "2023-04-09T12:28:44.731543Z",
     "start_time": "2023-04-09T12:28:44.720996Z"
    },
    "hidden": true
   },
   "outputs": [
    {
     "data": {
      "text/plain": [
       "'Rps18, Hnrnpa1, Mrpl57, Rps19, Rpl18, Rpl10a, Gna13, Fis1, Rpl36a, Znhit1, Myl6, Aldoa, Rpl13a, Erh, Rpl18a, Rps27l, Mrps16, Ptma, Rpl35, Aurkaip1, Tma16, Mtch2, Btf3, Srp9, Anapc16, Tpm1, Ndufs8, Gpx4, Fmr1nb, Pigyl, Rps20, Eno1, Set, Eif5a, Actg1, Gpx2, Gfer, Wdr83os, Szrd1, Rps5, Idh3g, Rpl31, Hnrnpk, Aimp2, Prxl2a, Uqcr10, Hmgb3, Trappc1, Sra1, Rpl37a'"
      ]
     },
     "execution_count": 53,
     "metadata": {},
     "output_type": "execute_result"
    }
   ],
   "source": [
    "\", \".join(d1[\"GeneName\"].values[:50])"
   ]
  },
  {
   "cell_type": "code",
   "execution_count": 42,
   "id": "fc3ce92a",
   "metadata": {
    "ExecuteTime": {
     "end_time": "2023-04-09T12:06:06.931815Z",
     "start_time": "2023-04-09T12:06:06.890369Z"
    },
    "hidden": true
   },
   "outputs": [
    {
     "data": {
      "text/html": [
       "<div>\n",
       "<style scoped>\n",
       "    .dataframe tbody tr th:only-of-type {\n",
       "        vertical-align: middle;\n",
       "    }\n",
       "\n",
       "    .dataframe tbody tr th {\n",
       "        vertical-align: top;\n",
       "    }\n",
       "\n",
       "    .dataframe thead th {\n",
       "        text-align: right;\n",
       "    }\n",
       "</style>\n",
       "<table border=\"1\" class=\"dataframe\">\n",
       "  <thead>\n",
       "    <tr style=\"text-align: right;\">\n",
       "      <th></th>\n",
       "      <th>Total</th>\n",
       "      <th>Total.M</th>\n",
       "      <th>Total.P</th>\n",
       "      <th>Nascent</th>\n",
       "      <th>Nascent.M</th>\n",
       "      <th>Nascent.P</th>\n",
       "      <th>NTR</th>\n",
       "      <th>NTR.P</th>\n",
       "      <th>NTR.M</th>\n",
       "      <th>Total.PM</th>\n",
       "      <th>Log2FC_PM</th>\n",
       "      <th>TranscriptType</th>\n",
       "      <th>GeneID</th>\n",
       "      <th>GeneType</th>\n",
       "      <th>GeneName</th>\n",
       "      <th>Chrom</th>\n",
       "      <th>Start</th>\n",
       "      <th>End</th>\n",
       "      <th>Strand</th>\n",
       "      <th>Canonical</th>\n",
       "    </tr>\n",
       "    <tr>\n",
       "      <th>TranscriptID</th>\n",
       "      <th></th>\n",
       "      <th></th>\n",
       "      <th></th>\n",
       "      <th></th>\n",
       "      <th></th>\n",
       "      <th></th>\n",
       "      <th></th>\n",
       "      <th></th>\n",
       "      <th></th>\n",
       "      <th></th>\n",
       "      <th></th>\n",
       "      <th></th>\n",
       "      <th></th>\n",
       "      <th></th>\n",
       "      <th></th>\n",
       "      <th></th>\n",
       "      <th></th>\n",
       "      <th></th>\n",
       "      <th></th>\n",
       "      <th></th>\n",
       "    </tr>\n",
       "  </thead>\n",
       "  <tbody>\n",
       "    <tr>\n",
       "      <th>ENSMUST00000008812.8</th>\n",
       "      <td>1068.0</td>\n",
       "      <td>1032.0</td>\n",
       "      <td>31.0</td>\n",
       "      <td>170.0</td>\n",
       "      <td>167.0</td>\n",
       "      <td>3.0</td>\n",
       "      <td>0.159176</td>\n",
       "      <td>0.096774</td>\n",
       "      <td>0.161822</td>\n",
       "      <td>1063.0</td>\n",
       "      <td>-5.057031</td>\n",
       "      <td>protein_coding</td>\n",
       "      <td>ENSMUSG00000008668.15</td>\n",
       "      <td>protein_coding</td>\n",
       "      <td>Rps18</td>\n",
       "      <td>chr17</td>\n",
       "      <td>33951998</td>\n",
       "      <td>33955677</td>\n",
       "      <td>-</td>\n",
       "      <td>True</td>\n",
       "    </tr>\n",
       "    <tr>\n",
       "      <th>ENSMUST00000234380.1</th>\n",
       "      <td>23.0</td>\n",
       "      <td>6.0</td>\n",
       "      <td>17.0</td>\n",
       "      <td>21.0</td>\n",
       "      <td>5.0</td>\n",
       "      <td>16.0</td>\n",
       "      <td>0.913043</td>\n",
       "      <td>0.941176</td>\n",
       "      <td>0.833333</td>\n",
       "      <td>23.0</td>\n",
       "      <td>1.502500</td>\n",
       "      <td>nonsense_mediated_decay</td>\n",
       "      <td>ENSMUSG00000008668.15</td>\n",
       "      <td>protein_coding</td>\n",
       "      <td>Rps18</td>\n",
       "      <td>chr17</td>\n",
       "      <td>33951998</td>\n",
       "      <td>33955663</td>\n",
       "      <td>-</td>\n",
       "      <td>False</td>\n",
       "    </tr>\n",
       "    <tr>\n",
       "      <th>ENSMUST00000174745.7</th>\n",
       "      <td>21.0</td>\n",
       "      <td>8.0</td>\n",
       "      <td>13.0</td>\n",
       "      <td>4.0</td>\n",
       "      <td>1.0</td>\n",
       "      <td>3.0</td>\n",
       "      <td>0.190476</td>\n",
       "      <td>0.230769</td>\n",
       "      <td>0.125000</td>\n",
       "      <td>21.0</td>\n",
       "      <td>0.700440</td>\n",
       "      <td>processed_transcript</td>\n",
       "      <td>ENSMUSG00000008668.15</td>\n",
       "      <td>protein_coding</td>\n",
       "      <td>Rps18</td>\n",
       "      <td>chr17</td>\n",
       "      <td>33951998</td>\n",
       "      <td>33955212</td>\n",
       "      <td>-</td>\n",
       "      <td>False</td>\n",
       "    </tr>\n",
       "    <tr>\n",
       "      <th>ENSMUST00000174620.2</th>\n",
       "      <td>20.0</td>\n",
       "      <td>10.0</td>\n",
       "      <td>10.0</td>\n",
       "      <td>18.0</td>\n",
       "      <td>9.0</td>\n",
       "      <td>9.0</td>\n",
       "      <td>0.900000</td>\n",
       "      <td>0.900000</td>\n",
       "      <td>0.900000</td>\n",
       "      <td>20.0</td>\n",
       "      <td>0.000000</td>\n",
       "      <td>retained_intron</td>\n",
       "      <td>ENSMUSG00000008668.15</td>\n",
       "      <td>protein_coding</td>\n",
       "      <td>Rps18</td>\n",
       "      <td>chr17</td>\n",
       "      <td>33952001</td>\n",
       "      <td>33955653</td>\n",
       "      <td>-</td>\n",
       "      <td>False</td>\n",
       "    </tr>\n",
       "    <tr>\n",
       "      <th>ENSMUST00000174609.8</th>\n",
       "      <td>18.0</td>\n",
       "      <td>5.0</td>\n",
       "      <td>12.0</td>\n",
       "      <td>3.0</td>\n",
       "      <td>0.0</td>\n",
       "      <td>3.0</td>\n",
       "      <td>0.166667</td>\n",
       "      <td>0.250000</td>\n",
       "      <td>0.000000</td>\n",
       "      <td>17.0</td>\n",
       "      <td>1.263034</td>\n",
       "      <td>protein_coding</td>\n",
       "      <td>ENSMUSG00000008668.15</td>\n",
       "      <td>protein_coding</td>\n",
       "      <td>Rps18</td>\n",
       "      <td>chr17</td>\n",
       "      <td>33951998</td>\n",
       "      <td>33955663</td>\n",
       "      <td>-</td>\n",
       "      <td>False</td>\n",
       "    </tr>\n",
       "    <tr>\n",
       "      <th>ENSMUST00000172799.7</th>\n",
       "      <td>8.0</td>\n",
       "      <td>4.0</td>\n",
       "      <td>4.0</td>\n",
       "      <td>8.0</td>\n",
       "      <td>4.0</td>\n",
       "      <td>4.0</td>\n",
       "      <td>1.000000</td>\n",
       "      <td>1.000000</td>\n",
       "      <td>1.000000</td>\n",
       "      <td>8.0</td>\n",
       "      <td>0.000000</td>\n",
       "      <td>processed_transcript</td>\n",
       "      <td>ENSMUSG00000008668.15</td>\n",
       "      <td>protein_coding</td>\n",
       "      <td>Rps18</td>\n",
       "      <td>chr17</td>\n",
       "      <td>33951999</td>\n",
       "      <td>33954490</td>\n",
       "      <td>-</td>\n",
       "      <td>False</td>\n",
       "    </tr>\n",
       "    <tr>\n",
       "      <th>ENSMUST00000173323.1</th>\n",
       "      <td>3.0</td>\n",
       "      <td>1.0</td>\n",
       "      <td>2.0</td>\n",
       "      <td>3.0</td>\n",
       "      <td>1.0</td>\n",
       "      <td>2.0</td>\n",
       "      <td>1.000000</td>\n",
       "      <td>1.000000</td>\n",
       "      <td>1.000000</td>\n",
       "      <td>3.0</td>\n",
       "      <td>1.000000</td>\n",
       "      <td>retained_intron</td>\n",
       "      <td>ENSMUSG00000008668.15</td>\n",
       "      <td>protein_coding</td>\n",
       "      <td>Rps18</td>\n",
       "      <td>chr17</td>\n",
       "      <td>33952003</td>\n",
       "      <td>33952541</td>\n",
       "      <td>-</td>\n",
       "      <td>False</td>\n",
       "    </tr>\n",
       "    <tr>\n",
       "      <th>ENSMUST00000174175.7</th>\n",
       "      <td>3.0</td>\n",
       "      <td>2.0</td>\n",
       "      <td>1.0</td>\n",
       "      <td>3.0</td>\n",
       "      <td>2.0</td>\n",
       "      <td>1.0</td>\n",
       "      <td>1.000000</td>\n",
       "      <td>1.000000</td>\n",
       "      <td>1.000000</td>\n",
       "      <td>3.0</td>\n",
       "      <td>-1.000000</td>\n",
       "      <td>retained_intron</td>\n",
       "      <td>ENSMUSG00000008668.15</td>\n",
       "      <td>protein_coding</td>\n",
       "      <td>Rps18</td>\n",
       "      <td>chr17</td>\n",
       "      <td>33951999</td>\n",
       "      <td>33955660</td>\n",
       "      <td>-</td>\n",
       "      <td>False</td>\n",
       "    </tr>\n",
       "    <tr>\n",
       "      <th>ENSMUST00000174662.1</th>\n",
       "      <td>1.0</td>\n",
       "      <td>0.0</td>\n",
       "      <td>1.0</td>\n",
       "      <td>1.0</td>\n",
       "      <td>0.0</td>\n",
       "      <td>1.0</td>\n",
       "      <td>1.000000</td>\n",
       "      <td>1.000000</td>\n",
       "      <td>NaN</td>\n",
       "      <td>1.0</td>\n",
       "      <td>inf</td>\n",
       "      <td>retained_intron</td>\n",
       "      <td>ENSMUSG00000008668.15</td>\n",
       "      <td>protein_coding</td>\n",
       "      <td>Rps18</td>\n",
       "      <td>chr17</td>\n",
       "      <td>33954824</td>\n",
       "      <td>33955660</td>\n",
       "      <td>-</td>\n",
       "      <td>False</td>\n",
       "    </tr>\n",
       "  </tbody>\n",
       "</table>\n",
       "</div>"
      ],
      "text/plain": [
       "                       Total  Total.M  Total.P  Nascent  Nascent.M  Nascent.P  \\\n",
       "TranscriptID                                                                    \n",
       "ENSMUST00000008812.8  1068.0   1032.0     31.0    170.0      167.0        3.0   \n",
       "ENSMUST00000234380.1    23.0      6.0     17.0     21.0        5.0       16.0   \n",
       "ENSMUST00000174745.7    21.0      8.0     13.0      4.0        1.0        3.0   \n",
       "ENSMUST00000174620.2    20.0     10.0     10.0     18.0        9.0        9.0   \n",
       "ENSMUST00000174609.8    18.0      5.0     12.0      3.0        0.0        3.0   \n",
       "ENSMUST00000172799.7     8.0      4.0      4.0      8.0        4.0        4.0   \n",
       "ENSMUST00000173323.1     3.0      1.0      2.0      3.0        1.0        2.0   \n",
       "ENSMUST00000174175.7     3.0      2.0      1.0      3.0        2.0        1.0   \n",
       "ENSMUST00000174662.1     1.0      0.0      1.0      1.0        0.0        1.0   \n",
       "\n",
       "                           NTR     NTR.P     NTR.M  Total.PM  Log2FC_PM  \\\n",
       "TranscriptID                                                              \n",
       "ENSMUST00000008812.8  0.159176  0.096774  0.161822    1063.0  -5.057031   \n",
       "ENSMUST00000234380.1  0.913043  0.941176  0.833333      23.0   1.502500   \n",
       "ENSMUST00000174745.7  0.190476  0.230769  0.125000      21.0   0.700440   \n",
       "ENSMUST00000174620.2  0.900000  0.900000  0.900000      20.0   0.000000   \n",
       "ENSMUST00000174609.8  0.166667  0.250000  0.000000      17.0   1.263034   \n",
       "ENSMUST00000172799.7  1.000000  1.000000  1.000000       8.0   0.000000   \n",
       "ENSMUST00000173323.1  1.000000  1.000000  1.000000       3.0   1.000000   \n",
       "ENSMUST00000174175.7  1.000000  1.000000  1.000000       3.0  -1.000000   \n",
       "ENSMUST00000174662.1  1.000000  1.000000       NaN       1.0        inf   \n",
       "\n",
       "                               TranscriptType                 GeneID  \\\n",
       "TranscriptID                                                           \n",
       "ENSMUST00000008812.8           protein_coding  ENSMUSG00000008668.15   \n",
       "ENSMUST00000234380.1  nonsense_mediated_decay  ENSMUSG00000008668.15   \n",
       "ENSMUST00000174745.7     processed_transcript  ENSMUSG00000008668.15   \n",
       "ENSMUST00000174620.2          retained_intron  ENSMUSG00000008668.15   \n",
       "ENSMUST00000174609.8           protein_coding  ENSMUSG00000008668.15   \n",
       "ENSMUST00000172799.7     processed_transcript  ENSMUSG00000008668.15   \n",
       "ENSMUST00000173323.1          retained_intron  ENSMUSG00000008668.15   \n",
       "ENSMUST00000174175.7          retained_intron  ENSMUSG00000008668.15   \n",
       "ENSMUST00000174662.1          retained_intron  ENSMUSG00000008668.15   \n",
       "\n",
       "                            GeneType GeneName  Chrom     Start       End  \\\n",
       "TranscriptID                                                               \n",
       "ENSMUST00000008812.8  protein_coding    Rps18  chr17  33951998  33955677   \n",
       "ENSMUST00000234380.1  protein_coding    Rps18  chr17  33951998  33955663   \n",
       "ENSMUST00000174745.7  protein_coding    Rps18  chr17  33951998  33955212   \n",
       "ENSMUST00000174620.2  protein_coding    Rps18  chr17  33952001  33955653   \n",
       "ENSMUST00000174609.8  protein_coding    Rps18  chr17  33951998  33955663   \n",
       "ENSMUST00000172799.7  protein_coding    Rps18  chr17  33951999  33954490   \n",
       "ENSMUST00000173323.1  protein_coding    Rps18  chr17  33952003  33952541   \n",
       "ENSMUST00000174175.7  protein_coding    Rps18  chr17  33951999  33955660   \n",
       "ENSMUST00000174662.1  protein_coding    Rps18  chr17  33954824  33955660   \n",
       "\n",
       "                     Strand  Canonical  \n",
       "TranscriptID                            \n",
       "ENSMUST00000008812.8      -       True  \n",
       "ENSMUST00000234380.1      -      False  \n",
       "ENSMUST00000174745.7      -      False  \n",
       "ENSMUST00000174620.2      -      False  \n",
       "ENSMUST00000174609.8      -      False  \n",
       "ENSMUST00000172799.7      -      False  \n",
       "ENSMUST00000173323.1      -      False  \n",
       "ENSMUST00000174175.7      -      False  \n",
       "ENSMUST00000174662.1      -      False  "
      ]
     },
     "execution_count": 42,
     "metadata": {},
     "output_type": "execute_result"
    }
   ],
   "source": [
    "m[m[\"GeneID\"] == \"ENSMUSG00000008668.15\"].sort_values(by=\"Total\", ascending=False)"
   ]
  },
  {
   "cell_type": "code",
   "execution_count": 65,
   "id": "9bb8f844",
   "metadata": {
    "ExecuteTime": {
     "end_time": "2023-04-09T12:42:24.911751Z",
     "start_time": "2023-04-09T12:42:24.251354Z"
    },
    "hidden": true,
    "scrolled": true
   },
   "outputs": [
    {
     "name": "stdout",
     "output_type": "stream",
     "text": [
      "4 31\n"
     ]
    },
    {
     "data": {
      "image/png": "[encoded data removed]",
      "text/plain": [
       "<Figure size 288x288 with 1 Axes>"
      ]
     },
     "metadata": {
      "needs_background": "light"
     },
     "output_type": "display_data"
    }
   ],
   "source": [
    "m1 = m[m[\"Total.PM\"] >= 50]\n",
    "\n",
    "xs = m1[\"Total.PM\"]\n",
    "ys = m1[\"Log2FC_PM\"]\n",
    "xs = np.log10(xs)\n",
    "\n",
    "xs1, ys1 = xs[ys>2], ys[ys>2]\n",
    "xs2, ys2 = xs[ys<-2], ys[ys<-2]\n",
    "print(len(xs1), len(xs2))\n",
    "\n",
    "plt.figure(figsize=(4, 4))\n",
    "plt.scatter(xs, ys, marker=\".\", color=\"grey\")\n",
    "plt.scatter(xs1, ys1, marker=\".\", color=\"blue\")\n",
    "plt.scatter(xs2, ys2, marker=\".\", color=\"red\")\n",
    "plt.xlim(1, 4)\n",
    "plt.ylim(-10, 10)\n",
    "plt.xlabel(\"expression level (log10)\")\n",
    "plt.ylabel(\"log2(Paternal/Maternal)\")\n",
    "plt.tight_layout()\n",
    "plt.savefig(\"results/blastocyst/isoform_parental_diff_expressed.EPI.pdf\", dpi=300)"
   ]
  },
  {
   "cell_type": "code",
   "execution_count": 69,
   "id": "9e5a2c44",
   "metadata": {
    "ExecuteTime": {
     "end_time": "2023-04-09T12:51:24.422050Z",
     "start_time": "2023-04-09T12:51:24.402146Z"
    },
    "hidden": true
   },
   "outputs": [],
   "source": [
    "m1[(m1[\"Log2FC_PM\"] > 2) | (m1[\"Log2FC_PM\"] < -2)].to_csv(\"results/blastocyst/isoform_parental_diff_expressed.EPI.tsv\", sep=\"\\t\")"
   ]
  },
  {
   "cell_type": "code",
   "execution_count": 90,
   "id": "efa9d33b",
   "metadata": {
    "ExecuteTime": {
     "end_time": "2023-04-09T13:15:01.912291Z",
     "start_time": "2023-04-09T13:15:01.439491Z"
    },
    "hidden": true,
    "scrolled": true
   },
   "outputs": [
    {
     "data": {
      "image/png": "[encoded data removed]",
      "text/plain": [
       "<Figure size 288x288 with 1 Axes>"
      ]
     },
     "metadata": {
      "needs_background": "light"
     },
     "output_type": "display_data"
    }
   ],
   "source": [
    "m2 = m[(m[\"Total.P\"] >= 20) & (m[\"Total.M\"] >= 20)].copy()\n",
    "m2[\"NTR.Diff\"] = m2[\"NTR.P\"] - m2[\"NTR.M\"]\n",
    "m2.to_csv(\"results/blastocyst/allele_specific_decay_rate.EPI.tsv\", sep=\"\\t\")\n",
    "xs = m2[[\"Total.P\", \"Total.M\"]].min(axis=1)\n",
    "ys = m2[\"NTR.Diff\"]\n",
    "xs = np.log10(xs)\n",
    "\n",
    "plt.figure(figsize=(4, 4))\n",
    "plt.scatter(xs, ys, marker=\".\", color=\"grey\")\n",
    "plt.axhline(0, lw=1, ls=\"--\", color=\"black\")\n",
    "plt.ylim(-0.8, 0.8)\n",
    "plt.xlabel(\"Min expression level (log10)\")\n",
    "plt.ylabel(\"NTR diff (paternal - maternal)\")\n",
    "plt.tight_layout()\n",
    "plt.savefig(\"results/blastocyst/allele_specific_decay_rate.EPI.pdf\", dpi=300)"
   ]
  },
  {
   "cell_type": "code",
   "execution_count": 100,
   "id": "c293a401",
   "metadata": {
    "ExecuteTime": {
     "end_time": "2023-04-09T13:24:12.549468Z",
     "start_time": "2023-04-09T13:24:12.100114Z"
    },
    "hidden": true
   },
   "outputs": [
    {
     "data": {
      "image/png": "[encoded data removed]",
      "text/plain": [
       "<Figure size 288x288 with 1 Axes>"
      ]
     },
     "metadata": {
      "needs_background": "light"
     },
     "output_type": "display_data"
    }
   ],
   "source": [
    "xs = m2[\"Log2FC_PM\"]\n",
    "ys = m2[\"NTR.Diff\"]\n",
    "\n",
    "plt.figure(figsize=(4, 4))\n",
    "plt.scatter(xs, ys, marker=\".\")\n",
    "plt.xlim(-6, 6)\n",
    "plt.ylim(-0.6, 0.6)\n",
    "plt.axhline(0, lw=1, ls=\"--\", color=\"grey\")\n",
    "plt.axvline(0, lw=1, ls=\"--\", color=\"grey\")\n",
    "plt.xlabel(\"Change of expression (log2, pat/mat)\")\n",
    "plt.ylabel(\"NTR diff (paternal - maternal)\")\n",
    "plt.tight_layout()\n",
    "plt.savefig(\"results/blastocyst/allele_specific_expr_decay_rate.EPI.pdf\", dpi=300)"
   ]
  },
  {
   "cell_type": "markdown",
   "id": "2ed49d62",
   "metadata": {
    "heading_collapsed": true
   },
   "source": [
    "# Gene expression in cell types"
   ]
  },
  {
   "cell_type": "code",
   "execution_count": 32,
   "id": "f0385e41",
   "metadata": {
    "ExecuteTime": {
     "end_time": "2023-09-02T11:34:34.382713Z",
     "start_time": "2023-09-02T11:34:34.375960Z"
    },
    "hidden": true
   },
   "outputs": [],
   "source": [
    "cts = ['EPI', 'ICM', 'Morula', 'PE-1', 'PE-2', 'TE-1', 'TE-2', 'TE-3']"
   ]
  },
  {
   "cell_type": "code",
   "execution_count": 33,
   "id": "be7623ec",
   "metadata": {
    "ExecuteTime": {
     "end_time": "2023-09-02T11:34:55.297628Z",
     "start_time": "2023-09-02T11:34:54.685495Z"
    },
    "hidden": true
   },
   "outputs": [],
   "source": [
    "data = dict()\n",
    "for ct in cts:\n",
    "    path = \"expression/cell_types/quant_gene.%s.annotated.tsv\" % ct\n",
    "    ct = path.split(\"/\")[-1].split(\".\")[1]\n",
    "    d = pd.read_csv(path, sep=\"\\t\")\n",
    "    d[\"TPM\"] = d[\"Total\"] * 1e6 / d[\"Total\"].sum()\n",
    "    data[ct] = d"
   ]
  },
  {
   "cell_type": "code",
   "execution_count": 34,
   "id": "53270127",
   "metadata": {
    "ExecuteTime": {
     "end_time": "2023-09-02T11:34:55.708600Z",
     "start_time": "2023-09-02T11:34:55.453700Z"
    },
    "hidden": true,
    "scrolled": true
   },
   "outputs": [
    {
     "data": {
      "image/png": "[encoded data removed]",
      "text/plain": [
       "<Figure size 432x216 with 1 Axes>"
      ]
     },
     "metadata": {
      "needs_background": "light"
     },
     "output_type": "display_data"
    }
   ],
   "source": [
    "cts = list(sorted(data.keys()))\n",
    "tpms = []\n",
    "for ct in cts:\n",
    "    d = data[ct]\n",
    "    tpm = d[d[\"GeneName\"] == \"Klf2\"][\"TPM\"].values[0]\n",
    "    tpms.append(tpm)\n",
    "xs = np.arange(len(cts))\n",
    "\n",
    "plt.figure(figsize=(6, 3))\n",
    "plt.title(\"Klf2\")\n",
    "plt.bar(xs, tpms)\n",
    "plt.ylabel(\"TPM\")\n",
    "plt.xticks(xs, cts, rotation=45)\n",
    "plt.tight_layout()\n",
    "plt.show()"
   ]
  },
  {
   "cell_type": "code",
   "execution_count": 35,
   "id": "864eef6c",
   "metadata": {
    "ExecuteTime": {
     "end_time": "2023-09-02T11:34:55.716078Z",
     "start_time": "2023-09-02T11:34:55.711377Z"
    },
    "hidden": true
   },
   "outputs": [
    {
     "name": "stdout",
     "output_type": "stream",
     "text": [
      "['EPI', 'ICM', 'Morula', 'PE-1', 'PE-2', 'TE-1', 'TE-2', 'TE-3']\n"
     ]
    }
   ],
   "source": [
    "print(cts)"
   ]
  },
  {
   "cell_type": "markdown",
   "id": "4ee02fc4",
   "metadata": {},
   "source": [
    "# 20231126"
   ]
  },
  {
   "cell_type": "code",
   "execution_count": 4,
   "id": "339a4b6b",
   "metadata": {
    "ExecuteTime": {
     "end_time": "2023-11-26T12:31:14.296574Z",
     "start_time": "2023-11-26T12:31:14.190705Z"
    }
   },
   "outputs": [
    {
     "data": {
      "text/plain": [
       "{'20220729_EmbryoR10.C02': 'TE-1',\n",
       " '20220729_EmbryoR10.C03': 'TE-1',\n",
       " '20220729_EmbryoR10.C05': 'ICM',\n",
       " '20220729_EmbryoR10.C06': 'ICM',\n",
       " '20220729_EmbryoR10.C07': 'ICM',\n",
       " '20220729_EmbryoR10.C08': 'ICM',\n",
       " '20220729_EmbryoR10.C09': 'TE-2',\n",
       " '20220729_EmbryoR10.C10': 'ICM',\n",
       " '20220729_EmbryoR10.C11': 'ICM',\n",
       " '20220729_EmbryoR10.C12': 'TE-1',\n",
       " '20220729_EmbryoR10.C13': 'ICM',\n",
       " '20220729_EmbryoR10.C14': 'TE-1',\n",
       " '20220729_EmbryoR10.C15': 'Morula',\n",
       " '20220729_EmbryoR10.C16': 'TE-1',\n",
       " '20220729_EmbryoR10.C17': 'Morula',\n",
       " '20220729_EmbryoR10.C18': 'ICM',\n",
       " '20220729_EmbryoR10.C19': 'TE-1',\n",
       " '20220729_EmbryoR10.C21': 'TE-2',\n",
       " '20220729_EmbryoR10.C22': 'ICM',\n",
       " '20220729_EmbryoR10.C23': 'ICM',\n",
       " '20220729_EmbryoR10.C24': 'ICM',\n",
       " '20220729_EmbryoR10.C25': 'TE-1',\n",
       " '20220729_EmbryoR10.C26': 'TE-1',\n",
       " '20220729_EmbryoR10.C27': 'TE-1',\n",
       " '20220729_EmbryoR10.C28': 'Morula',\n",
       " '20220729_EmbryoR10.C29': 'ICM',\n",
       " '20220729_EmbryoR10.C30': 'ICM',\n",
       " '20220729_EmbryoR10.C31': 'TE-1',\n",
       " '20220729_EmbryoR10.C32': 'ICM',\n",
       " '20220729_EmbryoR10.C33': 'ICM',\n",
       " '20220729_EmbryoR10.C34': 'ICM',\n",
       " '20220729_EmbryoR10.C35': 'ICM',\n",
       " '20220729_EmbryoR10.C37': 'TE-1',\n",
       " '20220729_EmbryoR10.C38': 'ICM',\n",
       " '20220729_EmbryoR10.C39': 'TE-1',\n",
       " '20220729_EmbryoR10.C40': 'ICM',\n",
       " '20220729_EmbryoR10.C41': 'EPI',\n",
       " '20220729_EmbryoR10.C43': 'EPI',\n",
       " '20220729_EmbryoR10.C44': 'EPI',\n",
       " '20220729_EmbryoR10.C45': 'EPI',\n",
       " '20220729_EmbryoR10.C48': 'TE-2',\n",
       " '20220729_EmbryoR10.C49': 'TE-2',\n",
       " '20220729_K562R3.C75': 'EPI',\n",
       " '20220808_Blastocyst.C02': 'Unknown',\n",
       " '20220808_Blastocyst.C04': 'Unknown',\n",
       " '20220808_Blastocyst.C05': 'ICM',\n",
       " '20220808_Blastocyst.C08': 'TE-1',\n",
       " '20220808_Blastocyst.C10': 'TE-2',\n",
       " '20220808_Blastocyst.C14': 'ICM',\n",
       " '20220808_Blastocyst.C16': 'Unknown',\n",
       " '20220808_Blastocyst.C17': 'TE-2',\n",
       " '20220808_Blastocyst.C23': 'Unknown',\n",
       " '20220808_Blastocyst.C28': 'Unknown',\n",
       " '20220808_Blastocyst.C29': 'Unknown',\n",
       " '20220808_Blastocyst.C30': 'TE-1',\n",
       " '20220808_Blastocyst.C34': 'TE-1',\n",
       " '20220808_Blastocyst.C37': 'EPI',\n",
       " '20220808_Blastocyst.C38': 'EPI',\n",
       " '20220808_Blastocyst.C39': 'EPI',\n",
       " '20220808_Blastocyst.C40': 'EPI',\n",
       " '20220808_Blastocyst.C41': 'EPI',\n",
       " '20220808_Blastocyst.C44': 'EPI',\n",
       " '20220808_Blastocyst.C45': 'EPI',\n",
       " '20220808_Blastocyst.C47': 'ICM',\n",
       " '20220808_Blastocyst.C50': 'PE-2',\n",
       " '20220808_Blastocyst.C51': 'EPI',\n",
       " '20220808_Blastocyst.C52': 'EPI',\n",
       " '20220808_Blastocyst.C53': 'EPI',\n",
       " '20220808_Blastocyst.C55': 'TE-3',\n",
       " '20220808_Blastocyst.C56': 'EPI',\n",
       " '20220808_Blastocyst.C60': 'TE-3',\n",
       " '20220808_Blastocyst.C63': 'PE-2',\n",
       " '20220808_Blastocyst.C64': 'EPI',\n",
       " '20220817_Embryo.C61': 'EPI',\n",
       " '20220820_Embryo.C02': 'EPI',\n",
       " '20220820_Embryo.C04': 'EPI',\n",
       " '20220820_Embryo.C05': 'PE-2',\n",
       " '20220820_Embryo.C06': 'EPI',\n",
       " '20220820_Embryo.C08': 'EPI',\n",
       " '20220820_Embryo.C09': 'PE-2',\n",
       " '20220820_Embryo.C10': 'EPI',\n",
       " '20220820_Embryo.C12': 'PE-2',\n",
       " '20220820_Embryo.C14': 'EPI',\n",
       " '20220820_Embryo.C15': 'EPI',\n",
       " '20220820_Embryo.C16': 'PE-2',\n",
       " '20220820_Embryo.C17': 'EPI',\n",
       " '20220823_MidBlast.C40': 'ICM',\n",
       " '20220823_MidBlast.C41': 'PE-2',\n",
       " '20220823_MidBlast.C44': 'ICM',\n",
       " '20220823_MidBlast.C45': 'ICM',\n",
       " '20220823_MidBlast.C46': 'EPI',\n",
       " '20220823_MidBlast.C47': 'ICM',\n",
       " '20220823_MidBlast.C49': 'TE-2',\n",
       " '20220823_MidBlast.C50': 'PE-1',\n",
       " '20220823_MidBlast.C52': 'TE-2',\n",
       " '20220823_MidBlast.C54': 'EPI',\n",
       " '20220824_MidBlast.C02': 'PE-1',\n",
       " '20220824_MidBlast.C03': 'PE-1',\n",
       " '20220824_MidBlast.C04': 'TE-3',\n",
       " '20220824_MidBlast.C05': 'TE-2',\n",
       " '20220824_MidBlast.C07': 'EPI',\n",
       " '20220824_MidBlast.C08': 'EPI',\n",
       " '20220824_MidBlast.C09': 'TE-2',\n",
       " '20220824_MidBlast.C10': 'ICM',\n",
       " '20220824_MidBlast.C11': 'TE-2',\n",
       " '20220824_MidBlast.C12': 'TE-2',\n",
       " '20220824_MidBlast.C13': 'ICM',\n",
       " '20220824_MidBlast.C15': 'ICM',\n",
       " '20220824_MidBlast.C16': 'Morula',\n",
       " '20220824_MidBlast.C17': 'PE-1',\n",
       " '20220824_MidBlast.C18': 'TE-1',\n",
       " '20220824_MidBlast.C19': 'TE-2',\n",
       " '20220824_MidBlast.C20': 'ICM',\n",
       " '20220824_MidBlast.C21': 'ICM',\n",
       " '20220824_MidBlast.C22': 'ICM',\n",
       " '20220824_MidBlast.C23': 'PE-1',\n",
       " '20220824_MidBlast.C24': 'ICM',\n",
       " '20220824_MidBlast.C25': 'PE-2',\n",
       " '20220824_MidBlast.C26': 'ICM',\n",
       " '20220824_MidBlast.C27': 'ICM',\n",
       " '20220824_MidBlast.C29': 'ICM',\n",
       " '20220824_MidBlast.C30': 'ICM',\n",
       " '20220824_MidBlast.C31': 'ICM',\n",
       " '20220824_MidBlast.C32': 'ICM',\n",
       " '20220824_MidBlast.C33': 'TE-2',\n",
       " '20220824_MidBlast.C35': 'ICM',\n",
       " '20220824_MidBlast.C36': 'ICM',\n",
       " '20220824_MidBlast.C37': 'PE-2',\n",
       " '20220824_MidBlast.C38': 'ICM',\n",
       " '20220824_MidBlast.C39': 'ICM',\n",
       " '20220824_MidBlast.C40': 'ICM',\n",
       " '20220824_MidBlast.C41': 'TE-1',\n",
       " '20220824_MidBlast.C42': 'PE-2',\n",
       " '20220824_MidBlast.C43': 'ICM',\n",
       " '20220824_MidBlast.C44': 'ICM',\n",
       " '20220824_MidBlast.C45': 'ICM',\n",
       " '20220824_MidBlast.C46': 'ICM',\n",
       " '20220824_MidBlast.C47': 'ICM',\n",
       " '20220824_MidBlast.C48': 'TE-1',\n",
       " '20220824_MidBlast.C49': 'ICM',\n",
       " '20220824_MidBlast.C50': 'PE-1',\n",
       " '20220824_MidBlast.C51': 'PE-1',\n",
       " '20220824_MidBlast.C52': 'TE-3',\n",
       " '20220824_MidBlast.C53': 'Morula',\n",
       " '20220824_MidBlast.C54': 'ICM',\n",
       " '20220824_MidBlast.C55': 'TE-2',\n",
       " '20220824_MidBlast.C57': 'TE-1',\n",
       " '20220824_MidBlast.C58': 'PE-1',\n",
       " '20220824_MidBlast.C59': 'TE-2',\n",
       " '20220824_MidBlast.C60': 'PE-1',\n",
       " '20220824_MidBlast.C61': 'Morula',\n",
       " '20220824_MidBlast.C62': 'ICM',\n",
       " '20220831_MidBlast.C01': 'ICM',\n",
       " '20220831_MidBlast.C04': 'TE-2',\n",
       " '20220831_MidBlast.C05': 'TE-2',\n",
       " '20220831_MidBlast.C07': 'PE-1',\n",
       " '20220831_MidBlast.C08': 'ICM',\n",
       " '20220831_MidBlast.C11': 'Morula',\n",
       " '20220831_MidBlast.C12': 'PE-1',\n",
       " '20220831_MidBlast.C14': 'TE-3',\n",
       " '20220831_MidBlast.C18': 'ICM',\n",
       " '20220831_MidBlast.C21': 'ICM',\n",
       " '20220831_MidBlast.C24': 'ICM',\n",
       " '20220831_MidBlast.C26': 'ICM',\n",
       " '20220831_MidBlast.C33': 'PE-1',\n",
       " '20220831_MidBlast.C34': 'TE-2',\n",
       " '20220831_MidBlast.C35': 'ICM',\n",
       " '20220831_MidBlast.C37': 'PE-1',\n",
       " '20220831_MidBlast.C38': 'PE-1',\n",
       " '20220831_MidBlast.C41': 'PE-2',\n",
       " '20220831_MidBlast.C42': 'PE-1',\n",
       " '20220831_MidBlast.C45': 'ICM',\n",
       " '20220831_MidBlast.C46': 'PE-1',\n",
       " '20220831_MidBlast.C47': 'PE-1',\n",
       " '20220831_MidBlast.C48': 'PE-1',\n",
       " '20220831_MidBlast.C51': 'ICM',\n",
       " '20220831_MidBlast.C52': 'PE-1',\n",
       " '20220831_MidBlast.C53': 'ICM',\n",
       " '20220831_MidBlast.C54': 'TE-2',\n",
       " '20220831_MidBlast.C56': 'TE-2',\n",
       " '20220831_MidBlast.C59': 'TE-2',\n",
       " '20220831_MidBlast.C60': 'EPI',\n",
       " '20220831_MidBlast.C69': 'ICM',\n",
       " '20220831_MidBlast.C70': 'ICM',\n",
       " '20220902_BlastocystS1.C01': 'TE-1',\n",
       " '20220902_BlastocystS1.C02': 'TE-1',\n",
       " '20220902_BlastocystS1.C04': 'ICM',\n",
       " '20220902_BlastocystS1.C06': 'Morula',\n",
       " '20220902_BlastocystS1.C10': 'ICM',\n",
       " '20220902_BlastocystS1.C11': 'ICM',\n",
       " '20220902_BlastocystS1.C12': 'TE-1',\n",
       " '20220902_BlastocystS1.C13': 'ICM',\n",
       " '20220902_BlastocystS1.C14': 'ICM',\n",
       " '20220902_BlastocystS1.C15': 'ICM',\n",
       " '20220902_BlastocystS1.C16': 'TE-1',\n",
       " '20220902_BlastocystS1.C22': 'ICM',\n",
       " '20220902_BlastocystS1.C23': 'TE-2',\n",
       " '20220902_BlastocystS1.C24': 'ICM',\n",
       " '20220902_BlastocystS1.C26': 'ICM',\n",
       " '20220902_BlastocystS1.C27': 'ICM',\n",
       " '20220902_BlastocystS1.C28': 'PE-1',\n",
       " '20220902_BlastocystS1.C30': 'ICM',\n",
       " '20220902_BlastocystS1.C31': 'TE-2',\n",
       " '20220902_BlastocystS1.C32': 'TE-2',\n",
       " '20220902_BlastocystS1.C39': 'EPI',\n",
       " '20220902_BlastocystS1.C50': 'EPI',\n",
       " '20220903_BlastocystS1.C01': 'PE-2',\n",
       " '20220903_BlastocystS1.C03': 'TE-2',\n",
       " '20220903_BlastocystS1.C07': 'EPI',\n",
       " '20220903_BlastocystS1.C08': 'TE-3',\n",
       " '20220903_BlastocystS1.C23': 'PE-2',\n",
       " '20220903_BlastocystS1.C24': 'TE-3',\n",
       " '20220903_BlastocystS1.C25': 'PE-2',\n",
       " '20220903_BlastocystS1.C27': 'TE-3',\n",
       " '20220903_BlastocystS1.C28': 'PE-2',\n",
       " '20220903_BlastocystS1.C31': 'ICM',\n",
       " '20220903_BlastocystS1.C33': 'TE-2',\n",
       " '20220903_BlastocystS1.C34': 'PE-1',\n",
       " '20220903_BlastocystS1.C36': 'ICM',\n",
       " '20220903_BlastocystS1.C41': 'EPI',\n",
       " '20220903_BlastocystS1.C43': 'EPI',\n",
       " '20220903_BlastocystS1.C47': 'TE-2',\n",
       " '20220903_BlastocystS1.C50': 'TE-2',\n",
       " '20220903_BlastocystS1.C51': 'TE-3',\n",
       " '20220903_BlastocystS1.C53': 'TE-3',\n",
       " '20220903_BlastocystS1.C54': 'EPI',\n",
       " '20220903_BlastocystS1.C56': 'PE-2',\n",
       " '20220924_Blastocyst.C02': 'Morula',\n",
       " '20220924_Blastocyst.C08': 'TE-3',\n",
       " '20220924_Blastocyst.C10': 'PE-1',\n",
       " '20220924_Blastocyst.C14': 'Morula',\n",
       " '20220924_Blastocyst.C17': 'EPI',\n",
       " '20220924_Blastocyst.C20': 'EPI',\n",
       " '20220924_Blastocyst.C22': 'TE-2',\n",
       " '20220924_Blastocyst.C24': 'EPI',\n",
       " '20220924_Blastocyst.C27': 'TE-2',\n",
       " '20220924_Blastocyst.C29': 'ICM',\n",
       " '20220924_Blastocyst.C32': 'ICM',\n",
       " '20220924_Blastocyst.C35': 'TE-2',\n",
       " '20220924_Blastocyst.C37': 'ICM',\n",
       " '20220924_Blastocyst.C39': 'TE-2',\n",
       " '20220924_Blastocyst.C40': 'ICM',\n",
       " '20220924_Blastocyst.C49': 'TE-2',\n",
       " '20220924_Blastocyst.C51': 'EPI',\n",
       " '20220924_Blastocyst.C52': 'TE-3',\n",
       " '20220924_Blastocyst.C58': 'EPI',\n",
       " '20220924_Blastocyst.C59': 'EPI',\n",
       " '20220924_Blastocyst.C61': 'TE-2',\n",
       " '20220924_Blastocyst.C64': 'ICM',\n",
       " '20221008_Blastocyst.C03': 'ICM',\n",
       " '20221008_Blastocyst.C04': 'ICM',\n",
       " '20221008_Blastocyst.C06': 'ICM',\n",
       " '20221008_Blastocyst.C09': 'ICM',\n",
       " '20221008_Blastocyst.C13': 'Morula',\n",
       " '20221008_Blastocyst.C15': 'ICM',\n",
       " '20221008_Blastocyst.C17': 'TE-1',\n",
       " '20221008_Blastocyst.C18': 'ICM',\n",
       " '20221008_Blastocyst.C19': 'ICM',\n",
       " '20221008_Blastocyst.C24': 'TE-2',\n",
       " '20221008_Blastocyst.C25': 'TE-1',\n",
       " '20221008_Blastocyst.C26': 'ICM',\n",
       " '20221008_Blastocyst.C29': 'ICM',\n",
       " '20221008_Blastocyst.C37': 'ICM',\n",
       " '20221008_Blastocyst.C38': 'ICM',\n",
       " '20221008_Blastocyst.C41': 'ICM',\n",
       " '20221008_Blastocyst.C45': 'TE-1',\n",
       " '20221008_Blastocyst.C48': 'Morula',\n",
       " '20221008_Blastocyst.C62': 'TE-2',\n",
       " '20221008_Blastocyst.C68': 'ICM',\n",
       " '20221008_Blastocyst.C73': 'PE-1',\n",
       " '20221018_Blastocyst.C28': 'PE-2',\n",
       " '20221018_Blastocyst.C32': 'TE-2',\n",
       " '20221018_Blastocyst.C34': 'PE-1',\n",
       " '20221018_Blastocyst.C61': 'PE-2',\n",
       " '20221018_Blastocyst.C64': 'TE-1',\n",
       " '20221019_BlastocystS1.C02': 'TE-3',\n",
       " '20221019_BlastocystS1.C04': 'EPI',\n",
       " '20221019_BlastocystS1.C10': 'TE-3',\n",
       " '20221019_BlastocystS1.C11': 'EPI',\n",
       " '20221019_BlastocystS1.C18': 'TE-3',\n",
       " '20221019_BlastocystS1.C30': 'EPI',\n",
       " '20221019_BlastocystS1.C54': 'EPI',\n",
       " '20221031_Blastocyst.C02': 'TE-1',\n",
       " '20221031_Blastocyst.C08': 'TE-1',\n",
       " '20221031_Blastocyst.C09': 'TE-1',\n",
       " '20221031_Blastocyst.C11': 'TE-1',\n",
       " '20221031_Blastocyst.C15': 'TE-1',\n",
       " '20221031_Blastocyst.C22': 'TE-1',\n",
       " '20221031_Blastocyst.C26': 'ICM',\n",
       " '20221031_Blastocyst.C30': 'TE-1',\n",
       " '20221031_Blastocyst.C35': 'TE-2',\n",
       " '20221031_Blastocyst.C56': 'TE-2',\n",
       " '20221031_Blastocyst.C57': 'TE-2',\n",
       " '20221031_Blastocyst.C60': 'ICM',\n",
       " '20221031_Blastocyst2.C01': 'Morula',\n",
       " '20221031_Blastocyst2.C02': 'Morula',\n",
       " '20221031_Blastocyst2.C04': 'Morula',\n",
       " '20221031_Blastocyst2.C05': 'TE-1',\n",
       " '20221031_Blastocyst2.C06': 'TE-1',\n",
       " '20221031_Blastocyst2.C07': 'ICM',\n",
       " '20221031_Blastocyst2.C08': 'TE-2',\n",
       " '20221031_Blastocyst2.C09': 'ICM',\n",
       " '20221031_Blastocyst2.C10': 'ICM',\n",
       " '20221031_Blastocyst2.C11': 'ICM',\n",
       " '20221031_Blastocyst2.C12': 'TE-1',\n",
       " '20221031_Blastocyst2.C14': 'ICM',\n",
       " '20221031_Blastocyst2.C16': 'PE-1',\n",
       " '20221031_Blastocyst2.C17': 'ICM',\n",
       " '20221031_Blastocyst2.C19': 'ICM',\n",
       " '20221031_Blastocyst2.C20': 'ICM',\n",
       " '20221031_Blastocyst2.C24': 'ICM',\n",
       " '20221031_Blastocyst2.C25': 'ICM',\n",
       " '20221031_Blastocyst2.C26': 'TE-1',\n",
       " '20221031_Blastocyst2.C27': 'ICM',\n",
       " '20221031_Blastocyst2.C30': 'EPI',\n",
       " '20221031_Blastocyst2.C32': 'TE-2',\n",
       " '20221031_Blastocyst2.C37': 'ICM',\n",
       " '20221031_Blastocyst2.C38': 'TE-1',\n",
       " '20221031_Blastocyst2.C43': 'TE-1',\n",
       " '20221031_Blastocyst2.C45': 'TE-1',\n",
       " '20221031_Blastocyst2.C47': 'PE-1',\n",
       " '20221031_Blastocyst2.C48': 'TE-1',\n",
       " '20221031_Blastocyst2.C52': 'TE-1',\n",
       " '20221031_Blastocyst2.C54': 'PE-1',\n",
       " '20221031_Blastocyst2.C55': 'EPI',\n",
       " '20221031_Blastocyst2.C57': 'EPI',\n",
       " '20221031_Blastocyst2.C62': 'ICM',\n",
       " '20221031_Blastocyst2.C64': 'EPI',\n",
       " '20221031_Blastocyst2.C65': 'ICM',\n",
       " '20221031_Blastocyst2.C66': 'PE-1',\n",
       " '20221031_Blastocyst2.C67': 'ICM',\n",
       " '20221031_Blastocyst2.C68': 'ICM',\n",
       " '20221031_Blastocyst2.C72': 'TE-1',\n",
       " '20221031_Blastocyst2.C73': 'ICM',\n",
       " '20221031_Blastocyst2.C75': 'ICM',\n",
       " '20221031_Blastocyst2.C76': 'ICM',\n",
       " '20221120_Blastocyst.C02': 'TE-1',\n",
       " '20221120_Blastocyst.C04': 'TE-1',\n",
       " '20221120_Blastocyst.C05': 'TE-2',\n",
       " '20221120_Blastocyst.C07': 'TE-1',\n",
       " '20221120_Blastocyst.C08': 'TE-1',\n",
       " '20221120_Blastocyst.C12': 'TE-2',\n",
       " '20221120_Blastocyst.C16': 'TE-2',\n",
       " '20221120_Blastocyst.C18': 'PE-2',\n",
       " '20221120_Blastocyst.C19': 'TE-2',\n",
       " '20221120_Blastocyst.C21': 'TE-1',\n",
       " '20221120_Blastocyst.C22': 'EPI',\n",
       " '20221120_Blastocyst.C24': 'EPI',\n",
       " '20221120_Blastocyst.C25': 'EPI',\n",
       " '20221120_Blastocyst.C26': 'EPI',\n",
       " '20221120_Blastocyst.C27': 'PE-1',\n",
       " '20221120_Blastocyst.C28': 'TE-1',\n",
       " '20221120_Blastocyst.C29': 'EPI',\n",
       " '20221120_Blastocyst.C30': 'EPI',\n",
       " '20221120_Blastocyst.C32': 'TE-1',\n",
       " '20221120_Blastocyst.C33': 'EPI',\n",
       " '20221120_Blastocyst.C35': 'EPI',\n",
       " '20221120_Blastocyst.C36': 'EPI',\n",
       " '20221120_Blastocyst.C37': 'EPI',\n",
       " '20221120_Blastocyst.C38': 'EPI',\n",
       " '20221120_Blastocyst.C39': 'PE-2',\n",
       " '20221120_Blastocyst.C41': 'PE-2',\n",
       " '20221120_Blastocyst.C45': 'EPI',\n",
       " '20221120_Blastocyst.C46': 'EPI',\n",
       " '20221120_Blastocyst.C47': 'PE-2',\n",
       " '20221120_Blastocyst.C50': 'TE-2',\n",
       " '20221120_Blastocyst.C51': 'TE-2',\n",
       " '20221120_Blastocyst.C53': 'TE-2',\n",
       " '20221120_Blastocyst.C54': 'TE-2',\n",
       " '20221120_Blastocyst.C56': 'ICM',\n",
       " '20221120_Blastocyst.C57': 'PE-2',\n",
       " '20221120_Blastocyst.C58': 'EPI',\n",
       " '20221120_Blastocyst.C59': 'TE-3',\n",
       " '20221120_Blastocyst.C60': 'PE-2',\n",
       " '20221120_Blastocyst.C64': 'PE-1',\n",
       " '20221120_Blastocyst.C66': 'ICM',\n",
       " '20221120_Blastocyst.C67': 'PE-2',\n",
       " '20221120_Blastocyst.C68': 'PE-2',\n",
       " '20221120_Blastocyst.C71': 'TE-2',\n",
       " '20221120_Blastocyst.C72': 'EPI',\n",
       " '20221120_Blastocyst.C74': 'TE-2',\n",
       " '20221120_Blastocyst.C75': 'PE-2',\n",
       " '20221120_Blastocyst.C76': 'TE-2',\n",
       " '20221120_Blastocyst.C77': 'TE-1',\n",
       " '20221120_Blastocyst.C78': 'TE-2',\n",
       " '20221120_Blastocyst.C82': 'TE-3',\n",
       " '20221120_Blastocyst.C83': 'TE-2',\n",
       " '20221120_Blastocyst.C84': 'TE-2',\n",
       " '20221122_Blastocyst.C02': 'Morula',\n",
       " '20221122_Blastocyst.C03': 'Unknown',\n",
       " '20221122_Blastocyst.C04': 'Morula',\n",
       " '20221122_Blastocyst.C05': 'TE-2',\n",
       " '20221122_Blastocyst.C06': 'TE-2',\n",
       " '20221122_Blastocyst.C07': 'TE-1',\n",
       " '20221122_Blastocyst.C08': 'Unknown',\n",
       " '20221122_Blastocyst.C10': 'TE-2',\n",
       " '20221122_Blastocyst.C12': 'ICM',\n",
       " '20221122_Blastocyst.C13': 'TE-1',\n",
       " '20221122_Blastocyst.C14': 'ICM',\n",
       " '20221122_Blastocyst.C15': 'ICM',\n",
       " '20221122_Blastocyst.C16': 'ICM',\n",
       " '20221122_Blastocyst.C17': 'ICM',\n",
       " '20221122_Blastocyst.C18': 'ICM',\n",
       " '20221122_Blastocyst.C19': 'ICM',\n",
       " '20221122_Blastocyst.C20': 'ICM',\n",
       " '20221122_Blastocyst.C21': 'PE-1',\n",
       " '20221122_Blastocyst.C22': 'ICM',\n",
       " '20221122_Blastocyst.C23': 'ICM',\n",
       " '20221122_Blastocyst.C24': 'ICM',\n",
       " '20221122_Blastocyst.C26': 'ICM',\n",
       " '20221122_Blastocyst.C27': 'ICM',\n",
       " '20221122_Blastocyst.C28': 'ICM',\n",
       " '20221122_Blastocyst.C29': 'ICM',\n",
       " '20221122_Blastocyst.C30': 'ICM',\n",
       " '20221122_Blastocyst.C35': 'ICM',\n",
       " '20221122_Blastocyst.C36': 'ICM',\n",
       " '20221122_Blastocyst.C37': 'ICM',\n",
       " '20221122_Blastocyst.C39': 'TE-2',\n",
       " '20221122_Blastocyst.C40': 'TE-1',\n",
       " '20221122_Blastocyst.C41': 'TE-2',\n",
       " '20221122_Blastocyst.C42': 'ICM',\n",
       " '20221122_Blastocyst.C43': 'ICM',\n",
       " '20221122_Blastocyst.C45': 'ICM',\n",
       " '20221122_Blastocyst.C50': 'ICM',\n",
       " '20221122_Blastocyst.C51': 'ICM',\n",
       " '20221122_Blastocyst.C52': 'TE-1',\n",
       " '20221122_Blastocyst.C53': 'TE-1',\n",
       " '20221122_Blastocyst.C54': 'TE-2',\n",
       " '20221122_Blastocyst.C55': 'TE-2',\n",
       " '20221122_Blastocyst.C56': 'TE-1',\n",
       " '20221122_Blastocyst.C57': 'TE-1',\n",
       " '20221122_Blastocyst.C59': 'TE-1',\n",
       " '20221122_Blastocyst.C60': 'TE-2',\n",
       " '20221122_Blastocyst.C61': 'ICM',\n",
       " '20221122_Blastocyst.C62': 'ICM',\n",
       " '20221122_Blastocyst.C63': 'TE-2',\n",
       " '20221122_Blastocyst.C64': 'ICM',\n",
       " '20221122_Blastocyst.C65': 'PE-1',\n",
       " '20221122_Blastocyst.C66': 'ICM',\n",
       " '20221122_Blastocyst.C67': 'ICM',\n",
       " '20221122_Blastocyst.C68': 'ICM',\n",
       " '20221122_Blastocyst.C69': 'ICM',\n",
       " '20221122_Blastocyst.C70': 'ICM',\n",
       " '20221122_Blastocyst.C71': 'TE-2',\n",
       " '20221122_Blastocyst.C72': 'ICM',\n",
       " '20221122_Blastocyst.C73': 'TE-1',\n",
       " '20221122_Blastocyst.C75': 'TE-2',\n",
       " '20221122_Blastocyst.C76': 'ICM',\n",
       " '20221122_Blastocyst.C77': 'ICM',\n",
       " '20221122_Blastocyst.C79': 'ICM',\n",
       " '20221122_Blastocyst.C80': 'ICM',\n",
       " '20221126_Blastocyst.C05': 'TE-1',\n",
       " '20221126_Blastocyst.C16': 'TE-1',\n",
       " '20221126_Blastocyst.C18': 'ICM',\n",
       " '20221126_Blastocyst.C20': 'Morula',\n",
       " '20221126_Blastocyst.C24': 'Morula',\n",
       " '20221126_Blastocyst.C25': 'TE-1',\n",
       " '20221126_Blastocyst.C32': 'TE-1',\n",
       " '20221126_Blastocyst.C37': 'ICM',\n",
       " '20221126_Blastocyst.C47': 'TE-1',\n",
       " '20221126_Blastocyst.C50': 'TE-1',\n",
       " '20221126_Blastocyst.C51': 'TE-1',\n",
       " '20221126_Blastocyst.C53': 'TE-1',\n",
       " '20221126_Blastocyst.C55': 'ICM',\n",
       " '20221126_Blastocyst.C57': 'TE-2',\n",
       " '20221126_Blastocyst.C58': 'TE-1',\n",
       " '20221126_Blastocyst.C59': 'ICM',\n",
       " '20221126_Blastocyst.C61': 'TE-2',\n",
       " '20221126_Blastocyst.C63': 'TE-2',\n",
       " '20221126_Blastocyst.C65': 'TE-2',\n",
       " '20221126_Blastocyst.C66': 'TE-2',\n",
       " '20221126_Blastocyst.C67': 'TE-2',\n",
       " '20221126_Blastocyst.C69': 'TE-1',\n",
       " '20221126_Blastocyst.C70': 'TE-2',\n",
       " '20221126_Blastocyst.C71': 'TE-1',\n",
       " '20221126_Blastocyst.C72': 'TE-2',\n",
       " '20221126_Blastocyst.C74': 'TE-2',\n",
       " '20221127_Blastocyst.C02': 'EPI',\n",
       " '20221127_Blastocyst.C09': 'EPI',\n",
       " '20221127_Blastocyst.C10': 'PE-2',\n",
       " '20221127_Blastocyst.C15': 'PE-2',\n",
       " '20221127_Blastocyst.C16': 'PE-2',\n",
       " '20221127_Blastocyst.C22': 'PE-2',\n",
       " '20221127_Blastocyst.C24': 'TE-3',\n",
       " '20221127_Blastocyst.C25': 'TE-3',\n",
       " '20221127_Blastocyst.C28': 'TE-3',\n",
       " '20221127_Blastocyst.C29': 'TE-3',\n",
       " '20221127_Blastocyst.C31': 'TE-3',\n",
       " '20221127_Blastocyst.C32': 'TE-3',\n",
       " '20221127_Blastocyst.C33': 'TE-3',\n",
       " '20221127_Blastocyst.C34': 'Morula',\n",
       " '20221127_Blastocyst.C36': 'TE-1',\n",
       " '20221127_Blastocyst.C37': 'TE-1',\n",
       " '20221127_Blastocyst.C38': 'Morula',\n",
       " '20221127_Blastocyst.C39': 'TE-1',\n",
       " '20221127_Blastocyst.C40': 'TE-1',\n",
       " '20221127_Blastocyst.C41': 'ICM',\n",
       " '20221127_Blastocyst.C42': 'PE-1',\n",
       " '20221127_Blastocyst.C43': 'TE-1',\n",
       " '20221127_Blastocyst.C44': 'PE-1',\n",
       " '20221127_Blastocyst.C45': 'ICM',\n",
       " '20221127_Blastocyst.C47': 'ICM',\n",
       " '20221127_Blastocyst.C48': 'ICM',\n",
       " '20221127_Blastocyst.C49': 'ICM',\n",
       " '20221127_Blastocyst.C50': 'ICM',\n",
       " '20221127_Blastocyst.C52': 'ICM',\n",
       " '20221127_Blastocyst.C54': 'TE-2',\n",
       " '20221127_Blastocyst.C55': 'PE-1',\n",
       " '20221127_Blastocyst.C56': 'PE-1',\n",
       " '20221127_Blastocyst.C57': 'ICM',\n",
       " '20221127_Blastocyst.C58': 'PE-1',\n",
       " '20221127_Blastocyst.C59': 'ICM',\n",
       " '20221127_Blastocyst.C60': 'ICM',\n",
       " '20221128_Blastocyst.C03': 'TE-1',\n",
       " '20221128_Blastocyst.C04': 'TE-2',\n",
       " '20221128_Blastocyst.C09': 'ICM',\n",
       " '20221128_Blastocyst.C10': 'TE-2',\n",
       " '20221128_Blastocyst.C13': 'TE-2',\n",
       " '20221128_Blastocyst.C14': 'ICM',\n",
       " '20221128_Blastocyst.C16': 'ICM',\n",
       " '20221128_Blastocyst.C17': 'TE-1',\n",
       " '20221128_Blastocyst.C20': 'ICM',\n",
       " '20221128_Blastocyst.C22': 'TE-2',\n",
       " '20221128_Blastocyst.C24': 'TE-2',\n",
       " '20221128_Blastocyst.C29': 'ICM',\n",
       " '20221128_Blastocyst.C30': 'TE-2',\n",
       " '20221128_Blastocyst.C32': 'ICM',\n",
       " '20221128_Blastocyst.C33': 'ICM',\n",
       " '20221128_Blastocyst.C35': 'TE-1',\n",
       " '20221128_Blastocyst.C37': 'TE-2',\n",
       " '20221128_Blastocyst.C38': 'ICM',\n",
       " '20221128_Blastocyst.C39': 'TE-2',\n",
       " '20221128_Blastocyst.C41': 'TE-2',\n",
       " '20221128_Blastocyst.C42': 'TE-2',\n",
       " '20221128_Blastocyst.C44': 'ICM',\n",
       " '20221128_Blastocyst.C46': 'TE-2',\n",
       " '20221128_Blastocyst.C48': 'TE-2',\n",
       " '20221128_Blastocyst.C49': 'TE-2',\n",
       " '20221128_Blastocyst.C50': 'TE-3',\n",
       " '20221128_Blastocyst.C55': 'PE-1',\n",
       " '20221129_Blastocyst.C03': 'TE-1',\n",
       " '20221129_Blastocyst.C04': 'ICM',\n",
       " '20221129_Blastocyst.C05': 'TE-1',\n",
       " '20221129_Blastocyst.C08': 'ICM',\n",
       " '20221129_Blastocyst.C09': 'EPI',\n",
       " '20221129_Blastocyst.C18': 'ICM',\n",
       " '20221129_Blastocyst.C20': 'ICM',\n",
       " '20221129_Blastocyst.C22': 'TE-2',\n",
       " '20221129_Blastocyst.C27': 'TE-1',\n",
       " '20221129_Blastocyst.C30': 'TE-1',\n",
       " '20221129_Blastocyst.C31': 'ICM',\n",
       " '20221129_Blastocyst.C32': 'TE-2',\n",
       " '20221129_Blastocyst.C35': 'TE-2',\n",
       " '20221129_Blastocyst.C40': 'TE-2',\n",
       " '20221129_Blastocyst.C44': 'PE-1',\n",
       " '20221129_Blastocyst.C47': 'TE-2',\n",
       " '20221129_Blastocyst.C54': 'ICM',\n",
       " '20221129_Blastocyst.C57': 'ICM',\n",
       " '20221129_Blastocyst.C60': 'ICM',\n",
       " '20221129_Blastocyst.C61': 'ICM',\n",
       " '20221207_Blastocyst.C07': 'ICM',\n",
       " '20221207_Blastocyst.C09': 'ICM',\n",
       " '20221207_Blastocyst.C14': 'TE-1',\n",
       " '20221207_Blastocyst.C17': 'TE-1',\n",
       " '20221207_Blastocyst.C18': 'Morula',\n",
       " '20221207_Blastocyst.C29': 'TE-2',\n",
       " '20221207_Blastocyst.C33': 'TE-1',\n",
       " '20221207_Blastocyst.C42': 'ICM',\n",
       " '20221207_Blastocyst.C43': 'TE-1',\n",
       " '20221207_Blastocyst.C58': 'TE-2',\n",
       " '20221207_Blastocyst.C63': 'TE-1',\n",
       " '20221207_Blastocyst.C64': 'ICM',\n",
       " '20221207_Blastocyst.C67': 'ICM',\n",
       " '20221207_Blastocyst2.C09': 'TE-1',\n",
       " '20221207_Blastocyst2.C12': 'TE-1',\n",
       " '20221207_Blastocyst2.C14': 'ICM',\n",
       " '20221207_Blastocyst2.C15': 'TE-1',\n",
       " '20221207_Blastocyst2.C34': 'ICM',\n",
       " '20221207_Blastocyst2.C37': 'ICM',\n",
       " '20221207_Blastocyst2.C38': 'TE-1',\n",
       " '20221207_Blastocyst2.C43': 'ICM',\n",
       " '20221207_Blastocyst2.C48': 'ICM',\n",
       " '20221207_Blastocyst2.C50': 'TE-1',\n",
       " '20221207_Blastocyst2.C52': 'TE-2',\n",
       " '20221207_Blastocyst2.C55': 'TE-1',\n",
       " '20221207_Blastocyst2.C56': 'ICM',\n",
       " '20221207_Blastocyst2.C58': 'ICM',\n",
       " '20221207_Blastocyst2.C59': 'ICM',\n",
       " '20221207_Blastocyst2.C61': 'ICM',\n",
       " '20221207_Blastocyst2.C64': 'TE-1',\n",
       " '20221207_Blastocyst2.C66': 'ICM',\n",
       " '20221207_Blastocyst2.C67': 'TE-2',\n",
       " '20221207_Blastocyst2.C68': 'ICM',\n",
       " '20221207_Blastocyst2.C69': 'TE-2',\n",
       " '20221207_Blastocyst2.C70': 'PE-1',\n",
       " '20221207_Blastocyst2.C71': 'ICM',\n",
       " '20221207_Blastocyst2.C72': 'TE-2',\n",
       " '20221207_Blastocyst3.C02': 'TE-2',\n",
       " '20221207_Blastocyst3.C04': 'TE-2',\n",
       " '20221207_Blastocyst3.C08': 'PE-1',\n",
       " '20221207_Blastocyst3.C09': 'TE-2',\n",
       " '20221207_Blastocyst3.C10': 'TE-2',\n",
       " '20221207_Blastocyst3.C12': 'TE-1',\n",
       " '20221207_Blastocyst3.C13': 'TE-2',\n",
       " '20221207_Blastocyst3.C14': 'ICM',\n",
       " '20221207_Blastocyst3.C15': 'ICM',\n",
       " '20221207_Blastocyst3.C18': 'PE-1',\n",
       " '20221207_Blastocyst3.C19': 'TE-2',\n",
       " '20221207_Blastocyst3.C22': 'TE-1',\n",
       " '20221207_Blastocyst3.C26': 'TE-1',\n",
       " '20221207_Blastocyst3.C27': 'TE-2',\n",
       " '20221207_Blastocyst3.C31': 'TE-2',\n",
       " '20221207_Blastocyst3.C32': 'TE-2',\n",
       " '20221207_Blastocyst3.C38': 'TE-2',\n",
       " '20221207_Blastocyst3.C39': 'TE-2',\n",
       " '20221207_Blastocyst3.C43': 'TE-2',\n",
       " '20221207_Blastocyst3.C45': 'TE-2',\n",
       " '20221207_Blastocyst3.C46': 'ICM',\n",
       " '20221207_Blastocyst3.C49': 'TE-2',\n",
       " '20221207_Blastocyst3.C50': 'TE-2',\n",
       " '20221207_Blastocyst3.C52': 'PE-1',\n",
       " '20221207_Blastocyst3.C53': 'ICM',\n",
       " '20221207_Blastocyst3.C55': 'ICM',\n",
       " '20221207_Blastocyst3.C57': 'TE-2',\n",
       " '20221207_Blastocyst3.C58': 'TE-2',\n",
       " '20221207_Blastocyst3.C63': 'TE-2',\n",
       " '20221207_Blastocyst3.C64': 'ICM',\n",
       " '20221207_Blastocyst3.C65': 'TE-2',\n",
       " '20221207_Blastocyst3.C69': 'TE-2',\n",
       " '20221207_Blastocyst3.C70': 'TE-2',\n",
       " '20221207_Blastocyst3.C71': 'TE-1',\n",
       " '20221207_Blastocyst3.C72': 'TE-2',\n",
       " '20221207_Blastocyst3.C73': 'ICM',\n",
       " '20221217_BlastocystC70.C02': 'PE-2',\n",
       " '20221217_BlastocystC70.C03': 'PE-2',\n",
       " '20221217_BlastocystC70.C06': 'EPI',\n",
       " '20221217_BlastocystC70.C08': 'TE-1',\n",
       " '20221217_BlastocystC70.C09': 'TE-1',\n",
       " '20221217_BlastocystC70.C10': 'ICM',\n",
       " '20221217_BlastocystC70.C11': 'TE-1',\n",
       " '20221217_BlastocystC70.C12': 'TE-1',\n",
       " '20221217_BlastocystC70.C14': 'TE-1',\n",
       " '20221217_BlastocystC70.C15': 'TE-1',\n",
       " '20221217_BlastocystC70.C16': 'TE-1',\n",
       " '20221217_BlastocystC70.C17': 'ICM',\n",
       " '20221217_BlastocystC70.C18': 'TE-1',\n",
       " '20221217_BlastocystC70.C19': 'TE-1',\n",
       " '20221217_BlastocystC70.C20': 'TE-1',\n",
       " '20221217_BlastocystC70.C23': 'TE-1',\n",
       " '20221217_BlastocystC70.C25': 'ICM',\n",
       " '20221217_BlastocystC70.C26': 'TE-1',\n",
       " '20221217_BlastocystC70.C27': 'TE-1',\n",
       " '20221217_BlastocystC70.C31': 'PE-1',\n",
       " '20221217_BlastocystC70.C32': 'PE-1',\n",
       " '20221217_BlastocystC70.C33': 'PE-1',\n",
       " '20221217_BlastocystC70.C34': 'EPI',\n",
       " '20221217_BlastocystC70.C36': 'PE-2',\n",
       " '20221217_BlastocystC70.C38': 'PE-2',\n",
       " '20221217_BlastocystC70.C39': 'EPI',\n",
       " '20221217_BlastocystC70.C40': 'EPI',\n",
       " '20221217_BlastocystC70.C42': 'EPI',\n",
       " '20221217_BlastocystC70.C44': 'PE-2',\n",
       " '20221217_BlastocystC70.C46': 'PE-2',\n",
       " '20221217_BlastocystC70.C47': 'Unknown',\n",
       " '20221217_BlastocystC70.C48': 'PE-2',\n",
       " '20221217_BlastocystC70.C52': 'TE-3',\n",
       " '20221217_BlastocystC70.C53': 'EPI',\n",
       " '20221217_BlastocystC70.C55': 'PE-2',\n",
       " '20221217_BlastocystC70.C56': 'PE-2',\n",
       " '20221217_BlastocystC70.C57': 'PE-1',\n",
       " '20221217_BlastocystC70.C60': 'EPI',\n",
       " '20221217_BlastocystC70.C64': 'PE-2',\n",
       " '20221217_BlastocystC70.C65': 'ICM',\n",
       " '20221217_BlastocystC70.C66': 'EPI',\n",
       " '20221217_BlastocystC70.C67': 'ICM',\n",
       " '20221217_BlastocystC70.C68': 'ICM',\n",
       " '20221217_BlastocystC70.C70': 'EPI',\n",
       " '20221217_BlastocystC70.C72': 'EPI',\n",
       " '20221217_BlastocystC70.C73': 'EPI',\n",
       " '20221217_BlastocystC70.C76': 'EPI',\n",
       " '20221217_BlastocystC70.C79': 'ICM',\n",
       " '20221217_BlastocystC70.C80': 'EPI',\n",
       " '20221217_BlastocystC70.C82': 'EPI',\n",
       " '20221217_BlastocystC70.C83': 'EPI',\n",
       " '20221217_BlastocystC73.C02': 'TE-1',\n",
       " '20221217_BlastocystC73.C03': 'TE-1',\n",
       " '20221217_BlastocystC73.C04': 'TE-1',\n",
       " '20221217_BlastocystC73.C05': 'ICM',\n",
       " '20221217_BlastocystC73.C06': 'TE-1',\n",
       " '20221217_BlastocystC73.C07': 'TE-1',\n",
       " '20221217_BlastocystC73.C08': 'TE-2',\n",
       " '20221217_BlastocystC73.C09': 'TE-1',\n",
       " '20221217_BlastocystC73.C10': 'TE-2',\n",
       " '20221217_BlastocystC73.C11': 'ICM',\n",
       " '20221217_BlastocystC73.C12': 'PE-1',\n",
       " '20221217_BlastocystC73.C14': 'TE-1',\n",
       " '20221217_BlastocystC73.C15': 'ICM',\n",
       " '20221217_BlastocystC73.C16': 'ICM',\n",
       " '20221217_BlastocystC73.C17': 'TE-1',\n",
       " '20221217_BlastocystC73.C18': 'PE-1',\n",
       " '20221217_BlastocystC73.C19': 'ICM',\n",
       " '20221217_BlastocystC73.C20': 'TE-1',\n",
       " '20221217_BlastocystC73.C21': 'ICM',\n",
       " '20221217_BlastocystC73.C22': 'ICM',\n",
       " '20221217_BlastocystC73.C23': 'TE-1',\n",
       " '20221217_BlastocystC73.C24': 'TE-1',\n",
       " '20221217_BlastocystC73.C25': 'TE-2',\n",
       " '20221217_BlastocystC73.C26': 'ICM',\n",
       " '20221217_BlastocystC73.C27': 'TE-1',\n",
       " '20221217_BlastocystC73.C28': 'ICM',\n",
       " '20221217_BlastocystC73.C29': 'ICM',\n",
       " '20221217_BlastocystC73.C30': 'TE-1',\n",
       " '20221217_BlastocystC73.C31': 'TE-1',\n",
       " '20221217_BlastocystC73.C32': 'ICM',\n",
       " '20221217_BlastocystC73.C33': 'TE-1',\n",
       " '20221217_BlastocystC73.C34': 'TE-1',\n",
       " '20221217_BlastocystC73.C35': 'TE-1',\n",
       " '20221217_BlastocystC73.C36': 'ICM',\n",
       " '20221217_BlastocystC73.C37': 'ICM',\n",
       " '20221217_BlastocystC73.C38': 'ICM',\n",
       " '20221217_BlastocystC73.C39': 'TE-1',\n",
       " '20221217_BlastocystC73.C41': 'ICM',\n",
       " '20221217_BlastocystC73.C42': 'TE-1',\n",
       " '20221217_BlastocystC73.C43': 'TE-1',\n",
       " '20221217_BlastocystC73.C44': 'TE-1',\n",
       " '20221217_BlastocystC73.C45': 'TE-1',\n",
       " '20221217_BlastocystC73.C46': 'TE-1',\n",
       " '20221217_BlastocystC73.C47': 'TE-1',\n",
       " '20221217_BlastocystC73.C48': 'TE-2',\n",
       " '20221217_BlastocystC73.C49': 'TE-1',\n",
       " '20221217_BlastocystC73.C50': 'ICM',\n",
       " '20221217_BlastocystC73.C51': 'TE-1',\n",
       " '20221217_BlastocystC73.C52': 'ICM',\n",
       " '20221217_BlastocystC73.C53': 'TE-2',\n",
       " '20221217_BlastocystC73.C54': 'ICM',\n",
       " '20221217_BlastocystC73.C55': 'TE-1',\n",
       " '20221217_BlastocystC73.C56': 'ICM',\n",
       " '20221217_BlastocystC73.C57': 'ICM',\n",
       " '20221217_BlastocystC73.C58': 'TE-1',\n",
       " '20221217_BlastocystC73.C59': 'TE-2',\n",
       " '20221217_BlastocystC73.C60': 'ICM',\n",
       " '20221217_BlastocystC73.C61': 'ICM',\n",
       " '20221217_BlastocystC73.C62': 'ICM',\n",
       " '20221217_BlastocystC73.C63': 'ICM',\n",
       " '20221217_BlastocystC73.C64': 'TE-1',\n",
       " '20221217_BlastocystC73.C65': 'TE-1',\n",
       " '20221217_BlastocystC73.C66': 'ICM',\n",
       " '20221217_BlastocystC73.C67': 'ICM',\n",
       " '20221217_BlastocystC73.C68': 'ICM',\n",
       " '20221217_BlastocystC73.C69': 'TE-1',\n",
       " '20221217_BlastocystC73.C71': 'ICM',\n",
       " '20221217_BlastocystC73.C73': 'TE-1',\n",
       " '20221217_BlastocystC73.C74': 'ICM',\n",
       " '20221217_BlastocystC73.C75': 'PE-1',\n",
       " '20221217_BlastocystC73.C76': 'ICM',\n",
       " '20221217_BlastocystC73.C77': 'ICM',\n",
       " '20221217_BlastocystC73.C78': 'ICM',\n",
       " '20221217_BlastocystC73.C79': 'ICM',\n",
       " '20221217_BlastocystC73.C81': 'ICM',\n",
       " '20221217_BlastocystC73.C82': 'ICM',\n",
       " '20221217_BlastocystC73.C83': 'ICM',\n",
       " '20221217_BlastocystC73.C84': 'TE-1',\n",
       " '20221217_BlastocystC73.C85': 'ICM',\n",
       " '20221217_BlastocystC73.C87': 'TE-1',\n",
       " '20221217_BlastocystC74.C08': 'ICM',\n",
       " '20221217_BlastocystC74.C11': 'ICM',\n",
       " '20221217_BlastocystC74.C13': 'TE-1',\n",
       " '20221217_BlastocystC74.C14': 'ICM',\n",
       " '20221217_BlastocystC74.C15': 'ICM',\n",
       " '20221217_BlastocystC74.C16': 'ICM',\n",
       " '20221217_BlastocystC74.C18': 'ICM',\n",
       " '20221217_BlastocystC74.C20': 'ICM',\n",
       " '20221217_BlastocystC74.C25': 'ICM',\n",
       " '20221217_BlastocystC74.C31': 'TE-1',\n",
       " '20221217_BlastocystC74.C33': 'ICM',\n",
       " '20221217_BlastocystC74.C34': 'TE-1',\n",
       " '20221217_BlastocystC74.C35': 'ICM',\n",
       " '20221217_BlastocystC74.C40': 'TE-1',\n",
       " '20221217_BlastocystC74.C44': 'TE-1',\n",
       " '20221217_BlastocystC74.C45': 'TE-1',\n",
       " '20221217_BlastocystC74.C46': 'TE-1',\n",
       " '20221217_BlastocystC74.C48': 'TE-1',\n",
       " '20221217_BlastocystC74.C52': 'ICM',\n",
       " '20221217_BlastocystC74.C53': 'ICM',\n",
       " '20221217_BlastocystC74.C55': 'TE-1',\n",
       " '20221217_BlastocystC74.C56': 'TE-1',\n",
       " '20221217_BlastocystC74.C58': 'TE-1',\n",
       " '20221217_BlastocystC74.C59': 'ICM',\n",
       " '20221217_BlastocystC74.C60': 'ICM',\n",
       " '20221217_BlastocystC74.C61': 'TE-1',\n",
       " '20221217_BlastocystC74.C64': 'ICM',\n",
       " '20221217_BlastocystC74.C65': 'ICM',\n",
       " '20221217_BlastocystC74.C66': 'ICM',\n",
       " '20221217_BlastocystC74.C67': 'ICM',\n",
       " '20221217_BlastocystC74.C68': 'TE-1',\n",
       " '20221217_BlastocystC75.C02': 'TE-1',\n",
       " '20221217_BlastocystC75.C03': 'ICM',\n",
       " '20221217_BlastocystC75.C04': 'TE-1',\n",
       " '20221217_BlastocystC75.C05': 'ICM',\n",
       " '20221217_BlastocystC75.C06': 'TE-2',\n",
       " '20221217_BlastocystC75.C07': 'TE-1',\n",
       " '20221217_BlastocystC75.C08': 'ICM',\n",
       " '20221217_BlastocystC75.C09': 'ICM',\n",
       " '20221217_BlastocystC75.C10': 'ICM',\n",
       " '20221217_BlastocystC75.C11': 'TE-1',\n",
       " '20221217_BlastocystC75.C12': 'ICM',\n",
       " '20221217_BlastocystC75.C13': 'ICM',\n",
       " '20221217_BlastocystC75.C14': 'ICM',\n",
       " '20221217_BlastocystC75.C15': 'ICM',\n",
       " '20221217_BlastocystC75.C16': 'ICM',\n",
       " '20221217_BlastocystC75.C17': 'TE-1',\n",
       " '20221217_BlastocystC75.C19': 'ICM',\n",
       " '20221217_BlastocystC75.C20': 'ICM',\n",
       " '20221217_BlastocystC75.C21': 'ICM',\n",
       " '20221217_BlastocystC75.C22': 'TE-2',\n",
       " '20221217_BlastocystC75.C23': 'ICM',\n",
       " '20221217_BlastocystC75.C24': 'ICM',\n",
       " '20221217_BlastocystC75.C25': 'TE-1',\n",
       " '20221217_BlastocystC75.C27': 'TE-2',\n",
       " '20221217_BlastocystC75.C28': 'ICM',\n",
       " '20221217_BlastocystC75.C29': 'ICM',\n",
       " '20221217_BlastocystC75.C30': 'ICM',\n",
       " '20221217_BlastocystC75.C31': 'ICM',\n",
       " '20221217_BlastocystC75.C33': 'TE-1',\n",
       " '20221217_BlastocystC75.C34': 'ICM',\n",
       " '20221217_BlastocystC75.C35': 'ICM',\n",
       " '20221217_BlastocystC75.C37': 'TE-1',\n",
       " '20221217_BlastocystC75.C38': 'ICM',\n",
       " '20221217_BlastocystC75.C39': 'ICM',\n",
       " '20221217_BlastocystC75.C40': 'TE-1',\n",
       " '20221217_BlastocystC75.C41': 'PE-1',\n",
       " '20221217_BlastocystC75.C43': 'ICM',\n",
       " '20221217_BlastocystC75.C45': 'ICM',\n",
       " '20221217_BlastocystC75.C46': 'ICM',\n",
       " '20221217_BlastocystC75.C47': 'TE-1',\n",
       " '20221217_BlastocystC75.C50': 'TE-2',\n",
       " '20221217_BlastocystC75.C51': 'ICM',\n",
       " '20221217_BlastocystC75.C52': 'ICM',\n",
       " '20221217_BlastocystC75.C54': 'ICM',\n",
       " '20221217_BlastocystC75.C55': 'ICM',\n",
       " '20221217_BlastocystC75.C56': 'TE-2',\n",
       " '20221217_BlastocystC75.C59': 'TE-1',\n",
       " '20221217_BlastocystC75.C60': 'ICM',\n",
       " '20221217_BlastocystC75.C61': 'ICM',\n",
       " '20221217_BlastocystC75.C62': 'ICM',\n",
       " '20221217_BlastocystC75.C63': 'ICM',\n",
       " '20221217_BlastocystC75.C64': 'ICM',\n",
       " '20221217_BlastocystC75.C65': 'ICM',\n",
       " '20221217_BlastocystC75.C66': 'ICM',\n",
       " '20221217_BlastocystC75.C67': 'ICM',\n",
       " '20221217_BlastocystC75.C68': 'TE-1',\n",
       " '20221217_BlastocystC75.C69': 'ICM',\n",
       " '20221217_BlastocystC75.C70': 'ICM',\n",
       " '20221217_BlastocystC75.C71': 'ICM',\n",
       " '20221217_BlastocystC75.C72': 'ICM',\n",
       " '20221217_BlastocystC75.C74': 'TE-1',\n",
       " '20221217_BlastocystC75.C75': 'TE-1',\n",
       " '20221217_BlastocystC75.C76': 'ICM',\n",
       " '20221217_BlastocystC75.C77': 'TE-1',\n",
       " '20221217_BlastocystC75.C78': 'ICM',\n",
       " '20221217_BlastocystC75.C79': 'ICM',\n",
       " '20221217_BlastocystC75.C80': 'ICM',\n",
       " '20221217_BlastocystC75.C81': 'TE-1',\n",
       " '20221217_BlastocystC75.C82': 'ICM',\n",
       " '20221217_BlastocystC76.C01': 'TE-1',\n",
       " '20221217_BlastocystC76.C02': 'ICM',\n",
       " '20221217_BlastocystC76.C04': 'ICM',\n",
       " '20221217_BlastocystC76.C05': 'TE-1',\n",
       " '20221217_BlastocystC76.C06': 'ICM',\n",
       " '20221217_BlastocystC76.C08': 'ICM',\n",
       " '20221217_BlastocystC76.C09': 'TE-1',\n",
       " '20221217_BlastocystC76.C10': 'ICM',\n",
       " '20221217_BlastocystC76.C11': 'ICM',\n",
       " '20221217_BlastocystC76.C12': 'TE-1',\n",
       " '20221217_BlastocystC76.C14': 'ICM',\n",
       " '20221217_BlastocystC76.C15': 'TE-2',\n",
       " '20221217_BlastocystC76.C17': 'ICM',\n",
       " '20221217_BlastocystC76.C18': 'TE-1',\n",
       " '20221217_BlastocystC76.C19': 'ICM',\n",
       " '20221217_BlastocystC76.C20': 'ICM',\n",
       " '20221217_BlastocystC76.C21': 'ICM',\n",
       " '20221217_BlastocystC76.C22': 'TE-1',\n",
       " '20221217_BlastocystC76.C23': 'ICM',\n",
       " '20221217_BlastocystC76.C24': 'ICM',\n",
       " '20221217_BlastocystC76.C25': 'TE-2',\n",
       " '20221217_BlastocystC76.C26': 'ICM',\n",
       " '20221217_BlastocystC76.C27': 'TE-1',\n",
       " '20221217_BlastocystC76.C28': 'ICM',\n",
       " '20221217_BlastocystC76.C29': 'ICM',\n",
       " '20221217_BlastocystC76.C30': 'TE-1',\n",
       " '20221217_BlastocystC76.C31': 'TE-1',\n",
       " '20221217_BlastocystC76.C32': 'TE-1',\n",
       " '20221217_BlastocystC76.C33': 'PE-1',\n",
       " '20221217_BlastocystC76.C34': 'ICM',\n",
       " '20221217_BlastocystC76.C35': 'ICM',\n",
       " '20221217_BlastocystC76.C37': 'ICM',\n",
       " '20221217_BlastocystC76.C39': 'ICM',\n",
       " '20221217_BlastocystC76.C40': 'ICM',\n",
       " '20221217_BlastocystC76.C41': 'TE-1',\n",
       " '20221217_BlastocystC76.C42': 'ICM',\n",
       " '20221217_BlastocystC76.C43': 'TE-1',\n",
       " '20221217_BlastocystC76.C44': 'TE-1',\n",
       " '20221217_BlastocystC76.C45': 'ICM',\n",
       " '20221217_BlastocystC76.C46': 'ICM',\n",
       " '20221217_BlastocystC76.C47': 'TE-1',\n",
       " '20221217_BlastocystC76.C48': 'TE-2',\n",
       " '20221217_BlastocystC76.C50': 'ICM',\n",
       " '20221217_BlastocystC76.C51': 'TE-2',\n",
       " '20221217_BlastocystC76.C52': 'ICM',\n",
       " '20221217_BlastocystC76.C53': 'ICM',\n",
       " '20221217_BlastocystC76.C55': 'ICM',\n",
       " '20221217_BlastocystC76.C56': 'ICM',\n",
       " '20221217_BlastocystC76.C57': 'TE-1',\n",
       " '20221217_BlastocystC76.C58': 'TE-2',\n",
       " '20221217_BlastocystC76.C59': 'PE-1',\n",
       " '20221217_BlastocystC76.C60': 'ICM',\n",
       " '20221217_BlastocystC76.C62': 'TE-1',\n",
       " '20221217_BlastocystC76.C63': 'TE-2',\n",
       " '20221217_BlastocystC76.C64': 'ICM',\n",
       " '20221217_BlastocystC76.C65': 'PE-2',\n",
       " '20221217_BlastocystC76.C66': 'TE-1',\n",
       " '20221217_BlastocystC76.C67': 'ICM',\n",
       " '20221217_BlastocystC76.C68': 'TE-1',\n",
       " '20221217_BlastocystC76.C69': 'TE-1',\n",
       " '20221217_BlastocystC76.C70': 'TE-1',\n",
       " '20221217_BlastocystC76.C71': 'TE-1',\n",
       " '20221217_BlastocystC76.C72': 'ICM',\n",
       " '20221217_BlastocystC76.C73': 'TE-1',\n",
       " '20221217_BlastocystC76.C74': 'TE-1',\n",
       " '20221217_BlastocystC76.C75': 'TE-1',\n",
       " '20221217_BlastocystC76.C76': 'TE-1',\n",
       " '20221218_BlastocystC64.C06': 'PE-2',\n",
       " '20221218_BlastocystC64.C07': 'EPI',\n",
       " '20221218_BlastocystC64.C08': 'EPI',\n",
       " '20221218_BlastocystC64.C11': 'TE-2',\n",
       " '20221218_BlastocystC64.C16': 'TE-3',\n",
       " '20221218_BlastocystC64.C17': 'TE-3',\n",
       " '20221218_BlastocystC64.C18': 'EPI',\n",
       " '20221218_BlastocystC64.C21': 'EPI',\n",
       " '20221218_BlastocystC64.C23': 'Unknown',\n",
       " '20221218_BlastocystC64.C26': 'EPI',\n",
       " '20221218_BlastocystC64.C27': 'TE-2',\n",
       " '20221218_BlastocystC64.C29': 'Unknown',\n",
       " '20221218_BlastocystC64.C33': 'TE-3',\n",
       " '20221218_BlastocystC64.C36': 'EPI',\n",
       " '20221218_BlastocystC64.C37': 'EPI',\n",
       " '20221218_BlastocystC64.C43': 'TE-3',\n",
       " '20221218_BlastocystC64.C46': 'TE-2',\n",
       " '20221218_BlastocystC64.C50': 'EPI',\n",
       " '20221218_BlastocystC64.C51': 'TE-2',\n",
       " '20221218_BlastocystC64.C53': 'TE-2',\n",
       " '20221218_BlastocystC64.C54': 'TE-3',\n",
       " '20221218_BlastocystC64.C57': 'TE-3',\n",
       " '20221218_BlastocystC64.C59': 'TE-2',\n",
       " '20221218_BlastocystC64.C60': 'TE-3',\n",
       " '20221218_BlastocystC64.C62': 'TE-2',\n",
       " '20221218_BlastocystC64.C63': 'TE-3',\n",
       " '20221218_BlastocystC64.C64': 'TE-3',\n",
       " '20221218_BlastocystC64.C66': 'PE-2',\n",
       " '20221218_BlastocystC64.C67': 'TE-3',\n",
       " '20221218_BlastocystC64.C81': 'EPI',\n",
       " '20221218_BlastocystC64.C83': 'PE-2',\n",
       " '20221218_BlastocystC67.C01': 'TE-3',\n",
       " '20221218_BlastocystC67.C02': 'EPI',\n",
       " '20221218_BlastocystC67.C05': 'TE-3',\n",
       " '20221218_BlastocystC67.C08': 'EPI',\n",
       " '20221218_BlastocystC67.C10': 'TE-3',\n",
       " '20221218_BlastocystC67.C11': 'TE-3',\n",
       " '20221218_BlastocystC67.C13': 'TE-3',\n",
       " '20221218_BlastocystC67.C14': 'TE-3',\n",
       " '20221218_BlastocystC67.C15': 'EPI',\n",
       " '20221218_BlastocystC67.C16': 'TE-3',\n",
       " '20221218_BlastocystC67.C18': 'TE-2',\n",
       " '20221218_BlastocystC67.C21': 'EPI',\n",
       " '20221218_BlastocystC67.C23': 'TE-3',\n",
       " '20221218_BlastocystC67.C28': 'EPI',\n",
       " '20221218_BlastocystC67.C29': 'TE-2',\n",
       " '20221218_BlastocystC67.C31': 'PE-2',\n",
       " '20221218_BlastocystC67.C33': 'TE-3',\n",
       " '20221218_BlastocystC67.C35': 'TE-2',\n",
       " '20221218_BlastocystC67.C37': 'EPI',\n",
       " '20221218_BlastocystC67.C38': 'TE-2',\n",
       " '20221218_BlastocystC67.C40': 'TE-3',\n",
       " '20221218_BlastocystC67.C45': 'PE-1',\n",
       " '20221218_BlastocystC67.C46': 'TE-2',\n",
       " '20221218_BlastocystC67.C47': 'TE-3',\n",
       " '20221218_BlastocystC67.C50': 'PE-2',\n",
       " '20221218_BlastocystC67.C54': 'TE-2',\n",
       " '20221218_BlastocystC67.C55': 'TE-3',\n",
       " '20221218_BlastocystC67.C63': 'TE-3',\n",
       " '20221218_BlastocystC67.C70': 'TE-3',\n",
       " '20221218_BlastocystC67.C76': 'TE-3',\n",
       " '20221218_BlastocystC69.C07': 'PE-2',\n",
       " '20221218_BlastocystC69.C09': 'TE-2',\n",
       " '20221218_BlastocystC69.C18': 'EPI',\n",
       " '20221218_BlastocystC69.C20': 'PE-2',\n",
       " '20221218_BlastocystC69.C21': 'TE-3',\n",
       " '20221218_BlastocystC69.C22': 'EPI',\n",
       " '20221218_BlastocystC69.C23': 'TE-2',\n",
       " '20221218_BlastocystC69.C26': 'EPI',\n",
       " ...}"
      ]
     },
     "execution_count": 4,
     "metadata": {},
     "output_type": "execute_result"
    }
   ],
   "source": [
    "dat1 = pd.read_csv(\"seurat_outputs/seurat_metadata_active_ident.tsv\", sep=\"\\t\")\n",
    "mapper = {k: v for k, v in dat1[[\"Cell\", \"CellType\"]].values}\n",
    "mapper"
   ]
  },
  {
   "cell_type": "code",
   "execution_count": 8,
   "id": "db8a4155",
   "metadata": {
    "ExecuteTime": {
     "end_time": "2023-11-26T12:32:35.182739Z",
     "start_time": "2023-11-26T12:32:34.977898Z"
    }
   },
   "outputs": [],
   "source": [
    "dat2 = pd.read_csv(\"expression/mouse_blastocyst_transcript_meta.tsv\", sep=\"\\t\")\n",
    "dat2[\"CellType\"] = [mapper.get(cell, \"Unknown\") for cell in dat2[\"Cell\"]]\n",
    "dat2.to_csv(\"expression/mouse_blastocyst_transcript_meta.celltype.tsv\", sep=\"\\t\", index=False)"
   ]
  },
  {
   "cell_type": "code",
   "execution_count": null,
   "id": "7b939059",
   "metadata": {},
   "outputs": [],
   "source": []
  }
 ],
 "metadata": {
  "kernelspec": {
   "display_name": "Python 3",
   "language": "python",
   "name": "python3"
  },
  "language_info": {
   "codemirror_mode": {
    "name": "ipython",
    "version": 3
   },
   "file_extension": ".py",
   "mimetype": "text/x-python",
   "name": "python",
   "nbconvert_exporter": "python",
   "pygments_lexer": "ipython3",
   "version": "3.6.15"
  }
 },
 "nbformat": 4,
 "nbformat_minor": 5
}
