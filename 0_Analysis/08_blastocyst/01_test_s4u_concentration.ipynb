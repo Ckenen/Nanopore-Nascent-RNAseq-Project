{
 "cells": [
  {
   "cell_type": "code",
   "execution_count": null,
   "id": "6c1c2e92",
   "metadata": {
    "ExecuteTime": {
     "start_time": "2024-03-10T06:25:00.701Z"
    }
   },
   "outputs": [],
   "source": [
    "from collections import Counter\n",
    "import numpy as np\n",
    "import pandas as pd\n",
    "import matplotlib.pyplot as plt"
   ]
  },
  {
   "cell_type": "markdown",
   "id": "939dfeb1",
   "metadata": {},
   "source": [
    "# Test the best s4U concentration for blastocyst"
   ]
  },
  {
   "cell_type": "code",
   "execution_count": 4,
   "id": "dcfec508",
   "metadata": {
    "ExecuteTime": {
     "end_time": "2023-12-27T03:25:47.894797Z",
     "start_time": "2023-12-27T03:25:46.900125Z"
    }
   },
   "outputs": [
    {
     "name": "stdout",
     "output_type": "stream",
     "text": [
      "Cells: 251\n"
     ]
    },
    {
     "data": {
      "text/plain": [
       "Counter({(0.0, 3.0): 37,\n",
       "         (100.0, 3.0): 3,\n",
       "         (400.0, 3.0): 77,\n",
       "         (600.0, 3.0): 33,\n",
       "         (500.0, 3.0): 35,\n",
       "         (300.0, 3.0): 34,\n",
       "         (200.0, 3.0): 32})"
      ]
     },
     "execution_count": 4,
     "metadata": {},
     "output_type": "execute_result"
    }
   ],
   "source": [
    "d = pd.read_excel(\"../../1_NanoNASCseq/data/NanoNASCseq_summary_selected.xls\")\n",
    "d = d[[\"Late\" in x for x in d[\"Strain\"]]]\n",
    "runs = [\"20220729_EmbryoR10\", \"20230220_BlastocystC85\", \"20230220_BlastocystC86\", \"20230220_BlastocystC87\"]\n",
    "d = d[[x in runs for x in d[\"Run\"]]]\n",
    "d = d[d[\"UMIs\"] >= 5000]\n",
    "print(\"Cells:\", len(d))\n",
    "Counter([(s4u, time) for s4u, time in d[[\"s4U\", \"Time\"]].values])"
   ]
  },
  {
   "cell_type": "code",
   "execution_count": 7,
   "id": "e26feb2f",
   "metadata": {
    "ExecuteTime": {
     "end_time": "2023-12-27T03:26:57.868720Z",
     "start_time": "2023-12-27T03:26:57.835781Z"
    }
   },
   "outputs": [],
   "source": [
    "s4u_list = [0, 100, 200, 300, 400, 500, 600]\n",
    "ratios_list = []\n",
    "for s4u in s4u_list:\n",
    "    tmp = d[(d[\"s4U\"] == s4u) & (d[\"Time\"] == 3)]\n",
    "    ratios = tmp[\"TCRatio\"] * 100\n",
    "    ratios_list.append(ratios)"
   ]
  },
  {
   "cell_type": "code",
   "execution_count": 10,
   "id": "8ea6eefa",
   "metadata": {
    "ExecuteTime": {
     "end_time": "2023-12-27T03:27:18.604141Z",
     "start_time": "2023-12-27T03:27:18.139322Z"
    },
    "scrolled": true
   },
   "outputs": [
    {
     "data": {
      "image/png": "[encoded data removed]",
      "text/plain": [
       "<Figure size 288x216 with 1 Axes>"
      ]
     },
     "metadata": {
      "needs_background": "light"
     },
     "output_type": "display_data"
    }
   ],
   "source": [
    "plt.figure(figsize=(4, 3))\n",
    "for i, ratios in enumerate(ratios_list):\n",
    "    plt.boxplot([ratios], positions=[i], widths=0.6, showcaps=False, showfliers=False)\n",
    "xs = np.arange(len(s4u_list))\n",
    "plt.xlim(min(xs) - 0.5, max(xs) + 0.5)\n",
    "plt.ylim(0, 10)\n",
    "plt.xticks(xs, list(map(str, s4u_list)))\n",
    "plt.xlabel(\"s4U concentration (uM)\")\n",
    "plt.ylabel(\"T-C ratio (%)\")\n",
    "plt.tight_layout()\n",
    "plt.savefig(\"figures/best_s4u_condition.pdf\", dpi=300)"
   ]
  }
 ],
 "metadata": {
  "kernelspec": {
   "display_name": "Python 3",
   "language": "python",
   "name": "python3"
  },
  "language_info": {
   "codemirror_mode": {
    "name": "ipython",
    "version": 3
   },
   "file_extension": ".py",
   "mimetype": "text/x-python",
   "name": "python",
   "nbconvert_exporter": "python",
   "pygments_lexer": "ipython3",
   "version": "3.6.15"
  }
 },
 "nbformat": 4,
 "nbformat_minor": 5
}
