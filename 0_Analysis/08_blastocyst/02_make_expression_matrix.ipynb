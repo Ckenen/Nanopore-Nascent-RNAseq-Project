{
 "cells": [
  {
   "cell_type": "code",
   "execution_count": 1,
   "id": "cc6ec72f",
   "metadata": {
    "ExecuteTime": {
     "end_time": "2024-03-13T05:40:08.673098Z",
     "start_time": "2024-03-13T05:40:07.931646Z"
    }
   },
   "outputs": [],
   "source": [
    "import os\n",
    "import subprocess\n",
    "import gzip\n",
    "from collections import Counter, defaultdict\n",
    "import numpy as np\n",
    "import pandas as pd\n",
    "import matplotlib.pyplot as plt"
   ]
  },
  {
   "cell_type": "markdown",
   "id": "bea01852",
   "metadata": {},
   "source": [
    "# Blastocyst cell number"
   ]
  },
  {
   "cell_type": "code",
   "execution_count": 2,
   "id": "612fcc24",
   "metadata": {
    "ExecuteTime": {
     "end_time": "2024-03-13T05:40:10.412007Z",
     "start_time": "2024-03-13T05:40:09.177810Z"
    }
   },
   "outputs": [
    {
     "name": "stdout",
     "output_type": "stream",
     "text": [
      "2661\n"
     ]
    },
    {
     "data": {
      "text/plain": [
       "Counter({(100, 3.0, 'Early-blastocyst'): 7,\n",
       "         (0, 3.0, 'Early-blastocyst'): 26,\n",
       "         (200, 3.0, 'Early-blastocyst'): 10,\n",
       "         (400, 3.0, 'Early-blastocyst'): 124,\n",
       "         (500, 3.0, 'Early-blastocyst'): 6,\n",
       "         (0, 3.0, 'Late-blastocyst'): 45,\n",
       "         (100, 3.0, 'Late-blastocyst'): 3,\n",
       "         (400, 3.0, 'Late-blastocyst'): 180,\n",
       "         (0, 3.0, 'Mid-blastocyst'): 51,\n",
       "         (400, 3.0, 'Mid-blastocyst'): 120,\n",
       "         (400, 3.0, 'Late-blastocystX'): 894,\n",
       "         (400, 3.0, 'Early-blastocystX'): 567,\n",
       "         (400, 3.0, 'Mid-blastocystX'): 458,\n",
       "         (600, 3.0, 'Late-blastocystX'): 33,\n",
       "         (500, 3.0, 'Late-blastocystX'): 35,\n",
       "         (300, 3.0, 'Late-blastocystX'): 34,\n",
       "         (200, 3.0, 'Late-blastocystX'): 32,\n",
       "         (0, 3.0, 'Late-blastocystX'): 36})"
      ]
     },
     "execution_count": 2,
     "metadata": {},
     "output_type": "execute_result"
    }
   ],
   "source": [
    "d = pd.read_excel(\"../../1_NanoNASCseq/data/NanoNASCseq_summary_selected.xls\")\n",
    "d = d[d[\"Species\"] == \"Mouse\"]\n",
    "d = d[[\"blast\" in x.lower() for x in d[\"Strain\"]]]\n",
    "d = d[d[\"UMIs\"] >= 5000]\n",
    "print(len(d))\n",
    "Counter([(s4u, time, strain) for s4u, time, strain in d[[\"s4U\", \"Time\", \"Strain\"]].values])"
   ]
  },
  {
   "cell_type": "markdown",
   "id": "a8e2e4d8",
   "metadata": {
    "heading_collapsed": true
   },
   "source": [
    "# Run Seurat"
   ]
  },
  {
   "cell_type": "markdown",
   "id": "e6fce6d2",
   "metadata": {
    "heading_collapsed": true,
    "hidden": true
   },
   "source": [
    "## 1. Make gene counts for Seurat"
   ]
  },
  {
   "cell_type": "code",
   "execution_count": 3,
   "id": "59cc3742",
   "metadata": {
    "ExecuteTime": {
     "end_time": "2024-03-13T05:40:13.782373Z",
     "start_time": "2024-03-13T05:40:12.834854Z"
    },
    "hidden": true
   },
   "outputs": [
    {
     "name": "stdout",
     "output_type": "stream",
     "text": [
      "Cells: 2661\n"
     ]
    }
   ],
   "source": [
    "d = pd.read_excel(\"../../1_NanoNASCseq/data/NanoNASCseq_summary_selected.xls\")\n",
    "d = d[d[\"Species\"] == \"Mouse\"]\n",
    "d = d[[\"blast\" in x.lower() for x in d[\"Strain\"]]]\n",
    "d = d[d[\"UMIs\"] >= 5000]\n",
    "print(\"Cells:\", len(d))"
   ]
  },
  {
   "cell_type": "code",
   "execution_count": 96,
   "id": "0e42c6a3",
   "metadata": {
    "ExecuteTime": {
     "end_time": "2023-12-27T08:49:22.090968Z",
     "start_time": "2023-12-27T08:49:21.526241Z"
    },
    "hidden": true
   },
   "outputs": [],
   "source": [
    "anno_t = pd.read_csv(\"/home/chenzonggui/species/mus_musculus/GRCm38.p6/gencode.vM25.annotation.tsv\", sep=\"\\t\", index_col=0)\n",
    "gid2gname = {gid: gname for gid, gname in anno_t[[\"GeneID\", \"GeneName\"]].values}"
   ]
  },
  {
   "cell_type": "code",
   "execution_count": 98,
   "id": "7344a512",
   "metadata": {
    "ExecuteTime": {
     "end_time": "2023-12-27T08:49:34.944025Z",
     "start_time": "2023-12-27T08:49:34.736429Z"
    },
    "hidden": true
   },
   "outputs": [],
   "source": [
    "outfile1 = \"results/blastocyst_counts.genes.filelist.txt\"\n",
    "outfile2 = \"results/blastocyst_counts.genes.gene_id.total.tsv\"\n",
    "outfile3 = \"results/blastocyst_counts.genes.gene_id.nascent.tsv\"\n",
    "outfile4 = \"results/blastocyst_counts.genes.gene_name.total.tsv\"\n",
    "outfile5 = \"results/blastocyst_counts.genes.gene_name.nascent.tsv\"\n",
    "outfile6 = \"results/blastocyst_counts.genes.gene_name.meta.tsv\"\n",
    "\n",
    "if not os.path.exists(outfile2):\n",
    "    with open(outfile1, \"w+\") as fw:\n",
    "        for run, cell in d[[\"Run\", \"Cell\"]].values:\n",
    "            path = \"../../1_NanoNASCseq/results/expression/quant_genes/min_read_2_min_tc_2/%s/%s.tsv\" % (run, cell)\n",
    "            fw.write(path + \"\\n\")\n",
    "    cmd = \"../../1_NanoNASCseq/scripts/make_count_matrix.py %s %s %s\" % (outfile1, outfile2, outfile3)\n",
    "    subprocess.check_call(cmd, shell=True)\n",
    "    os.remove(outfile1)\n",
    "\n",
    "if not os.path.exists(outfile4):\n",
    "    m = pd.read_csv(outfile2, sep=\"\\t\", header=0, index_col=0)\n",
    "    m.index = [gid2gname.get(x, x) for x in m.index]\n",
    "    m.index.name = \"GeneName\"\n",
    "    m = m[~m.index.duplicated()]\n",
    "    m.to_csv(outfile4, sep=\"\\t\")\n",
    "\n",
    "    m = pd.read_csv(outfile3, sep=\"\\t\", header=0, index_col=0)\n",
    "    m.index = [gid2gname.get(x, x) for x in m.index]\n",
    "    m.index.name = \"GeneName\"\n",
    "    m = m[~m.index.duplicated()]\n",
    "    m.to_csv(outfile5, sep=\"\\t\")\n",
    "\n",
    "    d.to_csv(outfile6, sep=\"\\t\", index=False)"
   ]
  },
  {
   "cell_type": "code",
   "execution_count": 199,
   "id": "7f08645f",
   "metadata": {
    "ExecuteTime": {
     "end_time": "2024-01-02T11:44:04.443550Z",
     "start_time": "2024-01-02T11:42:06.203939Z"
    },
    "hidden": true
   },
   "outputs": [
    {
     "data": {
      "text/plain": [
       "0"
      ]
     },
     "execution_count": 199,
     "metadata": {},
     "output_type": "execute_result"
    }
   ],
   "source": [
    "cmd = \"set +u; source activate seurat; ./run_seurat.genes.R\"\n",
    "subprocess.check_call(cmd, shell=True)"
   ]
  },
  {
   "cell_type": "markdown",
   "id": "cca9180c",
   "metadata": {
    "heading_collapsed": true,
    "hidden": true
   },
   "source": [
    "## 2. Process gene-based Seurat outputs"
   ]
  },
  {
   "cell_type": "code",
   "execution_count": 200,
   "id": "a627ca9d",
   "metadata": {
    "ExecuteTime": {
     "end_time": "2024-01-02T11:44:04.618003Z",
     "start_time": "2024-01-02T11:44:04.446935Z"
    },
    "hidden": true
   },
   "outputs": [],
   "source": [
    "m1 = pd.read_csv(\"results/seurat_genes/metadata.tsv\", sep=\"\\t\", header=0, index_col=0)\n",
    "m2 = pd.read_csv(\"results/seurat_genes/active_ident.tsv\", sep=\"\\t\", header=0, index_col=0)\n",
    "m2.columns = [\"CellType\"]\n",
    "m3 = m1.merge(m2, left_index=True, right_index=True)\n",
    "m3.to_csv(\"results/seurat_genes/metadata_and_celltype.tsv\", sep=\"\\t\", index=False)"
   ]
  },
  {
   "cell_type": "markdown",
   "id": "0eb30e53",
   "metadata": {
    "hidden": true
   },
   "source": [
    "## 3. Make transcript counts for Seurat"
   ]
  },
  {
   "cell_type": "code",
   "execution_count": 2,
   "id": "b7c567a2",
   "metadata": {
    "ExecuteTime": {
     "end_time": "2024-01-03T02:55:14.327072Z",
     "start_time": "2024-01-03T02:55:13.028178Z"
    },
    "hidden": true
   },
   "outputs": [
    {
     "name": "stdout",
     "output_type": "stream",
     "text": [
      "Cells: 2661\n"
     ]
    }
   ],
   "source": [
    "d = pd.read_excel(\"../../1_NanoNASCseq/data/NanoNASCseq_summary_selected.xls\")\n",
    "d = d[d[\"Species\"] == \"Mouse\"]\n",
    "d = d[[\"blast\" in x.lower() for x in d[\"Strain\"]]]\n",
    "d = d[d[\"UMIs\"] >= 5000]\n",
    "print(\"Cells:\", len(d))"
   ]
  },
  {
   "cell_type": "code",
   "execution_count": 3,
   "id": "70baf9bb",
   "metadata": {
    "ExecuteTime": {
     "end_time": "2024-01-03T02:55:14.680157Z",
     "start_time": "2024-01-03T02:55:14.330375Z"
    },
    "hidden": true
   },
   "outputs": [],
   "source": [
    "anno_g = pd.read_csv(\"/home/chenzonggui/species/mus_musculus/GRCm38.p6/gencode.vM25.genes.tsv\", sep=\"\\t\")\n",
    "gid2gtype = dict()\n",
    "gid2gname = dict()\n",
    "for gid, gtype, gname in anno_g[[\"GeneID\", \"GeneType\", \"GeneName\"]].values:\n",
    "    gid2gtype[gid] = gtype\n",
    "    gid2gname[gid] = gname"
   ]
  },
  {
   "cell_type": "code",
   "execution_count": 8,
   "id": "6ba99d08",
   "metadata": {
    "ExecuteTime": {
     "end_time": "2024-01-03T02:57:37.823780Z",
     "start_time": "2024-01-03T02:56:18.524333Z"
    },
    "hidden": true
   },
   "outputs": [],
   "source": [
    "if not os.path.exists(\"results/mouse_transcript_annotation.tsv\"):\n",
    "    from pyBioInfo.IO.File import GtfFile\n",
    "    f_gtf = \"../../1_NanoNASCseq/results/assembly/custom_merge/gtf/MouseBlastocyst.all.gtf.gz\"\n",
    "    rows = []\n",
    "    with GtfFile(f_gtf) as f:\n",
    "        for x in f:\n",
    "            if x.feature == \"transcript\":\n",
    "                gid = x.attributes[\"gene_id\"]\n",
    "                gtype = x.attributes.get(\"gene_type\", gid2gtype[gid])\n",
    "                gname = x.attributes.get(\"gene_name\", gid2gname[gid])\n",
    "                tid = x.attributes[\"transcript_id\"]\n",
    "                ttype = x.attributes.get(\"transcript_type\", \"Unknown\")\n",
    "                tname = x.attributes.get(\"transcript_name\", \"%s.novel.%s\" % (gname, tid.split(\".\")[-1]))\n",
    "                row = [tid, tname, ttype, gid, gname, gtype, x.chrom, x.start, x.end, x.strand]\n",
    "                rows.append(row)\n",
    "    anno = pd.DataFrame(rows)\n",
    "    anno.columns = [\"TranscriptID\", \"TranscriptName\", \"TranscriptType\", \n",
    "                    \"GeneID\", \"GeneName\", \"GeneType\", \n",
    "                    \"Chrom\", \"Start\", \"End\", \"Strand\"]\n",
    "    anno.to_csv(\"results/mouse_transcript_annotation.tsv\", sep=\"\\t\", index=False)"
   ]
  },
  {
   "cell_type": "code",
   "execution_count": 9,
   "id": "f505ba2d",
   "metadata": {
    "ExecuteTime": {
     "end_time": "2024-01-03T02:58:19.751113Z",
     "start_time": "2024-01-03T02:58:18.999050Z"
    },
    "hidden": true,
    "scrolled": true
   },
   "outputs": [],
   "source": [
    "anno = pd.read_csv(\"results/mouse_transcript_annotation.tsv\", sep=\"\\t\", header=0, index_col=0)\n",
    "anno.head()\n",
    "tid2tname = dict()\n",
    "for tid, tname in zip(anno.index, anno[\"TranscriptName\"]):\n",
    "    if not isinstance(tname, str) and np.isnan(tname):\n",
    "        continue\n",
    "    tid2tname[tid] = tname"
   ]
  },
  {
   "cell_type": "code",
   "execution_count": 10,
   "id": "dd2f7456",
   "metadata": {
    "ExecuteTime": {
     "end_time": "2024-01-03T02:58:22.874064Z",
     "start_time": "2024-01-03T02:58:22.806532Z"
    },
    "hidden": true
   },
   "outputs": [],
   "source": [
    "tmp = pd.read_csv(\"results/seurat_genes/metadata_and_celltype.tsv\", sep=\"\\t\")\n",
    "cell2celltype = {cell: celltype for cell, celltype in tmp[[\"Cell\", \"CellType\"]].values}"
   ]
  },
  {
   "cell_type": "code",
   "execution_count": 11,
   "id": "c0c05ecc",
   "metadata": {
    "ExecuteTime": {
     "end_time": "2024-01-03T02:58:22.985919Z",
     "start_time": "2024-01-03T02:58:22.976921Z"
    },
    "hidden": true
   },
   "outputs": [],
   "source": [
    "d[\"CellTypeFromGene\"] = [cell2celltype.get(cell) for cell in d[\"Cell\"]]"
   ]
  },
  {
   "cell_type": "code",
   "execution_count": 13,
   "id": "0b249e1d",
   "metadata": {
    "ExecuteTime": {
     "end_time": "2024-01-03T03:07:26.837469Z",
     "start_time": "2024-01-03T02:58:47.249632Z"
    },
    "hidden": true
   },
   "outputs": [],
   "source": [
    "outfile1 = \"results/blastocyst_counts.transcripts.filelist.txt\"\n",
    "outfile2 = \"results/blastocyst_counts.transcripts.transcript_id.total.tsv\"\n",
    "outfile3 = \"results/blastocyst_counts.transcripts.transcript_id.nascent.tsv\"\n",
    "outfile4 = \"results/blastocyst_counts.transcripts.transcript_id.meta.tsv\"\n",
    "outfile5 = \"results/blastocyst_counts.transcripts.transcript_name.total.tsv\"\n",
    "outfile6 = \"results/blastocyst_counts.transcripts.transcript_name.nascent.tsv\"\n",
    "outfile7 = \"results/blastocyst_counts.transcripts.transcript_name.meta.tsv\"\n",
    "\n",
    "if not os.path.exists(outfile2):\n",
    "    with open(outfile1, \"w+\") as fw:\n",
    "        for run, cell in d[[\"Run\", \"Cell\"]].values:\n",
    "            path = \"../../1_NanoNASCseq/results/expression/novel/quant_isoforms/min_read_2_min_tc_2/%s/%s.tsv\" % (run, cell)\n",
    "            fw.write(path + \"\\n\")\n",
    "    cmd = \"../../1_NanoNASCseq/scripts/make_count_matrix.py %s %s %s\" % (outfile1, outfile2, outfile3)\n",
    "    subprocess.check_call(cmd, shell=True)\n",
    "    d.to_csv(outfile4, sep=\"\\t\", index=False)\n",
    "    os.remove(outfile1)\n",
    "\n",
    "if not os.path.exists(outfile5):\n",
    "    m = pd.read_csv(outfile2, sep=\"\\t\", header=0, index_col=0)\n",
    "    m.index = [tid2tname.get(x, x) for x in m.index]\n",
    "    m.index.name = \"TranscriptName\"\n",
    "    m.to_csv(outfile5, sep=\"\\t\")\n",
    "\n",
    "    m = pd.read_csv(outfile3, sep=\"\\t\", header=0, index_col=0)\n",
    "    m.index = [tid2tname.get(x, x) for x in m.index]\n",
    "    m.index.name = \"TranscriptName\"\n",
    "    m.to_csv(outfile6, sep=\"\\t\")\n",
    "\n",
    "    d.to_csv(outfile7, sep=\"\\t\", index=False)"
   ]
  },
  {
   "cell_type": "code",
   "execution_count": 14,
   "id": "baad578b",
   "metadata": {
    "ExecuteTime": {
     "end_time": "2024-01-03T03:09:36.635431Z",
     "start_time": "2024-01-03T03:09:36.336921Z"
    },
    "hidden": true
   },
   "outputs": [
    {
     "name": "stdout",
     "output_type": "stream",
     "text": [
      "FeaturePlot(obj, features = c(\"Nanog-203\", \"Nanog.novel.91982\", \"Nanog-202\", \"Nanog-201\", \"Nanog.novel.91986\"), ncol=5)\n",
      "FeaturePlot(obj, features = c(\"Sox2-201\"), ncol=5)\n",
      "FeaturePlot(obj, features = c(\"Tdgf1-201\", \"Tdgf1.novel.113983\", \"Tdgf1.novel.113986\", \"Tdgf1.novel.113987\", \"Tdgf1.novel.113989\", \"Tdgf1.novel.113992\", \"Tdgf1.novel.113993\", \"Tdgf1.novel.113994\", \"Tdgf1.novel.113995\", \"Tdgf1.novel.113996\", \"Tdgf1-202\", \"Tdgf1.novel.114003\", \"Tdgf1-204\", \"Tdgf1-203\"), ncol=5)\n",
      "FeaturePlot(obj, features = c(\"Fgf4-202\", \"Fgf4-201\"), ncol=5)\n",
      "FeaturePlot(obj, features = c(\"Gata4-202\", \"Gata4-201\", \"Gata4-203\", \"Gata4-204\", \"Gata4-205\", \"Gata4-206\", \"Gata4.novel.34455\", \"Gata4.novel.34456\"), ncol=5)\n",
      "FeaturePlot(obj, features = c(\"Sox17-201\", \"Sox17-208\", \"Sox17-206\", \"Sox17-202\", \"Sox17-205\", \"Sox17-203\", \"Sox17-204\", \"Sox17-207\"), ncol=5)\n",
      "FeaturePlot(obj, features = c(\"Gata6-203\", \"Gata6-201\", \"Gata6-202\", \"Gata6.novel.50657\", \"Gata6-206\", \"Gata6.novel.50658\", \"Gata6.novel.50662\", \"Gata6-204\", \"Gata6-205\", \"Gata6.novel.50670\", \"Gata6.novel.50672\", \"Gata6.novel.50673\"), ncol=5)\n",
      "FeaturePlot(obj, features = c(\"Cdx2.novel.87688\", \"Cdx2-201\", \"Cdx2.novel.87689\", \"Cdx2.novel.87691\", \"Cdx2.novel.87692\", \"Cdx2.novel.87693\"), ncol=5)\n",
      "FeaturePlot(obj, features = c(\"Gata3.novel.57804\", \"Gata3-201\", \"Gata3-205\", \"Gata3.novel.57819\", \"Gata3-206\", \"Gata3-202\", \"Gata3-204\", \"Gata3-203\"), ncol=5)\n",
      "FeaturePlot(obj, features = c(\"Eomes.novel.114295\", \"Eomes-202\", \"Eomes-201\", \"Eomes-203\"), ncol=5)\n",
      "FeaturePlot(obj, features = c(\"Elf5-206\", \"Elf5-208\", \"Elf5-204\", \"Elf5-201\", \"Elf5.novel.61784\", \"Elf5.novel.61785\", \"Elf5-207\", \"Elf5.novel.61786\", \"Elf5-203\", \"Elf5-202\", \"Elf5-205\"), ncol=5)\n",
      "FeaturePlot(obj, features = c(\"Tfap2a-201\", \"Tfap2a-202\", \"Tfap2a-205\", \"Tfap2a.novel.28333\", \"Tfap2a.novel.28337\", \"Tfap2a.novel.28338\", \"Tfap2a.novel.28339\", \"Tfap2a-203\", \"Tfap2a-209\", \"Tfap2a-208\", \"Tfap2a-206\", \"Tfap2a-204\", \"Tfap2a-207\"), ncol=5)\n"
     ]
    }
   ],
   "source": [
    "# Find marker isoforms\n",
    "\n",
    "for gname in [\"Nanog\", \"Sox2\", \"Tdgf1\", \"Fgf4\", \"Gata4\", \"Sox17\", \"Gata6\", \"Cdx2\", \"Gata3\", \"Eomes\", \"Elf5\", \"Tfap2a\"]:\n",
    "    gid = anno[anno[\"GeneName\"] == gname][\"GeneID\"].values[0]\n",
    "    tids = anno[anno[\"GeneID\"] == gid].index\n",
    "    tnames = [tid2tname.get(x, x) for x in tids]\n",
    "    cmd = 'FeaturePlot(obj, features = c(%s), ncol=5)' % \", \".join(['\"%s\"' % x for x in tnames])\n",
    "    print(cmd)"
   ]
  },
  {
   "cell_type": "code",
   "execution_count": 5,
   "id": "8eb1649d",
   "metadata": {
    "ExecuteTime": {
     "end_time": "2024-03-13T06:18:08.910068Z",
     "start_time": "2024-03-13T06:14:23.670878Z"
    },
    "hidden": true
   },
   "outputs": [
    {
     "data": {
      "text/plain": [
       "0"
      ]
     },
     "execution_count": 5,
     "metadata": {},
     "output_type": "execute_result"
    }
   ],
   "source": [
    "cmd = \"set +u; source activate seurat; ./run_seurat.transcripts.R\"\n",
    "subprocess.check_call(cmd, shell=True)"
   ]
  },
  {
   "cell_type": "markdown",
   "id": "97101f6f",
   "metadata": {
    "hidden": true
   },
   "source": [
    "## 4. Process isoform-based Seurat outputs"
   ]
  },
  {
   "cell_type": "code",
   "execution_count": 6,
   "id": "ab25263c",
   "metadata": {
    "ExecuteTime": {
     "end_time": "2024-03-13T06:18:11.189660Z",
     "start_time": "2024-03-13T06:18:10.884922Z"
    },
    "hidden": true
   },
   "outputs": [
    {
     "name": "stdout",
     "output_type": "stream",
     "text": [
      "1715\n"
     ]
    }
   ],
   "source": [
    "m1 = pd.read_csv(\"results/seurat_transcripts/metadata.tsv\", sep=\"\\t\", header=0, index_col=0)\n",
    "m2 = pd.read_csv(\"results/seurat_transcripts/active_ident.tsv\", sep=\"\\t\", header=0, index_col=0)\n",
    "m2.columns = [\"CellTypeFromTranscript\"]\n",
    "m3 = m1.merge(m2, left_index=True, right_index=True)\n",
    "m3.to_csv(\"results/seurat_transcripts/metadata_and_celltype.tsv\", sep=\"\\t\", index=False)\n",
    "print(len(m3))"
   ]
  },
  {
   "cell_type": "code",
   "execution_count": 7,
   "id": "539ab4f2",
   "metadata": {
    "ExecuteTime": {
     "end_time": "2024-03-13T06:18:13.373732Z",
     "start_time": "2024-03-13T06:18:12.218526Z"
    },
    "code_folding": [
     6,
     21,
     31,
     38,
     46,
     54,
     58
    ],
    "hidden": true
   },
   "outputs": [
    {
     "data": {
      "image/png": "[encoded data removed]",
      "text/plain": [
       "<Figure size 252x270 with 1 Axes>"
      ]
     },
     "metadata": {
      "needs_background": "light"
     },
     "output_type": "display_data"
    }
   ],
   "source": [
    "cts1 = ['TE-3', 'TE-2', 'TE-1', 'ICM-1', 'ICM-2', 'ICM-3', 'PE', 'EPI']\n",
    "colors1 = [\"#CD9600\", \"#C77CFF\", \"#00A9FF\", \"#00BE67\", \"#F8766D\", \"#FF61CC\", \"#00BFC4\", \"#86B414\"]\n",
    "\n",
    "data = dict()\n",
    "counter = Counter(m3[\"CellTypeFromGene\"])\n",
    "bottom = 0\n",
    "for k in cts1:\n",
    "    v = counter[k]\n",
    "    data[k] = dict()\n",
    "    data[k][\"Count\"] = v\n",
    "    data[k][\"Bottom\"] = bottom\n",
    "    data[k][\"Offset\"] = 0\n",
    "    bottom += v\n",
    "data1 = data\n",
    "\n",
    "cts2 = ['polarTE', 'muralTE', 'TE-2', 'TE-1', 'ICM-1', 'ICM-2', 'PE', 'EPI']\n",
    "colors2 = [\"#839600\", \"#CD969B\", \"#C77CFF\", \"#00A9FF\", \"#00BE67\", \"#F8766D\", \"#00BFC4\", \"#86B414\"]\n",
    "\n",
    "counter = Counter(m3[\"CellTypeFromTranscript\"])\n",
    "data = dict()\n",
    "bottom = 0\n",
    "for k in cts2:\n",
    "    v = counter[k]\n",
    "    data[k] = dict()\n",
    "    data[k][\"Count\"] = v\n",
    "    data[k][\"Bottom\"] = bottom\n",
    "    data[k][\"Offset\"] = 0\n",
    "    bottom += v\n",
    "data2 = data\n",
    "\n",
    "data = defaultdict(list)\n",
    "for ct1, ct2 in m3[[\"CellTypeFromGene\", \"CellTypeFromTranscript\"]].values:\n",
    "    data[ct1].append(ct2)\n",
    "    \n",
    "plt.figure(figsize=(3.5, 3.75))\n",
    "plt.title(\"Comparison of cell type\")\n",
    "w = 0.2\n",
    "    \n",
    "for i, k in enumerate(cts1):\n",
    "    v = data1[k]\n",
    "    x = 0\n",
    "    b = v[\"Bottom\"]\n",
    "    h = v[\"Count\"]\n",
    "    plt.bar([x], h, bottom=b, width=w, lw=0.5, edgecolor=\"black\", color=colors1[i], clip_on=False)\n",
    "    plt.text(x - w/2 - 0.1, h / 2 + b, k, ha=\"right\", va=\"center\")\n",
    "    \n",
    "for i, k in enumerate(cts2):\n",
    "    v = data2[k]\n",
    "    x = 1\n",
    "    b = v[\"Bottom\"]\n",
    "    h = v[\"Count\"]\n",
    "    plt.bar([x], h, bottom=b, width=w, lw=0.5, edgecolor=\"black\", color=colors2[i], clip_on=False)\n",
    "    plt.text(x + w/2 + 0.1, h / 2 + b, k, ha=\"left\", va=\"center\")\n",
    "    \n",
    "for i, k1 in enumerate(cts1):\n",
    "    v1 = data[k1]\n",
    "    counter = Counter(v1)\n",
    "    ks = list(sorted(counter.keys(), key=lambda item: cts2.index(item)))\n",
    "    for k2 in ks:\n",
    "        h = counter[k2]\n",
    "\n",
    "        y1 = data1[k1][\"Bottom\"] + data1[k1][\"Offset\"]\n",
    "        y2 = y1 + h\n",
    "        data1[k1][\"Offset\"] += h\n",
    "        \n",
    "        y3 = data2[k2][\"Bottom\"] + data2[k2][\"Offset\"]\n",
    "        y4 = y3 + h\n",
    "        data2[k2][\"Offset\"] += h\n",
    "        \n",
    "        # print(y1, y2, y3, y4)\n",
    "        x1 = 0 + w / 2\n",
    "        x2 = 1 - w / 2\n",
    "        plt.fill_between([x1, x2], [y1, y3], [y2, y4], alpha=0.3, lw=0, color=colors1[i])\n",
    "    \n",
    "plt.xlim(0 - 0.6, 1 + 0.6)\n",
    "plt.ylim(0, len(m3))\n",
    "plt.xticks([0, 1], [\"Gene-based\", \"Isoform-based\"])\n",
    "plt.yticks([])\n",
    "plt.gca().spines[\"top\"].set_visible(False)\n",
    "plt.gca().spines[\"bottom\"].set_visible(False)\n",
    "plt.gca().spines[\"left\"].set_visible(False)\n",
    "plt.gca().spines[\"right\"].set_visible(False)\n",
    "plt.tight_layout()\n",
    "plt.savefig(\"figures/celltype_comparison.pdf\", dpi=300)"
   ]
  },
  {
   "cell_type": "markdown",
   "id": "db33397c",
   "metadata": {
    "hidden": true
   },
   "source": [
    "## 5. Consistent celltype"
   ]
  },
  {
   "cell_type": "code",
   "execution_count": 8,
   "id": "4457c73a",
   "metadata": {
    "ExecuteTime": {
     "end_time": "2024-03-13T06:20:25.473869Z",
     "start_time": "2024-03-13T06:20:25.310244Z"
    },
    "hidden": true
   },
   "outputs": [
    {
     "data": {
      "text/html": [
       "<div>\n",
       "<style scoped>\n",
       "    .dataframe tbody tr th:only-of-type {\n",
       "        vertical-align: middle;\n",
       "    }\n",
       "\n",
       "    .dataframe tbody tr th {\n",
       "        vertical-align: top;\n",
       "    }\n",
       "\n",
       "    .dataframe thead th {\n",
       "        text-align: right;\n",
       "    }\n",
       "</style>\n",
       "<table border=\"1\" class=\"dataframe\">\n",
       "  <thead>\n",
       "    <tr style=\"text-align: right;\">\n",
       "      <th></th>\n",
       "      <th>orig.ident</th>\n",
       "      <th>nCount_RNA</th>\n",
       "      <th>nFeature_RNA</th>\n",
       "      <th>Run</th>\n",
       "      <th>Cell</th>\n",
       "      <th>s4U</th>\n",
       "      <th>Time</th>\n",
       "      <th>ActD</th>\n",
       "      <th>Barcode</th>\n",
       "      <th>UMI</th>\n",
       "      <th>...</th>\n",
       "      <th>Pc.Pe</th>\n",
       "      <th>UMIs2.Nascent2.</th>\n",
       "      <th>NascentRatio2</th>\n",
       "      <th>Genes2</th>\n",
       "      <th>Genes2.Nascent2.</th>\n",
       "      <th>CellTypeFromGene</th>\n",
       "      <th>strain</th>\n",
       "      <th>RNA_snn_res.0.7</th>\n",
       "      <th>seurat_clusters</th>\n",
       "      <th>CellTypeFromTranscript</th>\n",
       "    </tr>\n",
       "  </thead>\n",
       "  <tbody>\n",
       "    <tr>\n",
       "      <th>0</th>\n",
       "      <td>X20220729</td>\n",
       "      <td>3782</td>\n",
       "      <td>1953</td>\n",
       "      <td>20220729_EmbryoR10</td>\n",
       "      <td>20220729_EmbryoR10.C01</td>\n",
       "      <td>100</td>\n",
       "      <td>3</td>\n",
       "      <td>NaN</td>\n",
       "      <td>1</td>\n",
       "      <td>20</td>\n",
       "      <td>...</td>\n",
       "      <td>NaN</td>\n",
       "      <td>341</td>\n",
       "      <td>0.049192</td>\n",
       "      <td>2655</td>\n",
       "      <td>237</td>\n",
       "      <td>ICM-1</td>\n",
       "      <td>Early-blastocyst</td>\n",
       "      <td>7</td>\n",
       "      <td>7</td>\n",
       "      <td>TE-1</td>\n",
       "    </tr>\n",
       "    <tr>\n",
       "      <th>1</th>\n",
       "      <td>X20220729</td>\n",
       "      <td>8549</td>\n",
       "      <td>3545</td>\n",
       "      <td>20220729_EmbryoR10</td>\n",
       "      <td>20220729_EmbryoR10.C02</td>\n",
       "      <td>100</td>\n",
       "      <td>3</td>\n",
       "      <td>NaN</td>\n",
       "      <td>2</td>\n",
       "      <td>20</td>\n",
       "      <td>...</td>\n",
       "      <td>NaN</td>\n",
       "      <td>5336</td>\n",
       "      <td>0.350499</td>\n",
       "      <td>4576</td>\n",
       "      <td>2834</td>\n",
       "      <td>TE-1</td>\n",
       "      <td>Early-blastocyst</td>\n",
       "      <td>7</td>\n",
       "      <td>7</td>\n",
       "      <td>TE-1</td>\n",
       "    </tr>\n",
       "    <tr>\n",
       "      <th>2</th>\n",
       "      <td>X20220729</td>\n",
       "      <td>6046</td>\n",
       "      <td>2500</td>\n",
       "      <td>20220729_EmbryoR10</td>\n",
       "      <td>20220729_EmbryoR10.C03</td>\n",
       "      <td>100</td>\n",
       "      <td>3</td>\n",
       "      <td>NaN</td>\n",
       "      <td>4</td>\n",
       "      <td>20</td>\n",
       "      <td>...</td>\n",
       "      <td>NaN</td>\n",
       "      <td>895</td>\n",
       "      <td>0.071009</td>\n",
       "      <td>3494</td>\n",
       "      <td>603</td>\n",
       "      <td>ICM-1</td>\n",
       "      <td>Early-blastocyst</td>\n",
       "      <td>4</td>\n",
       "      <td>4</td>\n",
       "      <td>ICM-1</td>\n",
       "    </tr>\n",
       "    <tr>\n",
       "      <th>3</th>\n",
       "      <td>X20220729</td>\n",
       "      <td>3780</td>\n",
       "      <td>2102</td>\n",
       "      <td>20220729_EmbryoR10</td>\n",
       "      <td>20220729_EmbryoR10.C04</td>\n",
       "      <td>100</td>\n",
       "      <td>3</td>\n",
       "      <td>NaN</td>\n",
       "      <td>5</td>\n",
       "      <td>20</td>\n",
       "      <td>...</td>\n",
       "      <td>NaN</td>\n",
       "      <td>1151</td>\n",
       "      <td>0.145955</td>\n",
       "      <td>3094</td>\n",
       "      <td>741</td>\n",
       "      <td>ICM-1</td>\n",
       "      <td>Early-blastocyst</td>\n",
       "      <td>4</td>\n",
       "      <td>4</td>\n",
       "      <td>ICM-1</td>\n",
       "    </tr>\n",
       "    <tr>\n",
       "      <th>4</th>\n",
       "      <td>X20220729</td>\n",
       "      <td>5453</td>\n",
       "      <td>2544</td>\n",
       "      <td>20220729_EmbryoR10</td>\n",
       "      <td>20220729_EmbryoR10.C05</td>\n",
       "      <td>100</td>\n",
       "      <td>3</td>\n",
       "      <td>NaN</td>\n",
       "      <td>6</td>\n",
       "      <td>20</td>\n",
       "      <td>...</td>\n",
       "      <td>NaN</td>\n",
       "      <td>1794</td>\n",
       "      <td>0.165927</td>\n",
       "      <td>3590</td>\n",
       "      <td>1136</td>\n",
       "      <td>ICM-1</td>\n",
       "      <td>Early-blastocyst</td>\n",
       "      <td>4</td>\n",
       "      <td>4</td>\n",
       "      <td>ICM-1</td>\n",
       "    </tr>\n",
       "  </tbody>\n",
       "</table>\n",
       "<p>5 rows × 60 columns</p>\n",
       "</div>"
      ],
      "text/plain": [
       "  orig.ident  nCount_RNA  nFeature_RNA                 Run  \\\n",
       "0  X20220729        3782          1953  20220729_EmbryoR10   \n",
       "1  X20220729        8549          3545  20220729_EmbryoR10   \n",
       "2  X20220729        6046          2500  20220729_EmbryoR10   \n",
       "3  X20220729        3780          2102  20220729_EmbryoR10   \n",
       "4  X20220729        5453          2544  20220729_EmbryoR10   \n",
       "\n",
       "                     Cell  s4U  Time  ActD  Barcode  UMI  ... Pc.Pe  \\\n",
       "0  20220729_EmbryoR10.C01  100     3   NaN        1   20  ...   NaN   \n",
       "1  20220729_EmbryoR10.C02  100     3   NaN        2   20  ...   NaN   \n",
       "2  20220729_EmbryoR10.C03  100     3   NaN        4   20  ...   NaN   \n",
       "3  20220729_EmbryoR10.C04  100     3   NaN        5   20  ...   NaN   \n",
       "4  20220729_EmbryoR10.C05  100     3   NaN        6   20  ...   NaN   \n",
       "\n",
       "   UMIs2.Nascent2.  NascentRatio2 Genes2 Genes2.Nascent2. CellTypeFromGene  \\\n",
       "0              341       0.049192   2655              237            ICM-1   \n",
       "1             5336       0.350499   4576             2834             TE-1   \n",
       "2              895       0.071009   3494              603            ICM-1   \n",
       "3             1151       0.145955   3094              741            ICM-1   \n",
       "4             1794       0.165927   3590             1136            ICM-1   \n",
       "\n",
       "             strain  RNA_snn_res.0.7  seurat_clusters  CellTypeFromTranscript  \n",
       "0  Early-blastocyst                7                7                    TE-1  \n",
       "1  Early-blastocyst                7                7                    TE-1  \n",
       "2  Early-blastocyst                4                4                   ICM-1  \n",
       "3  Early-blastocyst                4                4                   ICM-1  \n",
       "4  Early-blastocyst                4                4                   ICM-1  \n",
       "\n",
       "[5 rows x 60 columns]"
      ]
     },
     "execution_count": 8,
     "metadata": {},
     "output_type": "execute_result"
    }
   ],
   "source": [
    "m = pd.read_csv(\"results/seurat_transcripts/metadata_and_celltype.tsv\", sep=\"\\t\")\n",
    "m.head()"
   ]
  },
  {
   "cell_type": "code",
   "execution_count": 9,
   "id": "abeae043",
   "metadata": {
    "ExecuteTime": {
     "end_time": "2024-03-13T06:20:34.019757Z",
     "start_time": "2024-03-13T06:20:33.991442Z"
    },
    "hidden": true
   },
   "outputs": [],
   "source": [
    "new_cts = []\n",
    "for ct1, ct2 in m[[\"CellTypeFromGene\", \"CellTypeFromTranscript\"]].values:\n",
    "    ct = \"Conflict\"\n",
    "    if ct1 == \"EPI\" and ct2 == \"EPI\":\n",
    "        ct = \"EPI\"\n",
    "    if ct1 == \"PE\" and ct2 == \"PE\":\n",
    "        ct = \"PE\"\n",
    "    if ct1 == \"ICM-1\" and ct2 == \"ICM-1\":\n",
    "        ct = \"ICM-1\"\n",
    "    if (ct1 == \"ICM-2\" or ct1 == \"ICM-3\") and ct2 == \"ICM-2\":\n",
    "        ct = \"ICM-2\"\n",
    "    if ct1 == \"TE-1\" and ct2 == \"TE-1\":\n",
    "        ct = \"TE-1\"\n",
    "    if ct1 == \"TE-2\" and ct2 == \"TE-2\":\n",
    "        ct = \"TE-2\"\n",
    "    if ct1 == \"TE-3\" and (ct2 == \"muralTE\" or ct2 == \"polarTE\"):\n",
    "        # ct = \"TE-3\"\n",
    "        ct = ct2\n",
    "    new_cts.append(ct)\n",
    "m[\"CellType\"] = new_cts"
   ]
  },
  {
   "cell_type": "code",
   "execution_count": 10,
   "id": "004e7e98",
   "metadata": {
    "ExecuteTime": {
     "end_time": "2024-03-13T06:20:40.860366Z",
     "start_time": "2024-03-13T06:20:40.850801Z"
    },
    "hidden": true
   },
   "outputs": [
    {
     "name": "stdout",
     "output_type": "stream",
     "text": [
      "1472\n"
     ]
    }
   ],
   "source": [
    "counter = Counter(m[\"CellType\"])\n",
    "print(sum(counter.values()) - counter[\"Conflict\"])"
   ]
  },
  {
   "cell_type": "code",
   "execution_count": 11,
   "id": "d685b61e",
   "metadata": {
    "ExecuteTime": {
     "end_time": "2024-03-13T06:20:42.714890Z",
     "start_time": "2024-03-13T06:20:42.554654Z"
    },
    "hidden": true
   },
   "outputs": [],
   "source": [
    "m.to_csv(\"results/seurat_transcripts/metadata_and_celltype.consistent_celltype.tsv\", sep=\"\\t\", index=False)"
   ]
  },
  {
   "cell_type": "markdown",
   "id": "280b51dc",
   "metadata": {
    "heading_collapsed": true,
    "hidden": true
   },
   "source": [
    "## 6. Cell-type-specific BAM"
   ]
  },
  {
   "cell_type": "code",
   "execution_count": 13,
   "id": "53f00bbf",
   "metadata": {
    "ExecuteTime": {
     "end_time": "2024-03-13T06:22:30.128392Z",
     "start_time": "2024-03-13T06:22:29.340995Z"
    },
    "hidden": true
   },
   "outputs": [
    {
     "name": "stdout",
     "output_type": "stream",
     "text": [
      "EPI\t205\n",
      "ICM-1\t86\n",
      "ICM-2\t324\n",
      "PE\t137\n",
      "TE-1\t58\n",
      "TE-2\t140\n",
      "muralTE\t101\n",
      "polarTE\t83\n"
     ]
    }
   ],
   "source": [
    "import pysam\n",
    "\n",
    "d = pd.read_csv(\"results/seurat_transcripts/metadata_and_celltype.consistent_celltype.tsv\", sep=\"\\t\")\n",
    "d = d[(d[\"s4U\"] == 400) & (d[\"Time\"] == 3) & (d[\"ActD\"].isna()) & (d[\"TCRatio\"] >= 0.002)]\n",
    "\n",
    "for ct, tmp in d.groupby(by=\"CellType\"):\n",
    "    if ct == \"Conflict\":\n",
    "        continue\n",
    "    print(ct, len(tmp), sep=\"\\t\")\n",
    "    outfile1 = \"results/bams/%s.unsorted.bam\" % ct\n",
    "    outfile2 = \"results/bams/%s.bam\" % ct\n",
    "    \n",
    "    if not os.path.exists(outfile2):\n",
    "        fw = None\n",
    "        for run, cell in tmp[[\"Run\",\"Cell\"]].values:\n",
    "            infile = \"../../1_NanoNASCseq/results/mapping/remove_duplicate/%s/%s.bam\" % (run, cell)\n",
    "            with pysam.AlignmentFile(infile) as f:\n",
    "                if fw is None:\n",
    "                    fw = pysam.AlignmentFile(outfile1, \"wb\", f)\n",
    "                for s in f:\n",
    "                    if s.is_duplicate:\n",
    "                        continue\n",
    "                    if s.get_tag(\"CS\") >= 2:\n",
    "                        fw.write(s)\n",
    "        fw.close()\n",
    "        cmd = \"samtools sort -@ 4 -o %s %s\" % (outfile2, outfile1)\n",
    "        subprocess.check_call(cmd, shell=True)\n",
    "        cmd = \"samtools index -@ 4 %s\" % outfile2\n",
    "        subprocess.check_call(cmd, shell=True)\n",
    "        os.remove(outfile1)"
   ]
  },
  {
   "cell_type": "markdown",
   "id": "cc45b4ab",
   "metadata": {
    "heading_collapsed": true,
    "hidden": true
   },
   "source": [
    "## 7. Cell-type-specific halflife"
   ]
  },
  {
   "cell_type": "code",
   "execution_count": 12,
   "id": "48fb5738",
   "metadata": {
    "ExecuteTime": {
     "end_time": "2024-01-08T04:06:54.270768Z",
     "start_time": "2024-01-08T04:06:54.212613Z"
    },
    "hidden": true
   },
   "outputs": [],
   "source": [
    "d = pd.read_csv(\"results/seurat_transcripts/metadata_and_celltype.consistent_celltype.tsv\", sep=\"\\t\")\n",
    "array = []\n",
    "for ct, tmp in d.groupby(by=\"CellType\"):\n",
    "    if ct == \"Conflict\":\n",
    "        continue\n",
    "    else:\n",
    "        array.append([ct, tmp])"
   ]
  },
  {
   "cell_type": "code",
   "execution_count": 13,
   "id": "f970d397",
   "metadata": {
    "ExecuteTime": {
     "end_time": "2024-01-08T04:06:57.509288Z",
     "start_time": "2024-01-08T04:06:56.387050Z"
    },
    "hidden": true
   },
   "outputs": [],
   "source": [
    "tmp = pd.read_csv(\"results/mouse_transcript_annotation.tsv\", sep=\"\\t\")\n",
    "gid2gname = {k: v for k, v in tmp[[\"GeneID\", \"GeneName\"]].values}\n",
    "tid2tname = {k: v for k, v in tmp[[\"TranscriptID\", \"TranscriptName\"]].values}"
   ]
  },
  {
   "cell_type": "code",
   "execution_count": 14,
   "id": "1f1b3821",
   "metadata": {
    "ExecuteTime": {
     "end_time": "2024-01-08T04:07:45.217779Z",
     "start_time": "2024-01-08T04:07:03.053869Z"
    },
    "hidden": true,
    "scrolled": true
   },
   "outputs": [
    {
     "name": "stdout",
     "output_type": "stream",
     "text": [
      "EPI\t205\n"
     ]
    },
    {
     "name": "stderr",
     "output_type": "stream",
     "text": [
      "/home/chenzonggui/miniconda3/envs/py36/lib/python3.6/site-packages/pandas/core/series.py:726: RuntimeWarning: divide by zero encountered in log2\n",
      "  result = getattr(ufunc, method)(*inputs, **kwargs)\n"
     ]
    },
    {
     "name": "stdout",
     "output_type": "stream",
     "text": [
      "ICM-1\t86\n"
     ]
    },
    {
     "name": "stderr",
     "output_type": "stream",
     "text": [
      "/home/chenzonggui/miniconda3/envs/py36/lib/python3.6/site-packages/pandas/core/series.py:726: RuntimeWarning: divide by zero encountered in log2\n",
      "  result = getattr(ufunc, method)(*inputs, **kwargs)\n"
     ]
    },
    {
     "name": "stdout",
     "output_type": "stream",
     "text": [
      "ICM-2\t324\n"
     ]
    },
    {
     "name": "stderr",
     "output_type": "stream",
     "text": [
      "/home/chenzonggui/miniconda3/envs/py36/lib/python3.6/site-packages/pandas/core/series.py:726: RuntimeWarning: divide by zero encountered in log2\n",
      "  result = getattr(ufunc, method)(*inputs, **kwargs)\n"
     ]
    },
    {
     "name": "stdout",
     "output_type": "stream",
     "text": [
      "PE\t137\n"
     ]
    },
    {
     "name": "stderr",
     "output_type": "stream",
     "text": [
      "/home/chenzonggui/miniconda3/envs/py36/lib/python3.6/site-packages/pandas/core/series.py:726: RuntimeWarning: divide by zero encountered in log2\n",
      "  result = getattr(ufunc, method)(*inputs, **kwargs)\n"
     ]
    },
    {
     "name": "stdout",
     "output_type": "stream",
     "text": [
      "TE-1\t58\n"
     ]
    },
    {
     "name": "stderr",
     "output_type": "stream",
     "text": [
      "/home/chenzonggui/miniconda3/envs/py36/lib/python3.6/site-packages/pandas/core/series.py:726: RuntimeWarning: divide by zero encountered in log2\n",
      "  result = getattr(ufunc, method)(*inputs, **kwargs)\n"
     ]
    },
    {
     "name": "stdout",
     "output_type": "stream",
     "text": [
      "TE-2\t140\n"
     ]
    },
    {
     "name": "stderr",
     "output_type": "stream",
     "text": [
      "/home/chenzonggui/miniconda3/envs/py36/lib/python3.6/site-packages/pandas/core/series.py:726: RuntimeWarning: divide by zero encountered in log2\n",
      "  result = getattr(ufunc, method)(*inputs, **kwargs)\n"
     ]
    },
    {
     "name": "stdout",
     "output_type": "stream",
     "text": [
      "muralTE\t101\n"
     ]
    },
    {
     "name": "stderr",
     "output_type": "stream",
     "text": [
      "/home/chenzonggui/miniconda3/envs/py36/lib/python3.6/site-packages/pandas/core/series.py:726: RuntimeWarning: divide by zero encountered in log2\n",
      "  result = getattr(ufunc, method)(*inputs, **kwargs)\n"
     ]
    },
    {
     "name": "stdout",
     "output_type": "stream",
     "text": [
      "poralTE\t83\n"
     ]
    },
    {
     "name": "stderr",
     "output_type": "stream",
     "text": [
      "/home/chenzonggui/miniconda3/envs/py36/lib/python3.6/site-packages/pandas/core/series.py:726: RuntimeWarning: divide by zero encountered in log2\n",
      "  result = getattr(ufunc, method)(*inputs, **kwargs)\n"
     ]
    }
   ],
   "source": [
    "for ct, tmp in array:\n",
    "    \n",
    "    outfile1 = \"results/halflife/%s_genes.filelist.txt\" % ct\n",
    "    outfile2 = \"results/halflife/%s_genes.gene_id.tsv\" % ct\n",
    "    outfile3 = \"results/halflife/%s_genes.gene_name.tsv\" % ct\n",
    "    \n",
    "    tmp = tmp[(tmp[\"s4U\"] == 400) & (tmp[\"Time\"] == 3) & (tmp[\"ActD\"].isna()) & (tmp[\"TCRatio\"] >= 0.002)]\n",
    "    print(ct, len(tmp), sep=\"\\t\")\n",
    "\n",
    "    with open(outfile1, \"w+\") as fw:\n",
    "        for run, cell in tmp[[\"Run\", \"Cell\"]].values:\n",
    "            path = \"../../1_NanoNASCseq/results/expression/quant_genes/min_read_2_min_tc_2/%s/%s.tsv\" % (run, cell)\n",
    "            fw.write(path + \"\\n\")\n",
    "\n",
    "    cmd = \"../../1_NanoNASCseq/scripts/merge_counts.py %s %s\" % (outfile1, outfile2)\n",
    "    subprocess.check_call(cmd, shell=True)\n",
    "    os.remove(outfile1)\n",
    "\n",
    "    m = pd.read_csv(outfile2, sep=\"\\t\", index_col=0)\n",
    "    m.index = [gid2gname.get(x, x) for x in m.index]\n",
    "    m.index.name = \"GeneName\"\n",
    "    m = m[~m.index.duplicated()]\n",
    "    m = m[m[\"Total\"] > 0]\n",
    "    m[\"TPM\"] = m[\"Total\"] * 1e6 / m[\"Total\"].sum()\n",
    "    m[\"NTR\"] = m[\"Nascent\"] / m[\"Total\"]\n",
    "    m[\"T\"] = -3 / np.log2(1 - m[\"NTR\"])\n",
    "    m[\"K\"] = m[\"TPM\"] * np.log(2) / m[\"T\"]\n",
    "    m[\"D\"] = np.log(2) / m[\"T\"]\n",
    "    m.to_csv(outfile3, sep=\"\\t\")\n",
    "    os.remove(outfile2)"
   ]
  },
  {
   "cell_type": "code",
   "execution_count": 15,
   "id": "c47c5bb2",
   "metadata": {
    "ExecuteTime": {
     "end_time": "2024-01-08T04:08:18.910715Z",
     "start_time": "2024-01-08T04:07:45.220472Z"
    },
    "hidden": true
   },
   "outputs": [
    {
     "name": "stdout",
     "output_type": "stream",
     "text": [
      "EPI\t205\n"
     ]
    },
    {
     "name": "stderr",
     "output_type": "stream",
     "text": [
      "/home/chenzonggui/miniconda3/envs/py36/lib/python3.6/site-packages/pandas/core/series.py:726: RuntimeWarning: divide by zero encountered in log2\n",
      "  result = getattr(ufunc, method)(*inputs, **kwargs)\n"
     ]
    },
    {
     "name": "stdout",
     "output_type": "stream",
     "text": [
      "ICM-1\t86\n"
     ]
    },
    {
     "name": "stderr",
     "output_type": "stream",
     "text": [
      "/home/chenzonggui/miniconda3/envs/py36/lib/python3.6/site-packages/pandas/core/series.py:726: RuntimeWarning: divide by zero encountered in log2\n",
      "  result = getattr(ufunc, method)(*inputs, **kwargs)\n"
     ]
    },
    {
     "name": "stdout",
     "output_type": "stream",
     "text": [
      "ICM-2\t324\n"
     ]
    },
    {
     "name": "stderr",
     "output_type": "stream",
     "text": [
      "/home/chenzonggui/miniconda3/envs/py36/lib/python3.6/site-packages/pandas/core/series.py:726: RuntimeWarning: divide by zero encountered in log2\n",
      "  result = getattr(ufunc, method)(*inputs, **kwargs)\n"
     ]
    },
    {
     "name": "stdout",
     "output_type": "stream",
     "text": [
      "PE\t137\n"
     ]
    },
    {
     "name": "stderr",
     "output_type": "stream",
     "text": [
      "/home/chenzonggui/miniconda3/envs/py36/lib/python3.6/site-packages/pandas/core/series.py:726: RuntimeWarning: divide by zero encountered in log2\n",
      "  result = getattr(ufunc, method)(*inputs, **kwargs)\n"
     ]
    },
    {
     "name": "stdout",
     "output_type": "stream",
     "text": [
      "TE-1\t58\n"
     ]
    },
    {
     "name": "stderr",
     "output_type": "stream",
     "text": [
      "/home/chenzonggui/miniconda3/envs/py36/lib/python3.6/site-packages/pandas/core/series.py:726: RuntimeWarning: divide by zero encountered in log2\n",
      "  result = getattr(ufunc, method)(*inputs, **kwargs)\n"
     ]
    },
    {
     "name": "stdout",
     "output_type": "stream",
     "text": [
      "TE-2\t140\n"
     ]
    },
    {
     "name": "stderr",
     "output_type": "stream",
     "text": [
      "/home/chenzonggui/miniconda3/envs/py36/lib/python3.6/site-packages/pandas/core/series.py:726: RuntimeWarning: divide by zero encountered in log2\n",
      "  result = getattr(ufunc, method)(*inputs, **kwargs)\n"
     ]
    },
    {
     "name": "stdout",
     "output_type": "stream",
     "text": [
      "muralTE\t101\n"
     ]
    },
    {
     "name": "stderr",
     "output_type": "stream",
     "text": [
      "/home/chenzonggui/miniconda3/envs/py36/lib/python3.6/site-packages/pandas/core/series.py:726: RuntimeWarning: divide by zero encountered in log2\n",
      "  result = getattr(ufunc, method)(*inputs, **kwargs)\n"
     ]
    },
    {
     "name": "stdout",
     "output_type": "stream",
     "text": [
      "poralTE\t83\n"
     ]
    },
    {
     "name": "stderr",
     "output_type": "stream",
     "text": [
      "/home/chenzonggui/miniconda3/envs/py36/lib/python3.6/site-packages/pandas/core/series.py:726: RuntimeWarning: divide by zero encountered in log2\n",
      "  result = getattr(ufunc, method)(*inputs, **kwargs)\n"
     ]
    }
   ],
   "source": [
    "for ct, tmp in array:\n",
    "    \n",
    "    outfile1 = \"results/halflife/%s_transcripts.filelist.txt\" % ct\n",
    "    outfile2 = \"results/halflife/%s_transcripts.transcript_id.tsv\" % ct\n",
    "    outfile3 = \"results/halflife/%s_transcripts.transcript_name.tsv\" % ct\n",
    "    \n",
    "    tmp = tmp[(tmp[\"s4U\"] == 400) & (tmp[\"Time\"] == 3) & (tmp[\"ActD\"].isna()) & (tmp[\"TCRatio\"] >= 0.002)]\n",
    "    print(ct, len(tmp), sep=\"\\t\")\n",
    "\n",
    "    with open(outfile1, \"w+\") as fw:\n",
    "        for run, cell in tmp[[\"Run\", \"Cell\"]].values:\n",
    "            path = \"../../1_NanoNASCseq/results/expression/novel/quant_isoforms/min_read_2_min_tc_2/%s/%s.tsv\" % (run, cell)\n",
    "            fw.write(path + \"\\n\")\n",
    "\n",
    "    cmd = \"../../1_NanoNASCseq/scripts/merge_counts.py %s %s\" % (outfile1, outfile2)\n",
    "    subprocess.check_call(cmd, shell=True)\n",
    "    os.remove(outfile1)\n",
    "\n",
    "    m = pd.read_csv(outfile2, sep=\"\\t\", index_col=0)\n",
    "    m.index = [tid2tname.get(x, x) for x in m.index]\n",
    "    m.index.name = \"TranscriptName\"\n",
    "    m = m[~m.index.duplicated()]\n",
    "    m = m[m[\"Total\"] > 0]\n",
    "    m[\"TPM\"] = m[\"Total\"] * 1e6 / m[\"Total\"].sum()\n",
    "    m[\"NTR\"] = m[\"Nascent\"] / m[\"Total\"]\n",
    "    m[\"T\"] = -3 / np.log2(1 - m[\"NTR\"])\n",
    "    m[\"K\"] = m[\"TPM\"] * np.log(2) / m[\"T\"]\n",
    "    m[\"D\"] = np.log(2) / m[\"T\"]\n",
    "    m.to_csv(outfile3, sep=\"\\t\")\n",
    "    os.remove(outfile2)"
   ]
  },
  {
   "cell_type": "markdown",
   "id": "fe79d279",
   "metadata": {
    "heading_collapsed": true,
    "hidden": true
   },
   "source": [
    "## 8. Cell-type-specific matrix"
   ]
  },
  {
   "cell_type": "code",
   "execution_count": 16,
   "id": "2b414001",
   "metadata": {
    "ExecuteTime": {
     "end_time": "2024-01-08T04:27:04.097745Z",
     "start_time": "2024-01-08T04:27:04.022970Z"
    },
    "hidden": true
   },
   "outputs": [],
   "source": [
    "d = pd.read_csv(\"results/seurat_transcripts/metadata_and_celltype.consistent_celltype.tsv\", sep=\"\\t\")\n",
    "array = []\n",
    "for ct, tmp in d.groupby(by=\"CellType\"):\n",
    "    if ct == \"Conflict\":\n",
    "        continue\n",
    "    else:\n",
    "        array.append([ct, tmp])"
   ]
  },
  {
   "cell_type": "code",
   "execution_count": 17,
   "id": "b15d4962",
   "metadata": {
    "ExecuteTime": {
     "end_time": "2024-01-08T04:27:06.496296Z",
     "start_time": "2024-01-08T04:27:05.372172Z"
    },
    "hidden": true
   },
   "outputs": [],
   "source": [
    "tmp = pd.read_csv(\"results/mouse_transcript_annotation.tsv\", sep=\"\\t\")\n",
    "gid2gname = {k: v for k, v in tmp[[\"GeneID\", \"GeneName\"]].values}\n",
    "tid2tname = {k: v for k, v in tmp[[\"TranscriptID\", \"TranscriptName\"]].values}"
   ]
  },
  {
   "cell_type": "code",
   "execution_count": 18,
   "id": "b8695625",
   "metadata": {
    "ExecuteTime": {
     "end_time": "2024-01-08T04:28:50.606068Z",
     "start_time": "2024-01-08T04:27:06.501571Z"
    },
    "code_folding": [
     0
    ],
    "hidden": true
   },
   "outputs": [
    {
     "name": "stdout",
     "output_type": "stream",
     "text": [
      "EPI\t205\n",
      "ICM-1\t86\n",
      "ICM-2\t324\n",
      "PE\t137\n",
      "TE-1\t58\n",
      "TE-2\t140\n",
      "muralTE\t101\n",
      "poralTE\t83\n"
     ]
    }
   ],
   "source": [
    "for ct, tmp in array:\n",
    "    \n",
    "    outfile1 = \"results/matrix/%s_genes.filelist.txt\" % ct\n",
    "    outfile2 = \"results/matrix/%s_genes.gene_id.total.tsv\" % ct\n",
    "    outfile3 = \"results/matrix/%s_genes.gene_id.nascent.tsv\" % ct\n",
    "    outfile4 = \"results/matrix/%s_genes.gene_name.total.tsv\" % ct\n",
    "    outfile5 = \"results/matrix/%s_genes.gene_name.nascent.tsv\" % ct\n",
    "    \n",
    "    tmp = tmp[(tmp[\"s4U\"] == 400) & (tmp[\"Time\"] == 3) & (tmp[\"ActD\"].isna()) & (tmp[\"TCRatio\"] >= 0.002)]\n",
    "    print(ct, len(tmp), sep=\"\\t\")\n",
    "\n",
    "    with open(outfile1, \"w+\") as fw:\n",
    "        for run, cell in tmp[[\"Run\", \"Cell\"]].values:\n",
    "            path = \"../../1_NanoNASCseq/results/expression/quant_genes/min_read_2_min_tc_2/%s/%s.tsv\" % (run, cell)\n",
    "            fw.write(path + \"\\n\")\n",
    "\n",
    "    cmd = \"../../1_NanoNASCseq/scripts/make_count_matrix.py %s %s %s\" % (outfile1, outfile2, outfile3)\n",
    "    subprocess.check_call(cmd, shell=True)\n",
    "    os.remove(outfile1)\n",
    "\n",
    "    m = pd.read_csv(outfile2, sep=\"\\t\", index_col=0)\n",
    "    m.index = [gid2gname.get(x, x) for x in m.index]\n",
    "    m.index.name = \"GeneName\"\n",
    "    m = m[~m.index.duplicated()]\n",
    "    m.to_csv(outfile4, sep=\"\\t\")\n",
    "    \n",
    "    m = pd.read_csv(outfile3, sep=\"\\t\", index_col=0)\n",
    "    m.index = [gid2gname.get(x, x) for x in m.index]\n",
    "    m.index.name = \"GeneName\"\n",
    "    m = m[~m.index.duplicated()]\n",
    "    m.to_csv(outfile5, sep=\"\\t\")\n",
    "    \n",
    "    os.remove(outfile2)\n",
    "    os.remove(outfile3)"
   ]
  },
  {
   "cell_type": "code",
   "execution_count": 19,
   "id": "27fc610e",
   "metadata": {
    "ExecuteTime": {
     "end_time": "2024-01-08T04:32:07.132329Z",
     "start_time": "2024-01-08T04:29:01.287652Z"
    },
    "code_folding": [
     0
    ],
    "hidden": true
   },
   "outputs": [
    {
     "name": "stdout",
     "output_type": "stream",
     "text": [
      "EPI\t205\n",
      "ICM-1\t86\n",
      "ICM-2\t324\n",
      "PE\t137\n",
      "TE-1\t58\n",
      "TE-2\t140\n",
      "muralTE\t101\n",
      "poralTE\t83\n"
     ]
    }
   ],
   "source": [
    "for ct, tmp in array:\n",
    "    \n",
    "    outfile1 = \"results/matrix/%s_transcripts.filelist.txt\" % ct\n",
    "    outfile2 = \"results/matrix/%s_transcripts.transcript_id.total.tsv\" % ct\n",
    "    outfile3 = \"results/matrix/%s_transcripts.transcript_id.nascent.tsv\" % ct\n",
    "    outfile4 = \"results/matrix/%s_transcripts.transcript_name.total.tsv\" % ct\n",
    "    outfile5 = \"results/matrix/%s_transcripts.transcript_name.nascent.tsv\" % ct\n",
    "    \n",
    "    tmp = tmp[(tmp[\"s4U\"] == 400) & (tmp[\"Time\"] == 3) & (tmp[\"ActD\"].isna()) & (tmp[\"TCRatio\"] >= 0.002)]\n",
    "    print(ct, len(tmp), sep=\"\\t\")\n",
    "\n",
    "    with open(outfile1, \"w+\") as fw:\n",
    "        for run, cell in tmp[[\"Run\", \"Cell\"]].values:\n",
    "            path = \"../../1_NanoNASCseq/results/expression/novel/quant_isoforms/min_read_2_min_tc_2/%s/%s.tsv\" % (run, cell)\n",
    "            fw.write(path + \"\\n\")\n",
    "\n",
    "    cmd = \"../../1_NanoNASCseq/scripts/make_count_matrix.py %s %s %s\" % (outfile1, outfile2, outfile3)\n",
    "    subprocess.check_call(cmd, shell=True)\n",
    "    os.remove(outfile1)\n",
    "\n",
    "    m = pd.read_csv(outfile2, sep=\"\\t\", index_col=0)\n",
    "    m.index = [tid2tname.get(x, x) for x in m.index]\n",
    "    m.index.name = \"TranscriptName\"\n",
    "    m = m[~m.index.duplicated()]\n",
    "    m.to_csv(outfile4, sep=\"\\t\")\n",
    "    \n",
    "    m = pd.read_csv(outfile3, sep=\"\\t\", index_col=0)\n",
    "    m.index = [gid2gname.get(x, x) for x in m.index]\n",
    "    m.index.name = \"TranscriptName\"\n",
    "    m = m[~m.index.duplicated()]\n",
    "    m.to_csv(outfile5, sep=\"\\t\")\n",
    "    \n",
    "    os.remove(outfile2)\n",
    "    os.remove(outfile3)"
   ]
  },
  {
   "cell_type": "markdown",
   "id": "0d8efc93",
   "metadata": {},
   "source": [
    "# Polar and mural TE"
   ]
  },
  {
   "cell_type": "markdown",
   "id": "b070fdc0",
   "metadata": {},
   "source": [
    "## 1. MTE and PTE marker genes"
   ]
  },
  {
   "cell_type": "code",
   "execution_count": 14,
   "id": "0e7d7c61",
   "metadata": {
    "ExecuteTime": {
     "end_time": "2024-03-13T06:25:17.321659Z",
     "start_time": "2024-03-13T06:24:54.822234Z"
    }
   },
   "outputs": [
    {
     "name": "stdout",
     "output_type": "stream",
     "text": [
      "173 118\n"
     ]
    }
   ],
   "source": [
    "mtx = pd.read_csv(\"results/blastocyst_counts.genes.gene_name.total.tsv\", sep=\"\\t\", header=0, index_col=0)\n",
    "m = pd.read_csv(\"results/seurat_transcripts/metadata_and_celltype.tsv\", sep=\"\\t\")\n",
    "cells1 = m[m[\"CellTypeFromTranscript\"] == \"muralTE\"][\"Cell\"]\n",
    "cells2 = m[m[\"CellTypeFromTranscript\"] == \"polarTE\"][\"Cell\"]\n",
    "print(len(cells1), len(cells2))"
   ]
  },
  {
   "cell_type": "code",
   "execution_count": 53,
   "id": "3bfaf1a5",
   "metadata": {
    "ExecuteTime": {
     "end_time": "2024-01-03T10:38:45.021966Z",
     "start_time": "2024-01-03T10:38:44.987029Z"
    }
   },
   "outputs": [],
   "source": [
    "mtx1 = mtx[cells1]\n",
    "mtx2 = mtx[cells2]"
   ]
  },
  {
   "cell_type": "code",
   "execution_count": 54,
   "id": "8bf55edb",
   "metadata": {
    "ExecuteTime": {
     "end_time": "2024-01-03T10:38:45.111081Z",
     "start_time": "2024-01-03T10:38:45.024759Z"
    }
   },
   "outputs": [],
   "source": [
    "s1 = mtx1.sum(axis=1)\n",
    "s1.name = \"Count1\"\n",
    "s2 = mtx2.sum(axis=1)\n",
    "s2.name = \"Count2\""
   ]
  },
  {
   "cell_type": "code",
   "execution_count": 55,
   "id": "7d6f2704",
   "metadata": {
    "ExecuteTime": {
     "end_time": "2024-01-03T10:38:45.153381Z",
     "start_time": "2024-01-03T10:38:45.113823Z"
    }
   },
   "outputs": [
    {
     "data": {
      "text/html": [
       "<div>\n",
       "<style scoped>\n",
       "    .dataframe tbody tr th:only-of-type {\n",
       "        vertical-align: middle;\n",
       "    }\n",
       "\n",
       "    .dataframe tbody tr th {\n",
       "        vertical-align: top;\n",
       "    }\n",
       "\n",
       "    .dataframe thead th {\n",
       "        text-align: right;\n",
       "    }\n",
       "</style>\n",
       "<table border=\"1\" class=\"dataframe\">\n",
       "  <thead>\n",
       "    <tr style=\"text-align: right;\">\n",
       "      <th></th>\n",
       "      <th>Count1</th>\n",
       "      <th>Count2</th>\n",
       "      <th>TPM1</th>\n",
       "      <th>TPM2</th>\n",
       "      <th>TPM.Max</th>\n",
       "      <th>TPM1.Norm</th>\n",
       "      <th>TPM2.Norm</th>\n",
       "    </tr>\n",
       "    <tr>\n",
       "      <th>GeneName</th>\n",
       "      <th></th>\n",
       "      <th></th>\n",
       "      <th></th>\n",
       "      <th></th>\n",
       "      <th></th>\n",
       "      <th></th>\n",
       "      <th></th>\n",
       "    </tr>\n",
       "  </thead>\n",
       "  <tbody>\n",
       "    <tr>\n",
       "      <th>Gnai3</th>\n",
       "      <td>182.0</td>\n",
       "      <td>113.0</td>\n",
       "      <td>124.644045</td>\n",
       "      <td>114.418909</td>\n",
       "      <td>124.644045</td>\n",
       "      <td>1.000000</td>\n",
       "      <td>0.917965</td>\n",
       "    </tr>\n",
       "    <tr>\n",
       "      <th>Cdc45</th>\n",
       "      <td>41.0</td>\n",
       "      <td>34.0</td>\n",
       "      <td>28.079153</td>\n",
       "      <td>34.426928</td>\n",
       "      <td>34.426928</td>\n",
       "      <td>0.815616</td>\n",
       "      <td>1.000000</td>\n",
       "    </tr>\n",
       "    <tr>\n",
       "      <th>H19</th>\n",
       "      <td>667.0</td>\n",
       "      <td>3359.0</td>\n",
       "      <td>456.799881</td>\n",
       "      <td>3401.178008</td>\n",
       "      <td>3401.178008</td>\n",
       "      <td>0.134306</td>\n",
       "      <td>1.000000</td>\n",
       "    </tr>\n",
       "    <tr>\n",
       "      <th>Scml2</th>\n",
       "      <td>2.0</td>\n",
       "      <td>0.0</td>\n",
       "      <td>1.369715</td>\n",
       "      <td>0.000000</td>\n",
       "      <td>1.369715</td>\n",
       "      <td>1.000000</td>\n",
       "      <td>0.000000</td>\n",
       "    </tr>\n",
       "    <tr>\n",
       "      <th>Apoh</th>\n",
       "      <td>0.0</td>\n",
       "      <td>0.0</td>\n",
       "      <td>0.000000</td>\n",
       "      <td>0.000000</td>\n",
       "      <td>0.000000</td>\n",
       "      <td>NaN</td>\n",
       "      <td>NaN</td>\n",
       "    </tr>\n",
       "    <tr>\n",
       "      <th>...</th>\n",
       "      <td>...</td>\n",
       "      <td>...</td>\n",
       "      <td>...</td>\n",
       "      <td>...</td>\n",
       "      <td>...</td>\n",
       "      <td>...</td>\n",
       "      <td>...</td>\n",
       "    </tr>\n",
       "    <tr>\n",
       "      <th>CT010467.2</th>\n",
       "      <td>0.0</td>\n",
       "      <td>5.0</td>\n",
       "      <td>0.000000</td>\n",
       "      <td>5.062784</td>\n",
       "      <td>5.062784</td>\n",
       "      <td>0.000000</td>\n",
       "      <td>1.000000</td>\n",
       "    </tr>\n",
       "    <tr>\n",
       "      <th>AC163703.1</th>\n",
       "      <td>0.0</td>\n",
       "      <td>0.0</td>\n",
       "      <td>0.000000</td>\n",
       "      <td>0.000000</td>\n",
       "      <td>0.000000</td>\n",
       "      <td>NaN</td>\n",
       "      <td>NaN</td>\n",
       "    </tr>\n",
       "    <tr>\n",
       "      <th>AC160405.1</th>\n",
       "      <td>0.0</td>\n",
       "      <td>0.0</td>\n",
       "      <td>0.000000</td>\n",
       "      <td>0.000000</td>\n",
       "      <td>0.000000</td>\n",
       "      <td>NaN</td>\n",
       "      <td>NaN</td>\n",
       "    </tr>\n",
       "    <tr>\n",
       "      <th>CT030740.1</th>\n",
       "      <td>0.0</td>\n",
       "      <td>0.0</td>\n",
       "      <td>0.000000</td>\n",
       "      <td>0.000000</td>\n",
       "      <td>0.000000</td>\n",
       "      <td>NaN</td>\n",
       "      <td>NaN</td>\n",
       "    </tr>\n",
       "    <tr>\n",
       "      <th>AC159819.1</th>\n",
       "      <td>11.0</td>\n",
       "      <td>9.0</td>\n",
       "      <td>7.533431</td>\n",
       "      <td>9.113010</td>\n",
       "      <td>9.113010</td>\n",
       "      <td>0.826668</td>\n",
       "      <td>1.000000</td>\n",
       "    </tr>\n",
       "  </tbody>\n",
       "</table>\n",
       "<p>29041 rows × 7 columns</p>\n",
       "</div>"
      ],
      "text/plain": [
       "            Count1  Count2        TPM1         TPM2      TPM.Max  TPM1.Norm  \\\n",
       "GeneName                                                                      \n",
       "Gnai3        182.0   113.0  124.644045   114.418909   124.644045   1.000000   \n",
       "Cdc45         41.0    34.0   28.079153    34.426928    34.426928   0.815616   \n",
       "H19          667.0  3359.0  456.799881  3401.178008  3401.178008   0.134306   \n",
       "Scml2          2.0     0.0    1.369715     0.000000     1.369715   1.000000   \n",
       "Apoh           0.0     0.0    0.000000     0.000000     0.000000        NaN   \n",
       "...            ...     ...         ...          ...          ...        ...   \n",
       "CT010467.2     0.0     5.0    0.000000     5.062784     5.062784   0.000000   \n",
       "AC163703.1     0.0     0.0    0.000000     0.000000     0.000000        NaN   \n",
       "AC160405.1     0.0     0.0    0.000000     0.000000     0.000000        NaN   \n",
       "CT030740.1     0.0     0.0    0.000000     0.000000     0.000000        NaN   \n",
       "AC159819.1    11.0     9.0    7.533431     9.113010     9.113010   0.826668   \n",
       "\n",
       "            TPM2.Norm  \n",
       "GeneName               \n",
       "Gnai3        0.917965  \n",
       "Cdc45        1.000000  \n",
       "H19          1.000000  \n",
       "Scml2        0.000000  \n",
       "Apoh              NaN  \n",
       "...               ...  \n",
       "CT010467.2   1.000000  \n",
       "AC163703.1        NaN  \n",
       "AC160405.1        NaN  \n",
       "CT030740.1        NaN  \n",
       "AC159819.1   1.000000  \n",
       "\n",
       "[29041 rows x 7 columns]"
      ]
     },
     "execution_count": 55,
     "metadata": {},
     "output_type": "execute_result"
    }
   ],
   "source": [
    "tmp = pd.concat([s1, s2], axis=1)\n",
    "tmp[\"TPM1\"] = tmp[\"Count1\"] * 1e6 / tmp[\"Count1\"].sum()\n",
    "tmp[\"TPM2\"] = tmp[\"Count2\"] * 1e6 / tmp[\"Count2\"].sum()\n",
    "tmp[\"TPM.Max\"] = tmp[[\"TPM1\", \"TPM2\"]].max(axis=1)\n",
    "tmp[\"TPM1.Norm\"] = tmp[\"TPM1\"] / tmp[\"TPM.Max\"]\n",
    "tmp[\"TPM2.Norm\"] = tmp[\"TPM2\"] / tmp[\"TPM.Max\"]\n",
    "tmp"
   ]
  },
  {
   "cell_type": "code",
   "execution_count": 56,
   "id": "42d8d50d",
   "metadata": {
    "ExecuteTime": {
     "end_time": "2024-01-03T10:38:45.166829Z",
     "start_time": "2024-01-03T10:38:45.155155Z"
    }
   },
   "outputs": [
    {
     "data": {
      "text/plain": [
       "Count1       846.000000\n",
       "Count2       340.000000\n",
       "TPM1         579.389354\n",
       "TPM2         344.269283\n",
       "TPM.Max      579.389354\n",
       "TPM1.Norm      1.000000\n",
       "TPM2.Norm      0.594193\n",
       "Name: Gata3, dtype: float64"
      ]
     },
     "execution_count": 56,
     "metadata": {},
     "output_type": "execute_result"
    }
   ],
   "source": [
    "tmp.loc[\"Gata3\"]"
   ]
  },
  {
   "cell_type": "code",
   "execution_count": 57,
   "id": "275d1475",
   "metadata": {
    "ExecuteTime": {
     "end_time": "2024-01-03T10:38:45.174247Z",
     "start_time": "2024-01-03T10:38:45.168517Z"
    }
   },
   "outputs": [
    {
     "data": {
      "text/plain": [
       "Count1       45.000000\n",
       "Count2       16.000000\n",
       "TPM1         30.818583\n",
       "TPM2         16.200907\n",
       "TPM.Max      30.818583\n",
       "TPM1.Norm     1.000000\n",
       "TPM2.Norm     0.525686\n",
       "Name: Rxra, dtype: float64"
      ]
     },
     "execution_count": 57,
     "metadata": {},
     "output_type": "execute_result"
    }
   ],
   "source": [
    "tmp.loc[\"Rxra\"]"
   ]
  },
  {
   "cell_type": "code",
   "execution_count": 59,
   "id": "b7672fa0",
   "metadata": {
    "ExecuteTime": {
     "end_time": "2024-01-03T10:39:28.809061Z",
     "start_time": "2024-01-03T10:39:28.496522Z"
    }
   },
   "outputs": [
    {
     "name": "stdout",
     "output_type": "stream",
     "text": [
      "87 8 95\n"
     ]
    }
   ],
   "source": [
    "x = pd.read_excel(\"data/sciadv.abj3725_tables_s1_to_s10/sciadv.abj3725_table_s5.xls\", sheet_name=None)\n",
    "x = x[\"Mouse_S3_all_type_DEGs\"]\n",
    "genes1 = set(x[(x[\"cluster\"] == \"S3.MTE\") & (x[\"avg_logFC\"] >= 1)][\"gene\"]) # mural\n",
    "genes2 = set(x[(x[\"cluster\"] == \"S3.PTE\") & (x[\"avg_logFC\"] >= 1)][\"gene\"]) # poral\n",
    "genes = genes1 | genes2\n",
    "print(len(genes1), len(genes2), len(genes))"
   ]
  },
  {
   "cell_type": "code",
   "execution_count": 63,
   "id": "4f24729d",
   "metadata": {
    "ExecuteTime": {
     "end_time": "2024-01-03T10:40:17.372728Z",
     "start_time": "2024-01-03T10:40:16.995960Z"
    },
    "scrolled": true
   },
   "outputs": [
    {
     "name": "stdout",
     "output_type": "stream",
     "text": [
      "--------------------------------------------------------------------------------\n",
      "Krt7\t0.6994219653179191\t3.165289256198347\n",
      "Krt7\t0.2288135593220339\t1.4074074074074074\n",
      "--------------------------------------------------------------------------------\n",
      "Cited2\t0.7167630057803468\t3.846774193548387\n",
      "Cited2\t0.4491525423728814\t2.1320754716981134\n",
      "--------------------------------------------------------------------------------\n",
      "Basp1\t0.8323699421965318\t6.631944444444445\n",
      "Basp1\t0.6101694915254238\t2.0694444444444446\n",
      "--------------------------------------------------------------------------------\n",
      "Capn1\t0.48554913294797686\t1.5714285714285714\n",
      "Capn1\t0.2542372881355932\t1.3333333333333333\n",
      "--------------------------------------------------------------------------------\n",
      "Prl7a1\t0.0\t0\n",
      "Prl7a1\t0.0\t0\n",
      "--------------------------------------------------------------------------------\n",
      "Efhd2\t0.9653179190751445\t5.317365269461078\n",
      "Efhd2\t0.864406779661017\t3.676470588235294\n",
      "--------------------------------------------------------------------------------\n",
      "Gkap1\t0.5202312138728323\t1.6111111111111112\n",
      "Gkap1\t0.3559322033898305\t1.5476190476190477\n",
      "--------------------------------------------------------------------------------\n",
      "Folr1\t0.9710982658959537\t7.041666666666667\n",
      "Folr1\t0.940677966101695\t4.2342342342342345\n",
      "--------------------------------------------------------------------------------\n",
      "Gsn\t0.5491329479768786\t1.9894736842105263\n",
      "Gsn\t0.2288135593220339\t1.2962962962962963\n",
      "--------------------------------------------------------------------------------\n",
      "Glipr2\t0.8497109826589595\t4.761904761904762\n",
      "Glipr2\t0.4915254237288136\t2.3448275862068964\n",
      "--------------------------------------------------------------------------------\n",
      "Slc38a1\t0.2947976878612717\t1.2549019607843137\n",
      "Slc38a1\t0.3813559322033898\t1.3555555555555556\n",
      "--------------------------------------------------------------------------------\n",
      "Tfap2c\t0.4797687861271676\t1.8072289156626506\n",
      "Tfap2c\t0.3305084745762712\t1.5128205128205128\n",
      "--------------------------------------------------------------------------------\n",
      "Lgals3\t0.9826589595375722\t10.764705882352942\n",
      "Lgals3\t0.9661016949152542\t9.921052631578947\n",
      "--------------------------------------------------------------------------------\n",
      "Procr\t0.005780346820809248\t1.0\n",
      "Procr\t0.00847457627118644\t1.0\n",
      "--------------------------------------------------------------------------------\n",
      "Sct\t0.30057803468208094\t1.7115384615384615\n",
      "Sct\t0.2627118644067797\t1.7419354838709677\n",
      "--------------------------------------------------------------------------------\n",
      "Tfap2a\t0.8439306358381503\t3.212328767123288\n",
      "Tfap2a\t0.5847457627118644\t1.4492753623188406\n",
      "--------------------------------------------------------------------------------\n",
      "Cdkn1c\t0.046242774566473986\t1.0\n",
      "Cdkn1c\t0.01694915254237288\t1.0\n",
      "--------------------------------------------------------------------------------\n",
      "C430049B03Rik\t0.49710982658959535\t1.8488372093023255\n",
      "C430049B03Rik\t0.1440677966101695\t1.411764705882353\n",
      "--------------------------------------------------------------------------------\n",
      "Irx3\t0.23699421965317918\t2.048780487804878\n",
      "Irx3\t0.4745762711864407\t2.1607142857142856\n",
      "--------------------------------------------------------------------------------\n",
      "BC053393\t1.0\t26.653179190751445\n",
      "BC053393\t0.9661016949152542\t7.771929824561403\n",
      "--------------------------------------------------------------------------------\n",
      "Nfkbia\t0.19653179190751446\t1.3823529411764706\n",
      "Nfkbia\t0.0423728813559322\t1.0\n",
      "--------------------------------------------------------------------------------\n",
      "Anxa1\t0.1676300578034682\t1.6206896551724137\n",
      "Anxa1\t0.05084745762711865\t1.3333333333333333\n",
      "--------------------------------------------------------------------------------\n",
      "Fxyd4\t0.3930635838150289\t2.426470588235294\n",
      "Fxyd4\t0.5338983050847458\t2.8095238095238093\n",
      "--------------------------------------------------------------------------------\n",
      "Afap1\t0.017341040462427744\t1.0\n",
      "Afap1\t0.00847457627118644\t1.0\n",
      "--------------------------------------------------------------------------------\n",
      "--------------------------------------------------------------------------------\n",
      "Satb1\t0.8323699421965318\t3.125\n",
      "Satb1\t0.7288135593220338\t2.988372093023256\n",
      "--------------------------------------------------------------------------------\n",
      "Gnai2\t1.0\t17.739884393063583\n",
      "Gnai2\t0.9915254237288136\t7.0256410256410255\n",
      "--------------------------------------------------------------------------------\n",
      "Dag1\t0.8439306358381503\t2.9863013698630136\n",
      "Dag1\t0.6610169491525424\t2.282051282051282\n",
      "--------------------------------------------------------------------------------\n",
      "Plac8\t0.023121387283236993\t1.0\n",
      "Plac8\t0.0423728813559322\t1.2\n",
      "--------------------------------------------------------------------------------\n",
      "Krt8\t1.0\t32.73410404624278\n",
      "Krt8\t1.0\t24.26271186440678\n",
      "--------------------------------------------------------------------------------\n",
      "Krt19\t0.49710982658959535\t3.197674418604651\n",
      "Krt19\t0.0847457627118644\t1.2\n",
      "--------------------------------------------------------------------------------\n",
      "Slc2a1\t0.2254335260115607\t1.9487179487179487\n",
      "Slc2a1\t0.16101694915254236\t1.2105263157894737\n",
      "--------------------------------------------------------------------------------\n",
      "Iffo2\t0.30057803468208094\t1.5384615384615385\n",
      "Iffo2\t0.19491525423728814\t1.173913043478261\n",
      "--------------------------------------------------------------------------------\n",
      "Chmp5\t0.6647398843930635\t2.260869565217391\n",
      "Chmp5\t0.5847457627118644\t1.710144927536232\n",
      "--------------------------------------------------------------------------------\n",
      "Smpdl3a\t0.7109826589595376\t2.2601626016260163\n",
      "Smpdl3a\t0.3983050847457627\t1.9787234042553192\n",
      "--------------------------------------------------------------------------------\n",
      "Aqp3\t0.884393063583815\t4.065359477124183\n",
      "Aqp3\t0.6949152542372882\t2.292682926829268\n",
      "--------------------------------------------------------------------------------\n",
      "Plac1\t0.8092485549132948\t4.564285714285714\n",
      "Plac1\t0.2288135593220339\t1.3333333333333333\n",
      "--------------------------------------------------------------------------------\n",
      "Emp2\t0.7225433526011561\t2.512\n",
      "Emp2\t0.423728813559322\t1.9\n",
      "--------------------------------------------------------------------------------\n",
      "Serpinb6c\t0.8092485549132948\t4.007142857142857\n",
      "Serpinb6c\t0.7288135593220338\t2.5697674418604652\n",
      "--------------------------------------------------------------------------------\n",
      "Ahnak\t0.7167630057803468\t2.274193548387097\n",
      "Ahnak\t0.6694915254237288\t1.9493670886075949\n",
      "--------------------------------------------------------------------------------\n",
      "S100a6\t0.12138728323699421\t1.4285714285714286\n",
      "S100a6\t0.2627118644067797\t1.7419354838709677\n",
      "--------------------------------------------------------------------------------\n",
      "Entpd1\t0.7861271676300579\t2.6911764705882355\n",
      "Entpd1\t0.6271186440677966\t2.391891891891892\n",
      "--------------------------------------------------------------------------------\n",
      "Gm4926\t0.5375722543352601\t2.204301075268817\n",
      "Gm4926\t0.01694915254237288\t1.0\n",
      "--------------------------------------------------------------------------------\n",
      "S100a11\t0.953757225433526\t7.781818181818182\n",
      "S100a11\t0.9491525423728814\t10.3125\n",
      "--------------------------------------------------------------------------------\n",
      "Psap\t1.0\t63.09826589595376\n",
      "Psap\t1.0\t24.661016949152543\n",
      "--------------------------------------------------------------------------------\n",
      "Tmsb4x\t0.9826589595375722\t44.794117647058826\n",
      "Tmsb4x\t1.0\t32.63559322033898\n",
      "--------------------------------------------------------------------------------\n",
      "Rhou\t0.23699421965317918\t1.3658536585365855\n",
      "Rhou\t0.1271186440677966\t1.0\n",
      "--------------------------------------------------------------------------------\n",
      "Mbnl3\t0.7976878612716763\t3.1666666666666665\n",
      "Mbnl3\t0.3728813559322034\t1.3409090909090908\n",
      "--------------------------------------------------------------------------------\n",
      "BC051665\t0.8092485549132948\t13.757142857142858\n",
      "BC051665\t0.05084745762711865\t1.5\n",
      "--------------------------------------------------------------------------------\n",
      "Sh3bgrl3\t0.791907514450867\t2.7518248175182483\n",
      "Sh3bgrl3\t0.7627118644067796\t2.522222222222222\n",
      "--------------------------------------------------------------------------------\n",
      "Gata2\t0.6936416184971098\t2.783333333333333\n",
      "Gata2\t0.3135593220338983\t1.4324324324324325\n",
      "--------------------------------------------------------------------------------\n",
      "Adam19\t0.34104046242774566\t1.5593220338983051\n",
      "Adam19\t0.1440677966101695\t1.2941176470588236\n",
      "--------------------------------------------------------------------------------\n",
      "Ndrg1\t0.9479768786127167\t6.158536585365853\n",
      "Ndrg1\t0.7203389830508474\t2.764705882352941\n",
      "--------------------------------------------------------------------------------\n",
      "Nppb\t0.13872832369942195\t1.375\n",
      "Nppb\t0.15254237288135594\t1.8888888888888888\n",
      "--------------------------------------------------------------------------------\n",
      "Tspan8\t1.0\t20.439306358381504\n",
      "Tspan8\t0.9745762711864406\t9.68695652173913\n",
      "--------------------------------------------------------------------------------\n",
      "Dppa1\t1.0\t20.248554913294797\n",
      "Dppa1\t0.9745762711864406\t10.8\n",
      "--------------------------------------------------------------------------------\n",
      "Lgals1\t1.0\t32.50289017341041\n",
      "Lgals1\t0.9915254237288136\t26.512820512820515\n",
      "--------------------------------------------------------------------------------\n",
      "Rab18\t0.4393063583815029\t1.5\n",
      "Rab18\t0.3644067796610169\t1.5813953488372092\n",
      "--------------------------------------------------------------------------------\n",
      "Hand1\t0.011560693641618497\t1.5\n",
      "Hand1\t0.0\t0\n",
      "--------------------------------------------------------------------------------\n",
      "Nrk\t0.0\t0\n",
      "Nrk\t0.0\t0\n",
      "--------------------------------------------------------------------------------\n",
      "Ptgr1\t0.9884393063583815\t11.7953216374269\n",
      "Ptgr1\t0.9661016949152542\t4.991228070175438\n",
      "--------------------------------------------------------------------------------\n",
      "Capg\t0.9595375722543352\t7.819277108433735\n",
      "Capg\t0.9661016949152542\t4.307017543859649\n",
      "--------------------------------------------------------------------------------\n",
      "Litaf\t0.8670520231213873\t3.1666666666666665\n",
      "Litaf\t0.8050847457627118\t2.863157894736842\n",
      "--------------------------------------------------------------------------------\n",
      "Akr1b8\t1.0\t10.06936416184971\n",
      "Akr1b8\t0.8813559322033898\t4.9326923076923075\n",
      "--------------------------------------------------------------------------------\n",
      "Cldn4\t0.9884393063583815\t11.842105263157896\n",
      "Cldn4\t0.9745762711864406\t8.008695652173913\n",
      "--------------------------------------------------------------------------------\n",
      "Tinagl1\t0.791907514450867\t4.562043795620438\n",
      "Tinagl1\t0.559322033898305\t2.606060606060606\n",
      "--------------------------------------------------------------------------------\n",
      "Fabp3\t1.0\t128.72254335260115\n",
      "Fabp3\t1.0\t96.23728813559322\n",
      "--------------------------------------------------------------------------------\n",
      "Adgrl2\t0.2658959537572254\t1.5869565217391304\n",
      "Adgrl2\t0.288135593220339\t1.411764705882353\n",
      "--------------------------------------------------------------------------------\n",
      "Cdh5\t0.005780346820809248\t1.0\n",
      "Cdh5\t0.0\t0\n",
      "--------------------------------------------------------------------------------\n",
      "Myadm\t0.6011560693641619\t2.423076923076923\n",
      "Myadm\t0.4915254237288136\t1.7758620689655173\n",
      "--------------------------------------------------------------------------------\n",
      "Zfp703\t0.17341040462427745\t1.3333333333333333\n",
      "Zfp703\t0.11864406779661017\t1.1428571428571428\n",
      "--------------------------------------------------------------------------------\n",
      "Slc6a14\t0.6127167630057804\t2.4339622641509435\n",
      "Slc6a14\t0.4661016949152542\t2.3636363636363638\n",
      "--------------------------------------------------------------------------------\n",
      "Crxos\t0.9710982658959537\t14.619047619047619\n",
      "Crxos\t0.9322033898305084\t7.8\n",
      "--------------------------------------------------------------------------------\n",
      "Slc1a1\t0.6763005780346821\t2.4615384615384617\n",
      "Slc1a1\t0.3050847457627119\t1.5277777777777777\n",
      "--------------------------------------------------------------------------------\n",
      "Gm2a\t1.0\t24.953757225433527\n",
      "Gm2a\t0.9745762711864406\t8.513043478260869\n",
      "--------------------------------------------------------------------------------\n",
      "Cdc42se2\t0.37572254335260113\t1.6\n",
      "Cdc42se2\t0.4830508474576271\t1.7017543859649122\n",
      "--------------------------------------------------------------------------------\n",
      "Dmkn\t0.6184971098265896\t7.186915887850467\n",
      "Dmkn\t0.13559322033898305\t1.5\n",
      "--------------------------------------------------------------------------------\n",
      "Tpm1\t0.976878612716763\t7.3609467455621305\n",
      "Tpm1\t0.9830508474576272\t6.698275862068965\n",
      "--------------------------------------------------------------------------------\n",
      "Sin3b\t0.8092485549132948\t3.1285714285714286\n",
      "Sin3b\t0.8220338983050848\t2.2371134020618557\n",
      "--------------------------------------------------------------------------------\n",
      "--------------------------------------------------------------------------------\n",
      "Dkkl1\t0.9826589595375722\t7.870588235294117\n",
      "Dkkl1\t0.8220338983050848\t3.0721649484536084\n",
      "--------------------------------------------------------------------------------\n",
      "Hpgd\t0.03468208092485549\t1.0\n",
      "Hpgd\t0.0\t0\n",
      "--------------------------------------------------------------------------------\n",
      "Krt18\t1.0\t46.73410404624278\n",
      "Krt18\t1.0\t34.186440677966104\n",
      "--------------------------------------------------------------------------------\n",
      "Ctsll3\t0.13872832369942195\t7.208333333333333\n",
      "Ctsll3\t0.0\t0\n",
      "--------------------------------------------------------------------------------\n",
      "Anxa2\t0.9653179190751445\t8.538922155688622\n",
      "Anxa2\t0.9576271186440678\t8.11504424778761\n",
      "--------------------------------------------------------------------------------\n",
      "Tagln2\t0.9942196531791907\t12.325581395348838\n",
      "Tagln2\t1.0\t9.889830508474576\n",
      "--------------------------------------------------------------------------------\n"
     ]
    }
   ],
   "source": [
    "for gene in genes1:\n",
    "    print(\"-\" * 80)\n",
    "    rows = []\n",
    "    for mtx3 in [mtx1, mtx2]:\n",
    "        try:\n",
    "            vs1 = mtx3.loc[gene]\n",
    "            vs2 = vs1[vs1 > 0]\n",
    "            r = len(vs2) / len(vs1)\n",
    "            if len(vs2) > 0:\n",
    "                v = np.mean(vs2)\n",
    "            else:\n",
    "                v = 0\n",
    "            print(gene, r, v, sep=\"\\t\")\n",
    "            rows.append([gene, r, v])\n",
    "        except KeyError:\n",
    "            continue\n",
    "    if len(rows) > 0:\n",
    "        a = pd.DataFrame(rows, columns=[\"Gene\", \"Percent\", \"Expression\"])"
   ]
  },
  {
   "cell_type": "markdown",
   "id": "9602ed22",
   "metadata": {},
   "source": [
    "## 2. MTE and PTE marker isoforms"
   ]
  },
  {
   "cell_type": "code",
   "execution_count": 64,
   "id": "1118df59",
   "metadata": {
    "ExecuteTime": {
     "end_time": "2024-01-03T10:40:34.354232Z",
     "start_time": "2024-01-03T10:40:34.057069Z"
    }
   },
   "outputs": [
    {
     "name": "stdout",
     "output_type": "stream",
     "text": [
      "87 8 95\n"
     ]
    }
   ],
   "source": [
    "x = pd.read_excel(\"data/sciadv.abj3725_tables_s1_to_s10/sciadv.abj3725_table_s5.xls\", sheet_name=None)\n",
    "x = x[\"Mouse_S3_all_type_DEGs\"]\n",
    "genes1 = set(x[(x[\"cluster\"] == \"S3.MTE\") & (x[\"avg_logFC\"] >= 1)][\"gene\"]) # mural\n",
    "genes2 = set(x[(x[\"cluster\"] == \"S3.PTE\") & (x[\"avg_logFC\"] >= 1)][\"gene\"]) # poral\n",
    "genes = genes1 | genes2\n",
    "print(len(genes1), len(genes2), len(genes))"
   ]
  },
  {
   "cell_type": "code",
   "execution_count": 66,
   "id": "cc8eddea",
   "metadata": {
    "ExecuteTime": {
     "end_time": "2024-01-03T10:41:42.382880Z",
     "start_time": "2024-01-03T10:41:42.341805Z"
    }
   },
   "outputs": [
    {
     "data": {
      "text/html": [
       "<div>\n",
       "<style scoped>\n",
       "    .dataframe tbody tr th:only-of-type {\n",
       "        vertical-align: middle;\n",
       "    }\n",
       "\n",
       "    .dataframe tbody tr th {\n",
       "        vertical-align: top;\n",
       "    }\n",
       "\n",
       "    .dataframe thead th {\n",
       "        text-align: right;\n",
       "    }\n",
       "</style>\n",
       "<table border=\"1\" class=\"dataframe\">\n",
       "  <thead>\n",
       "    <tr style=\"text-align: right;\">\n",
       "      <th></th>\n",
       "      <th>p_val</th>\n",
       "      <th>avg_log2FC</th>\n",
       "      <th>pct.1</th>\n",
       "      <th>pct.2</th>\n",
       "      <th>p_val_adj</th>\n",
       "      <th>cluster</th>\n",
       "      <th>gene</th>\n",
       "    </tr>\n",
       "  </thead>\n",
       "  <tbody>\n",
       "    <tr>\n",
       "      <th>Fabp5-201</th>\n",
       "      <td>2.849806e-124</td>\n",
       "      <td>2.126089</td>\n",
       "      <td>0.930</td>\n",
       "      <td>0.490</td>\n",
       "      <td>1.265114e-119</td>\n",
       "      <td>ICM-2</td>\n",
       "      <td>Fabp5-201</td>\n",
       "    </tr>\n",
       "    <tr>\n",
       "      <th>Map1lc3b-201</th>\n",
       "      <td>9.727296e-82</td>\n",
       "      <td>1.142675</td>\n",
       "      <td>1.000</td>\n",
       "      <td>0.952</td>\n",
       "      <td>4.318239e-77</td>\n",
       "      <td>ICM-2</td>\n",
       "      <td>Map1lc3b-201</td>\n",
       "    </tr>\n",
       "    <tr>\n",
       "      <th>Upp1-205</th>\n",
       "      <td>7.922998e-78</td>\n",
       "      <td>1.493945</td>\n",
       "      <td>0.843</td>\n",
       "      <td>0.391</td>\n",
       "      <td>3.517257e-73</td>\n",
       "      <td>ICM-2</td>\n",
       "      <td>Upp1-205</td>\n",
       "    </tr>\n",
       "    <tr>\n",
       "      <th>Tdgf1-201</th>\n",
       "      <td>5.007241e-75</td>\n",
       "      <td>1.464885</td>\n",
       "      <td>0.782</td>\n",
       "      <td>0.304</td>\n",
       "      <td>2.222864e-70</td>\n",
       "      <td>ICM-2</td>\n",
       "      <td>Tdgf1-201</td>\n",
       "    </tr>\n",
       "    <tr>\n",
       "      <th>Sat1-201</th>\n",
       "      <td>5.461048e-75</td>\n",
       "      <td>1.184678</td>\n",
       "      <td>0.927</td>\n",
       "      <td>0.571</td>\n",
       "      <td>2.424323e-70</td>\n",
       "      <td>ICM-2</td>\n",
       "      <td>Sat1-201</td>\n",
       "    </tr>\n",
       "    <tr>\n",
       "      <th>...</th>\n",
       "      <td>...</td>\n",
       "      <td>...</td>\n",
       "      <td>...</td>\n",
       "      <td>...</td>\n",
       "      <td>...</td>\n",
       "      <td>...</td>\n",
       "      <td>...</td>\n",
       "    </tr>\n",
       "    <tr>\n",
       "      <th>1110004F10Rik-2012</th>\n",
       "      <td>7.943091e-03</td>\n",
       "      <td>0.267386</td>\n",
       "      <td>0.750</td>\n",
       "      <td>0.575</td>\n",
       "      <td>1.000000e+00</td>\n",
       "      <td>TE-1</td>\n",
       "      <td>1110004F10Rik-201</td>\n",
       "    </tr>\n",
       "    <tr>\n",
       "      <th>Ago2-2011</th>\n",
       "      <td>8.391905e-03</td>\n",
       "      <td>0.265555</td>\n",
       "      <td>0.784</td>\n",
       "      <td>0.570</td>\n",
       "      <td>1.000000e+00</td>\n",
       "      <td>TE-1</td>\n",
       "      <td>Ago2-201</td>\n",
       "    </tr>\n",
       "    <tr>\n",
       "      <th>Ccdc124-2012</th>\n",
       "      <td>8.595081e-03</td>\n",
       "      <td>0.285783</td>\n",
       "      <td>0.795</td>\n",
       "      <td>0.678</td>\n",
       "      <td>1.000000e+00</td>\n",
       "      <td>TE-1</td>\n",
       "      <td>Ccdc124-201</td>\n",
       "    </tr>\n",
       "    <tr>\n",
       "      <th>Bri3-2011</th>\n",
       "      <td>9.000782e-03</td>\n",
       "      <td>0.257594</td>\n",
       "      <td>0.841</td>\n",
       "      <td>0.658</td>\n",
       "      <td>1.000000e+00</td>\n",
       "      <td>TE-1</td>\n",
       "      <td>Bri3-201</td>\n",
       "    </tr>\n",
       "    <tr>\n",
       "      <th>Atp1b1-2013</th>\n",
       "      <td>9.801071e-03</td>\n",
       "      <td>0.266958</td>\n",
       "      <td>0.773</td>\n",
       "      <td>0.627</td>\n",
       "      <td>1.000000e+00</td>\n",
       "      <td>TE-1</td>\n",
       "      <td>Atp1b1-201</td>\n",
       "    </tr>\n",
       "  </tbody>\n",
       "</table>\n",
       "<p>6086 rows × 7 columns</p>\n",
       "</div>"
      ],
      "text/plain": [
       "                            p_val  avg_log2FC  pct.1  pct.2      p_val_adj  \\\n",
       "Fabp5-201           2.849806e-124    2.126089  0.930  0.490  1.265114e-119   \n",
       "Map1lc3b-201         9.727296e-82    1.142675  1.000  0.952   4.318239e-77   \n",
       "Upp1-205             7.922998e-78    1.493945  0.843  0.391   3.517257e-73   \n",
       "Tdgf1-201            5.007241e-75    1.464885  0.782  0.304   2.222864e-70   \n",
       "Sat1-201             5.461048e-75    1.184678  0.927  0.571   2.424323e-70   \n",
       "...                           ...         ...    ...    ...            ...   \n",
       "1110004F10Rik-2012   7.943091e-03    0.267386  0.750  0.575   1.000000e+00   \n",
       "Ago2-2011            8.391905e-03    0.265555  0.784  0.570   1.000000e+00   \n",
       "Ccdc124-2012         8.595081e-03    0.285783  0.795  0.678   1.000000e+00   \n",
       "Bri3-2011            9.000782e-03    0.257594  0.841  0.658   1.000000e+00   \n",
       "Atp1b1-2013          9.801071e-03    0.266958  0.773  0.627   1.000000e+00   \n",
       "\n",
       "                   cluster               gene  \n",
       "Fabp5-201            ICM-2          Fabp5-201  \n",
       "Map1lc3b-201         ICM-2       Map1lc3b-201  \n",
       "Upp1-205             ICM-2           Upp1-205  \n",
       "Tdgf1-201            ICM-2          Tdgf1-201  \n",
       "Sat1-201             ICM-2           Sat1-201  \n",
       "...                    ...                ...  \n",
       "1110004F10Rik-2012    TE-1  1110004F10Rik-201  \n",
       "Ago2-2011             TE-1           Ago2-201  \n",
       "Ccdc124-2012          TE-1        Ccdc124-201  \n",
       "Bri3-2011             TE-1           Bri3-201  \n",
       "Atp1b1-2013           TE-1         Atp1b1-201  \n",
       "\n",
       "[6086 rows x 7 columns]"
      ]
     },
     "execution_count": 66,
     "metadata": {},
     "output_type": "execute_result"
    }
   ],
   "source": [
    "markers"
   ]
  },
  {
   "cell_type": "code",
   "execution_count": 67,
   "id": "fa2ddb7f",
   "metadata": {
    "ExecuteTime": {
     "end_time": "2024-01-03T10:42:04.112197Z",
     "start_time": "2024-01-03T10:42:04.053077Z"
    }
   },
   "outputs": [
    {
     "name": "stdout",
     "output_type": "stream",
     "text": [
      "['Adam19-201', 'Ahnak-202', 'Akr1b8-201', 'Anxa2-201', 'Aqp3-201', 'BC051665-201', 'BC053393-201', 'Basp1-201', 'C430049B03Rik-201', 'C430049B03Rik-204', 'Capg-202', 'Cdc42se2-201', 'Chmp5-201', 'Cited2-201', 'Cldn4-201', 'Crxos-201', 'Crxos-204', 'Crxos-205', 'Ctsll3-201', 'Dag1-204', 'Dkkl1-201', 'Dkkl1-204', 'Dmkn-201', 'Dppa1-201', 'Dppa1-202', 'Efhd2-201', 'Emp2-201', 'Entpd1-201', 'Fabp3-201', 'Folr1-202', 'Fxyd4-203', 'Fxyd4-207', 'Glipr2-201', 'Gm2a-201', 'Gm4926-201', 'Gnai2-201', 'Gnai2-202', 'Irx3-202', 'Krt18-201', 'Krt19-201', 'Krt7-201', 'Krt8-201', 'Lgals1-201', 'Lgals1-202', 'Lgals3-201', 'Lgals3-204', 'Litaf-201', 'Mbnl3-201', 'Ndrg1-201', 'Nfkbia-201', 'Nppb-201', 'Plac1-201', 'Plac1-202', 'Plac8-201', 'Psap-202', 'Psap-205', 'Ptgr1-201', 'Rab18-205', 'Rhou-201', 'S100a11-201', 'S100a6-201', 'Sct-202', 'Sct-204', 'Serpinb6c-201', 'Serpinb6c-202', 'Sh3bgrl3-201', 'Sin3b-202', 'Slc1a1-201', 'Slc6a14-201', 'Smpdl3a-201', 'Tagln2-202', 'Tfap2a-201', 'Tfap2a-203', 'Tfap2c-201', 'Tinagl1-203', 'Tmsb4x-203', 'Tpm1-209', 'Tpm1-211', 'Tpm1-212', 'Tpm1-213', 'Tspan8-201', 'Tspan8-202', 'Tspan8-203', 'Zfp703-202']\n",
      "['Aprt-201', 'Ass1-201', 'Ddah1-201', 'Gsto1-201', 'Ly6a-201', 'Ly6a-203', 'Ly6a-204']\n"
     ]
    }
   ],
   "source": [
    "markers = pd.read_csv(\"results/seurat_transcripts/markers.csv\", header=0, index_col=0)\n",
    "\n",
    "c = []\n",
    "for b in sorted(set(markers[\"gene\"])):\n",
    "    if b.split(\"-\")[0] in genes1:\n",
    "        c.append(b)\n",
    "print(c)\n",
    "\n",
    "c = []\n",
    "for b in sorted(set(markers[\"gene\"])):\n",
    "    if b.split(\"-\")[0] in genes2:\n",
    "        c.append(b)\n",
    "print(c)"
   ]
  }
 ],
 "metadata": {
  "kernelspec": {
   "display_name": "Python 3",
   "language": "python",
   "name": "python3"
  },
  "language_info": {
   "codemirror_mode": {
    "name": "ipython",
    "version": 3
   },
   "file_extension": ".py",
   "mimetype": "text/x-python",
   "name": "python",
   "nbconvert_exporter": "python",
   "pygments_lexer": "ipython3",
   "version": "3.6.15"
  }
 },
 "nbformat": 4,
 "nbformat_minor": 5
}
