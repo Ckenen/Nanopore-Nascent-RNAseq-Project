{
 "cells": [
  {
   "cell_type": "code",
   "execution_count": 17,
   "id": "9ef44c9f",
   "metadata": {
    "ExecuteTime": {
     "end_time": "2024-01-15T09:22:39.063513Z",
     "start_time": "2024-01-15T09:22:38.750978Z"
    }
   },
   "outputs": [],
   "source": [
    "import numpy as np\n",
    "import pandas as pd\n",
    "import matplotlib.pyplot as plt"
   ]
  },
  {
   "cell_type": "markdown",
   "id": "02878ade",
   "metadata": {},
   "source": [
    "# Determine sex by chrY UMIs"
   ]
  },
  {
   "cell_type": "code",
   "execution_count": 8,
   "id": "3df87d79",
   "metadata": {
    "ExecuteTime": {
     "end_time": "2024-01-15T09:20:39.741326Z",
     "start_time": "2024-01-15T09:20:15.621140Z"
    }
   },
   "outputs": [],
   "source": [
    "d = pd.read_csv(\"results/seurat_transcripts/metadata_and_celltype.consistent_celltype.tsv\", sep=\"\\t\")\n",
    "array = []\n",
    "for run, cell in d[[\"Run\", \"Cell\"]].values:\n",
    "    path = \"../../1_NanoNASCseq/results/mapping/chrom_reads/%s/%s.tsv\" % (run, cell)\n",
    "    m = pd.read_csv(path, sep=\"\\t\", header=None, index_col=0)\n",
    "    m.index.name = \"Chrom\"\n",
    "    m.columns = [cell]\n",
    "    array.append(m)\n",
    "    # break"
   ]
  },
  {
   "cell_type": "code",
   "execution_count": 13,
   "id": "b5dcedc0",
   "metadata": {
    "ExecuteTime": {
     "end_time": "2024-01-15T09:21:45.874574Z",
     "start_time": "2024-01-15T09:21:45.154382Z"
    }
   },
   "outputs": [],
   "source": [
    "d = pd.concat(array, axis=1)\n",
    "d = d.divide(d.sum(axis=0), axis=1)"
   ]
  },
  {
   "cell_type": "code",
   "execution_count": 27,
   "id": "5540d216",
   "metadata": {
    "ExecuteTime": {
     "end_time": "2024-01-15T10:53:55.917919Z",
     "start_time": "2024-01-15T10:53:55.400687Z"
    }
   },
   "outputs": [
    {
     "data": {
      "image/png": "[encoded data removed]",
      "text/plain": [
       "<Figure size 432x288 with 1 Axes>"
      ]
     },
     "metadata": {
      "needs_background": "light"
     },
     "output_type": "display_data"
    }
   ],
   "source": [
    "ys = d.loc[\"chrY\"]\n",
    "\n",
    "plt.figure()\n",
    "plt.hist(ys, bins=100, range=(0, 0.005))\n",
    "plt.xlabel(\"Proportion of chrY UMIs\")\n",
    "plt.ylabel(\"Number of cells\")\n",
    "plt.tight_layout()\n",
    "plt.show()"
   ]
  },
  {
   "cell_type": "markdown",
   "id": "6c89afe8",
   "metadata": {},
   "source": [
    "# Determine sex by paternal allele"
   ]
  },
  {
   "cell_type": "code",
   "execution_count": 33,
   "id": "0445d002",
   "metadata": {
    "ExecuteTime": {
     "end_time": "2024-01-15T11:01:22.633774Z",
     "start_time": "2024-01-15T11:01:22.105510Z"
    }
   },
   "outputs": [
    {
     "data": {
      "text/html": [
       "<div>\n",
       "<style scoped>\n",
       "    .dataframe tbody tr th:only-of-type {\n",
       "        vertical-align: middle;\n",
       "    }\n",
       "\n",
       "    .dataframe tbody tr th {\n",
       "        vertical-align: top;\n",
       "    }\n",
       "\n",
       "    .dataframe thead th {\n",
       "        text-align: right;\n",
       "    }\n",
       "</style>\n",
       "<table border=\"1\" class=\"dataframe\">\n",
       "  <thead>\n",
       "    <tr style=\"text-align: right;\">\n",
       "      <th></th>\n",
       "      <th>TranscriptName</th>\n",
       "      <th>TranscriptType</th>\n",
       "      <th>GeneID</th>\n",
       "      <th>GeneName</th>\n",
       "      <th>GeneType</th>\n",
       "      <th>Chrom</th>\n",
       "      <th>Start</th>\n",
       "      <th>End</th>\n",
       "      <th>Strand</th>\n",
       "    </tr>\n",
       "    <tr>\n",
       "      <th>TranscriptID</th>\n",
       "      <th></th>\n",
       "      <th></th>\n",
       "      <th></th>\n",
       "      <th></th>\n",
       "      <th></th>\n",
       "      <th></th>\n",
       "      <th></th>\n",
       "      <th></th>\n",
       "      <th></th>\n",
       "    </tr>\n",
       "  </thead>\n",
       "  <tbody>\n",
       "    <tr>\n",
       "      <th>ENSMUST00000193812.1</th>\n",
       "      <td>4933401J01Rik-201</td>\n",
       "      <td>TEC</td>\n",
       "      <td>ENSMUSG00000102693.1</td>\n",
       "      <td>4933401J01Rik</td>\n",
       "      <td>TEC</td>\n",
       "      <td>chr1</td>\n",
       "      <td>3073252</td>\n",
       "      <td>3074322</td>\n",
       "      <td>+</td>\n",
       "    </tr>\n",
       "    <tr>\n",
       "      <th>ENSMUST00000082908.1</th>\n",
       "      <td>Gm26206-201</td>\n",
       "      <td>snRNA</td>\n",
       "      <td>ENSMUSG00000064842.1</td>\n",
       "      <td>Gm26206</td>\n",
       "      <td>snRNA</td>\n",
       "      <td>chr1</td>\n",
       "      <td>3102015</td>\n",
       "      <td>3102125</td>\n",
       "      <td>+</td>\n",
       "    </tr>\n",
       "    <tr>\n",
       "      <th>ENSMUST00000162897.1</th>\n",
       "      <td>Xkr4-203</td>\n",
       "      <td>processed_transcript</td>\n",
       "      <td>ENSMUSG00000051951.5</td>\n",
       "      <td>Xkr4</td>\n",
       "      <td>protein_coding</td>\n",
       "      <td>chr1</td>\n",
       "      <td>3205900</td>\n",
       "      <td>3216344</td>\n",
       "      <td>-</td>\n",
       "    </tr>\n",
       "    <tr>\n",
       "      <th>ENSMUST00000159265.1</th>\n",
       "      <td>Xkr4-202</td>\n",
       "      <td>processed_transcript</td>\n",
       "      <td>ENSMUSG00000051951.5</td>\n",
       "      <td>Xkr4</td>\n",
       "      <td>protein_coding</td>\n",
       "      <td>chr1</td>\n",
       "      <td>3206522</td>\n",
       "      <td>3215632</td>\n",
       "      <td>-</td>\n",
       "    </tr>\n",
       "    <tr>\n",
       "      <th>ENSMUST00000070533.4</th>\n",
       "      <td>Xkr4-201</td>\n",
       "      <td>protein_coding</td>\n",
       "      <td>ENSMUSG00000051951.5</td>\n",
       "      <td>Xkr4</td>\n",
       "      <td>protein_coding</td>\n",
       "      <td>chr1</td>\n",
       "      <td>3214481</td>\n",
       "      <td>3671498</td>\n",
       "      <td>-</td>\n",
       "    </tr>\n",
       "  </tbody>\n",
       "</table>\n",
       "</div>"
      ],
      "text/plain": [
       "                         TranscriptName        TranscriptType  \\\n",
       "TranscriptID                                                    \n",
       "ENSMUST00000193812.1  4933401J01Rik-201                   TEC   \n",
       "ENSMUST00000082908.1        Gm26206-201                 snRNA   \n",
       "ENSMUST00000162897.1           Xkr4-203  processed_transcript   \n",
       "ENSMUST00000159265.1           Xkr4-202  processed_transcript   \n",
       "ENSMUST00000070533.4           Xkr4-201        protein_coding   \n",
       "\n",
       "                                    GeneID       GeneName        GeneType  \\\n",
       "TranscriptID                                                                \n",
       "ENSMUST00000193812.1  ENSMUSG00000102693.1  4933401J01Rik             TEC   \n",
       "ENSMUST00000082908.1  ENSMUSG00000064842.1        Gm26206           snRNA   \n",
       "ENSMUST00000162897.1  ENSMUSG00000051951.5           Xkr4  protein_coding   \n",
       "ENSMUST00000159265.1  ENSMUSG00000051951.5           Xkr4  protein_coding   \n",
       "ENSMUST00000070533.4  ENSMUSG00000051951.5           Xkr4  protein_coding   \n",
       "\n",
       "                     Chrom    Start      End Strand  \n",
       "TranscriptID                                         \n",
       "ENSMUST00000193812.1  chr1  3073252  3074322      +  \n",
       "ENSMUST00000082908.1  chr1  3102015  3102125      +  \n",
       "ENSMUST00000162897.1  chr1  3205900  3216344      -  \n",
       "ENSMUST00000159265.1  chr1  3206522  3215632      -  \n",
       "ENSMUST00000070533.4  chr1  3214481  3671498      -  "
      ]
     },
     "execution_count": 33,
     "metadata": {},
     "output_type": "execute_result"
    }
   ],
   "source": [
    "anno = pd.read_csv(\"results/mouse_transcript_annotation.tsv\", sep=\"\\t\", index_col=0)\n",
    "anno.head()"
   ]
  },
  {
   "cell_type": "code",
   "execution_count": 71,
   "id": "8f4f5f5a",
   "metadata": {
    "ExecuteTime": {
     "end_time": "2024-01-15T12:39:10.084884Z",
     "start_time": "2024-01-15T12:36:30.671959Z"
    },
    "scrolled": false
   },
   "outputs": [],
   "source": [
    "def parse_alleles(x):\n",
    "    counter = dict()\n",
    "    if isinstance(x, str):\n",
    "        for item in x.split(\";\"):\n",
    "            k, n = item.split(\":\")\n",
    "            n = int(n)\n",
    "            snp = k[:-2]\n",
    "            if k[-1] == k[-5]:\n",
    "                hp = 1\n",
    "            elif k[-1] == k[-3]:\n",
    "                hp = 2\n",
    "            else:\n",
    "                assert False\n",
    "            if snp not in counter:\n",
    "                counter[snp] = [0, 0]\n",
    "            counter[snp][hp-1] += n\n",
    "    elif np.isnan(x):\n",
    "        pass\n",
    "    else:\n",
    "        assert False\n",
    "    return counter\n",
    "\n",
    "info = pd.read_csv(\"results/seurat_transcripts/metadata_and_celltype.consistent_celltype.tsv\", sep=\"\\t\")\n",
    "\n",
    "rows1 = []\n",
    "for run, cell in info[[\"Run\", \"Cell\"]].values:\n",
    "    \n",
    "    infile = \"../../1_NanoNASCseq/results/expression/novel/quant_isoforms/min_read_1_min_tc_1/%s/%s.tsv\" % (run, cell)\n",
    "    \n",
    "    d = pd.read_csv(infile, sep=\"\\t\", index_col=0)\n",
    "    rows = []\n",
    "    for tname, (a1, a2) in zip(d.index, d[[\"Total.Alleles\", \"Nascent.Alleles\"]].values):\n",
    "        counter1 = parse_alleles(a1)\n",
    "        counter2 = parse_alleles(a2)\n",
    "        if len(counter1) > 0:\n",
    "            snps = counter1.keys()\n",
    "            for snp in snps:\n",
    "                total_hp1, total_hp2 = counter1[snp]\n",
    "                nascent_hp1, nascent_hp2 = 0, 0\n",
    "                if snp in counter2:\n",
    "                    nascent_hp1, nascent_hp2 = counter2[snp]\n",
    "                rows.append([tname, snp, total_hp1, total_hp2, nascent_hp1, nascent_hp2])\n",
    "                \n",
    "    m = pd.DataFrame(rows)\n",
    "    m.columns = [\"TranscriptID\", \"Snp\", \"Total.HP1\", \"Total.HP2\", \"Nascent.HP1\", \"Nascent.HP2\"]\n",
    "    m[\"Total.All\"] = m[\"Total.HP1\"] + m[\"Total.HP2\"]\n",
    "    m = m.sort_values(by=\"Total.All\", ascending=False)\n",
    "    m = m[~m[\"TranscriptID\"].duplicated()]\n",
    "    m.index = m[\"TranscriptID\"]\n",
    "    m = m.merge(anno, left_index=True, right_index=True)\n",
    "    m = m[m[\"Chrom\"] == \"chrX\"]\n",
    "    \n",
    "    v1, v2 = m[\"Total.HP1\"].sum(), m[\"Total.HP2\"].sum()\n",
    "    # r = np.divide(v2, (v1 + v2))\n",
    "    rows1.append([cell, v1, v2])\n",
    "    # print(v1, v2, r, cell, sep=\"\\t\")\n",
    "    \n",
    "    # break"
   ]
  },
  {
   "cell_type": "code",
   "execution_count": 72,
   "id": "82b00ee2",
   "metadata": {
    "ExecuteTime": {
     "end_time": "2024-01-15T12:39:12.096679Z",
     "start_time": "2024-01-15T12:39:12.077087Z"
    }
   },
   "outputs": [],
   "source": [
    "d = pd.DataFrame(rows1, columns=[\"Cell\", \"HP1\", \"HP2\"])\n",
    "d[\"All\"] = d[\"HP1\"] + d[\"HP2\"]\n",
    "d[\"HP2.Ratio\"] = d[\"HP2\"] / d[\"All\"]"
   ]
  },
  {
   "cell_type": "code",
   "execution_count": 73,
   "id": "948b07eb",
   "metadata": {
    "ExecuteTime": {
     "end_time": "2024-01-15T12:39:15.454225Z",
     "start_time": "2024-01-15T12:39:15.209491Z"
    }
   },
   "outputs": [
    {
     "data": {
      "image/png": "[encoded data removed]",
      "text/plain": [
       "<Figure size 360x360 with 1 Axes>"
      ]
     },
     "metadata": {
      "needs_background": "light"
     },
     "output_type": "display_data"
    }
   ],
   "source": [
    "plt.figure(figsize=(5, 5))\n",
    "plt.scatter(d[\"All\"], d[\"HP2.Ratio\"])\n",
    "plt.xlabel(\"Allele-specific UMIs at chrX\")\n",
    "plt.ylabel(\"Proportion of paternal allele\")\n",
    "plt.tight_layout()\n",
    "plt.show()\n",
    "plt.close()"
   ]
  },
  {
   "cell_type": "code",
   "execution_count": 76,
   "id": "422097ef",
   "metadata": {
    "ExecuteTime": {
     "end_time": "2024-01-15T12:40:59.902609Z",
     "start_time": "2024-01-15T12:40:59.662211Z"
    }
   },
   "outputs": [
    {
     "data": {
      "image/png": "[encoded data removed]",
      "text/plain": [
       "<Figure size 288x288 with 1 Axes>"
      ]
     },
     "metadata": {
      "needs_background": "light"
     },
     "output_type": "display_data"
    }
   ],
   "source": [
    "plt.figure(figsize=(4, 4))\n",
    "plt.scatter(d[\"All\"], np.log2(np.divide(d[\"HP2\"], d[\"HP1\"])))\n",
    "plt.xlabel(\"Allele-specific UMIs at chrX\")\n",
    "plt.ylabel(\"log2 (Pat / Mat)\")\n",
    "plt.tight_layout()\n",
    "plt.show()\n",
    "plt.close()"
   ]
  },
  {
   "cell_type": "code",
   "execution_count": 68,
   "id": "e80beaee",
   "metadata": {
    "ExecuteTime": {
     "end_time": "2024-01-15T11:28:28.734024Z",
     "start_time": "2024-01-15T11:28:28.484212Z"
    }
   },
   "outputs": [
    {
     "data": {
      "image/png": "[encoded data removed]",
      "text/plain": [
       "<Figure size 360x360 with 1 Axes>"
      ]
     },
     "metadata": {
      "needs_background": "light"
     },
     "output_type": "display_data"
    }
   ],
   "source": [
    "plt.figure(figsize=(5, 5))\n",
    "plt.scatter(d[\"All\"], d[\"HP2.Ratio\"])\n",
    "plt.xlabel(\"Allele-specific UMIs at chrX\")\n",
    "plt.ylabel(\"Proportion of paternal allele\")\n",
    "plt.tight_layout()\n",
    "plt.show()\n",
    "plt.close()"
   ]
  },
  {
   "cell_type": "code",
   "execution_count": null,
   "id": "580dafa9",
   "metadata": {},
   "outputs": [],
   "source": []
  }
 ],
 "metadata": {
  "kernelspec": {
   "display_name": "Python 3",
   "language": "python",
   "name": "python3"
  },
  "language_info": {
   "codemirror_mode": {
    "name": "ipython",
    "version": 3
   },
   "file_extension": ".py",
   "mimetype": "text/x-python",
   "name": "python",
   "nbconvert_exporter": "python",
   "pygments_lexer": "ipython3",
   "version": "3.6.15"
  }
 },
 "nbformat": 4,
 "nbformat_minor": 5
}
