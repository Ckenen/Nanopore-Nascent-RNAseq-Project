{
 "cells": [
  {
   "cell_type": "code",
   "execution_count": 1,
   "id": "044dcf69",
   "metadata": {
    "ExecuteTime": {
     "end_time": "2023-12-25T08:30:37.124536Z",
     "start_time": "2023-12-25T08:30:36.021453Z"
    }
   },
   "outputs": [],
   "source": [
    "import os\n",
    "import random\n",
    "import numpy as np\n",
    "import pandas as pd\n",
    "import matplotlib.pyplot as plt"
   ]
  },
  {
   "cell_type": "code",
   "execution_count": 4,
   "id": "893cac74",
   "metadata": {
    "ExecuteTime": {
     "end_time": "2023-12-25T08:31:34.141331Z",
     "start_time": "2023-12-25T08:31:32.334004Z"
    }
   },
   "outputs": [
    {
     "name": "stdout",
     "output_type": "stream",
     "text": [
      "Cells:\t97\t161\t22\t40\n",
      "Median of genes:\n",
      "3913.0\n",
      "2790.0\n",
      "3331.5\n",
      "2932.0\n",
      "Median of isoforms:\n",
      "4963.0\n",
      "3272.0\n",
      "4050.0\n",
      "3420.5\n"
     ]
    },
    {
     "data": {
      "image/png": "[encoded data removed]",
      "text/plain": [
       "<Figure size 216x216 with 1 Axes>"
      ]
     },
     "metadata": {
      "needs_background": "light"
     },
     "output_type": "display_data"
    }
   ],
   "source": [
    "info = pd.read_excel(\"../../1_NanoNASCseq/data/NanoNASCseq_summary_selected.xls\")\n",
    "\n",
    "runs1 = [\"20220719_K562R1\", \"20220719_K562R2\", \"20220719_K562R3\", \"20220719_K562R4\", \"20220729_K562R1\", \"20220729_K562R2\"]\n",
    "runs2 = [\"20220818_mESCR1\", \"20220818_mESCR2\", \"20220818_mESCR3\"]\n",
    "\n",
    "d = info[[x in runs1 for x in info[\"Run\"]]]\n",
    "d1 = d[(d[\"Strain\"] == \"K562\") & (d[\"s4U\"] == 0) & (d[\"Time\"] == 3) & (d[\"ActD\"].isna()) & (d[\"UMIs\"] >= 5000)]\n",
    "d2 = d[(d[\"Strain\"] == \"K562\") & (d[\"s4U\"] == 50) & (d[\"Time\"] == 3) & (d[\"ActD\"].isna()) & (d[\"UMIs\"] >= 5000)]\n",
    "\n",
    "d = info[[x in runs2 for x in info[\"Run\"]]]\n",
    "d3 = d[(d[\"Strain\"] == \"mESC\") & (d[\"s4U\"] == 0) & (d[\"Time\"] == 3) & (d[\"ActD\"].isna()) & (d[\"UMIs\"] >= 5000)]\n",
    "d4 = d[(d[\"Strain\"] == \"mESC\") & (d[\"s4U\"] == 400) & (d[\"Time\"] == 3) & (d[\"ActD\"].isna()) & (d[\"UMIs\"] >= 5000)]\n",
    "print(\"Cells:\", len(d1), len(d2), len(d3), len(d4), sep=\"\\t\")\n",
    "\n",
    "np.random.seed(0)\n",
    "\n",
    "ys_list_1 = [d1[\"Genes\"], d2[\"Genes\"], d3[\"Genes\"], d4[\"Genes\"]]\n",
    "ys_list_2 = [d1[\"Isoforms\"], d2[\"Isoforms\"], d3[\"Isoforms\"], d4[\"Isoforms\"]]\n",
    "\n",
    "colors = [\"C7\", \"C3\", \"C7\", \"C3\"]\n",
    "\n",
    "color1 = \"C0\"\n",
    "color2 = \"C3\"\n",
    "\n",
    "w = 0.3\n",
    "offset = 0.03\n",
    "\n",
    "print(\"Median of genes:\")\n",
    "for ys in ys_list_1:\n",
    "    print(np.median(ys))\n",
    "\n",
    "print(\"Median of isoforms:\")\n",
    "for ys in ys_list_2:\n",
    "    print(np.median(ys))\n",
    "    \n",
    "plt.figure(figsize=(3, 3))\n",
    "\n",
    "for i, ys in enumerate(ys_list_1):\n",
    "    ys = np.array(ys) / 1e3\n",
    "    xs = np.random.random(len(ys)) * w - w/2 + i - w/2 - offset\n",
    "    plt.boxplot(ys, positions=[i - w / 2 - offset], widths=w, \n",
    "                showfliers=False, showcaps=False, medianprops={\"color\": \"black\"})\n",
    "    if i == 0:\n",
    "        label = \"Genes\"\n",
    "    else:\n",
    "        label = None\n",
    "    plt.scatter(xs, ys, s=20, marker=\".\", color=color1, label=label)\n",
    "    \n",
    "for i, ys in enumerate(ys_list_2):\n",
    "    ys = np.array(ys) / 1e3\n",
    "    xs = np.random.random(len(ys)) * w - w/2 + i + w/2 + offset\n",
    "    plt.boxplot(ys, positions=[i + w / 2 + offset], widths=w, \n",
    "                showfliers=False, showcaps=False, medianprops={\"color\": \"black\"})\n",
    "    if i == 0:\n",
    "        label = \"Isoforms\"\n",
    "    else:\n",
    "        label = None\n",
    "    plt.scatter(xs, ys, s=20, marker=\".\", color=color2, label=label)\n",
    "    \n",
    "plt.xticks(np.arange(4), [\"K562\\n0 μM\", \"K562\\n50 μM\", \"mESC\\n0 μM\", \"mESC\\n400 μM\"])\n",
    "plt.ylabel(\"Detected genes or isoforms (x10$^3$)\")\n",
    "plt.gca().spines[\"top\"].set_visible(False)\n",
    "plt.gca().spines[\"right\"].set_visible(False)\n",
    "plt.xlim(-0.5, 3.5)\n",
    "plt.ylim(0, 10)\n",
    "plt.legend(markerscale=2, handlelength=1)\n",
    "plt.tight_layout()\n",
    "plt.savefig(\"figures/detected_genes_isoforms.pdf\", dpi=300)"
   ]
  },
  {
   "cell_type": "code",
   "execution_count": null,
   "id": "0ea87955",
   "metadata": {},
   "outputs": [],
   "source": []
  }
 ],
 "metadata": {
  "kernelspec": {
   "display_name": "Python 3",
   "language": "python",
   "name": "python3"
  },
  "language_info": {
   "codemirror_mode": {
    "name": "ipython",
    "version": 3
   },
   "file_extension": ".py",
   "mimetype": "text/x-python",
   "name": "python",
   "nbconvert_exporter": "python",
   "pygments_lexer": "ipython3",
   "version": "3.6.15"
  }
 },
 "nbformat": 4,
 "nbformat_minor": 5
}
