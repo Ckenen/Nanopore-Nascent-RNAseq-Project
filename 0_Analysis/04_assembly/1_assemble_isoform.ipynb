{
 "cells": [
  {
   "cell_type": "code",
   "execution_count": 1,
   "id": "e3d594b9",
   "metadata": {
    "ExecuteTime": {
     "end_time": "2023-12-20T08:57:53.784660Z",
     "start_time": "2023-12-20T08:57:51.529456Z"
    }
   },
   "outputs": [],
   "source": [
    "import os\n",
    "from collections import Counter\n",
    "import numpy as np\n",
    "import pandas as pd\n",
    "import matplotlib.pyplot as plt\n",
    "from pyBioInfo.IO.File import GtfFile, GtfTranscriptBuilder, FastaFile\n",
    "\n",
    "infos = pd.read_excel(\"../../1_NanoNASCseq/data/NanoNASCseq_summary_selected.xls\")\n",
    "\n",
    "runs = [\"20220719_K562R1\", \"20220719_K562R2\", \"20220719_K562R3\", \"20220719_K562R4\", \n",
    "        \"20220729_K562R1\", \"20220729_K562R2\"]"
   ]
  },
  {
   "cell_type": "markdown",
   "id": "afe9a2b1",
   "metadata": {},
   "source": [
    "# Isoform length"
   ]
  },
  {
   "cell_type": "code",
   "execution_count": 5,
   "id": "a66e97c8",
   "metadata": {
    "ExecuteTime": {
     "end_time": "2023-12-20T09:01:19.229312Z",
     "start_time": "2023-12-20T09:01:18.580869Z"
    }
   },
   "outputs": [
    {
     "name": "stdout",
     "output_type": "stream",
     "text": [
      "426\n"
     ]
    }
   ],
   "source": [
    "runs = [\"20220719_K562R1\", \"20220719_K562R2\", \"20220719_K562R3\", \"20220719_K562R4\", \"20220729_K562R1\", \"20220729_K562R2\"]\n",
    "d = pd.read_excel(\"../../1_NanoNASCseq/data/NanoNASCseq_summary_selected.xls\")\n",
    "d = d[[run in runs for run in d[\"Run\"]]]\n",
    "d = d[d[\"UMIs\"] >= 5000]\n",
    "print(len(d))"
   ]
  },
  {
   "cell_type": "code",
   "execution_count": 4,
   "id": "3e3759b6",
   "metadata": {
    "ExecuteTime": {
     "end_time": "2023-12-20T09:00:46.915797Z",
     "start_time": "2023-12-20T09:00:00.452746Z"
    }
   },
   "outputs": [
    {
     "data": {
      "text/plain": [
       "1877612"
      ]
     },
     "execution_count": 4,
     "metadata": {},
     "output_type": "execute_result"
    }
   ],
   "source": [
    "lengths = []\n",
    "for cell in d[\"Cell\"]:\n",
    "    path = \"../../1_NanoNASCseq/results/assembly/sqanti3/%s/%s/%s_classification.txt\" % (cell.split(\".\")[0], cell, cell)\n",
    "    if os.path.exists(path):\n",
    "        tmp = pd.read_csv(path, sep=\"\\t\")\n",
    "        lengths.extend(tmp[\"length\"])\n",
    "len(lengths)"
   ]
  },
  {
   "cell_type": "code",
   "execution_count": 12,
   "id": "19e4fe67",
   "metadata": {
    "ExecuteTime": {
     "end_time": "2023-12-20T09:38:39.600947Z",
     "start_time": "2023-12-20T09:38:22.700517Z"
    }
   },
   "outputs": [
    {
     "data": {
      "image/png": "[encoded data removed]",
      "text/plain": [
       "<Figure size 360x216 with 1 Axes>"
      ]
     },
     "metadata": {
      "needs_background": "light"
     },
     "output_type": "display_data"
    }
   ],
   "source": [
    "plt.figure(figsize=(5, 3))\n",
    "ret = plt.hist(lengths, bins=60, range=(0, 3000), color=\"C0\", edgecolor=\"black\", clip_on=False)\n",
    "vmax = max(ret[0])\n",
    "plt.text(1600, vmax * 0.8, \"K562\")\n",
    "plt.text(1600, vmax * 0.7, \"Mean=%s\" % format(int(np.mean(lengths)), \",\"))\n",
    "plt.text(1600, vmax * 0.6, \"Median=%s\" % format(int(np.median(lengths)), \",\"))\n",
    "plt.gca().spines[\"top\"].set_visible(False)\n",
    "plt.gca().spines[\"right\"].set_visible(False)\n",
    "plt.xlabel(\"Isoform length (nt)\")\n",
    "plt.ylabel(\"Relative density\")\n",
    "plt.xlim(0, 3000)\n",
    "plt.ylim(0, vmax)\n",
    "ys = np.arange(0, 1.1, 0.2)\n",
    "plt.yticks([vmax * y for y in ys], [\"%.1f\" % y for y in ys])\n",
    "plt.tight_layout()\n",
    "plt.savefig(\"figures/isoform_lengths.pdf\", dpi=300)"
   ]
  },
  {
   "cell_type": "markdown",
   "id": "5b92ab5b",
   "metadata": {},
   "source": [
    "# Comparison with GENCODE transcripts"
   ]
  },
  {
   "cell_type": "code",
   "execution_count": 31,
   "id": "8fd30ef7",
   "metadata": {
    "ExecuteTime": {
     "end_time": "2023-12-20T10:06:41.249331Z",
     "start_time": "2023-12-20T10:06:30.778786Z"
    }
   },
   "outputs": [],
   "source": [
    "names = ['full-splice_match', 'incomplete-splice_match', 'novel_in_catalog', 'novel_not_in_catalog',\n",
    "         'antisense', 'fusion', 'genic', 'intergenic']\n",
    "\n",
    "rows = []\n",
    "for cell in d[\"Cell\"]:\n",
    "    path = \"../../1_NanoNASCseq/results/assembly/sqanti3/%s/%s/%s_classification.filtered_lite_classification.txt\" % (cell.split(\".\")[0], cell, cell)\n",
    "    if os.path.exists(path):\n",
    "        tmp = pd.read_csv(path, sep=\"\\t\")\n",
    "        counter = Counter(tmp[\"structural_category\"])\n",
    "        rows.append([counter[name] for name in names])\n",
    "dat = pd.DataFrame(rows)\n",
    "dat.columns = [\"FSM\", \"ISM\", \"NIC\", \"NNC\", \"AntiSense\", \"Fusion\", \"Genic\", \"Intergenic\"]"
   ]
  },
  {
   "cell_type": "code",
   "execution_count": 36,
   "id": "68d426b5",
   "metadata": {
    "ExecuteTime": {
     "end_time": "2023-12-20T10:07:44.239217Z",
     "start_time": "2023-12-20T10:07:43.655411Z"
    }
   },
   "outputs": [
    {
     "data": {
      "image/png": "[encoded data removed]",
      "text/plain": [
       "<Figure size 432x216 with 1 Axes>"
      ]
     },
     "metadata": {
      "needs_background": "light"
     },
     "output_type": "display_data"
    }
   ],
   "source": [
    "dat1 = dat[dat.sum(axis=1) > 2000]\n",
    "dat2 = dat1.divide(dat1.sum(axis=1), axis=0) * 100\n",
    "vs1 = dat2[\"FSM\"] + dat2[\"ISM\"]\n",
    "vs2 = dat2[\"NIC\"] + dat2[\"NNC\"]\n",
    "\n",
    "ys = dat2.mean(axis=0)\n",
    "yerr = dat2.std(axis=0)\n",
    "xs = np.arange(len(ys))\n",
    "\n",
    "colors = [\"C0\", \"C1\", \"C2\", \"C3\", \"C7\", \"C7\", \"C7\", \"C7\"]\n",
    "plt.figure(figsize=(6, 3))\n",
    "# plt.title(\"SQANTI3 category compared with GENCODE transcripts\")\n",
    "\n",
    "plt.bar(xs, ys, yerr=yerr, width=0.4, color=colors, edgecolor=\"black\", error_kw={\"capsize\": 5, \"lw\": 1})\n",
    "plt.text(0, 90, \"K562 cells: %d\" % len(dat2))\n",
    "plt.xlim(min(xs) - 0.5, max(xs) + 0.5)\n",
    "plt.ylim(0, 100)\n",
    "\n",
    "x1, x2 = 0 - 0.2, 1 + 0.2\n",
    "y = 70\n",
    "plt.plot([x1, x2], [y, y], lw=1, color=\"black\")\n",
    "plt.plot([x1, x1], [y - 2, y], lw=1, color=\"black\")\n",
    "plt.plot([x2, x2], [y - 2, y], lw=1, color=\"black\")\n",
    "plt.text((x1 + x2) / 2, y + 4, \"%.2f ± %.2f%%\" % (np.mean(vs1), np.std(vs1)), ha=\"center\")\n",
    "\n",
    "x1, x2 = 2 - 0.2, 3 + 0.2\n",
    "y = 20\n",
    "plt.plot([x1, x2], [y, y], lw=1, color=\"black\")\n",
    "plt.plot([x1, x1], [y - 2, y], lw=1, color=\"black\")\n",
    "plt.plot([x2, x2], [y - 2, y], lw=1, color=\"black\")\n",
    "plt.text((x1 + x2) / 2, y + 4, \"%.2f ± %.2f%%\" % (np.mean(vs2), np.std(vs2)), ha=\"center\")\n",
    "\n",
    "plt.xticks(xs, dat2.columns, rotation=0)\n",
    "plt.xlabel(\"SQANTI3 category compared with GENCODE transcripts\")\n",
    "plt.ylabel(\"Percentage (%)\")\n",
    "plt.gca().spines[\"top\"].set_visible(False)\n",
    "plt.gca().spines[\"right\"].set_visible(False)\n",
    "plt.tight_layout()\n",
    "plt.savefig(\"figures/sqanti3_summary.pdf\", dpi=300)"
   ]
  },
  {
   "cell_type": "markdown",
   "id": "29994fe1",
   "metadata": {},
   "source": [
    "# Nucleotides content around polyA"
   ]
  },
  {
   "cell_type": "code",
   "execution_count": 13,
   "id": "4d631340",
   "metadata": {
    "ExecuteTime": {
     "end_time": "2023-10-30T08:21:31.348631Z",
     "start_time": "2023-10-30T08:19:45.700745Z"
    }
   },
   "outputs": [
    {
     "name": "stdout",
     "output_type": "stream",
     "text": [
      "282679\n",
      "79159\n"
     ]
    }
   ],
   "source": [
    "regions = []\n",
    "for run in runs:\n",
    "    for cell in infos[infos[\"Run\"] == run][\"Cell\"]:\n",
    "        path = \"../../1_NanoNASCseq/results/assembly/sqanti3/%s/%s/%s_classification.filtered_lite_classification.txt\" % (cell.split(\".\")[0], cell, cell)\n",
    "        if not os.path.exists(path):\n",
    "            continue\n",
    "        d = pd.read_csv(path, sep=\"\\t\")\n",
    "        tids = d[\"isoform\"]\n",
    "        path = \"../../1_NanoNASCseq/results/assembly/stringtie/%s/%s.gtf.gz\" % (run, cell)\n",
    "        with GtfFile(path) as f:\n",
    "            records = [x for x in f]\n",
    "        transcripts = {t.name: t for t in GtfTranscriptBuilder(records)}\n",
    "        for tid in tids:\n",
    "            t = transcripts[tid]\n",
    "            if t.strand == \"+\":\n",
    "                start = t.end - 50\n",
    "            else:\n",
    "                start = t.start - 50\n",
    "            end = start + 100\n",
    "            regions.append((t.chrom, start, end, t.strand))\n",
    "    break\n",
    "    \n",
    "print(len(regions))\n",
    "regions = set(regions)\n",
    "print(len(regions))"
   ]
  },
  {
   "cell_type": "code",
   "execution_count": 14,
   "id": "923c690e",
   "metadata": {
    "ExecuteTime": {
     "end_time": "2023-10-30T08:23:41.120892Z",
     "start_time": "2023-10-30T08:21:45.115681Z"
    }
   },
   "outputs": [],
   "source": [
    "m = np.zeros((5, 100))\n",
    "bases = [\"A\", \"C\", \"G\", \"T\", \"N\"]\n",
    "with FastaFile(\"/home/chenzonggui/species/homo_sapiens/GRCh38.p13/GRCh38.canonical.genome.fa\") as fasta:\n",
    "    for chrom, start, end, strand in regions:\n",
    "        seq = fasta.fetch(chrom=chrom, start=start, end=end, strand=strand)\n",
    "        for i, b in enumerate(seq):\n",
    "            j = bases.index(b)\n",
    "            m[j][i] += 1"
   ]
  },
  {
   "cell_type": "code",
   "execution_count": 19,
   "id": "5e88bfe0",
   "metadata": {
    "ExecuteTime": {
     "end_time": "2023-10-30T08:25:39.939974Z",
     "start_time": "2023-10-30T08:25:39.435076Z"
    }
   },
   "outputs": [
    {
     "data": {
      "image/png": "[encoded data removed]",
      "text/plain": [
       "<Figure size 396x216 with 1 Axes>"
      ]
     },
     "metadata": {
      "needs_background": "light"
     },
     "output_type": "display_data"
    }
   ],
   "source": [
    "d = pd.DataFrame(m)\n",
    "d.index = bases\n",
    "d.columns = np.arange(-50, 50)\n",
    "d = d / d.sum(axis=0) * 100\n",
    "\n",
    "colors = [\"green\", \"blue\", \"chocolate\", \"red\"]\n",
    "plt.figure(figsize=(5.5, 3))\n",
    "for i, b in enumerate(bases[:4]):\n",
    "    ys = d.loc[b]\n",
    "    xs = d.columns\n",
    "    plt.plot(xs, ys, label=b, color=colors[i])\n",
    "plt.axvline(-20, ls=\"--\", lw=1, color=\"grey\")\n",
    "plt.axvline(0, ls=\"--\", lw=1, color=\"grey\")\n",
    "plt.xlim(-50, 50)\n",
    "plt.ylim(0, 100)\n",
    "if True:\n",
    "    xs = np.arange(-50, 51, 10)\n",
    "    ticks = [str(x) for x in xs]\n",
    "    ticks[5] = \"TTS\"\n",
    "    plt.xticks(xs, ticks)\n",
    "plt.xlabel(\"Relative position to TTS (nt)\")\n",
    "plt.ylabel(\"Nucleotide frequency (%)\")\n",
    "plt.gca().spines[\"top\"].set_visible(False)\n",
    "plt.gca().spines[\"right\"].set_visible(False)\n",
    "plt.legend()\n",
    "plt.tight_layout()\n",
    "plt.savefig(\"figures/nucleotide_content_around_polya.pdf\", dpi=300)"
   ]
  },
  {
   "cell_type": "code",
   "execution_count": null,
   "id": "37cf42ca",
   "metadata": {},
   "outputs": [],
   "source": []
  }
 ],
 "metadata": {
  "kernelspec": {
   "display_name": "Python 3",
   "language": "python",
   "name": "python3"
  },
  "language_info": {
   "codemirror_mode": {
    "name": "ipython",
    "version": 3
   },
   "file_extension": ".py",
   "mimetype": "text/x-python",
   "name": "python",
   "nbconvert_exporter": "python",
   "pygments_lexer": "ipython3",
   "version": "3.6.15"
  }
 },
 "nbformat": 4,
 "nbformat_minor": 5
}
