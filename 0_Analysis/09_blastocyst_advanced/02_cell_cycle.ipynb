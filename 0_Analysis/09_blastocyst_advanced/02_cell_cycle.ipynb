{
 "cells": [
  {
   "cell_type": "code",
   "execution_count": 1,
   "id": "4292c02a",
   "metadata": {
    "ExecuteTime": {
     "end_time": "2024-01-16T04:15:31.037262Z",
     "start_time": "2024-01-16T04:15:30.034758Z"
    }
   },
   "outputs": [],
   "source": [
    "import os\n",
    "import subprocess\n",
    "import numpy as np\n",
    "import pandas as pd\n",
    "import matplotlib.pyplot as plt"
   ]
  },
  {
   "cell_type": "code",
   "execution_count": 2,
   "id": "7c489eca",
   "metadata": {
    "ExecuteTime": {
     "end_time": "2024-01-16T04:15:31.744233Z",
     "start_time": "2024-01-16T04:15:31.681500Z"
    }
   },
   "outputs": [],
   "source": [
    "d = pd.read_csv(\"../8_embryo/results/seurat_transcripts/metadata_and_celltype.consistent_celltype.tsv\", sep=\"\\t\")\n",
    "d = d[(d[\"s4U\"] == 400) & (d[\"Time\"] == 3) & (d[\"ActD\"].isna()) & (d[\"TCRatio\"] >= 0.002)]\n",
    "d = d[(d[\"CellType\"] == \"muralTE\") | (d[\"CellType\"] == \"poralTE\") | (d[\"CellType\"] == \"EPI\") | (d[\"CellType\"] == \"PE\")]"
   ]
  },
  {
   "cell_type": "code",
   "execution_count": 3,
   "id": "6e6d8eef",
   "metadata": {
    "ExecuteTime": {
     "end_time": "2024-01-16T04:15:34.348315Z",
     "start_time": "2024-01-16T04:15:33.962889Z"
    }
   },
   "outputs": [],
   "source": [
    "anno_g = pd.read_csv(\"/home/chenzonggui/species/mus_musculus/GRCm38.p6/gencode.vM25.genes.tsv\", sep=\"\\t\")\n",
    "gid2gtype = dict()\n",
    "gid2gname = dict()\n",
    "for gid, gtype, gname in anno_g[[\"GeneID\", \"GeneType\", \"GeneName\"]].values:\n",
    "    gid2gtype[gid] = gtype\n",
    "    gid2gname[gid] = gname"
   ]
  },
  {
   "cell_type": "code",
   "execution_count": 5,
   "id": "c4b13d13",
   "metadata": {
    "ExecuteTime": {
     "end_time": "2024-01-09T11:48:28.072810Z",
     "start_time": "2024-01-09T11:48:27.265273Z"
    }
   },
   "outputs": [],
   "source": [
    "anno = pd.read_csv(\"../8_embryo/results/mouse_transcript_annotation.tsv\", sep=\"\\t\", header=0, index_col=0)\n",
    "anno.head()\n",
    "tid2tname = dict()\n",
    "for tid, tname in zip(anno.index, anno[\"TranscriptName\"]):\n",
    "    if not isinstance(tname, str) and np.isnan(tname):\n",
    "        continue\n",
    "    tid2tname[tid] = tname"
   ]
  },
  {
   "cell_type": "code",
   "execution_count": 10,
   "id": "7a265dd5",
   "metadata": {
    "ExecuteTime": {
     "end_time": "2024-01-16T04:22:29.717245Z",
     "start_time": "2024-01-16T04:22:11.739099Z"
    }
   },
   "outputs": [],
   "source": [
    "outfile1 = \"results/blastocyst_counts.genes.filelist.txt\"\n",
    "outfile2 = \"results/blastocyst_counts.genes.gene_id.total.tsv\"\n",
    "outfile3 = \"results/blastocyst_counts.genes.gene_id.nascent.tsv\"\n",
    "outfile4 = \"results/blastocyst_counts.genes.gene_id.meta.tsv\"\n",
    "outfile5 = \"results/blastocyst_counts.genes.gene_name.total.tsv\"\n",
    "outfile6 = \"results/blastocyst_counts.genes.gene_name.nascent.tsv\"\n",
    "outfile7 = \"results/blastocyst_counts.genes.gene_name.meta.tsv\"\n",
    "\n",
    "if not os.path.exists(outfile2):\n",
    "    with open(outfile1, \"w+\") as fw:\n",
    "        for run, cell in d[[\"Run\", \"Cell\"]].values:\n",
    "            path = \"../../1_NanoNASCseq/results/expression/quant_genes/min_read_2_min_tc_2/%s/%s.tsv\" % (run, cell)\n",
    "            fw.write(path + \"\\n\")\n",
    "    cmd = \"../../1_NanoNASCseq/scripts/make_count_matrix.py %s %s %s\" % (outfile1, outfile2, outfile3)\n",
    "    subprocess.check_call(cmd, shell=True)\n",
    "    d.to_csv(outfile4, sep=\"\\t\", index=False)\n",
    "    os.remove(outfile1)\n",
    "\n",
    "if not os.path.exists(outfile5):\n",
    "    m = pd.read_csv(outfile2, sep=\"\\t\", header=0, index_col=0)\n",
    "    m.index = [gid2gname.get(x, x) for x in m.index]\n",
    "    m.index.name = \"GeneName\"\n",
    "    m = m[~m.index.duplicated()]\n",
    "    m.to_csv(outfile5, sep=\"\\t\")\n",
    "\n",
    "    m = pd.read_csv(outfile3, sep=\"\\t\", header=0, index_col=0)\n",
    "    m.index = [gid2gname.get(x, x) for x in m.index]\n",
    "    m.index.name = \"GeneName\"\n",
    "    m = m[~m.index.duplicated()]\n",
    "    m.to_csv(outfile6, sep=\"\\t\")\n",
    "\n",
    "    d.to_csv(outfile7, sep=\"\\t\", index=False)"
   ]
  },
  {
   "cell_type": "code",
   "execution_count": 10,
   "id": "89b6167d",
   "metadata": {
    "ExecuteTime": {
     "end_time": "2024-01-09T11:51:05.737989Z",
     "start_time": "2024-01-09T11:48:46.711574Z"
    }
   },
   "outputs": [],
   "source": [
    "outfile1 = \"results/blastocyst_counts.transcripts.filelist.txt\"\n",
    "outfile2 = \"results/blastocyst_counts.transcripts.transcript_id.total.tsv\"\n",
    "outfile3 = \"results/blastocyst_counts.transcripts.transcript_id.nascent.tsv\"\n",
    "outfile4 = \"results/blastocyst_counts.transcripts.transcript_id.meta.tsv\"\n",
    "outfile5 = \"results/blastocyst_counts.transcripts.transcript_name.total.tsv\"\n",
    "outfile6 = \"results/blastocyst_counts.transcripts.transcript_name.nascent.tsv\"\n",
    "outfile7 = \"results/blastocyst_counts.transcripts.transcript_name.meta.tsv\"\n",
    "\n",
    "if not os.path.exists(outfile2):\n",
    "    with open(outfile1, \"w+\") as fw:\n",
    "        for run, cell in d[[\"Run\", \"Cell\"]].values:\n",
    "            path = \"../../1_NanoNASCseq/results/expression/novel/quant_isoforms/min_read_2_min_tc_2/%s/%s.tsv\" % (run, cell)\n",
    "            fw.write(path + \"\\n\")\n",
    "    cmd = \"../../1_NanoNASCseq/scripts/make_count_matrix.py %s %s %s\" % (outfile1, outfile2, outfile3)\n",
    "    subprocess.check_call(cmd, shell=True)\n",
    "    d.to_csv(outfile4, sep=\"\\t\", index=False)\n",
    "    os.remove(outfile1)\n",
    "\n",
    "if not os.path.exists(outfile5):\n",
    "    m = pd.read_csv(outfile2, sep=\"\\t\", header=0, index_col=0)\n",
    "    m.index = [tid2tname.get(x, x) for x in m.index]\n",
    "    m.index.name = \"TranscriptName\"\n",
    "    m.to_csv(outfile5, sep=\"\\t\")\n",
    "\n",
    "    m = pd.read_csv(outfile3, sep=\"\\t\", header=0, index_col=0)\n",
    "    m.index = [tid2tname.get(x, x) for x in m.index]\n",
    "    m.index.name = \"TranscriptName\"\n",
    "    m.to_csv(outfile6, sep=\"\\t\")\n",
    "\n",
    "    d.to_csv(outfile7, sep=\"\\t\", index=False)"
   ]
  },
  {
   "cell_type": "markdown",
   "id": "e89c927b",
   "metadata": {},
   "source": [
    "# Cell cycle genes"
   ]
  },
  {
   "cell_type": "code",
   "execution_count": null,
   "id": "f77741a0",
   "metadata": {},
   "outputs": [],
   "source": [
    "genes_s = [\n",
    "    \"Mcm5\", \"Pcna\", \"Tyms\", \"Fen1\", \"Mcm2\", \"Mcm4\", \"Rrm1\", \"Ung\", \"Gins2\", \"Mcm6\", \n",
    "    \"Cdca7\", \"Dtl\", \"Prim1\", \"Uhrf1\", \"Cenpu\", \"Hells\", \"Rfc2\", \"Rpa2\", \"Nasp\", \"Rad51ap1\", \n",
    "    \"Gmnn\", \"Wdr76\", \"Slbp\", \"Ccne2\", \"Ubr7\", \"Pold3\", \"Msh2\", \"Atad2\", \"Rad51\", \"Rrm2\", \n",
    "    \"Cdc45\", \"Cdc6\", \"Exo1\", \"Tipin\", \"Dscc1\", \"Blm\", \"Casp8ap2\", \"Usp1\", \"Clspn\", \"Pola1\", \n",
    "    \"Chaf1b\", \"Brip1\", \"E2f8\"]\n",
    "\n",
    "genes_g2m = [\n",
    "    \"Hmgb2\", \"Cdk1\", \"Nusap1\", \"Ube2c\", \"Birc5\", \"Tpx2\", \"Top2a\", \"Ndc80\", \"Cks2\", \"Nuf2\", \n",
    "    \"Cks1b\", \"Mki67\", \"Tmpo\", \"Cenpf\", \"Tacc3\", \"4930401O10Rik\", \"Smc4\", \"Ccnb2\", \"Ckap2l\", \"Ckap2\", \n",
    "    \"Aurkb\", \"Bub1\", \"Kif11\", \"Anp32e\", \"Tubb4b\", \"Gtse1\", \"Kif20b\", \"Hjurp\", \"Cdca3\", \"Jpt1\", \n",
    "    \"Cdc20\", \"Ttk\", \"Cdc25c\", \"Kif2c\", \"Rangap1\", \"Ncapd2\", \"Dlgap5\", \"Cdca2\", \"Cdca8\", \"Ect2\", \n",
    "    \"Kif23\", \"Hmmr\", \"Aurka\", \"Psrc1\", \"Anln\", \"Lbr\", \"Ckap5\", \"Cenpe\", \"Ctcf\", \"Nek2\", \n",
    "    \"G2e3\", \"Gas2l3\", \"Cbx5\", \"Cenpa\"]"
   ]
  },
  {
   "cell_type": "code",
   "execution_count": 62,
   "id": "bcd0f94e",
   "metadata": {
    "ExecuteTime": {
     "end_time": "2024-01-09T12:34:44.011209Z",
     "start_time": "2024-01-09T12:34:39.898862Z"
    }
   },
   "outputs": [],
   "source": [
    "mtx = pd.read_csv(\"results/blastocyst_counts.transcripts.transcript_name.total.tsv\", sep=\"\\t\", index_col=0)\n",
    "expressed_isoforms = set(mtx.index)"
   ]
  },
  {
   "cell_type": "code",
   "execution_count": 63,
   "id": "902b78d8",
   "metadata": {
    "ExecuteTime": {
     "end_time": "2024-01-09T12:35:03.443551Z",
     "start_time": "2024-01-09T12:35:03.242561Z"
    }
   },
   "outputs": [],
   "source": [
    "tnames1 = []\n",
    "tnames2 = []\n",
    "for tname in anno[\"TranscriptName\"]:\n",
    "    if tname not in expressed_isoforms:\n",
    "        continue\n",
    "    if \"novel\" in tname:\n",
    "        gname = tname.split(\"novel\")[0][:-1]\n",
    "    else:\n",
    "        gname = tname[:-4]\n",
    "    if gname in genes_s:\n",
    "        tnames1.append(tname)\n",
    "    if gname in genes_g2m:\n",
    "        tnames2.append(tname)"
   ]
  },
  {
   "cell_type": "code",
   "execution_count": 66,
   "id": "b5bde32e",
   "metadata": {
    "ExecuteTime": {
     "end_time": "2024-01-09T12:41:46.946151Z",
     "start_time": "2024-01-09T12:41:46.937605Z"
    },
    "scrolled": false
   },
   "outputs": [],
   "source": [
    "with open(\"results/cellcycle_s.transcript_name.tsv\", \"w+\") as fw:\n",
    "    for x in tnames1:\n",
    "        fw.write(x + \"\\n\")"
   ]
  },
  {
   "cell_type": "code",
   "execution_count": 67,
   "id": "c1f40cc7",
   "metadata": {
    "ExecuteTime": {
     "end_time": "2024-01-09T12:41:59.346798Z",
     "start_time": "2024-01-09T12:41:59.339384Z"
    }
   },
   "outputs": [],
   "source": [
    "with open(\"results/cellcycle_g2m.transcript_name.tsv\", \"w+\") as fw:\n",
    "    for x in tnames2:\n",
    "        fw.write(x + \"\\n\")"
   ]
  },
  {
   "cell_type": "code",
   "execution_count": 71,
   "id": "fd9ad64e",
   "metadata": {
    "ExecuteTime": {
     "end_time": "2024-01-09T12:48:41.381400Z",
     "start_time": "2024-01-09T12:48:32.922811Z"
    }
   },
   "outputs": [],
   "source": [
    "m1 = pd.read_csv(\"results/blastocyst_counts.transcripts.transcript_name.total.tsv\", sep=\"\\t\", index_col=0)\n",
    "m1 = m1.loc[tnames1 + tnames2]\n",
    "\n",
    "m2 = pd.read_csv(\"results/blastocyst_counts.transcripts.transcript_name.nascent.tsv\", sep=\"\\t\", index_col=0)\n",
    "m2 = m2.loc[tnames1 + tnames2]"
   ]
  },
  {
   "cell_type": "code",
   "execution_count": 72,
   "id": "fc02d189",
   "metadata": {
    "ExecuteTime": {
     "end_time": "2024-01-09T12:49:16.677994Z",
     "start_time": "2024-01-09T12:49:16.073800Z"
    }
   },
   "outputs": [],
   "source": [
    "m1.to_csv(\"results/blastocyst_counts.cellcycle.transcripts.transcript_name.total.tsv\", sep=\"\\t\")\n",
    "m2.to_csv(\"results/blastocyst_counts.cellcycle.transcripts.transcript_name.nascent.tsv\", sep=\"\\t\")"
   ]
  }
 ],
 "metadata": {
  "kernelspec": {
   "display_name": "Python 3 (ipykernel)",
   "language": "python",
   "name": "python3"
  },
  "language_info": {
   "codemirror_mode": {
    "name": "ipython",
    "version": 3
   },
   "file_extension": ".py",
   "mimetype": "text/x-python",
   "name": "python",
   "nbconvert_exporter": "python",
   "pygments_lexer": "ipython3",
   "version": "3.10.6"
  }
 },
 "nbformat": 4,
 "nbformat_minor": 5
}
