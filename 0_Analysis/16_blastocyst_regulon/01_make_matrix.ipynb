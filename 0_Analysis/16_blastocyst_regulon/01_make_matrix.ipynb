{
 "cells": [
  {
   "cell_type": "code",
   "execution_count": 1,
   "id": "7b8ea1fa-82e5-49fb-8f67-3e8f076e3dac",
   "metadata": {
    "execution": {
     "iopub.execute_input": "2024-05-20T08:41:50.100634Z",
     "iopub.status.busy": "2024-05-20T08:41:50.099597Z",
     "iopub.status.idle": "2024-05-20T08:41:50.868917Z",
     "shell.execute_reply": "2024-05-20T08:41:50.867050Z",
     "shell.execute_reply.started": "2024-05-20T08:41:50.100567Z"
    }
   },
   "outputs": [],
   "source": [
    "import pandas as pd\n",
    "import anndata as ad"
   ]
  },
  {
   "cell_type": "code",
   "execution_count": 2,
   "id": "d36ad250-52b4-4caf-ae77-ffa3befd5079",
   "metadata": {
    "execution": {
     "iopub.execute_input": "2024-05-20T08:42:47.553948Z",
     "iopub.status.busy": "2024-05-20T08:42:47.553109Z",
     "iopub.status.idle": "2024-05-20T08:42:54.488977Z",
     "shell.execute_reply": "2024-05-20T08:42:54.487813Z",
     "shell.execute_reply.started": "2024-05-20T08:42:47.553878Z"
    }
   },
   "outputs": [
    {
     "name": "stderr",
     "output_type": "stream",
     "text": [
      "/home/chenzonggui/miniconda3/envs/py3/lib/python3.10/site-packages/anndata/_core/aligned_df.py:67: ImplicitModificationWarning: Transforming to str index.\n",
      "  warnings.warn(\"Transforming to str index.\", ImplicitModificationWarning)\n"
     ]
    }
   ],
   "source": [
    "adata = ad.read_h5ad(\"../08_blastocyst/results/blastocyst_counts.gene_based.gene_name.annotated.h5ad\")\n",
    "m1 = adata.layers[\"total\"].astype(int) # total\n",
    "m2 = adata.layers[\"nascent\"].astype(int) # nascent\n",
    "m3 = m1 - m2 # exists"
   ]
  },
  {
   "cell_type": "code",
   "execution_count": 3,
   "id": "6770f54b-8e4e-4880-97ca-5163efd8f244",
   "metadata": {
    "execution": {
     "iopub.execute_input": "2024-05-20T08:43:04.253581Z",
     "iopub.status.busy": "2024-05-20T08:43:04.252660Z",
     "iopub.status.idle": "2024-05-20T08:46:19.555982Z",
     "shell.execute_reply": "2024-05-20T08:46:19.553422Z",
     "shell.execute_reply.started": "2024-05-20T08:43:04.253496Z"
    }
   },
   "outputs": [],
   "source": [
    "d1 = pd.DataFrame(m1, index=adata.obs.index.copy(), columns=adata.var.index.copy())\n",
    "d1.to_csv(\"results/blastocyst_counts.gene_based.gene_name.total.tsv\", sep=\"\\t\")\n",
    "d2 = pd.DataFrame(m2, index=adata.obs.index.copy(), columns=adata.var.index.copy())\n",
    "d2.to_csv(\"results/blastocyst_counts.gene_based.gene_name.nascent.tsv\", sep=\"\\t\")\n",
    "d3 = pd.DataFrame(m3, index=adata.obs.index.copy(), columns=adata.var.index.copy())\n",
    "d3.to_csv(\"results/blastocyst_counts.gene_based.gene_name.exists.tsv\", sep=\"\\t\")"
   ]
  }
 ],
 "metadata": {
  "kernelspec": {
   "display_name": "Python 3 (ipykernel)",
   "language": "python",
   "name": "python3"
  },
  "language_info": {
   "codemirror_mode": {
    "name": "ipython",
    "version": 3
   },
   "file_extension": ".py",
   "mimetype": "text/x-python",
   "name": "python",
   "nbconvert_exporter": "python",
   "pygments_lexer": "ipython3",
   "version": "3.10.13"
  }
 },
 "nbformat": 4,
 "nbformat_minor": 5
}
