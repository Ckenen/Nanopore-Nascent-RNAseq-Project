{
 "cells": [
  {
   "cell_type": "code",
   "execution_count": 11,
   "id": "d201ebfe-d697-4f28-96cf-ca5f0897a2f3",
   "metadata": {
    "execution": {
     "iopub.execute_input": "2024-05-14T10:39:23.221354Z",
     "iopub.status.busy": "2024-05-14T10:39:23.220547Z",
     "iopub.status.idle": "2024-05-14T10:39:23.231901Z",
     "shell.execute_reply": "2024-05-14T10:39:23.229409Z",
     "shell.execute_reply.started": "2024-05-14T10:39:23.221266Z"
    }
   },
   "outputs": [],
   "source": [
    "import matplotlib.pyplot as plt\n",
    "import pandas as pd\n",
    "import anndata as ad\n",
    "import dynamo as dyn\n",
    "import scanpy as sc"
   ]
  },
  {
   "cell_type": "markdown",
   "id": "c092b14c-9b1c-4796-8380-0b1b7d7498da",
   "metadata": {},
   "source": [
    "# Prepare data"
   ]
  },
  {
   "cell_type": "code",
   "execution_count": 12,
   "id": "08808ad3-aeb0-4299-bc70-77e351d102dd",
   "metadata": {
    "execution": {
     "iopub.execute_input": "2024-05-14T10:39:39.911260Z",
     "iopub.status.busy": "2024-05-14T10:39:39.910501Z",
     "iopub.status.idle": "2024-05-14T10:41:19.583005Z",
     "shell.execute_reply": "2024-05-14T10:41:19.581864Z",
     "shell.execute_reply.started": "2024-05-14T10:39:39.911187Z"
    }
   },
   "outputs": [
    {
     "name": "stderr",
     "output_type": "stream",
     "text": [
      "/home/chenzonggui/tmp/ipykernel_17708/1666605633.py:4: ImplicitModificationWarning: Trying to modify attribute `.obs` of view, initializing view as actual.\n",
      "  adata.obs[\"CellType\"] = adata2.obs[\"CellType\"]\n",
      "/home/chenzonggui/miniconda3/envs/py3/lib/python3.10/site-packages/scanpy/preprocessing/_simple.py:163: ImplicitModificationWarning: Trying to modify attribute `.obs` of view, initializing view as actual.\n",
      "  adata.obs[\"n_genes\"] = number\n"
     ]
    },
    {
     "name": "stdout",
     "output_type": "stream",
     "text": [
      "AnnData object with n_obs × n_vars = 2126 × 73649\n",
      "    obs: 'Run', 'Barcode', 'Species', 's4U', 'Time', 'ActD', 'Group', 'CellLine', 'Stage', 'Platform', 'Label', 'UMI', 'Cells', 'LibStruct', 'Remark', 'Cell.Reads', 'Trimmed.Reads', 'Trimmed.Ratio', 'Mapped.Reads', 'Mapped.Ratio', 'Mito.Ratio', 'Filtered.Reads', 'Filtered.Ratio', 'FilteredClip.Reads', 'FilteredClip.Ratio', 'UMIs', 'UMIs.2Reads', 'Duplicate.Reads', 'Duplicate.Ratio', 'Unique.Reads', 'Genes', 'Isoforms.Assembled', 'Isoforms.Known', 'AC.Ratio', 'AG.Ratio', 'AT.Ratio', 'CA.Ratio', 'CG.Ratio', 'CT.Ratio', 'GA.Ratio', 'GC.Ratio', 'GT.Ratio', 'TA.Ratio', 'TC.Ratio', 'TG.Ratio', 'Pe', 'Pc', 'PcPe.Ratio', 'UMIs.2Reads.Nascent.2TCs', 'UMIs.2Reads.Nascent.2TCs.Ratio', 'Genes.2Reads', 'Genes.2Reads.Nascent.2TCs', 'CellType', 'n_genes'\n",
      "    var: 'TranscriptID', 'TranscriptType', 'GeneID', 'GeneName', 'GeneType', 'Chrom', 'Start', 'End', 'Strand'\n",
      "    layers: 'nascent', 'total', 'new'\n"
     ]
    }
   ],
   "source": [
    "adata = ad.read_h5ad(\"../08_blastocyst/results/blastocyst_counts.transcript_based.transcript_name.annotated.filtered.h5ad\")\n",
    "adata2 = ad.read_h5ad(\"../08_blastocyst/results/scanpy_processed_transcript_based.h5ad\")\n",
    "adata = adata[adata.obs.index.isin(adata2.obs.index),:]\n",
    "adata.obs[\"CellType\"] = adata2.obs[\"CellType\"]\n",
    "adata.layers[\"new\"] = adata.layers[\"nascent\"]\n",
    "adata = adata[(adata.obs[\"s4U\"] == 400) & (adata.obs[\"Time\"] == 3) & (adata.obs[\"ActD\"].isna()) & (adata.obs[\"TC.Ratio\"] >= 0)]\n",
    "sc.pp.filter_cells(adata, min_genes=600)\n",
    "adata.write(\"results/dynamo_data_transcript_based.h5ad\", compression=\"gzip\")\n",
    "print(adata)"
   ]
  },
  {
   "cell_type": "markdown",
   "id": "632632cc-8fdc-44ca-8ccc-8fd0fe016670",
   "metadata": {},
   "source": [
    "# Run dynamo"
   ]
  },
  {
   "cell_type": "code",
   "execution_count": 13,
   "id": "4437508e-b077-48e5-a108-0136cc382e68",
   "metadata": {
    "execution": {
     "iopub.execute_input": "2024-05-14T10:41:26.470413Z",
     "iopub.status.busy": "2024-05-14T10:41:26.469512Z",
     "iopub.status.idle": "2024-05-14T10:45:03.916158Z",
     "shell.execute_reply": "2024-05-14T10:45:03.897755Z",
     "shell.execute_reply.started": "2024-05-14T10:41:26.470304Z"
    },
    "scrolled": true
   },
   "outputs": [
    {
     "name": "stdout",
     "output_type": "stream",
     "text": [
      "|-----? dynamo.preprocessing.deprecated is deprecated.\n",
      "|-----> recipe_monocle_keep_filtered_cells_key is None. Using default value from DynamoAdataConfig: recipe_monocle_keep_filtered_cells_key=True\n",
      "|-----> recipe_monocle_keep_filtered_genes_key is None. Using default value from DynamoAdataConfig: recipe_monocle_keep_filtered_genes_key=True\n",
      "|-----> recipe_monocle_keep_raw_layers_key is None. Using default value from DynamoAdataConfig: recipe_monocle_keep_raw_layers_key=True\n",
      "|-----> apply Monocole recipe to adata...\n"
     ]
    },
    {
     "name": "stderr",
     "output_type": "stream",
     "text": [
      "/home/chenzonggui/tmp/ipykernel_17708/2130489997.py:2: DeprecationWarning: recipe_monocle is deprecated and will be removed in a future release. Please update your code to use the new replacement function.\n",
      "  dyn.pp.recipe_monocle(adata, tkey=\"Time\")\n"
     ]
    },
    {
     "name": "stdout",
     "output_type": "stream",
     "text": [
      "|-----> ensure all cell and variable names unique.\n",
      "|-----> ensure all data in different layers in csr sparse matrix format.\n",
      "|-----> ensure all labeling data properly collapased\n",
      "|-----> detected experiment type: one-shot\n",
      "|-----> filtering cells...\n",
      "|-----> 2126 cells passed basic filters.\n",
      "|-----> filtering gene...\n",
      "|-----> 13855 genes passed basic filters.\n",
      "|-----> calculating size factor...\n",
      "|-----> selecting genes in layer: X, sort method: SVR...\n",
      "|-----> size factor normalizing the data, followed by log1p transformation.\n",
      "|-----> Set <adata.X> to normalized data\n",
      "|-----> applying PCA ...\n",
      "|-----> <insert> X_pca to obsm in AnnData Object.\n",
      "|-----> cell cycle scoring...\n",
      "|-----> computing cell phase...\n",
      "|-----? \n",
      "Dynamo is not able to perform cell cycle staging for you automatically. \n",
      "Since dyn.pl.phase_diagram in dynamo by default colors cells by its cell-cycle stage, \n",
      "you need to set color argument accordingly if confronting errors related to this.\n",
      "|-----> [recipe_monocle preprocess] completed [51.0761s]\n",
      "|-----> dynamics_del_2nd_moments_key is None. Using default value from DynamoAdataConfig: dynamics_del_2nd_moments_key=False\n",
      "|-----------> removing existing M layers:[]...\n",
      "|-----------> making adata smooth...\n",
      "|-----> calculating first/second moments...\n"
     ]
    },
    {
     "name": "stderr",
     "output_type": "stream",
     "text": [
      "/home/chenzonggui/miniconda3/envs/py3/lib/python3.10/site-packages/dynamo/preprocessing/utils.py:730: RuntimeWarning: invalid value encountered in divide\n",
      "  var_ntr = adata.layers[\"new\"].sum(0) / adata.layers[\"total\"].sum(0)\n"
     ]
    },
    {
     "name": "stdout",
     "output_type": "stream",
     "text": [
      "|-----> [moments calculation] completed [22.2921s]\n",
      "|-----> retrieve data for non-linear dimension reduction...\n",
      "|-----> [UMAP] using X_pca with n_pca_components = 30\n",
      "|-----> <insert> X_umap to obsm in AnnData Object.\n",
      "|-----> [UMAP] completed [29.1992s]\n",
      "|-----> accessing adj_matrix_key=connectivities built from args for clustering...\n",
      "|-----> Start computing neighbor graph...\n",
      "|-----------> X_data is None, fetching or recomputing...\n",
      "|-----> fetching X data from layer:None, basis:pca\n",
      "|-----> method arg is None, choosing methods automatically...\n",
      "|-----------> method ball_tree selected\n",
      "|-----> Detecting communities on graph...\n",
      "|-----------> Converting graph_sparse_matrix to igraph object\n",
      "|-----> [Community clustering with leiden] completed [13468.1433s]\n",
      "|-----> [hdbscan density-based-clustering] completed [0.6697s]\n",
      "|-----> accessing adj_matrix_key=connectivities built from args for clustering...\n",
      "|-----> Detecting communities on graph...\n",
      "|-----------> Converting graph_sparse_matrix to igraph object\n",
      "|-----? louvain is not maintained, we recommend using leiden instead.\n",
      "|-----> [Community clustering with louvain] completed [0.9573s]\n"
     ]
    },
    {
     "name": "stderr",
     "output_type": "stream",
     "text": [
      "calculating gene velocity vectors confidence based on phase portrait location with priors of progenitor/mature cell types: 2000it [00:40, 48.78it/s]\n",
      "/home/chenzonggui/miniconda3/envs/py3/lib/python3.10/site-packages/dynamo/tools/metric_velocity.py:436: FutureWarning: Indexing with multiple keys (implicitly converted to a tuple of keys) will be deprecated, use a list instead.\n",
      "  avg = confidence.groupby(\"gene\")[\"prog_confidence\", \"mature_confidence\"].mean()\n",
      "/home/chenzonggui/miniconda3/envs/py3/lib/python3.10/site-packages/dynamo/tools/utils.py:2307: ImplicitModificationWarning: Trying to modify attribute `.var` of view, initializing view as actual.\n",
      "  adata.var[store_key] = (\n"
     ]
    },
    {
     "name": "stdout",
     "output_type": "stream",
     "text": [
      "|-----> [calculating transition matrix via pearson kernel with sqrt transform.] in progress: 100.0000%|-----> [calculating transition matrix via pearson kernel with sqrt transform.] completed [12.2225s]\n",
      "|-----> [projecting velocity vector to low dimensional embedding] in progress: 100.0000%|-----> [projecting velocity vector to low dimensional embedding] completed [0.9597s]\n",
      "|-----> [calculating transition matrix via pearson kernel with sqrt transform.] in progress: 100.0000%|-----> [calculating transition matrix via pearson kernel with sqrt transform.] completed [11.7569s]\n",
      "|-----> [projecting velocity vector to low dimensional embedding] in progress: 100.0000%|-----> [projecting velocity vector to low dimensional embedding] completed [0.9356s]\n",
      "|-----> VectorField reconstruction begins...\n",
      "|-----> Retrieve X and V based on basis: UMAP. \n",
      "        Vector field will be learned in the UMAP space.\n",
      "|-----> Generating high dimensional grids and convert into a row matrix.\n",
      "|-----> Learning vector field with method: sparsevfc.\n",
      "|-----> [SparseVFC] begins...\n",
      "|-----> Sampling control points based on data velocity magnitude...\n",
      "|-----> [SparseVFC] completed [0.4437s]\n",
      "|-----> [VectorField] completed [0.6852s]\n"
     ]
    }
   ],
   "source": [
    "adata = ad.read_h5ad(\"results/dynamo_data_transcript_based.h5ad\")\n",
    "dyn.pp.recipe_monocle(adata, tkey=\"Time\")\n",
    "dyn.tl.dynamics(adata, model='stochastic', cores=3, NTR_vel=True)\n",
    "dyn.tl.reduceDimension(adata)\n",
    "dyn.tl.leiden(adata)\n",
    "dyn.tl.hdbscan(adata)\n",
    "dyn.tl.louvain(adata)\n",
    "if True:\n",
    "    lineage_dict = {\"TE-1\": [\"muralTE\", \"polarTE\"], \"ICM-1\": [\"EPI\", \"PE\"]}\n",
    "    dyn.tl.gene_wise_confidence(adata, group='CellType', lineage_dict=lineage_dict, ekey=\"M_t\", vkey=\"velocity_T\")\n",
    "    adata = adata[:,(adata.var[\"avg_prog_confidence\"] > 0) & (adata.var[\"avg_mature_confidence\"] > 0.5)]\n",
    "dyn.tl.cell_velocities(adata, calc_rnd_vel=True)\n",
    "dyn.vf.VectorField(adata, basis='umap')"
   ]
  },
  {
   "cell_type": "code",
   "execution_count": 14,
   "id": "5f0e32aa-22ca-43a9-9b84-08fec76ab0f8",
   "metadata": {
    "execution": {
     "iopub.execute_input": "2024-05-14T10:45:03.918703Z",
     "iopub.status.busy": "2024-05-14T10:45:03.918360Z",
     "iopub.status.idle": "2024-05-14T10:45:17.820611Z",
     "shell.execute_reply": "2024-05-14T10:45:17.819570Z",
     "shell.execute_reply.started": "2024-05-14T10:45:03.918667Z"
    }
   },
   "outputs": [
    {
     "name": "stdout",
     "output_type": "stream",
     "text": [
      "|-----------> plotting with basis key=X_umap\n",
      "|-----------> skip filtering CellType by stack threshold when stacking color because it is not a numeric type\n",
      "|-----------> plotting with basis key=X_umap_rnd\n",
      "|-----------> skip filtering CellType by stack threshold when stacking color because it is not a numeric type\n"
     ]
    }
   ],
   "source": [
    "cmap = plt.colormaps[\"tab20\"]\n",
    "palette = {\n",
    "    \"ICM-1\": cmap(1), \n",
    "    \"ICM-2\": cmap(3),\n",
    "    \"EPI\": cmap(5),\n",
    "    \"PE\": cmap(7),\n",
    "    \"TE-1\": cmap(9),\n",
    "    \"TE-2\": cmap(11),\n",
    "    \"muralTE\": cmap(13),\n",
    "    \"polarTE\": cmap(15)\n",
    "}\n",
    "color = \"CellType\"\n",
    "pointsize = 0.2\n",
    "fig, (ax1, ax2) = plt.subplots(1, 2, figsize=(7.5, 3))\n",
    "dyn.pl.streamline_plot(adata, color=color, color_key=palette, pointsize=pointsize, ax=ax1, basis='umap', show_legend=False, save_show_or_return='return')\n",
    "dyn.pl.streamline_plot(adata, color=color, color_key=palette, pointsize=pointsize, ax=ax2, basis='umap_rnd', show_legend='right', save_show_or_return='return')\n",
    "ax1.set_title(\"Isoform-based\")\n",
    "ax2.set_title(\"Isoform-based (randomized)\")\n",
    "plt.tight_layout()\n",
    "plt.savefig(\"figures/streamline_plot_transcript_based.png\", dpi=300)\n",
    "plt.close()"
   ]
  },
  {
   "cell_type": "markdown",
   "id": "d7325c91-aaae-4eea-86f2-ad1858970193",
   "metadata": {},
   "source": [
    "# Prepare data (scanpy umap)"
   ]
  },
  {
   "cell_type": "code",
   "execution_count": 15,
   "id": "a3e5a31c-cf0a-4797-a85c-e4880f4ab32b",
   "metadata": {
    "execution": {
     "iopub.execute_input": "2024-05-14T10:48:51.715394Z",
     "iopub.status.busy": "2024-05-14T10:48:51.714579Z",
     "iopub.status.idle": "2024-05-14T10:49:54.626590Z",
     "shell.execute_reply": "2024-05-14T10:49:54.624202Z",
     "shell.execute_reply.started": "2024-05-14T10:48:51.715305Z"
    }
   },
   "outputs": [
    {
     "name": "stdout",
     "output_type": "stream",
     "text": [
      "View of AnnData object with n_obs × n_vars = 2130 × 50565\n",
      "    obs: 'Run', 'Barcode', 'Species', 's4U', 'Time', 'ActD', 'Group', 'CellLine', 'Stage', 'Platform', 'Label', 'UMI', 'Cells', 'LibStruct', 'Remark', 'Cell.Reads', 'Trimmed.Reads', 'Trimmed.Ratio', 'Mapped.Reads', 'Mapped.Ratio', 'Mito.Ratio', 'Filtered.Reads', 'Filtered.Ratio', 'FilteredClip.Reads', 'FilteredClip.Ratio', 'UMIs', 'UMIs.2Reads', 'Duplicate.Reads', 'Duplicate.Ratio', 'Unique.Reads', 'Genes', 'Isoforms.Assembled', 'Isoforms.Known', 'AC.Ratio', 'AG.Ratio', 'AT.Ratio', 'CA.Ratio', 'CG.Ratio', 'CT.Ratio', 'GA.Ratio', 'GC.Ratio', 'GT.Ratio', 'TA.Ratio', 'TC.Ratio', 'TG.Ratio', 'Pe', 'Pc', 'PcPe.Ratio', 'UMIs.2Reads.Nascent.2TCs', 'UMIs.2Reads.Nascent.2TCs.Ratio', 'Genes.2Reads', 'Genes.2Reads.Nascent.2TCs', 'n_genes', 'n_counts', 'leiden', 'CellType'\n",
      "    var: 'TranscriptID', 'TranscriptType', 'GeneID', 'GeneName', 'GeneType', 'Chrom', 'Start', 'End', 'Strand', 'n_cells', 'highly_variable', 'means', 'dispersions', 'dispersions_norm'\n",
      "    uns: 'CellType_colors', 'dendrogram_CellType', 'hvg', 'leiden', 'leiden_colors', 'log1p', 'neighbors', 'pca', 'rank_genes_groups', 'umap'\n",
      "    obsm: 'X_pca', 'X_umap'\n",
      "    varm: 'PCs'\n",
      "    layers: 'counts', 'nascent', 'scaled', 'total', 'new'\n",
      "    obsp: 'connectivities', 'distances'\n"
     ]
    }
   ],
   "source": [
    "adata = ad.read_h5ad(\"../08_blastocyst/results/scanpy_processed_transcript_based.h5ad\")\n",
    "adata.layers[\"new\"] = adata.layers[\"nascent\"]\n",
    "adata = adata[(adata.obs[\"s4U\"] == 400) & (adata.obs[\"Time\"] == 3) & (adata.obs[\"ActD\"].isna()) & (adata.obs[\"TC.Ratio\"] >= 0)]\n",
    "adata.write(\"results/dynamo_data_transcript_based.scanpy_umap.h5ad\", compression=\"gzip\")\n",
    "print(adata)"
   ]
  },
  {
   "cell_type": "markdown",
   "id": "ba2fc02d-66aa-4893-9489-2c75128bf0bd",
   "metadata": {},
   "source": [
    "# Run dynamo (scanpy umap)"
   ]
  },
  {
   "cell_type": "code",
   "execution_count": 16,
   "id": "90369124-8515-458e-99cc-f5669c2d390c",
   "metadata": {
    "execution": {
     "iopub.execute_input": "2024-05-14T10:52:15.606057Z",
     "iopub.status.busy": "2024-05-14T10:52:15.605356Z",
     "iopub.status.idle": "2024-05-14T10:55:17.472299Z",
     "shell.execute_reply": "2024-05-14T10:55:17.470838Z",
     "shell.execute_reply.started": "2024-05-14T10:52:15.606006Z"
    },
    "scrolled": true
   },
   "outputs": [
    {
     "name": "stdout",
     "output_type": "stream",
     "text": [
      "|-----? dynamo.preprocessing.deprecated is deprecated.\n",
      "|-----> recipe_monocle_keep_filtered_cells_key is None. Using default value from DynamoAdataConfig: recipe_monocle_keep_filtered_cells_key=True\n",
      "|-----> recipe_monocle_keep_filtered_genes_key is None. Using default value from DynamoAdataConfig: recipe_monocle_keep_filtered_genes_key=True\n",
      "|-----> recipe_monocle_keep_raw_layers_key is None. Using default value from DynamoAdataConfig: recipe_monocle_keep_raw_layers_key=True\n",
      "|-----> apply Monocole recipe to adata...\n"
     ]
    },
    {
     "name": "stderr",
     "output_type": "stream",
     "text": [
      "/home/chenzonggui/tmp/ipykernel_17708/720758844.py:2: DeprecationWarning: recipe_monocle is deprecated and will be removed in a future release. Please update your code to use the new replacement function.\n",
      "  dyn.pp.recipe_monocle(adata, tkey=\"Time\")\n"
     ]
    },
    {
     "name": "stdout",
     "output_type": "stream",
     "text": [
      "|-----> ensure all cell and variable names unique.\n",
      "|-----> ensure all data in different layers in csr sparse matrix format.\n",
      "|-----> ensure all labeling data properly collapased\n",
      "|-----> detected experiment type: one-shot\n",
      "|-----> filtering cells...\n",
      "|-----> 2130 cells passed basic filters.\n",
      "|-----> filtering gene...\n",
      "|-----> 15147 genes passed basic filters.\n",
      "|-----> calculating size factor...\n",
      "|-----> selecting genes in layer: X, sort method: SVR...\n",
      "|-----> size factor normalizing the data, followed by log1p transformation.\n",
      "|-----> Set <adata.X> to normalized data\n",
      "|-----> applying PCA ...\n",
      "|-----> <insert> X_pca to obsm in AnnData Object.\n",
      "|-----> cell cycle scoring...\n",
      "|-----> computing cell phase...\n",
      "|-----? \n",
      "Dynamo is not able to perform cell cycle staging for you automatically. \n",
      "Since dyn.pl.phase_diagram in dynamo by default colors cells by its cell-cycle stage, \n",
      "you need to set color argument accordingly if confronting errors related to this.\n",
      "|-----> [recipe_monocle preprocess] completed [64.7005s]\n",
      "|-----> dynamics_del_2nd_moments_key is None. Using default value from DynamoAdataConfig: dynamics_del_2nd_moments_key=False\n",
      "|-----------> removing existing M layers:[]...\n",
      "|-----------> making adata smooth...\n",
      "|-----> calculating first/second moments...\n"
     ]
    },
    {
     "name": "stderr",
     "output_type": "stream",
     "text": [
      "/home/chenzonggui/miniconda3/envs/py3/lib/python3.10/site-packages/dynamo/preprocessing/utils.py:730: RuntimeWarning: invalid value encountered in divide\n",
      "  var_ntr = adata.layers[\"new\"].sum(0) / adata.layers[\"total\"].sum(0)\n"
     ]
    },
    {
     "name": "stdout",
     "output_type": "stream",
     "text": [
      "|-----> [moments calculation] completed [22.5437s]\n",
      "|-----> retrieve data for non-linear dimension reduction...\n",
      "|-----? adata already have basis umap. dimension reduction umap will be skipped! \n",
      "set enforce=True to re-performing dimension reduction.\n",
      "|-----> [UMAP] completed [0.0027s]\n",
      "|-----> accessing adj_matrix_key=connectivities built from args for clustering...\n",
      "|-----> Detecting communities on graph...\n",
      "|-----------> Converting graph_sparse_matrix to igraph object\n",
      "|-----> [Community clustering with leiden] completed [625.8660s]\n",
      "|-----> [hdbscan density-based-clustering] completed [3.3419s]\n",
      "|-----> accessing adj_matrix_key=connectivities built from args for clustering...\n",
      "|-----> Detecting communities on graph...\n",
      "|-----------> Converting graph_sparse_matrix to igraph object\n",
      "|-----? louvain is not maintained, we recommend using leiden instead.\n",
      "|-----> [Community clustering with louvain] completed [3.4961s]\n"
     ]
    },
    {
     "name": "stderr",
     "output_type": "stream",
     "text": [
      "calculating gene velocity vectors confidence based on phase portrait location with priors of progenitor/mature cell types: 2000it [00:38, 52.09it/s]\n",
      "/home/chenzonggui/miniconda3/envs/py3/lib/python3.10/site-packages/dynamo/tools/metric_velocity.py:436: FutureWarning: Indexing with multiple keys (implicitly converted to a tuple of keys) will be deprecated, use a list instead.\n",
      "  avg = confidence.groupby(\"gene\")[\"prog_confidence\", \"mature_confidence\"].mean()\n",
      "/home/chenzonggui/miniconda3/envs/py3/lib/python3.10/site-packages/dynamo/tools/utils.py:2307: ImplicitModificationWarning: Trying to modify attribute `.var` of view, initializing view as actual.\n",
      "  adata.var[store_key] = (\n"
     ]
    },
    {
     "name": "stdout",
     "output_type": "stream",
     "text": [
      "|-----> [calculating transition matrix via pearson kernel with sqrt transform.] in progress: 100.0000%|-----> [calculating transition matrix via pearson kernel with sqrt transform.] completed [4.7960s]\n",
      "|-----> [projecting velocity vector to low dimensional embedding] in progress: 100.0000%|-----> [projecting velocity vector to low dimensional embedding] completed [0.9003s]\n",
      "|-----> [calculating transition matrix via pearson kernel with sqrt transform.] in progress: 100.0000%|-----> [calculating transition matrix via pearson kernel with sqrt transform.] completed [4.7535s]\n",
      "|-----> [projecting velocity vector to low dimensional embedding] in progress: 100.0000%|-----> [projecting velocity vector to low dimensional embedding] completed [0.9388s]\n",
      "|-----> VectorField reconstruction begins...\n",
      "|-----> Retrieve X and V based on basis: UMAP. \n",
      "        Vector field will be learned in the UMAP space.\n",
      "|-----> Generating high dimensional grids and convert into a row matrix.\n",
      "|-----> Learning vector field with method: sparsevfc.\n",
      "|-----> [SparseVFC] begins...\n",
      "|-----> Sampling control points based on data velocity magnitude...\n",
      "|-----> [SparseVFC] completed [0.5574s]\n",
      "|-----> [VectorField] completed [0.8057s]\n"
     ]
    }
   ],
   "source": [
    "adata = ad.read_h5ad(\"results/dynamo_data_transcript_based.scanpy_umap.h5ad\")\n",
    "dyn.pp.recipe_monocle(adata, tkey=\"Time\")\n",
    "dyn.tl.dynamics(adata, model='stochastic', cores=3, NTR_vel=True)\n",
    "dyn.tl.reduceDimension(adata)\n",
    "dyn.tl.leiden(adata)\n",
    "dyn.tl.hdbscan(adata)\n",
    "dyn.tl.louvain(adata)\n",
    "if True:\n",
    "    lineage_dict = {\"TE-1\": [\"muralTE\", \"polarTE\"], \"ICM-1\": [\"EPI\", \"PE\"]}\n",
    "    dyn.tl.gene_wise_confidence(adata, group='CellType', lineage_dict=lineage_dict, ekey=\"M_t\", vkey=\"velocity_T\")\n",
    "    adata = adata[:,(adata.var[\"avg_prog_confidence\"] > 0) & (adata.var[\"avg_mature_confidence\"] > 0.5)]\n",
    "dyn.tl.cell_velocities(adata, calc_rnd_vel=True)\n",
    "dyn.vf.VectorField(adata, basis='umap')"
   ]
  },
  {
   "cell_type": "code",
   "execution_count": 17,
   "id": "82cbf424-3b0d-4789-8540-6c2524c4f6c9",
   "metadata": {
    "execution": {
     "iopub.execute_input": "2024-05-14T10:55:17.474588Z",
     "iopub.status.busy": "2024-05-14T10:55:17.474228Z",
     "iopub.status.idle": "2024-05-14T10:55:29.074637Z",
     "shell.execute_reply": "2024-05-14T10:55:29.073243Z",
     "shell.execute_reply.started": "2024-05-14T10:55:17.474554Z"
    }
   },
   "outputs": [
    {
     "name": "stdout",
     "output_type": "stream",
     "text": [
      "|-----------> plotting with basis key=X_umap\n",
      "|-----------> skip filtering CellType by stack threshold when stacking color because it is not a numeric type\n",
      "|-----------> plotting with basis key=X_umap_rnd\n",
      "|-----------> skip filtering CellType by stack threshold when stacking color because it is not a numeric type\n"
     ]
    }
   ],
   "source": [
    "cmap = plt.colormaps[\"tab20\"]\n",
    "palette = {\n",
    "    \"ICM-1\": cmap(1), \n",
    "    \"ICM-2\": cmap(3),\n",
    "    \"EPI\": cmap(5),\n",
    "    \"PE\": cmap(7),\n",
    "    \"TE-1\": cmap(9),\n",
    "    \"TE-2\": cmap(11),\n",
    "    \"muralTE\": cmap(13),\n",
    "    \"polarTE\": cmap(15)\n",
    "}\n",
    "color = \"CellType\"\n",
    "pointsize = 0.2\n",
    "fig, (ax1, ax2) = plt.subplots(1, 2, figsize=(7.5, 3))\n",
    "dyn.pl.streamline_plot(adata, color=color, color_key=palette, pointsize=pointsize, ax=ax1, basis='umap', show_legend=False, save_show_or_return='return')\n",
    "dyn.pl.streamline_plot(adata, color=color, color_key=palette, pointsize=pointsize, ax=ax2, basis='umap_rnd', show_legend='right', save_show_or_return='return')\n",
    "ax1.set_title(\"Isoform-based\")\n",
    "ax2.set_title(\"Isoform-based (randomized)\")\n",
    "plt.tight_layout()\n",
    "plt.savefig(\"figures/streamline_plot_transcript_based.scanpy_umap.png\", dpi=300)\n",
    "plt.close()"
   ]
  },
  {
   "cell_type": "code",
   "execution_count": null,
   "id": "f1cecbdf-7e50-48bc-8a9c-9c866d77101a",
   "metadata": {},
   "outputs": [],
   "source": []
  }
 ],
 "metadata": {
  "kernelspec": {
   "display_name": "Python 3 (ipykernel)",
   "language": "python",
   "name": "python3"
  },
  "language_info": {
   "codemirror_mode": {
    "name": "ipython",
    "version": 3
   },
   "file_extension": ".py",
   "mimetype": "text/x-python",
   "name": "python",
   "nbconvert_exporter": "python",
   "pygments_lexer": "ipython3",
   "version": "3.10.13"
  }
 },
 "nbformat": 4,
 "nbformat_minor": 5
}
