{
 "cells": [
  {
   "cell_type": "code",
   "execution_count": 1,
   "id": "d201ebfe-d697-4f28-96cf-ca5f0897a2f3",
   "metadata": {
    "execution": {
     "iopub.execute_input": "2024-05-14T10:13:10.164613Z",
     "iopub.status.busy": "2024-05-14T10:13:10.164235Z",
     "iopub.status.idle": "2024-05-14T10:13:41.690028Z",
     "shell.execute_reply": "2024-05-14T10:13:41.688000Z",
     "shell.execute_reply.started": "2024-05-14T10:13:10.164580Z"
    }
   },
   "outputs": [],
   "source": [
    "import matplotlib.pyplot as plt\n",
    "import pandas as pd\n",
    "import anndata as ad\n",
    "import dynamo as dyn"
   ]
  },
  {
   "cell_type": "markdown",
   "id": "02f49352-d4eb-407c-9a50-669dc23efbcc",
   "metadata": {},
   "source": [
    "# Dynamo (gene-based)"
   ]
  },
  {
   "cell_type": "code",
   "execution_count": 7,
   "id": "3af27efa-dfab-47f8-8131-e892be67dd29",
   "metadata": {
    "execution": {
     "iopub.execute_input": "2024-05-14T10:19:40.062033Z",
     "iopub.status.busy": "2024-05-14T10:19:40.061216Z",
     "iopub.status.idle": "2024-05-14T10:20:10.838324Z",
     "shell.execute_reply": "2024-05-14T10:20:10.837368Z",
     "shell.execute_reply.started": "2024-05-14T10:19:40.061963Z"
    }
   },
   "outputs": [
    {
     "name": "stdout",
     "output_type": "stream",
     "text": [
      "View of AnnData object with n_obs × n_vars = 2136 × 28794\n",
      "    obs: 'Run', 'Barcode', 'Species', 's4U', 'Time', 'ActD', 'Group', 'CellLine', 'Stage', 'Platform', 'Label', 'UMI', 'Cells', 'LibStruct', 'Remark', 'Cell.Reads', 'Trimmed.Reads', 'Trimmed.Ratio', 'Mapped.Reads', 'Mapped.Ratio', 'Mito.Ratio', 'Filtered.Reads', 'Filtered.Ratio', 'FilteredClip.Reads', 'FilteredClip.Ratio', 'UMIs', 'UMIs.2Reads', 'Duplicate.Reads', 'Duplicate.Ratio', 'Unique.Reads', 'Genes', 'Isoforms.Assembled', 'Isoforms.Known', 'AC.Ratio', 'AG.Ratio', 'AT.Ratio', 'CA.Ratio', 'CG.Ratio', 'CT.Ratio', 'GA.Ratio', 'GC.Ratio', 'GT.Ratio', 'TA.Ratio', 'TC.Ratio', 'TG.Ratio', 'Pe', 'Pc', 'PcPe.Ratio', 'UMIs.2Reads.Nascent.2TCs', 'UMIs.2Reads.Nascent.2TCs.Ratio', 'Genes.2Reads', 'Genes.2Reads.Nascent.2TCs', 'CellType'\n",
      "    var: 'GeneID', 'GeneType', 'Chrom', 'Start', 'End', 'Strand'\n",
      "    layers: 'nascent', 'total', 'new'\n"
     ]
    }
   ],
   "source": [
    "adata = ad.read_h5ad(\"../08_blastocyst/results/blastocyst_counts.gene_based.gene_name.annotated.filtered.h5ad\")\n",
    "adata2 = ad.read_h5ad(\"../08_blastocyst/results/scanpy_processed_gene_based.h5ad\")\n",
    "adata.obs[\"CellType\"] = adata2.obs[\"CellType\"]\n",
    "adata.layers[\"new\"] = adata.layers[\"nascent\"]\n",
    "adata = adata[(adata.obs[\"s4U\"] == 400) & (adata.obs[\"Time\"] == 3) & (adata.obs[\"ActD\"].isna()) & (adata.obs[\"TC.Ratio\"] >= 0)]\n",
    "adata.write(\"results/dynamo_data_gene_based.h5ad\", compression=\"gzip\")\n",
    "print(adata)"
   ]
  },
  {
   "cell_type": "code",
   "execution_count": 14,
   "id": "437a9e4b-dbc5-4a1e-ad8c-89c58607424f",
   "metadata": {
    "execution": {
     "iopub.execute_input": "2024-05-14T10:27:50.751529Z",
     "iopub.status.busy": "2024-05-14T10:27:50.750649Z",
     "iopub.status.idle": "2024-05-14T10:30:33.735108Z",
     "shell.execute_reply": "2024-05-14T10:30:33.733626Z",
     "shell.execute_reply.started": "2024-05-14T10:27:50.751458Z"
    },
    "scrolled": true
   },
   "outputs": [
    {
     "name": "stdout",
     "output_type": "stream",
     "text": [
      "|-----? dynamo.preprocessing.deprecated is deprecated.\n",
      "|-----> recipe_monocle_keep_filtered_cells_key is None. Using default value from DynamoAdataConfig: recipe_monocle_keep_filtered_cells_key=True\n",
      "|-----> recipe_monocle_keep_filtered_genes_key is None. Using default value from DynamoAdataConfig: recipe_monocle_keep_filtered_genes_key=True\n",
      "|-----> recipe_monocle_keep_raw_layers_key is None. Using default value from DynamoAdataConfig: recipe_monocle_keep_raw_layers_key=True\n",
      "|-----> apply Monocole recipe to adata...\n"
     ]
    },
    {
     "name": "stderr",
     "output_type": "stream",
     "text": [
      "/home/chenzonggui/tmp/ipykernel_12844/1399744631.py:2: DeprecationWarning: recipe_monocle is deprecated and will be removed in a future release. Please update your code to use the new replacement function.\n",
      "  dyn.pp.recipe_monocle(adata, tkey=\"Time\")\n"
     ]
    },
    {
     "name": "stdout",
     "output_type": "stream",
     "text": [
      "|-----> ensure all cell and variable names unique.\n",
      "|-----> ensure all data in different layers in csr sparse matrix format.\n",
      "|-----> ensure all labeling data properly collapased\n",
      "|-----> detected experiment type: one-shot\n",
      "|-----> filtering cells...\n",
      "|-----> 2136 cells passed basic filters.\n",
      "|-----> filtering gene...\n",
      "|-----> 13179 genes passed basic filters.\n",
      "|-----> calculating size factor...\n",
      "|-----> selecting genes in layer: X, sort method: SVR...\n",
      "|-----> size factor normalizing the data, followed by log1p transformation.\n",
      "|-----> Set <adata.X> to normalized data\n",
      "|-----> applying PCA ...\n",
      "|-----> <insert> X_pca to obsm in AnnData Object.\n",
      "|-----> cell cycle scoring...\n",
      "|-----> computing cell phase...\n"
     ]
    },
    {
     "name": "stderr",
     "output_type": "stream",
     "text": [
      "/home/chenzonggui/miniconda3/envs/py3/lib/python3.10/site-packages/dynamo/preprocessing/utils.py:730: RuntimeWarning: invalid value encountered in divide\n",
      "  var_ntr = adata.layers[\"new\"].sum(0) / adata.layers[\"total\"].sum(0)\n"
     ]
    },
    {
     "name": "stdout",
     "output_type": "stream",
     "text": [
      "|-----> [Cell Phase Estimation] completed [100.4653s]\n",
      "|-----> [Cell Cycle Scores Estimation] completed [0.2312s]\n",
      "|-----> [recipe_monocle preprocess] completed [27.1470s]\n",
      "|-----> dynamics_del_2nd_moments_key is None. Using default value from DynamoAdataConfig: dynamics_del_2nd_moments_key=False\n",
      "|-----------> removing existing M layers:[]...\n",
      "|-----------> making adata smooth...\n",
      "|-----> calculating first/second moments...\n",
      "|-----> [moments calculation] completed [20.0558s]\n",
      "|-----> retrieve data for non-linear dimension reduction...\n",
      "|-----> [UMAP] using X_pca with n_pca_components = 30\n",
      "|-----> <insert> X_umap to obsm in AnnData Object.\n",
      "|-----> [UMAP] completed [25.6490s]\n",
      "|-----> accessing adj_matrix_key=connectivities built from args for clustering...\n",
      "|-----> Start computing neighbor graph...\n",
      "|-----------> X_data is None, fetching or recomputing...\n",
      "|-----> fetching X data from layer:None, basis:pca\n",
      "|-----> method arg is None, choosing methods automatically...\n",
      "|-----------> method ball_tree selected\n",
      "|-----> Detecting communities on graph...\n",
      "|-----------> Converting graph_sparse_matrix to igraph object\n",
      "|-----> [Community clustering with leiden] completed [229.5608s]\n",
      "|-----> [hdbscan density-based-clustering] completed [0.3103s]\n",
      "|-----> accessing adj_matrix_key=connectivities built from args for clustering...\n",
      "|-----> Detecting communities on graph...\n",
      "|-----------> Converting graph_sparse_matrix to igraph object\n",
      "|-----? louvain is not maintained, we recommend using leiden instead.\n",
      "|-----> [Community clustering with louvain] completed [0.5771s]\n"
     ]
    },
    {
     "name": "stderr",
     "output_type": "stream",
     "text": [
      "calculating gene velocity vectors confidence based on phase portrait location with priors of progenitor/mature cell types: 2000it [00:43, 45.60it/s]\n",
      "/home/chenzonggui/miniconda3/envs/py3/lib/python3.10/site-packages/dynamo/tools/metric_velocity.py:436: FutureWarning: Indexing with multiple keys (implicitly converted to a tuple of keys) will be deprecated, use a list instead.\n",
      "  avg = confidence.groupby(\"gene\")[\"prog_confidence\", \"mature_confidence\"].mean()\n",
      "/home/chenzonggui/miniconda3/envs/py3/lib/python3.10/site-packages/dynamo/tools/utils.py:2307: ImplicitModificationWarning: Trying to modify attribute `.var` of view, initializing view as actual.\n",
      "  adata.var[store_key] = (\n"
     ]
    },
    {
     "name": "stdout",
     "output_type": "stream",
     "text": [
      "|-----> [calculating transition matrix via pearson kernel with sqrt transform.] in progress: 100.0000%|-----> [calculating transition matrix via pearson kernel with sqrt transform.] completed [8.9393s]\n",
      "|-----> [projecting velocity vector to low dimensional embedding] in progress: 100.0000%|-----> [projecting velocity vector to low dimensional embedding] completed [0.9486s]\n",
      "|-----> [calculating transition matrix via pearson kernel with sqrt transform.] in progress: 100.0000%|-----> [calculating transition matrix via pearson kernel with sqrt transform.] completed [8.8511s]\n",
      "|-----> [projecting velocity vector to low dimensional embedding] in progress: 100.0000%|-----> [projecting velocity vector to low dimensional embedding] completed [0.9685s]\n",
      "|-----> VectorField reconstruction begins...\n",
      "|-----> Retrieve X and V based on basis: UMAP. \n",
      "        Vector field will be learned in the UMAP space.\n",
      "|-----> Generating high dimensional grids and convert into a row matrix.\n",
      "|-----> Learning vector field with method: sparsevfc.\n",
      "|-----> [SparseVFC] begins...\n",
      "|-----> Sampling control points based on data velocity magnitude...\n",
      "|-----> [SparseVFC] completed [0.4239s]\n",
      "|-----> [VectorField] completed [0.7109s]\n"
     ]
    }
   ],
   "source": [
    "adata = ad.read_h5ad(\"results/dynamo_data_gene_based.h5ad\")\n",
    "dyn.pp.recipe_monocle(adata, tkey=\"Time\")\n",
    "dyn.tl.dynamics(adata, model='stochastic', cores=3, NTR_vel=True)\n",
    "dyn.tl.reduceDimension(adata)\n",
    "dyn.tl.leiden(adata)\n",
    "dyn.tl.hdbscan(adata)\n",
    "dyn.tl.louvain(adata)\n",
    "if True:\n",
    "    lineage_dict = {\"TE-1\": [\"muralTE\", \"polarTE\"], \"ICM-1\": [\"EPI\", \"PE\"]}\n",
    "    dyn.tl.gene_wise_confidence(adata, group='CellType', lineage_dict=lineage_dict, ekey=\"M_t\", vkey=\"velocity_T\")\n",
    "    adata = adata[:,(adata.var[\"avg_prog_confidence\"] > 0) & (adata.var[\"avg_mature_confidence\"] > 0.5)]\n",
    "dyn.tl.cell_velocities(adata, calc_rnd_vel=True)\n",
    "dyn.vf.VectorField(adata, basis='umap')"
   ]
  },
  {
   "cell_type": "code",
   "execution_count": 15,
   "id": "fcf76aa2-6118-4e25-84bd-c4e4d46796f4",
   "metadata": {
    "execution": {
     "iopub.execute_input": "2024-05-14T10:30:33.738425Z",
     "iopub.status.busy": "2024-05-14T10:30:33.738013Z",
     "iopub.status.idle": "2024-05-14T10:30:48.345790Z",
     "shell.execute_reply": "2024-05-14T10:30:48.344087Z",
     "shell.execute_reply.started": "2024-05-14T10:30:33.738392Z"
    }
   },
   "outputs": [
    {
     "name": "stdout",
     "output_type": "stream",
     "text": [
      "|-----------> plotting with basis key=X_umap\n",
      "|-----------> skip filtering CellType by stack threshold when stacking color because it is not a numeric type\n",
      "|-----------> plotting with basis key=X_umap_rnd\n",
      "|-----------> skip filtering CellType by stack threshold when stacking color because it is not a numeric type\n"
     ]
    }
   ],
   "source": [
    "cmap = plt.colormaps[\"tab20\"]\n",
    "palette = {\n",
    "    \"ICM-1\": cmap(1), \n",
    "    \"ICM-2\": cmap(3),\n",
    "    \"EPI\": cmap(5),\n",
    "    \"PE\": cmap(7),\n",
    "    \"TE-1\": cmap(9),\n",
    "    \"TE-2\": cmap(11),\n",
    "    \"muralTE\": cmap(13),\n",
    "    \"polarTE\": cmap(15)\n",
    "}\n",
    "color = \"CellType\"\n",
    "pointsize = 0.2\n",
    "fig, axs = plt.subplots(1, 2, figsize=(7.5, 3))\n",
    "ax1, ax2 = axs\n",
    "dyn.pl.streamline_plot(adata, color=color, color_key=palette, pointsize=pointsize, ax=ax1, basis='umap', save_show_or_return='return', show_legend=False)\n",
    "dyn.pl.streamline_plot(adata, color=color, color_key=palette, pointsize=pointsize, ax=ax2, basis='umap_rnd', save_show_or_return='return', show_legend=\"right\")\n",
    "ax1.set_title(\"Gene-based\")\n",
    "ax2.set_title(\"Gene-based (randomized)\")\n",
    "plt.tight_layout()\n",
    "if False:\n",
    "    plt.show()\n",
    "else:\n",
    "    plt.savefig(\"figures/streamline_plot_gene_based.png\", dpi=300)\n",
    "plt.close()"
   ]
  },
  {
   "cell_type": "markdown",
   "id": "0b8d1b24-b3f8-4fea-b380-94b98b3b7732",
   "metadata": {},
   "source": [
    "# Dynamo from scanpy results"
   ]
  },
  {
   "cell_type": "code",
   "execution_count": 16,
   "id": "6e28bed1-846d-49ff-a448-d05d7e618498",
   "metadata": {
    "execution": {
     "iopub.execute_input": "2024-05-14T10:33:57.430717Z",
     "iopub.status.busy": "2024-05-14T10:33:57.429901Z",
     "iopub.status.idle": "2024-05-14T10:34:37.000176Z",
     "shell.execute_reply": "2024-05-14T10:34:36.998995Z",
     "shell.execute_reply.started": "2024-05-14T10:33:57.430646Z"
    }
   },
   "outputs": [
    {
     "name": "stdout",
     "output_type": "stream",
     "text": [
      "AnnData object with n_obs × n_vars = 2535 × 28794\n",
      "    obs: 'Run', 'Barcode', 'Species', 's4U', 'Time', 'ActD', 'Group', 'CellLine', 'Stage', 'Platform', 'Label', 'UMI', 'Cells', 'LibStruct', 'Remark', 'Cell.Reads', 'Trimmed.Reads', 'Trimmed.Ratio', 'Mapped.Reads', 'Mapped.Ratio', 'Mito.Ratio', 'Filtered.Reads', 'Filtered.Ratio', 'FilteredClip.Reads', 'FilteredClip.Ratio', 'UMIs', 'UMIs.2Reads', 'Duplicate.Reads', 'Duplicate.Ratio', 'Unique.Reads', 'Genes', 'Isoforms.Assembled', 'Isoforms.Known', 'AC.Ratio', 'AG.Ratio', 'AT.Ratio', 'CA.Ratio', 'CG.Ratio', 'CT.Ratio', 'GA.Ratio', 'GC.Ratio', 'GT.Ratio', 'TA.Ratio', 'TC.Ratio', 'TG.Ratio', 'Pe', 'Pc', 'PcPe.Ratio', 'UMIs.2Reads.Nascent.2TCs', 'UMIs.2Reads.Nascent.2TCs.Ratio', 'Genes.2Reads', 'Genes.2Reads.Nascent.2TCs', 'leiden', 'Stage_str', 's4U_str', 'ActD_str', 'CellType'\n",
      "    var: 'GeneID', 'GeneType', 'Chrom', 'Start', 'End', 'Strand', 'highly_variable', 'means', 'dispersions', 'dispersions_norm'\n",
      "    uns: 'ActD_str_colors', 'CellType_colors', 'Stage_colors', 'Stage_str_colors', 'dendrogram_CellType', 'hvg', 'leiden', 'leiden_colors', 'log1p', 'neighbors', 'pca', 'rank_genes_groups', 's4U_str_colors', 'umap'\n",
      "    obsm: 'X_pca', 'X_umap'\n",
      "    varm: 'PCs'\n",
      "    layers: 'counts', 'nascent', 'scaled', 'total', 'new'\n",
      "    obsp: 'connectivities', 'distances'\n"
     ]
    }
   ],
   "source": [
    "adata = ad.read_h5ad(\"../08_blastocyst/results/scanpy_processed_gene_based.h5ad\")\n",
    "adata.layers[\"new\"] = adata.layers[\"nascent\"]\n",
    "adata.write(\"results/dynamo_data_gene_based.scanpy_umap.h5ad\", compression=\"gzip\")\n",
    "print(adata)"
   ]
  },
  {
   "cell_type": "code",
   "execution_count": 17,
   "id": "53b6aab4-3a40-4b06-91c5-36381e18e3d0",
   "metadata": {
    "execution": {
     "iopub.execute_input": "2024-05-14T10:34:37.002726Z",
     "iopub.status.busy": "2024-05-14T10:34:37.002372Z",
     "iopub.status.idle": "2024-05-14T10:37:17.825615Z",
     "shell.execute_reply": "2024-05-14T10:37:17.824449Z",
     "shell.execute_reply.started": "2024-05-14T10:34:37.002696Z"
    },
    "scrolled": true
   },
   "outputs": [
    {
     "name": "stdout",
     "output_type": "stream",
     "text": [
      "|-----? dynamo.preprocessing.deprecated is deprecated.\n",
      "|-----> recipe_monocle_keep_filtered_cells_key is None. Using default value from DynamoAdataConfig: recipe_monocle_keep_filtered_cells_key=True\n",
      "|-----> recipe_monocle_keep_filtered_genes_key is None. Using default value from DynamoAdataConfig: recipe_monocle_keep_filtered_genes_key=True\n",
      "|-----> recipe_monocle_keep_raw_layers_key is None. Using default value from DynamoAdataConfig: recipe_monocle_keep_raw_layers_key=True\n",
      "|-----> apply Monocole recipe to adata...\n"
     ]
    },
    {
     "name": "stderr",
     "output_type": "stream",
     "text": [
      "/home/chenzonggui/tmp/ipykernel_12844/1292949160.py:2: DeprecationWarning: recipe_monocle is deprecated and will be removed in a future release. Please update your code to use the new replacement function.\n",
      "  dyn.pp.recipe_monocle(adata, tkey=\"Time\")\n"
     ]
    },
    {
     "name": "stdout",
     "output_type": "stream",
     "text": [
      "|-----> ensure all cell and variable names unique.\n",
      "|-----> ensure all data in different layers in csr sparse matrix format.\n",
      "|-----> ensure all labeling data properly collapased\n",
      "|-----> detected experiment type: one-shot\n",
      "|-----> filtering cells...\n",
      "|-----> 2535 cells passed basic filters.\n",
      "|-----> filtering gene...\n",
      "|-----> 13284 genes passed basic filters.\n",
      "|-----> calculating size factor...\n",
      "|-----> selecting genes in layer: X, sort method: SVR...\n",
      "|-----> size factor normalizing the data, followed by log1p transformation.\n",
      "|-----> Set <adata.X> to normalized data\n",
      "|-----> applying PCA ...\n",
      "|-----> <insert> X_pca to obsm in AnnData Object.\n",
      "|-----> cell cycle scoring...\n",
      "|-----> computing cell phase...\n"
     ]
    },
    {
     "name": "stderr",
     "output_type": "stream",
     "text": [
      "/home/chenzonggui/miniconda3/envs/py3/lib/python3.10/site-packages/dynamo/preprocessing/utils.py:730: RuntimeWarning: invalid value encountered in divide\n",
      "  var_ntr = adata.layers[\"new\"].sum(0) / adata.layers[\"total\"].sum(0)\n"
     ]
    },
    {
     "name": "stdout",
     "output_type": "stream",
     "text": [
      "|-----> [Cell Phase Estimation] completed [292.4288s]\n",
      "|-----> [Cell Cycle Scores Estimation] completed [0.2980s]\n",
      "|-----> [recipe_monocle preprocess] completed [37.9278s]\n",
      "|-----> dynamics_del_2nd_moments_key is None. Using default value from DynamoAdataConfig: dynamics_del_2nd_moments_key=False\n",
      "|-----------> removing existing M layers:[]...\n",
      "|-----------> making adata smooth...\n",
      "|-----> calculating first/second moments...\n",
      "|-----> [moments calculation] completed [23.9304s]\n",
      "|-----> retrieve data for non-linear dimension reduction...\n",
      "|-----? adata already have basis umap. dimension reduction umap will be skipped! \n",
      "set enforce=True to re-performing dimension reduction.\n",
      "|-----> [UMAP] completed [0.0043s]\n",
      "|-----> accessing adj_matrix_key=connectivities built from args for clustering...\n",
      "|-----> Detecting communities on graph...\n",
      "|-----------> Converting graph_sparse_matrix to igraph object\n",
      "|-----> [Community clustering with leiden] completed [401.8837s]\n",
      "|-----> [hdbscan density-based-clustering] completed [0.3849s]\n",
      "|-----> accessing adj_matrix_key=connectivities built from args for clustering...\n",
      "|-----> Detecting communities on graph...\n",
      "|-----------> Converting graph_sparse_matrix to igraph object\n",
      "|-----? louvain is not maintained, we recommend using leiden instead.\n",
      "|-----> [Community clustering with louvain] completed [0.5420s]\n"
     ]
    },
    {
     "name": "stderr",
     "output_type": "stream",
     "text": [
      "calculating gene velocity vectors confidence based on phase portrait location with priors of progenitor/mature cell types: 2000it [00:49, 40.66it/s]\n",
      "/home/chenzonggui/miniconda3/envs/py3/lib/python3.10/site-packages/dynamo/tools/metric_velocity.py:436: FutureWarning: Indexing with multiple keys (implicitly converted to a tuple of keys) will be deprecated, use a list instead.\n",
      "  avg = confidence.groupby(\"gene\")[\"prog_confidence\", \"mature_confidence\"].mean()\n",
      "/home/chenzonggui/miniconda3/envs/py3/lib/python3.10/site-packages/dynamo/tools/utils.py:2307: ImplicitModificationWarning: Trying to modify attribute `.var` of view, initializing view as actual.\n",
      "  adata.var[store_key] = (\n"
     ]
    },
    {
     "name": "stdout",
     "output_type": "stream",
     "text": [
      "|-----> [calculating transition matrix via pearson kernel with sqrt transform.] in progress: 100.0000%|-----> [calculating transition matrix via pearson kernel with sqrt transform.] completed [5.7226s]\n",
      "|-----> [projecting velocity vector to low dimensional embedding] in progress: 100.0000%|-----> [projecting velocity vector to low dimensional embedding] completed [1.0654s]\n",
      "|-----> [calculating transition matrix via pearson kernel with sqrt transform.] in progress: 100.0000%|-----> [calculating transition matrix via pearson kernel with sqrt transform.] completed [5.6963s]\n",
      "|-----> [projecting velocity vector to low dimensional embedding] in progress: 100.0000%|-----> [projecting velocity vector to low dimensional embedding] completed [1.1009s]\n",
      "|-----> VectorField reconstruction begins...\n",
      "|-----> Retrieve X and V based on basis: UMAP. \n",
      "        Vector field will be learned in the UMAP space.\n",
      "|-----> Generating high dimensional grids and convert into a row matrix.\n",
      "|-----> Learning vector field with method: sparsevfc.\n",
      "|-----> [SparseVFC] begins...\n",
      "|-----> Sampling control points based on data velocity magnitude...\n",
      "|-----> [SparseVFC] completed [0.5060s]\n",
      "|-----> [VectorField] completed [0.7880s]\n"
     ]
    }
   ],
   "source": [
    "adata = ad.read_h5ad(\"results/dynamo_data_gene_based.scanpy_umap.h5ad\")\n",
    "dyn.pp.recipe_monocle(adata, tkey=\"Time\")\n",
    "dyn.tl.dynamics(adata, model='stochastic', cores=3, NTR_vel=True)\n",
    "dyn.tl.reduceDimension(adata)\n",
    "dyn.tl.leiden(adata)\n",
    "dyn.tl.hdbscan(adata)\n",
    "dyn.tl.louvain(adata)\n",
    "if True:\n",
    "    lineage_dict = {\"TE-1\": [\"muralTE\", \"polarTE\"], \"ICM-1\": [\"EPI\", \"PE\"]}\n",
    "    dyn.tl.gene_wise_confidence(adata, group='CellType', lineage_dict=lineage_dict, ekey=\"M_t\", vkey=\"velocity_T\")\n",
    "    adata = adata[:,(adata.var[\"avg_prog_confidence\"] > 0) & (adata.var[\"avg_mature_confidence\"] > 0.5)]\n",
    "dyn.tl.cell_velocities(adata, calc_rnd_vel=True)\n",
    "dyn.vf.VectorField(adata, basis='umap')"
   ]
  },
  {
   "cell_type": "code",
   "execution_count": 18,
   "id": "84b904d7-1661-4a31-8603-876980e2c142",
   "metadata": {
    "execution": {
     "iopub.execute_input": "2024-05-14T10:37:17.827934Z",
     "iopub.status.busy": "2024-05-14T10:37:17.827485Z",
     "iopub.status.idle": "2024-05-14T10:37:29.444409Z",
     "shell.execute_reply": "2024-05-14T10:37:29.442928Z",
     "shell.execute_reply.started": "2024-05-14T10:37:17.827902Z"
    }
   },
   "outputs": [
    {
     "name": "stdout",
     "output_type": "stream",
     "text": [
      "|-----------> plotting with basis key=X_umap\n",
      "|-----------> skip filtering CellType by stack threshold when stacking color because it is not a numeric type\n",
      "|-----------> plotting with basis key=X_umap_rnd\n",
      "|-----------> skip filtering CellType by stack threshold when stacking color because it is not a numeric type\n"
     ]
    }
   ],
   "source": [
    "cmap = plt.colormaps[\"tab20\"]\n",
    "palette = {\n",
    "    \"ICM-1\": cmap(1), \n",
    "    \"ICM-2\": cmap(3),\n",
    "    \"EPI\": cmap(5),\n",
    "    \"PE\": cmap(7),\n",
    "    \"TE-1\": cmap(9),\n",
    "    \"TE-2\": cmap(11),\n",
    "    \"muralTE\": cmap(13),\n",
    "    \"polarTE\": cmap(15)\n",
    "}\n",
    "\n",
    "color = \"CellType\"\n",
    "pointsize = 0.2\n",
    "fig, (ax1, ax2) = plt.subplots(1, 2, figsize=(7.5, 3))\n",
    "dyn.pl.streamline_plot(adata, color=color, color_key=palette, pointsize=pointsize, ax=ax1, basis='umap', save_show_or_return='return', show_legend=False)\n",
    "dyn.pl.streamline_plot(adata, color=color, color_key=palette, pointsize=pointsize, ax=ax2, basis='umap_rnd', save_show_or_return='return', show_legend=\"right\")\n",
    "ax1.set_title(\"Gene-based\")\n",
    "ax2.set_title(\"Gene-based (randomized)\")\n",
    "plt.tight_layout()\n",
    "if False:\n",
    "    plt.show()\n",
    "else:\n",
    "    plt.savefig(\"figures/streamline_plot_gene_based.scanpy_umap.png\", dpi=300)\n",
    "plt.close()"
   ]
  },
  {
   "cell_type": "code",
   "execution_count": null,
   "id": "7b645bef-cd2d-49cd-83db-6e0d01199835",
   "metadata": {},
   "outputs": [],
   "source": []
  }
 ],
 "metadata": {
  "kernelspec": {
   "display_name": "Python 3 (ipykernel)",
   "language": "python",
   "name": "python3"
  },
  "language_info": {
   "codemirror_mode": {
    "name": "ipython",
    "version": 3
   },
   "file_extension": ".py",
   "mimetype": "text/x-python",
   "name": "python",
   "nbconvert_exporter": "python",
   "pygments_lexer": "ipython3",
   "version": "3.10.13"
  }
 },
 "nbformat": 4,
 "nbformat_minor": 5
}
