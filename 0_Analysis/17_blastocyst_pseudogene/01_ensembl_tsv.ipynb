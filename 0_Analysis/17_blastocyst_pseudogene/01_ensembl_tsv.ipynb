{
 "cells": [
  {
   "cell_type": "code",
   "execution_count": 16,
   "id": "5179c115-3f9f-4ac2-851a-8a83f006ec2d",
   "metadata": {
    "execution": {
     "iopub.execute_input": "2024-06-09T05:52:23.971570Z",
     "iopub.status.busy": "2024-06-09T05:52:23.970760Z",
     "iopub.status.idle": "2024-06-09T05:52:23.980734Z",
     "shell.execute_reply": "2024-06-09T05:52:23.978416Z",
     "shell.execute_reply.started": "2024-06-09T05:52:23.971499Z"
    }
   },
   "outputs": [],
   "source": [
    "import gzip\n",
    "import urllib\n",
    "import pandas as pd"
   ]
  },
  {
   "cell_type": "code",
   "execution_count": 22,
   "id": "083cbb6c-a9ae-41bf-bd37-0f32782ff865",
   "metadata": {
    "execution": {
     "iopub.execute_input": "2024-06-09T05:57:39.326386Z",
     "iopub.status.busy": "2024-06-09T05:57:39.325619Z",
     "iopub.status.idle": "2024-06-09T05:58:00.605757Z",
     "shell.execute_reply": "2024-06-09T05:58:00.603283Z",
     "shell.execute_reply.started": "2024-06-09T05:57:39.326317Z"
    }
   },
   "outputs": [],
   "source": [
    "array = []\n",
    "with gzip.open(\"/home/chenzonggui/species/mus_musculus/ensembl/Mus_musculus.GRCm39.112.chr.gff3.gz\", \"rt\") as f:\n",
    "    for line in f:\n",
    "        if line.startswith(\"#\"):\n",
    "            continue\n",
    "        line = line.strip()\n",
    "        items = line.split(\"\\t\")\n",
    "        d = dict()\n",
    "        d[\"refseq\"] = items[0]\n",
    "        d[\"source\"] = items[1]\n",
    "        d[\"feature\"] = items[2]\n",
    "        d[\"start\"] = items[3]\n",
    "        d[\"end\"] = items[4]\n",
    "        d[\"score\"] = items[5]\n",
    "        d[\"strand\"] = items[6]\n",
    "        d[\"phase\"] = items[7]\n",
    "        for item in items[8].split(\";\"):\n",
    "            k, v = item.split(\"=\")\n",
    "            d[k] = urllib.parse.unquote(v)\n",
    "        array.append(d)"
   ]
  },
  {
   "cell_type": "code",
   "execution_count": 23,
   "id": "60459b1f-bbda-4acc-bdae-78b112b778c6",
   "metadata": {
    "execution": {
     "iopub.execute_input": "2024-06-09T05:58:04.307332Z",
     "iopub.status.busy": "2024-06-09T05:58:04.306425Z",
     "iopub.status.idle": "2024-06-09T05:58:12.175832Z",
     "shell.execute_reply": "2024-06-09T05:58:12.173799Z",
     "shell.execute_reply.started": "2024-06-09T05:58:04.307259Z"
    }
   },
   "outputs": [],
   "source": [
    "df = pd.DataFrame(array)"
   ]
  },
  {
   "cell_type": "code",
   "execution_count": 25,
   "id": "3231cfcd-7284-4b09-8f2a-754ca2264f15",
   "metadata": {
    "execution": {
     "iopub.execute_input": "2024-06-09T05:58:44.680307Z",
     "iopub.status.busy": "2024-06-09T05:58:44.679515Z",
     "iopub.status.idle": "2024-06-09T05:59:03.424155Z",
     "shell.execute_reply": "2024-06-09T05:59:03.421457Z",
     "shell.execute_reply.started": "2024-06-09T05:58:44.680238Z"
    }
   },
   "outputs": [],
   "source": [
    "df.to_csv(\"results/Mus_musculus.GRCm39.112.chr.gff3.tsv\", sep=\"\\t\", index=False)"
   ]
  }
 ],
 "metadata": {
  "kernelspec": {
   "display_name": "Python 3 (ipykernel)",
   "language": "python",
   "name": "python3"
  },
  "language_info": {
   "codemirror_mode": {
    "name": "ipython",
    "version": 3
   },
   "file_extension": ".py",
   "mimetype": "text/x-python",
   "name": "python",
   "nbconvert_exporter": "python",
   "pygments_lexer": "ipython3",
   "version": "3.10.13"
  }
 },
 "nbformat": 4,
 "nbformat_minor": 5
}
