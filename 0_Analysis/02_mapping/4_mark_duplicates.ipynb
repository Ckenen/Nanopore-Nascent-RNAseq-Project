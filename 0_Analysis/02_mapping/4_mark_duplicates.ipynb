{
 "cells": [
  {
   "cell_type": "code",
   "execution_count": 1,
   "id": "b0bbb42a",
   "metadata": {
    "ExecuteTime": {
     "end_time": "2024-03-12T10:42:17.761269Z",
     "start_time": "2024-03-12T10:42:16.297202Z"
    }
   },
   "outputs": [],
   "source": [
    "import random, edlib, os\n",
    "import multiprocessing as mp\n",
    "from collections import Counter, defaultdict\n",
    "import numpy as np\n",
    "import pandas as pd\n",
    "import matplotlib.pyplot as plt\n",
    "import seaborn as sns\n",
    "from pyBioInfo.IO.File import BamFile\n",
    "from pyBioInfo.Utils import BundleBuilder"
   ]
  },
  {
   "cell_type": "markdown",
   "id": "c18aa490",
   "metadata": {},
   "source": [
    "# Random UMI edit distance"
   ]
  },
  {
   "cell_type": "code",
   "execution_count": 2,
   "id": "40f2cbc2",
   "metadata": {
    "ExecuteTime": {
     "end_time": "2024-03-09T12:11:06.918420Z",
     "start_time": "2024-03-09T12:09:20.608534Z"
    }
   },
   "outputs": [],
   "source": [
    "def load_random_umi_edit_distance(path):\n",
    "    random.seed(0)\n",
    "    reads = []\n",
    "    with BamFile(path) as f:\n",
    "        for bundle in BundleBuilder(f, keep=True):\n",
    "            reads.append(random.sample(bundle.data, 1)[0])   \n",
    "    umis = [read.segment.get_tag(\"UM\") for read in reads]\n",
    "    eds = []\n",
    "    for i in range(len(umis) - 1):\n",
    "        for j in range(i + 1, len(umis)):\n",
    "            umi1, umi2 = umis[i], umis[j]\n",
    "            if len(umi1) > len(umi2):\n",
    "                umi1, umi2 = umi2, umi1\n",
    "            eds.append(edlib.align(umi1, umi2, mode=\"HW\")[\"editDistance\"])\n",
    "    return Counter(eds)\n",
    "\n",
    "paths = [\n",
    "    \"../../1_NanoNASCseq/results/mapping/mark_duplicate/20220719_K562R1/20220719_K562R1.C01.bam\",\n",
    "    \"../../1_NanoNASCseq/results/mapping/mark_duplicate/20220719_K562R1/20220719_K562R1.C02.bam\",\n",
    "    \"../../1_NanoNASCseq/results/mapping/mark_duplicate/20220719_K562R1/20220719_K562R1.C03.bam\",\n",
    "    \"../../1_NanoNASCseq/results/mapping/mark_duplicate/20220719_K562R1/20220719_K562R1.C04.bam\",\n",
    "    \"../../1_NanoNASCseq/results/mapping/mark_duplicate/20220719_K562R1/20220719_K562R1.C05.bam\",\n",
    "    \"../../1_NanoNASCseq/results/mapping/mark_duplicate/20220719_K562R1/20220719_K562R1.C06.bam\",\n",
    "    \"../../1_NanoNASCseq/results/mapping/mark_duplicate/20220719_K562R1/20220719_K562R1.C07.bam\",\n",
    "    \"../../1_NanoNASCseq/results/mapping/mark_duplicate/20220719_K562R1/20220719_K562R1.C08.bam\",\n",
    "    \"../../1_NanoNASCseq/results/mapping/mark_duplicate/20220719_K562R1/20220719_K562R1.C09.bam\",\n",
    "    \"../../1_NanoNASCseq/results/mapping/mark_duplicate/20220719_K562R1/20220719_K562R1.C10.bam\"]\n",
    "\n",
    "array = []\n",
    "pool = mp.Pool(10)\n",
    "for path in paths:\n",
    "    array.append(pool.apply_async(load_random_umi_edit_distance, (path,)))\n",
    "pool.close()\n",
    "pool.join()\n",
    "array = [r.get() for r in array]"
   ]
  },
  {
   "cell_type": "code",
   "execution_count": 3,
   "id": "3e65cd4e",
   "metadata": {
    "ExecuteTime": {
     "end_time": "2024-03-09T12:11:07.457407Z",
     "start_time": "2024-03-09T12:11:06.922040Z"
    }
   },
   "outputs": [
    {
     "name": "stdout",
     "output_type": "stream",
     "text": [
      "Cells: 10\n"
     ]
    },
    {
     "data": {
      "image/png": "[encoded data removed]",
      "text/plain": [
       "<Figure size 216x180 with 1 Axes>"
      ]
     },
     "metadata": {
      "needs_background": "light"
     },
     "output_type": "display_data"
    }
   ],
   "source": [
    "print(\"Cells:\", len(array))\n",
    "ed_max = 8\n",
    "rows = []\n",
    "for counter in array:\n",
    "    row = np.zeros(ed_max + 1)\n",
    "    for ed, count in counter.items():\n",
    "        row[min(ed, len(row) - 1)] += count\n",
    "    rows.append(row)\n",
    "d = pd.DataFrame(rows)\n",
    "columns = list(map(str, d.columns))\n",
    "columns[-1] = \"≥%s\" % columns[-1]\n",
    "d.columns = columns\n",
    "d1 = d.divide(d.sum(axis=1), axis=0) * 100\n",
    "\n",
    "ys = d1.mean(axis=0)\n",
    "yerr = d1.std(axis=0)\n",
    "xs = np.arange(len(ys))\n",
    "ticks = d1.columns\n",
    "plt.figure(figsize=(3, 2.5))\n",
    "plt.bar(xs, ys, yerr=yerr, edgecolor=\"black\", width=0.7, color=\"C0\", error_kw={\"capsize\": 4})\n",
    "if False:\n",
    "    plt.plot([-0.3, 2.3], [10, 10], color=\"red\", lw=2)\n",
    "    plt.text(1, 11, \"%.4f%%\" % sum(ys[:3]), ha=\"center\", va=\"bottom\", color=\"red\")\n",
    "else:\n",
    "    plt.text(0, 45, \"ED≤2 (%.4f%%)\" % sum(ys[:3]))\n",
    "plt.xticks(xs, ticks)\n",
    "plt.xlabel(\"Edit distance of random UMIs\")\n",
    "plt.ylabel(\"Percentage (%)\")\n",
    "plt.xlim(min(xs) - 0.5, max(xs) + 0.5)\n",
    "plt.ylim(0, 50)\n",
    "plt.gca().spines[\"top\"].set_visible(False)\n",
    "plt.gca().spines[\"right\"].set_visible(False)\n",
    "plt.tight_layout()\n",
    "plt.savefig(\"figures/random_cluster_umi_ed.pdf\", dpi=300)"
   ]
  },
  {
   "cell_type": "markdown",
   "id": "348c71a9",
   "metadata": {},
   "source": [
    "# Number of UMI"
   ]
  },
  {
   "cell_type": "code",
   "execution_count": 6,
   "id": "c9f41016",
   "metadata": {
    "ExecuteTime": {
     "end_time": "2024-03-09T12:13:43.888341Z",
     "start_time": "2024-03-09T12:13:43.517824Z"
    }
   },
   "outputs": [
    {
     "name": "stdout",
     "output_type": "stream",
     "text": [
      "199\t189\t64\t123\n"
     ]
    }
   ],
   "source": [
    "d = pd.read_excel(\"../../1_NanoNASCseq/data/NanoNASCseq.xls\")\n",
    "d1 = d[(d[\"CellLine\"] == \"K562\") & (d[\"s4U\"] == 0) & (d[\"Time\"] == 3) & (d[\"ActD\"].isna())]\n",
    "d2 = d[(d[\"CellLine\"] == \"K562\") & (d[\"s4U\"] == 50) & (d[\"Time\"] == 3) & (d[\"ActD\"].isna())]\n",
    "d3 = d[(d[\"CellLine\"] == \"mESC\") & (d[\"s4U\"] == 0) & (d[\"Time\"] == 3) & (d[\"ActD\"].isna())]\n",
    "d4 = d[(d[\"CellLine\"] == \"mESC\") & (d[\"s4U\"] == 400) & (d[\"Time\"] == 3) & (d[\"ActD\"].isna())]\n",
    "print(len(d1), len(d2), len(d3), len(d4), sep=\"\\t\")"
   ]
  },
  {
   "cell_type": "code",
   "execution_count": 8,
   "id": "31244450",
   "metadata": {
    "ExecuteTime": {
     "end_time": "2024-03-09T12:14:38.219236Z",
     "start_time": "2024-03-09T12:13:51.014482Z"
    }
   },
   "outputs": [],
   "source": [
    "params = [\n",
    "    [\"K562\", 0, 3, d1],\n",
    "    [\"K562\", 50, 3, d2],\n",
    "    [\"mESC\", 0, 3, d3],\n",
    "    [\"mESC\", 400, 3, d4],\n",
    "]\n",
    "\n",
    "data = dict()\n",
    "for cell_line, s4u, time, d in params:\n",
    "    for cell in d[\"Cell\"]:\n",
    "        path = \"../../1_NanoNASCseq/results/mapping/mark_duplicate/%s/%s.tsv\" % (cell.split(\".\")[0], cell)\n",
    "        data[cell] = pd.read_csv(path, sep=\"\\t\", header=0)"
   ]
  },
  {
   "cell_type": "code",
   "execution_count": 9,
   "id": "e5c85461",
   "metadata": {
    "ExecuteTime": {
     "end_time": "2024-03-09T12:14:57.217843Z",
     "start_time": "2024-03-09T12:14:53.425099Z"
    }
   },
   "outputs": [],
   "source": [
    "rows = []\n",
    "x = 0\n",
    "for min_reads in [1, 2]:\n",
    "    for d in [d1, d2, d3, d4]:\n",
    "        vs = []\n",
    "        for cell in d[\"Cell\"]:\n",
    "            tmp = data[cell]\n",
    "            tmp = tmp[tmp[\"DownSampleSize\"] >= min_reads]\n",
    "            rows.append([x, len(tmp)])\n",
    "        x += 1\n",
    "d = pd.DataFrame(rows, columns=[\"Type\", \"UMIs\"])"
   ]
  },
  {
   "cell_type": "code",
   "execution_count": 10,
   "id": "ab869342",
   "metadata": {
    "ExecuteTime": {
     "end_time": "2024-03-09T12:15:10.015443Z",
     "start_time": "2024-03-09T12:15:08.989221Z"
    }
   },
   "outputs": [
    {
     "data": {
      "image/png": "[encoded data removed]",
      "text/plain": [
       "<Figure size 396x201.6 with 1 Axes>"
      ]
     },
     "metadata": {
      "needs_background": "light"
     },
     "output_type": "display_data"
    }
   ],
   "source": [
    "xs = np.arange(8)\n",
    "\n",
    "plt.figure(figsize=(5.5, 2.8))\n",
    "ret = sns.violinplot(data=d, x=\"Type\", y=\"UMIs\", scale=\"area\", width=0.8, linewidth=1)\n",
    "plt.xlim(-0.5, 7.5)\n",
    "plt.ylim(0, 50000)\n",
    "plt.axvline(3.5, lw=1, color=\"grey\", ls=\"--\")\n",
    "plt.text(1.5, 40000, \"Reads ≥ 1\", ha=\"center\", va=\"bottom\")\n",
    "plt.text(5.5, 40000, \"Reads ≥ 2\", ha=\"center\", va=\"bottom\")\n",
    "plt.xlabel(None)\n",
    "plt.xticks(xs, [\n",
    "    \"K562\\n0 μM\", \"K562\\n50 μM\", \n",
    "    \"mESC\\n0 μM\", \"mESC\\n400 μM\", \n",
    "    \"K562\\n0 μM\", \"K562\\n50 μM\", \n",
    "    \"mESC\\n0 μM\", \"mESC\\n400 μM\"])\n",
    "plt.gca().spines[\"top\"].set_visible(False)\n",
    "plt.gca().spines[\"right\"].set_visible(False)\n",
    "plt.tight_layout()\n",
    "plt.savefig(\"figures/umi_counts.pdf\", dpi=300)"
   ]
  },
  {
   "cell_type": "markdown",
   "id": "e11fb5fb",
   "metadata": {},
   "source": [
    "# Reads per UMI"
   ]
  },
  {
   "cell_type": "code",
   "execution_count": 2,
   "id": "41844342",
   "metadata": {
    "ExecuteTime": {
     "end_time": "2024-03-12T10:42:33.990239Z",
     "start_time": "2024-03-12T10:42:32.982480Z"
    }
   },
   "outputs": [
    {
     "name": "stdout",
     "output_type": "stream",
     "text": [
      "190\t179\t64\t112\n"
     ]
    }
   ],
   "source": [
    "d = pd.read_excel(\"../../1_NanoNASCseq/data/NanoNASCseq_summary_selected.xls\")\n",
    "d1 = d[(d[\"Strain\"] == \"K562\") & (d[\"s4U\"] == 0) & (d[\"Time\"] == 3) & (d[\"ActD\"].isna()) & (d[\"UMIs\"] >= 5000)]\n",
    "d2 = d[(d[\"Strain\"] == \"K562\") & (d[\"s4U\"] == 50) & (d[\"Time\"] == 3) & (d[\"ActD\"].isna()) & (d[\"UMIs\"] >= 5000)]\n",
    "d3 = d[(d[\"Strain\"] == \"mESC\") & (d[\"s4U\"] == 0) & (d[\"Time\"] == 3) & (d[\"ActD\"].isna()) & (d[\"UMIs\"] >= 5000)]\n",
    "d4 = d[(d[\"Strain\"] == \"mESC\") & (d[\"s4U\"] == 400) & (d[\"Time\"] == 3) & (d[\"ActD\"].isna()) & (d[\"UMIs\"] >= 5000)]\n",
    "print(len(d1), len(d2), len(d3), len(d4), sep=\"\\t\")"
   ]
  },
  {
   "cell_type": "code",
   "execution_count": 5,
   "id": "7eda703f",
   "metadata": {
    "ExecuteTime": {
     "end_time": "2024-03-12T10:43:48.561442Z",
     "start_time": "2024-03-12T10:42:55.020641Z"
    }
   },
   "outputs": [],
   "source": [
    "params = [\n",
    "    [\"K562\", 0, 3, d1],\n",
    "    [\"K562\", 50, 3, d2],\n",
    "    [\"mESC\", 0, 3, d3],\n",
    "    [\"mESC\", 400, 3, d4],\n",
    "]\n",
    "\n",
    "data = dict()\n",
    "for strain, s4u, time, d in params:\n",
    "    for cell in d[\"Cell\"]:\n",
    "        path = \"../../1_NanoNASCseq/results/mapping/mark_duplicate/%s/%s.tsv\" % (cell.split(\".\")[0], cell)\n",
    "        data[cell] = pd.read_csv(path, sep=\"\\t\", header=0)"
   ]
  },
  {
   "cell_type": "code",
   "execution_count": 6,
   "id": "de1e175a",
   "metadata": {
    "ExecuteTime": {
     "end_time": "2024-03-12T10:43:51.614310Z",
     "start_time": "2024-03-12T10:43:48.565319Z"
    },
    "scrolled": false
   },
   "outputs": [
    {
     "name": "stdout",
     "output_type": "stream",
     "text": [
      "--------------------------------------------------------------------------------\n",
      "K562\t0\t3\t190\n",
      "Mean:\n",
      "1     42.185409\n",
      "2     12.148747\n",
      "3      6.931047\n",
      "4      4.683124\n",
      "5      3.463382\n",
      "6      2.719988\n",
      "7      2.197538\n",
      "8      1.840697\n",
      "9      1.556936\n",
      "10    22.273133\n",
      "dtype: float64\n",
      "Std:\n",
      "1     2.382221\n",
      "2     1.162826\n",
      "3     0.661388\n",
      "4     0.423552\n",
      "5     0.308127\n",
      "6     0.224460\n",
      "7     0.207013\n",
      "8     0.174663\n",
      "9     0.162137\n",
      "10    3.912366\n",
      "dtype: float64\n",
      "--------------------------------------------------------------------------------\n",
      "K562\t50\t3\t179\n",
      "Mean:\n",
      "1     41.026367\n",
      "2     11.915657\n",
      "3      6.881948\n",
      "4      4.634802\n",
      "5      3.453430\n",
      "6      2.738302\n",
      "7      2.220339\n",
      "8      1.846990\n",
      "9      1.575403\n",
      "10    23.706762\n",
      "dtype: float64\n",
      "Std:\n",
      "1     2.595555\n",
      "2     1.381043\n",
      "3     0.731899\n",
      "4     0.498883\n",
      "5     0.339488\n",
      "6     0.267108\n",
      "7     0.209662\n",
      "8     0.180566\n",
      "9     0.168240\n",
      "10    4.046435\n",
      "dtype: float64\n",
      "--------------------------------------------------------------------------------\n",
      "mESC\t0\t3\t64\n",
      "Mean:\n",
      "1     38.938540\n",
      "2     11.950562\n",
      "3      7.038379\n",
      "4      4.943162\n",
      "5      3.692515\n",
      "6      2.899992\n",
      "7      2.374320\n",
      "8      1.998830\n",
      "9      1.724425\n",
      "10    24.439276\n",
      "dtype: float64\n",
      "Std:\n",
      "1     2.384796\n",
      "2     1.136921\n",
      "3     0.558615\n",
      "4     0.329764\n",
      "5     0.275332\n",
      "6     0.193282\n",
      "7     0.180307\n",
      "8     0.164590\n",
      "9     0.155956\n",
      "10    3.886563\n",
      "dtype: float64\n",
      "--------------------------------------------------------------------------------\n",
      "mESC\t400\t3\t112\n",
      "Mean:\n",
      "1     37.361564\n",
      "2     10.047465\n",
      "3      5.990679\n",
      "4      4.237326\n",
      "5      3.211019\n",
      "6      2.601986\n",
      "7      2.164738\n",
      "8      1.834760\n",
      "9      1.588001\n",
      "10    30.962463\n",
      "dtype: float64\n",
      "Std:\n",
      "1     1.892697\n",
      "2     1.428531\n",
      "3     0.877479\n",
      "4     0.591254\n",
      "5     0.427365\n",
      "6     0.340363\n",
      "7     0.294796\n",
      "8     0.217905\n",
      "9     0.170226\n",
      "10    4.396542\n",
      "dtype: float64\n"
     ]
    },
    {
     "data": {
      "image/png": "[encoded data removed]",
      "text/plain": [
       "<Figure size 201.6x201.6 with 1 Axes>"
      ]
     },
     "metadata": {
      "needs_background": "light"
     },
     "output_type": "display_data"
    },
    {
     "data": {
      "image/png": "[encoded data removed]",
      "text/plain": [
       "<Figure size 201.6x201.6 with 1 Axes>"
      ]
     },
     "metadata": {
      "needs_background": "light"
     },
     "output_type": "display_data"
    },
    {
     "data": {
      "image/png": "[encoded data removed]",
      "text/plain": [
       "<Figure size 201.6x201.6 with 1 Axes>"
      ]
     },
     "metadata": {
      "needs_background": "light"
     },
     "output_type": "display_data"
    },
    {
     "data": {
      "image/png": "[encoded data removed]",
      "text/plain": [
       "<Figure size 201.6x201.6 with 1 Axes>"
      ]
     },
     "metadata": {
      "needs_background": "light"
     },
     "output_type": "display_data"
    }
   ],
   "source": [
    "for strain, s4u, time, d in params:\n",
    "    print(\"-\" * 80)\n",
    "    print(strain, s4u, time, len(d), sep=\"\\t\")\n",
    "    \n",
    "    rows = []\n",
    "    for cell in d[\"Cell\"]:\n",
    "        counter = Counter(data[cell][\"AllSize\"])\n",
    "        row = [counter[i] for i in range(10)]\n",
    "        row.append(sum(counter.values()) - sum(row))\n",
    "        rows.append(row)\n",
    "    m = pd.DataFrame(rows)\n",
    "    m.columns = np.arange(11)\n",
    "    m = m[m.columns[1:]]\n",
    "    m = m[m.sum(axis=1) >= 5000] # UMIs >= 5000\n",
    "    m = m.divide(m.sum(axis=1), axis=0) * 100\n",
    "    \n",
    "    ys = m.mean(axis=0)\n",
    "    yerr = m.std(axis=0)\n",
    "    print(\"Mean:\")\n",
    "    print(ys)\n",
    "    print(\"Std:\")\n",
    "    print(yerr)\n",
    "    \n",
    "    xs = m.columns\n",
    "    xticks = list(xs)\n",
    "    xticks[-1] = \"≥10\"\n",
    "    plt.figure(figsize=(2.8, 2.8))\n",
    "    plt.title(\"%s, %d μM, %d h\" % (strain, s4u, time))\n",
    "    plt.bar(xs, ys, yerr=yerr, color=\"C5\", edgecolor=\"black\", width=0.7,\n",
    "            error_kw={\"capsize\": 3, \"capthick\": 1, \"lw\": 1})\n",
    "    plt.text(2, 30, \"n = %d\" % len(d))\n",
    "    if True:\n",
    "        vs = m[m.columns[m.columns >= 2]].sum(axis=1)\n",
    "        y = 40\n",
    "        lw = 1\n",
    "        plt.text(6, y + 2, \"Reads ≥ 2 (%.1f ± %.1f%%)\" % (np.mean(vs), np.std(vs)), ha=\"center\")\n",
    "        plt.plot([2 - 0.3, 10 + 0.3], [y, y], lw=lw, color=\"black\")\n",
    "        plt.plot([2 - 0.3, 2 - 0.3], [y, y - 1], lw=lw, color=\"black\")\n",
    "        plt.plot([10 + 0.3, 10 + 0.3], [y, y - 1], lw=lw, color=\"black\")\n",
    "        \n",
    "    \n",
    "    plt.xlim(0.5, 10.5)\n",
    "    plt.ylim(0, 50)\n",
    "    plt.xticks(xs, xticks)\n",
    "    plt.xlabel(\"Reads per UMI\")\n",
    "    plt.ylabel(\"Percentage of UMI (%)\")\n",
    "    plt.gca().spines[\"top\"].set_visible(False)\n",
    "    plt.gca().spines[\"right\"].set_visible(False)\n",
    "    plt.tight_layout()\n",
    "    plt.savefig(\"figures/reads_per_umi.%s.%duM_%dh.pdf\" % (strain, s4u, time), dpi=300)\n",
    "    \n",
    "    # break"
   ]
  },
  {
   "cell_type": "markdown",
   "id": "655c9e3d",
   "metadata": {},
   "source": [
    "# Select reads for IGV visualization\n",
    "\n",
    "Gene: GAPDH"
   ]
  },
  {
   "cell_type": "code",
   "execution_count": 47,
   "id": "e7429e68",
   "metadata": {
    "ExecuteTime": {
     "end_time": "2023-12-14T08:47:53.813344Z",
     "start_time": "2023-12-14T08:47:53.542000Z"
    }
   },
   "outputs": [],
   "source": [
    "import pysam\n",
    "bamfile = \"../../1_NanoNASCseq/results/mapping/marked_duplicate/20220729_K562R1/20220729_K562R1.C02.bam\"\n",
    "outfile = \"outputs/20220729_K562R1.C02.GAPDH2.forIGV.bam\"\n",
    "with pysam.AlignmentFile(bamfile) as f, pysam.AlignmentFile(outfile, \"wb\", f) as fw:\n",
    "    data = defaultdict(list)\n",
    "    for s in f.fetch(\"chr12\", 6534298, 6538480):\n",
    "        data[s.get_tag(\"UM\")].append(s)\n",
    "    segments = []\n",
    "    random.seed(0)\n",
    "    for k, v in data.items():\n",
    "        if len(v) > 3:\n",
    "            segments.extend(random.sample(v, 3))\n",
    "        else:\n",
    "            segments.extend(v)\n",
    "    for s in sorted(segments, key=lambda s: s.reference_start):\n",
    "        fw.write(s)\n",
    "! samtools index {outfile}"
   ]
  }
 ],
 "metadata": {
  "kernelspec": {
   "display_name": "Python 3",
   "language": "python",
   "name": "python3"
  },
  "language_info": {
   "codemirror_mode": {
    "name": "ipython",
    "version": 3
   },
   "file_extension": ".py",
   "mimetype": "text/x-python",
   "name": "python",
   "nbconvert_exporter": "python",
   "pygments_lexer": "ipython3",
   "version": "3.6.15"
  }
 },
 "nbformat": 4,
 "nbformat_minor": 5
}
