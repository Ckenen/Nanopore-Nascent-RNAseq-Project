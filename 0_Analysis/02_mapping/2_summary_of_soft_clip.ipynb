{
 "cells": [
  {
   "cell_type": "code",
   "execution_count": 1,
   "id": "d6152b6a",
   "metadata": {
    "ExecuteTime": {
     "end_time": "2023-12-19T06:42:56.880744Z",
     "start_time": "2023-12-19T06:42:55.608535Z"
    }
   },
   "outputs": [],
   "source": [
    "from collections import defaultdict\n",
    "import numpy as np\n",
    "import pandas as pd\n",
    "import matplotlib.pyplot as plt\n",
    "\n",
    "infos = pd.read_excel(\"../../1_NanoNASCseq/data/NanoNASCseq.xls\")\n",
    "\n",
    "runs = [\"20220719_K562R1\", \"20220719_K562R2\", \"20220719_K562R3\", \"20220719_K562R4\", \n",
    "        \"20220729_K562R1\", \"20220729_K562R2\"]"
   ]
  },
  {
   "cell_type": "code",
   "execution_count": 3,
   "id": "ed2df088",
   "metadata": {
    "ExecuteTime": {
     "end_time": "2023-12-19T06:44:08.048290Z",
     "start_time": "2023-12-19T06:43:26.382163Z"
    }
   },
   "outputs": [],
   "source": [
    "vmax = 10\n",
    "array1 = []\n",
    "array2 = []\n",
    "for run in runs:\n",
    "    for cell in infos[infos[\"Run\"] == run][\"Cell\"]:\n",
    "        path = \"../../1_NanoNASCseq/results/mapping/processed/%s/%s.tsv\" % (run, cell)\n",
    "        d = pd.read_csv(path, sep=\"\\t\", header=0)\n",
    "        counter1 = defaultdict(int)\n",
    "        counter2 = defaultdict(int)\n",
    "        for c1, c2, count in d[[\"HeadClip\", \"TailClip\", \"Count\"]].values:\n",
    "            counter1[c1] += count\n",
    "            counter2[c2] += count\n",
    "        ys1 = [counter1[i] for i in range(vmax)]\n",
    "        ys2 = [counter2[i] for i in range(vmax)]\n",
    "        ys1.append(sum(counter1.values()) - sum(ys1))\n",
    "        ys2.append(sum(counter2.values()) - sum(ys2))\n",
    "        array1.append(ys1)\n",
    "        array2.append(ys2)"
   ]
  },
  {
   "cell_type": "code",
   "execution_count": 4,
   "id": "5b08b935",
   "metadata": {
    "ExecuteTime": {
     "end_time": "2023-12-19T06:44:46.472003Z",
     "start_time": "2023-12-19T06:44:45.941871Z"
    }
   },
   "outputs": [
    {
     "data": {
      "image/png": "[encoded data removed]",
      "text/plain": [
       "<Figure size 216x216 with 1 Axes>"
      ]
     },
     "metadata": {
      "needs_background": "light"
     },
     "output_type": "display_data"
    }
   ],
   "source": [
    "m1 = pd.DataFrame(array1)\n",
    "m1 = m1.divide(m1.sum(axis=1), axis=0) * 100\n",
    "m2 = pd.DataFrame(array2)\n",
    "m2 = m2.divide(m2.sum(axis=1), axis=0) * 100\n",
    "\n",
    "plt.figure(figsize=(3, 3))\n",
    "\n",
    "ys1 = m1.mean(axis=0)\n",
    "yerr1 = m1.std(axis=0)\n",
    "xs1 = np.arange(len(ys1))\n",
    "plt.errorbar(xs1, ys1, yerr=yerr1, marker=\".\", lw=1, capsize=4, capthick=1, color=\"C0\", label=\"5'-end\")\n",
    "\n",
    "ys2 = m2.mean(axis=0)\n",
    "yerr2 = m2.std(axis=0)\n",
    "xs2 = np.arange(len(ys2))\n",
    "plt.errorbar(xs2, ys2, yerr=yerr2, marker=\".\", lw=1, capsize=4, capthick=1, color=\"C3\", label=\"3'-end\")\n",
    "\n",
    "xs3 = np.arange(0, 11, 2)\n",
    "xticks = [str(x) for x in xs3]\n",
    "xticks[-1] = \"≥%s\" % xticks[-1]\n",
    "\n",
    "plt.xticks(xs3, xticks)\n",
    "plt.ylim(0, 100)\n",
    "plt.xlabel(\"No. of clipped nucleotides (nt)\")\n",
    "plt.ylabel(\"% of reads\")\n",
    "plt.xlim(min(xs1) - 0.5, max(xs1) + 0.5)\n",
    "plt.legend(frameon=True)\n",
    "plt.tight_layout()\n",
    "plt.savefig(\"figures/stat_clip.pdf\", dpi=300)"
   ]
  },
  {
   "cell_type": "code",
   "execution_count": 6,
   "id": "f952ab52",
   "metadata": {
    "ExecuteTime": {
     "end_time": "2023-12-19T06:47:03.409359Z",
     "start_time": "2023-12-19T06:46:58.188396Z"
    }
   },
   "outputs": [],
   "source": [
    "rs = []\n",
    "for run in runs:\n",
    "    for cell in infos[infos[\"Run\"] == run][\"Cell\"]:\n",
    "        path = \"../../1_NanoNASCseq/results/mapping/processed/%s/%s.log\" % (run, cell)\n",
    "        r = float(open(path).readlines()[1].strip().split(\"\\t\")[2])\n",
    "        rs.append(r)"
   ]
  },
  {
   "cell_type": "code",
   "execution_count": 7,
   "id": "8212e936",
   "metadata": {
    "ExecuteTime": {
     "end_time": "2023-12-19T06:47:03.726471Z",
     "start_time": "2023-12-19T06:47:03.413803Z"
    }
   },
   "outputs": [
    {
     "data": {
      "image/png": "[encoded data removed]",
      "text/plain": [
       "<Figure size 288x216 with 1 Axes>"
      ]
     },
     "metadata": {},
     "output_type": "display_data"
    }
   ],
   "source": [
    "mean, std = np.mean(rs), np.std(rs)\n",
    "\n",
    "plt.figure(figsize=(4, 3))\n",
    "plt.pie([mean, 1 - mean], \n",
    "        labels=[\"Pass\\n(%.1f ± %.1f%%)\" % (mean * 100, std * 100), \n",
    "                \"Too many clip\\n(%.1f ± %.1f%%)\" % ((1 - mean) * 100, std * 100)],\n",
    "        colors=[\"C0\", \"C7\"], \n",
    "        wedgeprops=dict(width=0.6, edgecolor='w'))\n",
    "plt.tight_layout()\n",
    "plt.savefig(\"figures/stat_clip.pie.pdf\", dpi=300)"
   ]
  }
 ],
 "metadata": {
  "kernelspec": {
   "display_name": "Python 3",
   "language": "python",
   "name": "python3"
  },
  "language_info": {
   "codemirror_mode": {
    "name": "ipython",
    "version": 3
   },
   "file_extension": ".py",
   "mimetype": "text/x-python",
   "name": "python",
   "nbconvert_exporter": "python",
   "pygments_lexer": "ipython3",
   "version": "3.6.15"
  }
 },
 "nbformat": 4,
 "nbformat_minor": 5
}
