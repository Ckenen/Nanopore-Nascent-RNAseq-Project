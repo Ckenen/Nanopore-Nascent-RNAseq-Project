{
 "cells": [
  {
   "cell_type": "code",
   "execution_count": 1,
   "id": "b4f17221",
   "metadata": {
    "ExecuteTime": {
     "end_time": "2023-12-19T06:42:25.122503Z",
     "start_time": "2023-12-19T06:42:23.927879Z"
    }
   },
   "outputs": [],
   "source": [
    "from collections import defaultdict\n",
    "import numpy as np\n",
    "import pandas as pd\n",
    "import matplotlib.pyplot as plt\n",
    "\n",
    "infos = pd.read_excel(\"../../1_NanoNASCseq/data/NanoNASCseq.xls\")"
   ]
  },
  {
   "cell_type": "code",
   "execution_count": 2,
   "id": "ac213de0",
   "metadata": {
    "ExecuteTime": {
     "end_time": "2023-12-19T06:42:42.453073Z",
     "start_time": "2023-12-19T06:42:30.693632Z"
    }
   },
   "outputs": [
    {
     "name": "stdout",
     "output_type": "stream",
     "text": [
      "('Human', 'Human')\n",
      "('Mixed', 'Human')\n",
      "('Mixed', 'Mouse')\n",
      "('Mouse', 'Mouse')\n"
     ]
    },
    {
     "data": {
      "image/png": "[encoded data removed]",
      "text/plain": [
       "<Figure size 216x216 with 1 Axes>"
      ]
     },
     "metadata": {
      "needs_background": "light"
     },
     "output_type": "display_data"
    }
   ],
   "source": [
    "data = {\n",
    "    \"Human\": \"20220719_K562R3\",\n",
    "    \"Mouse\": \"20220818_mESCR1\",\n",
    "    \"Mixed\": \"20220729_K562R3\"}\n",
    "\n",
    "data1 = defaultdict(list)\n",
    "for name, run in data.items():\n",
    "    for cell, species in infos[infos[\"Run\"] == run][[\"Cell\", \"Species\"]].values:\n",
    "        path = \"../../1_NanoNASCseq/results/cross_species/species_reads/%s/%s.tsv\" % (run, cell)\n",
    "        d = pd.read_csv(path, sep=\"\\t\")\n",
    "        human = d[\"Human\"].values[0] - d[\"Human_Mito\"].values[0]\n",
    "        mouse = d[\"Mouse\"].values[0] - d[\"Mouse_Mito\"].values[0]\n",
    "        data1[(name, species)].append([human, mouse])\n",
    "        \n",
    "plt.figure(figsize=(3, 3))\n",
    "markers = [\"o\", \"^\", \"^\", \"o\"]\n",
    "labels = [\"Human\", \"Mixed-Human\", \"Mixed-Mouse\",\"Mouse\"]\n",
    "for i, (k, v) in enumerate(sorted(data1.items())):\n",
    "    print(k)\n",
    "    xs = np.array([v1[0] / 1e3 for v1 in v])\n",
    "    ys = np.array([v1[1] / 1e3 for v1 in v])\n",
    "    # ks = ys / xs\n",
    "    # print(min(ks) * 100, max(ks) * 100, sep=\"\\t\")\n",
    "    plt.scatter(xs, ys, marker=markers[i], s=20, label=\"%s (%d)\" % (labels[i], len(xs)))\n",
    "plt.xlabel(\"Reads mapped to GRCh38 (k)\")\n",
    "plt.ylabel(\"Reads mapped to GRCm38 (k)\")\n",
    "plt.xlim(-20, 500)\n",
    "plt.ylim(-20, 500)\n",
    "plt.xticks([0, 100, 200, 300, 400, 500])\n",
    "plt.yticks([0, 100, 200, 300, 400, 500])\n",
    "#plt.gca().spines[\"top\"].set_visible(False)\n",
    "#plt.gca().spines[\"right\"].set_visible(False)\n",
    "plt.legend()\n",
    "plt.tight_layout()\n",
    "plt.savefig(\"figures/cross_species.pdf\", dpi=300)"
   ]
  },
  {
   "cell_type": "code",
   "execution_count": null,
   "id": "f51e7ff0",
   "metadata": {},
   "outputs": [],
   "source": []
  }
 ],
 "metadata": {
  "kernelspec": {
   "display_name": "Python 3",
   "language": "python",
   "name": "python3"
  },
  "language_info": {
   "codemirror_mode": {
    "name": "ipython",
    "version": 3
   },
   "file_extension": ".py",
   "mimetype": "text/x-python",
   "name": "python",
   "nbconvert_exporter": "python",
   "pygments_lexer": "ipython3",
   "version": "3.6.15"
  }
 },
 "nbformat": 4,
 "nbformat_minor": 5
}
