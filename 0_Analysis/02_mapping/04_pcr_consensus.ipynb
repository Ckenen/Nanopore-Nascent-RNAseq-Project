{
 "cells": [
  {
   "cell_type": "markdown",
   "id": "07c8ec2a-f8ef-499f-a3ce-426f6e51949d",
   "metadata": {},
   "source": [
    "# Accuracy of consensus reads\n",
    "\n",
    "This notebook profile the base accuracy of consensus reads"
   ]
  },
  {
   "cell_type": "code",
   "execution_count": 1,
   "id": "35a62272",
   "metadata": {
    "ExecuteTime": {
     "end_time": "2023-12-19T07:58:33.652278Z",
     "start_time": "2023-12-19T07:58:32.933786Z"
    },
    "execution": {
     "iopub.execute_input": "2024-06-17T15:54:07.645363Z",
     "iopub.status.busy": "2024-06-17T15:54:07.643651Z",
     "iopub.status.idle": "2024-06-17T15:54:08.543010Z",
     "shell.execute_reply": "2024-06-17T15:54:08.541000Z",
     "shell.execute_reply.started": "2024-06-17T15:54:07.645281Z"
    }
   },
   "outputs": [],
   "source": [
    "import glob\n",
    "from collections import defaultdict\n",
    "import numpy as np\n",
    "import pandas as pd\n",
    "import matplotlib.pyplot as plt"
   ]
  },
  {
   "cell_type": "code",
   "execution_count": 2,
   "id": "912921b3",
   "metadata": {
    "ExecuteTime": {
     "end_time": "2023-12-19T07:58:41.619328Z",
     "start_time": "2023-12-19T07:58:33.655613Z"
    },
    "execution": {
     "iopub.execute_input": "2024-06-17T15:54:13.195278Z",
     "iopub.status.busy": "2024-06-17T15:54:13.194581Z",
     "iopub.status.idle": "2024-06-17T15:54:20.229109Z",
     "shell.execute_reply": "2024-06-17T15:54:20.226813Z",
     "shell.execute_reply.started": "2024-06-17T15:54:13.195206Z"
    }
   },
   "outputs": [
    {
     "name": "stdout",
     "output_type": "stream",
     "text": [
      "58\n"
     ]
    }
   ],
   "source": [
    "data = defaultdict(list)\n",
    "n = 0\n",
    "for path in sorted(glob.glob(\"../../1_FLAIRseq/results/consensus/consensus_accuracy/20220719_K562R3/*/summary.tsv\")):\n",
    "    d = pd.read_csv(path, sep=\"\\t\", header=0, index_col=0)\n",
    "    if len(d) >= 5000:\n",
    "        n += 1\n",
    "        for size, accuracy in d[[\"Size\", \"Accuracy\"]].values:\n",
    "            data[size].append(accuracy)\n",
    "print(n)"
   ]
  },
  {
   "cell_type": "code",
   "execution_count": 3,
   "id": "35788974",
   "metadata": {
    "ExecuteTime": {
     "end_time": "2023-12-19T08:04:16.424213Z",
     "start_time": "2023-12-19T08:04:15.650869Z"
    },
    "execution": {
     "iopub.execute_input": "2024-06-17T15:54:28.558634Z",
     "iopub.status.busy": "2024-06-17T15:54:28.557637Z",
     "iopub.status.idle": "2024-06-17T15:54:29.907287Z",
     "shell.execute_reply": "2024-06-17T15:54:29.906339Z",
     "shell.execute_reply.started": "2024-06-17T15:54:28.558553Z"
    }
   },
   "outputs": [
    {
     "name": "stdout",
     "output_type": "stream",
     "text": [
      "Size\tNumber\tQualityScore\tAccuracy\n",
      "1\t468869\t16.622606\t0.978236\n",
      "2\t138477\t19.845273\t0.989637\n",
      "3\t75054\t24.955443\t0.996805\n",
      "4\t51421\t27.626786\t0.998273\n",
      "5\t38405\t29.242793\t0.99881\n",
      "6\t29901\t29.722028\t0.998934\n",
      "7\t24521\t29.88559\t0.998973\n",
      "8\t20607\t30.094509\t0.999022\n",
      "9\t17493\t30.141003\t0.999032\n",
      "10\t237008\t30.523733\t0.999114\n"
     ]
    },
    {
     "data": {
      "image/png": "[encoded data removed]",
      "text/plain": [
       "<Figure size 300x280 with 1 Axes>"
      ]
     },
     "metadata": {},
     "output_type": "display_data"
    }
   ],
   "source": [
    "plt.figure(figsize=(3, 2.8))\n",
    "xs = np.arange(1, 11)\n",
    "xticks = list(map(str, xs))\n",
    "xticks[-1] = \"≥%s\" % xticks[-1]\n",
    "w = 0.6\n",
    "print(\"Size\\tNumber\\tQualityScore\\tAccuracy\")\n",
    "for x in xs:\n",
    "    ys = np.array(data[x])\n",
    "    v = np.median(ys)\n",
    "    q = -10 * np.log10(1 - v)\n",
    "    print(x, len(ys), round(q, 6), round(np.median(ys), 6), sep=\"\\t\")\n",
    "    plt.boxplot([ys * 100], positions=[x], widths=w, showfliers=False, showcaps=False)\n",
    "    plt.text(x, 100.2, str(round(q)), ha=\"center\")\n",
    "plt.xlabel(\"Reads per UMI\")\n",
    "plt.ylabel(\"Consensus sequence accuracy (%)\")\n",
    "plt.ylim(90, 101)\n",
    "plt.xlim(0.5, 10.5)\n",
    "plt.xticks(xs, xticks)\n",
    "plt.gca().spines[\"top\"].set_visible(False)\n",
    "plt.gca().spines[\"right\"].set_visible(False)\n",
    "plt.tight_layout()\n",
    "plt.savefig(\"figures/consensus_accuracy.pdf\")"
   ]
  },
  {
   "cell_type": "code",
   "execution_count": null,
   "id": "df4f14df",
   "metadata": {},
   "outputs": [],
   "source": []
  }
 ],
 "metadata": {
  "kernelspec": {
   "display_name": "Python 3 (ipykernel)",
   "language": "python",
   "name": "python3"
  },
  "language_info": {
   "codemirror_mode": {
    "name": "ipython",
    "version": 3
   },
   "file_extension": ".py",
   "mimetype": "text/x-python",
   "name": "python",
   "nbconvert_exporter": "python",
   "pygments_lexer": "ipython3",
   "version": "3.10.13"
  }
 },
 "nbformat": 4,
 "nbformat_minor": 5
}
