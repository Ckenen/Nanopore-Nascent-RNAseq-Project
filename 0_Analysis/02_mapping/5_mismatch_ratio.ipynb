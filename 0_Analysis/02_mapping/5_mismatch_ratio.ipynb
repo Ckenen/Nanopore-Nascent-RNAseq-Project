{
 "cells": [
  {
   "cell_type": "code",
   "execution_count": 1,
   "id": "ea8e7ac8",
   "metadata": {
    "ExecuteTime": {
     "end_time": "2024-03-12T10:54:55.175610Z",
     "start_time": "2024-03-12T10:54:53.264986Z"
    }
   },
   "outputs": [
    {
     "name": "stdout",
     "output_type": "stream",
     "text": [
      "Index(['Run', 'Cell', 's4U', 'Time', 'ActD', 'Barcode', 'UMI', 'Strain',\n",
      "       'Cells', 'Group', 'LibStruct', 'Platform', 'Species', 'Remark',\n",
      "       'Paternal', 'CellReads', 'TrimReads', 'TrimRatio', 'MappedReads',\n",
      "       'MappedRatio', 'MitoRatio', 'FilteredReads', 'FilteredRatio',\n",
      "       'FilteredClipReads', 'FilteredClipRatio', 'UMIs', 'UMIs2',\n",
      "       'DuplicateReads', 'DuplicateRatio', 'UniqueReads', 'Isoforms',\n",
      "       'Isoforms[Strict]', 'Genes', 'ACRatio', 'AGRatio', 'ATRatio', 'CARatio',\n",
      "       'CGRatio', 'CTRatio', 'GARatio', 'GCRatio', 'GTRatio', 'TARatio',\n",
      "       'TCRatio', 'TGRatio', 'Pe', 'Pc', 'Pc/Pe', 'UMIs2[Nascent2]',\n",
      "       'NascentRatio2', 'Genes2', 'Genes2[Nascent2]'],\n",
      "      dtype='object')\n"
     ]
    }
   ],
   "source": [
    "import os\n",
    "import glob\n",
    "import numpy as np\n",
    "import pandas as pd\n",
    "from scipy.stats import ttest_ind, mannwhitneyu\n",
    "import matplotlib.pyplot as plt\n",
    "import matplotlib.patches as mpatches\n",
    "infos = pd.read_excel(\"../../1_NanoNASCseq/data/NanoNASCseq_summary_selected.xls\")\n",
    "print(infos.columns)"
   ]
  },
  {
   "cell_type": "markdown",
   "id": "856a8487",
   "metadata": {},
   "source": [
    "# Mismatch ratio\n",
    "\n",
    "    K562\n",
    "    mESC"
   ]
  },
  {
   "cell_type": "code",
   "execution_count": 2,
   "id": "ed8305dd",
   "metadata": {
    "ExecuteTime": {
     "end_time": "2024-03-04T02:26:33.479099Z",
     "start_time": "2024-03-04T02:25:31.036978Z"
    }
   },
   "outputs": [],
   "source": [
    "ratios_rmdup = dict()\n",
    "for path in glob.glob(\"../../1_NanoNASCseq/results/mismatch/ratio_rmdup/*/*.tsv\"):\n",
    "    cell = path.split(\"/\")[-1][:-4]\n",
    "    d = pd.read_csv(path, sep=\"\\t\")\n",
    "    for t, r in d[[\"Type\", \"Ratio[NoSNP]\"]].values:\n",
    "        if \"-\" in t:\n",
    "            continue\n",
    "        t = \"%s-%s\" % (t[0], t[1])\n",
    "        ratios_rmdup[(cell, t)] = r"
   ]
  },
  {
   "cell_type": "code",
   "execution_count": 3,
   "id": "eddeba6c",
   "metadata": {
    "ExecuteTime": {
     "end_time": "2024-03-04T02:27:32.931571Z",
     "start_time": "2024-03-04T02:26:33.482924Z"
    }
   },
   "outputs": [],
   "source": [
    "ratios_consensus = dict()\n",
    "for path in glob.glob(\"../../1_NanoNASCseq/results/mismatch/ratio_consensus/*/*.tsv\"):\n",
    "    if path.endswith(\".events.tsv\"):\n",
    "        continue\n",
    "    cell = path.split(\"/\")[-1][:-4]\n",
    "    d = pd.read_csv(path, sep=\"\\t\")\n",
    "    for t, r in d[[\"Type\", \"Ratio\"]].values:\n",
    "        if \"-\" in t:\n",
    "            continue\n",
    "        t = \"%s-%s\" % (t[0], t[1])\n",
    "        ratios_consensus[(cell, t)] = r"
   ]
  },
  {
   "cell_type": "code",
   "execution_count": 4,
   "id": "21f4531f",
   "metadata": {
    "ExecuteTime": {
     "end_time": "2024-03-04T02:27:32.961010Z",
     "start_time": "2024-03-04T02:27:32.935604Z"
    }
   },
   "outputs": [],
   "source": [
    "infos[\"TCRatio[Rmdup]\"] = [ratios_rmdup.get((cell, \"T-C\"), np.nan) for cell in infos[\"Cell\"]]\n",
    "infos[\"TCRatio[Consensus]\"] = [ratios_consensus.get((cell, \"T-C\"), np.nan) for cell in infos[\"Cell\"]]"
   ]
  },
  {
   "cell_type": "code",
   "execution_count": 5,
   "id": "b7be5359",
   "metadata": {
    "ExecuteTime": {
     "end_time": "2024-03-04T02:27:32.995918Z",
     "start_time": "2024-03-04T02:27:32.963348Z"
    }
   },
   "outputs": [
    {
     "name": "stdout",
     "output_type": "stream",
     "text": [
      "K562 0uM 3h: 190\n",
      "K562 50uM 3h: 105\n",
      "mESC 0uM 3h: 64\n",
      "mESC 400uM 3h: 110\n"
     ]
    }
   ],
   "source": [
    "params = []\n",
    "tmp = infos[(infos[\"Time\"] == 3) & (np.isnan(infos[\"ActD\"])) & (infos[\"UMIs\"] >= 5000)]\n",
    "\n",
    "d1 = tmp[(tmp[\"Strain\"] == \"K562\") & (tmp[\"s4U\"] == 0) & (tmp[\"TCRatio[Consensus]\"] >= 0)]\n",
    "d2 = tmp[(tmp[\"Strain\"] == \"K562\") & (tmp[\"s4U\"] == 50) & (tmp[\"TCRatio[Consensus]\"] >= 0.008) & (tmp[\"TCRatio[Consensus]\"] < 1)]\n",
    "params.append([\"K562\", [0, 50], [d1, d2]])\n",
    "print(\"K562 0uM 3h:\", len(d1))\n",
    "print(\"K562 50uM 3h:\", len(d2))\n",
    "\n",
    "d1 = tmp[(tmp[\"Strain\"] == \"mESC\") & (tmp[\"s4U\"] == 0) & (tmp[\"TCRatio[Consensus]\"] >= 0)]\n",
    "d2 = tmp[(tmp[\"Strain\"] == \"mESC\") & (tmp[\"s4U\"] == 400) & (tmp[\"TCRatio[Consensus]\"] >= 0.010) & (tmp[\"TCRatio[Consensus]\"] < 1)]\n",
    "params.append([\"mESC\", [0, 400], [d1, d2]])\n",
    "print(\"mESC 0uM 3h:\", len(d1))\n",
    "print(\"mESC 400uM 3h:\", len(d2))"
   ]
  },
  {
   "cell_type": "markdown",
   "id": "65552984",
   "metadata": {},
   "source": [
    "## 1. Mismatch ratio"
   ]
  },
  {
   "cell_type": "code",
   "execution_count": 19,
   "id": "b88b5661",
   "metadata": {
    "ExecuteTime": {
     "end_time": "2023-12-19T07:02:17.886020Z",
     "start_time": "2023-12-19T07:02:14.076150Z"
    }
   },
   "outputs": [
    {
     "name": "stdout",
     "output_type": "stream",
     "text": [
      "--------------------------------------------------------------------------------\n",
      "rmdup K562 0 50 190 105\n",
      "Median of T-C ratio (%): 0.26579679610309487 1.4887188042050339\n",
      "P-value (T-test): 1.8439337545337497e-144\n",
      "P-value (Mann-Whitney U test): 3.4997189933552495e-46\n",
      "--------------------------------------------------------------------------------\n",
      "rmdup mESC 0 400 64 110\n",
      "Median of T-C ratio (%): 0.27214685305413144 2.1381327500287926\n",
      "P-value (T-test): 2.7159232274708603e-69\n",
      "P-value (Mann-Whitney U test): 2.2776689006569123e-28\n",
      "--------------------------------------------------------------------------------\n",
      "consensus K562 0 50 190 105\n",
      "Median of T-C ratio (%): 0.016653572903877055 1.2133164868767519\n",
      "P-value (T-test): 1.1864713964594922e-140\n",
      "P-value (Mann-Whitney U test): 3.4997189933552495e-46\n",
      "--------------------------------------------------------------------------------\n",
      "consensus mESC 0 400 64 110\n",
      "Median of T-C ratio (%): 0.03573900984656244 1.9312702517059694\n",
      "P-value (T-test): 3.256947156821697e-70\n",
      "P-value (Mann-Whitney U test): 2.2776689006569123e-28\n"
     ]
    },
    {
     "data": {
      "image/png": "[encoded data removed]",
      "text/plain": [
       "<Figure size 216x216 with 1 Axes>"
      ]
     },
     "metadata": {
      "needs_background": "light"
     },
     "output_type": "display_data"
    },
    {
     "data": {
      "image/png": "[encoded data removed]",
      "text/plain": [
       "<Figure size 216x216 with 1 Axes>"
      ]
     },
     "metadata": {
      "needs_background": "light"
     },
     "output_type": "display_data"
    },
    {
     "data": {
      "image/png": "[encoded data removed]",
      "text/plain": [
       "<Figure size 216x216 with 1 Axes>"
      ]
     },
     "metadata": {
      "needs_background": "light"
     },
     "output_type": "display_data"
    },
    {
     "data": {
      "image/png": "[encoded data removed]",
      "text/plain": [
       "<Figure size 216x216 with 1 Axes>"
      ]
     },
     "metadata": {
      "needs_background": "light"
     },
     "output_type": "display_data"
    }
   ],
   "source": [
    "mtypes = ['A-C', 'A-G', 'A-T', 'C-A', 'C-G', 'C-T', 'G-A', 'G-C', 'G-T', 'T-A', 'T-C', 'T-G']\n",
    "\n",
    "for name0, ratios in zip([\"rmdup\", \"consensus\"], [ratios_rmdup, ratios_consensus]):\n",
    "    for name, (s4u_1, s4u_2), (d1, d2) in params:\n",
    "        print(\"-\" * 80)\n",
    "        print(name0, name, s4u_1, s4u_2, len(d1), len(d2))\n",
    "\n",
    "        xs = np.arange(len(mtypes))\n",
    "        ys1 = [[ratios[(cell, mtype)] * 100 for cell in d1[\"Cell\"]] for mtype in mtypes]\n",
    "        ys2 = [[ratios[(cell, mtype)] * 100 for cell in d2[\"Cell\"]] for mtype in mtypes]\n",
    "\n",
    "        plt.figure(figsize=(3, 3))\n",
    "        box1 = plt.boxplot(ys1, positions=xs - 0.2, widths=0.3, patch_artist=True, \n",
    "                           showcaps=False, \n",
    "                           boxprops={\"facecolor\": \"grey\"},\n",
    "                           medianprops={\"color\": \"black\"},\n",
    "                           showfliers=True, \n",
    "                           flierprops={\"markerfacecolor\": \"grey\", \"markeredgecolor\": \"none\", \"marker\": \".\"})\n",
    "        box2 = plt.boxplot(ys2, positions=xs + 0.2, widths=0.3, patch_artist=True, \n",
    "                           showcaps=False, \n",
    "                           boxprops={\"facecolor\": \"red\"},\n",
    "                           medianprops={\"color\": \"black\"},\n",
    "                           showfliers=True, \n",
    "                           flierprops={\"markerfacecolor\": \"red\", \"markeredgecolor\": \"none\", \"marker\": \".\"})\n",
    "        print(\"Median of T-C ratio (%):\", np.median(ys1[10]), np.median(ys2[10]))\n",
    "        pvalue = ttest_ind(ys1[10], ys2[10])[1]\n",
    "        print(\"P-value (T-test):\", pvalue)\n",
    "        assert pvalue < 0.00001\n",
    "        pvalue = mannwhitneyu(ys1[10], ys2[10])[1]\n",
    "        print(\"P-value (Mann-Whitney U test):\", pvalue)\n",
    "\n",
    "        y = 2.8\n",
    "        if name == \"mESC\":\n",
    "            y = 3.5\n",
    "        plt.plot([10 - 0.5, 10 + 0.5], [y, y], lw=1, color=\"black\")\n",
    "        plt.text(10, y + 0.1, \"***\", va=\"center\", ha=\"center\", size=16)\n",
    "        #plt.title(name)\n",
    "        #plt.text(5, 3.6, name)\n",
    "        plt.ylim(0, 4)\n",
    "        ticks = [\"%s-%s\" % (mt[0], mt[2]) for mt in mtypes]\n",
    "        plt.xticks(xs, ticks, rotation=45)\n",
    "        plt.yticks([0, 1, 2, 3, 4])\n",
    "        plt.gca().spines[\"top\"].set_visible(False)\n",
    "        plt.gca().spines[\"right\"].set_visible(False)\n",
    "        plt.xlabel(\"Conversion type\")\n",
    "        plt.ylabel(\"Conversion ratio (%)\")\n",
    "        patch1 = mpatches.Patch(color='grey', label='%d μM s$^4$U, 3 h (%d)' % (s4u_1, len(d1)))\n",
    "        patch2 = mpatches.Patch(color='red', label='%d μM s$^4$U, 3 h (%d)' % (s4u_2, len(d2)))\n",
    "        plt.legend(loc=\"upper left\", handles=[patch1, patch2], handlelength=1, frameon=False, title=name)\n",
    "        plt.tight_layout()\n",
    "        plt.savefig(\"figures/mismatch_ratio.%s.%s.pdf\" % (name, name0), dpi=300)\n",
    "        # break"
   ]
  },
  {
   "cell_type": "markdown",
   "id": "d8f00eb3",
   "metadata": {},
   "source": [
    "# Mismatch ratio (time)"
   ]
  },
  {
   "cell_type": "code",
   "execution_count": 38,
   "id": "ca96c3a9",
   "metadata": {
    "ExecuteTime": {
     "end_time": "2023-12-19T07:09:46.751003Z",
     "start_time": "2023-12-19T07:09:46.087541Z"
    }
   },
   "outputs": [
    {
     "name": "stdout",
     "output_type": "stream",
     "text": [
      "Cells: [167, 32, 51, 41, 44, 161]\n"
     ]
    },
    {
     "data": {
      "image/png": "[encoded data removed]",
      "text/plain": [
       "<Figure size 252x216 with 1 Axes>"
      ]
     },
     "metadata": {
      "needs_background": "light"
     },
     "output_type": "display_data"
    }
   ],
   "source": [
    "tmp = infos[(infos[\"Strain\"] == \"K562\") & (infos[\"UMIs\"] >= 5000) & (np.isnan(infos[\"ActD\"]))]\n",
    "tmp = tmp[tmp[\"Run\"] != \"20221014_K562R1\"]\n",
    "tmp = tmp[tmp[\"Run\"] != \"20221014_K562R2\"]\n",
    "ds = []\n",
    "ds.append(tmp[(tmp[\"s4U\"] == 0) & (tmp[\"Time\"] == 3)])\n",
    "ds.append(tmp[(tmp[\"s4U\"] == 50) & (tmp[\"Time\"] == 0.25)])\n",
    "ds.append(tmp[(tmp[\"s4U\"] == 50) & (tmp[\"Time\"] == 0.5)])\n",
    "ds.append(tmp[(tmp[\"s4U\"] == 50) & (tmp[\"Time\"] == 1)])\n",
    "ds.append(tmp[(tmp[\"s4U\"] == 50) & (tmp[\"Time\"] == 2)])\n",
    "ds.append(tmp[(tmp[\"s4U\"] == 50) & (tmp[\"Time\"] == 3)])\n",
    "print(\"Cells:\", [len(d) for d in ds])\n",
    "\n",
    "np.random.seed(0)\n",
    "colors = [\"grey\", \"C0\", \"C1\", \"C2\", \"C4\", \"C3\", \"grey\", \"grey\", \"grey\", \"grey\"]\n",
    "w = 0.5\n",
    "plt.figure(figsize=(3.5, 3))\n",
    "for i, d in enumerate(ds):\n",
    "    vs = d[\"TCRatio[Consensus]\"].values * 100\n",
    "    plt.boxplot(vs, positions=[i], widths=w, \n",
    "                showfliers=False, showcaps=False, medianprops={\"color\": \"black\"})\n",
    "    xs = np.random.random(len(vs)) * w - w/2 + i\n",
    "    plt.scatter(xs, vs, marker=\"o\", s=10, color=colors[i])\n",
    "\n",
    "ylim = 4\n",
    "plt.text(0, ylim * 0.85, \"0 μM\", ha=\"center\", va=\"bottom\")\n",
    "plt.text(3, ylim * 0.85, \"50 μM\", ha=\"center\", va=\"bottom\")\n",
    "plt.axvline(0.5, lw=1, ls=\"--\", color=\"grey\")\n",
    "\n",
    "plt.xlabel(\"Labeling time (h)\")\n",
    "plt.ylabel(\"T-to-C conversion ratio (%)\")\n",
    "plt.xticks(np.arange(len(ds)), [\"3\", \"0.25\", \"0.5\", \"1\", \"2\", \"3\"])\n",
    "plt.gca().spines[\"top\"].set_visible(False)\n",
    "plt.gca().spines[\"right\"].set_visible(False)\n",
    "plt.xlim(-0.5, 5.5)\n",
    "plt.ylim(0, ylim)\n",
    "plt.yticks([0, 1, 2, 3, 4])\n",
    "plt.tight_layout()\n",
    "plt.savefig(\"figures/mismatch_ratio.time.pdf\", dpi=300)"
   ]
  },
  {
   "cell_type": "markdown",
   "id": "d23c83b1",
   "metadata": {},
   "source": [
    "# Mismatch ratio (ActD treatment)"
   ]
  },
  {
   "cell_type": "code",
   "execution_count": 2,
   "id": "fdae8209",
   "metadata": {
    "ExecuteTime": {
     "end_time": "2024-03-12T10:55:07.127523Z",
     "start_time": "2024-03-12T10:55:06.116120Z"
    },
    "scrolled": false
   },
   "outputs": [
    {
     "name": "stdout",
     "output_type": "stream",
     "text": [
      "Cells: [167, 161, 68, 63, 81, 59]\n"
     ]
    },
    {
     "data": {
      "image/png": "[encoded data removed]",
      "text/plain": [
       "<Figure size 252x216 with 1 Axes>"
      ]
     },
     "metadata": {
      "needs_background": "light"
     },
     "output_type": "display_data"
    }
   ],
   "source": [
    "mtypes = ['AC', 'AG', 'AT', 'CA', 'CG', 'CT', 'GA', 'GC', 'GT', 'TA', 'TC', 'TG']\n",
    "tmp = infos[(infos[\"Strain\"] == \"K562\") & (infos[\"UMIs\"] >= 5000)]\n",
    "tmp = tmp[tmp[\"Run\"] != \"20221014_K562R1\"] # R10.4.1\n",
    "tmp = tmp[tmp[\"Run\"] != \"20221014_K562R2\"]   \n",
    "ds = list()\n",
    "ds.append(tmp[(tmp[\"s4U\"] == 0) & (tmp[\"Time\"] == 3) & (np.isnan(tmp[\"ActD\"]))])\n",
    "ds.append(tmp[(tmp[\"s4U\"] == 50) & (tmp[\"Time\"] == 3) & (np.isnan(tmp[\"ActD\"]))])\n",
    "ds.append(tmp[(tmp[\"s4U\"] == 0) & (tmp[\"Time\"] == 3) & (tmp[\"ActD\"] == 3)])\n",
    "ds.append(tmp[(tmp[\"s4U\"] == 50) & (tmp[\"Time\"] == 3) & (tmp[\"ActD\"] == 3)])\n",
    "ds.append(tmp[(tmp[\"s4U\"] == 0) & (tmp[\"Time\"] == 3) & (tmp[\"ActD\"] == 6)])\n",
    "ds.append(tmp[(tmp[\"s4U\"] == 50) & (tmp[\"Time\"] == 3) & (tmp[\"ActD\"] == 6)])\n",
    "print(\"Cells:\", [len(d) for d in ds])\n",
    "\n",
    "np.random.seed(0)\n",
    "colors = [\"grey\", \"C3\", \"grey\", \"grey\", \"grey\", \"grey\"]\n",
    "w = 0.5\n",
    "plt.figure(figsize=(3.5, 3))\n",
    "for i, d in enumerate(ds):\n",
    "    vs = d[\"TCRatio\"].values * 100\n",
    "    plt.boxplot(vs, positions=[i], widths=w, \n",
    "                showfliers=False, showcaps=False, medianprops={\"color\": \"black\"})\n",
    "    xs = np.random.random(len(vs)) * w - w/2 + i\n",
    "    plt.scatter(xs, vs, marker=\"o\", s=10, color=colors[i])\n",
    "plt.text(5, 3.7, \"s$^4$U labeling time: 3 h\", ha=\"right\")\n",
    "plt.ylabel(\"T-to-C conversion ratio (%)\")\n",
    "plt.xticks(np.arange(len(ds)), [\"0\", \"50\", \"0\", \"50\", \"0\", \"50\"])\n",
    "plt.xlabel(\"Concentration (μM)\")\n",
    "plt.text(0.5, 3.1, \"ActD (-)\", ha=\"center\")\n",
    "plt.text(2.5, 0.9, \"ActD (+), 3h\", ha=\"center\")\n",
    "plt.text(4.5, 0.9, \"ActD (+), 6h\", ha=\"center\")\n",
    "plt.plot([0 - 0.3, 1 + 0.3], [2.9, 2.9], lw=2, color=\"black\")\n",
    "plt.plot([2 - 0.3, 3 + 0.3], [0.7, 0.7], lw=2, color=\"black\")\n",
    "plt.plot([4 - 0.3, 5 + 0.3], [0.7, 0.7], lw=2, color=\"black\")\n",
    "if False:\n",
    "    for x in [1.5, 3.5]:\n",
    "        plt.plot([x, x], [0, 3.6], lw=1, ls=\"--\", color=\"grey\")\n",
    "    for x, y, pval_marker in zip([0, 2, 4], [2.8, 0.8, 0.8], [\"***\", \"NS\", \"NS\"]):\n",
    "        x1, x2 = x - 0.3, x + 0.3 + 1\n",
    "        y1, y2 = y, y - 0.1\n",
    "        plt.plot([x1, x1], [y1, y2], lw=1, color=\"black\")\n",
    "        plt.plot([x2, x2], [y1, y2], lw=1, color=\"black\")\n",
    "        plt.plot([x1, x2], [y1, y1], lw=1, color=\"black\")\n",
    "        if pval_marker == \"NS\":\n",
    "            plt.text(x + 0.5, y1 + 0.1, pval_marker, ha=\"center\")\n",
    "        else:\n",
    "            plt.text(x + 0.5, y1, pval_marker, ha=\"center\", size=16)\n",
    "plt.gca().spines[\"top\"].set_visible(False)\n",
    "plt.gca().spines[\"right\"].set_visible(False)\n",
    "plt.xlim(-0.5, 5.5)\n",
    "plt.ylim(0, 4)\n",
    "plt.yticks([0, 1, 2, 3, 4])\n",
    "plt.tight_layout()\n",
    "plt.savefig(\"figures/mismatch_ratio.actd.pdf\", dpi=300)"
   ]
  },
  {
   "cell_type": "code",
   "execution_count": 3,
   "id": "1fd4a7d7",
   "metadata": {
    "ExecuteTime": {
     "end_time": "2024-03-12T10:55:12.041601Z",
     "start_time": "2024-03-12T10:55:12.022347Z"
    }
   },
   "outputs": [
    {
     "name": "stdout",
     "output_type": "stream",
     "text": [
      "1.6088384264638316e-79 1.7661615854221625e-19 0.42065541499244563\n"
     ]
    }
   ],
   "source": [
    "pvalue1 = ttest_ind(ds[0][\"TCRatio\"].values, ds[1][\"TCRatio\"].values)[1]\n",
    "pvalue2 = ttest_ind(ds[2][\"TCRatio\"].values, ds[3][\"TCRatio\"].values)[1]\n",
    "pvalue3 = ttest_ind(ds[4][\"TCRatio\"].values, ds[5][\"TCRatio\"].values)[1]\n",
    "print(pvalue1, pvalue2, pvalue3)"
   ]
  },
  {
   "cell_type": "markdown",
   "id": "95290d42",
   "metadata": {},
   "source": [
    "# Mismatch ratio (concentration)"
   ]
  },
  {
   "cell_type": "markdown",
   "id": "d83637e7",
   "metadata": {},
   "source": [
    "## 1. K562"
   ]
  },
  {
   "cell_type": "code",
   "execution_count": 34,
   "id": "6e6847f9",
   "metadata": {
    "ExecuteTime": {
     "end_time": "2023-12-19T07:08:27.038396Z",
     "start_time": "2023-12-19T07:08:26.220459Z"
    }
   },
   "outputs": [
    {
     "name": "stdout",
     "output_type": "stream",
     "text": [
      "Cells:\t[23, 18, 19, 11, 17, 23]\n",
      "Mann-Whitney U test: 0.49561475955411016\n",
      "Mann-Whitney U test: 2.9005409119525837e-08\n",
      "Mann-Whitney U test: 1.8044678039202207e-08\n",
      "Mann-Whitney U test: 1.7557028052633155e-06\n",
      "Mann-Whitney U test: 4.773831934863488e-08\n",
      "Mann-Whitney U test: 3.3184428214986893e-09\n"
     ]
    },
    {
     "data": {
      "image/png": "[encoded data removed]",
      "text/plain": [
       "<Figure size 252x216 with 1 Axes>"
      ]
     },
     "metadata": {
      "needs_background": "light"
     },
     "output_type": "display_data"
    }
   ],
   "source": [
    "tmp = infos[(infos[\"Strain\"] == \"K562\") & (infos[\"Time\"] == 3) & (np.isnan(infos[\"ActD\"])) \\\n",
    "            & (infos[\"UMIs\"] >= 5000) \\\n",
    "            & ((infos[\"Run\"] == \"20221014_K562R1\") | (infos[\"Run\"] == \"20221014_K562R2\"))]\n",
    "ds = []\n",
    "ds.append(tmp[tmp[\"s4U\"] == 0])\n",
    "ds.append(tmp[tmp[\"s4U\"] == 50])\n",
    "ds.append(tmp[tmp[\"s4U\"] == 100])\n",
    "ds.append(tmp[tmp[\"s4U\"] == 200])\n",
    "ds.append(tmp[tmp[\"s4U\"] == 400])\n",
    "ds.append(tmp[tmp[\"s4U\"] == 500])\n",
    "print(\"Cells:\", [len(d) for d in ds], sep=\"\\t\")\n",
    "\n",
    "np.random.seed(0)\n",
    "colors = [\"grey\", \"C0\", \"C1\", \"C2\", \"C4\", \"C3\", \"grey\", \"grey\", \"grey\", \"grey\"]\n",
    "w = 0.5\n",
    "plt.figure(figsize=(3.5, 3))\n",
    "for i, d in enumerate(ds):\n",
    "    vs = d[\"TCRatio[Consensus]\"].values * 100\n",
    "    if True:\n",
    "        vs0 = ds[0][\"TCRatio[Consensus]\"].values * 100\n",
    "        pvalue = mannwhitneyu(vs0, vs)[1]\n",
    "        print(\"Mann-Whitney U test:\", pvalue)\n",
    "    plt.boxplot(vs, positions=[i], widths=w, \n",
    "                showfliers=False, showcaps=False, medianprops={\"color\": \"black\"})\n",
    "    xs = np.random.random(len(vs)) * 0.4 - 0.2 + i\n",
    "    plt.scatter(xs, vs, marker=\"o\", s=10, color=colors[i])\n",
    "plt.text(0, 3.5, \"Nanopore R10.4.1\")\n",
    "plt.text(0, 3.1, \"s$^4$U labeling time: 3 h\", ha=\"left\")\n",
    "plt.xlabel(\"Concentration (μM)\")\n",
    "plt.ylabel(\"T-to-C conversion ratio (%)\")\n",
    "plt.xticks(np.arange(len(ds)), [\"0\", \"50\", \"100\", \"200\", \"400\", \"500\"])\n",
    "plt.gca().spines[\"top\"].set_visible(False)\n",
    "plt.gca().spines[\"right\"].set_visible(False)\n",
    "plt.xlim(-0.5, 5.5)\n",
    "plt.ylim(-0.0, 4)\n",
    "plt.yticks([0, 1, 2, 3, 4])\n",
    "plt.tight_layout()\n",
    "plt.savefig(\"figures/mismatch_ratio.concentration.pdf\", dpi=300)"
   ]
  },
  {
   "cell_type": "code",
   "execution_count": 35,
   "id": "dc7fd81e",
   "metadata": {
    "ExecuteTime": {
     "end_time": "2023-12-19T07:08:38.519459Z",
     "start_time": "2023-12-19T07:08:38.496960Z"
    }
   },
   "outputs": [
    {
     "name": "stdout",
     "output_type": "stream",
     "text": [
      "Mann-Whitney U test: 2.9005409119525837e-08\n",
      "Mann-Whitney U test: 0.4936819537906939\n",
      "Mann-Whitney U test: 9.86729874215723e-05\n",
      "Mann-Whitney U test: 0.002852957644468009\n",
      "Mann-Whitney U test: 1.7658801908600934e-06\n",
      "Mann-Whitney U test: 1.2208227671329583e-07\n"
     ]
    }
   ],
   "source": [
    "for i, d in enumerate(ds):\n",
    "    vs0 = ds[1][\"TCRatio\"].values * 100\n",
    "    vs1 = ds[i][\"TCRatio\"].values * 100\n",
    "    pvalue = mannwhitneyu(vs0, vs1)[1]\n",
    "    print(\"Mann-Whitney U test:\", pvalue)"
   ]
  },
  {
   "cell_type": "markdown",
   "id": "d7f629eb",
   "metadata": {},
   "source": [
    "## 2. mESC\n",
    "\n",
    "    只有0，50和400uM的浓度"
   ]
  },
  {
   "cell_type": "code",
   "execution_count": 36,
   "id": "7d17da45",
   "metadata": {
    "ExecuteTime": {
     "end_time": "2023-12-19T07:09:05.788684Z",
     "start_time": "2023-12-19T07:09:05.739030Z"
    }
   },
   "outputs": [
    {
     "name": "stdout",
     "output_type": "stream",
     "text": [
      "64\t82\t0\t0\t42\t0\n"
     ]
    }
   ],
   "source": [
    "tmp = infos[(infos[\"Strain\"] == \"mESC\") \\\n",
    "          & (infos[\"Platform\"] == \"R10\") \\\n",
    "          & (infos[\"Cells\"] == 1) \\\n",
    "          & (infos[\"UMI\"] == 20) \\\n",
    "          & (infos[\"LibStruct\"] == \"struct2\")]\n",
    "d1 = tmp[(tmp[\"s4U\"] == 0) & (tmp[\"Time\"] == 3) & (np.isnan(tmp[\"ActD\"]))]\n",
    "d2 = tmp[(tmp[\"s4U\"] == 50) & (tmp[\"Time\"] == 3) & (np.isnan(tmp[\"ActD\"]))]\n",
    "d3 = tmp[(tmp[\"s4U\"] == 100) & (tmp[\"Time\"] == 3) & (np.isnan(tmp[\"ActD\"]))]\n",
    "d4 = tmp[(tmp[\"s4U\"] == 200) & (tmp[\"Time\"] == 3) & (np.isnan(tmp[\"ActD\"]))]\n",
    "d5 = tmp[(tmp[\"s4U\"] == 400) & (tmp[\"Time\"] == 3) & (np.isnan(tmp[\"ActD\"]))]\n",
    "d6 = tmp[(tmp[\"s4U\"] == 500) & (tmp[\"Time\"] == 3) & (np.isnan(tmp[\"ActD\"]))]\n",
    "ds = [d1, d2, d3, d4, d5, d6]\n",
    "print(len(d1), len(d2), len(d3), len(d4), len(d5), len(d6), sep=\"\\t\")"
   ]
  }
 ],
 "metadata": {
  "kernelspec": {
   "display_name": "Python 3",
   "language": "python",
   "name": "python3"
  },
  "language_info": {
   "codemirror_mode": {
    "name": "ipython",
    "version": 3
   },
   "file_extension": ".py",
   "mimetype": "text/x-python",
   "name": "python",
   "nbconvert_exporter": "python",
   "pygments_lexer": "ipython3",
   "version": "3.6.15"
  }
 },
 "nbformat": 4,
 "nbformat_minor": 5
}
