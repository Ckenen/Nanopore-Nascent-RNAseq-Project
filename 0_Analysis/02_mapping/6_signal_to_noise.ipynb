{
 "cells": [
  {
   "cell_type": "code",
   "execution_count": 1,
   "id": "ffe88bc7",
   "metadata": {
    "ExecuteTime": {
     "end_time": "2024-03-04T02:03:18.726154Z",
     "start_time": "2024-03-04T02:03:16.891511Z"
    }
   },
   "outputs": [],
   "source": [
    "import numpy as np\n",
    "import pandas as pd\n",
    "import matplotlib.pyplot as plt"
   ]
  },
  {
   "cell_type": "markdown",
   "id": "637db727",
   "metadata": {},
   "source": [
    "# Signal-to-noise of cell lines"
   ]
  },
  {
   "cell_type": "code",
   "execution_count": 6,
   "id": "fbb232b6",
   "metadata": {
    "ExecuteTime": {
     "end_time": "2023-12-20T08:44:39.524093Z",
     "start_time": "2023-12-20T08:44:38.201302Z"
    }
   },
   "outputs": [
    {
     "name": "stdout",
     "output_type": "stream",
     "text": [
      "97 89\n",
      "22 39\n"
     ]
    }
   ],
   "source": [
    "data = dict()\n",
    "\n",
    "runs = [\"20220719_K562R1\", \"20220719_K562R2\", \"20220719_K562R3\", \"20220719_K562R4\", \"20220729_K562R1\", \"20220729_K562R2\"]\n",
    "d = pd.read_excel(\"../../1_NanoNASCseq/data/NanoNASCseq_summary_selected.xls\")\n",
    "d = d[[x in runs for x in d[\"Run\"]]]\n",
    "d1 = d[(d[\"Strain\"] == \"K562\") & (d[\"s4U\"] == 0) & (d[\"Time\"] == 3) & (d[\"ActD\"].isna()) & (d[\"UMIs\"] >= 5000)]\n",
    "d2 = d[(d[\"Strain\"] == \"K562\") & (d[\"s4U\"] == 50) & (d[\"Time\"] == 3) & (d[\"ActD\"].isna()) & (d[\"UMIs\"] >= 5000) & (d[\"TCRatio\"] >= 0.008)]\n",
    "print(len(d1), len(d2))\n",
    "data[\"K562,0uM,3h\"] = d1[[\"Pe\", \"Pc\", \"Pc/Pe\"]]\n",
    "data[\"K562,50uM,3h\"] = d2[[\"Pe\", \"Pc\", \"Pc/Pe\"]]\n",
    "\n",
    "runs = [\"20220818_mESCR1\", \"20220818_mESCR2\", \"20220818_mESCR3\"]\n",
    "d = pd.read_excel(\"../../1_NanoNASCseq/data/NanoNASCseq_summary_selected.xls\")\n",
    "d = d[[x in runs for x in d[\"Run\"]]]\n",
    "d1 = d[(d[\"Strain\"] == \"mESC\") & (d[\"s4U\"] == 0) & (d[\"Time\"] == 3) & (d[\"ActD\"].isna()) & (d[\"UMIs\"] >= 5000)]\n",
    "d2 = d[(d[\"Strain\"] == \"mESC\") & (d[\"s4U\"] == 400) & (d[\"Time\"] == 3) & (d[\"ActD\"].isna()) & (d[\"UMIs\"] >= 5000) & (d[\"TCRatio\"] >= 0.01)]\n",
    "print(len(d1), len(d2))\n",
    "data[\"mESC,0uM,3h\"] = d1[[\"Pe\", \"Pc\", \"Pc/Pe\"]]\n",
    "data[\"mESC,400uM,3h\"] = d2[[\"Pe\", \"Pc\", \"Pc/Pe\"]]"
   ]
  },
  {
   "cell_type": "code",
   "execution_count": 25,
   "id": "dd1f95e9",
   "metadata": {
    "ExecuteTime": {
     "end_time": "2023-12-20T08:54:11.801065Z",
     "start_time": "2023-12-20T08:54:07.133366Z"
    }
   },
   "outputs": [
    {
     "data": {
      "image/png": "[encoded data removed]",
      "text/plain": [
       "<Figure size 403.2x216 with 3 Axes>"
      ]
     },
     "metadata": {
      "needs_background": "light"
     },
     "output_type": "display_data"
    },
    {
     "data": {
      "image/png": "[encoded data removed]",
      "text/plain": [
       "<Figure size 403.2x216 with 3 Axes>"
      ]
     },
     "metadata": {
      "needs_background": "light"
     },
     "output_type": "display_data"
    }
   ],
   "source": [
    "for strain in [\"K562\", \"mESC\"]:\n",
    "    if strain == \"K562\":\n",
    "        s4u = 50\n",
    "        d1 = data[\"K562,0uM,3h\"]\n",
    "        d2 = data[\"K562,50uM,3h\"]\n",
    "        ticks = [\"0 μM\", \"50 μM\"]\n",
    "    else:\n",
    "        s4u = 400\n",
    "        d1 = data[\"mESC,0uM,3h\"]\n",
    "        d2 = data[\"mESC,400uM,3h\"]\n",
    "        ticks = [\"0 μM\", \"400 μM\"]\n",
    "        \n",
    "    d1 = d1[~(d1[\"Pe\"].isna() | d1[\"Pc\"].isna())]\n",
    "    d2 = d2[~(d2[\"Pe\"].isna() | d2[\"Pc\"].isna())]\n",
    "        \n",
    "    np.random.seed(0)\n",
    "\n",
    "    pc1, pe1 = d1[\"Pc\"], d1[\"Pe\"]\n",
    "    pc2, pe2 = d2[\"Pc\"], d2[\"Pe\"]\n",
    "    \n",
    "    colors = [\"grey\", \"red\"]\n",
    "    \n",
    "    w = 0.6\n",
    "        \n",
    "    fig, axs = plt.subplots(1, 3, figsize=(5.6, 3))\n",
    "    fig.suptitle(strain)\n",
    "    \n",
    "    plt.sca(axs[0])\n",
    "    ys_list = [pe1, pe2]\n",
    "    plt.boxplot(ys_list, positions=[0, 1], widths=w, \n",
    "                showcaps=False, showfliers=False, medianprops={\"color\": \"black\"})\n",
    "    for x, ys in enumerate(ys_list):\n",
    "        xs = np.random.rand(len(ys)) * w + x - w/2\n",
    "        plt.scatter(xs, ys, marker=\".\", color=colors[x])\n",
    "    plt.gca().set_yscale(\"log\")\n",
    "    plt.xticks([0, 1], ticks)\n",
    "    plt.ylim(0.00001, 0.1)\n",
    "    plt.ylabel(\"P$_e$\")\n",
    "    \n",
    "    plt.sca(axs[1])\n",
    "    ys_list = [pc1, pc2]\n",
    "    plt.boxplot(ys_list, positions=[0, 1], widths=w, \n",
    "                showcaps=False, showfliers=False, medianprops={\"color\": \"black\"})\n",
    "    for x, ys in enumerate(ys_list):\n",
    "        xs = np.random.rand(len(ys)) * w + x - w/2\n",
    "        plt.scatter(xs, ys, marker=\".\", color=colors[x])\n",
    "    plt.gca().set_yscale(\"log\")\n",
    "    plt.xticks([0, 1], ticks)\n",
    "    plt.ylim(0.00001, 0.1)\n",
    "    plt.ylabel(\"P$_c$\")\n",
    "    \n",
    "    plt.sca(axs[2])\n",
    "    ys_list = [pc1 / pe1, pc2 / pe2]\n",
    "    plt.boxplot(ys_list, positions=[0, 1], widths=w, \n",
    "                showcaps=False, showfliers=False, medianprops={\"color\": \"black\"})\n",
    "    for x, ys in enumerate(ys_list):\n",
    "        xs = np.random.rand(len(ys)) * w + x - w/2\n",
    "        plt.scatter(xs, ys, marker=\".\", color=colors[x])\n",
    "    plt.text(0, 20, \"%.2f\" % np.median(ys_list[0]), ha=\"center\")\n",
    "    # plt.gca().set_yscale(\"log\")\n",
    "    plt.xticks([0, 1], ticks)\n",
    "    plt.ylim(0, 400)\n",
    "    plt.ylabel(\"P$_c$/P$_e$\")\n",
    "    \n",
    "    plt.tight_layout()\n",
    "    plt.savefig(\"figures/signal_to_noise.%s.pdf\" % strain, dpi=300)\n",
    "    # break"
   ]
  },
  {
   "cell_type": "markdown",
   "id": "070329eb",
   "metadata": {},
   "source": [
    "# Comparison"
   ]
  },
  {
   "cell_type": "code",
   "execution_count": 2,
   "id": "d8e3242c",
   "metadata": {
    "ExecuteTime": {
     "end_time": "2024-03-04T02:03:22.710657Z",
     "start_time": "2024-03-04T02:03:21.392579Z"
    }
   },
   "outputs": [
    {
     "name": "stdout",
     "output_type": "stream",
     "text": [
      "97 89\n"
     ]
    }
   ],
   "source": [
    "data = dict()\n",
    "\n",
    "runs = [\"20220719_K562R1\", \"20220719_K562R2\", \"20220719_K562R3\", \"20220719_K562R4\", \"20220729_K562R1\", \"20220729_K562R2\"]\n",
    "d = pd.read_excel(\"../../1_NanoNASCseq/data/NanoNASCseq_summary_selected.xls\")\n",
    "d = d[[x in runs for x in d[\"Run\"]]]\n",
    "d1 = d[(d[\"Strain\"] == \"K562\") & (d[\"s4U\"] == 0) & (d[\"Time\"] == 3) & (d[\"ActD\"].isna()) & (d[\"UMIs\"] >= 5000)]\n",
    "d2 = d[(d[\"Strain\"] == \"K562\") & (d[\"s4U\"] == 50) & (d[\"Time\"] == 3) & (d[\"ActD\"].isna()) & (d[\"UMIs\"] >= 5000) & (d[\"TCRatio\"] >= 0.008)]\n",
    "print(len(d1), len(d2))\n",
    "data[\"NanoNASC-seq,0uM,3h\"] = d1[[\"Pe\", \"Pc\", \"Pc/Pe\"]]\n",
    "data[\"NanoNASC-seq,50uM,3h\"] = d2[[\"Pe\", \"Pc\", \"Pc/Pe\"]]"
   ]
  },
  {
   "cell_type": "code",
   "execution_count": 3,
   "id": "959c9b07",
   "metadata": {
    "ExecuteTime": {
     "end_time": "2024-03-04T02:03:32.089021Z",
     "start_time": "2024-03-04T02:03:25.452572Z"
    }
   },
   "outputs": [
    {
     "name": "stdout",
     "output_type": "stream",
     "text": [
      "37 36 16 80 142\n"
     ]
    }
   ],
   "source": [
    "def load_pc(d):\n",
    "    array = []\n",
    "    for run, cell in d[[\"Run\", \"Cell\"]].values:\n",
    "        path = \"../../2_NASCseq/results/mismatch/pc/%s/%s.tsv\" % (run, cell)\n",
    "        m = pd.read_csv(path, sep=\"\\t\", header=0)\n",
    "        array.append(m)\n",
    "    return pd.concat(array)\n",
    "\n",
    "d = pd.read_excel(\"../../2_NASCseq/data/NASCseq.xlsx\")\n",
    "d1 = d[(d[\"Strain\"] == \"K562\") & (d[\"s4U\"] == 0) & (d[\"Time\"] == 3) & (d[\"Layout\"] == \"PE\") & (d[\"Cells\"] == 1)]\n",
    "d2 = d[(d[\"Strain\"] == \"K562\") & (d[\"s4U\"] == 50) & (d[\"Time\"] == 3) & (d[\"Layout\"] == \"PE\") & (d[\"Cells\"] == 1)]\n",
    "d3 = d[(d[\"Strain\"] == \"K562\") & (d[\"s4U\"] == 0) & (d[\"Time\"] == 3) & (d[\"Layout\"] == \"SE\")]\n",
    "d4 = d[(d[\"Strain\"] == \"K562\") & (d[\"s4U\"] == 50) & (d[\"Time\"] == 3) & (d[\"Layout\"] == \"SE\")]\n",
    "d5 = d[(d[\"Strain\"] == \"K562\") & (d[\"s4U\"] == 50) & (d[\"Time\"] == 1) & (d[\"Layout\"] == \"PE\") & (d[\"Run\"] == \"GSE128273_NASCseq_K562\")]\n",
    "d1 = load_pc(d1)\n",
    "d2 = load_pc(d2)\n",
    "d3 = load_pc(d3)\n",
    "d4 = load_pc(d4)\n",
    "d5 = load_pc(d5)\n",
    "print(len(d1), len(d2), len(d3), len(d4), len(d5))\n",
    "data[\"NASC-seq,0uM,3h\"] = d1\n",
    "data[\"NASC-seq,50uM,3h\"] = d2\n",
    "data[\"GSE128273,0uM,3h,SE\"] = d3\n",
    "data[\"GSE128273,50uM,3h,SE\"] = d4\n",
    "data[\"GSE128273,50uM,1h\"] = d5"
   ]
  },
  {
   "cell_type": "code",
   "execution_count": 17,
   "id": "713f39b4",
   "metadata": {
    "ExecuteTime": {
     "end_time": "2024-03-04T02:11:12.748053Z",
     "start_time": "2024-03-04T02:11:12.065497Z"
    },
    "scrolled": false
   },
   "outputs": [
    {
     "name": "stdout",
     "output_type": "stream",
     "text": [
      "--------------------------------------------------------------------------------\n",
      "Mean: 1.249960549887823\n",
      "Median: 1.2880530758767597\n",
      "--------------------------------------------------------------------------------\n",
      "Mean: 14.609715495261689\n",
      "Median: 11.676636410716945\n",
      "--------------------------------------------------------------------------------\n",
      "Mean: 34.460640862643956\n",
      "Median: 35.90751311020196\n",
      "--------------------------------------------------------------------------------\n",
      "Mean: 1.1790133604920494\n",
      "Median: 1.1652634787299108\n",
      "--------------------------------------------------------------------------------\n",
      "Mean: 66.65255922875502\n",
      "Median: 68.32947360518317\n",
      "--------------------------------------------------------------------------------\n",
      "Mean: 1.0817475598444197\n",
      "Median: 1.081532254849392\n",
      "--------------------------------------------------------------------------------\n",
      "Mean: 199.27246219026375\n",
      "Median: 192.97012205137975\n"
     ]
    },
    {
     "data": {
      "image/png": "[encoded data removed]",
      "text/plain": [
       "<Figure size 244.8x216 with 1 Axes>"
      ]
     },
     "metadata": {
      "needs_background": "light"
     },
     "output_type": "display_data"
    }
   ],
   "source": [
    "array = []\n",
    "\n",
    "ys = data[\"GSE128273,0uM,3h,SE\"][\"Pc/Pe\"]\n",
    "array.append(ys[~ys.isna()])\n",
    "ys = data[\"GSE128273,50uM,1h\"][\"Pc/Pe\"]\n",
    "array.append(ys[~ys.isna()])\n",
    "ys = data[\"GSE128273,50uM,3h,SE\"][\"Pc/Pe\"]\n",
    "array.append(ys[~ys.isna()])\n",
    "\n",
    "ys = data[\"NASC-seq,0uM,3h\"][\"Pc/Pe\"]\n",
    "array.append(ys[~ys.isna()])\n",
    "ys = data[\"NASC-seq,50uM,3h\"][\"Pc/Pe\"]\n",
    "array.append(ys[~ys.isna()])\n",
    "\n",
    "ys = data[\"NanoNASC-seq,0uM,3h\"][\"Pc/Pe\"]\n",
    "array.append(ys[~ys.isna()])\n",
    "ys = data[\"NanoNASC-seq,50uM,3h\"][\"Pc/Pe\"]\n",
    "array.append(ys[~ys.isna()])\n",
    "\n",
    "\n",
    "\n",
    "colors = [\"grey\", \"red\", \"red\", \"grey\", \"red\", \"grey\", \"red\"]\n",
    "\n",
    "plt.figure(figsize=(3.4, 3))\n",
    "# plt.boxplot(array, showcaps=False, showfliers=False)\n",
    "\n",
    "w = 0.5\n",
    "\n",
    "text_ys = [10, 50, 80, 10, 100, 10, 390]\n",
    "\n",
    "for i, ys in enumerate(array):\n",
    "    print(\"-\" * 80)\n",
    "    print(\"Mean:\", np.mean(ys))\n",
    "    print(\"Median:\", np.median(ys))\n",
    "    plt.boxplot([array[i]], positions=[i], widths=w, patch_artist=True, \n",
    "        showcaps=False, \n",
    "        boxprops={\"facecolor\": colors[i]},\n",
    "        medianprops={\"color\": \"black\"},\n",
    "        showfliers=False, \n",
    "        flierprops={\"markerfacecolor\": colors[i], \"markeredgecolor\": \"none\", \"marker\": \".\"})\n",
    "    plt.text(i, text_ys[i], round(np.median(ys), 1), ha=\"center\")\n",
    "plt.xticks([0, 1, 2, 3, 4, 5, 6], [\"0\\n3\", \"50\\n1\", \"50\\n3\", \"0\\n3\", \"50\\n3\", \"0\\n3\", \"50\\n3\"])\n",
    "plt.axvline(2.5, lw=1, ls=\"--\", color=\"grey\")\n",
    "plt.axvline(4.5, lw=1, ls=\"--\", color=\"grey\")\n",
    "\n",
    "plt.text(0, 390, \"NASC-seq (Hendriks et al.)\", rotation=90, va=\"top\", ha=\"center\")\n",
    "plt.text(3, 390, \"NASC-seq\", rotation=90, va=\"top\", ha=\"center\")\n",
    "plt.text(5, 390, \"scNanoNascentRNA-seq\", rotation=90, va=\"top\", ha=\"center\")\n",
    "\n",
    "plt.text(6.4, -33, \"(μM)\")\n",
    "plt.text(6.4, -65, \"(h)\")\n",
    "plt.xlim(-0.5, 7)\n",
    "plt.ylim(0, 400)\n",
    "plt.xlabel(\"Treatment conditions\")\n",
    "plt.ylabel(\"Signal-to-noise (P$_c$/P$_e$)\")\n",
    "plt.gca().spines[\"top\"].set_visible(False)\n",
    "plt.gca().spines[\"right\"].set_visible(False)\n",
    "plt.tight_layout()\n",
    "plt.savefig(\"figures/comparison.pc_pe.pdf\", dpi=300)"
   ]
  },
  {
   "cell_type": "code",
   "execution_count": null,
   "id": "49e7cbde",
   "metadata": {},
   "outputs": [],
   "source": []
  }
 ],
 "metadata": {
  "kernelspec": {
   "display_name": "Python 3",
   "language": "python",
   "name": "python3"
  },
  "language_info": {
   "codemirror_mode": {
    "name": "ipython",
    "version": 3
   },
   "file_extension": ".py",
   "mimetype": "text/x-python",
   "name": "python",
   "nbconvert_exporter": "python",
   "pygments_lexer": "ipython3",
   "version": "3.6.15"
  }
 },
 "nbformat": 4,
 "nbformat_minor": 5
}
