{
 "cells": [
  {
   "cell_type": "code",
   "execution_count": 1,
   "id": "bac9eafa",
   "metadata": {
    "ExecuteTime": {
     "end_time": "2024-03-04T02:12:14.526627Z",
     "start_time": "2024-03-04T02:12:10.825981Z"
    }
   },
   "outputs": [],
   "source": [
    "import glob\n",
    "import numpy as np\n",
    "import pandas as pd\n",
    "import matplotlib.pyplot as plt\n",
    "from scipy.stats import ttest_ind_from_stats, ttest_ind\n",
    "runs = [\"20220719_K562R1\", \"20220719_K562R2\", \"20220719_K562R3\", \"20220719_K562R4\", \"20220729_K562R1\", \"20220729_K562R2\"]\n",
    "info = pd.read_excel(\"../../1_NanoNASCseq/data/NanoNASCseq.xls\")"
   ]
  },
  {
   "cell_type": "markdown",
   "id": "8b83dee2",
   "metadata": {},
   "source": [
    "# Yield of data processing\n",
    "\n",
    "说明从测序得到的reads到最终可用的reads的比例变化"
   ]
  },
  {
   "cell_type": "code",
   "execution_count": 2,
   "id": "c749aacf",
   "metadata": {
    "ExecuteTime": {
     "end_time": "2024-03-04T02:12:26.364799Z",
     "start_time": "2024-03-04T02:12:15.848136Z"
    }
   },
   "outputs": [],
   "source": [
    "rows = []\n",
    "for run in runs:\n",
    "    tmp = info[info[\"Run\"] == run]\n",
    "    \n",
    "    path = \"../../1_NanoNASCseq/results/demux/splitted/%s/stats.tsv\" % run\n",
    "    d = pd.read_csv(path, sep=\"\\t\", index_col=0)\n",
    "    total = d[\"Total\"].values[0]\n",
    "    assigned = d[\"Assigned\"].values[0]\n",
    "\n",
    "    trimmed = 0\n",
    "    for cell in tmp[\"Cell\"]:\n",
    "        path = \"../../1_NanoNASCseq/results/demux/trimmed/%s/%s.log\" % (run, cell)\n",
    "        with open(path) as f:\n",
    "            for line in f:\n",
    "                if line.startswith(\"Pass\"):\n",
    "                    trimmed += int(line.split()[1])\n",
    "\n",
    "    mapped = 0\n",
    "    for cell in tmp[\"Cell\"]:\n",
    "        path = \"../../1_NanoNASCseq/results/mapping/minimap2/%s/%s.flagstat\" % (run, cell)\n",
    "        with open(path) as f:\n",
    "            for line in f:\n",
    "                if \"primary mapped\" in line:\n",
    "                    mapped += int(line.split()[0])\n",
    "\n",
    "    filtered = 0\n",
    "    for cell in tmp[\"Cell\"]:\n",
    "        path = \"../../1_NanoNASCseq/results/mapping/processed/%s/%s.log\" % (run, cell)\n",
    "        filtered += int(open(path).readlines()[-1].split()[0])\n",
    "\n",
    "    row = [run, total, assigned, trimmed, mapped, filtered]\n",
    "    rows.append(row)\n",
    "\n",
    "dat = pd.DataFrame(rows)\n",
    "dat.columns = [\"Run\", \"TotalReads\", \"AssignedReads\", \"TrimmedReads\", \"MappedReads\", \"FilteredReads\"]\n",
    "for c in dat.columns[1:]:\n",
    "    dat[\"%s[%%]\" % c] = dat[c] * 100 / dat[\"TotalReads\"]"
   ]
  },
  {
   "cell_type": "code",
   "execution_count": 16,
   "id": "3195cea7",
   "metadata": {
    "ExecuteTime": {
     "end_time": "2024-03-04T02:15:13.985959Z",
     "start_time": "2024-03-04T02:15:13.506345Z"
    }
   },
   "outputs": [
    {
     "name": "stdout",
     "output_type": "stream",
     "text": [
      "TotalReads[%]       100.000000\n",
      "AssignedReads[%]     68.028429\n",
      "TrimmedReads[%]      47.655145\n",
      "MappedReads[%]       47.304074\n",
      "FilteredReads[%]     39.297232\n",
      "dtype: float64\n",
      "TotalReads[%]       0.000000\n",
      "AssignedReads[%]    5.627822\n",
      "TrimmedReads[%]     5.731915\n",
      "MappedReads[%]      5.712007\n",
      "FilteredReads[%]    4.754620\n",
      "dtype: float64\n"
     ]
    },
    {
     "data": {
      "image/png": "[encoded data removed]",
      "text/plain": [
       "<Figure size 374.4x216 with 1 Axes>"
      ]
     },
     "metadata": {
      "needs_background": "light"
     },
     "output_type": "display_data"
    }
   ],
   "source": [
    "d = dat[dat.columns[-5:]]\n",
    "ys = d.mean(axis=0)\n",
    "yerr = d.std(axis=0)\n",
    "print(ys)\n",
    "print(yerr)\n",
    "xs = np.arange(len(ys))\n",
    "# colors = [\"C%d\" % x for x in xs]\n",
    "colors = [\"C0\", \"C7\", \"C7\", \"C7\", \"C2\"]\n",
    "ticks = [\"FlowCell\", \"Assigned\", \"Trimmed\", \"Mapped\", \"Filtered\", \n",
    "         \"ScNaUmi-seq\", \"scCOLOR-seq\", \"SCAN-seq2\"]\n",
    "w = 0.3\n",
    "\n",
    "# ScNaUMI-seq: N = 8\n",
    "# scCOLOR-seq: N = 6\n",
    "# sci-fate: 二代的方法\n",
    "# SCAN-seq: 下载到的是拆分好的数据，无法计算产率\n",
    "# SCAN-seq2: N = 4\n",
    "\n",
    "plt.figure(figsize=(5.2, 3))\n",
    "plt.bar(xs, ys, yerr=yerr, edgecolor=\"black\", width=w, lw=1, color=colors, clip_on=False, \n",
    "        error_kw={\"lw\": 1, \"capsize\": 3})\n",
    "\n",
    "plt.bar([5, 6, 7], [29.4576, 7.345930, 42.048725], yerr=[4.598, 2.644300, 8.449762], color=[\"C4\", \"C6\", \"C9\"], \n",
    "        width=w, lw=1, edgecolor=\"black\", error_kw={\"lw\": 1, \"capsize\": 4})\n",
    "plt.text(5, 40, \"n = 8\", ha=\"center\")\n",
    "plt.text(6, 18, \"n = 6\", ha=\"center\")\n",
    "plt.text(7, 58, \"n = 4\", ha=\"center\")\n",
    "plt.text(3, 70, \"n = %d\" % len(d), ha=\"center\")\n",
    "\n",
    "plt.text(1, 90, \"scNanoNascentRNA-seq\", ha=\"left\")\n",
    "plt.text(4.8, 90, \"Other technologies\", ha=\"left\")\n",
    "\n",
    "plt.axvline(4.5, lw=1, ls=\"--\", color=\"grey\")\n",
    "plt.ylabel(\"% of recovered reads\")\n",
    "plt.xticks(np.arange(len(ticks)), ticks, rotation=30)\n",
    "plt.xlim(-0.5, 7.5)\n",
    "plt.ylim(0, 100)\n",
    "plt.gca().spines[\"top\"].set_visible(False)\n",
    "plt.gca().spines[\"right\"].set_visible(False)\n",
    "plt.tight_layout()\n",
    "plt.savefig(\"figures/filter_proportion.pdf\", dpi=300)"
   ]
  },
  {
   "cell_type": "code",
   "execution_count": 5,
   "id": "21025984",
   "metadata": {
    "ExecuteTime": {
     "end_time": "2023-12-19T06:48:13.796039Z",
     "start_time": "2023-12-19T06:48:13.740244Z"
    }
   },
   "outputs": [
    {
     "name": "stdout",
     "output_type": "stream",
     "text": [
      "NanoNASC-seq vs. ScNaUmi-seq:\n",
      "Ttest_indResult(statistic=4.055578194558875, pvalue=0.0015942974735738314)\n",
      "NanoNASC-seq vs. scCOLOR-seq:\n",
      "Ttest_indResult(statistic=15.399036601182662, pvalue=2.715967587468202e-08)\n",
      "NanoNASC-seq vs. SCAN-seq2:\n",
      "Ttest_indResult(statistic=-0.6865461810738009, pvalue=0.5117735636791099)\n"
     ]
    }
   ],
   "source": [
    "ratios = d[\"FilteredReads[%]\"].values\n",
    "print(\"NanoNASC-seq vs. ScNaUmi-seq:\")\n",
    "print(ttest_ind_from_stats(np.mean(ratios), np.std(ratios), len(ratios), 29.4576, 4.598, 8))\n",
    "print(\"NanoNASC-seq vs. scCOLOR-seq:\")\n",
    "print(ttest_ind_from_stats(np.mean(ratios), np.std(ratios), len(ratios), 7.345930, 2.644300, 6))\n",
    "print(\"NanoNASC-seq vs. SCAN-seq2:\")\n",
    "print(ttest_ind_from_stats(np.mean(ratios), np.std(ratios), len(ratios), 42.048725, 8.449762, 4))"
   ]
  }
 ],
 "metadata": {
  "kernelspec": {
   "display_name": "Python 3",
   "language": "python",
   "name": "python3"
  },
  "language_info": {
   "codemirror_mode": {
    "name": "ipython",
    "version": 3
   },
   "file_extension": ".py",
   "mimetype": "text/x-python",
   "name": "python",
   "nbconvert_exporter": "python",
   "pygments_lexer": "ipython3",
   "version": "3.6.15"
  }
 },
 "nbformat": 4,
 "nbformat_minor": 5
}
