{
 "cells": [
  {
   "cell_type": "code",
   "execution_count": 1,
   "id": "35a62272",
   "metadata": {
    "ExecuteTime": {
     "end_time": "2023-12-19T07:58:33.652278Z",
     "start_time": "2023-12-19T07:58:32.933786Z"
    }
   },
   "outputs": [],
   "source": [
    "import glob\n",
    "from collections import defaultdict\n",
    "import numpy as np\n",
    "import pandas as pd\n",
    "import matplotlib.pyplot as plt"
   ]
  },
  {
   "cell_type": "code",
   "execution_count": 2,
   "id": "912921b3",
   "metadata": {
    "ExecuteTime": {
     "end_time": "2023-12-19T07:58:41.619328Z",
     "start_time": "2023-12-19T07:58:33.655613Z"
    }
   },
   "outputs": [
    {
     "name": "stdout",
     "output_type": "stream",
     "text": [
      "58\n"
     ]
    }
   ],
   "source": [
    "data = defaultdict(list)\n",
    "n = 0\n",
    "for path in sorted(glob.glob(\"../../1_NanoNASCseq/results/consensus/consensus_accuracy/20220719_K562R3/*/summary.tsv\")):\n",
    "    d = pd.read_csv(path, sep=\"\\t\", header=0, index_col=0)\n",
    "    if len(d) >= 5000:\n",
    "        n += 1\n",
    "        for size, accuracy in d[[\"Size\", \"Accuracy\"]].values:\n",
    "            data[size].append(accuracy)\n",
    "print(n)"
   ]
  },
  {
   "cell_type": "code",
   "execution_count": 6,
   "id": "35788974",
   "metadata": {
    "ExecuteTime": {
     "end_time": "2023-12-19T08:04:16.424213Z",
     "start_time": "2023-12-19T08:04:15.650869Z"
    }
   },
   "outputs": [
    {
     "name": "stdout",
     "output_type": "stream",
     "text": [
      "1\t468869\t16.622606427527423\t0.9782359679266897\n",
      "2\t138477\t19.84527313343791\t0.9896373056994818\n",
      "3\t75054\t24.95544337546443\t0.9968051118210862\n",
      "4\t51421\t27.626785637274722\t0.9982728842832471\n",
      "5\t38405\t29.242792860618835\t0.9988095238095238\n",
      "6\t29901\t29.72202838379076\t0.9989339019189766\n",
      "7\t24521\t29.885589568786678\t0.9989733059548256\n",
      "8\t20607\t30.094508957987554\t0.9990215264187868\n",
      "9\t17493\t30.14100321519556\t0.999031945788964\n",
      "10\t237008\t30.523732542352406\t0.9991136061263187\n"
     ]
    },
    {
     "data": {
      "image/png": "[encoded data removed]",
      "text/plain": [
       "<Figure size 216x201.6 with 1 Axes>"
      ]
     },
     "metadata": {
      "needs_background": "light"
     },
     "output_type": "display_data"
    }
   ],
   "source": [
    "plt.figure(figsize=(3, 2.8))\n",
    "xs = np.arange(1, 11)\n",
    "xticks = list(map(str, xs))\n",
    "xticks[-1] = \"≥%s\" % xticks[-1]\n",
    "w = 0.6\n",
    "for x in xs:\n",
    "    ys = np.array(data[x])\n",
    "    v = np.median(ys)\n",
    "    q = -10 * np.log10(1 - v)\n",
    "    print(x, len(ys), q, np.median(ys), sep=\"\\t\")\n",
    "    plt.boxplot([ys * 100], positions=[x], widths=w, showfliers=False, showcaps=False)\n",
    "    plt.text(x, 100.2, str(round(q)), ha=\"center\")\n",
    "plt.xlabel(\"Reads per UMI\")\n",
    "plt.ylabel(\"Consensus sequence accuracy (%)\")\n",
    "plt.ylim(90, 101)\n",
    "plt.xlim(0.5, 10.5)\n",
    "plt.xticks(xs, xticks)\n",
    "plt.gca().spines[\"top\"].set_visible(False)\n",
    "plt.gca().spines[\"right\"].set_visible(False)\n",
    "plt.tight_layout()\n",
    "plt.savefig(\"figures/consensus_accuracy.pdf\", dpi=300)"
   ]
  },
  {
   "cell_type": "code",
   "execution_count": null,
   "id": "df4f14df",
   "metadata": {},
   "outputs": [],
   "source": []
  }
 ],
 "metadata": {
  "kernelspec": {
   "display_name": "Python 3",
   "language": "python",
   "name": "python3"
  },
  "language_info": {
   "codemirror_mode": {
    "name": "ipython",
    "version": 3
   },
   "file_extension": ".py",
   "mimetype": "text/x-python",
   "name": "python",
   "nbconvert_exporter": "python",
   "pygments_lexer": "ipython3",
   "version": "3.6.15"
  }
 },
 "nbformat": 4,
 "nbformat_minor": 5
}
