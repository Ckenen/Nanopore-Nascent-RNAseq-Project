{
 "cells": [
  {
   "cell_type": "code",
   "execution_count": 2,
   "id": "2936cfb3",
   "metadata": {
    "ExecuteTime": {
     "end_time": "2023-05-19T06:11:14.412438Z",
     "start_time": "2023-05-19T06:11:13.468703Z"
    }
   },
   "outputs": [],
   "source": [
    "import gzip\n",
    "from collections import Counter\n",
    "import numpy as np\n",
    "import pandas as pd\n",
    "import matplotlib.pyplot as plt\n",
    "from pyBioInfo.IO.File import BedFile"
   ]
  },
  {
   "cell_type": "markdown",
   "id": "994362d3",
   "metadata": {},
   "source": [
    "# Length distribution of pseudogene"
   ]
  },
  {
   "cell_type": "code",
   "execution_count": 4,
   "id": "4aeeb558",
   "metadata": {
    "ExecuteTime": {
     "end_time": "2023-05-19T06:12:20.718556Z",
     "start_time": "2023-05-19T06:12:08.365000Z"
    }
   },
   "outputs": [],
   "source": [
    "bed = \"/home/chenzonggui/species/homo_sapiens/GRCh38.p13/gencode.v39.annotation.transcripts.bed.gz\"\n",
    "transcripts = {t.name: t for t in BedFile(bed)}\n",
    "tsv = \"/home/chenzonggui/species/homo_sapiens/GRCh38.p13/gencode.v39.annotation.tsv\"\n",
    "anno_t = pd.read_csv(tsv, sep=\"\\t\", index_col=0)"
   ]
  },
  {
   "cell_type": "code",
   "execution_count": 21,
   "id": "8cc3413a",
   "metadata": {
    "ExecuteTime": {
     "end_time": "2023-05-19T06:22:57.257150Z",
     "start_time": "2023-05-19T06:22:54.236066Z"
    }
   },
   "outputs": [
    {
     "data": {
      "image/png": "[encoded data removed]",
      "text/plain": [
       "<Figure size 288x144 with 1 Axes>"
      ]
     },
     "metadata": {
      "needs_background": "light"
     },
     "output_type": "display_data"
    },
    {
     "data": {
      "image/png": "[encoded data removed]",
      "text/plain": [
       "<Figure size 288x144 with 1 Axes>"
      ]
     },
     "metadata": {
      "needs_background": "light"
     },
     "output_type": "display_data"
    },
    {
     "data": {
      "image/png": "[encoded data removed]",
      "text/plain": [
       "<Figure size 288x144 with 1 Axes>"
      ]
     },
     "metadata": {
      "needs_background": "light"
     },
     "output_type": "display_data"
    },
    {
     "data": {
      "image/png": "[encoded data removed]",
      "text/plain": [
       "<Figure size 288x144 with 1 Axes>"
      ]
     },
     "metadata": {
      "needs_background": "light"
     },
     "output_type": "display_data"
    }
   ],
   "source": [
    "gtypes = [\"processed_pseudogene\", \"unprocessed_pseudogene\", \"unitary_pseudogene\", \"polymorphic_pseudogene\"]\n",
    "for gtype in gtypes:\n",
    "    d = anno_t[(anno_t[\"GeneType\"] == gtype) & (anno_t[\"Canonical\"])]\n",
    "    vs = []\n",
    "    for tid in d.index:\n",
    "        vs.append(len(transcripts[tid]))\n",
    "    plt.figure(figsize=(4, 2))\n",
    "    plt.title(gtype)\n",
    "    plt.hist(vs, range=(0, 3000), bins=100)\n",
    "    plt.xlabel(\"Length (nt)\")\n",
    "    plt.ylabel(\"No. of isoform\")\n",
    "    plt.tight_layout()\n",
    "    plt.show()\n",
    "    plt.close()"
   ]
  },
  {
   "cell_type": "markdown",
   "id": "7882317c",
   "metadata": {},
   "source": [
    "# NanoNASC-seq"
   ]
  },
  {
   "cell_type": "code",
   "execution_count": 2,
   "id": "0eccbdc5",
   "metadata": {
    "ExecuteTime": {
     "end_time": "2023-05-19T05:42:19.895867Z",
     "start_time": "2023-05-19T05:42:19.350941Z"
    }
   },
   "outputs": [
    {
     "data": {
      "text/plain": [
       "139"
      ]
     },
     "execution_count": 2,
     "metadata": {},
     "output_type": "execute_result"
    }
   ],
   "source": [
    "dat = pd.read_excel(\"../../1_NanoNASCseq/NanoNASCseq_summary_selected_qc.xls\")\n",
    "dat = dat[(dat[\"Strain\"] == \"K562\") & (dat[\"Time\"] == 3) & (dat[\"s4U\"] == 50) & (np.isnan(dat[\"ActD\"]))]\n",
    "len(dat)"
   ]
  },
  {
   "cell_type": "code",
   "execution_count": 5,
   "id": "0650ae77",
   "metadata": {
    "ExecuteTime": {
     "end_time": "2023-05-19T05:43:44.598199Z",
     "start_time": "2023-05-19T05:43:29.139807Z"
    }
   },
   "outputs": [],
   "source": [
    "valid_categories = [\"full-splice_match\", \"incomplete-splice_match\", \"novel_in_catalog\", \"novel_not_in_catalog\"]\n",
    "array = []\n",
    "for run, cell in dat[[\"Run\", \"Cell\"]].values:\n",
    "    path = \"../../1_NanoNASCseq/results/assembly/stringtie_guided.sqanti3/%s/%s/%s_classification.txt\" % (run, cell, cell)\n",
    "    d = pd.read_csv(path, sep=\"\\t\", index_col=0)\n",
    "    d = d[[x in valid_categories for x in d[\"structural_category\"]]]\n",
    "    counter = Counter(d[\"associated_gene\"])\n",
    "    gids = list(sorted(counter.keys()))\n",
    "    counts = [counter[gid] for gid in gids]\n",
    "    s = pd.Series(counts, index=pd.Index(gids, name=\"GeneID\"))\n",
    "    s.name = cell\n",
    "    array.append(s)"
   ]
  },
  {
   "cell_type": "code",
   "execution_count": 6,
   "id": "0e3343b5",
   "metadata": {
    "ExecuteTime": {
     "end_time": "2023-05-19T05:43:57.248230Z",
     "start_time": "2023-05-19T05:43:44.602577Z"
    }
   },
   "outputs": [],
   "source": [
    "array = []\n",
    "for run, cell in dat[[\"Run\", \"Cell\"]].values:\n",
    "    path = \"../../1_NanoNASCseq/results/expression/quantify/1TC/%s/%s/quant_gene.tsv\" % (run, cell)\n",
    "    d = pd.read_csv(path, sep=\"\\t\", index_col=0)\n",
    "    s = d[\"Total\"]\n",
    "    s.name = cell\n",
    "    array.append(s)\n",
    "mtx = pd.concat(array, axis=1, sort=False).fillna(0)"
   ]
  },
  {
   "cell_type": "code",
   "execution_count": 7,
   "id": "77f96d21",
   "metadata": {
    "ExecuteTime": {
     "end_time": "2023-05-19T05:43:57.987209Z",
     "start_time": "2023-05-19T05:43:57.250838Z"
    }
   },
   "outputs": [],
   "source": [
    "s = mtx.sum(axis=1)\n",
    "s.name = \"Counts\"\n",
    "anno_g = pd.read_csv(\"/home/chenzonggui/species/homo_sapiens/GRCh38.p13/gencode.v39.genes.tsv\", sep=\"\\t\", index_col=2)\n",
    "mtx1 = pd.concat([anno_g, s], axis=1)\n",
    "mtx1.index.name = \"GeneID\"\n",
    "mtx2 = mtx1[mtx1[\"Counts\"] > 0]"
   ]
  },
  {
   "cell_type": "code",
   "execution_count": 8,
   "id": "f8a813a2",
   "metadata": {
    "ExecuteTime": {
     "end_time": "2023-05-19T05:43:58.002196Z",
     "start_time": "2023-05-19T05:43:57.989662Z"
    }
   },
   "outputs": [
    {
     "name": "stdout",
     "output_type": "stream",
     "text": [
      "11212\tprotein_coding\n",
      "2069\tlncRNA\n",
      "247\tprocessed_pseudogene\n",
      "216\ttranscribed_unprocessed_pseudogene\n",
      "93\tnan\n",
      "76\ttranscribed_processed_pseudogene\n",
      "71\tTEC\n",
      "63\tunprocessed_pseudogene\n",
      "34\ttranscribed_unitary_pseudogene\n",
      "20\tmisc_RNA\n",
      "7\tpolymorphic_pseudogene\n",
      "4\tunitary_pseudogene\n",
      "3\tsnoRNA\n",
      "2\tTR_C_gene\n",
      "1\tIG_C_gene\n",
      "1\tIG_V_gene\n",
      "1\tIG_C_pseudogene\n",
      "1\ttranslated_unprocessed_pseudogene\n",
      "1\tIG_V_pseudogene\n"
     ]
    }
   ],
   "source": [
    "counter = Counter(mtx2[\"GeneType\"])\n",
    "for k, v in sorted(counter.items(), key=lambda item: item[1], reverse=True):\n",
    "    print(v, k, sep=\"\\t\")"
   ]
  },
  {
   "cell_type": "code",
   "execution_count": 9,
   "id": "287cc1e2",
   "metadata": {
    "ExecuteTime": {
     "end_time": "2023-05-19T05:43:58.008887Z",
     "start_time": "2023-05-19T05:43:58.004103Z"
    }
   },
   "outputs": [
    {
     "name": "stdout",
     "output_type": "stream",
     "text": [
      "247\tprocessed_pseudogene\n",
      "63\tunprocessed_pseudogene\n",
      "4\tunitary_pseudogene\n",
      "7\tpolymorphic_pseudogene\n"
     ]
    }
   ],
   "source": [
    "gtypes = [\"processed_pseudogene\", \"unprocessed_pseudogene\", \"unitary_pseudogene\", \"polymorphic_pseudogene\"]\n",
    "for gt in gtypes:\n",
    "    print(counter[gt], gt, sep=\"\\t\")"
   ]
  },
  {
   "cell_type": "markdown",
   "id": "4d518aae",
   "metadata": {},
   "source": [
    "# SCAN-seq2"
   ]
  },
  {
   "cell_type": "code",
   "execution_count": 2,
   "id": "198cb801",
   "metadata": {
    "ExecuteTime": {
     "end_time": "2023-05-19T05:36:51.398357Z",
     "start_time": "2023-05-19T05:36:49.703052Z"
    }
   },
   "outputs": [
    {
     "name": "stdout",
     "output_type": "stream",
     "text": [
      "48\n"
     ]
    }
   ],
   "source": [
    "table = pd.read_excel(\"../../A2_GSE203561_SCAN-seq2/data/Supplementary_Table_S1_Summary_of_sequenced_cells.xlsx\")\n",
    "dat = table[(table[\"Library\"] == \"UMI_100\") & (table[\"Organism\"] == \"Human\")]\n",
    "print(len(dat))"
   ]
  },
  {
   "cell_type": "code",
   "execution_count": 4,
   "id": "bc96eef7",
   "metadata": {
    "ExecuteTime": {
     "end_time": "2023-05-19T05:37:14.267796Z",
     "start_time": "2023-05-19T05:37:01.609999Z"
    }
   },
   "outputs": [],
   "source": [
    "valid_categories = [\"full-splice_match\", \"incomplete-splice_match\", \"novel_in_catalog\", \"novel_not_in_catalog\"]\n",
    "array = []\n",
    "for run, cell in dat[[\"Library\", \"Rename\"]].values:\n",
    "    path = \"../../A2_GSE203561_SCAN-seq2/results/assembly/sqanti3/%s/%s/%s_classification.txt.gz\" % (run, cell, cell)\n",
    "    d = pd.read_csv(gzip.open(path, \"rt\"), sep=\"\\t\", index_col=0)\n",
    "    d = d[[x in valid_categories for x in d[\"structural_category\"]]]\n",
    "    counter = Counter(d[\"associated_gene\"])\n",
    "    gids = list(sorted(counter.keys()))\n",
    "    counts = [counter[gid] for gid in gids]\n",
    "    s = pd.Series(counts, index=pd.Index(gids, name=\"GeneID\"))\n",
    "    s.name = cell\n",
    "    array.append(s)"
   ]
  },
  {
   "cell_type": "code",
   "execution_count": 5,
   "id": "2b9dace1",
   "metadata": {
    "ExecuteTime": {
     "end_time": "2023-05-19T05:37:15.446877Z",
     "start_time": "2023-05-19T05:37:14.271309Z"
    }
   },
   "outputs": [],
   "source": [
    "mtx = pd.concat(array, axis=1).fillna(0)\n",
    "mtx.index.name = \"GeneID\"\n",
    "anno_g = pd.read_csv(\"/home/chenzonggui/species/homo_sapiens/GRCh38.p13/gencode.v39.genes.tsv\", sep=\"\\t\", index_col=2)\n",
    "s = mtx.sum(axis=1)\n",
    "s.name = \"Counts\"\n",
    "mtx1 = pd.concat([anno_g, s], axis=1)\n",
    "mtx1.index.name = \"GeneID\"\n",
    "mtx2 = mtx1[mtx1[\"Counts\"] > 0]"
   ]
  },
  {
   "cell_type": "code",
   "execution_count": 6,
   "id": "322529d6",
   "metadata": {
    "ExecuteTime": {
     "end_time": "2023-05-19T05:37:15.463956Z",
     "start_time": "2023-05-19T05:37:15.449830Z"
    }
   },
   "outputs": [
    {
     "name": "stdout",
     "output_type": "stream",
     "text": [
      "12909\tprotein_coding\n",
      "3089\tlncRNA\n",
      "1404\tprocessed_pseudogene\n",
      "268\ttranscribed_unprocessed_pseudogene\n",
      "165\tTEC\n",
      "164\tnan\n",
      "136\ttranscribed_processed_pseudogene\n",
      "135\tunprocessed_pseudogene\n",
      "56\tmisc_RNA\n",
      "48\ttranscribed_unitary_pseudogene\n",
      "8\tpolymorphic_pseudogene\n",
      "6\tsnoRNA\n",
      "3\tTR_C_gene\n",
      "3\tunitary_pseudogene\n",
      "3\tIG_V_pseudogene\n",
      "2\ttranslated_unprocessed_pseudogene\n",
      "2\tTR_V_gene\n",
      "2\tMt_rRNA\n",
      "2\tIG_V_gene\n",
      "2\tsnRNA\n",
      "2\tTR_V_pseudogene\n",
      "1\tIG_C_pseudogene\n",
      "1\ttranslated_processed_pseudogene\n",
      "1\tribozyme\n",
      "1\tscaRNA\n",
      "1\tpseudogene\n"
     ]
    }
   ],
   "source": [
    "counter = Counter(mtx2[\"GeneType\"])\n",
    "for k, v in sorted(counter.items(), key=lambda item: item[1], reverse=True):\n",
    "    print(v, k, sep=\"\\t\")"
   ]
  },
  {
   "cell_type": "code",
   "execution_count": 7,
   "id": "5b689fda",
   "metadata": {
    "ExecuteTime": {
     "end_time": "2023-05-19T05:37:40.372012Z",
     "start_time": "2023-05-19T05:37:40.362465Z"
    }
   },
   "outputs": [
    {
     "name": "stdout",
     "output_type": "stream",
     "text": [
      "1404\tprocessed_pseudogene\n",
      "135\tunprocessed_pseudogene\n",
      "3\tunitary_pseudogene\n",
      "8\tpolymorphic_pseudogene\n"
     ]
    }
   ],
   "source": [
    "gtypes = [\"processed_pseudogene\", \"unprocessed_pseudogene\", \"unitary_pseudogene\", \"polymorphic_pseudogene\"]\n",
    "for gt in gtypes:\n",
    "    print(counter[gt], gt, sep=\"\\t\")"
   ]
  },
  {
   "cell_type": "code",
   "execution_count": null,
   "id": "b851cc08",
   "metadata": {},
   "outputs": [],
   "source": []
  }
 ],
 "metadata": {
  "kernelspec": {
   "display_name": "Python 3 (ipykernel)",
   "language": "python",
   "name": "python3"
  },
  "language_info": {
   "codemirror_mode": {
    "name": "ipython",
    "version": 3
   },
   "file_extension": ".py",
   "mimetype": "text/x-python",
   "name": "python",
   "nbconvert_exporter": "python",
   "pygments_lexer": "ipython3",
   "version": "3.10.13"
  }
 },
 "nbformat": 4,
 "nbformat_minor": 5
}
