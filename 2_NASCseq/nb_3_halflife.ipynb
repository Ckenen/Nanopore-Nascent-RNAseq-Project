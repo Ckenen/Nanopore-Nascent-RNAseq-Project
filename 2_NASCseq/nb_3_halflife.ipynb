{
 "cells": [
  {
   "cell_type": "code",
   "execution_count": 1,
   "id": "dd055991-a5f9-4746-90b5-0a1a3dca90aa",
   "metadata": {
    "execution": {
     "iopub.execute_input": "2024-05-28T09:52:34.534420Z",
     "iopub.status.busy": "2024-05-28T09:52:34.533661Z",
     "iopub.status.idle": "2024-05-28T09:52:34.932726Z",
     "shell.execute_reply": "2024-05-28T09:52:34.930772Z",
     "shell.execute_reply.started": "2024-05-28T09:52:34.534347Z"
    }
   },
   "outputs": [],
   "source": [
    "import numpy as np\n",
    "import pandas as pd"
   ]
  },
  {
   "cell_type": "markdown",
   "id": "3f5d6a27-194c-4b07-90f2-b90fb1445392",
   "metadata": {},
   "source": [
    "# Estimation of half-life"
   ]
  },
  {
   "cell_type": "code",
   "execution_count": 4,
   "id": "6b300e69-8058-4a5d-b189-9c8e27b03006",
   "metadata": {
    "execution": {
     "iopub.execute_input": "2024-05-28T09:56:31.471555Z",
     "iopub.status.busy": "2024-05-28T09:56:31.470587Z",
     "iopub.status.idle": "2024-05-28T09:56:31.504660Z",
     "shell.execute_reply": "2024-05-28T09:56:31.502383Z",
     "shell.execute_reply.started": "2024-05-28T09:56:31.471470Z"
    }
   },
   "outputs": [],
   "source": [
    "dat = pd.read_csv(\"reports/NASCseq_Summary.tsv\", sep=\"\\t\")\n",
    "dat.index = dat[\"Cell\"]\n",
    "data = dict()\n",
    "data[\"NASCseq\"] = dat[[\"2022\" in run for run in dat[\"Run\"]]]\n",
    "data[\"GSE128273\"] = dat[dat[\"Run\"] == \"GSE128273_NASCseq_K562_SE\"]"
   ]
  },
  {
   "cell_type": "code",
   "execution_count": 5,
   "id": "5a6ad9ef-7121-49f2-84e5-1a1053676d32",
   "metadata": {
    "execution": {
     "iopub.execute_input": "2024-05-28T09:56:37.494577Z",
     "iopub.status.busy": "2024-05-28T09:56:37.493731Z",
     "iopub.status.idle": "2024-05-28T09:57:56.258138Z",
     "shell.execute_reply": "2024-05-28T09:57:56.256917Z",
     "shell.execute_reply.started": "2024-05-28T09:56:37.494502Z"
    }
   },
   "outputs": [
    {
     "name": "stdout",
     "output_type": "stream",
     "text": [
      "Name: NASCseq, Cells: 38\n",
      "Filtered cells: 29\n",
      "Name: GSE128273, Cells: 80\n",
      "Filtered cells: 61\n"
     ]
    }
   ],
   "source": [
    "def get_halflife(total, nascent):\n",
    "    if total == 0:\n",
    "        T = np.nan\n",
    "    elif nascent == 0:\n",
    "        T = np.inf\n",
    "    elif total == nascent:\n",
    "        T = 0\n",
    "    else:\n",
    "        ntr = nascent / total\n",
    "        T = -3 / np.log2(1 - ntr)\n",
    "    return T\n",
    "\n",
    "for name, d in data.items():\n",
    "    d = d[(d[\"s4U\"] == 50) & (d[\"Time\"] == 3)]\n",
    "    print(\"Name: %s, Cells: %d\" % (name, len(d)))\n",
    "    d = d[(d[\"Stranded.Reads\"] >= 500000) & (d[\"TC.Ratio\"] > 0.008)]\n",
    "    print(\"Filtered cells: %d\" % len(d))\n",
    "\n",
    "    ref = None\n",
    "    for run, cell in d[[\"Run\", \"Cell\"]].values:\n",
    "        path = \"results/expression/fpkm/%s/%s.tsv\" % (run, cell)\n",
    "        # print(path)\n",
    "        m = pd.read_csv(path, sep=\"\\t\", index_col=0)\n",
    "        if ref is None:\n",
    "            ref = m.copy()\n",
    "        else:\n",
    "            for c in [\"Count\", \"Count.Exists\", \"Count.Nascent\", \"LibSize\"]:\n",
    "                ref[c] = ref[c] + m[c]\n",
    "    m = ref\n",
    "    m[\"FPKM\"] = m[\"Count\"] * 1e9 / m[\"Length\"] / m[\"LibSize\"]\n",
    "    m[\"FPKM.Exists\"] = m[\"Count.Exists\"] * 1e9 / m[\"Length\"] / m[\"LibSize\"]\n",
    "    m[\"FPKM.Nascent\"] = m[\"Count.Nascent\"] * 1e9 / m[\"Length\"] / m[\"LibSize\"]\n",
    "    m[\"NTR\"] = m[\"Count.Nascent\"] / m[\"Count\"]\n",
    "    m[\"T\"] = [get_halflife(total, nascent) for total, nascent in ref[[\"Count\", \"Count.Nascent\"]].values]\n",
    "    m.to_csv(\"reports/halflife_%s_K562_50uM_3h.tsv\" % name, sep=\"\\t\")"
   ]
  },
  {
   "cell_type": "code",
   "execution_count": 6,
   "id": "41db4b6d-13c4-4867-9eb2-7fd2fe21153a",
   "metadata": {
    "execution": {
     "iopub.execute_input": "2024-05-28T09:58:38.986769Z",
     "iopub.status.busy": "2024-05-28T09:58:38.985937Z",
     "iopub.status.idle": "2024-05-28T09:58:40.834146Z",
     "shell.execute_reply": "2024-05-28T09:58:40.833168Z",
     "shell.execute_reply.started": "2024-05-28T09:58:38.986692Z"
    }
   },
   "outputs": [
    {
     "name": "stdout",
     "output_type": "stream",
     "text": [
      "Name: NASCseq\n",
      "Gene\tTotal\tNascent\tNTR\n",
      "--------------------------------------------------------------------------------\n",
      "MYC\t1366\t1178\t0.862371888726208\n",
      "PDLIM5\t2528\t642\t0.25395569620253167\n",
      "GAPDH\t120361\t11573\t0.09615240817208232\n",
      "--------------------------------------------------------------------------------\n",
      "Name: GSE128273\n",
      "Gene\tTotal\tNascent\tNTR\n",
      "--------------------------------------------------------------------------------\n",
      "MYC\t3926\t2765\t0.7042791645440653\n",
      "PDLIM5\t3600\t815\t0.2263888888888889\n",
      "GAPDH\t67616\t4036\t0.059690014197823\n",
      "--------------------------------------------------------------------------------\n"
     ]
    }
   ],
   "source": [
    "tids = [\"ENST00000652288.1\", \"ENST00000317968.9\", \"ENST00000229239.10\"]\n",
    "gnames = [\"MYC\", \"PDLIM5\", \"GAPDH\"]\n",
    "\n",
    "for name in data:\n",
    "    print(\"Name:\", name)\n",
    "    path = \"reports/halflife_%s_K562_50uM_3h.tsv\" % name\n",
    "    d = pd.read_csv(path, sep=\"\\t\")\n",
    "    print(\"Gene\\tTotal\\tNascent\\tNTR\")\n",
    "    print(\"-\" * 80)\n",
    "    for tid, gname in zip(tids, gnames):\n",
    "        d1 = d[d[\"TranscriptID\"] == tid]\n",
    "        v1 = d1[\"Count\"].values[0]\n",
    "        v2 = d1[\"Count.Nascent\"].values[0]\n",
    "        print(gname, v1, v2, v2 / v1, sep=\"\\t\")\n",
    "    print(\"-\" * 80)"
   ]
  },
  {
   "cell_type": "code",
   "execution_count": null,
   "id": "1ecf3fa4-61e9-4852-bd31-08557bf57d1e",
   "metadata": {},
   "outputs": [],
   "source": []
  }
 ],
 "metadata": {
  "kernelspec": {
   "display_name": "Python 3 (ipykernel)",
   "language": "python",
   "name": "python3"
  },
  "language_info": {
   "codemirror_mode": {
    "name": "ipython",
    "version": 3
   },
   "file_extension": ".py",
   "mimetype": "text/x-python",
   "name": "python",
   "nbconvert_exporter": "python",
   "pygments_lexer": "ipython3",
   "version": "3.10.13"
  }
 },
 "nbformat": 4,
 "nbformat_minor": 5
}
