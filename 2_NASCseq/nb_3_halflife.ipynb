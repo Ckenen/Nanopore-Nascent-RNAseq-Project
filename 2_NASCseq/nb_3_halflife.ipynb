{
 "cells": [
  {
   "cell_type": "code",
   "execution_count": 2,
   "id": "dd055991-a5f9-4746-90b5-0a1a3dca90aa",
   "metadata": {
    "execution": {
     "iopub.execute_input": "2024-06-03T05:57:22.111698Z",
     "iopub.status.busy": "2024-06-03T05:57:22.110866Z",
     "iopub.status.idle": "2024-06-03T05:57:26.354329Z",
     "shell.execute_reply": "2024-06-03T05:57:26.352099Z",
     "shell.execute_reply.started": "2024-06-03T05:57:22.111628Z"
    }
   },
   "outputs": [],
   "source": [
    "import numpy as np\n",
    "import pandas as pd"
   ]
  },
  {
   "cell_type": "markdown",
   "id": "3f5d6a27-194c-4b07-90f2-b90fb1445392",
   "metadata": {},
   "source": [
    "# Estimation of half-life"
   ]
  },
  {
   "cell_type": "code",
   "execution_count": 22,
   "id": "6b300e69-8058-4a5d-b189-9c8e27b03006",
   "metadata": {
    "execution": {
     "iopub.execute_input": "2024-06-03T07:37:47.733295Z",
     "iopub.status.busy": "2024-06-03T07:37:47.732573Z",
     "iopub.status.idle": "2024-06-03T07:37:47.779327Z",
     "shell.execute_reply": "2024-06-03T07:37:47.777341Z",
     "shell.execute_reply.started": "2024-06-03T07:37:47.733216Z"
    }
   },
   "outputs": [],
   "source": [
    "dat = pd.read_csv(\"reports/NASCseq_Summary.tsv\", sep=\"\\t\")\n",
    "dat.index = dat[\"Cell\"]\n",
    "data = dict()\n",
    "data[\"NASCseq\"] = dat[[\"2022\" in run for run in dat[\"Run\"]]]\n",
    "data[\"GSE128273\"] = dat[dat[\"Run\"] == \"GSE128273_NASCseq_K562_SE\"]"
   ]
  },
  {
   "cell_type": "code",
   "execution_count": 23,
   "id": "5a6ad9ef-7121-49f2-84e5-1a1053676d32",
   "metadata": {
    "execution": {
     "iopub.execute_input": "2024-06-03T07:37:48.552813Z",
     "iopub.status.busy": "2024-06-03T07:37:48.552287Z",
     "iopub.status.idle": "2024-06-03T07:39:32.236228Z",
     "shell.execute_reply": "2024-06-03T07:39:32.233868Z",
     "shell.execute_reply.started": "2024-06-03T07:37:48.552773Z"
    }
   },
   "outputs": [
    {
     "name": "stdout",
     "output_type": "stream",
     "text": [
      "Name: NASCseq, Cells: 38\n",
      "Filtered cells: 33\n",
      "Name: GSE128273, Cells: 80\n",
      "Filtered cells: 68\n"
     ]
    }
   ],
   "source": [
    "def get_halflife(total, nascent):\n",
    "    if total == 0:\n",
    "        T = np.nan\n",
    "    elif nascent == 0:\n",
    "        T = np.inf\n",
    "    elif total == nascent:\n",
    "        T = 0\n",
    "    else:\n",
    "        ntr = nascent / total\n",
    "        T = -3 / np.log2(1 - ntr)\n",
    "    return T\n",
    "\n",
    "for name, d in data.items():\n",
    "    d = d[(d[\"s4U\"] == 50) & (d[\"Time\"] == 3)]\n",
    "    print(\"Name: %s, Cells: %d\" % (name, len(d)))\n",
    "    d = d[(d[\"Stranded.Reads\"] >= 500000) & (d[\"TC.Ratio\"] > 0.005)]\n",
    "    print(\"Filtered cells: %d\" % len(d))\n",
    "\n",
    "    ref = None\n",
    "    for run, cell in d[[\"Run\", \"Cell\"]].values:\n",
    "        path = \"results/expression/fpkm/%s/%s.tsv\" % (run, cell)\n",
    "        # print(path)\n",
    "        m = pd.read_csv(path, sep=\"\\t\", index_col=0)\n",
    "        if ref is None:\n",
    "            ref = m.copy()\n",
    "        else:\n",
    "            for c in [\"Count\", \"Count.Exists\", \"Count.Nascent\", \"LibSize\"]:\n",
    "                ref[c] = ref[c] + m[c]\n",
    "    m = ref\n",
    "    m[\"FPKM\"] = m[\"Count\"] * 1e9 / m[\"Length\"] / m[\"LibSize\"]\n",
    "    m[\"FPKM.Exists\"] = m[\"Count.Exists\"] * 1e9 / m[\"Length\"] / m[\"LibSize\"]\n",
    "    m[\"FPKM.Nascent\"] = m[\"Count.Nascent\"] * 1e9 / m[\"Length\"] / m[\"LibSize\"]\n",
    "    m[\"NTR\"] = m[\"Count.Nascent\"] / m[\"Count\"]\n",
    "    m[\"T\"] = [get_halflife(total, nascent) for total, nascent in ref[[\"Count\", \"Count.Nascent\"]].values]\n",
    "    m.to_csv(\"reports/halflife_%s_K562_50uM_3h.tsv\" % name, sep=\"\\t\")"
   ]
  },
  {
   "cell_type": "code",
   "execution_count": 24,
   "id": "41db4b6d-13c4-4867-9eb2-7fd2fe21153a",
   "metadata": {
    "execution": {
     "iopub.execute_input": "2024-06-03T07:39:32.240127Z",
     "iopub.status.busy": "2024-06-03T07:39:32.239684Z",
     "iopub.status.idle": "2024-06-03T07:39:34.224507Z",
     "shell.execute_reply": "2024-06-03T07:39:34.223502Z",
     "shell.execute_reply.started": "2024-06-03T07:39:32.240079Z"
    }
   },
   "outputs": [
    {
     "name": "stdout",
     "output_type": "stream",
     "text": [
      "Name: NASCseq\n",
      "Gene\tTotal\tNascent\tNTR\n",
      "--------------------------------------------------------------------------------\n",
      "MYC\t1368\t1180\t0.8625730994152047\n",
      "PDLIM5\t2985\t694\t0.2324958123953099\n",
      "GAPDH\t138559\t12542\t0.09051739692116716\n",
      "--------------------------------------------------------------------------------\n",
      "Name: GSE128273\n",
      "Gene\tTotal\tNascent\tNTR\n",
      "--------------------------------------------------------------------------------\n",
      "MYC\t3935\t2769\t0.7036848792884371\n",
      "PDLIM5\t3771\t818\t0.21691858923362503\n",
      "GAPDH\t74864\t4322\t0.057731352853173754\n",
      "--------------------------------------------------------------------------------\n"
     ]
    }
   ],
   "source": [
    "tids = [\"ENST00000652288.1\", \"ENST00000317968.9\", \"ENST00000229239.10\"]\n",
    "gnames = [\"MYC\", \"PDLIM5\", \"GAPDH\"]\n",
    "\n",
    "for name in data:\n",
    "    print(\"Name:\", name)\n",
    "    path = \"reports/halflife_%s_K562_50uM_3h.tsv\" % name\n",
    "    d = pd.read_csv(path, sep=\"\\t\")\n",
    "    print(\"Gene\\tTotal\\tNascent\\tNTR\")\n",
    "    print(\"-\" * 80)\n",
    "    for tid, gname in zip(tids, gnames):\n",
    "        d1 = d[d[\"TranscriptID\"] == tid]\n",
    "        v1 = d1[\"Count\"].values[0]\n",
    "        v2 = d1[\"Count.Nascent\"].values[0]\n",
    "        print(gname, v1, v2, v2 / v1, sep=\"\\t\")\n",
    "    print(\"-\" * 80)"
   ]
  },
  {
   "cell_type": "code",
   "execution_count": null,
   "id": "1ecf3fa4-61e9-4852-bd31-08557bf57d1e",
   "metadata": {},
   "outputs": [],
   "source": []
  }
 ],
 "metadata": {
  "kernelspec": {
   "display_name": "Python 3 (ipykernel)",
   "language": "python",
   "name": "python3"
  },
  "language_info": {
   "codemirror_mode": {
    "name": "ipython",
    "version": 3
   },
   "file_extension": ".py",
   "mimetype": "text/x-python",
   "name": "python",
   "nbconvert_exporter": "python",
   "pygments_lexer": "ipython3",
   "version": "3.10.13"
  }
 },
 "nbformat": 4,
 "nbformat_minor": 5
}
