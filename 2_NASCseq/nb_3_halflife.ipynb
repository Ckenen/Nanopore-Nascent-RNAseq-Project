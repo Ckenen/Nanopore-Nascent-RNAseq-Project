{
 "cells": [
  {
   "cell_type": "code",
   "execution_count": 16,
   "id": "dd055991-a5f9-4746-90b5-0a1a3dca90aa",
   "metadata": {
    "execution": {
     "iopub.execute_input": "2024-04-14T06:15:30.233211Z",
     "iopub.status.busy": "2024-04-14T06:15:30.229708Z",
     "iopub.status.idle": "2024-04-14T06:15:30.253022Z",
     "shell.execute_reply": "2024-04-14T06:15:30.252507Z",
     "shell.execute_reply.started": "2024-04-14T06:15:30.233179Z"
    }
   },
   "outputs": [],
   "source": [
    "import numpy as np\n",
    "import pandas as pd"
   ]
  },
  {
   "cell_type": "markdown",
   "id": "3f5d6a27-194c-4b07-90f2-b90fb1445392",
   "metadata": {},
   "source": [
    "# Calculate half-life"
   ]
  },
  {
   "cell_type": "code",
   "execution_count": 17,
   "id": "6b300e69-8058-4a5d-b189-9c8e27b03006",
   "metadata": {
    "execution": {
     "iopub.execute_input": "2024-04-14T06:15:30.381168Z",
     "iopub.status.busy": "2024-04-14T06:15:30.380875Z",
     "iopub.status.idle": "2024-04-14T06:15:31.491478Z",
     "shell.execute_reply": "2024-04-14T06:15:31.488568Z",
     "shell.execute_reply.started": "2024-04-14T06:15:30.381149Z"
    }
   },
   "outputs": [],
   "source": [
    "dat = pd.read_csv(\"reports/NASCseq_Summary.csv\")\n",
    "dat.index = dat[\"Cell\"]\n",
    "data = dict()\n",
    "data[\"NASC-seq\"] = dat[[\"2022\" in run for run in dat[\"Run\"]]]\n",
    "data[\"GSE128273\"] = dat[dat[\"Run\"] == \"GSE128273_NASCseq_K562_SE\"]"
   ]
  },
  {
   "cell_type": "code",
   "execution_count": 27,
   "id": "5a6ad9ef-7121-49f2-84e5-1a1053676d32",
   "metadata": {
    "execution": {
     "iopub.execute_input": "2024-04-14T06:42:47.873078Z",
     "iopub.status.busy": "2024-04-14T06:42:47.872273Z",
     "iopub.status.idle": "2024-04-14T06:43:55.739388Z",
     "shell.execute_reply": "2024-04-14T06:43:55.737445Z",
     "shell.execute_reply.started": "2024-04-14T06:42:47.873055Z"
    }
   },
   "outputs": [
    {
     "name": "stdout",
     "output_type": "stream",
     "text": [
      "Name: NASC-seq, Cells: 38\n",
      "Filtered cells: 29\n",
      "Name: GSE128273, Cells: 80\n",
      "Filtered cells: 61\n"
     ]
    }
   ],
   "source": [
    "for name, d in data.items():\n",
    "    d = d[(d[\"s4U\"] == 50) & (d[\"Time\"] == 3)]\n",
    "    print(\"Name: %s, Cells: %d\" % (name, len(d)))\n",
    "    d = d[(d[\"Stranded.Reads\"] >= 500000) & (d[\"TC.Ratio\"] > 0.008)]\n",
    "    print(\"Filtered cells: %d\" % len(d))\n",
    "\n",
    "    ref = None\n",
    "    for run, cell in d[[\"Run\", \"Cell\"]].values:\n",
    "        path = \"results/expression/fpkm/%s/%s.tsv\" % (run, cell)\n",
    "        # print(path)\n",
    "        m = pd.read_csv(path, sep=\"\\t\", index_col=0)\n",
    "        if ref is None:\n",
    "            ref = m.copy()\n",
    "        else:\n",
    "            for c in [\"Count\", \"Count.Exists\", \"Count.Nascent\", \"LibSize\"]:\n",
    "                ref[c] = ref[c] + m[c]\n",
    "    m = ref\n",
    "    m[\"FPKM\"] = m[\"Count\"] * 1e9 / m[\"Length\"] / m[\"LibSize\"]\n",
    "    m[\"FPKM.Exists\"] = m[\"Count.Exists\"] * 1e9 / m[\"Length\"] / m[\"LibSize\"]\n",
    "    m[\"FPKM.Nascent\"] = m[\"Count.Nascent\"] * 1e9 / m[\"Length\"] / m[\"LibSize\"]\n",
    "\n",
    "    Ts = []\n",
    "    for total, nascent in ref[[\"Count\", \"Count.Nascent\"]].values:\n",
    "        if total == 0:\n",
    "            T = np.nan\n",
    "        elif nascent == 0:\n",
    "            T = np.inf\n",
    "        elif total == nascent:\n",
    "            T = 0\n",
    "        else:\n",
    "            ntr = nascent / total\n",
    "            T = -3 / np.log2(1 - ntr)\n",
    "        Ts.append(T)\n",
    "    m[\"NTR\"] = m[\"Count.Nascent\"] / m[\"Count\"]\n",
    "    m[\"T\"] = Ts\n",
    "\n",
    "    m.to_csv(\"results/halflife/%s_K562_50uM_3h.tsv\" % name)"
   ]
  },
  {
   "cell_type": "code",
   "execution_count": 32,
   "id": "41db4b6d-13c4-4867-9eb2-7fd2fe21153a",
   "metadata": {
    "execution": {
     "iopub.execute_input": "2024-04-14T06:47:36.194338Z",
     "iopub.status.busy": "2024-04-14T06:47:36.193796Z",
     "iopub.status.idle": "2024-04-14T06:47:38.408627Z",
     "shell.execute_reply": "2024-04-14T06:47:38.405466Z",
     "shell.execute_reply.started": "2024-04-14T06:47:36.194315Z"
    }
   },
   "outputs": [
    {
     "name": "stdout",
     "output_type": "stream",
     "text": [
      "Name: NASC-seq\n",
      "Gene\tTotal\tNascent\tNTR\n",
      "--------------------------------------------------------------------------------\n",
      "MYC\t1366\t1178\t0.862371888726208\n",
      "PDLIM5\t2528\t642\t0.25395569620253167\n",
      "GAPDH\t120364\t11574\t0.0961583197633844\n",
      "--------------------------------------------------------------------------------\n",
      "Name: GSE128273\n",
      "Gene\tTotal\tNascent\tNTR\n",
      "--------------------------------------------------------------------------------\n",
      "MYC\t3926\t2764\t0.7040244523688233\n",
      "PDLIM5\t3601\t815\t0.22632602054984727\n",
      "GAPDH\t67625\t4018\t0.05941589648798521\n",
      "--------------------------------------------------------------------------------\n"
     ]
    }
   ],
   "source": [
    "tids = [\"ENST00000652288.1\", \"ENST00000317968.9\", \"ENST00000229239.10\"]\n",
    "gnames = [\"MYC\", \"PDLIM5\", \"GAPDH\"]\n",
    "\n",
    "for name in data:\n",
    "    print(\"Name:\", name)\n",
    "    path = \"results/halflife/%s_K562_50uM_3h.tsv\" % name\n",
    "    d = pd.read_csv(path)\n",
    "    print(\"Gene\\tTotal\\tNascent\\tNTR\")\n",
    "    print(\"-\" * 80)\n",
    "    for tid, gname in zip(tids, gnames):\n",
    "        d1 = d[d[\"TranscriptID\"] == tid]\n",
    "        v1 = d1[\"Count\"].values[0]\n",
    "        v2 = d1[\"Count.Nascent\"].values[0]\n",
    "        print(gname, v1, v2, v2 / v1, sep=\"\\t\")\n",
    "    print(\"-\" * 80)"
   ]
  }
 ],
 "metadata": {
  "kernelspec": {
   "display_name": "Python 3 (ipykernel)",
   "language": "python",
   "name": "python3"
  },
  "language_info": {
   "codemirror_mode": {
    "name": "ipython",
    "version": 3
   },
   "file_extension": ".py",
   "mimetype": "text/x-python",
   "name": "python",
   "nbconvert_exporter": "python",
   "pygments_lexer": "ipython3",
   "version": "3.10.13"
  }
 },
 "nbformat": 4,
 "nbformat_minor": 5
}
