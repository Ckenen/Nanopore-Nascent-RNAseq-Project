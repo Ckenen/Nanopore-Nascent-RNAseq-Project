{
 "cells": [
  {
   "cell_type": "code",
   "execution_count": 1,
   "id": "66098971-730f-4abb-84a4-94328aff5f12",
   "metadata": {
    "execution": {
     "iopub.execute_input": "2024-04-14T06:13:08.873176Z",
     "iopub.status.busy": "2024-04-14T06:13:08.873029Z",
     "iopub.status.idle": "2024-04-14T06:13:21.344822Z",
     "shell.execute_reply": "2024-04-14T06:13:21.334559Z",
     "shell.execute_reply.started": "2024-04-14T06:13:08.873160Z"
    }
   },
   "outputs": [],
   "source": [
    "import os\n",
    "from collections import Counter\n",
    "import numpy as np\n",
    "import pandas as pd"
   ]
  },
  {
   "cell_type": "markdown",
   "id": "da424d90-3c6b-4fd5-89ad-50d3ecf29767",
   "metadata": {},
   "source": [
    "# Report summary"
   ]
  },
  {
   "cell_type": "code",
   "execution_count": 2,
   "id": "97751a15-f88d-4fa8-b27f-6e526cf062f0",
   "metadata": {
    "execution": {
     "iopub.execute_input": "2024-04-14T06:13:21.364612Z",
     "iopub.status.busy": "2024-04-14T06:13:21.364436Z",
     "iopub.status.idle": "2024-04-14T06:13:27.345553Z",
     "shell.execute_reply": "2024-04-14T06:13:27.344182Z",
     "shell.execute_reply.started": "2024-04-14T06:13:21.364593Z"
    }
   },
   "outputs": [
    {
     "name": "stdout",
     "output_type": "stream",
     "text": [
      "s4U\tTime\tCount\n",
      "0.0\t3.0\t39\n",
      "50.0\t2.0\t10\n",
      "50.0\t3.0\t38\n",
      "100.0\t2.0\t10\n",
      "100.0\t3.0\t12\n",
      "200.0\t2.0\t12\n",
      "200.0\t3.0\t9\n",
      "500.0\t2.0\t13\n"
     ]
    }
   ],
   "source": [
    "dat = pd.read_excel(\"data/NASCseq.xlsx\")\n",
    "dat = dat[dat[\"Method\"] == \"NASC-seq\"]\n",
    "dat = dat[[str(run).startswith(\"2022\") for run in dat[\"Run\"]]]\n",
    "counter = Counter([tuple(vs) for vs in dat[[\"s4U\", \"Time\"]].values])\n",
    "print(\"s4U\\tTime\\tCount\")\n",
    "for (s4u, time), count in sorted(counter.items()):\n",
    "    print(s4u, time, count, sep=\"\\t\")"
   ]
  },
  {
   "cell_type": "code",
   "execution_count": 3,
   "id": "0b0bab73-23c2-451a-8de4-29bc8ea5fff3",
   "metadata": {
    "execution": {
     "iopub.execute_input": "2024-04-14T06:13:27.357523Z",
     "iopub.status.busy": "2024-04-14T06:13:27.357229Z",
     "iopub.status.idle": "2024-04-14T06:13:27.430117Z",
     "shell.execute_reply": "2024-04-14T06:13:27.429701Z",
     "shell.execute_reply.started": "2024-04-14T06:13:27.357504Z"
    }
   },
   "outputs": [],
   "source": [
    "def str2int(s):\n",
    "    return int(s.replace(\",\", \"\"))\n",
    "    \n",
    "dat = pd.read_excel(\"data/NASCseq.xlsx\")"
   ]
  },
  {
   "cell_type": "code",
   "execution_count": 4,
   "id": "776cc795-307f-4310-8606-073ba3d14662",
   "metadata": {
    "execution": {
     "iopub.execute_input": "2024-04-14T06:13:27.432136Z",
     "iopub.status.busy": "2024-04-14T06:13:27.431988Z",
     "iopub.status.idle": "2024-04-14T06:13:39.208499Z",
     "shell.execute_reply": "2024-04-14T06:13:39.195587Z",
     "shell.execute_reply.started": "2024-04-14T06:13:27.432120Z"
    }
   },
   "outputs": [],
   "source": [
    "# trimming\n",
    "vs1 = [] # total reads\n",
    "vs2 = [] # trimmed reads\n",
    "for run, cell in dat[[\"Run\", \"Cell\"]].values:\n",
    "    total_reads = 0\n",
    "    trimmed_reads = 0\n",
    "    path = \"results/prepare/cutadapt/%s/%s.log\" % (run, cell)\n",
    "    if os.path.exists(path):\n",
    "        with open(path) as f:\n",
    "            for line in f:\n",
    "                if \"Total reads processed:\" in line or \"Total read pairs processed:\" in line:\n",
    "                    total_reads = str2int(line.strip(\"\\n\").split()[-1])\n",
    "                if \"Reads written (passing filters):\" in line or \"Pairs written (passing filters):\" in line:\n",
    "                    trimmed_reads = str2int(line.strip(\"\\n\").split()[-2])\n",
    "    vs1.append(total_reads)\n",
    "    vs2.append(trimmed_reads)\n",
    "dat[\"Total.Reads\"] = vs1\n",
    "dat[\"Trimmed.Reads\"] = vs2\n",
    "dat[\"Trimmed.Reads.Ratio\"] = dat[\"Trimmed.Reads\"] / dat[\"Total.Reads\"]"
   ]
  },
  {
   "cell_type": "code",
   "execution_count": 5,
   "id": "d107383e-0a72-4743-8f03-722e71c544c8",
   "metadata": {
    "execution": {
     "iopub.execute_input": "2024-04-14T06:13:39.227502Z",
     "iopub.status.busy": "2024-04-14T06:13:39.227152Z",
     "iopub.status.idle": "2024-04-14T06:13:47.259300Z",
     "shell.execute_reply": "2024-04-14T06:13:47.245400Z",
     "shell.execute_reply.started": "2024-04-14T06:13:39.227483Z"
    }
   },
   "outputs": [],
   "source": [
    "# mapping\n",
    "vs1 = [] # reads\n",
    "vs2 = [] # uniq mapped\n",
    "for run, cell in dat[[\"Run\", \"Cell\"]].values:\n",
    "    reads = 0\n",
    "    uniq_mapped = 0\n",
    "    path = \"results/mapping/star/%s/%s/%s.Log.final.out\" % (run, cell, cell)\n",
    "    if os.path.exists(path):\n",
    "        with open(path) as f:\n",
    "            for line in f:\n",
    "                if \"Number of input reads\" in line:\n",
    "                    reads = int(line.strip().split()[-1])\n",
    "                if \"Uniquely mapped reads number\" in line:\n",
    "                    uniq_mapped = int(line.strip().split()[-1])\n",
    "    vs1.append(reads)\n",
    "    vs2.append(uniq_mapped)\n",
    "dat[\"RiboRNA.Ratio\"] = 1 - np.array(vs1) / dat[\"Trimmed.Reads\"]\n",
    "dat[\"Clean.Reads\"] = vs1\n",
    "dat[\"UniqMapped.Reads\"] = vs2\n",
    "dat[\"UniqMapped.Ratio\"] = dat[\"UniqMapped.Reads\"] / dat[\"Clean.Reads\"]"
   ]
  },
  {
   "cell_type": "code",
   "execution_count": 6,
   "id": "51bde957-953d-4578-8e77-5b1f8ba0cb60",
   "metadata": {
    "execution": {
     "iopub.execute_input": "2024-04-14T06:13:47.277578Z",
     "iopub.status.busy": "2024-04-14T06:13:47.277420Z",
     "iopub.status.idle": "2024-04-14T06:13:55.483255Z",
     "shell.execute_reply": "2024-04-14T06:13:55.471034Z",
     "shell.execute_reply.started": "2024-04-14T06:13:47.277554Z"
    }
   },
   "outputs": [],
   "source": [
    "# filtering\n",
    "vs = []\n",
    "for run, cell, layout in dat[[\"Run\", \"Cell\", \"Layout\"]].values:\n",
    "    reads = 0\n",
    "    path = \"results/mapping/filtered/%s/%s.flagstat\" % (run, cell)\n",
    "    if os.path.exists(path):\n",
    "        for line in open(path):\n",
    "            if \"in total\" in line:\n",
    "                reads = int(line.split()[0])\n",
    "    if layout == \"PE\":\n",
    "        reads = int(reads / 2)\n",
    "    vs.append(reads)\n",
    "dat[\"Filtered.Reads\"] = vs"
   ]
  },
  {
   "cell_type": "code",
   "execution_count": 7,
   "id": "813f50a8-8e10-4620-ad8b-a109913baa18",
   "metadata": {
    "execution": {
     "iopub.execute_input": "2024-04-14T06:13:55.499082Z",
     "iopub.status.busy": "2024-04-14T06:13:55.498930Z",
     "iopub.status.idle": "2024-04-14T06:14:03.600809Z",
     "shell.execute_reply": "2024-04-14T06:14:03.588916Z",
     "shell.execute_reply.started": "2024-04-14T06:13:55.499064Z"
    }
   },
   "outputs": [],
   "source": [
    "# mark duplicates\n",
    "vs = []\n",
    "for run, cell, layout in dat[[\"Run\", \"Cell\", \"Layout\"]].values:\n",
    "    reads = 0\n",
    "    path = \"results/mapping/marked_duplicates/%s/%s.flagstat\" % (run, cell)\n",
    "    if os.path.exists(path):\n",
    "        for line in open(path):\n",
    "            if \"in total\" in line:\n",
    "                reads = int(line.split()[0])\n",
    "    if layout == \"PE\":\n",
    "        reads = int(reads / 2)\n",
    "    vs.append(reads)\n",
    "dat[\"Uniq.Reads\"] = vs\n",
    "dat[\"Uniq.Ratio\"] = dat[\"Uniq.Reads\"] / dat[\"Filtered.Reads\"]"
   ]
  },
  {
   "cell_type": "code",
   "execution_count": 8,
   "id": "8726cffe-2b6e-4143-9b57-bb78ccb4fd20",
   "metadata": {
    "execution": {
     "iopub.execute_input": "2024-04-14T06:14:03.616381Z",
     "iopub.status.busy": "2024-04-14T06:14:03.615989Z",
     "iopub.status.idle": "2024-04-14T06:14:12.224358Z",
     "shell.execute_reply": "2024-04-14T06:14:12.222625Z",
     "shell.execute_reply.started": "2024-04-14T06:14:03.616362Z"
    }
   },
   "outputs": [],
   "source": [
    "# mark strand\n",
    "vs1, vs2, vs3 = [], [], []\n",
    "for run, cell in dat[[\"Run\", \"Cell\"]].values:\n",
    "    # mark strand\n",
    "    pos, neg, strand_perc = 0, 0, 0\n",
    "    path = \"results/mapping/marked_strand/%s/%s.tsv\" % (run, cell)\n",
    "    if os.path.exists(path):\n",
    "        d = pd.read_csv(path, sep=\"\\t\")\n",
    "        vs = d.iloc[0].values\n",
    "        pos, neg = vs[1], vs[2]\n",
    "        strand_perc = np.divide(sum(vs[1:3]), sum(vs[1:5]))\n",
    "    vs1.append(pos)\n",
    "    vs2.append(neg)\n",
    "    vs3.append(strand_perc)\n",
    "dat[\"Stranded.Reads\"] = np.array(vs1) + np.array(vs2)\n",
    "dat[\"Forward\"], dat[\"Reverse\"], dat[\"Stranded.Ratio\"] = vs1, vs2, vs3"
   ]
  },
  {
   "cell_type": "code",
   "execution_count": 9,
   "id": "32f01e9a-f617-47ab-8dc0-c59f252cac07",
   "metadata": {
    "execution": {
     "iopub.execute_input": "2024-04-14T06:14:12.235611Z",
     "iopub.status.busy": "2024-04-14T06:14:12.235216Z",
     "iopub.status.idle": "2024-04-14T06:14:21.300200Z",
     "shell.execute_reply": "2024-04-14T06:14:21.288559Z",
     "shell.execute_reply.started": "2024-04-14T06:14:12.235593Z"
    }
   },
   "outputs": [],
   "source": [
    "# mismatch ratio\n",
    "mtypes = []\n",
    "for b1 in \"ACGT\":\n",
    "    for b2 in \"ACGT\":\n",
    "        if b1 != b2:\n",
    "            mtypes.append(\"%s%s\" % (b1, b2))\n",
    "rows = []\n",
    "for run, cell in dat[[\"Run\", \"Cell\"]].values:\n",
    "    path = \"results/mismatch/ratio/%s/%s.tsv\" % (run, cell)\n",
    "    d = pd.read_csv(path, sep=\"\\t\", index_col=0)\n",
    "    rows.append([d.loc[mt][\"Ratio.NoSNP\"] for mt in mtypes])\n",
    "tmp = pd.DataFrame(rows, columns=[\"%s.Ratio\" % mt for mt in mtypes])\n",
    "for c in tmp.columns:\n",
    "    dat[c] = tmp[c]"
   ]
  },
  {
   "cell_type": "code",
   "execution_count": 10,
   "id": "816d9820-afac-4ef5-b78c-7a9dc24a5bb3",
   "metadata": {
    "execution": {
     "iopub.execute_input": "2024-04-14T06:14:21.317628Z",
     "iopub.status.busy": "2024-04-14T06:14:21.317276Z",
     "iopub.status.idle": "2024-04-14T06:14:29.862120Z",
     "shell.execute_reply": "2024-04-14T06:14:29.853637Z",
     "shell.execute_reply.started": "2024-04-14T06:14:21.317610Z"
    }
   },
   "outputs": [],
   "source": [
    "# genes\n",
    "array = []\n",
    "for run, cell in dat[[\"Run\", \"Cell\"]].values:\n",
    "    path = \"results/expression/genes/%s/%s.tsv\" % (run, cell)\n",
    "    array.append(pd.read_csv(path, sep=\"\\t\"))\n",
    "tmp = pd.concat(array, axis=0, ignore_index=True)\n",
    "for c in tmp.columns:\n",
    "   dat[c] = tmp[c]"
   ]
  },
  {
   "cell_type": "code",
   "execution_count": 11,
   "id": "60b5ce31-3110-4fe3-bad7-bc6fb6f0bac0",
   "metadata": {
    "execution": {
     "iopub.execute_input": "2024-04-14T06:14:29.986119Z",
     "iopub.status.busy": "2024-04-14T06:14:29.985963Z",
     "iopub.status.idle": "2024-04-14T06:14:38.444879Z",
     "shell.execute_reply": "2024-04-14T06:14:38.127072Z",
     "shell.execute_reply.started": "2024-04-14T06:14:29.986102Z"
    },
    "scrolled": true
   },
   "outputs": [],
   "source": [
    "# Pe and Pc\n",
    "array = []\n",
    "for run, cell in dat[[\"Run\", \"Cell\"]].values:\n",
    "    path = \"results/signal2noise/pc/%s/%s.tsv\" % (run, cell)\n",
    "    array.append(pd.read_csv(path, sep=\"\\t\"))\n",
    "tmp = pd.concat(array, axis=0, ignore_index=True)\n",
    "tmp.columns = [\"Pe\", \"Pc\", \"Pc_Pe\"]\n",
    "for c in tmp.columns:\n",
    "    dat[c] = tmp[c]"
   ]
  },
  {
   "cell_type": "code",
   "execution_count": 12,
   "id": "48abdf88-b7b7-4db7-a443-2f11665285ea",
   "metadata": {
    "execution": {
     "iopub.execute_input": "2024-04-14T06:14:38.463367Z",
     "iopub.status.busy": "2024-04-14T06:14:38.463202Z",
     "iopub.status.idle": "2024-04-14T06:14:38.656658Z",
     "shell.execute_reply": "2024-04-14T06:14:38.656009Z",
     "shell.execute_reply.started": "2024-04-14T06:14:38.463350Z"
    }
   },
   "outputs": [],
   "source": [
    "dat.to_csv(\"reports/NASCseq_Summary.csv\", index=False)"
   ]
  }
 ],
 "metadata": {
  "kernelspec": {
   "display_name": "Python 3 (ipykernel)",
   "language": "python",
   "name": "python3"
  },
  "language_info": {
   "codemirror_mode": {
    "name": "ipython",
    "version": 3
   },
   "file_extension": ".py",
   "mimetype": "text/x-python",
   "name": "python",
   "nbconvert_exporter": "python",
   "pygments_lexer": "ipython3",
   "version": "3.10.13"
  }
 },
 "nbformat": 4,
 "nbformat_minor": 5
}
